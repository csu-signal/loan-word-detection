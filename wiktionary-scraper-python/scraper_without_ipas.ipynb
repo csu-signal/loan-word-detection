{
 "cells": [
  {
   "cell_type": "code",
   "execution_count": 2,
   "metadata": {},
   "outputs": [],
   "source": [
    "import json\n",
    "import requests\n",
    "from bs4 import BeautifulSoup\n",
    "import pandas as pd\n",
    "import time\n",
    "import os"
   ]
  },
  {
   "cell_type": "code",
   "execution_count": 7,
   "metadata": {},
   "outputs": [
    {
     "data": {
      "text/plain": [
       "{'Hindi-Persian': 'https://en.m.wiktionary.org/wiki/Category:Hindi_terms_borrowed_from_Persian',\n",
       " 'English-French': 'https://en.m.wiktionary.org/wiki/Category:English_terms_borrowed_from_French'}"
      ]
     },
     "execution_count": 7,
     "metadata": {},
     "output_type": "execute_result"
    }
   ],
   "source": [
    "links = {}\n",
    "\n",
    "with open('../language-pairs.json', 'r') as f:\n",
    "    pairs = json.loads(f.read())\n",
    "    \n",
    "    for pair in pairs:\n",
    "        links[pair] = pairs[pair]['wiki']\n",
    "\n",
    "links"
   ]
  },
  {
   "cell_type": "code",
   "execution_count": 15,
   "metadata": {},
   "outputs": [],
   "source": [
    "base_link = \"https://en.m.wiktionary.org\"\n"
   ]
  },
  {
   "cell_type": "code",
   "execution_count": 16,
   "metadata": {},
   "outputs": [],
   "source": [
    "def get_words_ipas(dest_lang, src_lang, link, page_num):\n",
    "    borrowed_words = []\n",
    "\n",
    "    try:\n",
    "        # get list of words\n",
    "        page = requests.get(link)\n",
    "        soup = BeautifulSoup(page.content, 'html.parser')\n",
    "        res = soup.find_all(\"div\", class_=\"mw-category-group\")\n",
    "\n",
    "        for i, r in enumerate(res):\n",
    "            if i > 0:\n",
    "                list_words = r.find_all('a')\n",
    "                src_word = None\n",
    "\n",
    "                for borrowed_word in list_words:\n",
    "\n",
    "                    # for each loaned word get the wiki link and extract ipas for it.\n",
    "                    borrowed_ipas = []\n",
    "                    ipa_page = requests.get(base_link + borrowed_word['href'])\n",
    "                    ipa_soup = BeautifulSoup(ipa_page.content, 'html.parser')\n",
    "                    \n",
    "                    # for ipa in ipa_soup.find_all(\"span\", {'class': 'IPA'}):\n",
    "                    #     txt = ipa.text\n",
    "                    #     if txt.startswith('/') and txt.endswith('/'):\n",
    "                    #         borrowed_ipas.append(ipa.text)\n",
    "                            # print(word.text, ipa.text)  \n",
    "                    \n",
    "                    # get the src word and wiki link to extract ipas for the src word\n",
    "                    src_word_html_final = None\n",
    "                    for src_word_html in ipa_soup.find_all(\"span\", class_=\"etyl\"):\n",
    "                        if src_word_html != None and src_word_html.find(lambda tag: tag.name == 'a' and src_lang.lower() in tag.text.lower()):\n",
    "                            \n",
    "                            src_word_html_final = src_word_html.find_next(\"i\")\n",
    "                            # src_word_link = src_word_html_final.find('a')\n",
    "                            break\n",
    "                    \n",
    "                    # src_ipas = []\n",
    "                    # if src_word_link != None:\n",
    "                    #     src_word_link = src_word_link['href']\n",
    "                    #     src_word_page = requests.get(base_link + src_word_link)\n",
    "                    #     src_word_soup = BeautifulSoup(src_word_page.content, 'html.parser')\n",
    "                    #     for ipa in src_word_soup.find_all(\"span\", {'class': 'IPA'}):\n",
    "                    #         txt = ipa.text\n",
    "                    #         if txt.startswith('/')  and txt.endswith('/') :\n",
    "                    #             src_ipas.append(ipa.text)\n",
    "\n",
    "                    src_word = src_word_html_final.text if src_word_html_final != None else ''\n",
    "                    \n",
    "                    # save the result so far.\n",
    "                    borrowed_words.append([borrowed_word.text, src_word])\n",
    "\n",
    "        print(dest_lang, src_lang, page_num, \"done\", len(borrowed_words))\n",
    "        \n",
    "        # find whet her there is a next page containing more loan words if there is scrape that as well. \n",
    "        next_link = soup.find(\n",
    "            lambda tag: tag.name == 'a' and 'next page' in tag.text.lower()\n",
    "        )\n",
    "\n",
    "        # return borrowed_words\n",
    "        if next_link != None:\n",
    "            more_words = get_words_ipas(dest_lang, src_lang, base_link + next_link['href'], page_num+1)\n",
    "            borrowed_words = borrowed_words + more_words\n",
    "\n",
    "    except Exception as e:\n",
    "        # errors can be due to timeouts/connections refused due to rate limiting. can be fixed via proxies/vpns/timeouts\n",
    "        print(pair, page_num, \"got error\", e, len(borrowed_words))\n",
    "        return borrowed_words\n",
    "        \n",
    "    return borrowed_words"
   ]
  },
  {
   "cell_type": "code",
   "execution_count": 18,
   "metadata": {},
   "outputs": [
    {
     "name": "stdout",
     "output_type": "stream",
     "text": [
      "Hindi-Persian.csv exists. Overwrite existing file? (y/n) n\n",
      "English-French.csv exists. Overwrite existing file? (y/n) n\n",
      "Finnish-Swedish.csv exists. Overwrite existing file? (y/n) n\n",
      "Urdu-English.csv exists. Overwrite existing file? (y/n) n\n",
      "French-English.csv exists. Overwrite existing file? (y/n) n\n"
     ]
    }
   ],
   "source": [
    "for pair in links:\n",
    "    if os.path.exists(\"results/{}.csv\".format(pair)):\n",
    "        overwrite = input(\"{}.csv exists. Overwrite existing file? (y/n) \".format(pair))\n",
    "    if overwrite == \"y\" or not os.path.exists(\"results/{}.csv\".format(pair)):\n",
    "        print()\n",
    "        [dest, src] = pair.split('-')\n",
    "        words = get_words_ipas(dest, src, links[pair], 1)\n",
    "        df = pd.DataFrame(words, columns=['loan_word', 'original_word'])\n",
    "        df.to_csv(\"results/{}.csv\".format(pair), index=False)\n",
    "        print(pair, \"done\\n\")"
   ]
  },
  {
   "cell_type": "code",
   "execution_count": null,
   "metadata": {},
   "outputs": [],
   "source": []
  },
  {
   "cell_type": "code",
   "execution_count": null,
   "metadata": {},
   "outputs": [],
   "source": []
  }
 ],
 "metadata": {
  "interpreter": {
   "hash": "31f2aee4e71d21fbe5cf8b01ff0e069b9275f58929596ceb00d14d90e3e16cd6"
  },
  "kernelspec": {
   "display_name": "Python 3 (ipykernel)",
   "language": "python",
   "name": "python3"
  },
  "language_info": {
   "codemirror_mode": {
    "name": "ipython",
    "version": 3
   },
   "file_extension": ".py",
   "mimetype": "text/x-python",
   "name": "python",
   "nbconvert_exporter": "python",
   "pygments_lexer": "ipython3",
   "version": "3.8.12"
  }
 },
 "nbformat": 4,
 "nbformat_minor": 2
}
