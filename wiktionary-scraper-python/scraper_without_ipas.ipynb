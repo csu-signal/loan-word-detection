{
 "cells": [
  {
   "cell_type": "code",
   "execution_count": 1,
   "metadata": {},
   "outputs": [],
   "source": [
    "import json\n",
    "import requests\n",
    "from bs4 import BeautifulSoup\n",
    "import pandas as pd\n",
    "import time\n",
    "import os"
   ]
  },
  {
   "cell_type": "code",
   "execution_count": 2,
   "metadata": {},
   "outputs": [
    {
     "data": {
      "text/plain": [
       "{'Hindi-Persian': 'https://en.m.wiktionary.org/wiki/Category:Hindi_terms_borrowed_from_Persian',\n",
       " 'English-French': 'https://en.m.wiktionary.org/wiki/Category:English_terms_borrowed_from_French'}"
      ]
     },
     "execution_count": 2,
     "metadata": {},
     "output_type": "execute_result"
    }
   ],
   "source": [
    "links = {}\n",
    "\n",
    "with open('../language-pairs.json', 'r') as f:\n",
    "    pairs = json.loads(f.read())\n",
    "    \n",
    "    for pair in pairs:\n",
    "        links[pair] = pairs[pair]['wiki']\n",
    "\n",
    "links"
   ]
  },
  {
   "cell_type": "code",
   "execution_count": 3,
   "metadata": {},
   "outputs": [],
   "source": [
    "base_link = \"https://en.m.wiktionary.org\"\n"
   ]
  },
  {
   "cell_type": "code",
   "execution_count": 8,
   "metadata": {},
   "outputs": [],
   "source": [
    "def get_words_ipas(dest_lang, src_lang, link, page_num, lst_invalid_words=['plural', 'not comparable']):\n",
    "    borrowed_words = []\n",
    "\n",
    "    try:\n",
    "        # get list of words\n",
    "        page = requests.get(link)\n",
    "        soup = BeautifulSoup(page.content, 'html.parser')\n",
    "        res = soup.find_all(\"div\", class_=\"mw-category-group\")\n",
    "\n",
    "        for i, r in enumerate(res):\n",
    "            if i > 0:\n",
    "                list_words = r.find_all('a')\n",
    "                src_word = None\n",
    "\n",
    "                for b_word in list_words:\n",
    "                    borrowed_word = b_word.text\n",
    "                    \n",
    "                    \n",
    "                    # for each loaned word get the wiki link and the source word in src lang for it.\n",
    "                    ipa_page = requests.get(base_link + b_word['href'])\n",
    "                    ipa_soup = BeautifulSoup(ipa_page.content, 'html.parser')\n",
    "                    \n",
    "                    src_word_html_final = None\n",
    "                    source_word = ''\n",
    "                    for src_word_html in ipa_soup.find_all(\"span\", class_=\"etyl\"):\n",
    "                        if src_word_html != None and src_word_html.find(lambda tag: tag.name == 'a' and src_lang.lower() in tag.text.lower()):\n",
    "                            \n",
    "                            src_word_html_final = src_word_html.find_next(\"i\")\n",
    "                            src_word = src_word_html_final.text if src_word_html_final != None else ''\n",
    "                            if src_word not in lst_invalid_words:\n",
    "                                source_word = src_word\n",
    "                            else:\n",
    "                                src_word_html_final = src_word_html.find_next(\"strong\")\n",
    "                                src_word = src_word_html_final.text if src_word_html_final != None else ''\n",
    "                                source_word = src_word\n",
    "                            \n",
    "                            \n",
    "                            break\n",
    "\n",
    "                    \n",
    "                    # save the result so far.\n",
    "                    # print([borrowed_word, source_word])\n",
    "                    borrowed_words.append([borrowed_word, source_word])\n",
    "\n",
    "        print(dest_lang, src_lang, page_num, \"done\", len(borrowed_words))\n",
    "        \n",
    "        # find whet her there is a next page containing more loan words if there is scrape that as well. \n",
    "        next_link = soup.find(\n",
    "            lambda tag: tag.name == 'a' and 'next page' in tag.text.lower()\n",
    "        )\n",
    "\n",
    "        # return borrowed_words\n",
    "        if next_link != None:\n",
    "            more_words = get_words_ipas(dest_lang, src_lang, base_link + next_link['href'], page_num+1)\n",
    "            borrowed_words = borrowed_words + more_words\n",
    "\n",
    "    except Exception as e:\n",
    "        # errors can be due to timeouts/connections refused due to rate limiting. can be fixed via proxies/vpns/timeouts\n",
    "        print(pair, page_num, \"got error\", e, len(borrowed_words))\n",
    "        return borrowed_words\n",
    "        \n",
    "    return borrowed_words"
   ]
  },
  {
   "cell_type": "code",
   "execution_count": 9,
   "metadata": {},
   "outputs": [
    {
     "name": "stdout",
     "output_type": "stream",
     "text": [
      "\n",
      "English French 1 done 200\n",
      "English French 2 done 200\n",
      "English French 3 done 200\n",
      "English French 4 done 200\n",
      "English French 5 done 200\n",
      "English French 6 done 200\n",
      "English-French 7 got error HTTPSConnectionPool(host='en.m.wiktionary.org', port=443): Max retries exceeded with url: /wiki/clinician (Caused by NewConnectionError('<urllib3.connection.HTTPSConnection object at 0x14fcb4a00>: Failed to establish a new connection: [Errno 60] Operation timed out')) 135\n",
      "English-French done\n",
      "\n"
     ]
    }
   ],
   "source": [
    "for pair in links:\n",
    "    if os.path.exists(\"results/{}.csv\".format(pair)):\n",
    "        overwrite = input(\"{}.csv exists. Overwrite existing file? (y/n) \".format(pair))\n",
    "    if overwrite == \"y\" or not os.path.exists(\"results/{}.csv\".format(pair)):\n",
    "        print()\n",
    "        [dest, src] = pair.split('-')\n",
    "        words = get_words_ipas(dest, src, links[pair], 1)\n",
    "        df = pd.DataFrame(words, columns=['loan_word', 'original_word'])\n",
    "        df.to_csv(\"results/{}.csv\".format(pair), index=False)\n",
    "        print(pair, \"done\\n\")"
   ]
  },
  {
   "cell_type": "code",
   "execution_count": null,
   "metadata": {},
   "outputs": [],
   "source": []
  },
  {
   "cell_type": "code",
   "execution_count": null,
   "metadata": {},
   "outputs": [],
   "source": []
  }
 ],
 "metadata": {
  "interpreter": {
   "hash": "31f2aee4e71d21fbe5cf8b01ff0e069b9275f58929596ceb00d14d90e3e16cd6"
  },
  "kernelspec": {
   "display_name": "Python 3 (ipykernel)",
   "language": "python",
   "name": "python3"
  },
  "language_info": {
   "codemirror_mode": {
    "name": "ipython",
    "version": 3
   },
   "file_extension": ".py",
   "mimetype": "text/x-python",
   "name": "python",
   "nbconvert_exporter": "python",
   "pygments_lexer": "ipython3",
   "version": "3.8.9"
  }
 },
 "nbformat": 4,
 "nbformat_minor": 2
}
