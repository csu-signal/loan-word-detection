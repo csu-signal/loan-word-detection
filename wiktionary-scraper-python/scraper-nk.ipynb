{
 "cells": [
  {
   "cell_type": "code",
   "execution_count": 3,
   "metadata": {},
   "outputs": [],
   "source": [
    "import json\n",
    "import requests\n",
    "from bs4 import BeautifulSoup\n",
    "import pandas as pd\n",
    "import time\n",
    "import os\n",
    "import unicodeblock.blocks\n",
    "import re\n",
    "from tqdm import tqdm"
   ]
  },
  {
   "cell_type": "code",
   "execution_count": 4,
   "metadata": {},
   "outputs": [
    {
     "data": {
      "text/plain": [
       "({'Hindi-Persian': 'https://en.m.wiktionary.org/wiki/Category:Hindi_terms_borrowed_from_Persian',\n",
       "  'English-French': 'https://en.m.wiktionary.org/wiki/Category:English_terms_borrowed_from_French'},\n",
       " {'Hindi-Persian': 'Arabic', 'English-French': 'Latin'})"
      ]
     },
     "execution_count": 4,
     "metadata": {},
     "output_type": "execute_result"
    }
   ],
   "source": [
    "links = {}\n",
    "expected_unicodes = {}\n",
    "\n",
    "with open('../language-pairs.json', 'r') as f:\n",
    "    pairs = json.loads(f.read())\n",
    "    \n",
    "    for pair in pairs:\n",
    "        expected_unicodes[pair] = pairs[pair]['source']['unicode']\n",
    "        links[pair] = pairs[pair]['wiki']\n",
    "\n",
    "links, expected_unicodes"
   ]
  },
  {
   "cell_type": "code",
   "execution_count": 5,
   "metadata": {},
   "outputs": [],
   "source": [
    "# expected Unicode blocks for certain scripts\n",
    "unicode_block_map = {\n",
    "    \"Latin\" : ['BASIC_LATIN', 'LATIN_1_SUPPLEMENT', 'LATIN_EXTENDED_LETTER', 'LATIN_EXTENDED_A', 'LATIN_EXTENDED_B', 'LATIN_EXTENDED_C'],\n",
    "    \"Greek\" : ['GREEK'],\n",
    "    \"Cyrillic\" : ['CYRILLIC', 'CYRILLIC_SUPPLEMENTARY', 'CYRILLIC_EXTENDED_A', 'CYRILLIC_EXTENDED_B'],\n",
    "    \"Arabic\" : ['ARABIC', 'ARABIC_SUPPLEMENT', 'ARABIC_PRESENTATION_FORMS_A', 'ARABIC_PRESENTATION_FORMS_B'],\n",
    "    \"Devanagari\" : ['DEVANAGARI', 'VEDIC_EXTENSIONS', 'DEVANAGARI_EXTENDED'],\n",
    "    \"Bengali\" : ['BENGALI']\n",
    "}"
   ]
  },
  {
   "cell_type": "code",
   "execution_count": 6,
   "metadata": {},
   "outputs": [],
   "source": [
    "def get_all_borrowed_words(dest, source, expected_unicode, invalid=[\"Unsupported titles/Space\"]):\n",
    "    title = f\"Category:{dest}_terms_borrowed_from_{source}\"\n",
    "    params = {\n",
    "        'action': 'query',\n",
    "        'format': 'json',\n",
    "        'prop': 'extracts',\n",
    "        'exintro': True,\n",
    "        'explaintext': True,\n",
    "    }\n",
    "\n",
    "    url = f\"https://en.wiktionary.org/w/api.php?action=query&list=categorymembers&cmtitle={title}&cmlimit=max\"\n",
    "    \n",
    "    borrowed_words = []\n",
    "    while(True):\n",
    "        r = requests.get(url,params)\n",
    "        try:\n",
    "            for cmember in r.json()['query']['categorymembers']:\n",
    "                if len(cmember['title']) > 1 and \\\n",
    "                    not cmember['title'].startswith('-') and \\\n",
    "                    not cmember['title'].endswith('-') and \\\n",
    "                    cmember['title'] not in invalid and \\\n",
    "                    unicodeblock.blocks.of(cmember['title'][0]) not in ['DIGIT', 'BASIC_PUNCTUATION']:\n",
    "                    borrowed_words.append(cmember['title'])\n",
    "                    if len(borrowed_words) % 1000 == 0:\n",
    "                        print(f\"Got {len(borrowed_words)}\")\n",
    "            cmcontinue = r.json()['continue']['cmcontinue'] # do this check after getting words since the last page has no cmcontinue\n",
    "            url = url.split(\"&cmcontinue\")[0]\n",
    "            url+=f\"&cmcontinue={cmcontinue}\"\n",
    "        except KeyError:\n",
    "            break\n",
    "    print(f\"Done, {len(borrowed_words)}\")\n",
    "    return borrowed_words"
   ]
  },
  {
   "cell_type": "code",
   "execution_count": 7,
   "metadata": {},
   "outputs": [],
   "source": [
    "'''\n",
    "def get_all_loans_and_false_friends:\n",
    "    for each word in borrowed words:\n",
    "        1. get word page from wiktionary\n",
    "        2. extract source word from source language\n",
    "        3. extract false friends from language!=source language\n",
    "\n",
    "    return loan_pairs, false_friends\n",
    "'''\n",
    "\n",
    "def get_source_word(soup, src_lang, expected_unicode, lst_invalid_words):\n",
    "    for src_soup in soup.find_all(\"span\", class_=\"etyl\"):\n",
    "        if src_soup != None and src_soup.find(lambda tag: tag.name == 'a' and src_lang.lower() in tag.text.lower()):\n",
    "            src_soup_final = src_soup.find_next(\"i\")\n",
    "            src_word = src_soup_final.text if src_soup_final != None else ''\n",
    "            if src_word not in lst_invalid_words:\n",
    "                source_word = src_word\n",
    "            else:\n",
    "                src_soup_final = src_soup.find_next(\"strong\")\n",
    "                src_word = src_soup_final.text if src_soup_final != None else ''\n",
    "                source_word = src_word\n",
    "                \n",
    "            if [unicodeblock.blocks.of(c) in unicode_block_map[expected_unicode] for c in source_word].count(True) < len(source_word)*.8:\n",
    "                source_word = ''\n",
    "\n",
    "            return source_word\n",
    "    \n",
    "    return ''\n",
    "\n",
    "def get_false_friend(borrowed_word, soup, src_lang, dest_lang, lst_invalid_words):\n",
    "    all_false_friends = []\n",
    "    for header in soup.find_all(\"h3\"):\n",
    "        if re.match(\"Etymology [1-9]\", header.text):\n",
    "            try:\n",
    "                if len(header.parent.parent.find_all(\"h2\")) > 0:\n",
    "                    if dest_lang == header.parent.parent.find_all(\"h2\")[0].text:\n",
    "                        etym = header.parent.find_all(\"span\", class_=\"etyl\")[0]\n",
    "                        for tag in etym.find(lambda tag: tag.name == 'a'):\n",
    "                            if src_lang.lower() not in tag.text.lower():\n",
    "                                print(borrowed_word, \"also from\", tag)\n",
    "                                false_friend_soup = etym.find_next(\"i\")\n",
    "                                meaning = header.parent.find_all('ol')[0].text.split('\\n')[0]\n",
    "                                meaning = re.sub(r'\\(.+?\\)',r'',meaning)\n",
    "                                meaning = re.sub(r'\\[.+?\\]',r'',meaning)\n",
    "                                meaning = meaning.replace('  ', ' ')\n",
    "                                meaning = re.split('[.;:]',meaning)[0].strip()\n",
    "                                ff_word = false_friend_soup.text if false_friend_soup != None else ''\n",
    "                                ff_word = re.split('[,;:]',ff_word)[0].strip()\n",
    "                                if ff_word in lst_invalid_words:\n",
    "                                    false_friend_soup = etym.find_next(\"strong\")\n",
    "                                    ff_word = false_friend_soup.text if false_friend_soup != None else ''\n",
    "                                    ff_word = re.split('[,;:]',ff_word)[0].strip()\n",
    "\n",
    "                                all_false_friends.append([borrowed_word,ff_word,tag.text.lower(),meaning])\n",
    "                                        \n",
    "#                         if len(header.parent.find_next_siblings()) > 0:\n",
    "#                             # print(\"here4\")\n",
    "#                             if len(header.parent.find_next_siblings()[0].find_all(\"span\", class_=\"etyl\")) > 0:\n",
    "#                                 # print(\"here5\")\n",
    "#                                 etym = header.parent.find_next_siblings()[0].find_all(\"span\", class_=\"etyl\")[0]\n",
    "#                                 for tag in etym.find(lambda tag: tag.name == 'a'):\n",
    "#                                     # print(\"here6\")\n",
    "#                                     if src_lang.lower() not in tag.text.lower():\n",
    "#                                         false_friend_soup = etym.find_next(\"i\")\n",
    "#                                         meaning = header.parent.find_next_siblings('ol')[0].text.split('\\n')[0]\n",
    "#                                         meaning = re.sub(r'\\(.+?\\)',r'',meaning)\n",
    "#                                         meaning = re.sub(r'\\[.+?\\]',r'',meaning)\n",
    "#                                         meaning = meaning.replace('  ', ' ')\n",
    "#                                         meaning = re.split('[.;:]',meaning)[0].strip()\n",
    "#                                         ff_word = false_friend_soup.text if false_friend_soup != None else ''\n",
    "#                                         ff_word = re.split('[,;:]',ff_word)[0].strip()\n",
    "#                                         if ff_word in lst_invalid_words:\n",
    "#                                             false_friend_soup = etym.find_next(\"strong\")\n",
    "#                                             ff_word = false_friend_soup.text if false_friend_soup != None else ''\n",
    "#                                             ff_word = re.split('[,;:]',ff_word)[0].strip()\n",
    "\n",
    "#                                         all_false_friends.append([borrowed_word,ff_word,tag.text.lower(),meaning])\n",
    "            except Exception as e:\n",
    "                print(borrowed_word, \":\", header, \"threw exception\", e)\n",
    "    \n",
    "    return all_false_friends\n",
    "\n",
    "            \n",
    "def get_all_loans_and_false_friends(borrowed_words, dest_lang, src_lang, expected_unicode, lst_invalid_words=['plural', 'not comparable', 'Urdu spelling', 'Urdu spelling']):\n",
    "    loan_pairs = [] # [[borrowed_word, source_word]]\n",
    "    false_friends = [] # \n",
    "    for word in tqdm(borrowed_words):\n",
    "\n",
    "        params = {\n",
    "            'action': 'query',\n",
    "            'format': 'json',\n",
    "            'prop': 'extracts',\n",
    "            'exintro': True,\n",
    "            'explaintext': True,\n",
    "        }\n",
    "\n",
    "        url = 'https://en.wiktionary.org/w/rest.php/v1/page/' + word + '/html'\n",
    "        #url = 'https://en.wiktionary.org/w/rest.php/v1/page/%E0%A4%85%E0%A4%97%E0%A4%B0/html'\n",
    "        # print(url)\n",
    "        response = requests.get(url,params)\n",
    "\n",
    "        # soup = BeautifulSoup(response.content, 'html.parser')\n",
    "        source_word = get_source_word(\n",
    "            BeautifulSoup(response.content, 'html.parser'), src_lang, expected_unicode, lst_invalid_words)\n",
    "        false_friend = get_false_friend(\n",
    "            word, BeautifulSoup(response.content, 'html.parser'), src_lang, dest_lang, lst_invalid_words)\n",
    "        # print(false_friend)\n",
    "        if source_word != '':\n",
    "            loan_pairs.append([word, source_word])\n",
    "        false_friends.extend(false_friend)\n",
    "    \n",
    "    return loan_pairs, false_friends"
   ]
  },
  {
   "cell_type": "code",
   "execution_count": 8,
   "metadata": {},
   "outputs": [
    {
     "name": "stdout",
     "output_type": "stream",
     "text": [
      "Hindi-Persian\n",
      "Got 1000\n",
      "Done, 1338\n",
      "Getting loan pairs and false friends: 1338 candidates\n"
     ]
    },
    {
     "name": "stderr",
     "output_type": "stream",
     "text": [
      "  1%|█▌                                                                                                                                                                                                            | 10/1338 [00:05<11:51,  1.87it/s]"
     ]
    },
    {
     "name": "stdout",
     "output_type": "stream",
     "text": [
      "अगर also from Sanskrit\n"
     ]
    },
    {
     "name": "stderr",
     "output_type": "stream",
     "text": [
      "  4%|████████▍                                                                                                                                                                                                     | 55/1338 [00:26<09:47,  2.18it/s]"
     ]
    },
    {
     "name": "stdout",
     "output_type": "stream",
     "text": [
      "आचार also from Sanskrit\n"
     ]
    },
    {
     "name": "stderr",
     "output_type": "stream",
     "text": [
      "  6%|███████████▍                                                                                                                                                                                                  | 74/1338 [00:34<08:54,  2.36it/s]"
     ]
    },
    {
     "name": "stdout",
     "output_type": "stream",
     "text": [
      "आराम also from Sanskrit\n"
     ]
    },
    {
     "name": "stderr",
     "output_type": "stream",
     "text": [
      "\r",
      "  6%|███████████▌                                                                                                                                                                                                  | 75/1338 [00:34<09:13,  2.28it/s]"
     ]
    },
    {
     "name": "stdout",
     "output_type": "stream",
     "text": [
      "आलू also from Sauraseni Prakrit\n"
     ]
    },
    {
     "name": "stderr",
     "output_type": "stream",
     "text": [
      " 10%|█████████████████████▍                                                                                                                                                                                       | 140/1338 [01:04<08:50,  2.26it/s]"
     ]
    },
    {
     "name": "stdout",
     "output_type": "stream",
     "text": [
      "कमर : <h3 id=\"Etymology_2\">Etymology 2</h3> threw exception list index out of range\n"
     ]
    },
    {
     "name": "stderr",
     "output_type": "stream",
     "text": [
      "\r",
      " 11%|█████████████████████▌                                                                                                                                                                                       | 141/1338 [01:04<08:40,  2.30it/s]"
     ]
    },
    {
     "name": "stdout",
     "output_type": "stream",
     "text": [
      "कमान also from English\n"
     ]
    },
    {
     "name": "stderr",
     "output_type": "stream",
     "text": [
      " 14%|████████████████████████████▊                                                                                                                                                                                | 188/1338 [01:44<07:29,  2.56it/s]"
     ]
    },
    {
     "name": "stdout",
     "output_type": "stream",
     "text": [
      "काफ़ी also from English\n"
     ]
    },
    {
     "name": "stderr",
     "output_type": "stream",
     "text": [
      " 14%|█████████████████████████████▎                                                                                                                                                                               | 191/1338 [01:46<08:48,  2.17it/s]"
     ]
    },
    {
     "name": "stdout",
     "output_type": "stream",
     "text": [
      "कार also from Sanskrit\n",
      "कार also from English\n"
     ]
    },
    {
     "name": "stderr",
     "output_type": "stream",
     "text": [
      " 15%|██████████████████████████████▍                                                                                                                                                                              | 199/1338 [01:49<07:45,  2.45it/s]"
     ]
    },
    {
     "name": "stdout",
     "output_type": "stream",
     "text": [
      "कि : <h3 id=\"Etymology_2\">Etymology 2</h3> threw exception list index out of range\n"
     ]
    },
    {
     "name": "stderr",
     "output_type": "stream",
     "text": [
      " 15%|███████████████████████████████▋                                                                                                                                                                             | 207/1338 [01:52<07:47,  2.42it/s]"
     ]
    },
    {
     "name": "stdout",
     "output_type": "stream",
     "text": [
      "कुंद also from Sauraseni Prakrit\n"
     ]
    },
    {
     "name": "stderr",
     "output_type": "stream",
     "text": [
      " 16%|████████████████████████████████▋                                                                                                                                                                            | 213/1338 [01:55<07:46,  2.41it/s]"
     ]
    },
    {
     "name": "stdout",
     "output_type": "stream",
     "text": [
      "कूर also from Sanskrit\n"
     ]
    },
    {
     "name": "stderr",
     "output_type": "stream",
     "text": [
      " 16%|████████████████████████████████▉                                                                                                                                                                            | 215/1338 [01:55<07:23,  2.53it/s]"
     ]
    },
    {
     "name": "stdout",
     "output_type": "stream",
     "text": [
      "कोर : <h3 id=\"Etymology_2\">Etymology 2</h3> threw exception list index out of range\n"
     ]
    },
    {
     "name": "stderr",
     "output_type": "stream",
     "text": [
      " 16%|█████████████████████████████████▏                                                                                                                                                                           | 217/1338 [01:56<07:11,  2.60it/s]"
     ]
    },
    {
     "name": "stdout",
     "output_type": "stream",
     "text": [
      "कोह also from Sauraseni Prakrit\n"
     ]
    },
    {
     "name": "stderr",
     "output_type": "stream",
     "text": [
      " 23%|███████████████████████████████████████████████                                                                                                                                                              | 307/1338 [03:11<07:30,  2.29it/s]"
     ]
    },
    {
     "name": "stdout",
     "output_type": "stream",
     "text": [
      "ग़रारा also from Arabic\n"
     ]
    },
    {
     "name": "stderr",
     "output_type": "stream",
     "text": [
      " 24%|█████████████████████████████████████████████████▏                                                                                                                                                           | 321/1338 [03:17<07:41,  2.20it/s]"
     ]
    },
    {
     "name": "stdout",
     "output_type": "stream",
     "text": [
      "गिलास also from English\n"
     ]
    },
    {
     "name": "stderr",
     "output_type": "stream",
     "text": [
      " 27%|████████████████████████████████████████████████████████                                                                                                                                                     | 366/1338 [03:37<06:55,  2.34it/s]"
     ]
    },
    {
     "name": "stdout",
     "output_type": "stream",
     "text": [
      "चीज़ also from English\n"
     ]
    },
    {
     "name": "stderr",
     "output_type": "stream",
     "text": [
      " 32%|████████████████████████████████████████████████████████████████▋                                                                                                                                          | 426/1338 [04:36<1:00:41,  3.99s/it]"
     ]
    },
    {
     "name": "stdout",
     "output_type": "stream",
     "text": [
      "ज़ार also from English\n"
     ]
    },
    {
     "name": "stderr",
     "output_type": "stream",
     "text": [
      " 34%|█████████████████████████████████████████████████████████████████████                                                                                                                                        | 451/1338 [04:46<05:53,  2.51it/s]"
     ]
    },
    {
     "name": "stdout",
     "output_type": "stream",
     "text": [
      "जान also from Sanskrit\n"
     ]
    },
    {
     "name": "stderr",
     "output_type": "stream",
     "text": [
      " 34%|██████████████████████████████████████████████████████████████████████▏                                                                                                                                      | 458/1338 [04:49<05:56,  2.47it/s]"
     ]
    },
    {
     "name": "stdout",
     "output_type": "stream",
     "text": [
      "जाली also from Sanskrit\n"
     ]
    },
    {
     "name": "stderr",
     "output_type": "stream",
     "text": [
      " 40%|██████████████████████████████████████████████████████████████████████████████████                                                                                                                           | 536/1338 [05:22<05:26,  2.46it/s]"
     ]
    },
    {
     "name": "stdout",
     "output_type": "stream",
     "text": [
      "तार also from Sanskrit\n"
     ]
    },
    {
     "name": "stderr",
     "output_type": "stream",
     "text": [
      " 41%|███████████████████████████████████████████████████████████████████████████████████▏                                                                                                                         | 543/1338 [05:25<05:25,  2.44it/s]"
     ]
    },
    {
     "name": "stdout",
     "output_type": "stream",
     "text": [
      "तीर also from Sanskrit\n"
     ]
    },
    {
     "name": "stderr",
     "output_type": "stream",
     "text": [
      " 42%|█████████████████████████████████████████████████████████████████████████████████████▍                                                                                                                       | 558/1338 [05:51<15:20,  1.18s/it]"
     ]
    },
    {
     "name": "stdout",
     "output_type": "stream",
     "text": [
      "तोप also from Sanskrit\n"
     ]
    },
    {
     "name": "stderr",
     "output_type": "stream",
     "text": [
      " 42%|██████████████████████████████████████████████████████████████████████████████████████▋                                                                                                                      | 566/1338 [05:54<06:31,  1.97it/s]"
     ]
    },
    {
     "name": "stdout",
     "output_type": "stream",
     "text": [
      "दफ़ा also from Arabic\n"
     ]
    },
    {
     "name": "stderr",
     "output_type": "stream",
     "text": [
      " 42%|███████████████████████████████████████████████████████████████████████████████████████                                                                                                                      | 568/1338 [05:55<05:38,  2.27it/s]"
     ]
    },
    {
     "name": "stdout",
     "output_type": "stream",
     "text": [
      "दम also from Sanskrit\n",
      "दम also from Sanskrit\n",
      "दम also from Arabic\n"
     ]
    },
    {
     "name": "stderr",
     "output_type": "stream",
     "text": [
      " 43%|███████████████████████████████████████████████████████████████████████████████████████▎                                                                                                                     | 570/1338 [05:56<05:30,  2.32it/s]"
     ]
    },
    {
     "name": "stdout",
     "output_type": "stream",
     "text": [
      "दर : <h3 id=\"Etymology_1\">Etymology 1</h3> threw exception list index out of range\n"
     ]
    },
    {
     "name": "stderr",
     "output_type": "stream",
     "text": [
      " 43%|████████████████████████████████████████████████████████████████████████████████████████▊                                                                                                                    | 580/1338 [06:00<05:03,  2.49it/s]"
     ]
    },
    {
     "name": "stdout",
     "output_type": "stream",
     "text": [
      "दराज़ also from English\n"
     ]
    },
    {
     "name": "stderr",
     "output_type": "stream",
     "text": [
      " 44%|██████████████████████████████████████████████████████████████████████████████████████████▊                                                                                                                  | 593/1338 [06:05<05:05,  2.44it/s]"
     ]
    },
    {
     "name": "stdout",
     "output_type": "stream",
     "text": [
      "दस्ता : <h3 id=\"Etymology_1\">Etymology 1</h3> threw exception list index out of range\n"
     ]
    },
    {
     "name": "stderr",
     "output_type": "stream",
     "text": [
      " 44%|███████████████████████████████████████████████████████████████████████████████████████████▏                                                                                                                 | 595/1338 [06:06<04:53,  2.53it/s]"
     ]
    },
    {
     "name": "stdout",
     "output_type": "stream",
     "text": [
      "दहन also from Sanskrit\n"
     ]
    },
    {
     "name": "stderr",
     "output_type": "stream",
     "text": [
      " 47%|███████████████████████████████████████████████████████████████████████████████████████████████▉                                                                                                             | 626/1338 [06:19<06:24,  1.85it/s]"
     ]
    },
    {
     "name": "stdout",
     "output_type": "stream",
     "text": [
      "देव also from Sanskrit\n"
     ]
    },
    {
     "name": "stderr",
     "output_type": "stream",
     "text": [
      "\r",
      " 47%|████████████████████████████████████████████████████████████████████████████████████████████████                                                                                                             | 627/1338 [06:19<06:03,  1.96it/s]"
     ]
    },
    {
     "name": "stdout",
     "output_type": "stream",
     "text": [
      "देह also from Sanskrit\n"
     ]
    },
    {
     "name": "stderr",
     "output_type": "stream",
     "text": [
      " 49%|████████████████████████████████████████████████████████████████████████████████████████████████████▏                                                                                                        | 654/1338 [06:31<04:35,  2.48it/s]"
     ]
    },
    {
     "name": "stdout",
     "output_type": "stream",
     "text": [
      "नर also from Sanskrit\n"
     ]
    },
    {
     "name": "stderr",
     "output_type": "stream",
     "text": [
      " 52%|███████████████████████████████████████████████████████████████████████████████████████████████████████████▍                                                                                                 | 701/1338 [06:51<04:42,  2.26it/s]"
     ]
    },
    {
     "name": "stdout",
     "output_type": "stream",
     "text": [
      "पर also from Sauraseni Prakrit\n",
      "पर also from Sauraseni Prakrit\n",
      "पर also from Sanskrit\n"
     ]
    },
    {
     "name": "stderr",
     "output_type": "stream",
     "text": [
      " 54%|██████████████████████████████████████████████████████████████████████████████████████████████████████████████▍                                                                                              | 721/1338 [06:59<04:31,  2.27it/s]"
     ]
    },
    {
     "name": "stdout",
     "output_type": "stream",
     "text": [
      "पहल also from Sauraseni Prakrit\n"
     ]
    },
    {
     "name": "stderr",
     "output_type": "stream",
     "text": [
      " 54%|███████████████████████████████████████████████████████████████████████████████████████████████████████████████▌                                                                                             | 728/1338 [07:02<04:43,  2.15it/s]"
     ]
    },
    {
     "name": "stdout",
     "output_type": "stream",
     "text": [
      "पाश also from Sanskrit\n"
     ]
    },
    {
     "name": "stderr",
     "output_type": "stream",
     "text": [
      " 59%|████████████████████████████████████████████████████████████████████████████████████████████████████████████████████████▍                                                                                    | 786/1338 [07:45<03:52,  2.37it/s]"
     ]
    },
    {
     "name": "stdout",
     "output_type": "stream",
     "text": [
      "बंदर also from Sauraseni Prakrit\n"
     ]
    },
    {
     "name": "stderr",
     "output_type": "stream",
     "text": [
      " 60%|██████████████████████████████████████████████████████████████████████████████████████████████████████████████████████████▉                                                                                  | 802/1338 [07:52<04:01,  2.22it/s]"
     ]
    },
    {
     "name": "stdout",
     "output_type": "stream",
     "text": [
      "बदर also from Sanskrit\n"
     ]
    },
    {
     "name": "stderr",
     "output_type": "stream",
     "text": [
      " 61%|█████████████████████████████████████████████████████████████████████████████████████████████████████████████████████████████▋                                                                               | 820/1338 [08:01<04:07,  2.09it/s]"
     ]
    },
    {
     "name": "stdout",
     "output_type": "stream",
     "text": [
      "बस also from English\n",
      "बस also from Sauraseni Prakrit\n",
      "बस : <h3 id=\"Etymology_4\">Etymology 4</h3> threw exception list index out of range\n"
     ]
    },
    {
     "name": "stderr",
     "output_type": "stream",
     "text": [
      " 63%|█████████████████████████████████████████████████████████████████████████████████████████████████████████████████████████████████                                                                            | 842/1338 [08:10<03:27,  2.39it/s]"
     ]
    },
    {
     "name": "stdout",
     "output_type": "stream",
     "text": [
      "बालिश also from Sanskrit\n"
     ]
    },
    {
     "name": "stderr",
     "output_type": "stream",
     "text": [
      " 66%|███████████████████████████████████████████████████████████████████████████████████████████████████████████████████████████████████████▌                                                                     | 885/1338 [08:29<03:01,  2.49it/s]"
     ]
    },
    {
     "name": "stdout",
     "output_type": "stream",
     "text": [
      "मक्का also from Sauraseni Prakrit\n"
     ]
    },
    {
     "name": "stderr",
     "output_type": "stream",
     "text": [
      " 66%|███████████████████████████████████████████████████████████████████████████████████████████████████████████████████████████████████████▉                                                                     | 887/1338 [08:30<03:11,  2.35it/s]"
     ]
    },
    {
     "name": "stdout",
     "output_type": "stream",
     "text": [
      "मगर also from Sauraseni Prakrit\n"
     ]
    },
    {
     "name": "stderr",
     "output_type": "stream",
     "text": [
      " 67%|██████████████████████████████████████████████████████████████████████████████████████████████████████████████████████████████████████████▏                                                                  | 902/1338 [08:36<02:56,  2.47it/s]"
     ]
    },
    {
     "name": "stdout",
     "output_type": "stream",
     "text": [
      "मन also from Sauraseni Prakrit\n"
     ]
    },
    {
     "name": "stderr",
     "output_type": "stream",
     "text": [
      " 68%|████████████████████████████████████████████████████████████████████████████████████████████████████████████████████████████████████████████                                                                 | 914/1338 [08:41<03:04,  2.30it/s]"
     ]
    },
    {
     "name": "stdout",
     "output_type": "stream",
     "text": [
      "मर्द also from Sanskrit\n"
     ]
    },
    {
     "name": "stderr",
     "output_type": "stream",
     "text": [
      " 69%|█████████████████████████████████████████████████████████████████████████████████████████████████████████████████████████████████████████████                                                                | 921/1338 [08:44<02:42,  2.57it/s]"
     ]
    },
    {
     "name": "stdout",
     "output_type": "stream",
     "text": [
      "मशक also from Sanskrit\n"
     ]
    },
    {
     "name": "stderr",
     "output_type": "stream",
     "text": [
      " 71%|█████████████████████████████████████████████████████████████████████████████████████████████████████████████████████████████████████████████████▍                                                           | 949/1338 [08:57<02:46,  2.33it/s]"
     ]
    },
    {
     "name": "stdout",
     "output_type": "stream",
     "text": [
      "माल also from Sanskrit\n",
      "माल also from Sanskrit\n"
     ]
    },
    {
     "name": "stderr",
     "output_type": "stream",
     "text": [
      " 75%|████████████████████████████████████████████████████████████████████████████████████████████████████████████████████████████████████████████████████████▊                                                    | 997/1338 [09:18<02:16,  2.50it/s]"
     ]
    },
    {
     "name": "stdout",
     "output_type": "stream",
     "text": [
      "मूसल also from Sauraseni Prakrit\n"
     ]
    },
    {
     "name": "stderr",
     "output_type": "stream",
     "text": [
      "\r",
      " 75%|████████████████████████████████████████████████████████████████████████████████████████████████████████████████████████████████████████████████████████▉                                                    | 998/1338 [09:18<02:33,  2.22it/s]"
     ]
    },
    {
     "name": "stdout",
     "output_type": "stream",
     "text": [
      "मूसा also from Sanskrit\n"
     ]
    },
    {
     "name": "stderr",
     "output_type": "stream",
     "text": [
      " 76%|███████████████████████████████████████████████████████████████████████████████████████████████████████████████████████████████████████████████████████████▊                                                | 1022/1338 [09:28<02:18,  2.29it/s]"
     ]
    },
    {
     "name": "stdout",
     "output_type": "stream",
     "text": [
      "यमन : <h3 id=\"Etymology_2\">Etymology 2</h3> threw exception list index out of range\n"
     ]
    },
    {
     "name": "stderr",
     "output_type": "stream",
     "text": [
      " 77%|████████████████████████████████████████████████████████████████████████████████████████████████████████████████████████████████████████████████████████████▎                                               | 1025/1338 [09:30<02:14,  2.32it/s]"
     ]
    },
    {
     "name": "stdout",
     "output_type": "stream",
     "text": [
      "या also from Arabic\n"
     ]
    },
    {
     "name": "stderr",
     "output_type": "stream",
     "text": [
      " 78%|███████████████████████████████████████████████████████████████████████████████████████████████████████████████████████████████████████████████████████████████▎                                            | 1045/1338 [09:38<02:00,  2.43it/s]"
     ]
    },
    {
     "name": "stdout",
     "output_type": "stream",
     "text": [
      "रवा also from Sauraseni Prakrit\n"
     ]
    },
    {
     "name": "stderr",
     "output_type": "stream",
     "text": [
      " 79%|████████████████████████████████████████████████████████████████████████████████████████████████████████████████████████████████████████████████████████████████▋                                           | 1054/1338 [09:41<01:51,  2.54it/s]"
     ]
    },
    {
     "name": "stdout",
     "output_type": "stream",
     "text": [
      "राय also from Sauraseni Prakrit\n"
     ]
    },
    {
     "name": "stderr",
     "output_type": "stream",
     "text": [
      " 80%|███████████████████████████████████████████████████████████████████████████████████████████████████████████████████████████████████████████████████████████████████▏                                        | 1070/1338 [09:49<02:40,  1.67it/s]"
     ]
    },
    {
     "name": "stdout",
     "output_type": "stream",
     "text": [
      "रूम also from English\n"
     ]
    },
    {
     "name": "stderr",
     "output_type": "stream",
     "text": [
      " 80%|███████████████████████████████████████████████████████████████████████████████████████████████████████████████████████████████████████████████████████████████████▌                                        | 1073/1338 [09:50<02:28,  1.79it/s]"
     ]
    },
    {
     "name": "stdout",
     "output_type": "stream",
     "text": [
      "रूसी : <h3 id=\"Etymology_2\">Etymology 2</h3> threw exception list index out of range\n"
     ]
    },
    {
     "name": "stderr",
     "output_type": "stream",
     "text": [
      " 84%|████████████████████████████████████████████████████████████████████████████████████████████████████████████████████████████████████████████████████████████████████████████▎                               | 1130/1338 [10:34<01:37,  2.14it/s]"
     ]
    },
    {
     "name": "stdout",
     "output_type": "stream",
     "text": [
      "शक also from Sanskrit\n"
     ]
    },
    {
     "name": "stderr",
     "output_type": "stream",
     "text": [
      " 86%|████████████████████████████████████████████████████████████████████████████████████████████████████████████████████████████████████████████████████████████████████████████████▎                           | 1156/1338 [10:47<01:39,  1.83it/s]"
     ]
    },
    {
     "name": "stdout",
     "output_type": "stream",
     "text": [
      "शाम also from Sanskrit\n",
      "शाम also from Sanskrit\n"
     ]
    },
    {
     "name": "stderr",
     "output_type": "stream",
     "text": [
      " 87%|████████████████████████████████████████████████████████████████████████████████████████████████████████████████████████████████████████████████████████████████████████████████▊                           | 1160/1338 [10:49<01:33,  1.91it/s]"
     ]
    },
    {
     "name": "stdout",
     "output_type": "stream",
     "text": [
      "शाल also from Sanskrit\n"
     ]
    },
    {
     "name": "stderr",
     "output_type": "stream",
     "text": [
      " 89%|█████████████████████████████████████████████████████████████████████████████████████████████████████████████████████████████████████████████████████████████████████████████████████▏                      | 1188/1338 [11:02<01:28,  1.70it/s]"
     ]
    },
    {
     "name": "stdout",
     "output_type": "stream",
     "text": [
      "संग also from Sanskrit\n"
     ]
    },
    {
     "name": "stderr",
     "output_type": "stream",
     "text": [
      " 91%|██████████████████████████████████████████████████████████████████████████████████████████████████████████████████████████████████████████████████████████████████████████████████████████▏                 | 1221/1338 [11:16<01:03,  1.83it/s]"
     ]
    },
    {
     "name": "stdout",
     "output_type": "stream",
     "text": [
      "सलामी also from Italian\n"
     ]
    },
    {
     "name": "stderr",
     "output_type": "stream",
     "text": [
      " 92%|███████████████████████████████████████████████████████████████████████████████████████████████████████████████████████████████████████████████████████████████████████████████████████████▊                | 1232/1338 [11:22<00:54,  1.96it/s]"
     ]
    },
    {
     "name": "stdout",
     "output_type": "stream",
     "text": [
      "सही : <h3 id=\"Etymology_2\">Etymology 2</h3> threw exception list index out of range\n"
     ]
    },
    {
     "name": "stderr",
     "output_type": "stream",
     "text": [
      " 93%|█████████████████████████████████████████████████████████████████████████████████████████████████████████████████████████████████████████████████████████████████████████████████████████████▎              | 1242/1338 [11:27<00:48,  1.99it/s]"
     ]
    },
    {
     "name": "stdout",
     "output_type": "stream",
     "text": [
      "साया also from Portuguese\n"
     ]
    },
    {
     "name": "stderr",
     "output_type": "stream",
     "text": [
      "\r",
      " 93%|█████████████████████████████████████████████████████████████████████████████████████████████████████████████████████████████████████████████████████████████████████████████████████████████▌              | 1243/1338 [11:27<00:48,  1.94it/s]"
     ]
    },
    {
     "name": "stdout",
     "output_type": "stream",
     "text": [
      "साल also from Sanskrit\n",
      "साल also from Sanskrit\n",
      "साल also from Sanskrit\n",
      "साल also from Sanskrit\n"
     ]
    },
    {
     "name": "stderr",
     "output_type": "stream",
     "text": [
      " 94%|████████████████████████████████████████████████████████████████████████████████████████████████████████████████████████████████████████████████████████████████████████████████████████████████            | 1260/1338 [11:35<00:34,  2.27it/s]"
     ]
    },
    {
     "name": "stdout",
     "output_type": "stream",
     "text": [
      "सीना also from Sanskrit\n"
     ]
    },
    {
     "name": "stderr",
     "output_type": "stream",
     "text": [
      " 95%|██████████████████████████████████████████████████████████████████████████████████████████████████████████████████████████████████████████████████████████████████████████████████████████████████▌         | 1276/1338 [11:42<00:25,  2.41it/s]"
     ]
    },
    {
     "name": "stdout",
     "output_type": "stream",
     "text": [
      "सूरत also from Gujarati\n"
     ]
    },
    {
     "name": "stderr",
     "output_type": "stream",
     "text": [
      " 97%|█████████████████████████████████████████████████████████████████████████████████████████████████████████████████████████████████████████████████████████████████████████████████████████████████████▏      | 1293/1338 [11:49<00:18,  2.48it/s]"
     ]
    },
    {
     "name": "stdout",
     "output_type": "stream",
     "text": [
      "हम also from Old Hindi\n"
     ]
    },
    {
     "name": "stderr",
     "output_type": "stream",
     "text": [
      " 98%|███████████████████████████████████████████████████████████████████████████████████████████████████████████████████████████████████████████████████████████████████████████████████████████████████████▍    | 1308/1338 [11:55<00:13,  2.23it/s]"
     ]
    },
    {
     "name": "stdout",
     "output_type": "stream",
     "text": [
      "हस्ती also from Sanskrit\n"
     ]
    },
    {
     "name": "stderr",
     "output_type": "stream",
     "text": [
      "100%|████████████████████████████████████████████████████████████████████████████████████████████████████████████████████████████████████████████████████████████████████████████████████████████████████████████| 1338/1338 [12:09<00:00,  1.83it/s]\n"
     ]
    },
    {
     "name": "stdout",
     "output_type": "stream",
     "text": [
      "Hindi-Persian.csv exists. Overwrite existing file? (y/n) y\n",
      "Hindi-Persian_false_friends.csv exists. Overwrite existing file? (y/n) y\n",
      "Hindi-Persian done\n",
      "\n",
      "\n",
      "English-French\n",
      "Got 1000\n",
      "Got 2000\n",
      "Got 3000\n",
      "Got 4000\n",
      "Got 5000\n",
      "Done, 5221\n",
      "Getting loan pairs and false friends: 5221 candidates\n"
     ]
    },
    {
     "name": "stderr",
     "output_type": "stream",
     "text": [
      "  0%|▋                                                                                                                                                                                                             | 18/5221 [00:07<42:23,  2.05it/s]"
     ]
    },
    {
     "name": "stdout",
     "output_type": "stream",
     "text": [
      "abandon also from Middle English\n"
     ]
    },
    {
     "name": "stderr",
     "output_type": "stream",
     "text": [
      "  1%|██▊                                                                                                                                                                                                           | 70/5221 [00:50<44:21,  1.94it/s]"
     ]
    },
    {
     "name": "stdout",
     "output_type": "stream",
     "text": [
      "Acre also from Portuguese\n",
      "Acre also from Norwegian\n"
     ]
    },
    {
     "name": "stderr",
     "output_type": "stream",
     "text": [
      "  1%|███                                                                                                                                                                                                           | 77/5221 [00:53<35:45,  2.40it/s]"
     ]
    },
    {
     "name": "stdout",
     "output_type": "stream",
     "text": [
      "Adele : <h3 id=\"Etymology_2\">Etymology 2</h3> threw exception list index out of range\n"
     ]
    },
    {
     "name": "stderr",
     "output_type": "stream",
     "text": [
      "  2%|███                                                                                                                                                                                                           | 79/5221 [00:54<35:10,  2.44it/s]"
     ]
    },
    {
     "name": "stdout",
     "output_type": "stream",
     "text": [
      "admirative : <h3 id=\"Etymology_2\">Etymology 2</h3> threw exception list index out of range\n"
     ]
    },
    {
     "name": "stderr",
     "output_type": "stream",
     "text": [
      "  2%|███▉                                                                                                                                                                                                         | 101/5221 [01:06<42:04,  2.03it/s]"
     ]
    },
    {
     "name": "stdout",
     "output_type": "stream",
     "text": [
      "agonic also from Ancient Greek\n"
     ]
    },
    {
     "name": "stderr",
     "output_type": "stream",
     "text": [
      "  2%|████▌                                                                                                                                                                                                        | 117/5221 [01:13<50:08,  1.70it/s]"
     ]
    },
    {
     "name": "stdout",
     "output_type": "stream",
     "text": [
      "ala also from Latin\n"
     ]
    },
    {
     "name": "stderr",
     "output_type": "stream",
     "text": [
      "  3%|█████▏                                                                                                                                                                                                       | 132/5221 [01:20<41:46,  2.03it/s]"
     ]
    },
    {
     "name": "stdout",
     "output_type": "stream",
     "text": [
      "alexanders : <h3 id=\"Etymology_2\">Etymology 2</h3> threw exception list index out of range\n"
     ]
    },
    {
     "name": "stderr",
     "output_type": "stream",
     "text": [
      "  3%|██████▏                                                                                                                                                                                                    | 159/5221 [01:35<1:26:23,  1.02s/it]"
     ]
    },
    {
     "name": "stdout",
     "output_type": "stream",
     "text": [
      "amatrice : <h3 id=\"Etymology_2\">Etymology 2</h3> threw exception list index out of range\n"
     ]
    },
    {
     "name": "stderr",
     "output_type": "stream",
     "text": [
      "  4%|████████▎                                                                                                                                                                                                    | 211/5221 [01:58<39:47,  2.10it/s]"
     ]
    },
    {
     "name": "stdout",
     "output_type": "stream",
     "text": [
      "anime also from Japanese\n"
     ]
    },
    {
     "name": "stderr",
     "output_type": "stream",
     "text": [
      "\r",
      "  4%|████████▎                                                                                                                                                                                                    | 212/5221 [01:59<35:14,  2.37it/s]"
     ]
    },
    {
     "name": "stdout",
     "output_type": "stream",
     "text": [
      "animé : <h3 id=\"Etymology_2\">Etymology 2</h3> threw exception list index out of range\n"
     ]
    },
    {
     "name": "stderr",
     "output_type": "stream",
     "text": [
      "  4%|████████▍                                                                                                                                                                                                    | 214/5221 [02:00<34:40,  2.41it/s]"
     ]
    },
    {
     "name": "stdout",
     "output_type": "stream",
     "text": [
      "Anjouan : <h3 id=\"Etymology_1\">Etymology 1</h3> threw exception list index out of range\n"
     ]
    },
    {
     "name": "stderr",
     "output_type": "stream",
     "text": [
      "  4%|████████▍                                                                                                                                                                                                    | 216/5221 [02:00<35:33,  2.35it/s]"
     ]
    },
    {
     "name": "stdout",
     "output_type": "stream",
     "text": [
      "Annam also from Vietnamese\n"
     ]
    },
    {
     "name": "stderr",
     "output_type": "stream",
     "text": [
      "  4%|████████▌                                                                                                                                                                                                    | 218/5221 [02:01<33:16,  2.51it/s]"
     ]
    },
    {
     "name": "stdout",
     "output_type": "stream",
     "text": [
      "annex also from Middle English\n"
     ]
    },
    {
     "name": "stderr",
     "output_type": "stream",
     "text": [
      "  5%|██████████▏                                                                                                                                                                                                  | 258/5221 [02:18<37:30,  2.21it/s]"
     ]
    },
    {
     "name": "stdout",
     "output_type": "stream",
     "text": [
      "arbor also from Middle English\n"
     ]
    },
    {
     "name": "stderr",
     "output_type": "stream",
     "text": [
      "  5%|██████████▉                                                                                                                                                                                                  | 277/5221 [02:27<41:04,  2.01it/s]"
     ]
    },
    {
     "name": "stdout",
     "output_type": "stream",
     "text": [
      "Aries also from Latin\n"
     ]
    },
    {
     "name": "stderr",
     "output_type": "stream",
     "text": [
      "  7%|██████████████▎                                                                                                                                                                                              | 364/5221 [03:03<36:44,  2.20it/s]"
     ]
    },
    {
     "name": "stdout",
     "output_type": "stream",
     "text": [
      "aval also from Latin\n"
     ]
    },
    {
     "name": "stderr",
     "output_type": "stream",
     "text": [
      "  7%|███████████████                                                                                                                                                                                              | 383/5221 [03:11<35:14,  2.29it/s]"
     ]
    },
    {
     "name": "stdout",
     "output_type": "stream",
     "text": [
      "Ayn also from Arabic\n"
     ]
    },
    {
     "name": "stderr",
     "output_type": "stream",
     "text": [
      "  8%|███████████████▎                                                                                                                                                                                           | 395/5221 [03:27<4:41:48,  3.50s/it]"
     ]
    },
    {
     "name": "stdout",
     "output_type": "stream",
     "text": [
      "back also from Middle English\n"
     ]
    },
    {
     "name": "stderr",
     "output_type": "stream",
     "text": [
      "  8%|████████████████▏                                                                                                                                                                                            | 411/5221 [03:33<33:36,  2.39it/s]"
     ]
    },
    {
     "name": "stdout",
     "output_type": "stream",
     "text": [
      "bah : <h3 id=\"Etymology_2\">Etymology 2</h3> threw exception list index out of range\n",
      "bah also from Mandarin\n"
     ]
    },
    {
     "name": "stderr",
     "output_type": "stream",
     "text": [
      "  8%|████████████████▎                                                                                                                                                                                            | 414/5221 [03:34<37:19,  2.15it/s]"
     ]
    },
    {
     "name": "stdout",
     "output_type": "stream",
     "text": [
      "bail also from Middle English\n",
      "bail : <h3 id=\"Etymology_2\">Etymology 2</h3> threw exception list index out of range\n",
      "bail also from Middle English\n"
     ]
    },
    {
     "name": "stderr",
     "output_type": "stream",
     "text": [
      "  9%|█████████████████▍                                                                                                                                                                                           | 444/5221 [03:47<35:48,  2.22it/s]"
     ]
    },
    {
     "name": "stdout",
     "output_type": "stream",
     "text": [
      "bandy also from Scots\n",
      "bandy also from Welsh\n",
      "bandy also from Telugu\n"
     ]
    },
    {
     "name": "stderr",
     "output_type": "stream",
     "text": [
      "  9%|██████████████████▎                                                                                                                                                                                          | 467/5221 [03:58<37:17,  2.12it/s]"
     ]
    },
    {
     "name": "stdout",
     "output_type": "stream",
     "text": [
      "barrack : <h3 id=\"Etymology_2\">Etymology 2</h3> threw exception list index out of range\n"
     ]
    },
    {
     "name": "stderr",
     "output_type": "stream",
     "text": [
      "  9%|███████████████████▎                                                                                                                                                                                         | 491/5221 [04:12<48:14,  1.63it/s]"
     ]
    },
    {
     "name": "stdout",
     "output_type": "stream",
     "text": [
      "bat also from Swedish\n",
      "bat also from Middle English\n",
      "bat : <h3 id=\"Etymology_3\">Etymology 3</h3> threw exception list index out of range\n",
      "bat : <h3 id=\"Etymology_5\">Etymology 5</h3> threw exception list index out of range\n",
      "bat : <h3 id=\"Etymology_6\">Etymology 6</h3> threw exception list index out of range\n",
      "bat : <h3 id=\"Etymology_7\">Etymology 7</h3> threw exception list index out of range\n"
     ]
    },
    {
     "name": "stderr",
     "output_type": "stream",
     "text": [
      " 10%|███████████████████▉                                                                                                                                                                                         | 508/5221 [04:19<34:15,  2.29it/s]"
     ]
    },
    {
     "name": "stdout",
     "output_type": "stream",
     "text": [
      "bavette also from Italian\n"
     ]
    },
    {
     "name": "stderr",
     "output_type": "stream",
     "text": [
      " 10%|████████████████████▏                                                                                                                                                                                        | 513/5221 [04:21<29:18,  2.68it/s]"
     ]
    },
    {
     "name": "stdout",
     "output_type": "stream",
     "text": [
      "BD : <h3 id=\"Etymology_1\">Etymology 1</h3> threw exception list index out of range\n",
      "BD : <h3 id=\"Etymology_3\">Etymology 3</h3> threw exception list index out of range\n"
     ]
    },
    {
     "name": "stderr",
     "output_type": "stream",
     "text": [
      "\r",
      " 10%|████████████████████▏                                                                                                                                                                                        | 514/5221 [04:21<31:29,  2.49it/s]"
     ]
    },
    {
     "name": "stdout",
     "output_type": "stream",
     "text": [
      "BEA : <h3 id=\"Etymology_1\">Etymology 1</h3> threw exception list index out of range\n"
     ]
    },
    {
     "name": "stderr",
     "output_type": "stream",
     "text": [
      " 11%|██████████████████████▊                                                                                                                                                                                      | 581/5221 [04:52<39:32,  1.96it/s]"
     ]
    },
    {
     "name": "stdout",
     "output_type": "stream",
     "text": [
      "bergamot : <h3 id=\"Etymology_2\">Etymology 2</h3> threw exception list index out of range\n"
     ]
    },
    {
     "name": "stderr",
     "output_type": "stream",
     "text": [
      " 11%|███████████████████████▏                                                                                                                                                                                   | 595/5221 [05:33<3:44:53,  2.92s/it]"
     ]
    },
    {
     "name": "stdout",
     "output_type": "stream",
     "text": [
      "Berry : <h3 id=\"Etymology_1\">Etymology 1</h3> threw exception list index out of range\n",
      "Berry : <h3 id=\"Etymology_2\">Etymology 2</h3> threw exception list index out of range\n"
     ]
    },
    {
     "name": "stderr",
     "output_type": "stream",
     "text": [
      " 12%|████████████████████████▌                                                                                                                                                                                    | 625/5221 [05:48<35:45,  2.14it/s]"
     ]
    },
    {
     "name": "stdout",
     "output_type": "stream",
     "text": [
      "bijou also from Sabir\n"
     ]
    },
    {
     "name": "stderr",
     "output_type": "stream",
     "text": [
      " 12%|████████████████████████▋                                                                                                                                                                                    | 630/5221 [05:49<30:53,  2.48it/s]"
     ]
    },
    {
     "name": "stdout",
     "output_type": "stream",
     "text": [
      "billiard : <h3 id=\"Etymology_1\">Etymology 1</h3> threw exception list index out of range\n"
     ]
    },
    {
     "name": "stderr",
     "output_type": "stream",
     "text": [
      "\r",
      " 12%|████████████████████████▊                                                                                                                                                                                    | 631/5221 [05:50<29:19,  2.61it/s]"
     ]
    },
    {
     "name": "stdout",
     "output_type": "stream",
     "text": [
      "billiards : <h3 id=\"Etymology_2\">Etymology 2</h3> threw exception list index out of range\n"
     ]
    },
    {
     "name": "stderr",
     "output_type": "stream",
     "text": [
      " 12%|█████████████████████████▎                                                                                                                                                                                   | 644/5221 [05:55<29:52,  2.55it/s]"
     ]
    },
    {
     "name": "stdout",
     "output_type": "stream",
     "text": [
      "biset : <h3 id=\"Etymology_1\">Etymology 1</h3> threw exception list index out of range\n"
     ]
    },
    {
     "name": "stderr",
     "output_type": "stream",
     "text": [
      " 13%|██████████████████████████                                                                                                                                                                                   | 664/5221 [06:04<36:15,  2.09it/s]"
     ]
    },
    {
     "name": "stdout",
     "output_type": "stream",
     "text": [
      "bled : <h3 id=\"Etymology_1\">Etymology 1</h3> threw exception list index out of range\n"
     ]
    },
    {
     "name": "stderr",
     "output_type": "stream",
     "text": [
      " 13%|██████████████████████████▍                                                                                                                                                                                  | 673/5221 [06:08<29:35,  2.56it/s]"
     ]
    },
    {
     "name": "stdout",
     "output_type": "stream",
     "text": [
      "Blon also from Belarusian\n"
     ]
    },
    {
     "name": "stderr",
     "output_type": "stream",
     "text": [
      " 13%|██████████████████████████▋                                                                                                                                                                                  | 679/5221 [06:10<31:13,  2.42it/s]"
     ]
    },
    {
     "name": "stdout",
     "output_type": "stream",
     "text": [
      "bobo : <h3 id=\"Etymology_1\">Etymology 1</h3> threw exception list index out of range\n"
     ]
    },
    {
     "name": "stderr",
     "output_type": "stream",
     "text": [
      " 13%|███████████████████████████▎                                                                                                                                                                                 | 696/5221 [06:19<40:05,  1.88it/s]"
     ]
    },
    {
     "name": "stdout",
     "output_type": "stream",
     "text": [
      "bombard also from Middle English\n"
     ]
    },
    {
     "name": "stderr",
     "output_type": "stream",
     "text": [
      "\r",
      " 13%|███████████████████████████▎                                                                                                                                                                                 | 697/5221 [06:19<38:58,  1.93it/s]"
     ]
    },
    {
     "name": "stdout",
     "output_type": "stream",
     "text": [
      "Bombardier : <h3 id=\"Etymology_2\">Etymology 2</h3> threw exception list index out of range\n"
     ]
    },
    {
     "name": "stderr",
     "output_type": "stream",
     "text": [
      " 14%|███████████████████████████▉                                                                                                                                                                                 | 712/5221 [06:26<37:18,  2.01it/s]"
     ]
    },
    {
     "name": "stdout",
     "output_type": "stream",
     "text": [
      "bone also from Middle English\n",
      "bone : <h3 id=\"Etymology_2\">Etymology 2</h3> threw exception list index out of range\n",
      "bone : <h3 id=\"Etymology_4\">Etymology 4</h3> threw exception list index out of range\n"
     ]
    },
    {
     "name": "stderr",
     "output_type": "stream",
     "text": [
      " 14%|████████████████████████████▉                                                                                                                                                                                | 738/5221 [06:36<28:06,  2.66it/s]"
     ]
    },
    {
     "name": "stdout",
     "output_type": "stream",
     "text": [
      "bouche : <h3 id=\"Etymology_2\">Etymology 2</h3> threw exception list index out of range\n"
     ]
    },
    {
     "name": "stderr",
     "output_type": "stream",
     "text": [
      " 14%|█████████████████████████████▎                                                                                                                                                                               | 747/5221 [06:40<30:39,  2.43it/s]"
     ]
    },
    {
     "name": "stdout",
     "output_type": "stream",
     "text": [
      "bouffe : <h3 id=\"Etymology_2\">Etymology 2</h3> threw exception list index out of range\n"
     ]
    },
    {
     "name": "stderr",
     "output_type": "stream",
     "text": [
      " 14%|█████████████████████████████▍                                                                                                                                                                               | 750/5221 [06:41<32:45,  2.27it/s]"
     ]
    },
    {
     "name": "stdout",
     "output_type": "stream",
     "text": [
      "bougie : <h3 id=\"Etymology_2\">Etymology 2</h3> threw exception list index out of range\n"
     ]
    },
    {
     "name": "stderr",
     "output_type": "stream",
     "text": [
      " 14%|█████████████████████████████▋                                                                                                                                                                               | 755/5221 [06:43<31:56,  2.33it/s]"
     ]
    },
    {
     "name": "stdout",
     "output_type": "stream",
     "text": [
      "boule : <h3 id=\"Etymology_2\">Etymology 2</h3> threw exception list index out of range\n",
      "boule also from Ancient Greek\n"
     ]
    },
    {
     "name": "stderr",
     "output_type": "stream",
     "text": [
      " 15%|██████████████████████████████                                                                                                                                                                               | 767/5221 [06:48<31:58,  2.32it/s]"
     ]
    },
    {
     "name": "stdout",
     "output_type": "stream",
     "text": [
      "bourgeois also from Middle English\n"
     ]
    },
    {
     "name": "stderr",
     "output_type": "stream",
     "text": [
      " 15%|██████████████████████████████▎                                                                                                                                                                              | 772/5221 [06:50<29:34,  2.51it/s]"
     ]
    },
    {
     "name": "stdout",
     "output_type": "stream",
     "text": [
      "bourn : <h3 id=\"Etymology_1\">Etymology 1</h3> threw exception list index out of range\n"
     ]
    },
    {
     "name": "stderr",
     "output_type": "stream",
     "text": [
      " 15%|███████████████████████████████                                                                                                                                                                              | 791/5221 [06:58<33:50,  2.18it/s]"
     ]
    },
    {
     "name": "stdout",
     "output_type": "stream",
     "text": [
      "braise : <h3 id=\"Etymology_2\">Etymology 2</h3> threw exception list index out of range\n"
     ]
    },
    {
     "name": "stderr",
     "output_type": "stream",
     "text": [
      " 15%|███████████████████████████████▍                                                                                                                                                                             | 802/5221 [07:03<30:27,  2.42it/s]"
     ]
    },
    {
     "name": "stdout",
     "output_type": "stream",
     "text": [
      "braze also from Middle English\n"
     ]
    },
    {
     "name": "stderr",
     "output_type": "stream",
     "text": [
      " 15%|███████████████████████████████▌                                                                                                                                                                             | 804/5221 [07:04<30:09,  2.44it/s]"
     ]
    },
    {
     "name": "stdout",
     "output_type": "stream",
     "text": [
      "brazier also from Middle English\n"
     ]
    },
    {
     "name": "stderr",
     "output_type": "stream",
     "text": [
      " 16%|███████████████████████████████▊                                                                                                                                                                             | 811/5221 [07:07<31:38,  2.32it/s]"
     ]
    },
    {
     "name": "stdout",
     "output_type": "stream",
     "text": [
      "briar also from Middle English\n"
     ]
    },
    {
     "name": "stderr",
     "output_type": "stream",
     "text": [
      " 16%|████████████████████████████████                                                                                                                                                                             | 817/5221 [07:09<36:40,  2.00it/s]"
     ]
    },
    {
     "name": "stdout",
     "output_type": "stream",
     "text": [
      "bride also from Middle English\n"
     ]
    },
    {
     "name": "stderr",
     "output_type": "stream",
     "text": [
      " 16%|████████████████████████████████▏                                                                                                                                                                            | 819/5221 [07:10<33:17,  2.20it/s]"
     ]
    },
    {
     "name": "stdout",
     "output_type": "stream",
     "text": [
      "Brie : <h3 id=\"Etymology_2\">Etymology 2</h3> threw exception list index out of range\n",
      "Brie : <h3 id=\"Etymology_3\">Etymology 3</h3> threw exception list index out of range\n"
     ]
    },
    {
     "name": "stderr",
     "output_type": "stream",
     "text": [
      " 16%|████████████████████████████████▉                                                                                                                                                                            | 840/5221 [07:19<32:49,  2.22it/s]"
     ]
    },
    {
     "name": "stdout",
     "output_type": "stream",
     "text": [
      "broche : <h3 id=\"Etymology_2\">Etymology 2</h3> threw exception list index out of range\n"
     ]
    },
    {
     "name": "stderr",
     "output_type": "stream",
     "text": [
      " 16%|█████████████████████████████████▍                                                                                                                                                                           | 853/5221 [07:24<34:08,  2.13it/s]"
     ]
    },
    {
     "name": "stdout",
     "output_type": "stream",
     "text": [
      "bruit also from Middle English\n"
     ]
    },
    {
     "name": "stderr",
     "output_type": "stream",
     "text": [
      " 17%|██████████████████████████████████                                                                                                                                                                           | 868/5221 [07:30<32:12,  2.25it/s]"
     ]
    },
    {
     "name": "stdout",
     "output_type": "stream",
     "text": [
      "buffet also from Middle English\n",
      "buffet also from Middle English\n"
     ]
    },
    {
     "name": "stderr",
     "output_type": "stream",
     "text": [
      " 17%|██████████████████████████████████▋                                                                                                                                                                          | 882/5221 [07:38<38:43,  1.87it/s]"
     ]
    },
    {
     "name": "stdout",
     "output_type": "stream",
     "text": [
      "busk : <h3 id=\"Etymology_2\">Etymology 2</h3> threw exception list index out of range\n",
      "busk also from Middle English\n"
     ]
    },
    {
     "name": "stderr",
     "output_type": "stream",
     "text": [
      "\r",
      " 17%|██████████████████████████████████▋                                                                                                                                                                          | 883/5221 [07:38<40:05,  1.80it/s]"
     ]
    },
    {
     "name": "stdout",
     "output_type": "stream",
     "text": [
      "bustier : <h3 id=\"Etymology_2\">Etymology 2</h3> threw exception list index out of range\n"
     ]
    },
    {
     "name": "stderr",
     "output_type": "stream",
     "text": [
      " 17%|███████████████████████████████████▍                                                                                                                                                                         | 901/5221 [07:47<34:24,  2.09it/s]"
     ]
    },
    {
     "name": "stdout",
     "output_type": "stream",
     "text": [
      "cache : <h3 id=\"Etymology_2\">Etymology 2</h3> threw exception list index out of range\n"
     ]
    },
    {
     "name": "stderr",
     "output_type": "stream",
     "text": [
      " 17%|███████████████████████████████████▋                                                                                                                                                                         | 910/5221 [07:50<26:50,  2.68it/s]"
     ]
    },
    {
     "name": "stdout",
     "output_type": "stream",
     "text": [
      "cadis : <h3 id=\"Etymology_1\">Etymology 1</h3> threw exception list index out of range\n"
     ]
    },
    {
     "name": "stderr",
     "output_type": "stream",
     "text": [
      " 18%|████████████████████████████████████▍                                                                                                                                                                        | 929/5221 [07:58<30:20,  2.36it/s]"
     ]
    },
    {
     "name": "stdout",
     "output_type": "stream",
     "text": [
      "caique also from Spanish\n"
     ]
    },
    {
     "name": "stderr",
     "output_type": "stream",
     "text": [
      " 18%|█████████████████████████████████████                                                                                                                                                                        | 945/5221 [08:05<27:34,  2.58it/s]"
     ]
    },
    {
     "name": "stdout",
     "output_type": "stream",
     "text": [
      "calk : <h3 id=\"Etymology_1\">Etymology 1</h3> threw exception list index out of range\n"
     ]
    },
    {
     "name": "stderr",
     "output_type": "stream",
     "text": [
      " 19%|██████████████████████████████████████▌                                                                                                                                                                      | 982/5221 [08:22<39:41,  1.78it/s]"
     ]
    },
    {
     "name": "stdout",
     "output_type": "stream",
     "text": [
      "cape also from Middle English\n"
     ]
    },
    {
     "name": "stderr",
     "output_type": "stream",
     "text": [
      " 19%|██████████████████████████████████████▊                                                                                                                                                                      | 989/5221 [08:25<30:37,  2.30it/s]"
     ]
    },
    {
     "name": "stdout",
     "output_type": "stream",
     "text": [
      "caporal also from Spanish\n"
     ]
    },
    {
     "name": "stderr",
     "output_type": "stream",
     "text": [
      " 19%|███████████████████████████████████████▎                                                                                                                                                                    | 1006/5221 [08:33<31:01,  2.26it/s]"
     ]
    },
    {
     "name": "stdout",
     "output_type": "stream",
     "text": [
      "carene also from Latin\n",
      "carene : <h3 id=\"Etymology_1\">Etymology 1</h3> threw exception list index out of range\n",
      "carene also from Medieval Latin\n",
      "carene : <h3 id=\"Etymology_2\">Etymology 2</h3> threw exception list index out of range\n"
     ]
    },
    {
     "name": "stderr",
     "output_type": "stream",
     "text": [
      " 19%|███████████████████████████████████████▍                                                                                                                                                                    | 1008/5221 [08:34<31:14,  2.25it/s]"
     ]
    },
    {
     "name": "stdout",
     "output_type": "stream",
     "text": [
      "caret also from Latin\n"
     ]
    },
    {
     "name": "stderr",
     "output_type": "stream",
     "text": [
      " 20%|████████████████████████████████████████                                                                                                                                                                    | 1025/5221 [08:41<27:35,  2.53it/s]"
     ]
    },
    {
     "name": "stdout",
     "output_type": "stream",
     "text": [
      "carte : <h3 id=\"Etymology_2\">Etymology 2</h3> threw exception list index out of range\n"
     ]
    },
    {
     "name": "stderr",
     "output_type": "stream",
     "text": [
      " 20%|████████████████████████████████████████▋                                                                                                                                                                   | 1042/5221 [08:48<30:30,  2.28it/s]"
     ]
    },
    {
     "name": "stdout",
     "output_type": "stream",
     "text": [
      "cashier also from Dutch\n",
      "cashier also from Dutch\n"
     ]
    },
    {
     "name": "stderr",
     "output_type": "stream",
     "text": [
      " 20%|████████████████████████████████████████▊                                                                                                                                                                   | 1044/5221 [08:49<29:59,  2.32it/s]"
     ]
    },
    {
     "name": "stdout",
     "output_type": "stream",
     "text": [
      "cassation also from German\n"
     ]
    },
    {
     "name": "stderr",
     "output_type": "stream",
     "text": [
      " 20%|█████████████████████████████████████████▌                                                                                                                                                                  | 1065/5221 [08:57<25:35,  2.71it/s]"
     ]
    },
    {
     "name": "stdout",
     "output_type": "stream",
     "text": [
      "cavin : <h3 id=\"Etymology_2\">Etymology 2</h3> threw exception list index out of range\n"
     ]
    },
    {
     "name": "stderr",
     "output_type": "stream",
     "text": [
      " 21%|██████████████████████████████████████████▊                                                                                                                                                                 | 1096/5221 [09:09<27:12,  2.53it/s]"
     ]
    },
    {
     "name": "stdout",
     "output_type": "stream",
     "text": [
      "cerebral also from Sanskrit\n"
     ]
    },
    {
     "name": "stderr",
     "output_type": "stream",
     "text": [
      " 21%|███████████████████████████████████████████                                                                                                                                                                 | 1103/5221 [09:12<25:39,  2.68it/s]"
     ]
    },
    {
     "name": "stdout",
     "output_type": "stream",
     "text": [
      "CH : <h3 id=\"Etymology_1\">Etymology 1</h3> threw exception list index out of range\n"
     ]
    },
    {
     "name": "stderr",
     "output_type": "stream",
     "text": [
      " 21%|███████████████████████████████████████████▋                                                                                                                                                                | 1119/5221 [09:18<26:48,  2.55it/s]"
     ]
    },
    {
     "name": "stdout",
     "output_type": "stream",
     "text": [
      "cham : <h3 id=\"Etymology_2\">Etymology 2</h3> threw exception list index out of range\n",
      "cham : <h3 id=\"Etymology_3\">Etymology 3</h3> threw exception list index out of range\n"
     ]
    },
    {
     "name": "stderr",
     "output_type": "stream",
     "text": [
      " 22%|███████████████████████████████████████████▉                                                                                                                                                                | 1125/5221 [09:20<26:13,  2.60it/s]"
     ]
    },
    {
     "name": "stdout",
     "output_type": "stream",
     "text": [
      "champ : <h3 id=\"Etymology_1\">Etymology 1</h3> threw exception list index out of range\n",
      "champ also from Middle English\n",
      "champ : <h3 id=\"Etymology_3\">Etymology 3</h3> threw exception list index out of range\n",
      "champ : <h3 id=\"Etymology_5\">Etymology 5</h3> threw exception list index out of range\n"
     ]
    },
    {
     "name": "stderr",
     "output_type": "stream",
     "text": [
      " 22%|█████████████████████████████████████████████                                                                                                                                                               | 1153/5221 [09:32<32:28,  2.09it/s]"
     ]
    },
    {
     "name": "stdout",
     "output_type": "stream",
     "text": [
      "chappe : <h3 id=\"Etymology_2\">Etymology 2</h3> threw exception list index out of range\n"
     ]
    },
    {
     "name": "stderr",
     "output_type": "stream",
     "text": [
      " 23%|██████████████████████████████████████████████                                                                                                                                                              | 1180/5221 [09:42<24:07,  2.79it/s]"
     ]
    },
    {
     "name": "stdout",
     "output_type": "stream",
     "text": [
      "chasse : <h3 id=\"Etymology_2\">Etymology 2</h3> threw exception list index out of range\n",
      "chasse also from Middle English\n"
     ]
    },
    {
     "name": "stderr",
     "output_type": "stream",
     "text": [
      " 24%|████████████████████████████████████████████████▍                                                                                                                                                           | 1241/5221 [10:06<29:46,  2.23it/s]"
     ]
    },
    {
     "name": "stdout",
     "output_type": "stream",
     "text": [
      "chic also from Yucatec Maya\n"
     ]
    },
    {
     "name": "stderr",
     "output_type": "stream",
     "text": [
      " 24%|████████████████████████████████████████████████▌                                                                                                                                                           | 1244/5221 [10:09<59:51,  1.11it/s]"
     ]
    },
    {
     "name": "stdout",
     "output_type": "stream",
     "text": [
      "chichi also from Mexican Spanish\n"
     ]
    },
    {
     "name": "stderr",
     "output_type": "stream",
     "text": [
      " 24%|█████████████████████████████████████████████████▎                                                                                                                                                          | 1263/5221 [10:17<24:23,  2.71it/s]"
     ]
    },
    {
     "name": "stdout",
     "output_type": "stream",
     "text": [
      "chocolatier : <h3 id=\"Etymology_1\">Etymology 1</h3> threw exception list index out of range\n"
     ]
    },
    {
     "name": "stderr",
     "output_type": "stream",
     "text": [
      " 24%|█████████████████████████████████████████████████▉                                                                                                                                                          | 1278/5221 [10:22<23:31,  2.79it/s]"
     ]
    },
    {
     "name": "stdout",
     "output_type": "stream",
     "text": [
      "chromatic : <h3 id=\"Etymology_2\">Etymology 2</h3> threw exception list index out of range\n"
     ]
    },
    {
     "name": "stderr",
     "output_type": "stream",
     "text": [
      " 25%|██████████████████████████████████████████████████▏                                                                                                                                                         | 1283/5221 [10:24<26:54,  2.44it/s]"
     ]
    },
    {
     "name": "stdout",
     "output_type": "stream",
     "text": [
      "chute : <h3 id=\"Etymology_2\">Etymology 2</h3> threw exception list index out of range\n"
     ]
    },
    {
     "name": "stderr",
     "output_type": "stream",
     "text": [
      " 25%|███████████████████████████████████████████████████▍                                                                                                                                                        | 1316/5221 [10:38<23:44,  2.74it/s]"
     ]
    },
    {
     "name": "stdout",
     "output_type": "stream",
     "text": [
      "clapper : <h3 id=\"Etymology_1\">Etymology 1</h3> threw exception list index out of range\n"
     ]
    },
    {
     "name": "stderr",
     "output_type": "stream",
     "text": [
      " 26%|███████████████████████████████████████████████████▉                                                                                                                                                      | 1343/5221 [11:01<4:04:42,  3.79s/it]"
     ]
    },
    {
     "name": "stdout",
     "output_type": "stream",
     "text": [
      "close also from Middle English\n"
     ]
    },
    {
     "name": "stderr",
     "output_type": "stream",
     "text": [
      " 26%|████████████████████████████████████████████████████                                                                                                                                                      | 1347/5221 [11:02<1:14:25,  1.15s/it]"
     ]
    },
    {
     "name": "stdout",
     "output_type": "stream",
     "text": [
      "CLSC : <h3 id=\"Etymology_2\">Etymology 2</h3> threw exception list index out of range\n"
     ]
    },
    {
     "name": "stderr",
     "output_type": "stream",
     "text": [
      " 26%|█████████████████████████████████████████████████████▏                                                                                                                                                      | 1361/5221 [11:08<23:27,  2.74it/s]"
     ]
    },
    {
     "name": "stdout",
     "output_type": "stream",
     "text": [
      "Coin : <h3 id=\"Etymology_1\">Etymology 1</h3> threw exception list index out of range\n"
     ]
    },
    {
     "name": "stderr",
     "output_type": "stream",
     "text": [
      " 26%|█████████████████████████████████████████████████████▎                                                                                                                                                      | 1364/5221 [11:09<30:33,  2.10it/s]"
     ]
    },
    {
     "name": "stdout",
     "output_type": "stream",
     "text": [
      "col : <h3 id=\"Etymology_2\">Etymology 2</h3> threw exception list index out of range\n"
     ]
    },
    {
     "name": "stderr",
     "output_type": "stream",
     "text": [
      " 27%|███████████████████████████████████████████████████████▌                                                                                                                                                    | 1423/5221 [11:34<31:07,  2.03it/s]"
     ]
    },
    {
     "name": "stdout",
     "output_type": "stream",
     "text": [
      "concord : <h3 id=\"Etymology_2\">Etymology 2</h3> threw exception list index out of range\n"
     ]
    },
    {
     "name": "stderr",
     "output_type": "stream",
     "text": [
      " 28%|████████████████████████████████████████████████████████▎                                                                                                                                                   | 1441/5221 [11:44<28:27,  2.21it/s]"
     ]
    },
    {
     "name": "stdout",
     "output_type": "stream",
     "text": [
      "conservatory : <h3 id=\"Etymology_1\">Etymology 1</h3> threw exception list index out of range\n"
     ]
    },
    {
     "name": "stderr",
     "output_type": "stream",
     "text": [
      " 28%|█████████████████████████████████████████████████████████▋                                                                                                                                                  | 1478/5221 [12:01<27:49,  2.24it/s]"
     ]
    },
    {
     "name": "stdout",
     "output_type": "stream",
     "text": [
      "Core also from Ancient Greek\n"
     ]
    },
    {
     "name": "stderr",
     "output_type": "stream",
     "text": [
      " 28%|██████████████████████████████████████████████████████████                                                                                                                                                  | 1485/5221 [12:04<32:41,  1.90it/s]"
     ]
    },
    {
     "name": "stdout",
     "output_type": "stream",
     "text": [
      "correct also from Middle English\n"
     ]
    },
    {
     "name": "stderr",
     "output_type": "stream",
     "text": [
      " 30%|████████████████████████████████████████████████████████████▉                                                                                                                                               | 1561/5221 [12:38<31:01,  1.97it/s]"
     ]
    },
    {
     "name": "stdout",
     "output_type": "stream",
     "text": [
      "couter : <h3 id=\"Etymology_2\">Etymology 2</h3> threw exception list index out of range\n"
     ]
    },
    {
     "name": "stderr",
     "output_type": "stream",
     "text": [
      " 30%|█████████████████████████████████████████████████████████████▎                                                                                                                                              | 1569/5221 [12:41<28:31,  2.13it/s]"
     ]
    },
    {
     "name": "stdout",
     "output_type": "stream",
     "text": [
      "CQ : <h3 id=\"Etymology_1\">Etymology 1</h3> threw exception list index out of range\n"
     ]
    },
    {
     "name": "stderr",
     "output_type": "stream",
     "text": [
      " 31%|██████████████████████████████████████████████████████████████▍                                                                                                                                             | 1599/5221 [12:53<20:32,  2.94it/s]"
     ]
    },
    {
     "name": "stdout",
     "output_type": "stream",
     "text": [
      "crepier : <h3 id=\"Etymology_2\">Etymology 2</h3> threw exception list index out of range\n"
     ]
    },
    {
     "name": "stderr",
     "output_type": "stream",
     "text": [
      " 31%|███████████████████████████████████████████████████████████████▉                                                                                                                                            | 1635/5221 [13:10<26:10,  2.28it/s]"
     ]
    },
    {
     "name": "stdout",
     "output_type": "stream",
     "text": [
      "Crow also from Old English\n"
     ]
    },
    {
     "name": "stderr",
     "output_type": "stream",
     "text": [
      " 31%|███████████████████████████████████████████████████████████████▌                                                                                                                                          | 1644/5221 [13:16<1:19:51,  1.34s/it]"
     ]
    },
    {
     "name": "stdout",
     "output_type": "stream",
     "text": [
      "cue also from Middle English\n",
      "cue also from Latin\n"
     ]
    },
    {
     "name": "stderr",
     "output_type": "stream",
     "text": [
      " 32%|████████████████████████████████████████████████████████████████▉                                                                                                                                           | 1662/5221 [13:24<27:05,  2.19it/s]"
     ]
    },
    {
     "name": "stdout",
     "output_type": "stream",
     "text": [
      "cummer : <h3 id=\"Etymology_2\">Etymology 2</h3> threw exception list index out of range\n"
     ]
    },
    {
     "name": "stderr",
     "output_type": "stream",
     "text": [
      " 32%|█████████████████████████████████████████████████████████████████▍                                                                                                                                          | 1676/5221 [13:30<21:38,  2.73it/s]"
     ]
    },
    {
     "name": "stdout",
     "output_type": "stream",
     "text": [
      "cyme : <h3 id=\"Etymology_2\">Etymology 2</h3> threw exception list index out of range\n"
     ]
    },
    {
     "name": "stderr",
     "output_type": "stream",
     "text": [
      " 33%|████████████████████████████████████████████████████████████████████                                                                                                                                        | 1743/5221 [14:30<21:09,  2.74it/s]"
     ]
    },
    {
     "name": "stdout",
     "output_type": "stream",
     "text": [
      "decime also from Latin\n"
     ]
    },
    {
     "name": "stderr",
     "output_type": "stream",
     "text": [
      " 35%|██████████████████████████████████████████████████████████████████████▊                                                                                                                                     | 1812/5221 [14:59<20:53,  2.72it/s]"
     ]
    },
    {
     "name": "stdout",
     "output_type": "stream",
     "text": [
      "dent also from Middle English\n"
     ]
    },
    {
     "name": "stderr",
     "output_type": "stream",
     "text": [
      " 35%|████████████████████████████████████████████████████████████████████████                                                                                                                                    | 1845/5221 [15:12<25:01,  2.25it/s]"
     ]
    },
    {
     "name": "stdout",
     "output_type": "stream",
     "text": [
      "desert also from Middle English\n",
      "desert also from Middle English\n"
     ]
    },
    {
     "name": "stderr",
     "output_type": "stream",
     "text": [
      " 36%|█████████████████████████████████████████████████████████████████████████▍                                                                                                                                  | 1879/5221 [15:25<21:51,  2.55it/s]"
     ]
    },
    {
     "name": "stdout",
     "output_type": "stream",
     "text": [
      "dey also from Middle English\n",
      "dey : <h3 id=\"Etymology_3\">Etymology 3</h3> threw exception list index out of range\n"
     ]
    },
    {
     "name": "stderr",
     "output_type": "stream",
     "text": [
      " 36%|█████████████████████████████████████████████████████████████████████████▌                                                                                                                                  | 1883/5221 [15:27<21:47,  2.55it/s]"
     ]
    },
    {
     "name": "stdout",
     "output_type": "stream",
     "text": [
      "diablo also from Spanish\n"
     ]
    },
    {
     "name": "stderr",
     "output_type": "stream",
     "text": [
      " 38%|████████████████████████████████████████████████████████████████████████████▊                                                                                                                               | 1966/5221 [16:03<28:55,  1.88it/s]"
     ]
    },
    {
     "name": "stdout",
     "output_type": "stream",
     "text": [
      "dot also from Middle English\n"
     ]
    },
    {
     "name": "stderr",
     "output_type": "stream",
     "text": [
      " 38%|█████████████████████████████████████████████████████████████████████████████▊                                                                                                                              | 1992/5221 [16:13<21:12,  2.54it/s]"
     ]
    },
    {
     "name": "stdout",
     "output_type": "stream",
     "text": [
      "drap : <h3 id=\"Etymology_2\">Etymology 2</h3> threw exception list index out of range\n"
     ]
    },
    {
     "name": "stderr",
     "output_type": "stream",
     "text": [
      " 39%|███████████████████████████████████████████████████████████████████████████████▏                                                                                                                            | 2028/5221 [16:29<23:02,  2.31it/s]"
     ]
    },
    {
     "name": "stdout",
     "output_type": "stream",
     "text": [
      "dupe : <h3 id=\"Etymology_2\">Etymology 2</h3> threw exception list index out of range\n"
     ]
    },
    {
     "name": "stderr",
     "output_type": "stream",
     "text": [
      " 42%|██████████████████████████████████████████████████████████████████████████████████████▍                                                                                                                     | 2212/5221 [17:56<21:13,  2.36it/s]"
     ]
    },
    {
     "name": "stdout",
     "output_type": "stream",
     "text": [
      "envelope : <h3 id=\"Etymology_2\">Etymology 2</h3> threw exception list index out of range\n"
     ]
    },
    {
     "name": "stderr",
     "output_type": "stream",
     "text": [
      " 43%|███████████████████████████████████████████████████████████████████████████████████████▏                                                                                                                    | 2232/5221 [18:04<23:04,  2.16it/s]"
     ]
    },
    {
     "name": "stdout",
     "output_type": "stream",
     "text": [
      "erg also from Ancient Greek\n",
      "erg : <h3 id=\"Etymology_3\">Etymology 3</h3> threw exception list index out of range\n"
     ]
    },
    {
     "name": "stderr",
     "output_type": "stream",
     "text": [
      " 46%|████████████████████████████████████████████████████████████████████████████████████████████▉                                                                                                               | 2380/5221 [19:08<23:59,  1.97it/s]"
     ]
    },
    {
     "name": "stdout",
     "output_type": "stream",
     "text": [
      "feint : <h3 id=\"Etymology_2\">Etymology 2</h3> threw exception list index out of range\n"
     ]
    },
    {
     "name": "stderr",
     "output_type": "stream",
     "text": [
      " 46%|██████████████████████████████████████████████████████████████████████████████████████████████▋                                                                                                             | 2423/5221 [19:27<28:18,  1.65it/s]"
     ]
    },
    {
     "name": "stdout",
     "output_type": "stream",
     "text": [
      "fin also from Middle English\n",
      "fin also from Yiddish\n"
     ]
    },
    {
     "name": "stderr",
     "output_type": "stream",
     "text": [
      " 47%|██████████████████████████████████████████████████████████████████████████████████████████████▊                                                                                                             | 2428/5221 [19:29<22:18,  2.09it/s]"
     ]
    },
    {
     "name": "stdout",
     "output_type": "stream",
     "text": [
      "fish also from Middle English\n",
      "fish : <h3 id=\"Etymology_2\">Etymology 2</h3> threw exception list index out of range\n",
      "fish also from Old English\n"
     ]
    },
    {
     "name": "stderr",
     "output_type": "stream",
     "text": [
      "\r",
      " 47%|██████████████████████████████████████████████████████████████████████████████████████████████▉                                                                                                             | 2429/5221 [19:29<22:22,  2.08it/s]"
     ]
    },
    {
     "name": "stdout",
     "output_type": "stream",
     "text": [
      "fisher also from Middle English\n"
     ]
    },
    {
     "name": "stderr",
     "output_type": "stream",
     "text": [
      " 47%|███████████████████████████████████████████████████████████████████████████████████████████████▍                                                                                                            | 2442/5221 [19:35<20:09,  2.30it/s]"
     ]
    },
    {
     "name": "stdout",
     "output_type": "stream",
     "text": [
      "flan : <h3 id=\"Etymology_2\">Etymology 2</h3> threw exception list index out of range\n"
     ]
    },
    {
     "name": "stderr",
     "output_type": "stream",
     "text": [
      " 47%|████████████████████████████████████████████████████████████████████████████████████████████████                                                                                                            | 2460/5221 [19:42<21:26,  2.15it/s]"
     ]
    },
    {
     "name": "stdout",
     "output_type": "stream",
     "text": [
      "floss also from Middle English\n",
      "floss also from Middle English\n",
      "floss also from North Germanic\n"
     ]
    },
    {
     "name": "stderr",
     "output_type": "stream",
     "text": [
      " 48%|█████████████████████████████████████████████████████████████████████████████████████████████████▋                                                                                                          | 2500/5221 [19:59<18:55,  2.40it/s]"
     ]
    },
    {
     "name": "stdout",
     "output_type": "stream",
     "text": [
      "fourgon : <h3 id=\"Etymology_2\">Etymology 2</h3> threw exception list index out of range\n"
     ]
    },
    {
     "name": "stderr",
     "output_type": "stream",
     "text": [
      " 48%|██████████████████████████████████████████████████████████████████████████████████████████████████                                                                                                          | 2509/5221 [20:03<19:53,  2.27it/s]"
     ]
    },
    {
     "name": "stdout",
     "output_type": "stream",
     "text": [
      "fraise also from Middle English\n",
      "fraise : <h3 id=\"Etymology_3\">Etymology 3</h3> threw exception list index out of range\n",
      "fraise : <h3 id=\"Etymology_5\">Etymology 5</h3> threw exception list index out of range\n"
     ]
    },
    {
     "name": "stderr",
     "output_type": "stream",
     "text": [
      " 49%|████████████████████████████████████████████████████████████████████████████████████████████████████▏                                                                                                       | 2565/5221 [21:01<18:06,  2.45it/s]"
     ]
    },
    {
     "name": "stdout",
     "output_type": "stream",
     "text": [
      "Gaby : <h3 id=\"Etymology_1\">Etymology 1</h3> threw exception list index out of range\n"
     ]
    },
    {
     "name": "stderr",
     "output_type": "stream",
     "text": [
      " 49%|███████████████████████████████████████████████████████████████████████████████████████████████████▋                                                                                                      | 2577/5221 [21:13<1:43:28,  2.35s/it]"
     ]
    },
    {
     "name": "stdout",
     "output_type": "stream",
     "text": [
      "gall also from Middle English\n"
     ]
    },
    {
     "name": "stderr",
     "output_type": "stream",
     "text": [
      " 50%|█████████████████████████████████████████████████████████████████████████████████████████████████████▉                                                                                                      | 2608/5221 [21:26<18:12,  2.39it/s]"
     ]
    },
    {
     "name": "stdout",
     "output_type": "stream",
     "text": [
      "garrot : <h3 id=\"Etymology_2\">Etymology 2</h3> threw exception list index out of range\n"
     ]
    },
    {
     "name": "stderr",
     "output_type": "stream",
     "text": [
      " 50%|██████████████████████████████████████████████████████████████████████████████████████████████████████▊                                                                                                     | 2632/5221 [21:37<17:27,  2.47it/s]"
     ]
    },
    {
     "name": "stdout",
     "output_type": "stream",
     "text": [
      "gelee also from Yoruba\n"
     ]
    },
    {
     "name": "stderr",
     "output_type": "stream",
     "text": [
      " 51%|███████████████████████████████████████████████████████████████████████████████████████████████████████▋                                                                                                    | 2655/5221 [21:47<18:18,  2.34it/s]"
     ]
    },
    {
     "name": "stdout",
     "output_type": "stream",
     "text": [
      "Gers : <h3 id=\"Etymology_2\">Etymology 2</h3> threw exception list index out of range\n"
     ]
    },
    {
     "name": "stderr",
     "output_type": "stream",
     "text": [
      " 51%|████████████████████████████████████████████████████████████████████████████████████████████████████████▎                                                                                                   | 2671/5221 [21:55<20:53,  2.03it/s]"
     ]
    },
    {
     "name": "stdout",
     "output_type": "stream",
     "text": [
      "gimp also from Dutch\n",
      "gimp : <h3 id=\"Etymology_2\">Etymology 2</h3> threw exception list index out of range\n",
      "gimp also from Welsh\n"
     ]
    },
    {
     "name": "stderr",
     "output_type": "stream",
     "text": [
      " 51%|████████████████████████████████████████████████████████████████████████████████████████████████████████▉                                                                                                   | 2685/5221 [22:01<18:49,  2.25it/s]"
     ]
    },
    {
     "name": "stdout",
     "output_type": "stream",
     "text": [
      "gland also from Scots\n"
     ]
    },
    {
     "name": "stderr",
     "output_type": "stream",
     "text": [
      " 52%|█████████████████████████████████████████████████████████████████████████████████████████████████████████▌                                                                                                  | 2702/5221 [22:09<18:45,  2.24it/s]"
     ]
    },
    {
     "name": "stdout",
     "output_type": "stream",
     "text": [
      "goddam : <h3 id=\"Etymology_2\">Etymology 2</h3> threw exception list index out of range\n"
     ]
    },
    {
     "name": "stderr",
     "output_type": "stream",
     "text": [
      " 52%|█████████████████████████████████████████████████████████████████████████████████████████████████████████▋                                                                                                  | 2705/5221 [22:10<16:09,  2.59it/s]"
     ]
    },
    {
     "name": "stdout",
     "output_type": "stream",
     "text": [
      "goffer : <h3 id=\"Etymology_2\">Etymology 2</h3> threw exception list index out of range\n"
     ]
    },
    {
     "name": "stderr",
     "output_type": "stream",
     "text": [
      "\r",
      " 52%|█████████████████████████████████████████████████████████████████████████████████████████████████████████▋                                                                                                  | 2706/5221 [22:10<16:04,  2.61it/s]"
     ]
    },
    {
     "name": "stdout",
     "output_type": "stream",
     "text": [
      "Goh also from Min Nan\n"
     ]
    },
    {
     "name": "stderr",
     "output_type": "stream",
     "text": [
      " 52%|██████████████████████████████████████████████████████████████████████████████████████████████████████████▏                                                                                                 | 2718/5221 [22:15<17:48,  2.34it/s]"
     ]
    },
    {
     "name": "stdout",
     "output_type": "stream",
     "text": [
      "gour : <h3 id=\"Etymology_1\">Etymology 1</h3> threw exception list index out of range\n"
     ]
    },
    {
     "name": "stderr",
     "output_type": "stream",
     "text": [
      " 52%|██████████████████████████████████████████████████████████████████████████████████████████████████████████▎                                                                                                 | 2721/5221 [22:16<16:45,  2.49it/s]"
     ]
    },
    {
     "name": "stdout",
     "output_type": "stream",
     "text": [
      "gourmandise : <h3 id=\"Etymology_1\">Etymology 1</h3> threw exception list index out of range\n"
     ]
    },
    {
     "name": "stderr",
     "output_type": "stream",
     "text": [
      " 52%|██████████████████████████████████████████████████████████████████████████████████████████████████████████▍                                                                                                 | 2724/5221 [22:18<19:08,  2.17it/s]"
     ]
    },
    {
     "name": "stdout",
     "output_type": "stream",
     "text": [
      "gout also from Middle English\n"
     ]
    },
    {
     "name": "stderr",
     "output_type": "stream",
     "text": [
      " 53%|███████████████████████████████████████████████████████████████████████████████████████████████████████████▋                                                                                                | 2757/5221 [22:31<15:48,  2.60it/s]"
     ]
    },
    {
     "name": "stdout",
     "output_type": "stream",
     "text": [
      "greige : <h3 id=\"Etymology_2\">Etymology 2</h3> threw exception list index out of range\n"
     ]
    },
    {
     "name": "stderr",
     "output_type": "stream",
     "text": [
      " 53%|████████████████████████████████████████████████████████████████████████████████████████████████████████████                                                                                                | 2765/5221 [22:35<18:46,  2.18it/s]"
     ]
    },
    {
     "name": "stdout",
     "output_type": "stream",
     "text": [
      "grill also from Middle English\n",
      "grill also from Middle English\n"
     ]
    },
    {
     "name": "stderr",
     "output_type": "stream",
     "text": [
      " 53%|████████████████████████████████████████████████████████████████████████████████████████████████████████████▌                                                                                               | 2780/5221 [22:41<19:43,  2.06it/s]"
     ]
    },
    {
     "name": "stdout",
     "output_type": "stream",
     "text": [
      "grot : <h3 id=\"Etymology_2\">Etymology 2</h3> threw exception list index out of range\n"
     ]
    },
    {
     "name": "stderr",
     "output_type": "stream",
     "text": [
      " 54%|██████████████████████████████████████████████████████████████████████████████████████████████████████████████▏                                                                                             | 2820/5221 [23:04<21:09,  1.89it/s]"
     ]
    },
    {
     "name": "stdout",
     "output_type": "stream",
     "text": [
      "haha : <h3 id=\"Etymology_1\">Etymology 1</h3> threw exception list index out of range\n"
     ]
    },
    {
     "name": "stderr",
     "output_type": "stream",
     "text": [
      " 56%|███████████████████████████████████████████████████████████████████████████████████████████████████████████████████▏                                                                                        | 2947/5221 [23:57<18:13,  2.08it/s]"
     ]
    },
    {
     "name": "stdout",
     "output_type": "stream",
     "text": [
      "instant also from Middle English\n"
     ]
    },
    {
     "name": "stderr",
     "output_type": "stream",
     "text": [
      " 57%|██████████████████████████████████████████████████████████████████████████████████████████████████████████████████▊                                                                                      | 2983/5221 [25:25<11:28:36, 18.46s/it]"
     ]
    },
    {
     "name": "stdout",
     "output_type": "stream",
     "text": [
      "jade also from Middle English\n"
     ]
    },
    {
     "name": "stderr",
     "output_type": "stream",
     "text": [
      " 57%|███████████████████████████████████████████████████████████████████████████████████████████████████████████████████▌                                                                                      | 2988/5221 [25:27<2:09:45,  3.49s/it]"
     ]
    },
    {
     "name": "stdout",
     "output_type": "stream",
     "text": [
      "Janelle : <h3 id=\"Etymology_1\">Etymology 1</h3> threw exception list index out of range\n"
     ]
    },
    {
     "name": "stderr",
     "output_type": "stream",
     "text": [
      " 57%|█████████████████████████████████████████████████████████████████████████████████████████████████████████████████████                                                                                       | 2996/5221 [25:31<23:58,  1.55it/s]"
     ]
    },
    {
     "name": "stdout",
     "output_type": "stream",
     "text": [
      "java : <h3 id=\"Etymology_1\">Etymology 1</h3> threw exception list index out of range\n"
     ]
    },
    {
     "name": "stderr",
     "output_type": "stream",
     "text": [
      " 57%|████████████████████████████████████████████████████████████████████████████████████████████████████████████████████                                                                                      | 3001/5221 [25:53<3:54:26,  6.34s/it]"
     ]
    },
    {
     "name": "stdout",
     "output_type": "stream",
     "text": [
      "jet also from Middle English\n"
     ]
    },
    {
     "name": "stderr",
     "output_type": "stream",
     "text": [
      " 58%|█████████████████████████████████████████████████████████████████████████████████████████████████████████████████████▊                                                                                      | 3015/5221 [26:02<22:57,  1.60it/s]"
     ]
    },
    {
     "name": "stdout",
     "output_type": "stream",
     "text": [
      "journal also from Middle English\n"
     ]
    },
    {
     "name": "stderr",
     "output_type": "stream",
     "text": [
      " 58%|██████████████████████████████████████████████████████████████████████████████████████████████████████████████████████                                                                                      | 3021/5221 [26:08<34:52,  1.05it/s]"
     ]
    },
    {
     "name": "stdout",
     "output_type": "stream",
     "text": [
      "jube also from Ancient Greek\n",
      "jube : <h3 id=\"Etymology_3\">Etymology 3</h3> threw exception list index out of range\n"
     ]
    },
    {
     "name": "stderr",
     "output_type": "stream",
     "text": [
      " 58%|██████████████████████████████████████████████████████████████████████████████████████████████████████████████████████                                                                                      | 3023/5221 [26:09<24:24,  1.50it/s]"
     ]
    },
    {
     "name": "stdout",
     "output_type": "stream",
     "text": [
      "juju : <h3 id=\"Etymology_2\">Etymology 2</h3> threw exception list index out of range\n",
      "juju : <h3 id=\"Etymology_3\">Etymology 3</h3> threw exception list index out of range\n"
     ]
    },
    {
     "name": "stderr",
     "output_type": "stream",
     "text": [
      " 58%|██████████████████████████████████████████████████████████████████████████████████████████████████████████████████████▎                                                                                     | 3028/5221 [26:11<18:19,  2.00it/s]"
     ]
    },
    {
     "name": "stdout",
     "output_type": "stream",
     "text": [
      "Jura also from Scottish Gaelic\n"
     ]
    },
    {
     "name": "stderr",
     "output_type": "stream",
     "text": [
      " 59%|███████████████████████████████████████████████████████████████████████████████████████████████████████████████████████▍                                                                                    | 3057/5221 [26:29<19:18,  1.87it/s]"
     ]
    },
    {
     "name": "stdout",
     "output_type": "stream",
     "text": [
      "La Tache also from Spanish\n"
     ]
    },
    {
     "name": "stderr",
     "output_type": "stream",
     "text": [
      " 59%|█████████████████████████████████████████████████████████████████████████████████████████████████████████████████████████▏                                                                                  | 3101/5221 [26:53<16:10,  2.18it/s]"
     ]
    },
    {
     "name": "stdout",
     "output_type": "stream",
     "text": [
      "lames : <h3 id=\"Etymology_1\">Etymology 1</h3> threw exception list index out of range\n"
     ]
    },
    {
     "name": "stderr",
     "output_type": "stream",
     "text": [
      " 60%|█████████████████████████████████████████████████████████████████████████████████████████████████████████████████████████▊                                                                                  | 3119/5221 [27:03<21:12,  1.65it/s]"
     ]
    },
    {
     "name": "stdout",
     "output_type": "stream",
     "text": [
      "Laos : <h3 id=\"Etymology_2\">Etymology 2</h3> threw exception list index out of range\n"
     ]
    },
    {
     "name": "stderr",
     "output_type": "stream",
     "text": [
      " 61%|███████████████████████████████████████████████████████████████████████████████████████████████████████████████████████████▊                                                                                | 3170/5221 [27:29<15:39,  2.18it/s]"
     ]
    },
    {
     "name": "stdout",
     "output_type": "stream",
     "text": [
      "leger : <h3 id=\"Etymology_2\">Etymology 2</h3> threw exception list index out of range\n"
     ]
    },
    {
     "name": "stderr",
     "output_type": "stream",
     "text": [
      " 61%|████████████████████████████████████████████████████████████████████████████████████████████████████████████████████████████▏                                                                               | 3178/5221 [27:33<17:46,  1.92it/s]"
     ]
    },
    {
     "name": "stdout",
     "output_type": "stream",
     "text": [
      "Lemans : <h3 id=\"Etymology_1\">Etymology 1</h3> threw exception list index out of range\n",
      "Lemans also from Middle English\n",
      "Lemans also from Dutch\n"
     ]
    },
    {
     "name": "stderr",
     "output_type": "stream",
     "text": [
      " 61%|████████████████████████████████████████████████████████████████████████████████████████████████████████████████████████████▉                                                                               | 3199/5221 [27:43<22:01,  1.53it/s]"
     ]
    },
    {
     "name": "stdout",
     "output_type": "stream",
     "text": [
      "lever also from Middle English\n",
      "lever also from Middle English\n"
     ]
    },
    {
     "name": "stderr",
     "output_type": "stream",
     "text": [
      " 61%|█████████████████████████████████████████████████████████████████████████████████████████████████████████████████████████████                                                                               | 3202/5221 [27:46<22:25,  1.50it/s]"
     ]
    },
    {
     "name": "stdout",
     "output_type": "stream",
     "text": [
      "Ley : <h3 id=\"Etymology_1\">Etymology 1</h3> threw exception list index out of range\n"
     ]
    },
    {
     "name": "stderr",
     "output_type": "stream",
     "text": [
      " 62%|██████████████████████████████████████████████████████████████████████████████████████████████████████████████████████████████▌                                                                             | 3239/5221 [28:04<16:26,  2.01it/s]"
     ]
    },
    {
     "name": "stdout",
     "output_type": "stream",
     "text": [
      "lisse also from Old English\n"
     ]
    },
    {
     "name": "stderr",
     "output_type": "stream",
     "text": [
      " 62%|██████████████████████████████████████████████████████████████████████████████████████████████████████████████████████████████▉                                                                             | 3250/5221 [28:09<16:48,  1.95it/s]"
     ]
    },
    {
     "name": "stdout",
     "output_type": "stream",
     "text": [
      "logistics : <h3 id=\"Etymology_2\">Etymology 2</h3> threw exception list index out of range\n"
     ]
    },
    {
     "name": "stderr",
     "output_type": "stream",
     "text": [
      " 63%|████████████████████████████████████████████████████████████████████████████████████████████████████████████████████████████████▌                                                                           | 3289/5221 [28:28<17:28,  1.84it/s]"
     ]
    },
    {
     "name": "stdout",
     "output_type": "stream",
     "text": [
      "lunel : <h3 id=\"Etymology_1\">Etymology 1</h3> threw exception list index out of range\n"
     ]
    },
    {
     "name": "stderr",
     "output_type": "stream",
     "text": [
      " 63%|████████████████████████████████████████████████████████████████████████████████████████████████████████████████████████████████▋                                                                           | 3292/5221 [28:30<19:06,  1.68it/s]"
     ]
    },
    {
     "name": "stdout",
     "output_type": "stream",
     "text": [
      "lurch also from Latin\n"
     ]
    },
    {
     "name": "stderr",
     "output_type": "stream",
     "text": [
      " 63%|████████████████████████████████████████████████████████████████████████████████████████████████████████████████████████████████▊                                                                           | 3298/5221 [28:35<22:54,  1.40it/s]"
     ]
    },
    {
     "name": "stdout",
     "output_type": "stream",
     "text": [
      "Lyon also from Middle English\n",
      "Lyon : <h3 id=\"Etymology_3\">Etymology 3</h3> threw exception list index out of range\n"
     ]
    },
    {
     "name": "stderr",
     "output_type": "stream",
     "text": [
      " 63%|█████████████████████████████████████████████████████████████████████████████████████████████████████████████████████████████████▏                                                                          | 3305/5221 [28:38<16:17,  1.96it/s]"
     ]
    },
    {
     "name": "stdout",
     "output_type": "stream",
     "text": [
      "macaroon also from Italian\n"
     ]
    },
    {
     "name": "stderr",
     "output_type": "stream",
     "text": [
      " 64%|██████████████████████████████████████████████████████████████████████████████████████████████████████████████████████████████████                                                                          | 3329/5221 [29:26<17:31,  1.80it/s]"
     ]
    },
    {
     "name": "stdout",
     "output_type": "stream",
     "text": [
      "Maine : <h3 id=\"Etymology_3\">Etymology 3</h3> threw exception list index out of range\n",
      "Maine : <h3 id=\"Etymology_4\">Etymology 4</h3> threw exception list index out of range\n",
      "Maine also from Old Irish\n",
      "Maine : <h3 id=\"Etymology_6\">Etymology 6</h3> threw exception list index out of range\n"
     ]
    },
    {
     "name": "stderr",
     "output_type": "stream",
     "text": [
      "\r",
      " 64%|██████████████████████████████████████████████████████████████████████████████████████████████████████████████████████████████████                                                                          | 3330/5221 [29:27<19:49,  1.59it/s]"
     ]
    },
    {
     "name": "stdout",
     "output_type": "stream",
     "text": [
      "Maire also from Irish\n"
     ]
    },
    {
     "name": "stderr",
     "output_type": "stream",
     "text": [
      " 64%|██████████████████████████████████████████████████████████████████████████████████████████████████████████████████████████████████▌                                                                         | 3341/5221 [29:32<16:13,  1.93it/s]"
     ]
    },
    {
     "name": "stdout",
     "output_type": "stream",
     "text": [
      "maki also from Japanese\n"
     ]
    },
    {
     "name": "stderr",
     "output_type": "stream",
     "text": [
      "\r",
      " 64%|██████████████████████████████████████████████████████████████████████████████████████████████████████████████████████████████████▌                                                                         | 3342/5221 [29:33<21:19,  1.47it/s]"
     ]
    },
    {
     "name": "stdout",
     "output_type": "stream",
     "text": [
      "mal : <h3 id=\"Etymology_2\">Etymology 2</h3> threw exception list index out of range\n",
      "mal : <h3 id=\"Etymology_3\">Etymology 3</h3> threw exception list index out of range\n"
     ]
    },
    {
     "name": "stderr",
     "output_type": "stream",
     "text": [
      " 65%|█████████████████████████████████████████████████████████████████████████████████████████████████████████████████████████████████████▎                                                                      | 3411/5221 [30:09<16:14,  1.86it/s]"
     ]
    },
    {
     "name": "stdout",
     "output_type": "stream",
     "text": [
      "maroon : <h3 id=\"Etymology_3\">Etymology 3</h3> threw exception list index out of range\n",
      "maroon : <h3 id=\"Etymology_4\">Etymology 4</h3> threw exception list index out of range\n"
     ]
    },
    {
     "name": "stderr",
     "output_type": "stream",
     "text": [
      " 66%|█████████████████████████████████████████████████████████████████████████████████████████████████████████████████████████████████████▋                                                                      | 3423/5221 [30:15<17:34,  1.70it/s]"
     ]
    },
    {
     "name": "stdout",
     "output_type": "stream",
     "text": [
      "Marseille : <h3 id=\"Etymology_2\">Etymology 2</h3> threw exception list index out of range\n"
     ]
    },
    {
     "name": "stderr",
     "output_type": "stream",
     "text": [
      " 66%|████████████████████████████████████████████████████████████████████████████████████████████████████████████████████████████████████▌                                                                     | 3426/5221 [30:52<5:30:35, 11.05s/it]"
     ]
    },
    {
     "name": "stdout",
     "output_type": "stream",
     "text": [
      "martinet : <h3 id=\"Etymology_1\">Etymology 1</h3> threw exception list index out of range\n"
     ]
    },
    {
     "name": "stderr",
     "output_type": "stream",
     "text": [
      " 66%|████████████████████████████████████████████████████████████████████████████████████████████████████████████████████████████████████▋                                                                     | 3428/5221 [30:53<2:53:18,  5.80s/it]"
     ]
    },
    {
     "name": "stdout",
     "output_type": "stream",
     "text": [
      "mas : <h3 id=\"Etymology_2\">Etymology 2</h3> threw exception list index out of range\n",
      "mas : <h3 id=\"Etymology_3\">Etymology 3</h3> threw exception list index out of range\n"
     ]
    },
    {
     "name": "stderr",
     "output_type": "stream",
     "text": [
      " 66%|██████████████████████████████████████████████████████████████████████████████████████████████████████████████████████████████████████▉                                                                     | 3453/5221 [31:05<18:40,  1.58it/s]"
     ]
    },
    {
     "name": "stdout",
     "output_type": "stream",
     "text": [
      "Maura also from Irish\n",
      "Maura also from Catalan\n"
     ]
    },
    {
     "name": "stderr",
     "output_type": "stream",
     "text": [
      " 67%|███████████████████████████████████████████████████████████████████████████████████████████████████████████████████████████████████████▊                                                                    | 3475/5221 [31:17<17:11,  1.69it/s]"
     ]
    },
    {
     "name": "stdout",
     "output_type": "stream",
     "text": [
      "melodeon : <h3 id=\"Etymology_2\">Etymology 2</h3> threw exception list index out of range\n"
     ]
    },
    {
     "name": "stderr",
     "output_type": "stream",
     "text": [
      " 67%|████████████████████████████████████████████████████████████████████████████████████████████████████████████████████████████████████████▎                                                                   | 3488/5221 [31:58<23:17,  1.24it/s]"
     ]
    },
    {
     "name": "stdout",
     "output_type": "stream",
     "text": [
      "Mercy : <h3 id=\"Etymology_1\">Etymology 1</h3> threw exception list index out of range\n"
     ]
    },
    {
     "name": "stderr",
     "output_type": "stream",
     "text": [
      " 67%|████████████████████████████████████████████████████████████████████████████████████████████████████████████████████████████████████████▍                                                                   | 3491/5221 [32:00<17:48,  1.62it/s]"
     ]
    },
    {
     "name": "stdout",
     "output_type": "stream",
     "text": [
      "meridian also from Middle English\n",
      "meridian also from Middle English\n"
     ]
    },
    {
     "name": "stderr",
     "output_type": "stream",
     "text": [
      " 67%|████████████████████████████████████████████████████████████████████████████████████████████████████████████████████████████████████████▌                                                                   | 3496/5221 [32:02<13:36,  2.11it/s]"
     ]
    },
    {
     "name": "stdout",
     "output_type": "stream",
     "text": [
      "Merle : <h3 id=\"Etymology_2\">Etymology 2</h3> threw exception list index out of range\n"
     ]
    },
    {
     "name": "stderr",
     "output_type": "stream",
     "text": [
      "\r",
      " 67%|████████████████████████████████████████████████████████████████████████████████████████████████████████████████████████████████████████▋                                                                   | 3497/5221 [32:03<14:35,  1.97it/s]"
     ]
    },
    {
     "name": "stdout",
     "output_type": "stream",
     "text": [
      "merlon : <h3 id=\"Etymology_2\">Etymology 2</h3> threw exception list index out of range\n"
     ]
    },
    {
     "name": "stderr",
     "output_type": "stream",
     "text": [
      " 67%|█████████████████████████████████████████████████████████████████████████████████████████████████████████████████████████████████████████▎                                                                  | 3513/5221 [32:16<27:13,  1.05it/s]"
     ]
    },
    {
     "name": "stdout",
     "output_type": "stream",
     "text": [
      "Metis also from Ancient Greek\n"
     ]
    },
    {
     "name": "stderr",
     "output_type": "stream",
     "text": [
      "\r",
      " 67%|█████████████████████████████████████████████████████████████████████████████████████████████████████████████████████████████████████████▎                                                                  | 3514/5221 [32:17<23:19,  1.22it/s]"
     ]
    },
    {
     "name": "stdout",
     "output_type": "stream",
     "text": [
      "metis also from Ancient Greek\n"
     ]
    },
    {
     "name": "stderr",
     "output_type": "stream",
     "text": [
      " 67%|█████████████████████████████████████████████████████████████████████████████████████████████████████████████████████████████████████████▍                                                                  | 3516/5221 [32:18<20:02,  1.42it/s]"
     ]
    },
    {
     "name": "stdout",
     "output_type": "stream",
     "text": [
      "metre also from Old English\n"
     ]
    },
    {
     "name": "stderr",
     "output_type": "stream",
     "text": [
      "\r",
      " 67%|█████████████████████████████████████████████████████████████████████████████████████████████████████████████████████████████████████████▍                                                                  | 3517/5221 [32:19<18:37,  1.52it/s]"
     ]
    },
    {
     "name": "stdout",
     "output_type": "stream",
     "text": [
      "metro : <h3 id=\"Etymology_2\">Etymology 2</h3> threw exception list index out of range\n"
     ]
    },
    {
     "name": "stderr",
     "output_type": "stream",
     "text": [
      " 68%|██████████████████████████████████████████████████████████████████████████████████████████████████████████████████████████████████████████                                                                  | 3532/5221 [32:26<14:17,  1.97it/s]"
     ]
    },
    {
     "name": "stdout",
     "output_type": "stream",
     "text": [
      "Milan also from Italian\n",
      "Milan also from Slavic\n"
     ]
    },
    {
     "name": "stderr",
     "output_type": "stream",
     "text": [
      " 68%|██████████████████████████████████████████████████████████████████████████████████████████████████████████████████████████████████████████▎                                                                 | 3539/5221 [32:29<12:22,  2.27it/s]"
     ]
    },
    {
     "name": "stdout",
     "output_type": "stream",
     "text": [
      "Milot also from Albanian\n"
     ]
    },
    {
     "name": "stderr",
     "output_type": "stream",
     "text": [
      " 68%|██████████████████████████████████████████████████████████████████████████████████████████████████████████████████████████████████████████▍                                                                 | 3543/5221 [32:31<17:06,  1.63it/s]"
     ]
    },
    {
     "name": "stdout",
     "output_type": "stream",
     "text": [
      "mine also from Middle English\n",
      "mine also from Middle English\n"
     ]
    },
    {
     "name": "stderr",
     "output_type": "stream",
     "text": [
      " 68%|██████████████████████████████████████████████████████████████████████████████████████████████████████████████████████████████████████████▊                                                                 | 3552/5221 [32:35<12:07,  2.29it/s]"
     ]
    },
    {
     "name": "stdout",
     "output_type": "stream",
     "text": [
      "mise : <h3 id=\"Etymology_2\">Etymology 2</h3> threw exception list index out of range\n"
     ]
    },
    {
     "name": "stderr",
     "output_type": "stream",
     "text": [
      " 68%|███████████████████████████████████████████████████████████████████████████████████████████████████████████████████████████████████████████                                                                 | 3559/5221 [32:38<11:36,  2.39it/s]"
     ]
    },
    {
     "name": "stdout",
     "output_type": "stream",
     "text": [
      "Misson also from Old English\n"
     ]
    },
    {
     "name": "stderr",
     "output_type": "stream",
     "text": [
      " 69%|███████████████████████████████████████████████████████████████████████████████████████████████████████████████████████████████████████████▊                                                                | 3577/5221 [32:46<11:28,  2.39it/s]"
     ]
    },
    {
     "name": "stdout",
     "output_type": "stream",
     "text": [
      "moil also from Middle English\n"
     ]
    },
    {
     "name": "stderr",
     "output_type": "stream",
     "text": [
      " 69%|████████████████████████████████████████████████████████████████████████████████████████████████████████████████████████████████████████████▉                                                               | 3606/5221 [32:59<11:41,  2.30it/s]"
     ]
    },
    {
     "name": "stdout",
     "output_type": "stream",
     "text": [
      "Montgolfier : <h3 id=\"Etymology_2\">Etymology 2</h3> threw exception list index out of range\n"
     ]
    },
    {
     "name": "stderr",
     "output_type": "stream",
     "text": [
      " 69%|█████████████████████████████████████████████████████████████████████████████████████████████████████████████████████████████████████████████▎                                                              | 3616/5221 [33:04<14:01,  1.91it/s]"
     ]
    },
    {
     "name": "stdout",
     "output_type": "stream",
     "text": [
      "More also from Scottish Gaelic\n"
     ]
    },
    {
     "name": "stderr",
     "output_type": "stream",
     "text": [
      "\r",
      " 69%|█████████████████████████████████████████████████████████████████████████████████████████████████████████████████████████████████████████████▎                                                              | 3617/5221 [33:05<14:06,  1.89it/s]"
     ]
    },
    {
     "name": "stdout",
     "output_type": "stream",
     "text": [
      "morel : <h3 id=\"Etymology_2\">Etymology 2</h3> threw exception list index out of range\n"
     ]
    },
    {
     "name": "stderr",
     "output_type": "stream",
     "text": [
      " 69%|█████████████████████████████████████████████████████████████████████████████████████████████████████████████████████████████████████████████▌                                                              | 3624/5221 [33:08<14:40,  1.81it/s]"
     ]
    },
    {
     "name": "stdout",
     "output_type": "stream",
     "text": [
      "Moroni : <h3 id=\"Etymology_2\">Etymology 2</h3> threw exception list index out of range\n"
     ]
    },
    {
     "name": "stderr",
     "output_type": "stream",
     "text": [
      " 70%|█████████████████████████████████████████████████████████████████████████████████████████████████████████████████████████████████████████████▊                                                              | 3629/5221 [33:11<13:54,  1.91it/s]"
     ]
    },
    {
     "name": "stdout",
     "output_type": "stream",
     "text": [
      "mort also from Icelandic\n",
      "mort : <h3 id=\"Etymology_3\">Etymology 3</h3> threw exception list index out of range\n",
      "mort : <h3 id=\"Etymology_4\">Etymology 4</h3> threw exception list index out of range\n",
      "mort also from Welsh\n"
     ]
    },
    {
     "name": "stderr",
     "output_type": "stream",
     "text": [
      " 70%|█████████████████████████████████████████████████████████████████████████████████████████████████████████████████████████████████████████████▉                                                              | 3633/5221 [33:13<12:58,  2.04it/s]"
     ]
    },
    {
     "name": "stdout",
     "output_type": "stream",
     "text": [
      "motard : <h3 id=\"Etymology_2\">Etymology 2</h3> threw exception list index out of range\n"
     ]
    },
    {
     "name": "stderr",
     "output_type": "stream",
     "text": [
      "\r",
      " 70%|█████████████████████████████████████████████████████████████████████████████████████████████████████████████████████████████████████████████▉                                                              | 3634/5221 [33:13<12:42,  2.08it/s]"
     ]
    },
    {
     "name": "stdout",
     "output_type": "stream",
     "text": [
      "mother sauces : <h3 id=\"Etymology_1\">Etymology 1</h3> threw exception list index out of range\n"
     ]
    },
    {
     "name": "stderr",
     "output_type": "stream",
     "text": [
      " 70%|██████████████████████████████████████████████████████████████████████████████████████████████████████████████████████████████████████████████▌                                                             | 3648/5221 [33:20<12:25,  2.11it/s]"
     ]
    },
    {
     "name": "stdout",
     "output_type": "stream",
     "text": [
      "Moulins : <h3 id=\"Etymology_2\">Etymology 2</h3> threw exception list index out of range\n"
     ]
    },
    {
     "name": "stderr",
     "output_type": "stream",
     "text": [
      " 70%|███████████████████████████████████████████████████████████████████████████████████████████████████████████████████████████████████████████████                                                             | 3663/5221 [33:26<11:48,  2.20it/s]"
     ]
    },
    {
     "name": "stdout",
     "output_type": "stream",
     "text": [
      "Mura also from Slovene\n",
      "Mura also from Catalan\n"
     ]
    },
    {
     "name": "stderr",
     "output_type": "stream",
     "text": [
      " 70%|███████████████████████████████████████████████████████████████████████████████████████████████████████████████████████████████████████████████▏                                                            | 3665/5221 [33:27<12:48,  2.03it/s]"
     ]
    },
    {
     "name": "stdout",
     "output_type": "stream",
     "text": [
      "Murat also from Turkish\n"
     ]
    },
    {
     "name": "stderr",
     "output_type": "stream",
     "text": [
      " 71%|████████████████████████████████████████████████████████████████████████████████████████████████████████████████████████████████████████████████                                                            | 3688/5221 [33:38<13:15,  1.93it/s]"
     ]
    },
    {
     "name": "stdout",
     "output_type": "stream",
     "text": [
      "nap also from Middle English\n",
      "nap also from Middle English\n",
      "nap : <h3 id=\"Etymology_3\">Etymology 3</h3> threw exception list index out of range\n",
      "nap also from North Germanic\n",
      "nap also from Middle English\n"
     ]
    },
    {
     "name": "stderr",
     "output_type": "stream",
     "text": [
      " 71%|████████████████████████████████████████████████████████████████████████████████████████████████████████████████████████████████████████████████▊                                                           | 3705/5221 [33:46<11:39,  2.17it/s]"
     ]
    },
    {
     "name": "stdout",
     "output_type": "stream",
     "text": [
      "Naves also from Portuguese\n",
      "Naves : <h3 id=\"Etymology_2\">Etymology 2</h3> threw exception list index out of range\n"
     ]
    },
    {
     "name": "stderr",
     "output_type": "stream",
     "text": [
      " 71%|████████████████████████████████████████████████████████████████████████████████████████████████████████████████████████████████████████████████▊                                                           | 3707/5221 [33:47<11:44,  2.15it/s]"
     ]
    },
    {
     "name": "stdout",
     "output_type": "stream",
     "text": [
      "Necker : <h3 id=\"Etymology_1\">Etymology 1</h3> threw exception list index out of range\n",
      "Necker also from Dutch\n",
      "Necker also from German\n"
     ]
    },
    {
     "name": "stderr",
     "output_type": "stream",
     "text": [
      "\r",
      " 71%|████████████████████████████████████████████████████████████████████████████████████████████████████████████████████████████████████████████████▉                                                           | 3708/5221 [33:47<11:44,  2.15it/s]"
     ]
    },
    {
     "name": "stdout",
     "output_type": "stream",
     "text": [
      "nee also from Old English\n"
     ]
    },
    {
     "name": "stderr",
     "output_type": "stream",
     "text": [
      " 71%|████████████████████████████████████████████████████████████████████████████████████████████████████████████████████████████████████████████████▉                                                           | 3710/5221 [33:48<10:56,  2.30it/s]"
     ]
    },
    {
     "name": "stdout",
     "output_type": "stream",
     "text": [
      "nef : <h3 id=\"Etymology_2\">Etymology 2</h3> threw exception list index out of range\n"
     ]
    },
    {
     "name": "stderr",
     "output_type": "stream",
     "text": [
      " 72%|██████████████████████████████████████████████████████████████████████████████████████████████████████████████████████████████████████████████████▎                                                         | 3746/5221 [34:06<12:00,  2.05it/s]"
     ]
    },
    {
     "name": "stdout",
     "output_type": "stream",
     "text": [
      "nome also from Ancient Greek\n",
      "nome : <h3 id=\"Etymology_3\">Etymology 3</h3> threw exception list index out of range\n"
     ]
    },
    {
     "name": "stderr",
     "output_type": "stream",
     "text": [
      " 72%|██████████████████████████████████████████████████████████████████████████████████████████████████████████████████████████████████████████████████▌                                                         | 3751/5221 [34:09<13:41,  1.79it/s]"
     ]
    },
    {
     "name": "stdout",
     "output_type": "stream",
     "text": [
      "norman : <h3 id=\"Etymology_2\">Etymology 2</h3> threw exception list index out of range\n"
     ]
    },
    {
     "name": "stderr",
     "output_type": "stream",
     "text": [
      " 73%|████████████████████████████████████████████████████████████████████████████████████████████████████████████████████████████████████████████████████▎                                                       | 3796/5221 [34:33<11:36,  2.05it/s]"
     ]
    },
    {
     "name": "stdout",
     "output_type": "stream",
     "text": [
      "ombre : <h3 id=\"Etymology_2\">Etymology 2</h3> threw exception list index out of range\n"
     ]
    },
    {
     "name": "stderr",
     "output_type": "stream",
     "text": [
      " 74%|██████████████████████████████████████████████████████████████████████████████████████████████████████████████████████████████████████████████████████▌                                                     | 3854/5221 [35:07<14:09,  1.61it/s]"
     ]
    },
    {
     "name": "stdout",
     "output_type": "stream",
     "text": [
      "paillard also from Middle English\n"
     ]
    },
    {
     "name": "stderr",
     "output_type": "stream",
     "text": [
      " 74%|██████████████████████████████████████████████████████████████████████████████████████████████████████████████████████████████████████████████████████▉                                                     | 3864/5221 [35:12<12:50,  1.76it/s]"
     ]
    },
    {
     "name": "stdout",
     "output_type": "stream",
     "text": [
      "palatine also from Middle English\n"
     ]
    },
    {
     "name": "stderr",
     "output_type": "stream",
     "text": [
      " 74%|█████████████████████████████████████████████████████████████████████████████████████████████████████████████████████████████████████████████████████▊                                                    | 3873/5221 [35:48<3:41:44,  9.87s/it]"
     ]
    },
    {
     "name": "stdout",
     "output_type": "stream",
     "text": [
      "panda also from Hindi\n"
     ]
    },
    {
     "name": "stderr",
     "output_type": "stream",
     "text": [
      " 74%|███████████████████████████████████████████████████████████████████████████████████████████████████████████████████████████████████████████████████████▊                                                    | 3886/5221 [35:55<13:54,  1.60it/s]"
     ]
    },
    {
     "name": "stdout",
     "output_type": "stream",
     "text": [
      "par : <h3 id=\"Etymology_1\">Etymology 1</h3> threw exception list index out of range\n",
      "par also from Latin\n",
      "par : <h3 id=\"Etymology_4\">Etymology 4</h3> threw exception list index out of range\n"
     ]
    },
    {
     "name": "stderr",
     "output_type": "stream",
     "text": [
      " 75%|████████████████████████████████████████████████████████████████████████████████████████████████████████████████████████████████████████████████████████▉                                                   | 3914/5221 [36:09<12:53,  1.69it/s]"
     ]
    },
    {
     "name": "stdout",
     "output_type": "stream",
     "text": [
      "pas : <h3 id=\"Etymology_2\">Etymology 2</h3> threw exception list index out of range\n"
     ]
    },
    {
     "name": "stderr",
     "output_type": "stream",
     "text": [
      " 75%|█████████████████████████████████████████████████████████████████████████████████████████████████████████████████████████████████████████████████████████▎                                                  | 3924/5221 [36:13<09:38,  2.24it/s]"
     ]
    },
    {
     "name": "stdout",
     "output_type": "stream",
     "text": [
      "pastel also from Spanish\n"
     ]
    },
    {
     "name": "stderr",
     "output_type": "stream",
     "text": [
      " 75%|█████████████████████████████████████████████████████████████████████████████████████████████████████████████████████████████████████████████████████████▌                                                  | 3929/5221 [36:15<09:08,  2.36it/s]"
     ]
    },
    {
     "name": "stdout",
     "output_type": "stream",
     "text": [
      "pastille also from Middle English\n",
      "pastille : <h3 id=\"Etymology_2\">Etymology 2</h3> threw exception list index out of range\n"
     ]
    },
    {
     "name": "stderr",
     "output_type": "stream",
     "text": [
      " 75%|█████████████████████████████████████████████████████████████████████████████████████████████████████████████████████████████████████████████████████████▋                                                  | 3934/5221 [36:17<09:25,  2.27it/s]"
     ]
    },
    {
     "name": "stdout",
     "output_type": "stream",
     "text": [
      "pate also from Middle English\n"
     ]
    },
    {
     "name": "stderr",
     "output_type": "stream",
     "text": [
      " 76%|██████████████████████████████████████████████████████████████████████████████████████████████████████████████████████████████████████████████████████████▎                                                 | 3950/5221 [36:24<08:32,  2.48it/s]"
     ]
    },
    {
     "name": "stdout",
     "output_type": "stream",
     "text": [
      "Pauline : <h3 id=\"Etymology_2\">Etymology 2</h3> threw exception list index out of range\n"
     ]
    },
    {
     "name": "stderr",
     "output_type": "stream",
     "text": [
      " 76%|███████████████████████████████████████████████████████████████████████████████████████████████████████████████████████████████████████████████████████████▎                                                | 3976/5221 [36:35<08:20,  2.49it/s]"
     ]
    },
    {
     "name": "stdout",
     "output_type": "stream",
     "text": [
      "Pequin : <h3 id=\"Etymology_2\">Etymology 2</h3> threw exception list index out of range\n"
     ]
    },
    {
     "name": "stderr",
     "output_type": "stream",
     "text": [
      " 78%|██████████████████████████████████████████████████████████████████████████████████████████████████████████████████████████████████████████████████████████████▊                                             | 4064/5221 [37:14<09:02,  2.13it/s]"
     ]
    },
    {
     "name": "stdout",
     "output_type": "stream",
     "text": [
      "pique also from Spanish\n",
      "pique also from Late Latin\n"
     ]
    },
    {
     "name": "stderr",
     "output_type": "stream",
     "text": [
      " 78%|███████████████████████████████████████████████████████████████████████████████████████████████████████████████████████████████████████████████████████████████                                             | 4072/5221 [37:18<10:04,  1.90it/s]"
     ]
    },
    {
     "name": "stdout",
     "output_type": "stream",
     "text": [
      "piscine also from Latin\n"
     ]
    },
    {
     "name": "stderr",
     "output_type": "stream",
     "text": [
      " 79%|█████████████████████████████████████████████████████████████████████████████████████████████████████████████████████████████████████████████████████████████████▏                                          | 4125/5221 [37:43<07:04,  2.58it/s]"
     ]
    },
    {
     "name": "stdout",
     "output_type": "stream",
     "text": [
      "Poitiers : <h3 id=\"Etymology_2\">Etymology 2</h3> threw exception list index out of range\n"
     ]
    },
    {
     "name": "stderr",
     "output_type": "stream",
     "text": [
      " 79%|██████████████████████████████████████████████████████████████████████████████████████████████████████████████████████████████████████████████████████████████████                                          | 4147/5221 [38:28<13:19,  1.34it/s]"
     ]
    },
    {
     "name": "stdout",
     "output_type": "stream",
     "text": [
      "Pompey also from Middle English\n",
      "Pompey : <h3 id=\"Etymology_2\">Etymology 2</h3> threw exception list index out of range\n"
     ]
    },
    {
     "name": "stderr",
     "output_type": "stream",
     "text": [
      " 80%|██████████████████████████████████████████████████████████████████████████████████████████████████████████████████████████████████████████████████████████████████▎                                         | 4154/5221 [38:32<10:10,  1.75it/s]"
     ]
    },
    {
     "name": "stdout",
     "output_type": "stream",
     "text": [
      "pool also from Middle English\n"
     ]
    },
    {
     "name": "stderr",
     "output_type": "stream",
     "text": [
      " 80%|██████████████████████████████████████████████████████████████████████████████████████████████████████████████████████████████████████████████████████████████████▋                                         | 4163/5221 [38:36<07:41,  2.29it/s]"
     ]
    },
    {
     "name": "stdout",
     "output_type": "stream",
     "text": [
      "portmanteau : <h3 id=\"Etymology_2\">Etymology 2</h3> threw exception list index out of range\n"
     ]
    },
    {
     "name": "stderr",
     "output_type": "stream",
     "text": [
      " 80%|██████████████████████████████████████████████████████████████████████████████████████████████████████████████████████████████████████████████████████████████████▉                                         | 4169/5221 [38:39<10:40,  1.64it/s]"
     ]
    },
    {
     "name": "stdout",
     "output_type": "stream",
     "text": [
      "post also from Old English\n",
      "post also from Latin\n",
      "post : <h3 id=\"Etymology_5\">Etymology 5</h3> threw exception list index out of range\n",
      "post : <h3 id=\"Etymology_6\">Etymology 6</h3> threw exception list index out of range\n"
     ]
    },
    {
     "name": "stderr",
     "output_type": "stream",
     "text": [
      " 80%|███████████████████████████████████████████████████████████████████████████████████████████████████████████████████████████████████████████████████████████████████▎                                        | 4181/5221 [38:44<07:48,  2.22it/s]"
     ]
    },
    {
     "name": "stdout",
     "output_type": "stream",
     "text": [
      "poule : <h3 id=\"Etymology_2\">Etymology 2</h3> threw exception list index out of range\n"
     ]
    },
    {
     "name": "stderr",
     "output_type": "stream",
     "text": [
      " 80%|███████████████████████████████████████████████████████████████████████████████████████████████████████████████████████████████████████████████████████████████████▌                                        | 4185/5221 [38:46<07:26,  2.32it/s]"
     ]
    },
    {
     "name": "stdout",
     "output_type": "stream",
     "text": [
      "pounce also from Middle English\n"
     ]
    },
    {
     "name": "stderr",
     "output_type": "stream",
     "text": [
      " 81%|████████████████████████████████████████████████████████████████████████████████████████████████████████████████████████████████████████████████████████████████████▎                                       | 4206/5221 [39:14<08:15,  2.05it/s]"
     ]
    },
    {
     "name": "stdout",
     "output_type": "stream",
     "text": [
      "presidentiable : <h3 id=\"Etymology_2\">Etymology 2</h3> threw exception list index out of range\n"
     ]
    },
    {
     "name": "stderr",
     "output_type": "stream",
     "text": [
      " 81%|████████████████████████████████████████████████████████████████████████████████████████████████████████████████████████████████████████████████████████████████████▋                                       | 4215/5221 [39:18<09:20,  1.80it/s]"
     ]
    },
    {
     "name": "stdout",
     "output_type": "stream",
     "text": [
      "primate also from Middle English\n"
     ]
    },
    {
     "name": "stderr",
     "output_type": "stream",
     "text": [
      "\r",
      " 81%|████████████████████████████████████████████████████████████████████████████████████████████████████████████████████████████████████████████████████████████████████▋                                       | 4216/5221 [39:19<10:25,  1.61it/s]"
     ]
    },
    {
     "name": "stdout",
     "output_type": "stream",
     "text": [
      "prime : <h3 id=\"Etymology_2\">Etymology 2</h3> threw exception list index out of range\n"
     ]
    },
    {
     "name": "stderr",
     "output_type": "stream",
     "text": [
      " 81%|██████████████████████████████████████████████████████████████████████████████████████████████████████████████████████████████████████████████████████████████████████                                      | 4251/5221 [39:36<06:53,  2.35it/s]"
     ]
    },
    {
     "name": "stdout",
     "output_type": "stream",
     "text": [
      "puit : <h3 id=\"Etymology_2\">Etymology 2</h3> threw exception list index out of range\n"
     ]
    },
    {
     "name": "stderr",
     "output_type": "stream",
     "text": [
      "\r",
      " 81%|██████████████████████████████████████████████████████████████████████████████████████████████████████████████████████████████████████████████████████████████████████▏                                     | 4252/5221 [39:36<07:14,  2.23it/s]"
     ]
    },
    {
     "name": "stdout",
     "output_type": "stream",
     "text": [
      "pule : <h3 id=\"Etymology_2\">Etymology 2</h3> threw exception list index out of range\n"
     ]
    },
    {
     "name": "stderr",
     "output_type": "stream",
     "text": [
      " 81%|██████████████████████████████████████████████████████████████████████████████████████████████████████████████████████████████████████████████████████████████████████▎                                     | 4255/5221 [39:38<07:57,  2.02it/s]"
     ]
    },
    {
     "name": "stdout",
     "output_type": "stream",
     "text": [
      "punt also from Old English\n",
      "punt : <h3 id=\"Etymology_2\">Etymology 2</h3> threw exception list index out of range\n",
      "punt also from Irish\n"
     ]
    },
    {
     "name": "stderr",
     "output_type": "stream",
     "text": [
      " 82%|██████████████████████████████████████████████████████████████████████████████████████████████████████████████████████████████████████████████████████████████████████▍                                     | 4260/5221 [39:41<12:30,  1.28it/s]"
     ]
    },
    {
     "name": "stdout",
     "output_type": "stream",
     "text": [
      "puree also from Hindi\n"
     ]
    },
    {
     "name": "stderr",
     "output_type": "stream",
     "text": [
      " 82%|██████████████████████████████████████████████████████████████████████████████████████████████████████████████████████████████████████████████████████████████████████▌                                     | 4263/5221 [39:42<08:19,  1.92it/s]"
     ]
    },
    {
     "name": "stdout",
     "output_type": "stream",
     "text": [
      "putty : <h3 id=\"Etymology_2\">Etymology 2</h3> threw exception list index out of range\n",
      "putty : <h3 id=\"Etymology_3\">Etymology 3</h3> threw exception list index out of range\n"
     ]
    },
    {
     "name": "stderr",
     "output_type": "stream",
     "text": [
      " 82%|██████████████████████████████████████████████████████████████████████████████████████████████████████████████████████████████████████████████████████████████████████▊                                     | 4268/5221 [39:44<06:13,  2.55it/s]"
     ]
    },
    {
     "name": "stdout",
     "output_type": "stream",
     "text": [
      "quadrat also from Latin\n"
     ]
    },
    {
     "name": "stderr",
     "output_type": "stream",
     "text": [
      " 82%|██████████████████████████████████████████████████████████████████████████████████████████████████████████████████████████████████████████████████████████████████████▉                                     | 4274/5221 [39:47<07:48,  2.02it/s]"
     ]
    },
    {
     "name": "stdout",
     "output_type": "stream",
     "text": [
      "quarter also from Middle English\n"
     ]
    },
    {
     "name": "stderr",
     "output_type": "stream",
     "text": [
      " 82%|███████████████████████████████████████████████████████████████████████████████████████████████████████████████████████████████████████████████████████████████████████▊                                    | 4294/5221 [39:55<06:51,  2.25it/s]"
     ]
    },
    {
     "name": "stdout",
     "output_type": "stream",
     "text": [
      "Quintin : <h3 id=\"Etymology_1\">Etymology 1</h3> threw exception list index out of range\n"
     ]
    },
    {
     "name": "stderr",
     "output_type": "stream",
     "text": [
      " 83%|████████████████████████████████████████████████████████████████████████████████████████████████████████████████████████████████████████████████████████████████████████▊                                   | 4319/5221 [40:07<08:38,  1.74it/s]"
     ]
    },
    {
     "name": "stdout",
     "output_type": "stream",
     "text": [
      "rail also from Middle English\n",
      "rail also from Middle English\n",
      "rail also from Anglo-Norman\n"
     ]
    },
    {
     "name": "stderr",
     "output_type": "stream",
     "text": [
      " 83%|█████████████████████████████████████████████████████████████████████████████████████████████████████████████████████████████████████████████████████████████████████████                                   | 4327/5221 [40:11<07:38,  1.95it/s]"
     ]
    },
    {
     "name": "stdout",
     "output_type": "stream",
     "text": [
      "ramp : <h3 id=\"Etymology_2\">Etymology 2</h3> threw exception list index out of range\n"
     ]
    },
    {
     "name": "stderr",
     "output_type": "stream",
     "text": [
      " 83%|█████████████████████████████████████████████████████████████████████████████████████████████████████████████████████████████████████████████████████████████████████████▍                                  | 4336/5221 [40:16<07:11,  2.05it/s]"
     ]
    },
    {
     "name": "stdout",
     "output_type": "stream",
     "text": [
      "Ras also from Czech\n",
      "Ras : <h3 id=\"Etymology_2\">Etymology 2</h3> threw exception list index out of range\n"
     ]
    },
    {
     "name": "stderr",
     "output_type": "stream",
     "text": [
      " 83%|█████████████████████████████████████████████████████████████████████████████████████████████████████████████████████████████████████████████████████████████████████████▋                                  | 4344/5221 [40:20<07:17,  2.00it/s]"
     ]
    },
    {
     "name": "stdout",
     "output_type": "stream",
     "text": [
      "ravine also from Middle English\n"
     ]
    },
    {
     "name": "stderr",
     "output_type": "stream",
     "text": [
      " 83%|██████████████████████████████████████████████████████████████████████████████████████████████████████████████████████████████████████████████████████████████████████████▏                                 | 4355/5221 [40:24<05:50,  2.47it/s]"
     ]
    },
    {
     "name": "stdout",
     "output_type": "stream",
     "text": [
      "recollection : <h3 id=\"Etymology_2\">Etymology 2</h3> threw exception list index out of range\n"
     ]
    },
    {
     "name": "stderr",
     "output_type": "stream",
     "text": [
      " 84%|███████████████████████████████████████████████████████████████████████████████████████████████████████████████████████████████████████████████████████████████████████████▌                                | 4392/5221 [40:41<06:41,  2.06it/s]"
     ]
    },
    {
     "name": "stdout",
     "output_type": "stream",
     "text": [
      "renter : <h3 id=\"Etymology_1\">Etymology 1</h3> threw exception list index out of range\n"
     ]
    },
    {
     "name": "stderr",
     "output_type": "stream",
     "text": [
      " 84%|███████████████████████████████████████████████████████████████████████████████████████████████████████████████████████████████████████████████████████████████████████████▊                                | 4398/5221 [40:43<05:43,  2.40it/s]"
     ]
    },
    {
     "name": "stdout",
     "output_type": "stream",
     "text": [
      "repique : <h3 id=\"Etymology_2\">Etymology 2</h3> threw exception list index out of range\n"
     ]
    },
    {
     "name": "stderr",
     "output_type": "stream",
     "text": [
      " 85%|████████████████████████████████████████████████████████████████████████████████████████████████████████████████████████████████████████████████████████████████████████████▍                               | 4413/5221 [40:51<06:54,  1.95it/s]"
     ]
    },
    {
     "name": "stdout",
     "output_type": "stream",
     "text": [
      "resume also from Anglo-Norman\n"
     ]
    },
    {
     "name": "stderr",
     "output_type": "stream",
     "text": [
      "\r",
      " 85%|████████████████████████████████████████████████████████████████████████████████████████████████████████████████████████████████████████████████████████████████████████████▍                               | 4414/5221 [40:51<06:36,  2.04it/s]"
     ]
    },
    {
     "name": "stdout",
     "output_type": "stream",
     "text": [
      "retable : <h3 id=\"Etymology_2\">Etymology 2</h3> threw exception list index out of range\n"
     ]
    },
    {
     "name": "stderr",
     "output_type": "stream",
     "text": [
      " 85%|████████████████████████████████████████████████████████████████████████████████████████████████████████████████████████████████████████████████████████████████████████████▊                               | 4423/5221 [40:55<05:04,  2.62it/s]"
     ]
    },
    {
     "name": "stdout",
     "output_type": "stream",
     "text": [
      "revision : <h3 id=\"Etymology_2\">Etymology 2</h3> threw exception list index out of range\n"
     ]
    },
    {
     "name": "stderr",
     "output_type": "stream",
     "text": [
      " 85%|█████████████████████████████████████████████████████████████████████████████████████████████████████████████████████████████████████████████████████████████████████████████▍                              | 4439/5221 [41:01<04:48,  2.71it/s]"
     ]
    },
    {
     "name": "stdout",
     "output_type": "stream",
     "text": [
      "risque : <h3 id=\"Etymology_2\">Etymology 2</h3> threw exception list index out of range\n"
     ]
    },
    {
     "name": "stderr",
     "output_type": "stream",
     "text": [
      " 85%|█████████████████████████████████████████████████████████████████████████████████████████████████████████████████████████████████████████████████████████████████████████████▋                              | 4446/5221 [41:05<06:24,  2.02it/s]"
     ]
    },
    {
     "name": "stdout",
     "output_type": "stream",
     "text": [
      "rob also from Middle English\n"
     ]
    },
    {
     "name": "stderr",
     "output_type": "stream",
     "text": [
      " 85%|██████████████████████████████████████████████████████████████████████████████████████████████████████████████████████████████████████████████████████████████████████████████                              | 4456/5221 [41:09<05:37,  2.27it/s]"
     ]
    },
    {
     "name": "stdout",
     "output_type": "stream",
     "text": [
      "robinet : <h3 id=\"Etymology_1\">Etymology 1</h3> threw exception list index out of range\n",
      "robinet : <h3 id=\"Etymology_2\">Etymology 2</h3> threw exception list index out of range\n"
     ]
    },
    {
     "name": "stderr",
     "output_type": "stream",
     "text": [
      " 85%|██████████████████████████████████████████████████████████████████████████████████████████████████████████████████████████████████████████████████████████████████████████████▎                             | 4461/5221 [41:11<06:09,  2.06it/s]"
     ]
    },
    {
     "name": "stdout",
     "output_type": "stream",
     "text": [
      "rocket also from Italian\n"
     ]
    },
    {
     "name": "stderr",
     "output_type": "stream",
     "text": [
      " 86%|██████████████████████████████████████████████████████████████████████████████████████████████████████████████████████████████████████████████████████████████████████████████▌                             | 4468/5221 [41:14<05:48,  2.16it/s]"
     ]
    },
    {
     "name": "stdout",
     "output_type": "stream",
     "text": [
      "role : <h3 id=\"Etymology_2\">Etymology 2</h3> threw exception list index out of range\n"
     ]
    },
    {
     "name": "stderr",
     "output_type": "stream",
     "text": [
      " 86%|██████████████████████████████████████████████████████████████████████████████████████████████████████████████████████████████████████████████████████████████████████████████▊                             | 4475/5221 [41:18<07:05,  1.75it/s]"
     ]
    },
    {
     "name": "stdout",
     "output_type": "stream",
     "text": [
      "Romulus also from Latin\n"
     ]
    },
    {
     "name": "stderr",
     "output_type": "stream",
     "text": [
      " 86%|███████████████████████████████████████████████████████████████████████████████████████████████████████████████████████████████████████████████████████████████████████████████▏                            | 4483/5221 [41:21<05:54,  2.08it/s]"
     ]
    },
    {
     "name": "stdout",
     "output_type": "stream",
     "text": [
      "Rosemont : <h3 id=\"Etymology_1\">Etymology 1</h3> threw exception list index out of range\n"
     ]
    },
    {
     "name": "stderr",
     "output_type": "stream",
     "text": [
      " 86%|███████████████████████████████████████████████████████████████████████████████████████████████████████████████████████████████████████████████████████████████████████████████▊                            | 4499/5221 [41:29<05:07,  2.35it/s]"
     ]
    },
    {
     "name": "stdout",
     "output_type": "stream",
     "text": [
      "Rousse : <h3 id=\"Etymology_2\">Etymology 2</h3> threw exception list index out of range\n"
     ]
    },
    {
     "name": "stderr",
     "output_type": "stream",
     "text": [
      " 86%|████████████████████████████████████████████████████████████████████████████████████████████████████████████████████████████████████████████████████████████████████████████████                            | 4506/5221 [41:31<04:37,  2.58it/s]"
     ]
    },
    {
     "name": "stdout",
     "output_type": "stream",
     "text": [
      "RPA : <h3 id=\"Etymology_1\">Etymology 1</h3> threw exception list index out of range\n"
     ]
    },
    {
     "name": "stderr",
     "output_type": "stream",
     "text": [
      "\r",
      " 86%|████████████████████████████████████████████████████████████████████████████████████████████████████████████████████████████████████████████████████████████████████████████████                            | 4507/5221 [41:32<05:03,  2.36it/s]"
     ]
    },
    {
     "name": "stdout",
     "output_type": "stream",
     "text": [
      "RSVP : <h3 id=\"Etymology_2\">Etymology 2</h3> threw exception list index out of range\n"
     ]
    },
    {
     "name": "stderr",
     "output_type": "stream",
     "text": [
      " 87%|████████████████████████████████████████████████████████████████████████████████████████████████████████████████████████████████████████████████████████████████████████████████▋                           | 4522/5221 [41:40<05:49,  2.00it/s]"
     ]
    },
    {
     "name": "stdout",
     "output_type": "stream",
     "text": [
      "sac : <h3 id=\"Etymology_2\">Etymology 2</h3> threw exception list index out of range\n",
      "sac : <h3 id=\"Etymology_3\">Etymology 3</h3> threw exception list index out of range\n"
     ]
    },
    {
     "name": "stderr",
     "output_type": "stream",
     "text": [
      " 87%|█████████████████████████████████████████████████████████████████████████████████████████████████████████████████████████████████████████████████████████████████████████████████▉                          | 4554/5221 [41:54<06:11,  1.80it/s]"
     ]
    },
    {
     "name": "stdout",
     "output_type": "stream",
     "text": [
      "sally also from Middle English\n",
      "sally : <h3 id=\"Etymology_3\">Etymology 3</h3> threw exception list index out of range\n",
      "sally : <h3 id=\"Etymology_4\">Etymology 4</h3> threw exception list index out of range\n"
     ]
    },
    {
     "name": "stderr",
     "output_type": "stream",
     "text": [
      " 88%|██████████████████████████████████████████████████████████████████████████████████████████████████████████████████████████████████████████████████████████████████████████████████▊                         | 4575/5221 [42:04<05:31,  1.95it/s]"
     ]
    },
    {
     "name": "stdout",
     "output_type": "stream",
     "text": [
      "Santy : <h3 id=\"Etymology_1\">Etymology 1</h3> threw exception list index out of range\n"
     ]
    },
    {
     "name": "stderr",
     "output_type": "stream",
     "text": [
      " 88%|██████████████████████████████████████████████████████████████████████████████████████████████████████████████████████████████████████████████████████████████████████████████████▊                         | 4577/5221 [42:05<06:20,  1.69it/s]"
     ]
    },
    {
     "name": "stdout",
     "output_type": "stream",
     "text": [
      "sap also from Middle English\n",
      "sap : <h3 id=\"Etymology_2\">Etymology 2</h3> threw exception list index out of range\n"
     ]
    },
    {
     "name": "stderr",
     "output_type": "stream",
     "text": [
      " 88%|███████████████████████████████████████████████████████████████████████████████████████████████████████████████████████████████████████████████████████████████████████████████████▍                        | 4593/5221 [42:13<05:28,  1.91it/s]"
     ]
    },
    {
     "name": "stdout",
     "output_type": "stream",
     "text": [
      "saucier : <h3 id=\"Etymology_1\">Etymology 1</h3> threw exception list index out of range\n",
      "saucier : <h3 id=\"Etymology_3\">Etymology 3</h3> threw exception list index out of range\n"
     ]
    },
    {
     "name": "stderr",
     "output_type": "stream",
     "text": [
      " 88%|███████████████████████████████████████████████████████████████████████████████████████████████████████████████████████████████████████████████████████████████████████████████████▋                        | 4600/5221 [42:16<04:22,  2.36it/s]"
     ]
    },
    {
     "name": "stdout",
     "output_type": "stream",
     "text": [
      "sauter : <h3 id=\"Etymology_1\">Etymology 1</h3> threw exception list index out of range\n",
      "sauter : <h3 id=\"Etymology_3\">Etymology 3</h3> threw exception list index out of range\n"
     ]
    },
    {
     "name": "stderr",
     "output_type": "stream",
     "text": [
      " 88%|████████████████████████████████████████████████████████████████████████████████████████████████████████████████████████████████████████████████████████████████████████████████████▍                       | 4618/5221 [42:24<04:25,  2.27it/s]"
     ]
    },
    {
     "name": "stdout",
     "output_type": "stream",
     "text": [
      "season also from Middle English\n"
     ]
    },
    {
     "name": "stderr",
     "output_type": "stream",
     "text": [
      " 89%|████████████████████████████████████████████████████████████████████████████████████████████████████████████████████████████████████████████████████████████████████████████████████▋                       | 4625/5221 [42:27<04:45,  2.08it/s]"
     ]
    },
    {
     "name": "stdout",
     "output_type": "stream",
     "text": [
      "sell also from Middle English\n",
      "sell also from Dutch\n"
     ]
    },
    {
     "name": "stderr",
     "output_type": "stream",
     "text": [
      " 89%|██████████████████████████████████████████████████████████████████████████████████████████████████████████████████████████████████████████████████████████████████████████████████████▏                     | 4663/5221 [42:42<03:55,  2.36it/s]"
     ]
    },
    {
     "name": "stdout",
     "output_type": "stream",
     "text": [
      "shako also from Japanese\n"
     ]
    },
    {
     "name": "stderr",
     "output_type": "stream",
     "text": [
      " 89%|██████████████████████████████████████████████████████████████████████████████████████████████████████████████████████████████████████████████████████████████████████████████████████▎                     | 4666/5221 [42:44<04:46,  1.93it/s]"
     ]
    },
    {
     "name": "stdout",
     "output_type": "stream",
     "text": [
      "shingle also from Middle English\n",
      "shingle also from Norwegian Bokmål\n"
     ]
    },
    {
     "name": "stderr",
     "output_type": "stream",
     "text": [
      " 90%|██████████████████████████████████████████████████████████████████████████████████████████████████████████████████████████████████████████████████████████████████████████████████████▊                     | 4679/5221 [42:51<04:07,  2.19it/s]"
     ]
    },
    {
     "name": "stdout",
     "output_type": "stream",
     "text": [
      "Sion : <h3 id=\"Etymology_1\">Etymology 1</h3> threw exception list index out of range\n",
      "Sion : <h3 id=\"Etymology_2\">Etymology 2</h3> threw exception list index out of range\n",
      "Sion also from Galician\n"
     ]
    },
    {
     "name": "stderr",
     "output_type": "stream",
     "text": [
      " 90%|████████████████████████████████████████████████████████████████████████████████████████████████████████████████████████████████████████████████████████████████████████████████████████▍                   | 4720/5221 [43:11<03:47,  2.21it/s]"
     ]
    },
    {
     "name": "stdout",
     "output_type": "stream",
     "text": [
      "souffle : <h3 id=\"Etymology_1\">Etymology 1</h3> threw exception list index out of range\n"
     ]
    },
    {
     "name": "stderr",
     "output_type": "stream",
     "text": [
      " 90%|████████████████████████████████████████████████████████████████████████████████████████████████████████████████████████████████████████████████████████████████████████████████████████▌                   | 4722/5221 [43:20<25:27,  3.06s/it]"
     ]
    },
    {
     "name": "stdout",
     "output_type": "stream",
     "text": [
      "soul also from Middle English\n"
     ]
    },
    {
     "name": "stderr",
     "output_type": "stream",
     "text": [
      " 91%|█████████████████████████████████████████████████████████████████████████████████████████████████████████████████████████████████████████████████████████████████████████████████████████▎                  | 4743/5221 [43:29<03:12,  2.49it/s]"
     ]
    },
    {
     "name": "stdout",
     "output_type": "stream",
     "text": [
      "squad : <h3 id=\"Etymology_2\">Etymology 2</h3> threw exception list index out of range\n"
     ]
    },
    {
     "name": "stderr",
     "output_type": "stream",
     "text": [
      " 92%|███████████████████████████████████████████████████████████████████████████████████████████████████████████████████████████████████████████████████████████████████████████████████████████▍                | 4798/5221 [43:51<02:33,  2.76it/s]"
     ]
    },
    {
     "name": "stdout",
     "output_type": "stream",
     "text": [
      "talus also from Latin\n"
     ]
    },
    {
     "name": "stderr",
     "output_type": "stream",
     "text": [
      " 92%|███████████████████████████████████████████████████████████████████████████████████████████████████████████████████████████████████████████████████████████████████████████████████████████▋                | 4804/5221 [43:54<02:52,  2.42it/s]"
     ]
    },
    {
     "name": "stdout",
     "output_type": "stream",
     "text": [
      "tammy : <h3 id=\"Etymology_3\">Etymology 3</h3> threw exception list index out of range\n"
     ]
    },
    {
     "name": "stderr",
     "output_type": "stream",
     "text": [
      " 92%|███████████████████████████████████████████████████████████████████████████████████████████████████████████████████████████████████████████████████████████████████████████████████████████▊                | 4806/5221 [43:55<04:27,  1.55it/s]"
     ]
    },
    {
     "name": "stdout",
     "output_type": "stream",
     "text": [
      "tan also from Middle English\n",
      "tan : <h3 id=\"Etymology_3\">Etymology 3</h3> threw exception list index out of range\n",
      "tan also from Armenian\n",
      "tan also from Cantonese\n",
      "tan also from Middle English\n"
     ]
    },
    {
     "name": "stderr",
     "output_type": "stream",
     "text": [
      "\r",
      " 92%|███████████████████████████████████████████████████████████████████████████████████████████████████████████████████████████████████████████████████████████████████████████████████████████▊                | 4807/5221 [43:56<04:34,  1.51it/s]"
     ]
    },
    {
     "name": "stdout",
     "output_type": "stream",
     "text": [
      "Tana : <h3 id=\"Etymology_2\">Etymology 2</h3> threw exception list index out of range\n",
      "Tana : <h3 id=\"Etymology_3\">Etymology 3</h3> threw exception list index out of range\n"
     ]
    },
    {
     "name": "stderr",
     "output_type": "stream",
     "text": [
      " 92%|████████████████████████████████████████████████████████████████████████████████████████████████████████████████████████████████████████████████████████████████████████████████████████████▎               | 4818/5221 [44:02<03:37,  1.85it/s]"
     ]
    },
    {
     "name": "stdout",
     "output_type": "stream",
     "text": [
      "tarse also from Middle English\n",
      "tarse : <h3 id=\"Etymology_3\">Etymology 3</h3> threw exception list index out of range\n"
     ]
    },
    {
     "name": "stderr",
     "output_type": "stream",
     "text": [
      "\r",
      " 92%|████████████████████████████████████████████████████████████████████████████████████████████████████████████████████████████████████████████████████████████████████████████████████████████▎               | 4819/5221 [44:02<03:23,  1.98it/s]"
     ]
    },
    {
     "name": "stdout",
     "output_type": "stream",
     "text": [
      "tartan also from Middle English\n"
     ]
    },
    {
     "name": "stderr",
     "output_type": "stream",
     "text": [
      " 92%|████████████████████████████████████████████████████████████████████████████████████████████████████████████████████████████████████████████████████████████████████████████████████████████▍               | 4824/5221 [44:05<04:00,  1.65it/s]"
     ]
    },
    {
     "name": "stdout",
     "output_type": "stream",
     "text": [
      "tata : <h3 id=\"Etymology_1\">Etymology 1</h3> threw exception list index out of range\n"
     ]
    },
    {
     "name": "stderr",
     "output_type": "stream",
     "text": [
      " 93%|████████████████████████████████████████████████████████████████████████████████████████████████████████████████████████████████████████████████████████████████████████████████████████████▉               | 4836/5221 [44:10<02:31,  2.53it/s]"
     ]
    },
    {
     "name": "stdout",
     "output_type": "stream",
     "text": [
      "teleocracy : <h3 id=\"Etymology_1\">Etymology 1</h3> threw exception list index out of range\n"
     ]
    },
    {
     "name": "stderr",
     "output_type": "stream",
     "text": [
      " 93%|█████████████████████████████████████████████████████████████████████████████████████████████████████████████████████████████████████████████████████████████████████████████████████████████▍              | 4848/5221 [44:16<02:46,  2.23it/s]"
     ]
    },
    {
     "name": "stdout",
     "output_type": "stream",
     "text": [
      "terne : <h3 id=\"Etymology_2\">Etymology 2</h3> threw exception list index out of range\n",
      "terne : <h3 id=\"Etymology_3\">Etymology 3</h3> threw exception list index out of range\n"
     ]
    },
    {
     "name": "stderr",
     "output_type": "stream",
     "text": [
      " 93%|████████████████████████████████████████████████████████████████████████████████████████████████████████████████████████████████████████████████████████████████████████████████████████████              | 4862/5221 [45:00<1:05:32, 10.95s/it]"
     ]
    },
    {
     "name": "stdout",
     "output_type": "stream",
     "text": [
      "TGV : <h3 id=\"Etymology_2\">Etymology 2</h3> threw exception list index out of range\n"
     ]
    },
    {
     "name": "stderr",
     "output_type": "stream",
     "text": [
      " 93%|██████████████████████████████████████████████████████████████████████████████████████████████████████████████████████████████████████████████████████████████████████████████████████████████              | 4865/5221 [45:01<24:04,  4.06s/it]"
     ]
    },
    {
     "name": "stdout",
     "output_type": "stream",
     "text": [
      "theine : <h3 id=\"Etymology_2\">Etymology 2</h3> threw exception list index out of range\n"
     ]
    },
    {
     "name": "stderr",
     "output_type": "stream",
     "text": [
      " 93%|██████████████████████████████████████████████████████████████████████████████████████████████████████████████████████████████████████████████████████████████████████████████████████████████▌             | 4876/5221 [45:06<03:20,  1.72it/s]"
     ]
    },
    {
     "name": "stdout",
     "output_type": "stream",
     "text": [
      "Thiers : <h3 id=\"Etymology_1\">Etymology 1</h3> threw exception list index out of range\n"
     ]
    },
    {
     "name": "stderr",
     "output_type": "stream",
     "text": [
      " 94%|███████████████████████████████████████████████████████████████████████████████████████████████████████████████████████████████████████████████████████████████████████████████████████████████▍            | 4900/5221 [45:18<02:22,  2.25it/s]"
     ]
    },
    {
     "name": "stdout",
     "output_type": "stream",
     "text": [
      "tole also from Old English\n",
      "tole : <h3 id=\"Etymology_3\">Etymology 3</h3> threw exception list index out of range\n",
      "tole : <h3 id=\"Etymology_4\">Etymology 4</h3> threw exception list index out of range\n"
     ]
    },
    {
     "name": "stderr",
     "output_type": "stream",
     "text": [
      " 94%|███████████████████████████████████████████████████████████████████████████████████████████████████████████████████████████████████████████████████████████████████████████████████████████████▌            | 4904/5221 [45:20<02:44,  1.93it/s]"
     ]
    },
    {
     "name": "stdout",
     "output_type": "stream",
     "text": [
      "ton : <h3 id=\"Etymology_3\">Etymology 3</h3> threw exception list index out of range\n"
     ]
    },
    {
     "name": "stderr",
     "output_type": "stream",
     "text": [
      " 94%|███████████████████████████████████████████████████████████████████████████████████████████████████████████████████████████████████████████████████████████████████████████████████████████████▋            | 4906/5221 [45:21<02:48,  1.86it/s]"
     ]
    },
    {
     "name": "stdout",
     "output_type": "stream",
     "text": [
      "Tonkin : <h3 id=\"Etymology_1\">Etymology 1</h3> threw exception list index out of range\n"
     ]
    },
    {
     "name": "stderr",
     "output_type": "stream",
     "text": [
      " 94%|████████████████████████████████████████████████████████████████████████████████████████████████████████████████████████████████████████████████████████████████████████████████████████████████            | 4914/5221 [45:25<02:36,  1.96it/s]"
     ]
    },
    {
     "name": "stdout",
     "output_type": "stream",
     "text": [
      "torrent : <h3 id=\"Etymology_2\">Etymology 2</h3> threw exception list index out of range\n"
     ]
    },
    {
     "name": "stderr",
     "output_type": "stream",
     "text": [
      " 95%|██████████████████████████████████████████████████████████████████████████████████████████████████████████████████████████████████████████████████████████████████████████████████████████████████▎         | 4972/5221 [45:51<01:40,  2.49it/s]"
     ]
    },
    {
     "name": "stdout",
     "output_type": "stream",
     "text": [
      "trillion : <h3 id=\"Etymology_2\">Etymology 2</h3> threw exception list index out of range\n"
     ]
    },
    {
     "name": "stderr",
     "output_type": "stream",
     "text": [
      " 96%|███████████████████████████████████████████████████████████████████████████████████████████████████████████████████████████████████████████████████████████████████████████████████████████████████▎        | 4998/5221 [46:18<04:32,  1.22s/it]"
     ]
    },
    {
     "name": "stdout",
     "output_type": "stream",
     "text": [
      "tuff : <h3 id=\"Etymology_2\">Etymology 2</h3> threw exception list index out of range\n"
     ]
    },
    {
     "name": "stderr",
     "output_type": "stream",
     "text": [
      " 96%|███████████████████████████████████████████████████████████████████████████████████████████████████████████████████████████████████████████████████████████████████████████████████████████████████▊        | 5010/5221 [46:37<05:57,  1.70s/it]"
     ]
    },
    {
     "name": "stdout",
     "output_type": "stream",
     "text": [
      "tutu also from Maori\n",
      "tutu also from Maori\n"
     ]
    },
    {
     "name": "stderr",
     "output_type": "stream",
     "text": [
      " 97%|█████████████████████████████████████████████████████████████████████████████████████████████████████████████████████████████████████████████████████████████████████████████████████████████████████▎      | 5051/5221 [47:25<03:20,  1.18s/it]"
     ]
    },
    {
     "name": "stdout",
     "output_type": "stream",
     "text": [
      "vaunt also from Middle English\n"
     ]
    },
    {
     "name": "stderr",
     "output_type": "stream",
     "text": [
      " 97%|█████████████████████████████████████████████████████████████████████████████████████████████████████████████████████████████████████████████████████████████████████████████████████████████████████▋      | 5059/5221 [47:40<04:28,  1.66s/it]"
     ]
    },
    {
     "name": "stdout",
     "output_type": "stream",
     "text": [
      "venal also from Latin\n"
     ]
    },
    {
     "name": "stderr",
     "output_type": "stream",
     "text": [
      "\r",
      " 97%|█████████████████████████████████████████████████████████████████████████████████████████████████████████████████████████████████████████████████████████████████████████████████████████████████████▋      | 5060/5221 [47:44<06:07,  2.28s/it]"
     ]
    },
    {
     "name": "stdout",
     "output_type": "stream",
     "text": [
      "vend : <h3 id=\"Etymology_2\">Etymology 2</h3> threw exception list index out of range\n"
     ]
    },
    {
     "name": "stderr",
     "output_type": "stream",
     "text": [
      " 97%|█████████████████████████████████████████████████████████████████████████████████████████████████████████████████████████████████████████████████████████████████████████████████████████████████████▉      | 5067/5221 [47:57<06:45,  2.63s/it]"
     ]
    },
    {
     "name": "stdout",
     "output_type": "stream",
     "text": [
      "vent : <h3 id=\"Etymology_2\">Etymology 2</h3> threw exception list index out of range\n",
      "vent also from Spanish\n",
      "vent : <h3 id=\"Etymology_5\">Etymology 5</h3> threw exception list index out of range\n"
     ]
    },
    {
     "name": "stderr",
     "output_type": "stream",
     "text": [
      " 97%|██████████████████████████████████████████████████████████████████████████████████████████████████████████████████████████████████████████████████████████████████████████████████████████████████████▎     | 5076/5221 [48:09<03:17,  1.37s/it]"
     ]
    },
    {
     "name": "stdout",
     "output_type": "stream",
     "text": [
      "Verges : <h3 id=\"Etymology_2\">Etymology 2</h3> threw exception list index out of range\n"
     ]
    },
    {
     "name": "stderr",
     "output_type": "stream",
     "text": [
      " 97%|██████████████████████████████████████████████████████████████████████████████████████████████████████████████████████████████████████████████████████████████████████████████████████████████████████▉     | 5090/5221 [48:24<02:43,  1.25s/it]"
     ]
    },
    {
     "name": "stdout",
     "output_type": "stream",
     "text": [
      "Versailles : <h3 id=\"Etymology_2\">Etymology 2</h3> threw exception list index out of range\n"
     ]
    },
    {
     "name": "stderr",
     "output_type": "stream",
     "text": [
      " 98%|████████████████████████████████████████████████████████████████████████████████████████████████████████████████████████████████████████████████████████████████████████████████████████████████████████▎   | 5127/5221 [49:16<01:57,  1.25s/it]"
     ]
    },
    {
     "name": "stdout",
     "output_type": "stream",
     "text": [
      "visier : <h3 id=\"Etymology_1\">Etymology 1</h3> threw exception list index out of range\n"
     ]
    },
    {
     "name": "stderr",
     "output_type": "stream",
     "text": [
      " 99%|█████████████████████████████████████████████████████████████████████████████████████████████████████████████████████████████████████████████████████████████████████████████████████████████████████████   | 5145/5221 [49:46<02:42,  2.14s/it]"
     ]
    },
    {
     "name": "stdout",
     "output_type": "stream",
     "text": [
      "vol : <h3 id=\"Etymology_2\">Etymology 2</h3> threw exception list index out of range\n",
      "vol : <h3 id=\"Etymology_3\">Etymology 3</h3> threw exception list index out of range\n"
     ]
    },
    {
     "name": "stderr",
     "output_type": "stream",
     "text": [
      " 99%|█████████████████████████████████████████████████████████████████████████████████████████████████████████████████████████████████████████████████████████████████████████████████████████████████████████   | 5147/5221 [49:50<02:48,  2.28s/it]"
     ]
    },
    {
     "name": "stdout",
     "output_type": "stream",
     "text": [
      "vole also from Norn\n"
     ]
    },
    {
     "name": "stderr",
     "output_type": "stream",
     "text": [
      " 99%|██████████████████████████████████████████████████████████████████████████████████████████████████████████████████████████████████████████████████████████████████████████████████████████████████████████▏ | 5176/5221 [50:24<00:46,  1.04s/it]"
     ]
    },
    {
     "name": "stdout",
     "output_type": "stream",
     "text": [
      "Yon : <h3 id=\"Etymology_1\">Etymology 1</h3> threw exception list index out of range\n",
      "Yon also from Korean\n"
     ]
    },
    {
     "name": "stderr",
     "output_type": "stream",
     "text": [
      "100%|████████████████████████████████████████████████████████████████████████████████████████████████████████████████████████████████████████████████████████████████████████████████████████████████████████████| 5221/5221 [52:08<00:00,  1.67it/s]\n"
     ]
    },
    {
     "name": "stdout",
     "output_type": "stream",
     "text": [
      "English-French.csv exists. Overwrite existing file? (y/n) y\n",
      "English-French_false_friends.csv exists. Overwrite existing file? (y/n) y\n",
      "English-French done\n",
      "\n",
      "\n"
     ]
    }
   ],
   "source": [
    "for pair in links:\n",
    "    [dest, src] = pair.split('-')\n",
    "    print(pair)\n",
    "    words = get_all_borrowed_words(dest, src, expected_unicodes[pair], invalid=[\"Unsupported titles/Space\"])\n",
    "    print(\"Getting loan pairs and false friends: {} candidates\".format(len(words)))\n",
    "    loan_words, false_friends = get_all_loans_and_false_friends(words, dest, src, expected_unicodes[pair])\n",
    "\n",
    "    df_loans = pd.DataFrame(loan_words, columns=['loan_word', 'original_word'])\n",
    "    df_false_friends = pd.DataFrame(false_friends, columns=['loan_word', 'original_word', 'other_etymology', 'other_meaning'])\n",
    "\n",
    "    if os.path.exists(\"results/{}.csv\".format(pair)):\n",
    "        overwrite = input(\"{}.csv exists. Overwrite existing file? (y/n) \".format(pair))\n",
    "        if overwrite == \"y\":\n",
    "            df_loans.to_csv(\"results/{}.csv\".format(pair), index=False)\n",
    "    else:\n",
    "        df_loans.to_csv(\"results/{}.csv\".format(pair), index=False)\n",
    "\n",
    "    if os.path.exists(\"results/{}_false_friends.csv\".format(pair)):\n",
    "        overwrite = input(\"{}_false_friends.csv exists. Overwrite existing file? (y/n) \".format(pair))\n",
    "        if overwrite == \"y\":\n",
    "            df_false_friends.to_csv(\"results/{}_false_friends.csv\".format(pair), index=False)\n",
    "    else:\n",
    "        df_false_friends.to_csv(\"results/{}_false_friends.csv\".format(pair), index=False)\n",
    "\n",
    "    print(pair, \"done\\n\")\n",
    "    print()"
   ]
  }
 ],
 "metadata": {
  "interpreter": {
   "hash": "31f2aee4e71d21fbe5cf8b01ff0e069b9275f58929596ceb00d14d90e3e16cd6"
  },
  "kernelspec": {
   "display_name": "Python 3 (ipykernel)",
   "language": "python",
   "name": "python3"
  },
  "language_info": {
   "codemirror_mode": {
    "name": "ipython",
    "version": 3
   },
   "file_extension": ".py",
   "mimetype": "text/x-python",
   "name": "python",
   "nbconvert_exporter": "python",
   "pygments_lexer": "ipython3",
   "version": "3.8.12"
  }
 },
 "nbformat": 4,
 "nbformat_minor": 2
}
