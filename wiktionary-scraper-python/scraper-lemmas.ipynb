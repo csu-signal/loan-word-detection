{
 "cells": [
  {
   "cell_type": "code",
   "execution_count": 1,
   "id": "4fbd299d",
   "metadata": {},
   "outputs": [],
   "source": [
    "import numpy as np\n",
    "import requests\n",
    "import pandas\n",
    "import json\n",
    "import unicodeblock.blocks\n",
    "import os"
   ]
  },
  {
   "cell_type": "code",
   "execution_count": 2,
   "id": "0b912f92",
   "metadata": {},
   "outputs": [],
   "source": [
    "# expected Unicode blocks for certain scripts\n",
    "unicode_block_map = {\n",
    "    \"Latin\" : ['BASIC_LATIN', 'LATIN_1_SUPPLEMENT', 'LATIN_EXTENDED_LETTER', 'LATIN_EXTENDED_A', 'LATIN_EXTENDED_B',\\\n",
    "               'LATIN_EXTENDED_C'],\n",
    "    \"Greek\" : ['GREEK'],\n",
    "    \"Cyrillic\" : ['CYRILLIC', 'CYRILLIC_SUPPLEMENTARY', 'CYRILLIC_EXTENDED_A', 'CYRILLIC_EXTENDED_B'],\n",
    "    \"Arabic\" : ['ARABIC', 'ARABIC_SUPPLEMENT', 'ARABIC_PRESENTATION_FORMS_A', 'ARABIC_PRESENTATION_FORMS_B'],\n",
    "    \"Devanagari\" : ['DEVANAGARI', 'VEDIC_EXTENSIONS', 'DEVANAGARI_EXTENDED'],\n",
    "    \"Bengali\" : ['BENGALI'],\n",
    "    \"Gurmukhi\" : ['GURMUKHI'],\n",
    "    \"Tamil\" : ['TAMIL'],\n",
    "    \"Telugu\" : ['TELUGU'],\n",
    "    \"Malayalam\" : ['MALAYALAM'],\n",
    "    \"Myanmar\" : ['MYANMAR', 'MYANMAR_EXTENDED_A'],\n",
    "    \"Chinese\" : ['CJK_RADICALS_SUPPLEMENT', 'CJK_SYMBOLS_AND_PUNCTUATION', 'CJK_STROKES',\\\n",
    "                 'ENCLOSED_CJK_LETTERS_AND_MONTHS', 'CJK_COMPATIBILITY', 'CJK_UNIFIED_IDEOGRAPHS_EXTENSION_A',\\\n",
    "                 'CJK_UNIFIED_IDEOGRAPHS', 'CJK_COMPATIBILITY_IDEOGRAPHS', 'CJK_COMPATIBILITY_FORMS',\\\n",
    "                 'CJK_UNIFIED_IDEOGRAPHS_EXTENSION_B', 'CJK_UNIFIED_IDEOGRAPHS_EXTENSION_C',\\\n",
    "                 'CJK_UNIFIED_IDEOGRAPHS_EXTENSION_D', 'CJK_COMPATIBILITY_IDEOGRAPHS_SUPPLEMENT']\n",
    "}"
   ]
  },
  {
   "cell_type": "code",
   "execution_count": 3,
   "id": "f7e10d12",
   "metadata": {},
   "outputs": [],
   "source": [
    "def get_all_lemmas(language, expected_unicode, invalid=[\"Unsupported titles/\"]):\n",
    "    title = f\"Category:{language}_lemmas\"\n",
    "    params = {\n",
    "        'action': 'query',\n",
    "        'format': 'json',\n",
    "        'prop': 'extracts',\n",
    "        'exintro': True,\n",
    "        'explaintext': True,\n",
    "    }\n",
    "\n",
    "    url = f\"https://en.wiktionary.org/w/api.php?action=query&list=categorymembers&cmtitle={title}&cmlimit=max\"\n",
    "    \n",
    "    lemmas = []\n",
    "    while(True):\n",
    "        r = requests.get(url,params)\n",
    "        try:\n",
    "            cmcontinue = r.json()['continue']['cmcontinue']\n",
    "            for cmember in r.json()['query']['categorymembers']:\n",
    "                if len(cmember['title']) > 1 and \\\n",
    "                    not cmember['title'].startswith('-') and \\\n",
    "                    not cmember['title'].endswith('-') and \\\n",
    "                    not any(inv in cmember['title'] for inv in invalid) and \\\n",
    "                    not any(c.isdigit() for c in cmember['title']) and \\\n",
    "                    not cmember['title'].isupper() and \\\n",
    "                    unicodeblock.blocks.of(cmember['title'][0]) not in ['BASIC_PUNCTUATION'] and \\\n",
    "                    [unicodeblock.blocks.of(c) in unicode_block_map[expected_unicode] for c in cmember['title']].count(True) > len(cmember['title'])*.8:\n",
    "                    lemmas.append(cmember['title'])\n",
    "                    if len(lemmas) % 1000 == 0:\n",
    "                        print(f\"Got {len(lemmas)}\")\n",
    "            url = url.split(\"&cmcontinue\")[0]\n",
    "            url+=f\"&cmcontinue={cmcontinue}\"\n",
    "        except KeyError:\n",
    "            break\n",
    "            \n",
    "    df = pandas.DataFrame(np.array(lemmas).reshape(-1,1), columns=[\"word\"])\n",
    "    \n",
    "    print(f\"{language} finished ({len(lemmas)} total)\\n\")\n",
    "    \n",
    "    df.to_csv(f'results/{language}-AllLemmas.csv', index=False)"
   ]
  },
  {
   "cell_type": "code",
   "execution_count": 4,
   "id": "e1e8f220",
   "metadata": {
    "scrolled": true
   },
   "outputs": [
    {
     "name": "stdout",
     "output_type": "stream",
     "text": [
      "Romanian-Hungarian\n",
      "Got 1000\n",
      "Got 2000\n",
      "Got 3000\n",
      "Got 4000\n",
      "Got 5000\n",
      "Got 6000\n",
      "Got 7000\n",
      "Got 8000\n",
      "Got 9000\n",
      "Got 10000\n",
      "Got 11000\n",
      "Got 12000\n",
      "Got 13000\n",
      "Got 14000\n",
      "Got 15000\n",
      "Got 16000\n",
      "Got 17000\n",
      "Got 18000\n",
      "Got 19000\n",
      "Got 20000\n",
      "Got 21000\n",
      "Got 22000\n",
      "Got 23000\n",
      "Got 24000\n",
      "Got 25000\n",
      "Got 26000\n",
      "Hungarian finished (26372 total)\n",
      "\n"
     ]
    }
   ],
   "source": [
    "with open(\"../language-pairs.json\", 'r') as f:\n",
    "    pairs = json.loads(f.read())\n",
    "\n",
    "for pair in pairs:\n",
    "    print(pair)\n",
    "    L2 = pairs[pair]['source']['name']\n",
    "    L2_unicode = pairs[pair]['source']['unicode']\n",
    "    \n",
    "    if os.path.exists(\"results/{}-AllLemmas.csv\".format(L2)):\n",
    "        overwrite = input(\"{}-AllLemmas.csv exists. Overwrite existing file? (y/n) \".format(L2))\n",
    "        if overwrite == \"y\":\n",
    "            get_all_lemmas(L2, L2_unicode)\n",
    "    else:\n",
    "        get_all_lemmas(L2, L2_unicode)"
   ]
  },
  {
   "cell_type": "code",
   "execution_count": null,
   "id": "a2088726",
   "metadata": {},
   "outputs": [],
   "source": []
  }
 ],
 "metadata": {
  "kernelspec": {
   "display_name": "Python 3 (ipykernel)",
   "language": "python",
   "name": "python3"
  },
  "language_info": {
   "codemirror_mode": {
    "name": "ipython",
    "version": 3
   },
   "file_extension": ".py",
   "mimetype": "text/x-python",
   "name": "python",
   "nbconvert_exporter": "python",
   "pygments_lexer": "ipython3",
   "version": "3.8.12"
  }
 },
 "nbformat": 4,
 "nbformat_minor": 5
}
