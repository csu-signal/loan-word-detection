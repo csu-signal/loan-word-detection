{
 "cells": [
  {
   "cell_type": "code",
   "execution_count": 12,
   "metadata": {},
   "outputs": [],
   "source": [
    "import json\n",
    "import requests\n",
    "from bs4 import BeautifulSoup\n",
    "import pandas as pd\n",
    "import time"
   ]
  },
  {
   "cell_type": "code",
   "execution_count": 13,
   "metadata": {},
   "outputs": [
    {
     "data": {
      "text/plain": [
       "{'Hindi-Persian': 'https://en.m.wiktionary.org/wiki/Category:Hindi_terms_borrowed_from_Persian'}"
      ]
     },
     "execution_count": 13,
     "metadata": {},
     "output_type": "execute_result"
    }
   ],
   "source": [
    "links = None\n",
    "\n",
    "with open('links.json', 'r') as f:\n",
    "    links = json.loads(f.read())\n",
    "\n",
    "links"
   ]
  },
  {
   "cell_type": "code",
   "execution_count": 14,
   "metadata": {},
   "outputs": [],
   "source": [
    "base_link = \"https://en.m.wiktionary.org\"\n"
   ]
  },
  {
   "cell_type": "code",
   "execution_count": 17,
   "metadata": {},
   "outputs": [],
   "source": [
    "def get_words_ipas(pair, link, page_num):\n",
    "    page = requests.get(link)\n",
    "    soup = BeautifulSoup(page.content, 'html.parser')\n",
    "    borrowed_words = []\n",
    "\n",
    "    res = soup.find_all(\"div\", class_=\"mw-category-group\")\n",
    "    try:\n",
    "\n",
    "        for i, r in enumerate(res):\n",
    "            if i > 0:\n",
    "                list_words = r.find_all('a')\n",
    "                for word in list_words:\n",
    "                    # print(word.text, base_link + word['href'])\n",
    "                    ipas = []\n",
    "                    ipa_page = requests.get(base_link + word['href'])\n",
    "                    ipa_soup = BeautifulSoup(ipa_page.content, 'html.parser')\n",
    "\n",
    "                    for ipa in ipa_soup.find_all(\"span\", {'class': 'IPA'}):\n",
    "                        txt = ipa.text\n",
    "                        if (txt.startswith('/') or txt.startswith('[')) and (txt.endswith('/') or txt.endswith(']')):\n",
    "                            ipas.append(ipa.text)\n",
    "                            # print(word.text, ipa.text)  \n",
    "                    borrowed_words.append([word.text, ipas])\n",
    "\n",
    "        print(pair, page_num, \"done\")\n",
    "        next_link = soup.find(\n",
    "            lambda tag: tag.name == 'a' and 'next page' in tag.text.lower()\n",
    "        )\n",
    "        if next_link != None:\n",
    "            more_words = get_words_ipas(pair, base_link + next_link['href'], page_num+1)\n",
    "            borrowed_words = borrowed_words + more_words\n",
    "    except:\n",
    "        return borrowed_words\n",
    "        \n",
    "    return borrowed_words"
   ]
  },
  {
   "cell_type": "code",
   "execution_count": 18,
   "metadata": {},
   "outputs": [
    {
     "name": "stdout",
     "output_type": "stream",
     "text": [
      "Hindi-Persian 1 done\n",
      "Hindi-Persian 2 done\n",
      "Hindi-Persian 3 done\n",
      "Hindi-Persian 4 done\n",
      "Hindi-Persian 5 done\n",
      "Hindi-Persian 6 done\n",
      "Hindi-Persian 7 done\n",
      "Hindi-Persian done\n"
     ]
    }
   ],
   "source": [
    "for pair in links:\n",
    "    words = get_words_ipas(pair, links[pair], 1)\n",
    "    df = pd.DataFrame(words, columns=['word', 'ipas'])\n",
    "    df.to_csv(\"results/{}.csv\".format(pair), index=False)\n",
    "    print(pair, \"done\")"
   ]
  },
  {
   "cell_type": "code",
   "execution_count": null,
   "metadata": {},
   "outputs": [],
   "source": []
  }
 ],
 "metadata": {
  "interpreter": {
   "hash": "31f2aee4e71d21fbe5cf8b01ff0e069b9275f58929596ceb00d14d90e3e16cd6"
  },
  "kernelspec": {
   "display_name": "Python 3.8.9 64-bit",
   "language": "python",
   "name": "python3"
  },
  "language_info": {
   "codemirror_mode": {
    "name": "ipython",
    "version": 3
   },
   "file_extension": ".py",
   "mimetype": "text/x-python",
   "name": "python",
   "nbconvert_exporter": "python",
   "pygments_lexer": "ipython3",
   "version": "3.8.9"
  },
  "orig_nbformat": 4
 },
 "nbformat": 4,
 "nbformat_minor": 2
}
