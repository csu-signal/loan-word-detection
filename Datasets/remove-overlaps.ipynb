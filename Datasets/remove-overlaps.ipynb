{
 "cells": [
  {
   "cell_type": "code",
   "execution_count": null,
   "id": "91b80b00",
   "metadata": {},
   "outputs": [],
   "source": [
    "# check the hard negatives and synonyms datasets for unwanted overlap\n",
    "filename = '../Datasets/Synonyms/Chinese-English-Synonyms.csv' # change filename\n",
    "df = pd.read_csv(filename)\n",
    "print(len(df))\n",
    "df = df[df['loan_english'].str.lower() != df['original_english'].str.lower()]\n",
    "print(len(df))\n",
    "df.to_csv(filename, index=False)"
   ]
  }
 ],
 "metadata": {
  "kernelspec": {
   "display_name": "Python 3 (ipykernel)",
   "language": "python",
   "name": "python3"
  },
  "language_info": {
   "codemirror_mode": {
    "name": "ipython",
    "version": 3
   },
   "file_extension": ".py",
   "mimetype": "text/x-python",
   "name": "python",
   "nbconvert_exporter": "python",
   "pygments_lexer": "ipython3",
   "version": "3.8.12"
  }
 },
 "nbformat": 4,
 "nbformat_minor": 5
}
