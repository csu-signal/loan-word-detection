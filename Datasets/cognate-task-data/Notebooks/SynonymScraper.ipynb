{
 "cells": [
  {
   "cell_type": "code",
   "execution_count": 190,
   "metadata": {},
   "outputs": [
    {
     "name": "stdout",
     "output_type": "stream",
     "text": [
      "Requirement already satisfied: pandas in /home/rahulg/.local/lib/python3.8/site-packages (1.4.2)\r\n",
      "Requirement already satisfied: python-dateutil>=2.8.1 in /home/rahulg/.local/lib/python3.8/site-packages (from pandas) (2.8.2)\r\n",
      "Requirement already satisfied: pytz>=2020.1 in /home/rahulg/.local/lib/python3.8/site-packages (from pandas) (2022.1)\r\n",
      "Requirement already satisfied: numpy>=1.18.5; platform_machine != \"aarch64\" and platform_machine != \"arm64\" and python_version < \"3.10\" in /home/rahulg/.local/lib/python3.8/site-packages (from pandas) (1.22.4)\r\n",
      "Requirement already satisfied: six>=1.5 in /usr/lib/python3/dist-packages (from python-dateutil>=2.8.1->pandas) (1.14.0)\r\n"
     ]
    }
   ],
   "source": [
    "!pip install pandas"
   ]
  },
  {
   "cell_type": "code",
   "execution_count": 210,
   "metadata": {},
   "outputs": [],
   "source": [
    "import json\n",
    "import requests\n",
    "from bs4 import BeautifulSoup\n",
    "import pandas as pd\n",
    "import time\n",
    "import os\n",
    "import unicodeblock.blocks\n",
    "import re\n",
    "from tqdm import tqdm\n",
    "from random import random"
   ]
  },
  {
   "cell_type": "code",
   "execution_count": 211,
   "metadata": {},
   "outputs": [
    {
     "data": {
      "text/plain": [
       "({'Assamese-Sanskrit': 'https://en.m.wiktionary.org/wiki/Category:Assamese_terms_borrowed_from_Sanskrit',\n",
       "  'Bengali-Sanskrit': 'https://en.m.wiktionary.org/wiki/Category:Bengali_terms_borrowed_from_Sanskrit'},\n",
       " {'Assamese-Sanskrit': 'Devanagari', 'Bengali-Sanskrit': 'Devanagari'})"
      ]
     },
     "execution_count": 211,
     "metadata": {},
     "output_type": "execute_result"
    }
   ],
   "source": [
    "links = {}\n",
    "expected_unicodes = {}\n",
    "\n",
    "with open('language-pairs.json', 'r') as f:\n",
    "    pairs = json.loads(f.read())\n",
    "    \n",
    "    for pair in pairs:\n",
    "        expected_unicodes[pair] = pairs[pair]['source']['unicode']\n",
    "        links[pair] = pairs[pair]['wiki']\n",
    "\n",
    "links, expected_unicodes"
   ]
  },
  {
   "cell_type": "code",
   "execution_count": 212,
   "metadata": {},
   "outputs": [],
   "source": [
    "# expected Unicode blocks for certain scripts\n",
    "unicode_block_map = {\n",
    "    \"Latin\" : ['BASIC_LATIN', 'LATIN_1_SUPPLEMENT', 'LATIN_EXTENDED_LETTER', 'LATIN_EXTENDED_A', 'LATIN_EXTENDED_B',\\\n",
    "               'LATIN_EXTENDED_C'],\n",
    "    \"Greek\" : ['GREEK'],\n",
    "    \"Cyrillic\" : ['CYRILLIC', 'CYRILLIC_SUPPLEMENTARY', 'CYRILLIC_EXTENDED_A', 'CYRILLIC_EXTENDED_B'],\n",
    "    \"Arabic\" : ['ARABIC', 'ARABIC_SUPPLEMENT', 'ARABIC_PRESENTATION_FORMS_A', 'ARABIC_PRESENTATION_FORMS_B'],\n",
    "    \"Devanagari\" : ['DEVANAGARI', 'VEDIC_EXTENSIONS', 'DEVANAGARI_EXTENDED', 'BENGALI'],\n",
    "    \"Bengali\" : ['BENGALI'],\n",
    "    \"Gurmukhi\" : ['GURMUKHI'],\n",
    "    \"Tamil\" : ['TAMIL'],\n",
    "    \"Telugu\" : ['TELUGU'],\n",
    "    \"Malayalam\" : ['MALAYALAM'],\n",
    "    \"Myanmar\" : ['MYANMAR', 'MYANMAR_EXTENDED_A'],\n",
    "    \"Chinese\" : ['CJK_RADICALS_SUPPLEMENT', 'CJK_SYMBOLS_AND_PUNCTUATION', 'CJK_STROKES',\\\n",
    "                 'ENCLOSED_CJK_LETTERS_AND_MONTHS', 'CJK_COMPATIBILITY', 'CJK_UNIFIED_IDEOGRAPHS_EXTENSION_A',\\\n",
    "                 'CJK_UNIFIED_IDEOGRAPHS', 'CJK_COMPATIBILITY_IDEOGRAPHS', 'CJK_COMPATIBILITY_FORMS',\\\n",
    "                 'CJK_UNIFIED_IDEOGRAPHS_EXTENSION_B', 'CJK_UNIFIED_IDEOGRAPHS_EXTENSION_C',\\\n",
    "                 'CJK_UNIFIED_IDEOGRAPHS_EXTENSION_D', 'CJK_COMPATIBILITY_IDEOGRAPHS_SUPPLEMENT']\n",
    "}"
   ]
  },
  {
   "cell_type": "code",
   "execution_count": 213,
   "metadata": {},
   "outputs": [],
   "source": [
    "def get_all_borrowed_words(dest, source, expected_unicode, invalid=[\"Unsupported titles/\"]):\n",
    "    title = f\"Category:{dest}_terms_borrowed_from_{source}\"\n",
    "    params = {\n",
    "        'action': 'query',\n",
    "        'format': 'json',\n",
    "        'prop': 'extracts',\n",
    "        'exintro': True,\n",
    "        'explaintext': True,\n",
    "    }\n",
    "\n",
    "    url = f\"https://en.wiktionary.org/w/api.php?action=query&list=categorymembers&cmtitle={title}&cmlimit=max\"\n",
    "    \n",
    "    borrowed_words = []\n",
    "    while(True):\n",
    "        r = requests.get(url,params)\n",
    "        try:\n",
    "            for cmember in r.json()['query']['categorymembers']:\n",
    "                if len(cmember['title']) > 1 and \\\n",
    "                    not cmember['title'].startswith('-') and \\\n",
    "                    not cmember['title'].endswith('-') and \\\n",
    "                    not any(inv in cmember['title'] for inv in invalid) and \\\n",
    "                    not any(c.isdigit() for c in cmember['title']) and \\\n",
    "                    not cmember['title'].isupper() and \\\n",
    "                    unicodeblock.blocks.of(cmember['title'][0]) not in ['BASIC_PUNCTUATION']:\n",
    "                    borrowed_words.append(cmember['title'])\n",
    "                    if len(borrowed_words) % 1000 == 0:\n",
    "                        print(f\"Got {len(borrowed_words)}\")\n",
    "            cmcontinue = r.json()['continue']['cmcontinue']\n",
    "            url = url.split(\"&cmcontinue\")[0]\n",
    "            url+=f\"&cmcontinue={cmcontinue}\"\n",
    "        except KeyError:\n",
    "            break\n",
    "    print(f\"Done, {len(borrowed_words)}\")\n",
    "    return borrowed_words"
   ]
  },
  {
   "cell_type": "code",
   "execution_count": 219,
   "metadata": {},
   "outputs": [],
   "source": [
    "'''\n",
    "def get_all_loans_and_homonyms:\n",
    "    for each word in borrowed words:\n",
    "        1. get word page from wiktionary\n",
    "        2. extract source word from source language\n",
    "        3. extract homonyms from language!=source language\n",
    "\n",
    "    return loan_pairs, homonyms\n",
    "'''\n",
    "\n",
    "def get_source_word(soup, src_lang, expected_unicode, lst_invalid_words):\n",
    "    for src_soup in soup.find_all(\"span\", class_=\"etyl\"):\n",
    "        if src_soup != None and src_soup.find(lambda tag: tag.name == 'a' and src_lang.lower() in tag.text.lower()):\n",
    "            \n",
    "            src_soup_final = src_soup.find_next(\"i\")\n",
    "            src_word = src_soup_final.text if src_soup_final != None else ''\n",
    "            if any(inv in src_word for inv in lst_invalid_words):\n",
    "                src_soup_final = src_soup.find_next(\"strong\")\n",
    "                src_word = src_soup_final.text if src_soup_final != None else ''\n",
    "                source_word = re.split('[/,]',src_word)[0].strip()\n",
    "            else:\n",
    "                source_word = re.split('[/,]',src_word)[0].strip()                \n",
    "                \n",
    "            if [unicodeblock.blocks.of(c) in unicode_block_map[expected_unicode] for c in source_word].count(True) < len(source_word)*.8:\n",
    "                source_word = ''\n",
    "                \n",
    "            return source_word\n",
    "    \n",
    "    return ''\n",
    "\n",
    "def get_synonym(borrowed_word, soup, lst_invalid_words):\n",
    "    all_synonyms = []\n",
    "    for header in soup.find_all(\"span\", class_ =\"nyms synonym\"):\n",
    "        for synonym_header in header.find_all(\"span\", class_ =\"Beng\"):\n",
    "            synonym = synonym_header.text\n",
    "            print(synonym)\n",
    "            all_synonyms.append([borrowed_word, synonym])\n",
    "    return all_synonyms\n",
    "    \n",
    "    \n",
    "    \n",
    "    \n",
    "def get_homonym(borrowed_word, soup, src_lang, dest_lang, lst_invalid_words):\n",
    "    all_homonyms = []\n",
    "    for header in soup.find_all(\"h2\", id=True):\n",
    "        if dest_lang.lower() in [header.get('id').lower(), header.text.lower()]:\n",
    "            try:\n",
    "                for next_header in header.parent.find_all('h3'):\n",
    "                    if re.match(\"Etymology [1-9]\",next_header.text):\n",
    "                        # get next sibling and then find_all span etyl?\n",
    "                        next_sibs = next_header.find_next_siblings()\n",
    "                        if len(next_sibs) > 0:\n",
    "                            all_etyms = next_sibs[0].find_all(\"span\", class_=\"etyl\")\n",
    "                            if len(all_etyms) > 0:\n",
    "                                etym = all_etyms[0]\n",
    "                                for tag in etym.find(lambda tag: tag.name == 'a'):\n",
    "\n",
    "                                    if src_lang.lower() not in tag.text.lower():\n",
    "                                        homonym_soup = etym.find_next(\"i\")\n",
    "                                        ff_word = homonym_soup.text if homonym_soup != None else ''\n",
    "                                        ff_word = re.split('[,;:]',ff_word)[0].strip()\n",
    "                                        if any(inv in ff_word for inv in lst_invalid_words):\n",
    "                                            homonym_soup = etym.find_next(\"strong\")\n",
    "                                            ff_word = homonym_soup.text if homonym_soup != None else ''\n",
    "                                            ff_word = re.split('[,;:]',ff_word)[0].strip()\n",
    "\n",
    "                                        meaning = etym.parent.parent.find_all('ol')[0].text.split('\\n')[0]\n",
    "                                        meaning = re.sub(r'\\(.+?\\)',r'',meaning)\n",
    "                                        meaning = re.sub(r'\\[.+?\\]',r'',meaning)\n",
    "                                        meaning = meaning.replace('  ', ' ')\n",
    "                                        meaning = re.split('[.;:]',meaning)[0].strip()\n",
    "\n",
    "                                        all_homonyms.append([borrowed_word,ff_word,tag.text.lower(),meaning])\n",
    "            except:\n",
    "                pass\n",
    "    \n",
    "    return all_homonyms\n",
    "\n",
    "            \n",
    "def get_all_loans_and_homonyms(borrowed_words, dest_lang, src_lang, expected_unicode, lst_invalid_words=['plural', 'not comparable', 'uncountable', ' spelling', '-person possessive'], min_timeout=5, timeout_after_words=200):\n",
    "    loan_pairs = [] # [[borrowed_word, source_word]]\n",
    "    homonyms = [] # \n",
    "    synonyms = []\n",
    "    p_bar = tqdm(borrowed_words)\n",
    "    for i, word in enumerate(p_bar):\n",
    "        while True:\n",
    "            try:\n",
    "                params = {\n",
    "                    'action': 'query',\n",
    "                    'format': 'json',\n",
    "                    'prop': 'extracts',\n",
    "                    'exintro': True,\n",
    "                    'explaintext': True,\n",
    "                }\n",
    "\n",
    "                url = 'https://en.wiktionary.org/w/rest.php/v1/page/' + word + '/html'\n",
    "\n",
    "                response = requests.get(url, params, timeout=300)\n",
    "\n",
    "                soup = BeautifulSoup(response.content, 'html.parser')\n",
    "                source_word = get_source_word(\n",
    "                    soup, src_lang, expected_unicode, lst_invalid_words)\n",
    "                #homonym = get_homonym(\n",
    "                #    word, soup, src_lang, dest_lang, lst_invalid_words)\n",
    "                if source_word != '':\n",
    "                    loan_pairs.append([word, source_word])\n",
    "                #homonyms.extend(homonym)\n",
    "                synonym = get_synonym(word, soup, lst_invalid_words)\n",
    "                synonyms.extend(synonym)\n",
    "                p_bar.set_description(\"Processed word: {}\".format(word))\n",
    "                if i > 0 and i % timeout_after_words == 0:\n",
    "                    sleep_time = (random() * min_timeout) + min_timeout\n",
    "                    p_bar.set_description(\"Collected {} word pairs, sleeping for {} seconds\".format(i, sleep_time))\n",
    "                    time.sleep(sleep_time)\n",
    "                break\n",
    "            except Exception as e:\n",
    "                p_bar.set_description(\"Word: {}, Error: {}, sleeping for 1 minute\".format(word, e))\n",
    "                time.sleep(60)\n",
    "\n",
    "    return loan_pairs, homonyms, synonyms"
   ]
  },
  {
   "cell_type": "code",
   "execution_count": 220,
   "metadata": {},
   "outputs": [
    {
     "name": "stdout",
     "output_type": "stream",
     "text": [
      "Assamese-Sanskrit\n",
      "Done, 203\n",
      "Assamese-Sanskrit_tatsamas.csv exists. Overwrite existing file? (y/n) y\n",
      "Getting loan pairs and homonym: 203 candidates\n"
     ]
    },
    {
     "name": "stderr",
     "output_type": "stream",
     "text": [
      "Processed word: অক্ষ:   2%|███▋                                                                                                                                                                                      | 4/203 [00:01<01:04,  3.08it/s]"
     ]
    },
    {
     "name": "stdout",
     "output_type": "stream",
     "text": [
      "পাশা\n",
      "অক্ষক্রীড়া\n",
      "অক্ষরেখা\n",
      "মেরুরেখা\n",
      "অক্ষাংশ\n",
      "অক্ষি\n",
      "রুদ্রাক্ষ\n"
     ]
    },
    {
     "name": "stderr",
     "output_type": "stream",
     "text": [
      "Processed word: অগ্নি:   2%|████▌                                                                                                                                                                                    | 5/203 [00:01<01:03,  3.11it/s]"
     ]
    },
    {
     "name": "stdout",
     "output_type": "stream",
     "text": [
      "আগুন\n",
      "তেজ\n",
      "জঠরাগ্নি\n",
      "অগ্নিকোণ\n"
     ]
    },
    {
     "name": "stderr",
     "output_type": "stream",
     "text": [
      "Processed word: অনুবাদ:   5%|█████████                                                                                                                                                                              | 10/203 [00:03<01:05,  2.93it/s]"
     ]
    },
    {
     "name": "stdout",
     "output_type": "stream",
     "text": [
      "তর্জমা\n"
     ]
    },
    {
     "name": "stderr",
     "output_type": "stream",
     "text": [
      "Processed word: অনুমতি:   5%|█████████▉                                                                                                                                                                             | 11/203 [00:03<01:05,  2.95it/s]"
     ]
    },
    {
     "name": "stdout",
     "output_type": "stream",
     "text": [
      "ইজাজত\n"
     ]
    },
    {
     "name": "stderr",
     "output_type": "stream",
     "text": [
      "Processed word: অস্থি:  10%|███████████████████                                                                                                                                                                     | 21/203 [00:06<00:54,  3.34it/s]"
     ]
    },
    {
     "name": "stdout",
     "output_type": "stream",
     "text": [
      "হাড়\n"
     ]
    },
    {
     "name": "stderr",
     "output_type": "stream",
     "text": [
      "Processed word: আকাশ:  12%|█████████████████████▊                                                                                                                                                                   | 24/203 [00:07<01:00,  2.98it/s]"
     ]
    },
    {
     "name": "stdout",
     "output_type": "stream",
     "text": [
      "আসমান\n"
     ]
    },
    {
     "name": "stderr",
     "output_type": "stream",
     "text": [
      "Processed word: উপন্যাস:  16%|█████████████████████████████▌                                                                                                                                                        | 33/203 [00:10<00:55,  3.08it/s]"
     ]
    },
    {
     "name": "stdout",
     "output_type": "stream",
     "text": [
      "নভেল\n"
     ]
    },
    {
     "name": "stderr",
     "output_type": "stream",
     "text": [
      "Processed word: একতা:  18%|█████████████████████████████████▋                                                                                                                                                       | 37/203 [00:12<00:52,  3.14it/s]"
     ]
    },
    {
     "name": "stdout",
     "output_type": "stream",
     "text": [
      "ঐক্য\n",
      "একত্ব\n"
     ]
    },
    {
     "name": "stderr",
     "output_type": "stream",
     "text": [
      "Processed word: কৃষ্ণ:  26%|████████████████████████████████████████████████                                                                                                                                        | 53/203 [00:17<00:55,  2.71it/s]"
     ]
    },
    {
     "name": "stdout",
     "output_type": "stream",
     "text": [
      "কানাই\n",
      "কানু\n"
     ]
    },
    {
     "name": "stderr",
     "output_type": "stream",
     "text": [
      "Processed word: গুহা:  30%|██████████████████████████████████████████████████████▋                                                                                                                                  | 60/203 [00:20<00:51,  2.79it/s]"
     ]
    },
    {
     "name": "stdout",
     "output_type": "stream",
     "text": [
      "গুফা\n",
      "গুফা\n"
     ]
    },
    {
     "name": "stderr",
     "output_type": "stream",
     "text": [
      "Processed word: দ্বীপ:  46%|█████████████████████████████████████████████████████████████████████████████████████▏                                                                                                  | 94/203 [00:31<00:36,  3.00it/s]"
     ]
    },
    {
     "name": "stdout",
     "output_type": "stream",
     "text": [
      "জিঞ্জিরা\n"
     ]
    },
    {
     "name": "stderr",
     "output_type": "stream",
     "text": [
      "Processed word: নতুন:  50%|████████████████████████████████████████████████████████████████████████████████████████████▍                                                                                           | 102/203 [00:34<00:35,  2.86it/s]"
     ]
    },
    {
     "name": "stdout",
     "output_type": "stream",
     "text": [
      "নয়া\n"
     ]
    },
    {
     "name": "stderr",
     "output_type": "stream",
     "text": [
      "Processed word: পুষ্প:  53%|████████████████████████████████████████████████████████████████████████████████████████████████▍                                                                                      | 107/203 [00:36<00:33,  2.85it/s]"
     ]
    },
    {
     "name": "stdout",
     "output_type": "stream",
     "text": [
      "ফুল\n",
      "কুসুম\n",
      "পুষ্পক\n",
      "বৌল\n"
     ]
    },
    {
     "name": "stderr",
     "output_type": "stream",
     "text": [
      "Processed word: বাল:  60%|███████████████████████████████████████████████████████████████████████████████████████████████████████████████▏                                                                         | 122/203 [00:41<00:26,  3.01it/s]"
     ]
    },
    {
     "name": "stdout",
     "output_type": "stream",
     "text": [
      "বালক\n",
      "ছেলে\n",
      "বাল্য\n"
     ]
    },
    {
     "name": "stderr",
     "output_type": "stream",
     "text": [
      "Processed word: ভাগ:  68%|██████████████████████████████████████████████████████████████████████████████████████████████████████████████████████████████▋                                                          | 139/203 [00:47<00:27,  2.36it/s]"
     ]
    },
    {
     "name": "stdout",
     "output_type": "stream",
     "text": [
      "অংশ\n"
     ]
    },
    {
     "name": "stderr",
     "output_type": "stream",
     "text": [
      "Processed word: ভাষা:  69%|███████████████████████████████████████████████████████████████████████████████████████████████████████████████████████████████▊                                                        | 141/203 [00:48<00:22,  2.72it/s]"
     ]
    },
    {
     "name": "stdout",
     "output_type": "stream",
     "text": [
      "জবান\n"
     ]
    },
    {
     "name": "stderr",
     "output_type": "stream",
     "text": [
      "Processed word: মাংস:  76%|███████████████████████████████████████████████████████████████████████████████████████████████████████████████████████████████████████████▌                                            | 154/203 [00:52<00:15,  3.12it/s]"
     ]
    },
    {
     "name": "stdout",
     "output_type": "stream",
     "text": [
      "গোশত\n"
     ]
    },
    {
     "name": "stderr",
     "output_type": "stream",
     "text": [
      "Processed word: মৃত্যু:  78%|█████████████████████████████████████████████████████████████████████████████████████████████████████████████████████████████████████████████▋                                        | 158/203 [00:54<00:15,  2.86it/s]"
     ]
    },
    {
     "name": "stdout",
     "output_type": "stream",
     "text": [
      "ওফাত\n",
      "ইন্তেকাল\n",
      "মরা\n"
     ]
    },
    {
     "name": "stderr",
     "output_type": "stream",
     "text": [
      "Processed word: মেঘ:  78%|████████████████████████████████████████████████████████████████████████████████████████████████████████████████████████████████████████████████▉                                        | 159/203 [00:54<00:17,  2.47it/s]"
     ]
    },
    {
     "name": "stdout",
     "output_type": "stream",
     "text": [
      "আবর\n",
      "বাদল\n",
      "বৃষ্টি\n",
      "ঝড়ি\n",
      "বাদল\n"
     ]
    },
    {
     "name": "stderr",
     "output_type": "stream",
     "text": [
      "Processed word: শব্দ:  82%|███████████████████████████████████████████████████████████████████████████████████████████████████████████████████████████████████████████████████████▎                                | 167/203 [00:57<00:12,  2.95it/s]"
     ]
    },
    {
     "name": "stdout",
     "output_type": "stream",
     "text": [
      "লফজ\n",
      "আওয়াজ\n",
      "কথা\n"
     ]
    },
    {
     "name": "stderr",
     "output_type": "stream",
     "text": [
      "Processed word: সিংহ:  91%|███████████████████████████████████████████████████████████████████████████████████████████████████████████████████████████████████████████████████████████████████████▋                | 185/203 [01:03<00:06,  2.74it/s]"
     ]
    },
    {
     "name": "stdout",
     "output_type": "stream",
     "text": [
      "শের\n",
      "হায়দর\n"
     ]
    },
    {
     "name": "stderr",
     "output_type": "stream",
     "text": [
      "Processed word: স্বাধীনতা:  94%|████████████████████████████████████████████████████████████████████████████████████████████████████████████████████████████████████████████████████████████████████████▍          | 191/203 [01:05<00:04,  2.74it/s]"
     ]
    },
    {
     "name": "stdout",
     "output_type": "stream",
     "text": [
      "আজাদি\n",
      "স্বাতন্ত্র্য\n",
      "মুক্তি\n",
      "নাজাত\n"
     ]
    },
    {
     "name": "stderr",
     "output_type": "stream",
     "text": [
      "Processed word: Category:Assamese semi-learned borrowings from Sanskrit: 100%|█████████████████████████████████████████████████████████████████████████████████████████████████████████████████████████████████████| 203/203 [01:16<00:00,  2.67it/s]\n"
     ]
    },
    {
     "name": "stdout",
     "output_type": "stream",
     "text": [
      "[['অক্ষ', 'পাশা'], ['অক্ষ', 'অক্ষক্রীড়া'], ['অক্ষ', 'অক্ষরেখা'], ['অক্ষ', 'মেরুরেখা'], ['অক্ষ', 'অক্ষাংশ'], ['অক্ষ', 'অক্ষি'], ['অক্ষ', 'রুদ্রাক্ষ'], ['অগ্নি', 'আগুন'], ['অগ্নি', 'তেজ'], ['অগ্নি', 'জঠরাগ্নি'], ['অগ্নি', 'অগ্নিকোণ'], ['অনুবাদ', 'তর্জমা'], ['অনুমতি', 'ইজাজত'], ['অস্থি', 'হাড়'], ['আকাশ', 'আসমান'], ['উপন্যাস', 'নভেল'], ['একতা', 'ঐক্য'], ['একতা', 'একত্ব'], ['কৃষ্ণ', 'কানাই'], ['কৃষ্ণ', 'কানু'], ['গুহা', 'গুফা'], ['গুহা', 'গুফা'], ['দ্বীপ', 'জিঞ্জিরা'], ['নতুন', 'নয়া'], ['পুষ্প', 'ফুল'], ['পুষ্প', 'কুসুম'], ['পুষ্প', 'পুষ্পক'], ['পুষ্প', 'বৌল'], ['বাল', 'বালক'], ['বাল', 'ছেলে'], ['বাল', 'বাল্য'], ['ভাগ', 'অংশ'], ['ভাষা', 'জবান'], ['মাংস', 'গোশত'], ['মৃত্যু', 'ওফাত'], ['মৃত্যু', 'ইন্তেকাল'], ['মৃত্যু', 'মরা'], ['মেঘ', 'আবর'], ['মেঘ', 'বাদল'], ['মেঘ', 'বৃষ্টি'], ['মেঘ', 'ঝড়ি'], ['মেঘ', 'বাদল'], ['শব্দ', 'লফজ'], ['শব্দ', 'আওয়াজ'], ['শব্দ', 'কথা'], ['সিংহ', 'শের'], ['সিংহ', 'হায়দর'], ['স্বাধীনতা', 'আজাদি'], ['স্বাধীনতা', 'স্বাতন্ত্র্য'], ['স্বাধীনতা', 'মুক্তি'], ['স্বাধীনতা', 'নাজাত']]\n",
      "Assamese-Sanskrit done\n",
      "\n",
      "\n",
      "Bengali-Sanskrit\n",
      "Done, 312\n",
      "Bengali-Sanskrit_tatsamas.csv exists. Overwrite existing file? (y/n) y\n",
      "Getting loan pairs and homonym: 312 candidates\n"
     ]
    },
    {
     "name": "stderr",
     "output_type": "stream",
     "text": [
      "Processed word: অকাম্য:   4%|██████▍                                                                                                                                                                                | 11/312 [00:03<01:08,  4.39it/s]"
     ]
    },
    {
     "name": "stdout",
     "output_type": "stream",
     "text": [
      "অকাম্য\n",
      "নিষ্কাম\n"
     ]
    },
    {
     "name": "stderr",
     "output_type": "stream",
     "text": [
      "Processed word: অক্ষটি:   6%|███████████▏                                                                                                                                                                           | 19/312 [00:05<01:12,  4.06it/s]"
     ]
    },
    {
     "name": "stdout",
     "output_type": "stream",
     "text": [
      "পাশা\n",
      "অক্ষক্রীড়া\n",
      "অক্ষরেখা\n",
      "মেরুরেখা\n",
      "অক্ষাংশ\n",
      "অক্ষি\n",
      "রুদ্রাক্ষ\n"
     ]
    },
    {
     "name": "stderr",
     "output_type": "stream",
     "text": [
      "Processed word: অক্ষরবৃত্ত:   7%|████████████                                                                                                                                                                       | 21/312 [00:05<01:11,  4.06it/s]"
     ]
    },
    {
     "name": "stdout",
     "output_type": "stream",
     "text": [
      "বর্ণ\n"
     ]
    },
    {
     "name": "stderr",
     "output_type": "stream",
     "text": [
      "Processed word: অগস্ত্য:   8%|██████████████                                                                                                                                                                        | 24/312 [00:06<01:18,  3.66it/s]"
     ]
    },
    {
     "name": "stdout",
     "output_type": "stream",
     "text": [
      "অগস্ত্যমুনি\n",
      "ক্যানোপাস\n"
     ]
    },
    {
     "name": "stderr",
     "output_type": "stream",
     "text": [
      "Processed word: অগ্র:   8%|███████████████▍                                                                                                                                                                         | 26/312 [00:07<01:16,  3.75it/s]"
     ]
    },
    {
     "name": "stdout",
     "output_type": "stream",
     "text": [
      "আগুন\n",
      "তেজ\n",
      "জঠরাগ্নি\n",
      "অগ্নিকোণ\n"
     ]
    },
    {
     "name": "stderr",
     "output_type": "stream",
     "text": [
      "Processed word: অঙ্ক:   9%|█████████████████▏                                                                                                                                                                       | 29/312 [00:07<01:10,  4.01it/s]"
     ]
    },
    {
     "name": "stdout",
     "output_type": "stream",
     "text": [
      "সংখ্যা\n",
      "আঁক\n"
     ]
    },
    {
     "name": "stderr",
     "output_type": "stream",
     "text": [
      "Processed word: অঙ্কুশ:  11%|███████████████████▎                                                                                                                                                                   | 33/312 [00:08<01:08,  4.08it/s]"
     ]
    },
    {
     "name": "stdout",
     "output_type": "stream",
     "text": [
      "আঁকশি\n",
      "ডাঙ্গশ\n"
     ]
    },
    {
     "name": "stderr",
     "output_type": "stream",
     "text": [
      "Processed word: অঙ্কুশী:  11%|███████████████████▊                                                                                                                                                                  | 34/312 [00:09<01:07,  4.14it/s]"
     ]
    },
    {
     "name": "stdout",
     "output_type": "stream",
     "text": [
      "আঁকশি\n"
     ]
    },
    {
     "name": "stderr",
     "output_type": "stream",
     "text": [
      "Processed word: অঞ্চল:  12%|█████████████████████▊                                                                                                                                                                  | 37/312 [00:09<01:10,  3.92it/s]"
     ]
    },
    {
     "name": "stdout",
     "output_type": "stream",
     "text": [
      "ময়াল\n",
      "পাইথন\n"
     ]
    },
    {
     "name": "stderr",
     "output_type": "stream",
     "text": [
      "Processed word: অত্যাচার:  12%|██████████████████████▋                                                                                                                                                              | 39/312 [00:10<01:08,  3.98it/s]"
     ]
    },
    {
     "name": "stdout",
     "output_type": "stream",
     "text": [
      "জোরাজুরি\n",
      "জুলুম\n"
     ]
    },
    {
     "name": "stderr",
     "output_type": "stream",
     "text": [
      "Processed word: অত্যাচারী:  13%|███████████████████████▋                                                                                                                                                            | 41/312 [00:11<01:07,  4.00it/s]"
     ]
    },
    {
     "name": "stdout",
     "output_type": "stream",
     "text": [
      "মজলুম\n",
      "জালিম\n",
      "জুলুমকারী\n",
      "জালিম\n"
     ]
    },
    {
     "name": "stderr",
     "output_type": "stream",
     "text": [
      "Processed word: অনুবাদ:  14%|██████████████████████████▍                                                                                                                                                            | 45/312 [00:12<01:15,  3.55it/s]"
     ]
    },
    {
     "name": "stdout",
     "output_type": "stream",
     "text": [
      "তর্জমা\n"
     ]
    },
    {
     "name": "stderr",
     "output_type": "stream",
     "text": [
      "Processed word: অনুস্বর:  15%|████████████████████████████                                                                                                                                                          | 48/312 [00:12<01:04,  4.10it/s]"
     ]
    },
    {
     "name": "stdout",
     "output_type": "stream",
     "text": [
      "ইজাজত\n"
     ]
    },
    {
     "name": "stderr",
     "output_type": "stream",
     "text": [
      "Processed word: অবশ্য:  17%|██████████████████████████████▋                                                                                                                                                         | 52/312 [00:13<00:59,  4.40it/s]"
     ]
    },
    {
     "name": "stdout",
     "output_type": "stream",
     "text": [
      "এন্তেজার\n",
      "আলবৎ\n"
     ]
    },
    {
     "name": "stderr",
     "output_type": "stream",
     "text": [
      "Processed word: অভদ্র:  17%|███████████████████████████████▊                                                                                                                                                        | 54/312 [00:14<01:00,  4.25it/s]"
     ]
    },
    {
     "name": "stdout",
     "output_type": "stream",
     "text": [
      "অশিষ্ট\n",
      "অসভ্য\n",
      "বেতমিজ\n"
     ]
    },
    {
     "name": "stderr",
     "output_type": "stream",
     "text": [
      "Processed word: অরবিন্দ:  19%|█████████████████████████████████▊                                                                                                                                                    | 58/312 [00:15<01:01,  4.15it/s]"
     ]
    },
    {
     "name": "stdout",
     "output_type": "stream",
     "text": [
      "পদ্ম\n"
     ]
    },
    {
     "name": "stderr",
     "output_type": "stream",
     "text": [
      "Processed word: অর্থাৎ:  20%|███████████████████████████████████▊                                                                                                                                                   | 61/312 [00:15<00:52,  4.77it/s]"
     ]
    },
    {
     "name": "stdout",
     "output_type": "stream",
     "text": [
      "মানে\n"
     ]
    },
    {
     "name": "stderr",
     "output_type": "stream",
     "text": [
      "Processed word: অস্ত্রচিকিৎসা:  21%|████████████████████████████████████▋                                                                                                                                           | 65/312 [00:16<00:55,  4.49it/s]"
     ]
    },
    {
     "name": "stdout",
     "output_type": "stream",
     "text": [
      "অভদ্র\n",
      "অমার্জিত\n"
     ]
    },
    {
     "name": "stderr",
     "output_type": "stream",
     "text": [
      "Processed word: অস্থি:  21%|██████████████████████████████████████▉                                                                                                                                                 | 66/312 [00:17<01:08,  3.59it/s]"
     ]
    },
    {
     "name": "stdout",
     "output_type": "stream",
     "text": [
      "হাড়\n"
     ]
    },
    {
     "name": "stderr",
     "output_type": "stream",
     "text": [
      "Processed word: আখাত:  23%|██████████████████████████████████████████▋                                                                                                                                              | 72/312 [00:18<01:01,  3.88it/s]"
     ]
    },
    {
     "name": "stdout",
     "output_type": "stream",
     "text": [
      "আসমান\n"
     ]
    },
    {
     "name": "stderr",
     "output_type": "stream",
     "text": [
      "Processed word: আত্মহত্যা:  24%|███████████████████████████████████████████▎                                                                                                                                        | 75/312 [00:19<00:57,  4.12it/s]"
     ]
    },
    {
     "name": "stdout",
     "output_type": "stream",
     "text": [
      "আত্মঘাত\n",
      "আত্মহনন\n",
      "ইচ্ছামৃত্যু\n",
      "খোদকুশি\n",
      "গলাত দাও দেওন\n"
     ]
    },
    {
     "name": "stderr",
     "output_type": "stream",
     "text": [
      "Processed word: আর্দ্র:  26%|██████████████████████████████████████████████▉                                                                                                                                        | 80/312 [00:20<00:51,  4.52it/s]"
     ]
    },
    {
     "name": "stdout",
     "output_type": "stream",
     "text": [
      "স্ত্রীরজঃ\n",
      "মরশুমি\n",
      "মৌসুমি\n"
     ]
    },
    {
     "name": "stderr",
     "output_type": "stream",
     "text": [
      "Processed word: উপভাষা:  28%|██████████████████████████████████████████████████▍                                                                                                                                    | 86/312 [00:22<00:53,  4.24it/s]"
     ]
    },
    {
     "name": "stdout",
     "output_type": "stream",
     "text": [
      "নভেল\n"
     ]
    },
    {
     "name": "stderr",
     "output_type": "stream",
     "text": [
      "Processed word: উপাসনা:  28%|███████████████████████████████████████████████████                                                                                                                                    | 87/312 [00:22<01:02,  3.62it/s]"
     ]
    },
    {
     "name": "stdout",
     "output_type": "stream",
     "text": [
      "ইবাদত\n",
      "প্রার্থনা\n",
      "নামাজ\n",
      "দোয়া\n"
     ]
    },
    {
     "name": "stderr",
     "output_type": "stream",
     "text": [
      "Processed word: এবং:  29%|██████████████████████████████████████████████████████▎                                                                                                                                   | 91/312 [00:23<00:59,  3.70it/s]"
     ]
    },
    {
     "name": "stdout",
     "output_type": "stream",
     "text": [
      "ঐক্য\n",
      "একত্ব\n",
      "আর\n"
     ]
    },
    {
     "name": "stderr",
     "output_type": "stream",
     "text": [
      "Processed word: কটাহ:  30%|███████████████████████████████████████████████████████▏                                                                                                                                 | 93/312 [00:24<00:59,  3.68it/s]"
     ]
    },
    {
     "name": "stdout",
     "output_type": "stream",
     "text": [
      "কড়াই\n"
     ]
    },
    {
     "name": "stderr",
     "output_type": "stream",
     "text": [
      "Processed word: কফ:  31%|█████████████████████████████████████████████████████████▌                                                                                                                                 | 96/312 [00:25<00:55,  3.90it/s]"
     ]
    },
    {
     "name": "stdout",
     "output_type": "stream",
     "text": [
      "কখনও\n",
      "কদাচ\n",
      "কদাচন\n",
      "কদাচ\n",
      "কদাচন\n",
      "শ্লেষ্মা\n",
      "কফ\n"
     ]
    },
    {
     "name": "stderr",
     "output_type": "stream",
     "text": [
      "Processed word: কাক:  32%|███████████████████████████████████████████████████████████                                                                                                                               | 99/312 [00:25<00:54,  3.88it/s]"
     ]
    },
    {
     "name": "stdout",
     "output_type": "stream",
     "text": [
      "বায়স\n",
      "বলিভুক\n",
      "কাগ\n",
      "খঞ্জ\n",
      "কাগ\n"
     ]
    },
    {
     "name": "stderr",
     "output_type": "stream",
     "text": [
      "Processed word: কৃষ্ণ:  32%|██████████████████████████████████████████████████████████▋                                                                                                                            | 100/312 [00:26<00:55,  3.79it/s]"
     ]
    },
    {
     "name": "stdout",
     "output_type": "stream",
     "text": [
      "কানাই\n",
      "কানু\n"
     ]
    },
    {
     "name": "stderr",
     "output_type": "stream",
     "text": [
      "Processed word: গুহা:  34%|███████████████████████████████████████████████████████████████                                                                                                                         | 107/312 [00:28<00:58,  3.51it/s]"
     ]
    },
    {
     "name": "stdout",
     "output_type": "stream",
     "text": [
      "গুফা\n",
      "গুফা\n"
     ]
    },
    {
     "name": "stderr",
     "output_type": "stream",
     "text": [
      "Processed word: গেরাম:  35%|███████████████████████████████████████████████████████████████▎                                                                                                                       | 108/312 [00:28<00:53,  3.84it/s]"
     ]
    },
    {
     "name": "stdout",
     "output_type": "stream",
     "text": [
      "গ্রাম\n"
     ]
    },
    {
     "name": "stderr",
     "output_type": "stream",
     "text": [
      "Processed word: গোষ্ঠী:  35%|████████████████████████████████████████████████████████████████▏                                                                                                                     | 110/312 [00:28<00:48,  4.12it/s]"
     ]
    },
    {
     "name": "stdout",
     "output_type": "stream",
     "text": [
      "চোনা\n",
      "খানদান\n"
     ]
    },
    {
     "name": "stderr",
     "output_type": "stream",
     "text": [
      "Processed word: গ্রীষ্ম:  36%|█████████████████████████████████████████████████████████████████▌                                                                                                                   | 113/312 [00:29<00:41,  4.76it/s]"
     ]
    },
    {
     "name": "stdout",
     "output_type": "stream",
     "text": [
      "গ্রাম\n",
      "গরমকাল\n"
     ]
    },
    {
     "name": "stderr",
     "output_type": "stream",
     "text": [
      "Processed word: চান:  37%|████████████████████████████████████████████████████████████████████▊                                                                                                                    | 116/312 [00:30<00:46,  4.26it/s]"
     ]
    },
    {
     "name": "stdout",
     "output_type": "stream",
     "text": [
      "গোসল\n",
      "বুড়\n",
      "স্নান\n",
      "চন্দ্র\n",
      "মাহতাব\n"
     ]
    },
    {
     "name": "stderr",
     "output_type": "stream",
     "text": [
      "Processed word: জীবিত:  39%|████████████████████████████████████████████████████████████████████████▏                                                                                                              | 123/312 [00:32<00:44,  4.29it/s]"
     ]
    },
    {
     "name": "stdout",
     "output_type": "stream",
     "text": [
      "দরুন\n",
      "লাগি\n",
      "জীবন্ত\n",
      "জিন্দা\n"
     ]
    },
    {
     "name": "stderr",
     "output_type": "stream",
     "text": [
      "Processed word: জ্যোৎস্না:  40%|███████████████████████████████████████████████████████████████████████▋                                                                                                           | 125/312 [00:32<00:41,  4.54it/s]"
     ]
    },
    {
     "name": "stdout",
     "output_type": "stream",
     "text": [
      "শুক্রবার\n"
     ]
    },
    {
     "name": "stderr",
     "output_type": "stream",
     "text": [
      "Processed word: দীপাবলি:  43%|█████████████████████████████████████████████████████████████████████████████▋                                                                                                       | 134/312 [00:34<00:39,  4.46it/s]"
     ]
    },
    {
     "name": "stdout",
     "output_type": "stream",
     "text": [
      "দেওয়ালি\n",
      "দীপালি\n",
      "দীপোৎসব\n"
     ]
    },
    {
     "name": "stderr",
     "output_type": "stream",
     "text": [
      "Processed word: দুর্গজয়:  44%|██████████████████████████████████████████████████████████████████████████████▍                                                                                                     | 136/312 [00:35<00:42,  4.18it/s]"
     ]
    },
    {
     "name": "stdout",
     "output_type": "stream",
     "text": [
      "কেল্লাফতে\n"
     ]
    },
    {
     "name": "stderr",
     "output_type": "stream",
     "text": [
      "Processed word: ধর্ষণ:  45%|█████████████████████████████████████████████████████████████████████████████████▌                                                                                                     | 139/312 [00:35<00:36,  4.69it/s]"
     ]
    },
    {
     "name": "stdout",
     "output_type": "stream",
     "text": [
      "বলাৎকার\n",
      "রেপ\n"
     ]
    },
    {
     "name": "stderr",
     "output_type": "stream",
     "text": [
      "Processed word: নতুন:  45%|███████████████████████████████████████████████████████████████████████████████████▏                                                                                                    | 141/312 [00:36<00:49,  3.44it/s]"
     ]
    },
    {
     "name": "stdout",
     "output_type": "stream",
     "text": [
      "নয়া\n"
     ]
    },
    {
     "name": "stderr",
     "output_type": "stream",
     "text": [
      "Processed word: নষ্ট:  46%|████████████████████████████████████████████████████████████████████████████████████▉                                                                                                   | 144/312 [00:37<00:45,  3.69it/s]"
     ]
    },
    {
     "name": "stdout",
     "output_type": "stream",
     "text": [
      "বরবাদ\n",
      "খারাপ\n",
      "ধস\n",
      "ধ্বংস\n"
     ]
    },
    {
     "name": "stderr",
     "output_type": "stream",
     "text": [
      "Processed word: নিবেদন:  47%|█████████████████████████████████████████████████████████████████████████████████████▏                                                                                                | 146/312 [00:37<00:39,  4.15it/s]"
     ]
    },
    {
     "name": "stdout",
     "output_type": "stream",
     "text": [
      "নাগকেশর\n",
      "কনক\n",
      "কাঞ্চন\n",
      "আর্জী\n",
      "দরখাস্ত\n"
     ]
    },
    {
     "name": "stderr",
     "output_type": "stream",
     "text": [
      "Processed word: নিমন্ত্রণ:  47%|████████████████████████████████████████████████████████████████████████████████████▎                                                                                              | 147/312 [00:38<00:43,  3.79it/s]"
     ]
    },
    {
     "name": "stdout",
     "output_type": "stream",
     "text": [
      "দাওয়াত\n"
     ]
    },
    {
     "name": "stderr",
     "output_type": "stream",
     "text": [
      "Processed word: নিসর্গ:  48%|███████████████████████████████████████████████████████████████████████████████████████▌                                                                                              | 150/312 [00:38<00:37,  4.27it/s]"
     ]
    },
    {
     "name": "stdout",
     "output_type": "stream",
     "text": [
      "ইন্তেখাব\n"
     ]
    },
    {
     "name": "stderr",
     "output_type": "stream",
     "text": [
      "Processed word: পটোল:  48%|█████████████████████████████████████████████████████████████████████████████████████████                                                                                               | 151/312 [00:38<00:36,  4.43it/s]"
     ]
    },
    {
     "name": "stdout",
     "output_type": "stream",
     "text": [
      "পটল\n",
      "নাগফল\n"
     ]
    },
    {
     "name": "stderr",
     "output_type": "stream",
     "text": [
      "Processed word: পরিবার:  49%|████████████████████████████████████████████████████████████████████████████████████████▋                                                                                             | 152/312 [00:39<00:43,  3.68it/s]"
     ]
    },
    {
     "name": "stdout",
     "output_type": "stream",
     "text": [
      "খানদান\n",
      "গোষ্ঠী\n"
     ]
    },
    {
     "name": "stderr",
     "output_type": "stream",
     "text": [
      "Processed word: পানীয়:  49%|█████████████████████████████████████████████████████████████████████████████████████████▊                                                                                            | 154/312 [00:39<00:38,  4.14it/s]"
     ]
    },
    {
     "name": "stdout",
     "output_type": "stream",
     "text": [
      "অবস্থা\n"
     ]
    },
    {
     "name": "stderr",
     "output_type": "stream",
     "text": [
      "Processed word: পায়ু:  50%|███████████████████████████████████████████████████████████████████████████████████████████▌                                                                                           | 156/312 [00:40<00:39,  3.94it/s]"
     ]
    },
    {
     "name": "stdout",
     "output_type": "stream",
     "text": [
      "মলদ্বার\n"
     ]
    },
    {
     "name": "stderr",
     "output_type": "stream",
     "text": [
      "Processed word: পারদ:  50%|████████████████████████████████████████████████████████████████████████████████████████████▌                                                                                           | 157/312 [00:40<00:37,  4.11it/s]"
     ]
    },
    {
     "name": "stdout",
     "output_type": "stream",
     "text": [
      "পারা\n"
     ]
    },
    {
     "name": "stderr",
     "output_type": "stream",
     "text": [
      "Processed word: পিতা:  51%|█████████████████████████████████████████████████████████████████████████████████████████████▊                                                                                          | 159/312 [00:40<00:32,  4.66it/s]"
     ]
    },
    {
     "name": "stdout",
     "output_type": "stream",
     "text": [
      "ওয়ালেদ\n",
      "বাপ\n",
      "আবু\n",
      "বাবা\n",
      "আব্বা\n",
      "আব্বু\n"
     ]
    },
    {
     "name": "stderr",
     "output_type": "stream",
     "text": [
      "Processed word: পুরস্কার:  52%|████████████████████████████████████████████████████████████████████████████████████████████▉                                                                                       | 161/312 [00:41<00:36,  4.16it/s]"
     ]
    },
    {
     "name": "stdout",
     "output_type": "stream",
     "text": [
      "ইনাম\n"
     ]
    },
    {
     "name": "stderr",
     "output_type": "stream",
     "text": [
      "Processed word: পুষ্টিকর:  52%|██████████████████████████████████████████████████████████████████████████████████████████████                                                                                      | 163/312 [00:41<00:33,  4.45it/s]"
     ]
    },
    {
     "name": "stdout",
     "output_type": "stream",
     "text": [
      "মরদামি\n"
     ]
    },
    {
     "name": "stderr",
     "output_type": "stream",
     "text": [
      "Processed word: পূর্ব:  53%|████████████████████████████████████████████████████████████████████████████████████████████████▊                                                                                      | 165/312 [00:42<00:35,  4.14it/s]"
     ]
    },
    {
     "name": "stdout",
     "output_type": "stream",
     "text": [
      "প্রাচী\n",
      "পুব\n",
      "প্রাচ্য\n",
      "পৌর্ব\n",
      "পুবে\n"
     ]
    },
    {
     "name": "stderr",
     "output_type": "stream",
     "text": [
      "Processed word: প্রসব:  54%|██████████████████████████████████████████████████████████████████████████████████████████████████▌                                                                                    | 168/312 [00:43<00:30,  4.79it/s]"
     ]
    },
    {
     "name": "stdout",
     "output_type": "stream",
     "text": [
      "হর\n",
      "কুল\n",
      "তামাম\n",
      "জনন\n",
      "গর্ভমোচন\n",
      "জন্ম\n",
      "উৎপত্তি\n",
      "জাতি\n",
      "ভূতি\n",
      "আওলাদ\n",
      "ফরজন্দ\n",
      "সন্তান\n",
      "প্রজা\n",
      "সন্ততি\n",
      "বংশ\n",
      "ফল\n",
      "ফল\n",
      "পুষ্প\n",
      "ফুল\n",
      "কুসুম\n",
      "নিমিত্ত\n",
      "হেতু\n"
     ]
    },
    {
     "name": "stderr",
     "output_type": "stream",
     "text": [
      "Processed word: প্রাক্তন:  55%|███████████████████████████████████████████████████████████████████████████████████████████████████▏                                                                                | 172/312 [00:44<00:31,  4.50it/s]"
     ]
    },
    {
     "name": "stdout",
     "output_type": "stream",
     "text": [
      "মূত্র\n",
      "সাবেক\n",
      "ভূতপূর্ব\n",
      "পূর্বতন\n"
     ]
    },
    {
     "name": "stderr",
     "output_type": "stream",
     "text": [
      "Processed word: প্রাতরাশ:  56%|████████████████████████████████████████████████████████████████████████████████████████████████████▍                                                                               | 174/312 [00:44<00:32,  4.21it/s]"
     ]
    },
    {
     "name": "stdout",
     "output_type": "stream",
     "text": [
      "পুরোনো\n",
      "কদীম\n",
      "ছোট হাজরি\n",
      "নাশ্তা\n",
      "নাস্তা\n",
      "নাশতা\n"
     ]
    },
    {
     "name": "stderr",
     "output_type": "stream",
     "text": [
      "Processed word: বজ্র:  56%|███████████████████████████████████████████████████████████████████████████████████████████████████████▊                                                                                | 176/312 [00:44<00:30,  4.50it/s]"
     ]
    },
    {
     "name": "stdout",
     "output_type": "stream",
     "text": [
      "ইবাদত\n",
      "উপাসনা\n",
      "নামাজ\n",
      "দোয়া\n",
      "বাজ\n",
      "অশনি\n",
      "কুলিশ\n",
      "বিদ্যুৎ\n",
      "তড়িৎ\n",
      "সৌদামিনী\n"
     ]
    },
    {
     "name": "stderr",
     "output_type": "stream",
     "text": [
      "Processed word: বয়ঃসন্ধি:  57%|█████████████████████████████████████████████████████████████████████████████████████████████████████▌                                                                             | 177/312 [00:45<00:28,  4.72it/s]"
     ]
    },
    {
     "name": "stdout",
     "output_type": "stream",
     "text": [
      "বয়ঃসন্ধিকাল\n"
     ]
    },
    {
     "name": "stderr",
     "output_type": "stream",
     "text": [
      "Processed word: বিনোদ:  58%|██████████████████████████████████████████████████████████████████████████████████████████████████████████▏                                                                            | 181/312 [00:46<00:28,  4.56it/s]"
     ]
    },
    {
     "name": "stdout",
     "output_type": "stream",
     "text": [
      "বাঁদর\n"
     ]
    },
    {
     "name": "stderr",
     "output_type": "stream",
     "text": [
      "Processed word: বিশেষজ্ঞ:  59%|█████████████████████████████████████████████████████████████████████████████████████████████████████████▌                                                                          | 183/312 [00:46<00:29,  4.30it/s]"
     ]
    },
    {
     "name": "stdout",
     "output_type": "stream",
     "text": [
      "দক্ষ\n",
      "বিজ্ঞ\n",
      "ওস্তাদ\n"
     ]
    },
    {
     "name": "stderr",
     "output_type": "stream",
     "text": [
      "Processed word: বিসর্গ:  60%|████████████████████████████████████████████████████████████████████████████████████████████████████████████▌                                                                         | 186/312 [00:47<00:25,  4.89it/s]"
     ]
    },
    {
     "name": "stdout",
     "output_type": "stream",
     "text": [
      "বৃহস্পতিবার\n"
     ]
    },
    {
     "name": "stderr",
     "output_type": "stream",
     "text": [
      "Processed word: বুভুক্ষা:  60%|████████████████████████████████████████████████████████████████████████████████████████████████████████████▍                                                                       | 188/312 [00:47<00:27,  4.50it/s]"
     ]
    },
    {
     "name": "stdout",
     "output_type": "stream",
     "text": [
      "ক্ষুধা\n"
     ]
    },
    {
     "name": "stderr",
     "output_type": "stream",
     "text": [
      "Processed word: বৃহস্পতিবার:  61%|███████████████████████████████████████████████████████████████████████████████████████████████████████████▊                                                                     | 190/312 [00:48<00:25,  4.70it/s]"
     ]
    },
    {
     "name": "stdout",
     "output_type": "stream",
     "text": [
      "গুরুবার\n",
      "বিষ্যুদবার\n"
     ]
    },
    {
     "name": "stderr",
     "output_type": "stream",
     "text": [
      "Processed word: ভাষা:  65%|███████████████████████████████████████████████████████████████████████████████████████████████████████████████████████▏                                                                | 202/312 [01:01<04:18,  2.35s/it]"
     ]
    },
    {
     "name": "stdout",
     "output_type": "stream",
     "text": [
      "জবান\n"
     ]
    },
    {
     "name": "stderr",
     "output_type": "stream",
     "text": [
      "Processed word: মতি:  66%|█████████████████████████████████████████████████████████████████████████████████████████████████████████████████████████▌                                                               | 205/312 [01:01<01:41,  1.05it/s]"
     ]
    },
    {
     "name": "stdout",
     "output_type": "stream",
     "text": [
      "কুজবার\n",
      "ভৌমবার\n",
      "বুদ্ধি\n",
      "মেধা\n",
      "জ্ঞান\n",
      "মগজ\n"
     ]
    },
    {
     "name": "stderr",
     "output_type": "stream",
     "text": [
      "Processed word: মহিষ:  67%|███████████████████████████████████████████████████████████████████████████████████████████████████████████████████████████▎                                                            | 209/312 [01:02<00:40,  2.53it/s]"
     ]
    },
    {
     "name": "stdout",
     "output_type": "stream",
     "text": [
      "ভইষ\n"
     ]
    },
    {
     "name": "stderr",
     "output_type": "stream",
     "text": [
      "Processed word: মাংস:  67%|███████████████████████████████████████████████████████████████████████████████████████████████████████████████████████████▊                                                            | 210/312 [01:03<00:37,  2.69it/s]"
     ]
    },
    {
     "name": "stdout",
     "output_type": "stream",
     "text": [
      "গোশত\n"
     ]
    },
    {
     "name": "stderr",
     "output_type": "stream",
     "text": [
      "Processed word: মাতা:  68%|████████████████████████████████████████████████████████████████████████████████████████████████████████████████████████████▍                                                           | 211/312 [01:03<00:44,  2.25it/s]"
     ]
    },
    {
     "name": "stdout",
     "output_type": "stream",
     "text": [
      "ওয়ালেদা\n",
      "মা\n",
      "আম্মা\n",
      "আম্মু\n",
      "মাত করা\n",
      "কথা কওয়া\n",
      "কথা বলা\n"
     ]
    },
    {
     "name": "stderr",
     "output_type": "stream",
     "text": [
      "Processed word: মিত্র:  69%|██████████████████████████████████████████████████████████████████████████████████████████████████████████████████████████████▋                                                        | 216/312 [01:04<00:26,  3.58it/s]"
     ]
    },
    {
     "name": "stdout",
     "output_type": "stream",
     "text": [
      "বন্ধু\n",
      "দোস্ত\n",
      "মিতা\n"
     ]
    },
    {
     "name": "stderr",
     "output_type": "stream",
     "text": [
      "Processed word: মূল:  71%|██████████████████████████████████████████████████████████████████████████████████████████████████████████████████████████████████▍                                                      | 220/312 [01:06<00:23,  3.86it/s]"
     ]
    },
    {
     "name": "stdout",
     "output_type": "stream",
     "text": [
      "প্রস্রাব\n"
     ]
    },
    {
     "name": "stderr",
     "output_type": "stream",
     "text": [
      "Processed word: মূল্য:  71%|█████████████████████████████████████████████████████████████████████████████████████████████████████████████████████████████████▋                                                     | 221/312 [01:06<00:26,  3.45it/s]"
     ]
    },
    {
     "name": "stdout",
     "output_type": "stream",
     "text": [
      "দাম\n"
     ]
    },
    {
     "name": "stderr",
     "output_type": "stream",
     "text": [
      "Processed word: মৃত:  71%|████████████████████████████████████████████████████████████████████████████████████████████████████████████████████████████████████▏                                                    | 223/312 [01:07<00:29,  3.04it/s]"
     ]
    },
    {
     "name": "stdout",
     "output_type": "stream",
     "text": [
      "মরা\n",
      "মুর্দা\n"
     ]
    },
    {
     "name": "stderr",
     "output_type": "stream",
     "text": [
      "Processed word: মৃত্যু:  72%|██████████████████████████████████████████████████████████████████████████████████████████████████████████████████████████████████▋                                                   | 224/312 [01:07<00:34,  2.58it/s]"
     ]
    },
    {
     "name": "stdout",
     "output_type": "stream",
     "text": [
      "ওফাত\n",
      "ইন্তেকাল\n",
      "মরা\n"
     ]
    },
    {
     "name": "stderr",
     "output_type": "stream",
     "text": [
      "Processed word: রচনা:  73%|██████████████████████████████████████████████████████████████████████████████████████████████████████████████████████████████████████▍                                                 | 228/312 [01:09<00:31,  2.66it/s]"
     ]
    },
    {
     "name": "stdout",
     "output_type": "stream",
     "text": [
      "সৃজন\n",
      "সৃষ্টি\n",
      "নির্মাণ\n",
      "গঠন\n"
     ]
    },
    {
     "name": "stderr",
     "output_type": "stream",
     "text": [
      "Processed word: রিষ্ট:  76%|███████████████████████████████████████████████████████████████████████████████████████████████████████████████████████████████████████████                                            | 237/312 [01:11<00:20,  3.68it/s]"
     ]
    },
    {
     "name": "stdout",
     "output_type": "stream",
     "text": [
      "অকল্যাণকর\n",
      "পাপজনক\n",
      "মঙ্গল\n",
      "শুভ\n",
      "কল্যাণ\n",
      "রিষ্টি\n",
      "পাপ\n",
      "রিষ্টি\n",
      "কলুষ\n",
      "খড়গ\n",
      "রিষ্টি\n"
     ]
    },
    {
     "name": "stderr",
     "output_type": "stream",
     "text": [
      "Processed word: লোহিত:  77%|████████████████████████████████████████████████████████████████████████████████████████████████████████████████████████████████████████████▊                                          | 240/312 [01:12<00:20,  3.57it/s]"
     ]
    },
    {
     "name": "stdout",
     "output_type": "stream",
     "text": [
      "রক্তবর্ণ\n",
      "লাল\n",
      "রক্তবর্ণ\n",
      "লাল\n"
     ]
    },
    {
     "name": "stderr",
     "output_type": "stream",
     "text": [
      "Processed word: শত:  78%|████████████████████████████████████████████████████████████████████████████████████████████████████████████████████████████████████████████████▎                                         | 242/312 [01:13<00:18,  3.71it/s]"
     ]
    },
    {
     "name": "stdout",
     "output_type": "stream",
     "text": [
      "শ\n"
     ]
    },
    {
     "name": "stderr",
     "output_type": "stream",
     "text": [
      "Processed word: শিশির:  79%|█████████████████████████████████████████████████████████████████████████████████████████████████████████████████████████████████████████████████▍                                     | 248/312 [01:15<00:16,  3.91it/s]"
     ]
    },
    {
     "name": "stdout",
     "output_type": "stream",
     "text": [
      "অধ্যাপক\n",
      "মুয়াল্লিম\n",
      "ওস্তাদ\n",
      "মাস্টার\n"
     ]
    },
    {
     "name": "stderr",
     "output_type": "stream",
     "text": [
      "Processed word: শ্লেষ্মা:  81%|██████████████████████████████████████████████████████████████████████████████████████████████████████████████████████████████████████████████████▌                                 | 254/312 [01:16<00:15,  3.80it/s]"
     ]
    },
    {
     "name": "stdout",
     "output_type": "stream",
     "text": [
      "কফ\n",
      "কফ\n"
     ]
    },
    {
     "name": "stderr",
     "output_type": "stream",
     "text": [
      "Processed word: সংশয়:  82%|█████████████████████████████████████████████████████████████████████████████████████████████████████████████████████████████████████████████████████▌                                 | 255/312 [01:17<00:16,  3.54it/s]"
     ]
    },
    {
     "name": "stdout",
     "output_type": "stream",
     "text": [
      "সন্দেহ\n"
     ]
    },
    {
     "name": "stderr",
     "output_type": "stream",
     "text": [
      "Processed word: সত্য:  83%|████████████████████████████████████████████████████████████████████████████████████████████████████████████████████████████████████████████████████████▏                               | 258/312 [01:17<00:11,  4.60it/s]"
     ]
    },
    {
     "name": "stdout",
     "output_type": "stream",
     "text": [
      "তমদ্দুন\n",
      "রসম\n",
      "রেওয়াজ\n"
     ]
    },
    {
     "name": "stderr",
     "output_type": "stream",
     "text": [
      "Processed word: সন্ধ্যা:  83%|██████████████████████████████████████████████████████████████████████████████████████████████████████████████████████████████████████████████████████▊                              | 260/312 [01:18<00:12,  4.22it/s]"
     ]
    },
    {
     "name": "stdout",
     "output_type": "stream",
     "text": [
      "সাঁঝ\n"
     ]
    },
    {
     "name": "stderr",
     "output_type": "stream",
     "text": [
      "Processed word: সপ্তাহ:  84%|████████████████████████████████████████████████████████████████████████████████████████████████████████████████████████████████████████████████████████▎                             | 261/312 [01:18<00:12,  4.15it/s]"
     ]
    },
    {
     "name": "stdout",
     "output_type": "stream",
     "text": [
      "হপ্তা\n"
     ]
    },
    {
     "name": "stderr",
     "output_type": "stream",
     "text": [
      "Processed word: সমস্ত:  84%|██████████████████████████████████████████████████████████████████████████████████████████████████████████████████████████████████████████████████████████▎                            | 263/312 [01:18<00:13,  3.67it/s]"
     ]
    },
    {
     "name": "stdout",
     "output_type": "stream",
     "text": [
      "সব\n",
      "সকল\n",
      "গোটা\n",
      "সম্পূর্ণ\n",
      "সমগ্র\n",
      "তামাম\n"
     ]
    },
    {
     "name": "stderr",
     "output_type": "stream",
     "text": [
      "Processed word: সমৃদ্ধ:  85%|███████████████████████████████████████████████████████████████████████████████████████████████████████████████████████████████████████████████████████████▏                          | 266/312 [01:19<00:10,  4.30it/s]"
     ]
    },
    {
     "name": "stdout",
     "output_type": "stream",
     "text": [
      "সমৃদ্ধিশালী\n"
     ]
    },
    {
     "name": "stderr",
     "output_type": "stream",
     "text": [
      "Processed word: সম্পাদক:  86%|███████████████████████████████████████████████████████████████████████████████████████████████████████████████████████████████████████████████████████████▍                         | 268/312 [01:20<00:10,  4.10it/s]"
     ]
    },
    {
     "name": "stdout",
     "output_type": "stream",
     "text": [
      "দৌলত\n",
      "ধন\n"
     ]
    },
    {
     "name": "stderr",
     "output_type": "stream",
     "text": [
      "Processed word: সম্মতি:  86%|████████████████████████████████████████████████████████████████████████████████████████████████████████████████████████████████████████████████████████████▉                         | 269/312 [01:20<00:10,  4.00it/s]"
     ]
    },
    {
     "name": "stdout",
     "output_type": "stream",
     "text": [
      "ইজাব\n"
     ]
    },
    {
     "name": "stderr",
     "output_type": "stream",
     "text": [
      "Processed word: সায়ন:  88%|█████████████████████████████████████████████████████████████████████████████████████████████████████████████████████████████████████████████████████████████████▎                     | 275/312 [01:21<00:07,  4.63it/s]"
     ]
    },
    {
     "name": "stdout",
     "output_type": "stream",
     "text": [
      "তামাদ্দুনিক\n",
      "রসমী\n",
      "রেওয়াজী\n"
     ]
    },
    {
     "name": "stderr",
     "output_type": "stream",
     "text": [
      "Processed word: সিংহ:  89%|███████████████████████████████████████████████████████████████████████████████████████████████████████████████████████████████████████████████████████████████████▎                    | 277/312 [01:22<00:09,  3.71it/s]"
     ]
    },
    {
     "name": "stdout",
     "output_type": "stream",
     "text": [
      "শের\n",
      "হায়দর\n"
     ]
    },
    {
     "name": "stderr",
     "output_type": "stream",
     "text": [
      "Processed word: সুন্দর:  90%|████████████████████████████████████████████████████████████████████████████████████████████████████████████████████████████████████████████████████████████████████▌                 | 282/312 [01:23<00:07,  3.96it/s]"
     ]
    },
    {
     "name": "stdout",
     "output_type": "stream",
     "text": [
      "খুবসুরত\n",
      "হাসিন\n"
     ]
    },
    {
     "name": "stderr",
     "output_type": "stream",
     "text": [
      "Processed word: সোমবার:  91%|██████████████████████████████████████████████████████████████████████████████████████████████████████████████████████████████████████████████████████████████████████▎               | 285/312 [01:24<00:06,  4.01it/s]"
     ]
    },
    {
     "name": "stdout",
     "output_type": "stream",
     "text": [
      "তপন\n",
      "রবি\n"
     ]
    },
    {
     "name": "stderr",
     "output_type": "stream",
     "text": [
      "Processed word: সোয়াদ:  92%|██████████████████████████████████████████████████████████████████████████████████████████████████████████████████████████████████████████████████████████████████████▊               | 286/312 [01:24<00:06,  4.04it/s]"
     ]
    },
    {
     "name": "stdout",
     "output_type": "stream",
     "text": [
      "স্বাদ\n"
     ]
    },
    {
     "name": "stderr",
     "output_type": "stream",
     "text": [
      "Processed word: স্ত্রী:  93%|████████████████████████████████████████████████████████████████████████████████████████████████████████████████████████████████████████████████████████████████████████▌             | 289/312 [01:25<00:05,  4.00it/s]"
     ]
    },
    {
     "name": "stdout",
     "output_type": "stream",
     "text": [
      "নারী\n",
      "মহিলা\n",
      "বউ\n",
      "বধূ\n"
     ]
    },
    {
     "name": "stderr",
     "output_type": "stream",
     "text": [
      "Processed word: স্বপন:  93%|██████████████████████████████████████████████████████████████████████████████████████████████████████████████████████████████████████████████████████████████████████████▋            | 291/312 [01:25<00:05,  4.19it/s]"
     ]
    },
    {
     "name": "stdout",
     "output_type": "stream",
     "text": [
      "গোসল\n",
      "বুড়\n",
      "খোয়াব\n"
     ]
    },
    {
     "name": "stderr",
     "output_type": "stream",
     "text": [
      "Processed word: স্বপ্ন:  94%|██████████████████████████████████████████████████████████████████████████████████████████████████████████████████████████████████████████████████████████████████████████▎           | 292/312 [01:26<00:04,  4.51it/s]"
     ]
    },
    {
     "name": "stdout",
     "output_type": "stream",
     "text": [
      "খোয়াব\n"
     ]
    },
    {
     "name": "stderr",
     "output_type": "stream",
     "text": [
      "Processed word: স্বাদ:  94%|███████████████████████████████████████████████████████████████████████████████████████████████████████████████████████████████████████████████████████████████████████████▊           | 293/312 [01:26<00:04,  3.95it/s]"
     ]
    },
    {
     "name": "stdout",
     "output_type": "stream",
     "text": [
      "সোয়াদ\n"
     ]
    },
    {
     "name": "stderr",
     "output_type": "stream",
     "text": [
      "Processed word: স্বাভাবিক:  95%|█████████████████████████████████████████████████████████████████████████████████████████████████████████████████████████████████████████████████████████████████████████▏         | 295/312 [01:26<00:04,  4.21it/s]"
     ]
    },
    {
     "name": "stdout",
     "output_type": "stream",
     "text": [
      "আজাদি\n",
      "স্বাতন্ত্র্য\n",
      "মুক্তি\n",
      "নাজাত\n"
     ]
    },
    {
     "name": "stderr",
     "output_type": "stream",
     "text": [
      "Processed word: হপন:  96%|█████████████████████████████████████████████████████████████████████████████████████████████████████████████████████████████████████████████████████████████████████████████████▎       | 299/312 [01:27<00:03,  3.99it/s]"
     ]
    },
    {
     "name": "stdout",
     "output_type": "stream",
     "text": [
      "খোয়াব\n"
     ]
    },
    {
     "name": "stderr",
     "output_type": "stream",
     "text": [
      "Processed word: হাল:  97%|███████████████████████████████████████████████████████████████████████████████████████████████████████████████████████████████████████████████████████████████████████████████████▋     | 303/312 [01:28<00:02,  3.91it/s]"
     ]
    },
    {
     "name": "stdout",
     "output_type": "stream",
     "text": [
      "অবস্থা\n"
     ]
    },
    {
     "name": "stderr",
     "output_type": "stream",
     "text": [
      "Processed word: হিনান:  97%|██████████████████████████████████████████████████████████████████████████████████████████████████████████████████████████████████████████████████████████████████████████████████▎    | 304/312 [01:29<00:01,  4.10it/s]"
     ]
    },
    {
     "name": "stdout",
     "output_type": "stream",
     "text": [
      "গোসল\n",
      "বুড়\n"
     ]
    },
    {
     "name": "stderr",
     "output_type": "stream",
     "text": [
      "Processed word: হিমাচল:  98%|██████████████████████████████████████████████████████████████████████████████████████████████████████████████████████████████████████████████████████████████████████████████████▌   | 306/312 [01:29<00:01,  4.13it/s]"
     ]
    },
    {
     "name": "stdout",
     "output_type": "stream",
     "text": [
      "হিমালয়\n"
     ]
    },
    {
     "name": "stderr",
     "output_type": "stream",
     "text": [
      "Processed word: হোয়াদ:  99%|████████████████████████████████████████████████████████████████████████████████████████████████████████████████████████████████████████████████████████████████████████████████████▎ | 309/312 [01:30<00:00,  4.71it/s]"
     ]
    },
    {
     "name": "stdout",
     "output_type": "stream",
     "text": [
      "কলব\n",
      "হৃৎপিন্ড\n",
      "হিয়া\n",
      "হার্ট\n",
      "স্বাদ\n"
     ]
    },
    {
     "name": "stderr",
     "output_type": "stream",
     "text": [
      "Processed word: Category:Bengali semi-learned borrowings from Sanskrit: 100%|██████████████████████████████████████████████████████████████████████████████████████████████████████████████████████████████████████| 312/312 [01:31<00:00,  3.43it/s]"
     ]
    },
    {
     "name": "stdout",
     "output_type": "stream",
     "text": [
      "[['অকাম', 'অকাম্য'], ['অকাম', 'নিষ্কাম'], ['অক্ষ', 'পাশা'], ['অক্ষ', 'অক্ষক্রীড়া'], ['অক্ষ', 'অক্ষরেখা'], ['অক্ষ', 'মেরুরেখা'], ['অক্ষ', 'অক্ষাংশ'], ['অক্ষ', 'অক্ষি'], ['অক্ষ', 'রুদ্রাক্ষ'], ['অক্ষর', 'বর্ণ'], ['অগস্ত্য', 'অগস্ত্যমুনি'], ['অগস্ত্য', 'ক্যানোপাস'], ['অগ্নি', 'আগুন'], ['অগ্নি', 'তেজ'], ['অগ্নি', 'জঠরাগ্নি'], ['অগ্নি', 'অগ্নিকোণ'], ['অঙ্ক', 'সংখ্যা'], ['অঙ্ক', 'আঁক'], ['অঙ্কুশ', 'আঁকশি'], ['অঙ্কুশ', 'ডাঙ্গশ'], ['অঙ্কুশী', 'আঁকশি'], ['অজগর', 'ময়াল'], ['অজগর', 'পাইথন'], ['অত্যাচার', 'জোরাজুরি'], ['অত্যাচার', 'জুলুম'], ['অত্যাচারিত', 'মজলুম'], ['অত্যাচারী', 'জালিম'], ['অত্যাচারী', 'জুলুমকারী'], ['অত্যাচারী', 'জালিম'], ['অনুবাদ', 'তর্জমা'], ['অনুমতি', 'ইজাজত'], ['অপেক্ষা', 'এন্তেজার'], ['অবশ্য', 'আলবৎ'], ['অভদ্র', 'অশিষ্ট'], ['অভদ্র', 'অসভ্য'], ['অভদ্র', 'বেতমিজ'], ['অরবিন্দ', 'পদ্ম'], ['অর্থাৎ', 'মানে'], ['অসভ্য', 'অভদ্র'], ['অসভ্য', 'অমার্জিত'], ['অস্থি', 'হাড়'], ['আকাশ', 'আসমান'], ['আত্মহত্যা', 'আত্মঘাত'], ['আত্মহত্যা', 'আত্মহনন'], ['আত্মহত্যা', 'ইচ্ছামৃত্যু'], ['আত্মহত্যা', 'খোদকুশি'], ['আত্মহত্যা', 'গলাত দাও দেওন'], ['আর্তব', 'স্ত্রীরজঃ'], ['আর্তব', 'মরশুমি'], ['আর্তব', 'মৌসুমি'], ['উপন্যাস', 'নভেল'], ['উপাসনা', 'ইবাদত'], ['উপাসনা', 'প্রার্থনা'], ['উপাসনা', 'নামাজ'], ['উপাসনা', 'দোয়া'], ['একতা', 'ঐক্য'], ['একতা', 'একত্ব'], ['এবং', 'আর'], ['কটাহ', 'কড়াই'], ['কদাচিৎ', 'কখনও'], ['কদাচিৎ', 'কদাচ'], ['কদাচিৎ', 'কদাচন'], ['কদাচিৎ', 'কদাচ'], ['কদাচিৎ', 'কদাচন'], ['কফ', 'শ্লেষ্মা'], ['কফ', 'কফ'], ['কাক', 'বায়স'], ['কাক', 'বলিভুক'], ['কাক', 'কাগ'], ['কাক', 'খঞ্জ'], ['কাক', 'কাগ'], ['কৃষ্ণ', 'কানাই'], ['কৃষ্ণ', 'কানু'], ['গুহা', 'গুফা'], ['গুহা', 'গুফা'], ['গেরাম', 'গ্রাম'], ['গোমূত্র', 'চোনা'], ['গোষ্ঠী', 'খানদান'], ['গ্রাম', 'গ্রাম'], ['গ্রীষ্ম', 'গরমকাল'], ['চান', 'গোসল'], ['চান', 'বুড়'], ['চান', 'স্নান'], ['চান', 'চন্দ্র'], ['চান', 'মাহতাব'], ['জন্য', 'দরুন'], ['জন্য', 'লাগি'], ['জীবিত', 'জীবন্ত'], ['জীবিত', 'জিন্দা'], ['জুম্মাবার', 'শুক্রবার'], ['দীপাবলি', 'দেওয়ালি'], ['দীপাবলি', 'দীপালি'], ['দীপাবলি', 'দীপোৎসব'], ['দুর্গজয়', 'কেল্লাফতে'], ['ধর্ষণ', 'বলাৎকার'], ['ধর্ষণ', 'রেপ'], ['নতুন', 'নয়া'], ['নষ্ট', 'বরবাদ'], ['নষ্ট', 'খারাপ'], ['নষ্ট', 'ধস'], ['নষ্ট', 'ধ্বংস'], ['নাগেশ্বর', 'নাগকেশর'], ['নাগেশ্বর', 'কনক'], ['নাগেশ্বর', 'কাঞ্চন'], ['নিবেদন', 'আর্জী'], ['নিবেদন', 'দরখাস্ত'], ['নিমন্ত্রণ', 'দাওয়াত'], ['নির্বাচন', 'ইন্তেখাব'], ['পটোল', 'পটল'], ['পটোল', 'নাগফল'], ['পরিবার', 'খানদান'], ['পরিবার', 'গোষ্ঠী'], ['পরিস্থিতি', 'অবস্থা'], ['পায়ু', 'মলদ্বার'], ['পারদ', 'পারা'], ['পিতা', 'ওয়ালেদ'], ['পিতা', 'বাপ'], ['পিতা', 'আবু'], ['পিতা', 'বাবা'], ['পিতা', 'আব্বা'], ['পিতা', 'আব্বু'], ['পুরস্কার', 'ইনাম'], ['পুরুষত্ব', 'মরদামি'], ['পূর্ব', 'প্রাচী'], ['পূর্ব', 'পুব'], ['পূর্ব', 'প্রাচ্য'], ['পূর্ব', 'পৌর্ব'], ['পূর্ব', 'পুবে'], ['প্রতি', 'হর'], ['প্রতি', 'কুল'], ['প্রতি', 'তামাম'], ['প্রসব', 'জনন'], ['প্রসব', 'গর্ভমোচন'], ['প্রসব', 'জন্ম'], ['প্রসব', 'উৎপত্তি'], ['প্রসব', 'জাতি'], ['প্রসব', 'ভূতি'], ['প্রসব', 'আওলাদ'], ['প্রসব', 'ফরজন্দ'], ['প্রসব', 'সন্তান'], ['প্রসব', 'প্রজা'], ['প্রসব', 'সন্ততি'], ['প্রসব', 'বংশ'], ['প্রসব', 'ফল'], ['প্রসব', 'ফল'], ['প্রসব', 'পুষ্প'], ['প্রসব', 'ফুল'], ['প্রসব', 'কুসুম'], ['প্রসব', 'নিমিত্ত'], ['প্রসব', 'হেতু'], ['প্রস্রাব', 'মূত্র'], ['প্রাক্তন', 'সাবেক'], ['প্রাক্তন', 'ভূতপূর্ব'], ['প্রাক্তন', 'পূর্বতন'], ['প্রাচীন', 'পুরোনো'], ['প্রাচীন', 'কদীম'], ['প্রাতরাশ', 'ছোট হাজরি'], ['প্রাতরাশ', 'নাশ্তা'], ['প্রাতরাশ', 'নাস্তা'], ['প্রাতরাশ', 'নাশতা'], ['প্রার্থনা', 'ইবাদত'], ['প্রার্থনা', 'উপাসনা'], ['প্রার্থনা', 'নামাজ'], ['প্রার্থনা', 'দোয়া'], ['বজ্র', 'বাজ'], ['বজ্র', 'অশনি'], ['বজ্র', 'কুলিশ'], ['বজ্র', 'বিদ্যুৎ'], ['বজ্র', 'তড়িৎ'], ['বজ্র', 'সৌদামিনী'], ['বয়ঃসন্ধি', 'বয়ঃসন্ধিকাল'], ['বানর', 'বাঁদর'], ['বিশেষজ্ঞ', 'দক্ষ'], ['বিশেষজ্ঞ', 'বিজ্ঞ'], ['বিশেষজ্ঞ', 'ওস্তাদ'], ['বিষ্যুদবার', 'বৃহস্পতিবার'], ['বুভুক্ষা', 'ক্ষুধা'], ['বৃহস্পতিবার', 'গুরুবার'], ['বৃহস্পতিবার', 'বিষ্যুদবার'], ['ভাষা', 'জবান'], ['মঙ্গলবার', 'কুজবার'], ['মঙ্গলবার', 'ভৌমবার'], ['মতি', 'বুদ্ধি'], ['মতি', 'মেধা'], ['মতি', 'জ্ঞান'], ['মতি', 'মগজ'], ['মহিষ', 'ভইষ'], ['মাংস', 'গোশত'], ['মাতা', 'ওয়ালেদা'], ['মাতা', 'মা'], ['মাতা', 'আম্মা'], ['মাতা', 'আম্মু'], ['মাতা', 'মাত করা'], ['মাতা', 'কথা কওয়া'], ['মাতা', 'কথা বলা'], ['মিত্র', 'বন্ধু'], ['মিত্র', 'দোস্ত'], ['মিত্র', 'মিতা'], ['মূত্র', 'প্রস্রাব'], ['মূল্য', 'দাম'], ['মৃত', 'মরা'], ['মৃত', 'মুর্দা'], ['মৃত্যু', 'ওফাত'], ['মৃত্যু', 'ইন্তেকাল'], ['মৃত্যু', 'মরা'], ['রচনা', 'সৃজন'], ['রচনা', 'সৃষ্টি'], ['রচনা', 'নির্মাণ'], ['রচনা', 'গঠন'], ['রিষ্ট', 'অকল্যাণকর'], ['রিষ্ট', 'পাপজনক'], ['রিষ্ট', 'মঙ্গল'], ['রিষ্ট', 'শুভ'], ['রিষ্ট', 'কল্যাণ'], ['রিষ্ট', 'রিষ্টি'], ['রিষ্ট', 'পাপ'], ['রিষ্ট', 'রিষ্টি'], ['রিষ্ট', 'কলুষ'], ['রিষ্ট', 'খড়গ'], ['রিষ্ট', 'রিষ্টি'], ['লোহিত', 'রক্তবর্ণ'], ['লোহিত', 'লাল'], ['লোহিত', 'রক্তবর্ণ'], ['লোহিত', 'লাল'], ['শত', 'শ'], ['শিক্ষক', 'অধ্যাপক'], ['শিক্ষক', 'মুয়াল্লিম'], ['শিক্ষক', 'ওস্তাদ'], ['শিক্ষক', 'মাস্টার'], ['শ্লেষ্মা', 'কফ'], ['শ্লেষ্মা', 'কফ'], ['সংশয়', 'সন্দেহ'], ['সংস্কৃতি', 'তমদ্দুন'], ['সংস্কৃতি', 'রসম'], ['সংস্কৃতি', 'রেওয়াজ'], ['সন্ধ্যা', 'সাঁঝ'], ['সপ্তাহ', 'হপ্তা'], ['সমস্ত', 'সব'], ['সমস্ত', 'সকল'], ['সমস্ত', 'গোটা'], ['সমস্ত', 'সম্পূর্ণ'], ['সমস্ত', 'সমগ্র'], ['সমস্ত', 'তামাম'], ['সমৃদ্ধ', 'সমৃদ্ধিশালী'], ['সম্পদ', 'দৌলত'], ['সম্পদ', 'ধন'], ['সম্মতি', 'ইজাব'], ['সাংস্কৃতিক', 'তামাদ্দুনিক'], ['সাংস্কৃতিক', 'রসমী'], ['সাংস্কৃতিক', 'রেওয়াজী'], ['সিংহ', 'শের'], ['সিংহ', 'হায়দর'], ['সুন্দর', 'খুবসুরত'], ['সুন্দর', 'হাসিন'], ['সূর্য', 'তপন'], ['সূর্য', 'রবি'], ['সোয়াদ', 'স্বাদ'], ['স্ত্রী', 'নারী'], ['স্ত্রী', 'মহিলা'], ['স্ত্রী', 'বউ'], ['স্ত্রী', 'বধূ'], ['স্নান', 'গোসল'], ['স্নান', 'বুড়'], ['স্বপন', 'খোয়াব'], ['স্বপ্ন', 'খোয়াব'], ['স্বাদ', 'সোয়াদ'], ['স্বাধীনতা', 'আজাদি'], ['স্বাধীনতা', 'স্বাতন্ত্র্য'], ['স্বাধীনতা', 'মুক্তি'], ['স্বাধীনতা', 'নাজাত'], ['হপন', 'খোয়াব'], ['হাল', 'অবস্থা'], ['হিনান', 'গোসল'], ['হিনান', 'বুড়'], ['হিমাচল', 'হিমালয়'], ['হৃদয়', 'কলব'], ['হৃদয়', 'হৃৎপিন্ড'], ['হৃদয়', 'হিয়া'], ['হৃদয়', 'হার্ট'], ['হোয়াদ', 'স্বাদ']]\n",
      "Bengali-Sanskrit done\n",
      "\n",
      "\n"
     ]
    },
    {
     "name": "stderr",
     "output_type": "stream",
     "text": [
      "\n"
     ]
    }
   ],
   "source": [
    "for pair in links:\n",
    "    [dest, src] = pair.split('-')\n",
    "    print(pair)\n",
    "    words = get_all_borrowed_words(dest, src, expected_unicodes[pair])\n",
    "    \n",
    "    overwrite_loans = None\n",
    "    overwrite_ff = None\n",
    "    overwrite_synonym = None\n",
    "    \n",
    "    if os.path.exists(\"results/{}_tatsamas.csv\".format(pair)):\n",
    "        overwrite_loans = input(\"{}_tatsamas.csv exists. Overwrite existing file? (y/n) \".format(pair))\n",
    "    else:\n",
    "        overwrite_loans = \"y\"\n",
    "        \n",
    "#     if os.path.exists(\"results/{}_homonyms.csv\".format(pair)):\n",
    "#         overwrite_ff = input(\"{}_homonyms.csv exists. Overwrite existing file? (y/n) \".format(pair))\n",
    "#     else:\n",
    "#         overwrite_ff = \"y\"\n",
    "    \n",
    "#     if os.path.exists(\"results/{}_synonyms.csv\".format(pair)):\n",
    "#         overwrite_synonyms = input(\"{}_synonyms.csv exists. Overwrite existing file? (y/n) \".format(pair))\n",
    "#     else:\n",
    "#         overwrite_synonyms = \"y\"\n",
    "    \n",
    "    if overwrite_loans == \"y\" or overwrite_ff == \"y\" or overwrite_synonyms == \"y\":\n",
    "        print(\"Getting loan pairs and homonym: {} candidates\".format(len(words)))\n",
    "        loan_words, homonyms, synonyms = get_all_loans_and_homonyms(words, dest, src, expected_unicodes[pair])\n",
    "        print(synonyms)\n",
    "        df_loans = pd.DataFrame(loan_words, columns=['loan_word', 'original_word'])\n",
    "        #df_homonyms = pd.DataFrame(homonyms, columns=['loan_word', 'original_word', 'other_etymology', 'other_meaning'])\n",
    "        #df_synonyms = pd.DataFrame(synonyms, columns = ['word', 'synonym'])\n",
    "        if overwrite_loans == \"y\":\n",
    "            df_loans.to_csv(\"results/{}_tatsamas.csv\".format(pair), index=False)\n",
    "            \n",
    "        #if overwrite_ff == \"y\":\n",
    "            #df_homonyms.to_csv(\"results/{}_homonyms.csv\".format(pair), index=False)\n",
    "        #if overwrite_synonyms == \"y\":\n",
    "            #df_synonyms.to_csv(\"results/{}_synonyms.csv\".format(pair), index=False)\n",
    "    print(pair, \"done\\n\")\n",
    "    print()\n",
    "        "
   ]
  },
  {
   "cell_type": "code",
   "execution_count": 128,
   "metadata": {},
   "outputs": [],
   "source": [
    "import numpy as np\n",
    "asm_skt_syn = pd.read_csv('results/Assamese-Sanskrit_synonyms.csv')\n",
    "ben_skt_syn = pd.read_csv('results/Bengali-Sanskrit_synonyms.csv')\n",
    "asm_ben_int = pd.read_csv('../Assamese-Bengali-intersection.csv')"
   ]
  },
  {
   "cell_type": "code",
   "execution_count": 129,
   "metadata": {},
   "outputs": [],
   "source": [
    "asm_list = [w for w in list(asm_skt_syn['word']) if w in list(asm_ben_int['Assamese'])]"
   ]
  },
  {
   "cell_type": "code",
   "execution_count": 130,
   "metadata": {},
   "outputs": [],
   "source": [
    "ben_list = [w for w in list(ben_skt_syn['word']) if w in list(asm_ben_int['Bengali'])]"
   ]
  },
  {
   "cell_type": "code",
   "execution_count": 131,
   "metadata": {},
   "outputs": [
    {
     "data": {
      "text/html": [
       "<div>\n",
       "<style scoped>\n",
       "    .dataframe tbody tr th:only-of-type {\n",
       "        vertical-align: middle;\n",
       "    }\n",
       "\n",
       "    .dataframe tbody tr th {\n",
       "        vertical-align: top;\n",
       "    }\n",
       "\n",
       "    .dataframe thead th {\n",
       "        text-align: right;\n",
       "    }\n",
       "</style>\n",
       "<table border=\"1\" class=\"dataframe\">\n",
       "  <thead>\n",
       "    <tr style=\"text-align: right;\">\n",
       "      <th></th>\n",
       "      <th>word</th>\n",
       "      <th>synonym</th>\n",
       "    </tr>\n",
       "  </thead>\n",
       "  <tbody>\n",
       "    <tr>\n",
       "      <th>0</th>\n",
       "      <td>অংক</td>\n",
       "      <td>গণিত</td>\n",
       "    </tr>\n",
       "    <tr>\n",
       "      <th>8</th>\n",
       "      <td>অনুবাদ</td>\n",
       "      <td>ভাঙনি</td>\n",
       "    </tr>\n",
       "    <tr>\n",
       "      <th>9</th>\n",
       "      <td>অনুবাদ</td>\n",
       "      <td>তৰ্জমা</td>\n",
       "    </tr>\n",
       "    <tr>\n",
       "      <th>10</th>\n",
       "      <td>অনুবাদ</td>\n",
       "      <td>পৰিভাষা</td>\n",
       "    </tr>\n",
       "    <tr>\n",
       "      <th>11</th>\n",
       "      <td>অনুবাদ</td>\n",
       "      <td>ভাষান্তৰণ</td>\n",
       "    </tr>\n",
       "    <tr>\n",
       "      <th>...</th>\n",
       "      <td>...</td>\n",
       "      <td>...</td>\n",
       "    </tr>\n",
       "    <tr>\n",
       "      <th>1444</th>\n",
       "      <td>ৰঙা</td>\n",
       "      <td>ৰাতা</td>\n",
       "    </tr>\n",
       "    <tr>\n",
       "      <th>1445</th>\n",
       "      <td>ৰঙা</td>\n",
       "      <td>ৰাতুল</td>\n",
       "    </tr>\n",
       "    <tr>\n",
       "      <th>1446</th>\n",
       "      <td>ৰঙা</td>\n",
       "      <td>লাল</td>\n",
       "    </tr>\n",
       "    <tr>\n",
       "      <th>1450</th>\n",
       "      <td>ৰাং</td>\n",
       "      <td>টিং</td>\n",
       "    </tr>\n",
       "    <tr>\n",
       "      <th>1451</th>\n",
       "      <td>ৰাং</td>\n",
       "      <td>টিন</td>\n",
       "    </tr>\n",
       "  </tbody>\n",
       "</table>\n",
       "<p>242 rows × 2 columns</p>\n",
       "</div>"
      ],
      "text/plain": [
       "        word    synonym\n",
       "0        অংক       গণিত\n",
       "8     অনুবাদ      ভাঙনি\n",
       "9     অনুবাদ     তৰ্জমা\n",
       "10    অনুবাদ    পৰিভাষা\n",
       "11    অনুবাদ  ভাষান্তৰণ\n",
       "...      ...        ...\n",
       "1444     ৰঙা       ৰাতা\n",
       "1445     ৰঙা      ৰাতুল\n",
       "1446     ৰঙা        লাল\n",
       "1450     ৰাং        টিং\n",
       "1451     ৰাং        টিন\n",
       "\n",
       "[242 rows x 2 columns]"
      ]
     },
     "execution_count": 131,
     "metadata": {},
     "output_type": "execute_result"
    }
   ],
   "source": [
    "asm_skt_syn.loc[asm_skt_syn['word'].isin(asm_list)]"
   ]
  },
  {
   "cell_type": "code",
   "execution_count": 132,
   "metadata": {},
   "outputs": [
    {
     "data": {
      "text/html": [
       "<div>\n",
       "<style scoped>\n",
       "    .dataframe tbody tr th:only-of-type {\n",
       "        vertical-align: middle;\n",
       "    }\n",
       "\n",
       "    .dataframe tbody tr th {\n",
       "        vertical-align: top;\n",
       "    }\n",
       "\n",
       "    .dataframe thead th {\n",
       "        text-align: right;\n",
       "    }\n",
       "</style>\n",
       "<table border=\"1\" class=\"dataframe\">\n",
       "  <thead>\n",
       "    <tr style=\"text-align: right;\">\n",
       "      <th></th>\n",
       "      <th>word</th>\n",
       "      <th>synonym</th>\n",
       "    </tr>\n",
       "  </thead>\n",
       "  <tbody>\n",
       "    <tr>\n",
       "      <th>5</th>\n",
       "      <td>অংশু</td>\n",
       "      <td>অংশুক</td>\n",
       "    </tr>\n",
       "    <tr>\n",
       "      <th>6</th>\n",
       "      <td>অংশু</td>\n",
       "      <td>অংশুপট্ট</td>\n",
       "    </tr>\n",
       "    <tr>\n",
       "      <th>43</th>\n",
       "      <td>অক্ষ</td>\n",
       "      <td>পাশা</td>\n",
       "    </tr>\n",
       "    <tr>\n",
       "      <th>44</th>\n",
       "      <td>অক্ষ</td>\n",
       "      <td>অক্ষক্রীড়া</td>\n",
       "    </tr>\n",
       "    <tr>\n",
       "      <th>45</th>\n",
       "      <td>অক্ষ</td>\n",
       "      <td>অক্ষরেখা</td>\n",
       "    </tr>\n",
       "    <tr>\n",
       "      <th>...</th>\n",
       "      <td>...</td>\n",
       "      <td>...</td>\n",
       "    </tr>\n",
       "    <tr>\n",
       "      <th>1344</th>\n",
       "      <td>হিয়া</td>\n",
       "      <td>হার্ট</td>\n",
       "    </tr>\n",
       "    <tr>\n",
       "      <th>1349</th>\n",
       "      <td>হৃদয়</td>\n",
       "      <td>কলব</td>\n",
       "    </tr>\n",
       "    <tr>\n",
       "      <th>1350</th>\n",
       "      <td>হৃদয়</td>\n",
       "      <td>হৃৎপিন্ড</td>\n",
       "    </tr>\n",
       "    <tr>\n",
       "      <th>1351</th>\n",
       "      <td>হৃদয়</td>\n",
       "      <td>হিয়া</td>\n",
       "    </tr>\n",
       "    <tr>\n",
       "      <th>1352</th>\n",
       "      <td>হৃদয়</td>\n",
       "      <td>হার্ট</td>\n",
       "    </tr>\n",
       "  </tbody>\n",
       "</table>\n",
       "<p>290 rows × 2 columns</p>\n",
       "</div>"
      ],
      "text/plain": [
       "       word      synonym\n",
       "5      অংশু        অংশুক\n",
       "6      অংশু     অংশুপট্ট\n",
       "43     অক্ষ         পাশা\n",
       "44     অক্ষ  অক্ষক্রীড়া\n",
       "45     অক্ষ     অক্ষরেখা\n",
       "...     ...          ...\n",
       "1344  হিয়া        হার্ট\n",
       "1349  হৃদয়          কলব\n",
       "1350  হৃদয়     হৃৎপিন্ড\n",
       "1351  হৃদয়        হিয়া\n",
       "1352  হৃদয়        হার্ট\n",
       "\n",
       "[290 rows x 2 columns]"
      ]
     },
     "execution_count": 132,
     "metadata": {},
     "output_type": "execute_result"
    }
   ],
   "source": [
    "ben_skt_syn.loc[ben_skt_syn['word'].isin(ben_list)]"
   ]
  },
  {
   "cell_type": "code",
   "execution_count": 137,
   "metadata": {},
   "outputs": [
    {
     "data": {
      "text/html": [
       "<div>\n",
       "<style scoped>\n",
       "    .dataframe tbody tr th:only-of-type {\n",
       "        vertical-align: middle;\n",
       "    }\n",
       "\n",
       "    .dataframe tbody tr th {\n",
       "        vertical-align: top;\n",
       "    }\n",
       "\n",
       "    .dataframe thead th {\n",
       "        text-align: right;\n",
       "    }\n",
       "</style>\n",
       "<table border=\"1\" class=\"dataframe\">\n",
       "  <thead>\n",
       "    <tr style=\"text-align: right;\">\n",
       "      <th></th>\n",
       "      <th>loan_word</th>\n",
       "      <th>original_word</th>\n",
       "    </tr>\n",
       "  </thead>\n",
       "  <tbody>\n",
       "    <tr>\n",
       "      <th>0</th>\n",
       "      <td>আঁহ</td>\n",
       "      <td>অংশুক</td>\n",
       "    </tr>\n",
       "    <tr>\n",
       "      <th>1</th>\n",
       "      <td>আঁহ</td>\n",
       "      <td>অংশুপট্ট</td>\n",
       "    </tr>\n",
       "    <tr>\n",
       "      <th>2</th>\n",
       "      <td>অক্ষ</td>\n",
       "      <td>পাশা</td>\n",
       "    </tr>\n",
       "    <tr>\n",
       "      <th>3</th>\n",
       "      <td>অক্ষ</td>\n",
       "      <td>অক্ষক্রীড়া</td>\n",
       "    </tr>\n",
       "    <tr>\n",
       "      <th>4</th>\n",
       "      <td>অক্ষ</td>\n",
       "      <td>অক্ষরেখা</td>\n",
       "    </tr>\n",
       "    <tr>\n",
       "      <th>...</th>\n",
       "      <td>...</td>\n",
       "      <td>...</td>\n",
       "    </tr>\n",
       "    <tr>\n",
       "      <th>367</th>\n",
       "      <td>হিয়া</td>\n",
       "      <td>হার্ট</td>\n",
       "    </tr>\n",
       "    <tr>\n",
       "      <th>368</th>\n",
       "      <td>হিয়া</td>\n",
       "      <td>কলব</td>\n",
       "    </tr>\n",
       "    <tr>\n",
       "      <th>369</th>\n",
       "      <td>হিয়া</td>\n",
       "      <td>হৃৎপিন্ড</td>\n",
       "    </tr>\n",
       "    <tr>\n",
       "      <th>370</th>\n",
       "      <td>হিয়া</td>\n",
       "      <td>হিয়া</td>\n",
       "    </tr>\n",
       "    <tr>\n",
       "      <th>371</th>\n",
       "      <td>হিয়া</td>\n",
       "      <td>হার্ট</td>\n",
       "    </tr>\n",
       "  </tbody>\n",
       "</table>\n",
       "<p>372 rows × 2 columns</p>\n",
       "</div>"
      ],
      "text/plain": [
       "    loan_word original_word\n",
       "0         আঁহ         অংশুক\n",
       "1         আঁহ      অংশুপট্ট\n",
       "2        অক্ষ          পাশা\n",
       "3        অক্ষ   অক্ষক্রীড়া\n",
       "4        অক্ষ      অক্ষরেখা\n",
       "..        ...           ...\n",
       "367     হিয়া         হার্ট\n",
       "368     হিয়া           কলব\n",
       "369     হিয়া      হৃৎপিন্ড\n",
       "370     হিয়া         হিয়া\n",
       "371     হিয়া         হার্ট\n",
       "\n",
       "[372 rows x 2 columns]"
      ]
     },
     "execution_count": 137,
     "metadata": {},
     "output_type": "execute_result"
    }
   ],
   "source": [
    "ben_words = ben_skt_syn.loc[ben_skt_syn['word'].isin(ben_list)]\n",
    "concat_syns = []\n",
    "for w in ben_words.iterrows():\n",
    "    word = w[1]['word']\n",
    "    syn = w[1]['synonym']\n",
    "    asm_words = [i[1] for i in list(asm_ben_int.loc[asm_ben_int['Bengali'] == word]['Assamese'].items())]\n",
    "    for aw in asm_words:\n",
    "        concat_syns.extend([[aw,syn]])\n",
    "#print(np.array(concat_syns))\n",
    "df = pd.DataFrame(np.array(concat_syns), columns = ['loan_word','original_word'])\n",
    "df"
   ]
  },
  {
   "cell_type": "code",
   "execution_count": 139,
   "metadata": {},
   "outputs": [],
   "source": [
    "df.to_csv('Assamese-Bengali-Synonyms.csv')"
   ]
  },
  {
   "cell_type": "code",
   "execution_count": null,
   "metadata": {},
   "outputs": [],
   "source": []
  },
  {
   "cell_type": "code",
   "execution_count": 208,
   "metadata": {},
   "outputs": [
    {
     "name": "stdout",
     "output_type": "stream",
     "text": [
      "(366, 16)\n",
      "    loan_word original_word loan_word_epitran original_word_epitran  \\\n",
      "217   বৃশ্চিক       বৃশ্চিক           bɽixsik             bɽiʃt͡ɕik   \n",
      "\n",
      "    loan_english original_english  Fast Levenshtein Distance Div Maxlen  \\\n",
      "217      Scorpio          Scorpio                              0.444444   \n",
      "\n",
      "     Dolgo Prime Distance Div Maxlen  Feature Edit Distance Div Maxlen  \\\n",
      "217                         0.285714                          0.050595   \n",
      "\n",
      "     Hamming Feature Distance Div Maxlen  \\\n",
      "217                             0.053571   \n",
      "\n",
      "     Weighted Feature Distance Div Maxlen  \\\n",
      "217                                 0.625   \n",
      "\n",
      "     Partial Hamming Feature Distance Div Maxlen  plain Levenshtein  \\\n",
      "217                                     0.050595                  0   \n",
      "\n",
      "    loan_unicode original_unicode    label  \n",
      "217      Bengali          Bengali  synonym  \n",
      "(365, 16)\n",
      "(878, 16)\n",
      "    loan_word original_word loan_word_epitran original_word_epitran  \\\n",
      "0         আঁহ           আঁশ               ãɦɔ                   ãʃɔ   \n",
      "40        কটা           কটা              kɔta                  kɔʈa   \n",
      "53      কোদাল        কোদালি             kʊdal               kod̪ali   \n",
      "72       ঘড়ী          ঘড়ী             gʱɔɹi                 gʱɔɽi   \n",
      "73        ঘাম          ঘামা              gʱam                 gʱama   \n",
      "75       ঘামা           ঘাম             gʱama                  gʱam   \n",
      "106       ডিম           ডীম               dim                   ɖim   \n",
      "128   ধন্যবাদ         ধনবাদ         dʰɔnzɔbad           d̪ʱɔn̪ɔbad̪   \n",
      "144      পাখি          পাখী             pakʰi                 pakʰi   \n",
      "203     ভালুক       ভাল্লুক            bʰaluk               bʱalluk   \n",
      "205        মই           আমি                mi                   ami   \n",
      "234      লহুন           লহু             lɔɦun                  lɔɦu   \n",
      "632     দুগ্ধ           দুধ            dugdʰɔ               d̪ud̪ʱɔ   \n",
      "677   বৃশ্চিক       বৃশ্চিক           bɽixsik             bɽiʃt͡ɕik   \n",
      "725       লাও           লাও               laʊ                   lao   \n",
      "786       লোণ           নুন               lʊn                 n̪un̪   \n",
      "\n",
      "    loan_english original_english  Fast Levenshtein Distance Div Maxlen  \\\n",
      "0          Fiber            Fiber                              0.333333   \n",
      "40         Brown            Brown                              0.250000   \n",
      "53         Spade            Spade                              0.428571   \n",
      "72         clock            clock                              0.200000   \n",
      "73         Sweat            Sweat                              0.200000   \n",
      "75         Sweat            Sweat                              0.200000   \n",
      "106         Eggs             Eggs                              0.333333   \n",
      "128       Thanks           Thanks                              0.363636   \n",
      "144        Birds            Birds                              0.000000   \n",
      "203         Bear             Bear                              0.285714   \n",
      "205            I                I                              0.333333   \n",
      "234        Blood            Blood                              0.200000   \n",
      "632         Milk             Milk                              0.571429   \n",
      "677      Scorpio          Scorpio                              0.444444   \n",
      "725          Lao              Lao                              0.333333   \n",
      "786         Salt             Salt                              0.800000   \n",
      "\n",
      "     Dolgo Prime Distance Div Maxlen  Feature Edit Distance Div Maxlen  \\\n",
      "0                           0.500000                          0.048611   \n",
      "40                          0.000000                          0.010417   \n",
      "53                          0.166667                          0.170139   \n",
      "72                          0.000000                          0.069444   \n",
      "73                          0.333333                          0.298611   \n",
      "75                          0.333333                          0.298611   \n",
      "106                         0.000000                          0.013889   \n",
      "128                         0.125000                          0.135417   \n",
      "144                         0.000000                          0.000000   \n",
      "203                         0.166667                          0.159722   \n",
      "205                         0.333333                          0.298611   \n",
      "234                         0.200000                          0.183333   \n",
      "632                         0.000000                          0.031250   \n",
      "677                         0.285714                          0.050595   \n",
      "725                         0.000000                          0.027778   \n",
      "786                         0.333333                          0.097222   \n",
      "\n",
      "     Hamming Feature Distance Div Maxlen  \\\n",
      "0                               0.055556   \n",
      "40                              0.010417   \n",
      "53                              0.187500   \n",
      "72                              0.097222   \n",
      "73                              0.333333   \n",
      "75                              0.333333   \n",
      "106                             0.013889   \n",
      "128                             0.145833   \n",
      "144                             0.000000   \n",
      "203                             0.173611   \n",
      "205                             0.333333   \n",
      "234                             0.200000   \n",
      "632                             0.031250   \n",
      "677                             0.053571   \n",
      "725                             0.027778   \n",
      "786                             0.097222   \n",
      "\n",
      "     Weighted Feature Distance Div Maxlen  \\\n",
      "0                                0.958333   \n",
      "40                               0.125000   \n",
      "53                               1.375000   \n",
      "72                               1.333333   \n",
      "73                               2.416667   \n",
      "75                               2.416667   \n",
      "106                              0.166667   \n",
      "128                              1.031250   \n",
      "144                              0.000000   \n",
      "203                              1.250000   \n",
      "205                              2.416667   \n",
      "234                              1.450000   \n",
      "632                              0.187500   \n",
      "677                              0.625000   \n",
      "725                              0.250000   \n",
      "786                              1.083333   \n",
      "\n",
      "     Partial Hamming Feature Distance Div Maxlen  plain Levenshtein  \\\n",
      "0                                       0.048611                  1   \n",
      "40                                      0.010417                  0   \n",
      "53                                      0.187500                  1   \n",
      "72                                      0.069444                  0   \n",
      "73                                      0.333333                  1   \n",
      "75                                      0.333333                  1   \n",
      "106                                     0.013889                  1   \n",
      "128                                     0.145833                  2   \n",
      "144                                     0.000000                  1   \n",
      "203                                     0.173611                  2   \n",
      "205                                     0.333333                  2   \n",
      "234                                     0.200000                  1   \n",
      "632                                     0.031250                  2   \n",
      "677                                     0.050595                  0   \n",
      "725                                     0.027778                  0   \n",
      "786                                     0.097222                  3   \n",
      "\n",
      "    loan_unicode original_unicode          label  \n",
      "0        Bengali          Bengali  hard_negative  \n",
      "40       Bengali          Bengali  hard_negative  \n",
      "53       Bengali          Bengali  hard_negative  \n",
      "72       Bengali          Bengali  hard_negative  \n",
      "73       Bengali          Bengali  hard_negative  \n",
      "75       Bengali          Bengali  hard_negative  \n",
      "106      Bengali          Bengali  hard_negative  \n",
      "128      Bengali          Bengali  hard_negative  \n",
      "144      Bengali          Bengali  hard_negative  \n",
      "203      Bengali          Bengali  hard_negative  \n",
      "205      Bengali          Bengali  hard_negative  \n",
      "234      Bengali          Bengali  hard_negative  \n",
      "632      Bengali          Bengali  hard_negative  \n",
      "677      Bengali          Bengali  hard_negative  \n",
      "725      Bengali          Bengali  hard_negative  \n",
      "786      Bengali          Bengali  hard_negative  \n",
      "(862, 16)\n",
      "(337, 16)\n",
      "Empty DataFrame\n",
      "Columns: [loan_word, original_word, loan_word_epitran, original_word_epitran, loan_english, original_english, Fast Levenshtein Distance Div Maxlen, Dolgo Prime Distance Div Maxlen, Feature Edit Distance Div Maxlen, Hamming Feature Distance Div Maxlen, Weighted Feature Distance Div Maxlen, Partial Hamming Feature Distance Div Maxlen, plain Levenshtein, loan_unicode, original_unicode, label]\n",
      "Index: []\n",
      "(337, 16)\n"
     ]
    }
   ],
   "source": [
    "L1 = 'Assamese'\n",
    "L2 = 'Bengali'\n",
    "filename = f'../{L1}-{L2}-Cognates.csv'\n",
    "df = pd.read_csv(filename)\n",
    "df.reset_index(drop=True).to_csv(filename)\n",
    "\n",
    "filename = f'../{L1}-{L2}-Synonyms.csv'\n",
    "df = pd.read_csv(filename)\n",
    "print(df.shape)\n",
    "print(df[df[\"plain Levenshtein\"] == 0])\n",
    "df = df[df[\"plain Levenshtein\"] != 0]\n",
    "print(df.shape)\n",
    "df = df.loc[:, ~df.columns.str.contains('^Unnamed')]\n",
    "df = df.loc[:, ~df.columns.str.contains('^index')]\n",
    "df.reset_index(drop=True).to_csv(filename)\n",
    "\n",
    "filename = f'../{L1}-{L2}-Hard-Negatives.csv'\n",
    "df = pd.read_csv(filename)\n",
    "print(df.shape)\n",
    "print(df[df[\"loan_english\"] == df[\"original_english\"]])\n",
    "df = df[df[\"loan_english\"] != df[\"original_english\"]]\n",
    "print(df.shape)\n",
    "df = df.loc[:, ~df.columns.str.contains('^Unnamed')]\n",
    "df = df.loc[:, ~df.columns.str.contains('^index')]\n",
    "df.reset_index(drop=True).to_csv(filename)\n",
    "\n",
    "filename = f'../{L1}-{L2}-Randoms.csv'\n",
    "df = pd.read_csv(filename)\n",
    "print(df.shape)\n",
    "print(df[df[\"loan_english\"] == df[\"original_english\"]])\n",
    "df = df[df[\"loan_english\"] != df[\"original_english\"]]\n",
    "print(df.shape)\n",
    "df = df.loc[:, ~df.columns.str.contains('^Unnamed')]\n",
    "df = df.loc[:, ~df.columns.str.contains('^index')]\n",
    "df.reset_index(drop=True).to_csv(filename)"
   ]
  },
  {
   "cell_type": "code",
   "execution_count": 209,
   "metadata": {},
   "outputs": [
    {
     "name": "stdout",
     "output_type": "stream",
     "text": [
      "(353, 16)\n",
      "    loan_word original_word loan_word_epitran original_word_epitran  \\\n",
      "211   বৃশ্চিক       বৃশ্চিক         bɽiʃt͡ɕik               bɽixsik   \n",
      "\n",
      "    loan_english original_english  Fast Levenshtein Distance Div Maxlen  \\\n",
      "211      Scorpio          Scorpio                              0.444444   \n",
      "\n",
      "     Dolgo Prime Distance Div Maxlen  Feature Edit Distance Div Maxlen  \\\n",
      "211                         0.285714                          0.050595   \n",
      "\n",
      "     Hamming Feature Distance Div Maxlen  \\\n",
      "211                             0.053571   \n",
      "\n",
      "     Weighted Feature Distance Div Maxlen  \\\n",
      "211                                 0.625   \n",
      "\n",
      "     Partial Hamming Feature Distance Div Maxlen  plain Levenshtein  \\\n",
      "211                                     0.050595                  0   \n",
      "\n",
      "    loan_unicode original_unicode    label  \n",
      "211      Bengali          Bengali  synonym  \n",
      "(352, 16)\n",
      "(813, 16)\n",
      "    loan_word original_word loan_word_epitran original_word_epitran  \\\n",
      "13       আঁকা          আঁকা               ãka                   ãka   \n",
      "38        কান           কান              kan̪                   kan   \n",
      "55      কোদাল        কোদালি           kod̪alɔ                kʊdali   \n",
      "67        ঘাম          ঘামা              gʱam                 gʱama   \n",
      "157      বাঁশ          বাঁহ              bãʃɔ                  bãɦɔ   \n",
      "187        মই           আমি                mi                   ami   \n",
      "189      মাহই          মাহী              maɦi                  maɦi   \n",
      "190  মঙ্গলবার      মঙ্গলবাৰ        mɔŋɡɔlɔbar            mɔŋgɔlɔbaɹ   \n",
      "254      হাওর          হাওৰ              ɦaor                  ɦaʊɹ   \n",
      "545      একলা           অকল             ekɔla                 ɔkɔlɔ   \n",
      "561      কেলা          কেলা              kela                  kɛla   \n",
      "605       দুধ         দুগ্ধ           d̪ud̪ʱɔ                dugdʰɔ   \n",
      "\n",
      "    loan_english original_english  Fast Levenshtein Distance Div Maxlen  \\\n",
      "13          Draw             Draw                              0.000000   \n",
      "38          Ears             Ears                              0.250000   \n",
      "55         Spade            Spade                              0.428571   \n",
      "67         Sweat            Sweat                              0.200000   \n",
      "157       Bamboo           Bamboo                              0.250000   \n",
      "187            I                I                              0.333333   \n",
      "189         Mahi             Mahi                              0.000000   \n",
      "190      Tuesday          Tuesday                              0.200000   \n",
      "254         Haor             Haor                              0.500000   \n",
      "545        Alone            Alone                              0.400000   \n",
      "561   The banana       The banana                              0.250000   \n",
      "605         Milk             Milk                              0.571429   \n",
      "\n",
      "     Dolgo Prime Distance Div Maxlen  Feature Edit Distance Div Maxlen  \\\n",
      "13                          0.000000                          0.000000   \n",
      "38                          0.000000                          0.013889   \n",
      "55                          0.000000                          0.048611   \n",
      "67                          0.333333                          0.298611   \n",
      "157                         0.333333                          0.036458   \n",
      "187                         0.333333                          0.298611   \n",
      "189                         0.000000                          0.000000   \n",
      "190                         0.100000                          0.106250   \n",
      "254                         0.000000                          0.062500   \n",
      "545                         0.000000                          0.058333   \n",
      "561                         0.000000                          0.010417   \n",
      "605                         0.000000                          0.031250   \n",
      "\n",
      "     Hamming Feature Distance Div Maxlen  \\\n",
      "13                              0.000000   \n",
      "38                              0.013889   \n",
      "55                              0.048611   \n",
      "67                              0.333333   \n",
      "157                             0.041667   \n",
      "187                             0.333333   \n",
      "189                             0.000000   \n",
      "190                             0.125000   \n",
      "254                             0.083333   \n",
      "545                             0.058333   \n",
      "561                             0.010417   \n",
      "605                             0.031250   \n",
      "\n",
      "     Weighted Feature Distance Div Maxlen  \\\n",
      "13                               0.000000   \n",
      "38                               0.083333   \n",
      "55                               0.458333   \n",
      "67                               2.416667   \n",
      "157                              0.718750   \n",
      "187                              2.416667   \n",
      "189                              0.000000   \n",
      "190                              1.075000   \n",
      "254                              1.062500   \n",
      "545                              0.600000   \n",
      "561                              0.062500   \n",
      "605                              0.187500   \n",
      "\n",
      "     Partial Hamming Feature Distance Div Maxlen  plain Levenshtein  \\\n",
      "13                                      0.000000                  0   \n",
      "38                                      0.013889                  0   \n",
      "55                                      0.048611                  1   \n",
      "67                                      0.333333                  1   \n",
      "157                                     0.036458                  1   \n",
      "187                                     0.333333                  2   \n",
      "189                                     0.000000                  1   \n",
      "190                                     0.116667                  1   \n",
      "254                                     0.062500                  1   \n",
      "545                                     0.058333                  2   \n",
      "561                                     0.010417                  0   \n",
      "605                                     0.031250                  2   \n",
      "\n",
      "    loan_unicode original_unicode          label  \n",
      "13       Bengali          Bengali  hard_negative  \n",
      "38       Bengali          Bengali  hard_negative  \n",
      "55       Bengali          Bengali  hard_negative  \n",
      "67       Bengali          Bengali  hard_negative  \n",
      "157      Bengali          Bengali  hard_negative  \n",
      "187      Bengali          Bengali  hard_negative  \n",
      "189      Bengali          Bengali  hard_negative  \n",
      "190      Bengali          Bengali  hard_negative  \n",
      "254      Bengali          Bengali  hard_negative  \n",
      "545      Bengali          Bengali  hard_negative  \n",
      "561      Bengali          Bengali  hard_negative  \n",
      "605      Bengali          Bengali  hard_negative  \n",
      "(801, 16)\n",
      "(337, 16)\n",
      "Empty DataFrame\n",
      "Columns: [loan_word, original_word, loan_word_epitran, original_word_epitran, loan_english, original_english, Fast Levenshtein Distance Div Maxlen, Dolgo Prime Distance Div Maxlen, Feature Edit Distance Div Maxlen, Hamming Feature Distance Div Maxlen, Weighted Feature Distance Div Maxlen, Partial Hamming Feature Distance Div Maxlen, plain Levenshtein, loan_unicode, original_unicode, label]\n",
      "Index: []\n",
      "(337, 16)\n"
     ]
    }
   ],
   "source": [
    "L1 = 'Bengali'\n",
    "L2 = 'Assamese'\n",
    "filename = f'../{L1}-{L2}-Cognates.csv'\n",
    "df = pd.read_csv(filename)\n",
    "df.reset_index(drop=True).to_csv(filename)\n",
    "\n",
    "filename = f'../{L1}-{L2}-Synonyms.csv'\n",
    "df = pd.read_csv(filename)\n",
    "print(df.shape)\n",
    "print(df[df[\"plain Levenshtein\"] == 0])\n",
    "df = df[df[\"plain Levenshtein\"] != 0]\n",
    "print(df.shape)\n",
    "df = df.loc[:, ~df.columns.str.contains('^Unnamed')]\n",
    "df = df.loc[:, ~df.columns.str.contains('^index')]\n",
    "df.reset_index(drop=True).to_csv(filename)\n",
    "\n",
    "filename = f'../{L1}-{L2}-Hard-Negatives.csv'\n",
    "df = pd.read_csv(filename)\n",
    "print(df.shape)\n",
    "print(df[df[\"loan_english\"] == df[\"original_english\"]])\n",
    "df = df[df[\"loan_english\"] != df[\"original_english\"]]\n",
    "print(df.shape)\n",
    "df = df.loc[:, ~df.columns.str.contains('^Unnamed')]\n",
    "df = df.loc[:, ~df.columns.str.contains('^index')]\n",
    "df.reset_index(drop=True).to_csv(filename)\n",
    "\n",
    "filename = f'../{L1}-{L2}-Randoms.csv'\n",
    "df = pd.read_csv(filename)\n",
    "print(df.shape)\n",
    "print(df[df[\"loan_english\"] == df[\"original_english\"]])\n",
    "df = df[df[\"loan_english\"] != df[\"original_english\"]]\n",
    "print(df.shape)\n",
    "df = df.loc[:, ~df.columns.str.contains('^Unnamed')]\n",
    "df = df.loc[:, ~df.columns.str.contains('^index')]\n",
    "df.reset_index(drop=True).to_csv(filename)"
   ]
  },
  {
   "cell_type": "code",
   "execution_count": 189,
   "metadata": {},
   "outputs": [],
   "source": [
    "df = df.loc[:, ~df.columns.str.contains('^Unnamed')]\n",
    "df.to_csv(filename)"
   ]
  },
  {
   "cell_type": "code",
   "execution_count": null,
   "metadata": {},
   "outputs": [],
   "source": []
  },
  {
   "cell_type": "code",
   "execution_count": 341,
   "metadata": {},
   "outputs": [],
   "source": [
    "ben_skt = pd.read_csv(f'results/Bengali-Sanskrit_tatsamas.csv')\n",
    "asm_skt = pd.read_csv(f'results/Assamese-Sanskrit_tatsamas.csv')"
   ]
  },
  {
   "cell_type": "code",
   "execution_count": 342,
   "metadata": {},
   "outputs": [
    {
     "data": {
      "text/html": [
       "<div>\n",
       "<style scoped>\n",
       "    .dataframe tbody tr th:only-of-type {\n",
       "        vertical-align: middle;\n",
       "    }\n",
       "\n",
       "    .dataframe tbody tr th {\n",
       "        vertical-align: top;\n",
       "    }\n",
       "\n",
       "    .dataframe thead th {\n",
       "        text-align: right;\n",
       "    }\n",
       "</style>\n",
       "<table border=\"1\" class=\"dataframe\">\n",
       "  <thead>\n",
       "    <tr style=\"text-align: right;\">\n",
       "      <th></th>\n",
       "      <th>loan_word</th>\n",
       "      <th>original_word</th>\n",
       "    </tr>\n",
       "  </thead>\n",
       "  <tbody>\n",
       "    <tr>\n",
       "      <th>0</th>\n",
       "      <td>অক্ষ</td>\n",
       "      <td>अक्ष</td>\n",
       "    </tr>\n",
       "    <tr>\n",
       "      <th>1</th>\n",
       "      <td>অগ্নি</td>\n",
       "      <td>अग्नि</td>\n",
       "    </tr>\n",
       "    <tr>\n",
       "      <th>2</th>\n",
       "      <td>অনুবাদ</td>\n",
       "      <td>अनुवाद</td>\n",
       "    </tr>\n",
       "    <tr>\n",
       "      <th>3</th>\n",
       "      <td>অনুমতি</td>\n",
       "      <td>अनुमति</td>\n",
       "    </tr>\n",
       "    <tr>\n",
       "      <th>4</th>\n",
       "      <td>অশোক</td>\n",
       "      <td>अशोक</td>\n",
       "    </tr>\n",
       "    <tr>\n",
       "      <th>5</th>\n",
       "      <td>অস্থি</td>\n",
       "      <td>अस्थि</td>\n",
       "    </tr>\n",
       "    <tr>\n",
       "      <th>6</th>\n",
       "      <td>আকাশ</td>\n",
       "      <td>आकाश</td>\n",
       "    </tr>\n",
       "    <tr>\n",
       "      <th>7</th>\n",
       "      <td>ইতিহাস</td>\n",
       "      <td>इतिहास</td>\n",
       "    </tr>\n",
       "    <tr>\n",
       "      <th>8</th>\n",
       "      <td>উপত্যকা</td>\n",
       "      <td>उपत्यका</td>\n",
       "    </tr>\n",
       "    <tr>\n",
       "      <th>9</th>\n",
       "      <td>উপন্যাস</td>\n",
       "      <td>उपन्यास</td>\n",
       "    </tr>\n",
       "    <tr>\n",
       "      <th>10</th>\n",
       "      <td>ঋতু</td>\n",
       "      <td>ऋतु</td>\n",
       "    </tr>\n",
       "    <tr>\n",
       "      <th>11</th>\n",
       "      <td>একতা</td>\n",
       "      <td>एकता</td>\n",
       "    </tr>\n",
       "    <tr>\n",
       "      <th>12</th>\n",
       "      <td>ঔষধ</td>\n",
       "      <td>औषध</td>\n",
       "    </tr>\n",
       "    <tr>\n",
       "      <th>13</th>\n",
       "      <td>কথা</td>\n",
       "      <td>कथा</td>\n",
       "    </tr>\n",
       "    <tr>\n",
       "      <th>14</th>\n",
       "      <td>কবি</td>\n",
       "      <td>कवि</td>\n",
       "    </tr>\n",
       "    <tr>\n",
       "      <th>15</th>\n",
       "      <td>কৃষ্ণ</td>\n",
       "      <td>कृष्ण</td>\n",
       "    </tr>\n",
       "    <tr>\n",
       "      <th>16</th>\n",
       "      <td>কেন্দ্ৰ</td>\n",
       "      <td>केन्द्र</td>\n",
       "    </tr>\n",
       "    <tr>\n",
       "      <th>17</th>\n",
       "      <td>কোটি</td>\n",
       "      <td>कोटि</td>\n",
       "    </tr>\n",
       "    <tr>\n",
       "      <th>18</th>\n",
       "      <td>গুহা</td>\n",
       "      <td>गुहा</td>\n",
       "    </tr>\n",
       "    <tr>\n",
       "      <th>19</th>\n",
       "      <td>চিন্তা</td>\n",
       "      <td>चिन्ता</td>\n",
       "    </tr>\n",
       "    <tr>\n",
       "      <th>20</th>\n",
       "      <td>তিমি</td>\n",
       "      <td>तिमि</td>\n",
       "    </tr>\n",
       "    <tr>\n",
       "      <th>21</th>\n",
       "      <td>নখ</td>\n",
       "      <td>नख</td>\n",
       "    </tr>\n",
       "    <tr>\n",
       "      <th>22</th>\n",
       "      <td>নতুন</td>\n",
       "      <td>नूतन</td>\n",
       "    </tr>\n",
       "    <tr>\n",
       "      <th>23</th>\n",
       "      <td>নদী</td>\n",
       "      <td>नदी</td>\n",
       "    </tr>\n",
       "    <tr>\n",
       "      <th>24</th>\n",
       "      <td>পায়স</td>\n",
       "      <td>पायस</td>\n",
       "    </tr>\n",
       "    <tr>\n",
       "      <th>25</th>\n",
       "      <td>ভালুক</td>\n",
       "      <td>भल्लूक</td>\n",
       "    </tr>\n",
       "    <tr>\n",
       "      <th>26</th>\n",
       "      <td>ভাষা</td>\n",
       "      <td>भाषा</td>\n",
       "    </tr>\n",
       "    <tr>\n",
       "      <th>27</th>\n",
       "      <td>মাংস</td>\n",
       "      <td>मांस</td>\n",
       "    </tr>\n",
       "    <tr>\n",
       "      <th>28</th>\n",
       "      <td>মুখ</td>\n",
       "      <td>मुख</td>\n",
       "    </tr>\n",
       "    <tr>\n",
       "      <th>29</th>\n",
       "      <td>মৃত্যু</td>\n",
       "      <td>मृत्यु</td>\n",
       "    </tr>\n",
       "    <tr>\n",
       "      <th>30</th>\n",
       "      <td>যুদ্ধ</td>\n",
       "      <td>युद्ध</td>\n",
       "    </tr>\n",
       "    <tr>\n",
       "      <th>31</th>\n",
       "      <td>শূন্য</td>\n",
       "      <td>शून्य</td>\n",
       "    </tr>\n",
       "    <tr>\n",
       "      <th>32</th>\n",
       "      <td>শ্রী</td>\n",
       "      <td>श्री</td>\n",
       "    </tr>\n",
       "    <tr>\n",
       "      <th>33</th>\n",
       "      <td>সময়</td>\n",
       "      <td>समय</td>\n",
       "    </tr>\n",
       "    <tr>\n",
       "      <th>34</th>\n",
       "      <td>সমান</td>\n",
       "      <td>समान</td>\n",
       "    </tr>\n",
       "    <tr>\n",
       "      <th>35</th>\n",
       "      <td>সিংহ</td>\n",
       "      <td>सिंह</td>\n",
       "    </tr>\n",
       "    <tr>\n",
       "      <th>36</th>\n",
       "      <td>স্বাধীনতা</td>\n",
       "      <td>स्वाधीनता</td>\n",
       "    </tr>\n",
       "    <tr>\n",
       "      <th>37</th>\n",
       "      <td>হিম</td>\n",
       "      <td>हिम</td>\n",
       "    </tr>\n",
       "  </tbody>\n",
       "</table>\n",
       "</div>"
      ],
      "text/plain": [
       "    loan_word original_word\n",
       "0        অক্ষ          अक्ष\n",
       "1       অগ্নি         अग्नि\n",
       "2      অনুবাদ        अनुवाद\n",
       "3      অনুমতি        अनुमति\n",
       "4        অশোক          अशोक\n",
       "5       অস্থি         अस्थि\n",
       "6        আকাশ          आकाश\n",
       "7      ইতিহাস        इतिहास\n",
       "8     উপত্যকা       उपत्यका\n",
       "9     উপন্যাস       उपन्यास\n",
       "10        ঋতু           ऋतु\n",
       "11       একতা          एकता\n",
       "12        ঔষধ           औषध\n",
       "13        কথা           कथा\n",
       "14        কবি           कवि\n",
       "15      কৃষ্ণ         कृष्ण\n",
       "16    কেন্দ্ৰ       केन्द्र\n",
       "17       কোটি          कोटि\n",
       "18       গুহা          गुहा\n",
       "19     চিন্তা        चिन्ता\n",
       "20       তিমি          तिमि\n",
       "21         নখ            नख\n",
       "22       নতুন          नूतन\n",
       "23        নদী           नदी\n",
       "24      পায়স          पायस\n",
       "25      ভালুক        भल्लूक\n",
       "26       ভাষা          भाषा\n",
       "27       মাংস          मांस\n",
       "28        মুখ           मुख\n",
       "29     মৃত্যু        मृत्यु\n",
       "30      যুদ্ধ         युद्ध\n",
       "31      শূন্য         शून्य\n",
       "32       শ্রী          श्री\n",
       "33       সময়           समय\n",
       "34       সমান          समान\n",
       "35       সিংহ          सिंह\n",
       "36  স্বাধীনতা     स्वाधीनता\n",
       "37        হিম           हिम"
      ]
     },
     "execution_count": 342,
     "metadata": {},
     "output_type": "execute_result"
    }
   ],
   "source": [
    "tatsama = pd.merge(ben_skt, asm_skt, how='inner', on=['loan_word', 'original_word'])\n",
    "tatsama"
   ]
  },
  {
   "cell_type": "code",
   "execution_count": 343,
   "metadata": {},
   "outputs": [],
   "source": [
    "ben_tatsama = pd.merge(ben_skt, tatsama, how='inner', on=['loan_word'])\n",
    "ben_tatsama = ben_tatsama.rename(columns={'loan_word' : 'Bengali'})"
   ]
  },
  {
   "cell_type": "code",
   "execution_count": 344,
   "metadata": {},
   "outputs": [],
   "source": [
    "asm_tatsama = pd.merge(asm_skt, tatsama, how='inner', on=['loan_word'])\n",
    "asm_tatsama = asm_tatsama.rename(columns={'loan_word' : 'Assamese'})"
   ]
  },
  {
   "cell_type": "code",
   "execution_count": 345,
   "metadata": {},
   "outputs": [
    {
     "data": {
      "text/html": [
       "<div>\n",
       "<style scoped>\n",
       "    .dataframe tbody tr th:only-of-type {\n",
       "        vertical-align: middle;\n",
       "    }\n",
       "\n",
       "    .dataframe tbody tr th {\n",
       "        vertical-align: top;\n",
       "    }\n",
       "\n",
       "    .dataframe thead th {\n",
       "        text-align: right;\n",
       "    }\n",
       "</style>\n",
       "<table border=\"1\" class=\"dataframe\">\n",
       "  <thead>\n",
       "    <tr style=\"text-align: right;\">\n",
       "      <th></th>\n",
       "      <th>Assamese</th>\n",
       "      <th>Bengali</th>\n",
       "    </tr>\n",
       "  </thead>\n",
       "  <tbody>\n",
       "    <tr>\n",
       "      <th>0</th>\n",
       "      <td>অক্ষ</td>\n",
       "      <td>অক্ষ</td>\n",
       "    </tr>\n",
       "    <tr>\n",
       "      <th>1</th>\n",
       "      <td>অগ্নি</td>\n",
       "      <td>অগ্নি</td>\n",
       "    </tr>\n",
       "    <tr>\n",
       "      <th>2</th>\n",
       "      <td>অনুবাদ</td>\n",
       "      <td>অনুবাদ</td>\n",
       "    </tr>\n",
       "    <tr>\n",
       "      <th>3</th>\n",
       "      <td>অনুমতি</td>\n",
       "      <td>অনুমতি</td>\n",
       "    </tr>\n",
       "    <tr>\n",
       "      <th>4</th>\n",
       "      <td>অশোক</td>\n",
       "      <td>অশোক</td>\n",
       "    </tr>\n",
       "    <tr>\n",
       "      <th>5</th>\n",
       "      <td>অস্থি</td>\n",
       "      <td>অস্থি</td>\n",
       "    </tr>\n",
       "    <tr>\n",
       "      <th>6</th>\n",
       "      <td>আকাশ</td>\n",
       "      <td>আকাশ</td>\n",
       "    </tr>\n",
       "    <tr>\n",
       "      <th>7</th>\n",
       "      <td>ইতিহাস</td>\n",
       "      <td>ইতিহাস</td>\n",
       "    </tr>\n",
       "    <tr>\n",
       "      <th>8</th>\n",
       "      <td>উপত্যকা</td>\n",
       "      <td>উপত্যকা</td>\n",
       "    </tr>\n",
       "    <tr>\n",
       "      <th>9</th>\n",
       "      <td>উপন্যাস</td>\n",
       "      <td>উপন্যাস</td>\n",
       "    </tr>\n",
       "    <tr>\n",
       "      <th>10</th>\n",
       "      <td>ঋতু</td>\n",
       "      <td>ঋতু</td>\n",
       "    </tr>\n",
       "    <tr>\n",
       "      <th>11</th>\n",
       "      <td>একতা</td>\n",
       "      <td>একতা</td>\n",
       "    </tr>\n",
       "    <tr>\n",
       "      <th>12</th>\n",
       "      <td>ঔষধ</td>\n",
       "      <td>ঔষধ</td>\n",
       "    </tr>\n",
       "    <tr>\n",
       "      <th>13</th>\n",
       "      <td>কথা</td>\n",
       "      <td>কথা</td>\n",
       "    </tr>\n",
       "    <tr>\n",
       "      <th>14</th>\n",
       "      <td>কবি</td>\n",
       "      <td>কবি</td>\n",
       "    </tr>\n",
       "    <tr>\n",
       "      <th>15</th>\n",
       "      <td>কৃষ্ণ</td>\n",
       "      <td>কৃষ্ণ</td>\n",
       "    </tr>\n",
       "    <tr>\n",
       "      <th>16</th>\n",
       "      <td>কেন্দ্ৰ</td>\n",
       "      <td>কেন্দ্ৰ</td>\n",
       "    </tr>\n",
       "    <tr>\n",
       "      <th>17</th>\n",
       "      <td>কোটি</td>\n",
       "      <td>কোটি</td>\n",
       "    </tr>\n",
       "    <tr>\n",
       "      <th>18</th>\n",
       "      <td>গুহা</td>\n",
       "      <td>গুহা</td>\n",
       "    </tr>\n",
       "    <tr>\n",
       "      <th>19</th>\n",
       "      <td>চিন্তা</td>\n",
       "      <td>চিন্তা</td>\n",
       "    </tr>\n",
       "    <tr>\n",
       "      <th>20</th>\n",
       "      <td>তিমি</td>\n",
       "      <td>তিমি</td>\n",
       "    </tr>\n",
       "    <tr>\n",
       "      <th>21</th>\n",
       "      <td>নখ</td>\n",
       "      <td>নখ</td>\n",
       "    </tr>\n",
       "    <tr>\n",
       "      <th>22</th>\n",
       "      <td>নতুন</td>\n",
       "      <td>নতুন</td>\n",
       "    </tr>\n",
       "    <tr>\n",
       "      <th>23</th>\n",
       "      <td>নদী</td>\n",
       "      <td>নদী</td>\n",
       "    </tr>\n",
       "    <tr>\n",
       "      <th>24</th>\n",
       "      <td>পায়স</td>\n",
       "      <td>পায়স</td>\n",
       "    </tr>\n",
       "    <tr>\n",
       "      <th>25</th>\n",
       "      <td>ভালুক</td>\n",
       "      <td>ভালুক</td>\n",
       "    </tr>\n",
       "    <tr>\n",
       "      <th>26</th>\n",
       "      <td>ভাষা</td>\n",
       "      <td>ভাষা</td>\n",
       "    </tr>\n",
       "    <tr>\n",
       "      <th>27</th>\n",
       "      <td>মাংস</td>\n",
       "      <td>মাংস</td>\n",
       "    </tr>\n",
       "    <tr>\n",
       "      <th>28</th>\n",
       "      <td>মুখ</td>\n",
       "      <td>মুখ</td>\n",
       "    </tr>\n",
       "    <tr>\n",
       "      <th>29</th>\n",
       "      <td>মৃত্যু</td>\n",
       "      <td>মৃত্যু</td>\n",
       "    </tr>\n",
       "    <tr>\n",
       "      <th>30</th>\n",
       "      <td>যুদ্ধ</td>\n",
       "      <td>যুদ্ধ</td>\n",
       "    </tr>\n",
       "    <tr>\n",
       "      <th>31</th>\n",
       "      <td>শূন্য</td>\n",
       "      <td>শূন্য</td>\n",
       "    </tr>\n",
       "    <tr>\n",
       "      <th>32</th>\n",
       "      <td>শ্রী</td>\n",
       "      <td>শ্রী</td>\n",
       "    </tr>\n",
       "    <tr>\n",
       "      <th>33</th>\n",
       "      <td>সময়</td>\n",
       "      <td>সময়</td>\n",
       "    </tr>\n",
       "    <tr>\n",
       "      <th>34</th>\n",
       "      <td>সমান</td>\n",
       "      <td>সমান</td>\n",
       "    </tr>\n",
       "    <tr>\n",
       "      <th>35</th>\n",
       "      <td>সিংহ</td>\n",
       "      <td>সিংহ</td>\n",
       "    </tr>\n",
       "    <tr>\n",
       "      <th>36</th>\n",
       "      <td>স্বাধীনতা</td>\n",
       "      <td>স্বাধীনতা</td>\n",
       "    </tr>\n",
       "    <tr>\n",
       "      <th>37</th>\n",
       "      <td>হিম</td>\n",
       "      <td>হিম</td>\n",
       "    </tr>\n",
       "  </tbody>\n",
       "</table>\n",
       "</div>"
      ],
      "text/plain": [
       "     Assamese    Bengali\n",
       "0        অক্ষ       অক্ষ\n",
       "1       অগ্নি      অগ্নি\n",
       "2      অনুবাদ     অনুবাদ\n",
       "3      অনুমতি     অনুমতি\n",
       "4        অশোক       অশোক\n",
       "5       অস্থি      অস্থি\n",
       "6        আকাশ       আকাশ\n",
       "7      ইতিহাস     ইতিহাস\n",
       "8     উপত্যকা    উপত্যকা\n",
       "9     উপন্যাস    উপন্যাস\n",
       "10        ঋতু        ঋতু\n",
       "11       একতা       একতা\n",
       "12        ঔষধ        ঔষধ\n",
       "13        কথা        কথা\n",
       "14        কবি        কবি\n",
       "15      কৃষ্ণ      কৃষ্ণ\n",
       "16    কেন্দ্ৰ    কেন্দ্ৰ\n",
       "17       কোটি       কোটি\n",
       "18       গুহা       গুহা\n",
       "19     চিন্তা     চিন্তা\n",
       "20       তিমি       তিমি\n",
       "21         নখ         নখ\n",
       "22       নতুন       নতুন\n",
       "23        নদী        নদী\n",
       "24      পায়স      পায়স\n",
       "25      ভালুক      ভালুক\n",
       "26       ভাষা       ভাষা\n",
       "27       মাংস       মাংস\n",
       "28        মুখ        মুখ\n",
       "29     মৃত্যু     মৃত্যু\n",
       "30      যুদ্ধ      যুদ্ধ\n",
       "31      শূন্য      শূন্য\n",
       "32       শ্রী       শ্রী\n",
       "33       সময়       সময়\n",
       "34       সমান       সমান\n",
       "35       সিংহ       সিংহ\n",
       "36  স্বাধীনতা  স্বাধীনতা\n",
       "37        হিম        হিম"
      ]
     },
     "execution_count": 345,
     "metadata": {},
     "output_type": "execute_result"
    }
   ],
   "source": [
    "tatsama = pd.concat([asm_tatsama,ben_tatsama],axis=1)\n",
    "tatsama = tatsama.loc[:, ~tatsama.columns.str.contains('^original_word')]\n",
    "tatsama"
   ]
  },
  {
   "cell_type": "code",
   "execution_count": null,
   "metadata": {},
   "outputs": [],
   "source": []
  },
  {
   "cell_type": "code",
   "execution_count": 350,
   "metadata": {},
   "outputs": [],
   "source": [
    "train = pd.read_csv('production_train_test/Assamese-Bengali/alldata/Assamese-Bengali-train_production_alldata.csv')\n",
    "test = pd.read_csv('production_train_test/Assamese-Bengali/alldata/Assamese-Bengali-test_production_alldata.csv')\n"
   ]
  },
  {
   "cell_type": "code",
   "execution_count": 351,
   "metadata": {},
   "outputs": [],
   "source": [
    "train.loc[train['loan_word'].isin(tatsama['Assamese']) & \\\n",
    "          train['original_word'].isin(tatsama['Bengali']) & \\\n",
    "          train['label_bin'] == 1,'label_bin'] = 4\n",
    "train.loc[train['label_bin'] == 1,'label_bin'] = 3\n",
    "train.loc[train['label'] == 'random','label_bin'] = 0\n",
    "train.loc[train['label'] == 'synonym','label_bin'] = 1\n",
    "train.loc[train['label'] == 'hard_negative','label_bin'] = 2\n",
    "train.loc[train['label_bin'] == 3,'label'] = 'tadbhava'\n",
    "train.loc[train['label_bin'] == 4,'label'] = 'tatsama'\n",
    "train.to_csv('production_train_test/Assamese-Bengali/alldata/Assamese-Bengali-train_production_alldata-5way.csv')\n",
    "\n",
    "test.loc[test['loan_word'].isin(tatsama['Assamese']) & \\\n",
    "          test['original_word'].isin(tatsama['Bengali']) & \\\n",
    "          test['label_bin'] == 1,'label_bin'] = 4\n",
    "test.loc[test['label_bin'] == 1,'label_bin'] = 3\n",
    "test.loc[test['label'] == 'random','label_bin'] = 0\n",
    "test.loc[test['label'] == 'synonym','label_bin'] = 1\n",
    "test.loc[test['label'] == 'hard_negative','label_bin'] = 2\n",
    "test.loc[test['label_bin'] == 3,'label'] = 'tadbhava'\n",
    "test.loc[test['label_bin'] == 4,'label'] = 'tatsama'\n",
    "test.to_csv('production_train_test/Assamese-Bengali/alldata/Assamese-Bengali-test_production_alldata-5way.csv')"
   ]
  },
  {
   "cell_type": "code",
   "execution_count": 352,
   "metadata": {},
   "outputs": [],
   "source": [
    "train = pd.read_csv('production_train_test/Bengali-Assamese/alldata/Bengali-Assamese-train_production_alldata.csv')\n",
    "test = pd.read_csv('production_train_test/Bengali-Assamese/alldata/Bengali-Assamese-test_production_alldata.csv')\n"
   ]
  },
  {
   "cell_type": "code",
   "execution_count": 353,
   "metadata": {},
   "outputs": [],
   "source": [
    "train.loc[train['loan_word'].isin(tatsama['Assamese']) & \\\n",
    "          train['original_word'].isin(tatsama['Bengali']) & \\\n",
    "          train['label_bin'] == 1,'label_bin'] = 4\n",
    "train.loc[train['label_bin'] == 1,'label_bin'] = 3\n",
    "train.loc[train['label'] == 'random','label_bin'] = 0\n",
    "train.loc[train['label'] == 'synonym','label_bin'] = 1\n",
    "train.loc[train['label'] == 'hard_negative','label_bin'] = 2\n",
    "train.loc[train['label_bin'] == 3,'label'] = 'tadbhava'\n",
    "train.loc[train['label_bin'] == 4,'label'] = 'tatsama'\n",
    "train.to_csv('production_train_test/Bengali-Assamese/alldata/Bengali-Assamese-train_production_alldata-5way.csv')\n",
    "\n",
    "test.loc[test['loan_word'].isin(tatsama['Assamese']) & \\\n",
    "          test['original_word'].isin(tatsama['Bengali']) & \\\n",
    "          test['label_bin'] == 1,'label_bin'] = 4\n",
    "test.loc[test['label_bin'] == 1,'label_bin'] = 3\n",
    "test.loc[test['label'] == 'random','label_bin'] = 0\n",
    "test.loc[test['label'] == 'synonym','label_bin'] = 1\n",
    "test.loc[test['label'] == 'hard_negative','label_bin'] = 2\n",
    "test.loc[test['label_bin'] == 3,'label'] = 'tadbhava'\n",
    "test.loc[test['label_bin'] == 4,'label'] = 'tatsama'\n",
    "test.to_csv('production_train_test/Bengali-Assamese/alldata/Bengali-Assamese-test_production_alldata-5way.csv')"
   ]
  },
  {
   "cell_type": "code",
   "execution_count": null,
   "metadata": {},
   "outputs": [],
   "source": []
  }
 ],
 "metadata": {
  "interpreter": {
   "hash": "31f2aee4e71d21fbe5cf8b01ff0e069b9275f58929596ceb00d14d90e3e16cd6"
  },
  "kernelspec": {
   "display_name": "Python 3 (ipykernel)",
   "language": "python",
   "name": "python3"
  },
  "language_info": {
   "codemirror_mode": {
    "name": "ipython",
    "version": 3
   },
   "file_extension": ".py",
   "mimetype": "text/x-python",
   "name": "python",
   "nbconvert_exporter": "python",
   "pygments_lexer": "ipython3",
   "version": "3.9.7"
  }
 },
 "nbformat": 4,
 "nbformat_minor": 2
}
