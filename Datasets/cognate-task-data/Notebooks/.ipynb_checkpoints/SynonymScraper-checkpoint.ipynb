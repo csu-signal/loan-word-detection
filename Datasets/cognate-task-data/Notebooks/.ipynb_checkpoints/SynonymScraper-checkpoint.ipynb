{
 "cells": [
  {
   "cell_type": "code",
   "execution_count": 190,
   "metadata": {},
   "outputs": [
    {
     "name": "stdout",
     "output_type": "stream",
     "text": [
      "Requirement already satisfied: pandas in /home/rahulg/.local/lib/python3.8/site-packages (1.4.2)\r\n",
      "Requirement already satisfied: python-dateutil>=2.8.1 in /home/rahulg/.local/lib/python3.8/site-packages (from pandas) (2.8.2)\r\n",
      "Requirement already satisfied: pytz>=2020.1 in /home/rahulg/.local/lib/python3.8/site-packages (from pandas) (2022.1)\r\n",
      "Requirement already satisfied: numpy>=1.18.5; platform_machine != \"aarch64\" and platform_machine != \"arm64\" and python_version < \"3.10\" in /home/rahulg/.local/lib/python3.8/site-packages (from pandas) (1.22.4)\r\n",
      "Requirement already satisfied: six>=1.5 in /usr/lib/python3/dist-packages (from python-dateutil>=2.8.1->pandas) (1.14.0)\r\n"
     ]
    }
   ],
   "source": [
    "!pip install pandas"
   ]
  },
  {
   "cell_type": "code",
   "execution_count": 191,
   "metadata": {},
   "outputs": [],
   "source": [
    "import json\n",
    "import requests\n",
    "from bs4 import BeautifulSoup\n",
    "import pandas as pd\n",
    "import time\n",
    "import os\n",
    "import unicodeblock.blocks\n",
    "import re\n",
    "from tqdm import tqdm\n",
    "from random import random"
   ]
  },
  {
   "cell_type": "code",
   "execution_count": 192,
   "metadata": {},
   "outputs": [
    {
     "data": {
      "text/plain": [
       "({'Assamese-Sanskrit': 'https://en.wiktionary.org/wiki/Category:Assamese_terms_derived_from_Sanskrit'},\n",
       " {'Assamese-Sanskrit': 'Devanagari'})"
      ]
     },
     "execution_count": 192,
     "metadata": {},
     "output_type": "execute_result"
    }
   ],
   "source": [
    "links = {}\n",
    "expected_unicodes = {}\n",
    "\n",
    "with open('../language-pairs.json', 'r') as f:\n",
    "    pairs = json.loads(f.read())\n",
    "    \n",
    "    for pair in pairs:\n",
    "        expected_unicodes[pair] = pairs[pair]['source']['unicode']\n",
    "        links[pair] = pairs[pair]['wiki']\n",
    "\n",
    "links, expected_unicodes"
   ]
  },
  {
   "cell_type": "code",
   "execution_count": 193,
   "metadata": {},
   "outputs": [],
   "source": [
    "# expected Unicode blocks for certain scripts\n",
    "unicode_block_map = {\n",
    "    \"Latin\" : ['BASIC_LATIN', 'LATIN_1_SUPPLEMENT', 'LATIN_EXTENDED_LETTER', 'LATIN_EXTENDED_A', 'LATIN_EXTENDED_B',\\\n",
    "               'LATIN_EXTENDED_C'],\n",
    "    \"Greek\" : ['GREEK'],\n",
    "    \"Cyrillic\" : ['CYRILLIC', 'CYRILLIC_SUPPLEMENTARY', 'CYRILLIC_EXTENDED_A', 'CYRILLIC_EXTENDED_B'],\n",
    "    \"Arabic\" : ['ARABIC', 'ARABIC_SUPPLEMENT', 'ARABIC_PRESENTATION_FORMS_A', 'ARABIC_PRESENTATION_FORMS_B'],\n",
    "    \"Devanagari\" : ['DEVANAGARI', 'VEDIC_EXTENSIONS', 'DEVANAGARI_EXTENDED', 'BENGALI'],\n",
    "    \"Bengali\" : ['BENGALI'],\n",
    "    \"Gurmukhi\" : ['GURMUKHI'],\n",
    "    \"Tamil\" : ['TAMIL'],\n",
    "    \"Telugu\" : ['TELUGU'],\n",
    "    \"Malayalam\" : ['MALAYALAM'],\n",
    "    \"Myanmar\" : ['MYANMAR', 'MYANMAR_EXTENDED_A'],\n",
    "    \"Chinese\" : ['CJK_RADICALS_SUPPLEMENT', 'CJK_SYMBOLS_AND_PUNCTUATION', 'CJK_STROKES',\\\n",
    "                 'ENCLOSED_CJK_LETTERS_AND_MONTHS', 'CJK_COMPATIBILITY', 'CJK_UNIFIED_IDEOGRAPHS_EXTENSION_A',\\\n",
    "                 'CJK_UNIFIED_IDEOGRAPHS', 'CJK_COMPATIBILITY_IDEOGRAPHS', 'CJK_COMPATIBILITY_FORMS',\\\n",
    "                 'CJK_UNIFIED_IDEOGRAPHS_EXTENSION_B', 'CJK_UNIFIED_IDEOGRAPHS_EXTENSION_C',\\\n",
    "                 'CJK_UNIFIED_IDEOGRAPHS_EXTENSION_D', 'CJK_COMPATIBILITY_IDEOGRAPHS_SUPPLEMENT']\n",
    "}"
   ]
  },
  {
   "cell_type": "code",
   "execution_count": 194,
   "metadata": {},
   "outputs": [],
   "source": [
    "def get_all_borrowed_words(dest, source, expected_unicode, invalid=[\"Unsupported titles/\"]):\n",
    "    title = f\"Category:{dest}_terms_derived_from_{source}\"\n",
    "    params = {\n",
    "        'action': 'query',\n",
    "        'format': 'json',\n",
    "        'prop': 'extracts',\n",
    "        'exintro': True,\n",
    "        'explaintext': True,\n",
    "    }\n",
    "\n",
    "    url = f\"https://en.wiktionary.org/w/api.php?action=query&list=categorymembers&cmtitle={title}&cmlimit=max\"\n",
    "    \n",
    "    borrowed_words = []\n",
    "    while(True):\n",
    "        r = requests.get(url,params)\n",
    "        try:\n",
    "            for cmember in r.json()['query']['categorymembers']:\n",
    "                if len(cmember['title']) > 1 and \\\n",
    "                    not cmember['title'].startswith('-') and \\\n",
    "                    not cmember['title'].endswith('-') and \\\n",
    "                    not any(inv in cmember['title'] for inv in invalid) and \\\n",
    "                    not any(c.isdigit() for c in cmember['title']) and \\\n",
    "                    not cmember['title'].isupper() and \\\n",
    "                    unicodeblock.blocks.of(cmember['title'][0]) not in ['BASIC_PUNCTUATION']:\n",
    "                    borrowed_words.append(cmember['title'])\n",
    "                    if len(borrowed_words) % 1000 == 0:\n",
    "                        print(f\"Got {len(borrowed_words)}\")\n",
    "            cmcontinue = r.json()['continue']['cmcontinue']\n",
    "            url = url.split(\"&cmcontinue\")[0]\n",
    "            url+=f\"&cmcontinue={cmcontinue}\"\n",
    "        except KeyError:\n",
    "            break\n",
    "    print(f\"Done, {len(borrowed_words)}\")\n",
    "    return borrowed_words"
   ]
  },
  {
   "cell_type": "code",
   "execution_count": 195,
   "metadata": {},
   "outputs": [],
   "source": [
    "'''\n",
    "def get_all_loans_and_homonyms:\n",
    "    for each word in borrowed words:\n",
    "        1. get word page from wiktionary\n",
    "        2. extract source word from source language\n",
    "        3. extract homonyms from language!=source language\n",
    "\n",
    "    return loan_pairs, homonyms\n",
    "'''\n",
    "\n",
    "def get_source_word(soup, src_lang, expected_unicode, lst_invalid_words):\n",
    "    for src_soup in soup.find_all(\"span\", class_=\"etyl\"):\n",
    "        if src_soup != None and src_soup.find(lambda tag: tag.name == 'a' and src_lang.lower() in tag.text.lower()):\n",
    "            \n",
    "            src_soup_final = src_soup.find_next(\"i\")\n",
    "            src_word = src_soup_final.text if src_soup_final != None else ''\n",
    "            if any(inv in src_word for inv in lst_invalid_words):\n",
    "                src_soup_final = src_soup.find_next(\"strong\")\n",
    "                src_word = src_soup_final.text if src_soup_final != None else ''\n",
    "                source_word = re.split('[/,]',src_word)[0].strip()\n",
    "            else:\n",
    "                source_word = re.split('[/,]',src_word)[0].strip()                \n",
    "                \n",
    "            if [unicodeblock.blocks.of(c) in unicode_block_map[expected_unicode] for c in source_word].count(True) < len(source_word)*.8:\n",
    "                source_word = ''\n",
    "                \n",
    "            return source_word\n",
    "    \n",
    "    return ''\n",
    "\n",
    "def get_synonym(borrowed_word, soup, lst_invalid_words):\n",
    "    all_synonyms = []\n",
    "    for header in soup.find_all(\"span\", class_ =\"nyms synonym\"):\n",
    "        for synonym_header in header.find_all(\"span\", class_ =\"as-Beng\"):\n",
    "            synonym = synonym_header.text\n",
    "            print(synonym)\n",
    "            all_synonyms.append([borrowed_word, synonym])\n",
    "    return all_synonyms\n",
    "    \n",
    "    \n",
    "    \n",
    "    \n",
    "def get_homonym(borrowed_word, soup, src_lang, dest_lang, lst_invalid_words):\n",
    "    all_homonyms = []\n",
    "    for header in soup.find_all(\"h2\", id=True):\n",
    "        if dest_lang.lower() in [header.get('id').lower(), header.text.lower()]:\n",
    "            try:\n",
    "                for next_header in header.parent.find_all('h3'):\n",
    "                    if re.match(\"Etymology [1-9]\",next_header.text):\n",
    "                        # get next sibling and then find_all span etyl?\n",
    "                        next_sibs = next_header.find_next_siblings()\n",
    "                        if len(next_sibs) > 0:\n",
    "                            all_etyms = next_sibs[0].find_all(\"span\", class_=\"etyl\")\n",
    "                            if len(all_etyms) > 0:\n",
    "                                etym = all_etyms[0]\n",
    "                                for tag in etym.find(lambda tag: tag.name == 'a'):\n",
    "\n",
    "                                    if src_lang.lower() not in tag.text.lower():\n",
    "                                        homonym_soup = etym.find_next(\"i\")\n",
    "                                        ff_word = homonym_soup.text if homonym_soup != None else ''\n",
    "                                        ff_word = re.split('[,;:]',ff_word)[0].strip()\n",
    "                                        if any(inv in ff_word for inv in lst_invalid_words):\n",
    "                                            homonym_soup = etym.find_next(\"strong\")\n",
    "                                            ff_word = homonym_soup.text if homonym_soup != None else ''\n",
    "                                            ff_word = re.split('[,;:]',ff_word)[0].strip()\n",
    "\n",
    "                                        meaning = etym.parent.parent.find_all('ol')[0].text.split('\\n')[0]\n",
    "                                        meaning = re.sub(r'\\(.+?\\)',r'',meaning)\n",
    "                                        meaning = re.sub(r'\\[.+?\\]',r'',meaning)\n",
    "                                        meaning = meaning.replace('  ', ' ')\n",
    "                                        meaning = re.split('[.;:]',meaning)[0].strip()\n",
    "\n",
    "                                        all_homonyms.append([borrowed_word,ff_word,tag.text.lower(),meaning])\n",
    "            except:\n",
    "                pass\n",
    "    \n",
    "    return all_homonyms\n",
    "\n",
    "            \n",
    "def get_all_loans_and_homonyms(borrowed_words, dest_lang, src_lang, expected_unicode, lst_invalid_words=['plural', 'not comparable', 'uncountable', ' spelling', '-person possessive'], min_timeout=5, timeout_after_words=200):\n",
    "    loan_pairs = [] # [[borrowed_word, source_word]]\n",
    "    homonyms = [] # \n",
    "    synonyms = []\n",
    "    p_bar = tqdm(borrowed_words)\n",
    "    for i, word in enumerate(p_bar):\n",
    "        while True:\n",
    "            try:\n",
    "                params = {\n",
    "                    'action': 'query',\n",
    "                    'format': 'json',\n",
    "                    'prop': 'extracts',\n",
    "                    'exintro': True,\n",
    "                    'explaintext': True,\n",
    "                }\n",
    "\n",
    "                url = 'https://en.wiktionary.org/w/rest.php/v1/page/' + word + '/html'\n",
    "\n",
    "                response = requests.get(url, params, timeout=300)\n",
    "\n",
    "                soup = BeautifulSoup(response.content, 'html.parser')\n",
    "                #source_word = get_source_word(\n",
    "                #    soup, src_lang, expected_unicode, lst_invalid_words)\n",
    "                #homonym = get_homonym(\n",
    "                #    word, soup, src_lang, dest_lang, lst_invalid_words)\n",
    "                #if source_word != '':\n",
    "                #    loan_pairs.append([word, source_word])\n",
    "                #homonyms.extend(homonym)\n",
    "                synonym = get_synonym(word, soup, lst_invalid_words)\n",
    "                synonyms.extend(synonym)\n",
    "                p_bar.set_description(\"Processed word: {}\".format(word))\n",
    "                if i > 0 and i % timeout_after_words == 0:\n",
    "                    sleep_time = (random() * min_timeout) + min_timeout\n",
    "                    p_bar.set_description(\"Collected {} word pairs, sleeping for {} seconds\".format(i, sleep_time))\n",
    "                    time.sleep(sleep_time)\n",
    "                break\n",
    "            except Exception as e:\n",
    "                p_bar.set_description(\"Word: {}, Error: {}, sleeping for 1 minute\".format(word, e))\n",
    "                time.sleep(60)\n",
    "\n",
    "    return loan_pairs, homonyms, synonyms"
   ]
  },
  {
   "cell_type": "code",
   "execution_count": 196,
   "metadata": {},
   "outputs": [
    {
     "name": "stdout",
     "output_type": "stream",
     "text": [
      "Assamese-Sanskrit\n",
      "Got 1000\n",
      "Done, 1317\n",
      "Assamese-Sanskrit.csv exists. Overwrite existing file? (y/n) y\n",
      "Assamese-Sanskrit_homonyms.csv exists. Overwrite existing file? (y/n) y\n",
      "Assamese-Sanskrit_synonyms.csv exists. Overwrite existing file? (y/n) y\n",
      "Getting loan pairs and homonym: 1317 candidates\n"
     ]
    },
    {
     "name": "stderr",
     "output_type": "stream",
     "text": [
      "Processed word: অংক:   0%|                     | 1/1317 [00:00<06:40,  3.29it/s]"
     ]
    },
    {
     "name": "stdout",
     "output_type": "stream",
     "text": [
      "গণিত\n"
     ]
    },
    {
     "name": "stderr",
     "output_type": "stream",
     "text": [
      "Processed word: অইন:   0%|                     | 3/1317 [00:00<06:18,  3.47it/s]"
     ]
    },
    {
     "name": "stdout",
     "output_type": "stream",
     "text": [
      "বেলেগ\n"
     ]
    },
    {
     "name": "stderr",
     "output_type": "stream",
     "text": [
      "Processed word: অক্ণি:   0%|                   | 5/1317 [00:01<06:08,  3.56it/s]"
     ]
    },
    {
     "name": "stdout",
     "output_type": "stream",
     "text": [
      "লেখি\n",
      "বিঢ়া\n",
      "ফুট্নি\n",
      "পিজ্লা\n",
      "চেখ্ৰা\n"
     ]
    },
    {
     "name": "stderr",
     "output_type": "stream",
     "text": [
      "Processed word: অণুজীৱ:   1%|▏                | 10/1317 [00:02<05:56,  3.66it/s]"
     ]
    },
    {
     "name": "stdout",
     "output_type": "stream",
     "text": [
      "জীৱাণু\n"
     ]
    },
    {
     "name": "stderr",
     "output_type": "stream",
     "text": [
      "Processed word: অনুবাদ:   1%|▏              | 12/1317 [00:34<3:33:20,  9.81s/it]"
     ]
    },
    {
     "name": "stdout",
     "output_type": "stream",
     "text": [
      "ভাঙনি\n",
      "তৰ্জমা\n",
      "পৰিভাষা\n",
      "ভাষান্তৰণ\n"
     ]
    },
    {
     "name": "stderr",
     "output_type": "stream",
     "text": [
      "Processed word: অন্য:   1%|▏                  | 16/1317 [00:35<54:57,  2.53s/it]"
     ]
    },
    {
     "name": "stdout",
     "output_type": "stream",
     "text": [
      "বেলেগ\n"
     ]
    },
    {
     "name": "stderr",
     "output_type": "stream",
     "text": [
      "Processed word: অবৈধ:   1%|▎                  | 18/1317 [00:36<30:11,  1.39s/it]"
     ]
    },
    {
     "name": "stdout",
     "output_type": "stream",
     "text": [
      "চোৰাং\n"
     ]
    },
    {
     "name": "stderr",
     "output_type": "stream",
     "text": [
      "Processed word: অভাৱ:   1%|▎                  | 19/1317 [00:36<22:42,  1.05s/it]"
     ]
    },
    {
     "name": "stdout",
     "output_type": "stream",
     "text": [
      "নাটনি\n",
      "অনাটন\n",
      "আটক\n",
      "মাকাল\n"
     ]
    },
    {
     "name": "stderr",
     "output_type": "stream",
     "text": [
      "Processed word: অমিয়:   2%|▎                 | 21/1317 [00:37<14:25,  1.50it/s]"
     ]
    },
    {
     "name": "stdout",
     "output_type": "stream",
     "text": [
      "সুধা\n"
     ]
    },
    {
     "name": "stderr",
     "output_type": "stream",
     "text": [
      "Processed word: অমিয়া:   2%|▎                | 22/1317 [00:37<11:42,  1.84it/s]"
     ]
    },
    {
     "name": "stdout",
     "output_type": "stream",
     "text": [
      "সুধা\n"
     ]
    },
    {
     "name": "stderr",
     "output_type": "stream",
     "text": [
      "Processed word: অলপ:   2%|▎                   | 24/1317 [00:38<08:46,  2.46it/s]"
     ]
    },
    {
     "name": "stdout",
     "output_type": "stream",
     "text": [
      "অকণমান\n",
      "খানিক\n"
     ]
    },
    {
     "name": "stderr",
     "output_type": "stream",
     "text": [
      "Processed word: আঁকোৱাল:   2%|▎               | 30/1317 [01:11<55:05,  2.57s/it]"
     ]
    },
    {
     "name": "stdout",
     "output_type": "stream",
     "text": [
      "সাবট\n"
     ]
    },
    {
     "name": "stderr",
     "output_type": "stream",
     "text": [
      "Processed word: আঁচ:   2%|▍                   | 31/1317 [01:11<40:31,  1.89s/it]"
     ]
    },
    {
     "name": "stdout",
     "output_type": "stream",
     "text": [
      "ৰেখা\n"
     ]
    },
    {
     "name": "stderr",
     "output_type": "stream",
     "text": [
      "Processed word: আঁত:   3%|▌                   | 34/1317 [01:12<18:01,  1.19it/s]"
     ]
    },
    {
     "name": "stdout",
     "output_type": "stream",
     "text": [
      "নাড়ীভুঁৰু\n",
      "নাড়ীভুঁৰি\n",
      "নাড়ী\n",
      "পেটু\n",
      "গম\n"
     ]
    },
    {
     "name": "stderr",
     "output_type": "stream",
     "text": [
      "Processed word: আঁতৰ:   3%|▌                  | 35/1317 [01:12<14:40,  1.46it/s]"
     ]
    },
    {
     "name": "stdout",
     "output_type": "stream",
     "text": [
      "দূৰৈ\n",
      "দূৰ\n",
      "দূৰ\n",
      "দূৰৈ\n",
      "দূৰত্ব\n",
      "আঁতৰৰ ঠাই\n",
      "দূৰৰ ঠাই\n",
      "পিছুৱা\n",
      "হোহঁক\n"
     ]
    },
    {
     "name": "stderr",
     "output_type": "stream",
     "text": [
      "Processed word: আঁৱৰি:   3%|▌                 | 38/1317 [01:13<09:01,  2.36it/s]"
     ]
    },
    {
     "name": "stdout",
     "output_type": "stream",
     "text": [
      "তেঁউৰ\n"
     ]
    },
    {
     "name": "stderr",
     "output_type": "stream",
     "text": [
      "Processed word: আউল:   3%|▌                   | 40/1317 [01:14<07:46,  2.74it/s]"
     ]
    },
    {
     "name": "stdout",
     "output_type": "stream",
     "text": [
      "খেলিমেলি\n",
      "উপাক-পাক\n",
      "আলিমূলি\n",
      "খামখেয়ালি\n"
     ]
    },
    {
     "name": "stderr",
     "output_type": "stream",
     "text": [
      "Processed word: আখি:   3%|▋                   | 44/1317 [01:15<06:28,  3.28it/s]"
     ]
    },
    {
     "name": "stdout",
     "output_type": "stream",
     "text": [
      "চকু\n"
     ]
    },
    {
     "name": "stderr",
     "output_type": "stream",
     "text": [
      "Processed word: আখৰ:   3%|▋                   | 46/1317 [01:15<06:25,  3.30it/s]"
     ]
    },
    {
     "name": "stdout",
     "output_type": "stream",
     "text": [
      "লিপি\n",
      "হৰফ\n",
      "বৰ্ণ\n"
     ]
    },
    {
     "name": "stderr",
     "output_type": "stream",
     "text": [
      "Processed word: আগনি:   4%|▋                  | 48/1317 [01:16<06:19,  3.35it/s]"
     ]
    },
    {
     "name": "stdout",
     "output_type": "stream",
     "text": [
      "মৌলিক\n",
      "বুনিয়াদী\n",
      "প্ৰাথমিক\n"
     ]
    },
    {
     "name": "stderr",
     "output_type": "stream",
     "text": [
      "Processed word: আঙাৰ:   4%|▊                  | 52/1317 [01:17<06:36,  3.19it/s]"
     ]
    },
    {
     "name": "stdout",
     "output_type": "stream",
     "text": [
      "অঙঠা\n"
     ]
    },
    {
     "name": "stderr",
     "output_type": "stream",
     "text": [
      "Processed word: আচহুৱা:   4%|▋                | 56/1317 [01:18<06:13,  3.38it/s]"
     ]
    },
    {
     "name": "stdout",
     "output_type": "stream",
     "text": [
      "আচৰিত\n",
      "আজব\n",
      "একাচেকা\n",
      "নেদেখা-নুশুনা\n",
      "নোহোৱা-নোপোজা\n",
      "কেনেবা\n",
      "আজগুবি\n",
      "দিকচৌ\n",
      "অদ্ভূত\n",
      "বিস্ময়কৰ\n"
     ]
    },
    {
     "name": "stderr",
     "output_type": "stream",
     "text": [
      "Processed word: আচাভুৱা:   4%|▋               | 57/1317 [01:19<06:17,  3.34it/s]"
     ]
    },
    {
     "name": "stdout",
     "output_type": "stream",
     "text": [
      "আচৰিত\n",
      "আজব\n",
      "একাচেকা\n",
      "নেদেখা-নুশুনা\n",
      "নোহোৱা-নোপোজা\n",
      "কেনেবা\n",
      "আজগুবি\n",
      "দিকচৌ\n",
      "অদ্ভূত\n",
      "বিস্ময়কৰ\n"
     ]
    },
    {
     "name": "stderr",
     "output_type": "stream",
     "text": [
      "Processed word: আজিনাই:   5%|▊                | 60/1317 [01:20<06:09,  3.40it/s]"
     ]
    },
    {
     "name": "stdout",
     "output_type": "stream",
     "text": [
      "আঁজনি\n"
     ]
    },
    {
     "name": "stderr",
     "output_type": "stream",
     "text": [
      "Processed word: আঞ্জা:   5%|▊                 | 62/1317 [01:20<05:52,  3.56it/s]"
     ]
    },
    {
     "name": "stdout",
     "output_type": "stream",
     "text": [
      "তৰকাৰী\n"
     ]
    },
    {
     "name": "stderr",
     "output_type": "stream",
     "text": [
      "Processed word: আটাহ:   5%|▉                  | 64/1317 [01:21<06:03,  3.45it/s]"
     ]
    },
    {
     "name": "stdout",
     "output_type": "stream",
     "text": [
      "চিঞৰ\n"
     ]
    },
    {
     "name": "stderr",
     "output_type": "stream",
     "text": [
      "Processed word: আত্মা:   5%|▉                 | 69/1317 [01:22<05:56,  3.51it/s]"
     ]
    },
    {
     "name": "stdout",
     "output_type": "stream",
     "text": [
      "রূহ\n"
     ]
    },
    {
     "name": "stderr",
     "output_type": "stream",
     "text": [
      "Processed word: আথৰ:   5%|█                   | 70/1317 [01:22<05:51,  3.55it/s]"
     ]
    },
    {
     "name": "stdout",
     "output_type": "stream",
     "text": [
      "আলৰ\n",
      "জৰাতুৰ\n"
     ]
    },
    {
     "name": "stderr",
     "output_type": "stream",
     "text": [
      "Processed word: আদহ:   5%|█                   | 71/1317 [01:23<05:58,  3.48it/s]"
     ]
    },
    {
     "name": "stdout",
     "output_type": "stream",
     "text": [
      "মাজ বয়স\n",
      "আদ-বয়স\n"
     ]
    },
    {
     "name": "stderr",
     "output_type": "stream",
     "text": [
      "Processed word: আদৰ:   6%|█                   | 73/1317 [01:23<06:08,  3.37it/s]"
     ]
    },
    {
     "name": "stdout",
     "output_type": "stream",
     "text": [
      "সন্মান\n",
      "শ্ৰদ্ধা\n",
      "মান\n",
      "কদৰ\n",
      "সমাদৰ\n",
      "সাদৰ\n",
      "ইজ্জত\n"
     ]
    },
    {
     "name": "stderr",
     "output_type": "stream",
     "text": [
      "Processed word: আধিপত্য:   6%|▉               | 75/1317 [01:24<06:25,  3.22it/s]"
     ]
    },
    {
     "name": "stdout",
     "output_type": "stream",
     "text": [
      "মালিকীস্বত্ব\n",
      "মালিকানা\n"
     ]
    },
    {
     "name": "stderr",
     "output_type": "stream",
     "text": [
      "Processed word: আধৰুৱা:   6%|▉                | 76/1317 [01:24<06:15,  3.30it/s]"
     ]
    },
    {
     "name": "stdout",
     "output_type": "stream",
     "text": [
      "খঁৰা\n",
      "আদখনীয়া\n",
      "অসম্পূৰ্ণ\n",
      "আধাডুখৰীয়া\n",
      "অসমাপ্ত\n",
      "অপূৰ্ণ\n",
      "অসম্পন্ন\n"
     ]
    },
    {
     "name": "stderr",
     "output_type": "stream",
     "text": [
      "Processed word: আন:   6%|█▏                   | 77/1317 [01:25<06:35,  3.14it/s]"
     ]
    },
    {
     "name": "stdout",
     "output_type": "stream",
     "text": [
      "বেলেগ\n"
     ]
    },
    {
     "name": "stderr",
     "output_type": "stream",
     "text": [
      "Processed word: আপা:   6%|█▏                  | 80/1317 [01:26<06:31,  3.16it/s]"
     ]
    },
    {
     "name": "stdout",
     "output_type": "stream",
     "text": [
      "ছলি\n",
      "ল’ৰা\n",
      "ছলি\n",
      "ল’ৰা\n"
     ]
    },
    {
     "name": "stderr",
     "output_type": "stream",
     "text": [
      "Processed word: আপী:   6%|█▏                  | 81/1317 [01:26<06:03,  3.40it/s]"
     ]
    },
    {
     "name": "stdout",
     "output_type": "stream",
     "text": [
      "ঝিয়া\n"
     ]
    },
    {
     "name": "stderr",
     "output_type": "stream",
     "text": [
      "Processed word: আপুনি:   6%|█                 | 82/1317 [01:26<06:10,  3.33it/s]"
     ]
    },
    {
     "name": "stdout",
     "output_type": "stream",
     "text": [
      "নিজে\n"
     ]
    },
    {
     "name": "stderr",
     "output_type": "stream",
     "text": [
      "Processed word: আপোন:   6%|█▏                 | 83/1317 [01:26<05:54,  3.48it/s]"
     ]
    },
    {
     "name": "stdout",
     "output_type": "stream",
     "text": [
      "নিজৰ\n",
      "নিজা\n",
      "নিজ\n",
      "আপোনাৰ\n",
      "স্ব\n",
      "স্বকীয়\n",
      "মিতিৰ\n",
      "কুটুম\n",
      "বঙহ\n",
      "অঙহী-বঙহী\n",
      "আত্মীয়\n",
      "সম্পৰ্কীয়\n",
      "সম্বন্ধীয়\n"
     ]
    },
    {
     "name": "stderr",
     "output_type": "stream",
     "text": [
      "Processed word: আমি:   7%|█▎                  | 88/1317 [01:28<06:17,  3.25it/s]"
     ]
    },
    {
     "name": "stdout",
     "output_type": "stream",
     "text": [
      "আমিৰা\n"
     ]
    },
    {
     "name": "stderr",
     "output_type": "stream",
     "text": [
      "Processed word: আয়:   7%|█▎                  | 89/1317 [01:28<06:04,  3.37it/s]"
     ]
    },
    {
     "name": "stdout",
     "output_type": "stream",
     "text": [
      "উপাৰ্জন\n"
     ]
    },
    {
     "name": "stderr",
     "output_type": "stream",
     "text": [
      "Processed word: আলগ:   7%|█▍                  | 91/1317 [01:29<06:44,  3.03it/s]"
     ]
    },
    {
     "name": "stdout",
     "output_type": "stream",
     "text": [
      "বেলেগ\n",
      "সূকীয়া\n",
      "দোছোৰা\n"
     ]
    },
    {
     "name": "stderr",
     "output_type": "stream",
     "text": [
      "Processed word: আলসুৱা:   7%|█▏               | 92/1317 [01:29<06:31,  3.13it/s]"
     ]
    },
    {
     "name": "stdout",
     "output_type": "stream",
     "text": [
      "লেহুকা\n",
      "আলফুলীয়া\n",
      "ঠুনুকা\n",
      "চনকা\n",
      "ভংগুৰ\n",
      "চনচনীয়া\n",
      "ঠুনঠুনীয়া\n",
      "সুকোমল\n",
      "আতোলতোল\n",
      "আলৌলৌৱা\n",
      "সুখীয়া\n"
     ]
    },
    {
     "name": "stderr",
     "output_type": "stream",
     "text": [
      "Processed word: আলি:   7%|█▍                  | 94/1317 [01:30<06:18,  3.23it/s]"
     ]
    },
    {
     "name": "stdout",
     "output_type": "stream",
     "text": [
      "বাট\n",
      "আলিবাট\n",
      "ৰাস্তা\n",
      "পথ\n",
      "ৰাহ\n"
     ]
    },
    {
     "name": "stderr",
     "output_type": "stream",
     "text": [
      "Processed word: আৰু:   8%|█▍                 | 101/1317 [01:32<05:40,  3.57it/s]"
     ]
    },
    {
     "name": "stdout",
     "output_type": "stream",
     "text": [
      "আকৌ\n",
      "-ও\n",
      "তথা\n"
     ]
    },
    {
     "name": "stderr",
     "output_type": "stream",
     "text": [
      "Processed word: ঈশ্বৰ:   8%|█▍               | 109/1317 [01:34<05:55,  3.40it/s]"
     ]
    },
    {
     "name": "stdout",
     "output_type": "stream",
     "text": [
      "ভগৱান\n",
      "প্ৰভু\n",
      "আল্লা\n"
     ]
    },
    {
     "name": "stderr",
     "output_type": "stream",
     "text": [
      "Processed word: ঈহ:   8%|█▋                  | 110/1317 [01:34<05:48,  3.47it/s]"
     ]
    },
    {
     "name": "stdout",
     "output_type": "stream",
     "text": [
      "ডিলা\n"
     ]
    },
    {
     "name": "stderr",
     "output_type": "stream",
     "text": [
      "Processed word: উঁহ:   9%|█▌                 | 112/1317 [01:35<05:51,  3.43it/s]"
     ]
    },
    {
     "name": "stdout",
     "output_type": "stream",
     "text": [
      "পুং\n",
      "পানীচকু\n",
      "জৰণি\n",
      "পুং\n"
     ]
    },
    {
     "name": "stderr",
     "output_type": "stream",
     "text": [
      "Processed word: উখৰা:   9%|█▌                | 115/1317 [01:36<05:29,  3.65it/s]"
     ]
    },
    {
     "name": "stdout",
     "output_type": "stream",
     "text": [
      "শুকান\n"
     ]
    },
    {
     "name": "stderr",
     "output_type": "stream",
     "text": [
      "Processed word: উঘাল:   9%|█▌                | 117/1317 [01:36<05:53,  3.39it/s]"
     ]
    },
    {
     "name": "stdout",
     "output_type": "stream",
     "text": [
      "উভাল\n"
     ]
    },
    {
     "name": "stderr",
     "output_type": "stream",
     "text": [
      "Processed word: উজলা:   9%|█▋                | 119/1317 [01:37<06:03,  3.30it/s]"
     ]
    },
    {
     "name": "stdout",
     "output_type": "stream",
     "text": [
      "জিলিকা\n",
      "তিৰবিৰোৱা\n",
      "জিকমিকোৱা\n",
      "চিকমিকোৱা\n"
     ]
    },
    {
     "name": "stderr",
     "output_type": "stream",
     "text": [
      "Processed word: উদং:  10%|█▊                 | 127/1317 [01:40<05:56,  3.33it/s]"
     ]
    },
    {
     "name": "stdout",
     "output_type": "stream",
     "text": [
      "নাঙঠ\n",
      "উলংগ\n"
     ]
    },
    {
     "name": "stderr",
     "output_type": "stream",
     "text": [
      "Processed word: উপত্যকা:  10%|█▍             | 130/1317 [01:40<05:58,  3.31it/s]"
     ]
    },
    {
     "name": "stdout",
     "output_type": "stream",
     "text": [
      "ভৈয়াম\n"
     ]
    },
    {
     "name": "stderr",
     "output_type": "stream",
     "text": [
      "Processed word: উপায়:  10%|█▋               | 132/1317 [01:41<05:42,  3.46it/s]"
     ]
    },
    {
     "name": "stdout",
     "output_type": "stream",
     "text": [
      "সমাধান\n"
     ]
    },
    {
     "name": "stderr",
     "output_type": "stream",
     "text": [
      "Processed word: উভাল:  10%|█▊                | 133/1317 [01:41<05:56,  3.32it/s]"
     ]
    },
    {
     "name": "stdout",
     "output_type": "stream",
     "text": [
      "উঘাল\n"
     ]
    },
    {
     "name": "stderr",
     "output_type": "stream",
     "text": [
      "Processed word: উলূ:  10%|█▉                 | 135/1317 [01:42<05:51,  3.36it/s]"
     ]
    },
    {
     "name": "stdout",
     "output_type": "stream",
     "text": [
      "শৰণ খেৰ\n",
      "ঘৰছোৱা বন\n"
     ]
    },
    {
     "name": "stderr",
     "output_type": "stream",
     "text": [
      "Processed word: একনায়ক:  11%|█▋             | 145/1317 [01:45<05:52,  3.32it/s]"
     ]
    },
    {
     "name": "stdout",
     "output_type": "stream",
     "text": [
      "একাধিপতি\n",
      "মাতব্বৰ\n"
     ]
    },
    {
     "name": "stderr",
     "output_type": "stream",
     "text": [
      "Processed word: একাধিপতি:  11%|█▌            | 146/1317 [01:45<05:47,  3.37it/s]"
     ]
    },
    {
     "name": "stdout",
     "output_type": "stream",
     "text": [
      "একনায়ক\n",
      "মাতব্বৰ\n"
     ]
    },
    {
     "name": "stderr",
     "output_type": "stream",
     "text": [
      "Processed word: এঙাৰ:  11%|██                | 147/1317 [01:46<05:52,  3.32it/s]"
     ]
    },
    {
     "name": "stdout",
     "output_type": "stream",
     "text": [
      "অঙঠা\n"
     ]
    },
    {
     "name": "stderr",
     "output_type": "stream",
     "text": [
      "Processed word: এৰ:  12%|██▎                 | 152/1317 [01:47<05:50,  3.32it/s]"
     ]
    },
    {
     "name": "stdout",
     "output_type": "stream",
     "text": [
      "বাদ দে\n",
      "পৰিহৰ\n",
      "বিছুৰ\n"
     ]
    },
    {
     "name": "stderr",
     "output_type": "stream",
     "text": [
      "Processed word: এৰা:  12%|██▏                | 153/1317 [01:47<06:00,  3.23it/s]"
     ]
    },
    {
     "name": "stdout",
     "output_type": "stream",
     "text": [
      "বাদ দিয়া\n",
      "পৰিহৰা\n",
      "বিছুৰা\n"
     ]
    },
    {
     "name": "stderr",
     "output_type": "stream",
     "text": [
      "Processed word: ওঁ:  12%|██▎                 | 154/1317 [01:48<05:43,  3.39it/s]"
     ]
    },
    {
     "name": "stdout",
     "output_type": "stream",
     "text": [
      "অ\n",
      "হয়\n"
     ]
    },
    {
     "name": "stderr",
     "output_type": "stream",
     "text": [
      "Processed word: ওকণি:  12%|██▏               | 156/1317 [01:48<06:00,  3.22it/s]"
     ]
    },
    {
     "name": "stdout",
     "output_type": "stream",
     "text": [
      "লেখি\n",
      "বিঢ়া\n",
      "ফুটনি\n",
      "পিজলা\n",
      "চেখৰা\n"
     ]
    },
    {
     "name": "stderr",
     "output_type": "stream",
     "text": [
      "Processed word: ওখ:  12%|██▍                 | 157/1317 [01:49<05:43,  3.38it/s]"
     ]
    },
    {
     "name": "stdout",
     "output_type": "stream",
     "text": [
      "হটঙা\n",
      "চৰা\n",
      "তুংগ\n",
      "উচ্চ\n",
      "উচ্চতা\n"
     ]
    },
    {
     "name": "stderr",
     "output_type": "stream",
     "text": [
      "Processed word: ওখল:  12%|██▎                | 158/1317 [01:49<05:33,  3.47it/s]"
     ]
    },
    {
     "name": "stdout",
     "output_type": "stream",
     "text": [
      "মলি\n",
      "ময়লা\n"
     ]
    },
    {
     "name": "stderr",
     "output_type": "stream",
     "text": [
      "Processed word: ওজা:  12%|██▎                | 159/1317 [01:49<05:40,  3.40it/s]"
     ]
    },
    {
     "name": "stdout",
     "output_type": "stream",
     "text": [
      "যাদুকৰ\n"
     ]
    },
    {
     "name": "stderr",
     "output_type": "stream",
     "text": [
      "Processed word: ওৰ:  13%|██▌                 | 165/1317 [01:51<05:27,  3.52it/s]"
     ]
    },
    {
     "name": "stdout",
     "output_type": "stream",
     "text": [
      "শেষ\n",
      "সামৰণি\n",
      "সাং\n",
      "ইতি\n",
      "খতম\n",
      "অন্ত\n",
      "সমাপ্তি\n"
     ]
    },
    {
     "name": "stderr",
     "output_type": "stream",
     "text": [
      "Processed word: কঁটা:  13%|██▎               | 169/1317 [01:52<05:42,  3.35it/s]"
     ]
    },
    {
     "name": "stdout",
     "output_type": "stream",
     "text": [
      "হুল\n",
      "মঘা\n"
     ]
    },
    {
     "name": "stderr",
     "output_type": "stream",
     "text": [
      "Processed word: কঁপা:  13%|██▎               | 171/1317 [01:53<05:45,  3.32it/s]"
     ]
    },
    {
     "name": "stdout",
     "output_type": "stream",
     "text": [
      "লৰা\n"
     ]
    },
    {
     "name": "stderr",
     "output_type": "stream",
     "text": [
      "Processed word: কঁহ:  13%|██▍                | 172/1317 [01:53<05:37,  3.39it/s]"
     ]
    },
    {
     "name": "stdout",
     "output_type": "stream",
     "text": [
      "মামৰ\n",
      "মৰিচা\n"
     ]
    },
    {
     "name": "stderr",
     "output_type": "stream",
     "text": [
      "Processed word: কইনা:  13%|██▍               | 175/1317 [01:54<05:52,  3.24it/s]"
     ]
    },
    {
     "name": "stdout",
     "output_type": "stream",
     "text": [
      "ন-বোৱাৰী\n",
      "ন-ছোৱালী\n"
     ]
    },
    {
     "name": "stderr",
     "output_type": "stream",
     "text": [
      "Processed word: ককা:  13%|██▌                | 177/1317 [01:55<05:50,  3.26it/s]"
     ]
    },
    {
     "name": "stdout",
     "output_type": "stream",
     "text": [
      "দাদা\n",
      "দদা\n"
     ]
    },
    {
     "name": "stderr",
     "output_type": "stream",
     "text": [
      "Processed word: কটি:  14%|██▌                | 181/1317 [01:56<05:35,  3.39it/s]"
     ]
    },
    {
     "name": "stdout",
     "output_type": "stream",
     "text": [
      "টিকা\n",
      "তপিনা\n"
     ]
    },
    {
     "name": "stderr",
     "output_type": "stream",
     "text": [
      "Processed word: কণী:  14%|██▋                | 183/1317 [01:56<05:33,  3.40it/s]"
     ]
    },
    {
     "name": "stdout",
     "output_type": "stream",
     "text": [
      "ডিম\n",
      "ডিমা\n"
     ]
    },
    {
     "name": "stderr",
     "output_type": "stream",
     "text": [
      "Processed word: কপাহ:  14%|██▌               | 185/1317 [01:57<05:37,  3.35it/s]"
     ]
    },
    {
     "name": "stdout",
     "output_type": "stream",
     "text": [
      "তুলা\n"
     ]
    },
    {
     "name": "stderr",
     "output_type": "stream",
     "text": [
      "Processed word: কলহ:  15%|██▊                | 192/1317 [01:59<05:27,  3.44it/s]"
     ]
    },
    {
     "name": "stdout",
     "output_type": "stream",
     "text": [
      "টেকেলি\n",
      "ঘটি\n",
      "চৰু\n"
     ]
    },
    {
     "name": "stderr",
     "output_type": "stream",
     "text": [
      "Processed word: কাঁইট:  15%|██▌              | 198/1317 [02:01<05:45,  3.24it/s]"
     ]
    },
    {
     "name": "stdout",
     "output_type": "stream",
     "text": [
      "হুল\n",
      "মঘা\n"
     ]
    },
    {
     "name": "stderr",
     "output_type": "stream",
     "text": [
      "Processed word: কাঁকৈ:  15%|██▌              | 199/1317 [02:01<05:32,  3.37it/s]"
     ]
    },
    {
     "name": "stdout",
     "output_type": "stream",
     "text": [
      "ফণি\n"
     ]
    },
    {
     "name": "stderr",
     "output_type": "stream",
     "text": [
      "Processed word: কাঁচ:  15%|██▋               | 200/1317 [02:01<05:19,  3.50it/s]"
     ]
    },
    {
     "name": "stdout",
     "output_type": "stream",
     "text": [
      "ছিছা\n"
     ]
    },
    {
     "name": "stderr",
     "output_type": "stream",
     "text": [
      "Processed word: কাঁটা:  15%|██▌              | 202/1317 [02:10<38:53,  2.09s/it]"
     ]
    },
    {
     "name": "stdout",
     "output_type": "stream",
     "text": [
      "হুল\n",
      "মঘা\n"
     ]
    },
    {
     "name": "stderr",
     "output_type": "stream",
     "text": [
      "Processed word: কাকৈ:  16%|██▊               | 207/1317 [02:12<10:50,  1.71it/s]"
     ]
    },
    {
     "name": "stdout",
     "output_type": "stream",
     "text": [
      "ফণী\n"
     ]
    },
    {
     "name": "stderr",
     "output_type": "stream",
     "text": [
      "Processed word: কাচ:  16%|███                | 208/1317 [02:12<08:58,  2.06it/s]"
     ]
    },
    {
     "name": "stdout",
     "output_type": "stream",
     "text": [
      "ছিছা\n"
     ]
    },
    {
     "name": "stderr",
     "output_type": "stream",
     "text": [
      "Processed word: কানি:  17%|██▉               | 219/1317 [02:15<05:38,  3.25it/s]"
     ]
    },
    {
     "name": "stdout",
     "output_type": "stream",
     "text": [
      "আফিং\n",
      "কাপোৰ\n"
     ]
    },
    {
     "name": "stderr",
     "output_type": "stream",
     "text": [
      "Processed word: কাপুৰ:  17%|██▉              | 224/1317 [02:17<05:27,  3.34it/s]"
     ]
    },
    {
     "name": "stdout",
     "output_type": "stream",
     "text": [
      "কানি\n"
     ]
    },
    {
     "name": "stderr",
     "output_type": "stream",
     "text": [
      "Processed word: কাপোৰ:  17%|██▉              | 225/1317 [02:17<05:21,  3.40it/s]"
     ]
    },
    {
     "name": "stdout",
     "output_type": "stream",
     "text": [
      "কানি\n"
     ]
    },
    {
     "name": "stderr",
     "output_type": "stream",
     "text": [
      "Processed word: কালি:  17%|███               | 228/1317 [02:18<05:13,  3.48it/s]"
     ]
    },
    {
     "name": "stdout",
     "output_type": "stream",
     "text": [
      "কাইলৈ\n"
     ]
    },
    {
     "name": "stderr",
     "output_type": "stream",
     "text": [
      "Processed word: কাহিনী:  18%|██▊             | 233/1317 [02:20<05:08,  3.51it/s]"
     ]
    },
    {
     "name": "stdout",
     "output_type": "stream",
     "text": [
      "সাধু\n",
      "গল্প\n"
     ]
    },
    {
     "name": "stderr",
     "output_type": "stream",
     "text": [
      "Processed word: কিছু:  18%|███▏              | 237/1317 [02:21<05:14,  3.44it/s]"
     ]
    },
    {
     "name": "stdout",
     "output_type": "stream",
     "text": [
      "অলপ\n"
     ]
    },
    {
     "name": "stderr",
     "output_type": "stream",
     "text": [
      "Processed word: কিয়:  18%|███▎              | 240/1317 [02:22<05:18,  3.38it/s]"
     ]
    },
    {
     "name": "stdout",
     "output_type": "stream",
     "text": [
      "কেলেই\n",
      "কি কাৰণে\n",
      "কি নিমিত্তে\n",
      "কিহৰ কাৰণে\n"
     ]
    },
    {
     "name": "stderr",
     "output_type": "stream",
     "text": [
      "Processed word: কিলাকুটি:  18%|██▌           | 241/1317 [02:22<05:19,  3.37it/s]"
     ]
    },
    {
     "name": "stdout",
     "output_type": "stream",
     "text": [
      "কিল\n"
     ]
    },
    {
     "name": "stderr",
     "output_type": "stream",
     "text": [
      "Processed word: কুঁজ:  18%|███▎              | 243/1317 [02:23<05:18,  3.37it/s]"
     ]
    },
    {
     "name": "stdout",
     "output_type": "stream",
     "text": [
      "চুট\n"
     ]
    },
    {
     "name": "stderr",
     "output_type": "stream",
     "text": [
      "Processed word: কুঁৱা:  19%|███▏             | 245/1317 [02:23<05:48,  3.08it/s]"
     ]
    },
    {
     "name": "stdout",
     "output_type": "stream",
     "text": [
      "নাদ\n",
      "লান্দ\n",
      "লাহ্না\n",
      "ইন্দ্রা\n",
      "পাটকি\n",
      "পাটনাদ\n"
     ]
    },
    {
     "name": "stderr",
     "output_type": "stream",
     "text": [
      "Processed word: কুঁৱৰী:  19%|██▉             | 246/1317 [02:24<05:37,  3.18it/s]"
     ]
    },
    {
     "name": "stdout",
     "output_type": "stream",
     "text": [
      "ৰাজকুমাৰী\n",
      "ৰাণী\n"
     ]
    },
    {
     "name": "stderr",
     "output_type": "stream",
     "text": [
      "Processed word: কুটা:  19%|███▍              | 250/1317 [02:25<05:28,  3.25it/s]"
     ]
    },
    {
     "name": "stdout",
     "output_type": "stream",
     "text": [
      "থহা\n",
      "থাহা\n"
     ]
    },
    {
     "name": "stderr",
     "output_type": "stream",
     "text": [
      "Processed word: কুটুম:  19%|███▏             | 251/1317 [02:25<05:10,  3.43it/s]"
     ]
    },
    {
     "name": "stdout",
     "output_type": "stream",
     "text": [
      "মিতিৰ\n",
      "আপোন\n",
      "বঙহ\n"
     ]
    },
    {
     "name": "stderr",
     "output_type": "stream",
     "text": [
      "Processed word: কুমাৰ:  19%|███▎             | 254/1317 [02:26<05:09,  3.44it/s]"
     ]
    },
    {
     "name": "stdout",
     "output_type": "stream",
     "text": [
      "হিৰা\n"
     ]
    },
    {
     "name": "stderr",
     "output_type": "stream",
     "text": [
      "Processed word: কৃষ্ণ:  20%|███▎             | 258/1317 [02:27<04:59,  3.53it/s]"
     ]
    },
    {
     "name": "stdout",
     "output_type": "stream",
     "text": [
      "ক’লা\n"
     ]
    },
    {
     "name": "stderr",
     "output_type": "stream",
     "text": [
      "Processed word: কেঁথা:  20%|███▍             | 264/1317 [02:29<04:53,  3.59it/s]"
     ]
    },
    {
     "name": "stdout",
     "output_type": "stream",
     "text": [
      "দগলা\n",
      "নিহালি\n"
     ]
    },
    {
     "name": "stderr",
     "output_type": "stream",
     "text": [
      "Processed word: কেন্দ্ৰ:  20%|███            | 267/1317 [02:30<04:59,  3.50it/s]"
     ]
    },
    {
     "name": "stdout",
     "output_type": "stream",
     "text": [
      "মাজ\n"
     ]
    },
    {
     "name": "stderr",
     "output_type": "stream",
     "text": [
      "Processed word: কোঁৱৰ:  21%|███▍             | 270/1317 [02:30<05:05,  3.42it/s]"
     ]
    },
    {
     "name": "stdout",
     "output_type": "stream",
     "text": [
      "ৰাজকুমাৰ\n"
     ]
    },
    {
     "name": "stderr",
     "output_type": "stream",
     "text": [
      "Processed word: কোদাল:  21%|███▌             | 272/1317 [02:31<05:08,  3.39it/s]"
     ]
    },
    {
     "name": "stdout",
     "output_type": "stream",
     "text": [
      "কোৰ\n",
      "কোৰোণা\n"
     ]
    },
    {
     "name": "stderr",
     "output_type": "stream",
     "text": [
      "Processed word: কোৰ:  21%|███▉               | 275/1317 [02:32<05:22,  3.23it/s]"
     ]
    },
    {
     "name": "stdout",
     "output_type": "stream",
     "text": [
      "কোদাল\n",
      "কোদালি\n"
     ]
    },
    {
     "name": "stderr",
     "output_type": "stream",
     "text": [
      "Processed word: কোৱা:  21%|███▊              | 276/1317 [02:32<05:25,  3.20it/s]"
     ]
    },
    {
     "name": "stdout",
     "output_type": "stream",
     "text": [
      "কথা কোৱা\n"
     ]
    },
    {
     "name": "stderr",
     "output_type": "stream",
     "text": [
      "Processed word: খং:  21%|████▎               | 281/1317 [03:05<44:06,  2.55s/it]"
     ]
    },
    {
     "name": "stdout",
     "output_type": "stream",
     "text": [
      "ৰাগ\n",
      "ফাই\n",
      "কোপ\n",
      "ক্ৰোধ\n"
     ]
    },
    {
     "name": "stderr",
     "output_type": "stream",
     "text": [
      "Processed word: খা:  22%|████▍               | 289/1317 [03:08<07:32,  2.27it/s]"
     ]
    },
    {
     "name": "stdout",
     "output_type": "stream",
     "text": [
      "পি\n",
      "পি খা\n",
      "হুপ\n"
     ]
    },
    {
     "name": "stderr",
     "output_type": "stream",
     "text": [
      "Processed word: খাল:  22%|████▎              | 295/1317 [03:10<05:48,  2.93it/s]"
     ]
    },
    {
     "name": "stdout",
     "output_type": "stream",
     "text": [
      "নলা\n",
      "লোৰ\n",
      "নলা\n"
     ]
    },
    {
     "name": "stderr",
     "output_type": "stream",
     "text": [
      "Processed word: খাৰু:  22%|████              | 296/1317 [03:10<05:29,  3.10it/s]"
     ]
    },
    {
     "name": "stdout",
     "output_type": "stream",
     "text": [
      "চুড়ি\n",
      "টাৰ\n"
     ]
    },
    {
     "name": "stderr",
     "output_type": "stream",
     "text": [
      "Processed word: খীৰ:  23%|████▎              | 298/1317 [03:10<05:18,  3.20it/s]"
     ]
    },
    {
     "name": "stdout",
     "output_type": "stream",
     "text": [
      "খিৰিসা\n",
      "গাখীৰ\n",
      "দুধ\n",
      "গাখীৰ\n",
      "দুধ\n"
     ]
    },
    {
     "name": "stderr",
     "output_type": "stream",
     "text": [
      "Processed word: খুদ:  23%|████▎              | 301/1317 [03:11<05:03,  3.35it/s]"
     ]
    },
    {
     "name": "stdout",
     "output_type": "stream",
     "text": [
      "সৰু\n",
      "অকণমান\n",
      "অকণমানি\n"
     ]
    },
    {
     "name": "stderr",
     "output_type": "stream",
     "text": [
      "Processed word: খুৰা:  23%|████▏             | 303/1317 [03:12<05:05,  3.31it/s]"
     ]
    },
    {
     "name": "stdout",
     "output_type": "stream",
     "text": [
      "দদাই\n"
     ]
    },
    {
     "name": "stderr",
     "output_type": "stream",
     "text": [
      "Processed word: খেৰ:  23%|████▍              | 307/1317 [03:13<04:53,  3.44it/s]"
     ]
    },
    {
     "name": "stdout",
     "output_type": "stream",
     "text": [
      "নৰা\n"
     ]
    },
    {
     "name": "stderr",
     "output_type": "stream",
     "text": [
      "Processed word: খৰ:  23%|████▋               | 309/1317 [03:14<05:05,  3.30it/s]"
     ]
    },
    {
     "name": "stdout",
     "output_type": "stream",
     "text": [
      "খৰালি\n"
     ]
    },
    {
     "name": "stderr",
     "output_type": "stream",
     "text": [
      "Processed word: গঢ়া:  24%|████▎             | 314/1317 [03:15<05:14,  3.19it/s]"
     ]
    },
    {
     "name": "stdout",
     "output_type": "stream",
     "text": [
      "গঢ় দিয়া\n",
      "সজা\n",
      "বনোৱা\n"
     ]
    },
    {
     "name": "stderr",
     "output_type": "stream",
     "text": [
      "Processed word: গণা:  24%|████▌              | 315/1317 [03:15<05:14,  3.18it/s]"
     ]
    },
    {
     "name": "stdout",
     "output_type": "stream",
     "text": [
      "হিচাপ কৰা\n"
     ]
    },
    {
     "name": "stderr",
     "output_type": "stream",
     "text": [
      "Processed word: গণিত:  24%|████▎             | 316/1317 [03:16<05:10,  3.22it/s]"
     ]
    },
    {
     "name": "stdout",
     "output_type": "stream",
     "text": [
      "অংক\n"
     ]
    },
    {
     "name": "stderr",
     "output_type": "stream",
     "text": [
      "Processed word: গম:  24%|████▊               | 318/1317 [03:16<05:03,  3.29it/s]"
     ]
    },
    {
     "name": "stdout",
     "output_type": "stream",
     "text": [
      "ঘেঁহু\n"
     ]
    },
    {
     "name": "stderr",
     "output_type": "stream",
     "text": [
      "Processed word: গল:  24%|████▊               | 319/1317 [03:17<04:58,  3.35it/s]"
     ]
    },
    {
     "name": "stdout",
     "output_type": "stream",
     "text": [
      "ডিঙি\n"
     ]
    },
    {
     "name": "stderr",
     "output_type": "stream",
     "text": [
      "Processed word: গা:  24%|████▉               | 322/1317 [03:18<05:25,  3.06it/s]"
     ]
    },
    {
     "name": "stdout",
     "output_type": "stream",
     "text": [
      "দেহা\n",
      "শৰীৰ\n",
      "কায়া\n"
     ]
    },
    {
     "name": "stderr",
     "output_type": "stream",
     "text": [
      "Processed word: গাঁৰ:  25%|████▍             | 327/1317 [03:19<04:43,  3.50it/s]"
     ]
    },
    {
     "name": "stdout",
     "output_type": "stream",
     "text": [
      "বিহ-ফোঁহোৰা\n"
     ]
    },
    {
     "name": "stderr",
     "output_type": "stream",
     "text": [
      "Processed word: গাঁৰু:  25%|████▏            | 329/1317 [03:20<04:47,  3.44it/s]"
     ]
    },
    {
     "name": "stdout",
     "output_type": "stream",
     "text": [
      "বালিছ\n"
     ]
    },
    {
     "name": "stderr",
     "output_type": "stream",
     "text": [
      "Processed word: গাং:  25%|████▊              | 330/1317 [03:20<05:03,  3.25it/s]"
     ]
    },
    {
     "name": "stdout",
     "output_type": "stream",
     "text": [
      "নৈ\n"
     ]
    },
    {
     "name": "stderr",
     "output_type": "stream",
     "text": [
      "Processed word: গাউ:  25%|████▊              | 332/1317 [03:21<05:07,  3.20it/s]"
     ]
    },
    {
     "name": "stdout",
     "output_type": "stream",
     "text": [
      "দেহা\n",
      "শৰীল\n"
     ]
    },
    {
     "name": "stderr",
     "output_type": "stream",
     "text": [
      "Processed word: গাধ:  25%|████▊              | 334/1317 [03:21<04:48,  3.40it/s]"
     ]
    },
    {
     "name": "stdout",
     "output_type": "stream",
     "text": [
      "মূৰ্খ\n"
     ]
    },
    {
     "name": "stderr",
     "output_type": "stream",
     "text": [
      "Processed word: গু:  26%|█████▏              | 340/1317 [03:23<04:57,  3.28it/s]"
     ]
    },
    {
     "name": "stdout",
     "output_type": "stream",
     "text": [
      "হগা\n",
      "পাইখেনা\n",
      "শৌচ\n",
      "মল\n",
      "গোবৰ\n"
     ]
    },
    {
     "name": "stderr",
     "output_type": "stream",
     "text": [
      "Processed word: গুটি:  26%|████▋             | 342/1317 [03:24<04:58,  3.27it/s]"
     ]
    },
    {
     "name": "stdout",
     "output_type": "stream",
     "text": [
      "বীজ\n"
     ]
    },
    {
     "name": "stderr",
     "output_type": "stream",
     "text": [
      "Processed word: গুপ্ত:  26%|████▍            | 346/1317 [03:25<04:28,  3.62it/s]"
     ]
    },
    {
     "name": "stdout",
     "output_type": "stream",
     "text": [
      "গোপন\n",
      "লুকুৱা\n"
     ]
    },
    {
     "name": "stderr",
     "output_type": "stream",
     "text": [
      "Processed word: গুৰি:  27%|████▊             | 350/1317 [03:26<04:50,  3.33it/s]"
     ]
    },
    {
     "name": "stdout",
     "output_type": "stream",
     "text": [
      "গোৰ\n",
      "শিপা\n",
      "ওচৰ\n",
      "লাথ\n",
      "গোৰ\n"
     ]
    },
    {
     "name": "stderr",
     "output_type": "stream",
     "text": [
      "Processed word: গুৰুবাৰ:  27%|███▉           | 351/1317 [03:26<04:38,  3.47it/s]"
     ]
    },
    {
     "name": "stdout",
     "output_type": "stream",
     "text": [
      "বৃহস্পতিবাৰ\n"
     ]
    },
    {
     "name": "stderr",
     "output_type": "stream",
     "text": [
      "Processed word: গেলা:  27%|████▊             | 353/1317 [03:27<04:49,  3.33it/s]"
     ]
    },
    {
     "name": "stdout",
     "output_type": "stream",
     "text": [
      "পচা\n",
      "পচা\n"
     ]
    },
    {
     "name": "stderr",
     "output_type": "stream",
     "text": [
      "Processed word: গোপন:  27%|████▊             | 355/1317 [03:27<04:35,  3.50it/s]"
     ]
    },
    {
     "name": "stdout",
     "output_type": "stream",
     "text": [
      "গুপ্ত\n",
      "লুকুৱা\n"
     ]
    },
    {
     "name": "stderr",
     "output_type": "stream",
     "text": [
      "Processed word: গোবৰ:  27%|████▊             | 356/1317 [03:28<04:29,  3.57it/s]"
     ]
    },
    {
     "name": "stdout",
     "output_type": "stream",
     "text": [
      "গু\n"
     ]
    },
    {
     "name": "stderr",
     "output_type": "stream",
     "text": [
      "Processed word: গোল:  27%|█████▏             | 358/1317 [03:28<04:30,  3.54it/s]"
     ]
    },
    {
     "name": "stdout",
     "output_type": "stream",
     "text": [
      "ঘূৰণীয়া\n",
      "টুপুৰা\n",
      "ধেপেচা\n",
      "নোদোকা\n",
      "লোদোৰ-পোদোৰ\n",
      "লোধোমা\n",
      "নিপোটল\n",
      "লোধোপা\n",
      "নোকোহা\n",
      "থোলোকা\n",
      "মঙহাল\n",
      "দবহা\n",
      "থোপোৰা\n",
      "লোদোৰা\n",
      "লোধোৰা\n",
      "গাঠলু\n"
     ]
    },
    {
     "name": "stderr",
     "output_type": "stream",
     "text": [
      "Processed word: গোৰ:  27%|█████▏             | 362/1317 [03:29<04:27,  3.57it/s]"
     ]
    },
    {
     "name": "stdout",
     "output_type": "stream",
     "text": [
      "লাথ\n"
     ]
    },
    {
     "name": "stderr",
     "output_type": "stream",
     "text": [
      "Processed word: গ্ৰন্থ:  28%|████▍           | 364/1317 [03:30<04:12,  3.78it/s]"
     ]
    },
    {
     "name": "stdout",
     "output_type": "stream",
     "text": [
      "কিতাপ\n",
      "পুথি\n"
     ]
    },
    {
     "name": "stderr",
     "output_type": "stream",
     "text": [
      "Processed word: গৰু:  28%|█████▎             | 366/1317 [03:30<04:39,  3.40it/s]"
     ]
    },
    {
     "name": "stdout",
     "output_type": "stream",
     "text": [
      "মূৰ্খ\n",
      "বুৰ্বক\n",
      "অঁকৰা\n"
     ]
    },
    {
     "name": "stderr",
     "output_type": "stream",
     "text": [
      "Processed word: গৰৈ:  28%|█████▎             | 367/1317 [03:31<04:50,  3.27it/s]"
     ]
    },
    {
     "name": "stdout",
     "output_type": "stream",
     "text": [
      "শ’ল\n"
     ]
    },
    {
     "name": "stderr",
     "output_type": "stream",
     "text": [
      "Processed word: ঘঁহা:  28%|█████             | 368/1317 [03:31<04:54,  3.22it/s]"
     ]
    },
    {
     "name": "stdout",
     "output_type": "stream",
     "text": [
      "মজা\n",
      "মাজা\n",
      "পিহা\n",
      "মজা\n",
      "মাজা\n",
      "পিহা\n"
     ]
    },
    {
     "name": "stderr",
     "output_type": "stream",
     "text": [
      "Processed word: ঘা:  28%|█████▋              | 372/1317 [03:32<04:34,  3.44it/s]"
     ]
    },
    {
     "name": "stdout",
     "output_type": "stream",
     "text": [
      "জখম\n",
      "চোট\n",
      "দুখ\n",
      "আঘাত\n"
     ]
    },
    {
     "name": "stderr",
     "output_type": "stream",
     "text": [
      "Processed word: ঘাই:  28%|█████▍             | 374/1317 [03:33<04:18,  3.64it/s]"
     ]
    },
    {
     "name": "stdout",
     "output_type": "stream",
     "text": [
      "আচল\n",
      "প্ৰধান\n"
     ]
    },
    {
     "name": "stderr",
     "output_type": "stream",
     "text": [
      "Processed word: ঘাম:  29%|█████▍             | 377/1317 [03:34<04:39,  3.36it/s]"
     ]
    },
    {
     "name": "stdout",
     "output_type": "stream",
     "text": [
      "ঘাম ওলা\n"
     ]
    },
    {
     "name": "stderr",
     "output_type": "stream",
     "text": [
      "Processed word: ঘিঁউ:  29%|████▋           | 381/1317 [04:06<1:16:42,  4.92s/it]"
     ]
    },
    {
     "name": "stdout",
     "output_type": "stream",
     "text": [
      "মগজু\n",
      "শেঙুন\n"
     ]
    },
    {
     "name": "stderr",
     "output_type": "stream",
     "text": [
      "Processed word: ঘিণ:  29%|█████▌             | 382/1317 [04:07<54:58,  3.53s/it]"
     ]
    },
    {
     "name": "stdout",
     "output_type": "stream",
     "text": [
      "আখেজ\n",
      "হনিয়া-হনি\n"
     ]
    },
    {
     "name": "stderr",
     "output_type": "stream",
     "text": [
      "Processed word: ঘৈণী:  29%|█████▏            | 384/1317 [04:07<29:10,  1.88s/it]"
     ]
    },
    {
     "name": "stdout",
     "output_type": "stream",
     "text": [
      "পত্নী\n",
      "জায়া\n",
      "দাৰ\n",
      "স্ত্ৰী\n",
      "ল’ৰহঁতৰ মাক\n",
      "ভাৰ্য্যা\n",
      "জানি\n"
     ]
    },
    {
     "name": "stderr",
     "output_type": "stream",
     "text": [
      "Processed word: ঘোষণা:  29%|████▉            | 387/1317 [04:08<13:04,  1.19it/s]"
     ]
    },
    {
     "name": "stdout",
     "output_type": "stream",
     "text": [
      "জাননী\n"
     ]
    },
    {
     "name": "stderr",
     "output_type": "stream",
     "text": [
      "Processed word: ঘৰা:  30%|█████▌             | 389/1317 [04:09<08:36,  1.80it/s]"
     ]
    },
    {
     "name": "stdout",
     "output_type": "stream",
     "text": [
      "চাক\n",
      "ৰহঘৰা\n",
      "মৌ-কোঁহ\n",
      "মৌ-বিচনী\n"
     ]
    },
    {
     "name": "stderr",
     "output_type": "stream",
     "text": [
      "Processed word: চকু:  30%|█████▋             | 392/1317 [04:10<06:08,  2.51it/s]"
     ]
    },
    {
     "name": "stdout",
     "output_type": "stream",
     "text": [
      "নয়ন\n",
      "আখি\n"
     ]
    },
    {
     "name": "stderr",
     "output_type": "stream",
     "text": [
      "Processed word: চখু:  30%|█████▋             | 395/1317 [04:11<05:00,  3.06it/s]"
     ]
    },
    {
     "name": "stdout",
     "output_type": "stream",
     "text": [
      "নয়ন\n",
      "আখি\n"
     ]
    },
    {
     "name": "stderr",
     "output_type": "stream",
     "text": [
      "Processed word: চন:  30%|██████              | 397/1317 [04:11<04:42,  3.26it/s]"
     ]
    },
    {
     "name": "stdout",
     "output_type": "stream",
     "text": [
      "বছৰ\n"
     ]
    },
    {
     "name": "stderr",
     "output_type": "stream",
     "text": [
      "Processed word: চন্দ্ৰ:  30%|████▊           | 398/1317 [04:11<04:44,  3.23it/s]"
     ]
    },
    {
     "name": "stdout",
     "output_type": "stream",
     "text": [
      "জোন\n"
     ]
    },
    {
     "name": "stderr",
     "output_type": "stream",
     "text": [
      "Processed word: চাঁদ:  30%|█████▍            | 400/1317 [04:12<05:00,  3.05it/s]"
     ]
    },
    {
     "name": "stdout",
     "output_type": "stream",
     "text": [
      "জোন\n"
     ]
    },
    {
     "name": "stderr",
     "output_type": "stream",
     "text": [
      "Collected 400 word pairs, sleeping for 6.7424060534993755 seconds:  30%|▎| 400/1"
     ]
    },
    {
     "name": "stdout",
     "output_type": "stream",
     "text": [
      "মৌ-কোঁহ\n",
      "ঘৰা\n",
      "ৰহঘৰা\n",
      "মৌ-বিচনী\n",
      "মৌ-কোঁহ\n",
      "ঘৰা\n",
      "ৰহঘৰা\n",
      "মৌ-বিচনী\n",
      "আঠালি\n"
     ]
    },
    {
     "name": "stderr",
     "output_type": "stream",
     "text": [
      "Processed word: চাকা:  31%|█████▍            | 402/1317 [04:20<26:36,  1.74s/it]"
     ]
    },
    {
     "name": "stdout",
     "output_type": "stream",
     "text": [
      "বেলি\n"
     ]
    },
    {
     "name": "stderr",
     "output_type": "stream",
     "text": [
      "Processed word: চাকি:  31%|█████▌            | 403/1317 [04:20<19:46,  1.30s/it]"
     ]
    },
    {
     "name": "stdout",
     "output_type": "stream",
     "text": [
      "মালা\n",
      "বন্তি\n"
     ]
    },
    {
     "name": "stderr",
     "output_type": "stream",
     "text": [
      "Processed word: চান:  31%|█████▊             | 406/1317 [04:21<09:41,  1.57it/s]"
     ]
    },
    {
     "name": "stdout",
     "output_type": "stream",
     "text": [
      "জোন\n"
     ]
    },
    {
     "name": "stderr",
     "output_type": "stream",
     "text": [
      "Processed word: চান্দ:  31%|█████▎           | 407/1317 [04:21<08:02,  1.89it/s]"
     ]
    },
    {
     "name": "stdout",
     "output_type": "stream",
     "text": [
      "জোন\n"
     ]
    },
    {
     "name": "stderr",
     "output_type": "stream",
     "text": [
      "Processed word: চিকিৎসক:  31%|████▋          | 412/1317 [04:22<04:58,  3.03it/s]"
     ]
    },
    {
     "name": "stdout",
     "output_type": "stream",
     "text": [
      "ডাক্তৰ\n"
     ]
    },
    {
     "name": "stderr",
     "output_type": "stream",
     "text": [
      "Processed word: চিন:  31%|█████▉             | 414/1317 [04:23<04:42,  3.20it/s]"
     ]
    },
    {
     "name": "stdout",
     "output_type": "stream",
     "text": [
      "নিচান\n",
      "কেতু\n",
      "প্ৰতীক\n",
      "লক্ষণ\n"
     ]
    },
    {
     "name": "stderr",
     "output_type": "stream",
     "text": [
      "Processed word: চিনা:  32%|█████▋            | 415/1317 [04:23<04:44,  3.17it/s]"
     ]
    },
    {
     "name": "stdout",
     "output_type": "stream",
     "text": [
      "জনা\n",
      "জানা\n"
     ]
    },
    {
     "name": "stderr",
     "output_type": "stream",
     "text": [
      "Processed word: চিন্তা:  32%|█████           | 416/1317 [04:24<04:47,  3.13it/s]"
     ]
    },
    {
     "name": "stdout",
     "output_type": "stream",
     "text": [
      "ভাৱনা\n",
      "ভবা\n"
     ]
    },
    {
     "name": "stderr",
     "output_type": "stream",
     "text": [
      "Processed word: চিলনী:  32%|█████▍           | 417/1317 [04:24<04:31,  3.31it/s]"
     ]
    },
    {
     "name": "stdout",
     "output_type": "stream",
     "text": [
      "শেন চৰাই\n"
     ]
    },
    {
     "name": "stderr",
     "output_type": "stream",
     "text": [
      "Processed word: চিৰতা:  32%|█████▍           | 419/1317 [04:24<04:23,  3.41it/s]"
     ]
    },
    {
     "name": "stdout",
     "output_type": "stream",
     "text": [
      "কালমেঘ\n",
      "মহা-তিতা\n"
     ]
    },
    {
     "name": "stderr",
     "output_type": "stream",
     "text": [
      "Processed word: চুঁৱৰী:  32%|█████▏          | 423/1317 [04:26<04:32,  3.29it/s]"
     ]
    },
    {
     "name": "stdout",
     "output_type": "stream",
     "text": [
      "চুঁৱৰী পহু\n",
      "চুঁৱৰী গাই\n",
      "চমৰী গৰু\n",
      "য়াক\n"
     ]
    },
    {
     "name": "stderr",
     "output_type": "stream",
     "text": [
      "Processed word: চুঁৱৰী গাই:  32%|███▊        | 424/1317 [04:26<04:32,  3.28it/s]"
     ]
    },
    {
     "name": "stdout",
     "output_type": "stream",
     "text": [
      "চুঁৱৰী পহু\n",
      "চমৰী গৰু\n",
      "য়াক\n"
     ]
    },
    {
     "name": "stderr",
     "output_type": "stream",
     "text": [
      "Processed word: চুঁৱৰী পহু:  32%|███▊        | 425/1317 [04:26<04:32,  3.27it/s]"
     ]
    },
    {
     "name": "stdout",
     "output_type": "stream",
     "text": [
      "চুঁৱৰী গাই\n",
      "চমৰী গৰু\n",
      "য়াক\n"
     ]
    },
    {
     "name": "stderr",
     "output_type": "stream",
     "text": [
      "Processed word: চুটি:  32%|█████▊            | 426/1317 [04:27<04:21,  3.40it/s]"
     ]
    },
    {
     "name": "stdout",
     "output_type": "stream",
     "text": [
      "কুটুলা\n",
      "কুটকুৰা\n",
      "খাটা\n",
      "চাপৰ\n",
      "বুটা\n",
      "চুটি-চাপৰ\n",
      "চমু\n"
     ]
    },
    {
     "name": "stderr",
     "output_type": "stream",
     "text": [
      "Processed word: চুৰিয়া:  33%|████▉          | 430/1317 [04:28<03:59,  3.70it/s]"
     ]
    },
    {
     "name": "stdout",
     "output_type": "stream",
     "text": [
      "ধুতি\n",
      "ভুনি\n"
     ]
    },
    {
     "name": "stderr",
     "output_type": "stream",
     "text": [
      "Processed word: চেঁচা:  33%|█████▌           | 432/1317 [04:28<03:55,  3.76it/s]"
     ]
    },
    {
     "name": "stdout",
     "output_type": "stream",
     "text": [
      "ঠাণ্ডা\n"
     ]
    },
    {
     "name": "stderr",
     "output_type": "stream",
     "text": [
      "Processed word: চোতাল:  33%|█████▋           | 436/1317 [04:29<04:17,  3.42it/s]"
     ]
    },
    {
     "name": "stdout",
     "output_type": "stream",
     "text": [
      "আঙিনা\n"
     ]
    },
    {
     "name": "stderr",
     "output_type": "stream",
     "text": [
      "Processed word: চোবা:  33%|█████▉            | 437/1317 [04:30<04:22,  3.35it/s]"
     ]
    },
    {
     "name": "stdout",
     "output_type": "stream",
     "text": [
      "পকটীয়া\n"
     ]
    },
    {
     "name": "stderr",
     "output_type": "stream",
     "text": [
      "Processed word: চৌক:  33%|██████▎            | 440/1317 [04:31<04:18,  3.39it/s]"
     ]
    },
    {
     "name": "stdout",
     "output_type": "stream",
     "text": [
      "চাৰিআলি\n"
     ]
    },
    {
     "name": "stderr",
     "output_type": "stream",
     "text": [
      "Processed word: চৌকা:  33%|██████            | 441/1317 [04:31<04:19,  3.38it/s]"
     ]
    },
    {
     "name": "stdout",
     "output_type": "stream",
     "text": [
      "আখা\n",
      "চুলা\n",
      "ঘৰা\n",
      "আখল\n"
     ]
    },
    {
     "name": "stderr",
     "output_type": "stream",
     "text": [
      "Processed word: চৰ:  34%|██████▋             | 443/1317 [04:32<04:25,  3.29it/s]"
     ]
    },
    {
     "name": "stdout",
     "output_type": "stream",
     "text": [
      "থাপৰ\n",
      "চোৰাংচোৱা\n"
     ]
    },
    {
     "name": "stderr",
     "output_type": "stream",
     "text": [
      "Processed word: চৰাই:  34%|██████            | 445/1317 [04:32<04:25,  3.29it/s]"
     ]
    },
    {
     "name": "stdout",
     "output_type": "stream",
     "text": [
      "পখী\n"
     ]
    },
    {
     "name": "stderr",
     "output_type": "stream",
     "text": [
      "Processed word: ছবি:  34%|██████▍            | 450/1317 [04:34<04:13,  3.42it/s]"
     ]
    },
    {
     "name": "stdout",
     "output_type": "stream",
     "text": [
      "ফটো\n"
     ]
    },
    {
     "name": "stderr",
     "output_type": "stream",
     "text": [
      "Processed word: ছলি:  34%|██████▌            | 452/1317 [04:34<04:14,  3.40it/s]"
     ]
    },
    {
     "name": "stdout",
     "output_type": "stream",
     "text": [
      "ল’ৰা-ছোৱালী\n",
      "আপা\n",
      "ল’ৰা\n",
      "আপা\n",
      "ল’ৰা\n"
     ]
    },
    {
     "name": "stderr",
     "output_type": "stream",
     "text": [
      "Processed word: ছিঙা:  35%|██████▎           | 459/1317 [04:36<04:24,  3.24it/s]"
     ]
    },
    {
     "name": "stdout",
     "output_type": "stream",
     "text": [
      "চিৰা\n",
      "ফালা\n",
      "পাৰা\n"
     ]
    },
    {
     "name": "stderr",
     "output_type": "stream",
     "text": [
      "Processed word: ছুৰী:  35%|██████▎           | 461/1317 [04:37<04:19,  3.30it/s]"
     ]
    },
    {
     "name": "stdout",
     "output_type": "stream",
     "text": [
      "কটাৰী\n"
     ]
    },
    {
     "name": "stderr",
     "output_type": "stream",
     "text": [
      "Processed word: জগা:  35%|██████▋            | 463/1317 [04:38<04:38,  3.07it/s]"
     ]
    },
    {
     "name": "stdout",
     "output_type": "stream",
     "text": [
      "ওপজা\n",
      "জন্ম হোৱা\n",
      "জন্মলাভ কৰা\n"
     ]
    },
    {
     "name": "stderr",
     "output_type": "stream",
     "text": [
      "Processed word: জনপ্ৰিয়:  35%|████▉         | 465/1317 [04:38<04:09,  3.42it/s]"
     ]
    },
    {
     "name": "stdout",
     "output_type": "stream",
     "text": [
      "লোকপ্ৰিয়\n"
     ]
    },
    {
     "name": "stderr",
     "output_type": "stream",
     "text": [
      "Processed word: জনপ্ৰিয়তা:  35%|████▏       | 466/1317 [04:38<04:03,  3.50it/s]"
     ]
    },
    {
     "name": "stdout",
     "output_type": "stream",
     "text": [
      "লোকপ্ৰিয়তা\n"
     ]
    },
    {
     "name": "stderr",
     "output_type": "stream",
     "text": [
      "Processed word: জল:  36%|███████             | 469/1317 [04:39<04:02,  3.49it/s]"
     ]
    },
    {
     "name": "stdout",
     "output_type": "stream",
     "text": [
      "পানী\n"
     ]
    },
    {
     "name": "stderr",
     "output_type": "stream",
     "text": [
      "Processed word: জলা:  36%|██████▊            | 471/1317 [04:40<04:18,  3.27it/s]"
     ]
    },
    {
     "name": "stdout",
     "output_type": "stream",
     "text": [
      "বিষোৱা\n"
     ]
    },
    {
     "name": "stderr",
     "output_type": "stream",
     "text": [
      "Processed word: জলাহ:  36%|██████▍           | 472/1317 [04:40<04:24,  3.19it/s]"
     ]
    },
    {
     "name": "stdout",
     "output_type": "stream",
     "text": [
      "পিটনি\n",
      "পিতনি\n",
      "জলাশয়\n"
     ]
    },
    {
     "name": "stderr",
     "output_type": "stream",
     "text": [
      "Processed word: জাঁপ:  36%|██████▍           | 475/1317 [04:41<04:10,  3.36it/s]"
     ]
    },
    {
     "name": "stdout",
     "output_type": "stream",
     "text": [
      "লাফ\n"
     ]
    },
    {
     "name": "stderr",
     "output_type": "stream",
     "text": [
      "Processed word: জাং:  36%|██████▊            | 476/1317 [04:41<04:06,  3.41it/s]"
     ]
    },
    {
     "name": "stdout",
     "output_type": "stream",
     "text": [
      "উৰু\n",
      "কৰঙণ\n",
      "ফেৰা\n"
     ]
    },
    {
     "name": "stderr",
     "output_type": "stream",
     "text": [
      "Processed word: জাল:  37%|██████▉            | 484/1317 [04:44<04:02,  3.43it/s]"
     ]
    },
    {
     "name": "stdout",
     "output_type": "stream",
     "text": [
      "মকৰা-জাল\n"
     ]
    },
    {
     "name": "stderr",
     "output_type": "stream",
     "text": [
      "Processed word: জিকা:  37%|██████▋           | 486/1317 [04:44<04:00,  3.45it/s]"
     ]
    },
    {
     "name": "stdout",
     "output_type": "stream",
     "text": [
      "জিনা\n",
      "তিতা\n",
      "ভিজা\n",
      "তিতা\n",
      "ভিজা\n"
     ]
    },
    {
     "name": "stderr",
     "output_type": "stream",
     "text": [
      "Processed word: জী:  37%|███████▍            | 490/1317 [04:45<03:57,  3.49it/s]"
     ]
    },
    {
     "name": "stdout",
     "output_type": "stream",
     "text": [
      "ছোৱালী\n",
      "সুতা\n"
     ]
    },
    {
     "name": "stderr",
     "output_type": "stream",
     "text": [
      "Processed word: জীউ:  37%|███████            | 491/1317 [04:46<03:54,  3.53it/s]"
     ]
    },
    {
     "name": "stdout",
     "output_type": "stream",
     "text": [
      "জান\n",
      "জীৱন\n",
      "প্ৰাণ\n"
     ]
    },
    {
     "name": "stderr",
     "output_type": "stream",
     "text": [
      "Processed word: জীয়া:  37%|██████▎          | 493/1317 [04:46<04:14,  3.24it/s]"
     ]
    },
    {
     "name": "stdout",
     "output_type": "stream",
     "text": [
      "সতেজ\n",
      "তাজা\n"
     ]
    },
    {
     "name": "stderr",
     "output_type": "stream",
     "text": [
      "Processed word: জীৱ:  38%|███████▏           | 494/1317 [04:47<04:17,  3.20it/s]"
     ]
    },
    {
     "name": "stdout",
     "output_type": "stream",
     "text": [
      "জান\n",
      "জীৱন\n"
     ]
    },
    {
     "name": "stderr",
     "output_type": "stream",
     "text": [
      "Processed word: জীৱন:  38%|██████▊           | 495/1317 [04:47<04:05,  3.34it/s]"
     ]
    },
    {
     "name": "stdout",
     "output_type": "stream",
     "text": [
      "জীউ\n",
      "জান\n",
      "প্ৰাণ\n",
      "পৰাণ\n"
     ]
    },
    {
     "name": "stderr",
     "output_type": "stream",
     "text": [
      "Processed word: জীৱাণু:  38%|██████          | 496/1317 [04:47<03:55,  3.48it/s]"
     ]
    },
    {
     "name": "stdout",
     "output_type": "stream",
     "text": [
      "অণুজীৱ\n",
      "বেক্টেৰিয়া\n"
     ]
    },
    {
     "name": "stderr",
     "output_type": "stream",
     "text": [
      "Processed word: জুই:  38%|███████▏           | 497/1317 [04:48<03:55,  3.49it/s]"
     ]
    },
    {
     "name": "stdout",
     "output_type": "stream",
     "text": [
      "আগুনি\n",
      "অগ্নি\n"
     ]
    },
    {
     "name": "stderr",
     "output_type": "stream",
     "text": [
      "Processed word: জেকা:  38%|██████▊           | 498/1317 [04:48<03:54,  3.50it/s]"
     ]
    },
    {
     "name": "stdout",
     "output_type": "stream",
     "text": [
      "সেমেকা\n",
      "সেমেকা\n"
     ]
    },
    {
     "name": "stderr",
     "output_type": "stream",
     "text": [
      "Processed word: জেঠী:  38%|██████▊           | 500/1317 [04:48<03:53,  3.50it/s]"
     ]
    },
    {
     "name": "stdout",
     "output_type": "stream",
     "text": [
      "সাপ\n",
      "জেঠাই\n",
      "বৰমা\n",
      "বৰবৌ\n"
     ]
    },
    {
     "name": "stderr",
     "output_type": "stream",
     "text": [
      "Processed word: জোতা:  38%|██████▉           | 504/1317 [04:50<04:00,  3.38it/s]"
     ]
    },
    {
     "name": "stdout",
     "output_type": "stream",
     "text": [
      "পানৈ\n"
     ]
    },
    {
     "name": "stderr",
     "output_type": "stream",
     "text": [
      "Processed word: জোন:  38%|███████▎           | 505/1317 [04:50<03:52,  3.50it/s]"
     ]
    },
    {
     "name": "stdout",
     "output_type": "stream",
     "text": [
      "চান্দ\n",
      "চন্দ্ৰ\n",
      "সোম\n"
     ]
    },
    {
     "name": "stderr",
     "output_type": "stream",
     "text": [
      "Processed word: জৰী:  39%|███████▎           | 509/1317 [04:51<03:56,  3.42it/s]"
     ]
    },
    {
     "name": "stdout",
     "output_type": "stream",
     "text": [
      "ৰছী\n",
      "ডোৰ\n"
     ]
    },
    {
     "name": "stderr",
     "output_type": "stream",
     "text": [
      "Processed word: টকা:  39%|███████▎           | 511/1317 [04:52<03:48,  3.53it/s]"
     ]
    },
    {
     "name": "stdout",
     "output_type": "stream",
     "text": [
      "টকা-পইচা\n",
      "ধন\n",
      "পইচা\n",
      "মুদ্ৰা\n",
      "ধন\n",
      "পইচা\n"
     ]
    },
    {
     "name": "stderr",
     "output_type": "stream",
     "text": [
      "Processed word: টাকা:  39%|██████▉           | 512/1317 [04:52<03:56,  3.41it/s]"
     ]
    },
    {
     "name": "stdout",
     "output_type": "stream",
     "text": [
      "টাকা-পইচা\n",
      "ধন\n",
      "পইচা\n",
      "মুদ্ৰা\n",
      "ধন\n",
      "পইচা\n"
     ]
    },
    {
     "name": "stderr",
     "output_type": "stream",
     "text": [
      "Processed word: টুকুৰা:  39%|██████▏         | 513/1317 [04:52<03:57,  3.38it/s]"
     ]
    },
    {
     "name": "stdout",
     "output_type": "stream",
     "text": [
      "ডোখৰ\n",
      "খুতুৰা\n",
      "চপৰা\n",
      "চুবা\n",
      "দলি\n",
      "লদা\n"
     ]
    },
    {
     "name": "stderr",
     "output_type": "stream",
     "text": [
      "Processed word: টুট:  39%|███████▍           | 514/1317 [04:52<04:02,  3.31it/s]"
     ]
    },
    {
     "name": "stdout",
     "output_type": "stream",
     "text": [
      "কম\n",
      "হ্ৰাস পা\n"
     ]
    },
    {
     "name": "stderr",
     "output_type": "stream",
     "text": [
      "Processed word: টেঙা:  39%|███████           | 516/1317 [04:53<03:48,  3.51it/s]"
     ]
    },
    {
     "name": "stdout",
     "output_type": "stream",
     "text": [
      "টেঙেচীয়া\n",
      "আমল\n"
     ]
    },
    {
     "name": "stderr",
     "output_type": "stream",
     "text": [
      "Processed word: ঠাই:  39%|███████▍           | 518/1317 [04:54<03:43,  3.57it/s]"
     ]
    },
    {
     "name": "stdout",
     "output_type": "stream",
     "text": [
      "জেগা\n",
      "থান\n",
      "থল\n",
      "মুলুক\n",
      "জেগা\n"
     ]
    },
    {
     "name": "stderr",
     "output_type": "stream",
     "text": [
      "Processed word: ঠান:  39%|███████▍           | 519/1317 [04:54<03:44,  3.55it/s]"
     ]
    },
    {
     "name": "stdout",
     "output_type": "stream",
     "text": [
      "গঢ়\n",
      "ঠাচ\n",
      "সঁজা\n",
      "আকাৰ\n",
      "ঠগ\n",
      "আকৃতি\n",
      "মুই\n",
      "জাঙি\n",
      "শেজ\n"
     ]
    },
    {
     "name": "stderr",
     "output_type": "stream",
     "text": [
      "Processed word: ঠানি:  39%|███████           | 520/1317 [04:54<03:51,  3.44it/s]"
     ]
    },
    {
     "name": "stdout",
     "output_type": "stream",
     "text": [
      "ঠালি\n",
      "ডালি\n"
     ]
    },
    {
     "name": "stderr",
     "output_type": "stream",
     "text": [
      "Processed word: ঠালি:  40%|███████▏          | 522/1317 [04:55<03:51,  3.44it/s]"
     ]
    },
    {
     "name": "stdout",
     "output_type": "stream",
     "text": [
      "ঠানি\n",
      "ডালি\n"
     ]
    },
    {
     "name": "stderr",
     "output_type": "stream",
     "text": [
      "Processed word: ঠিলা:  40%|███████▏          | 523/1317 [04:55<03:47,  3.49it/s]"
     ]
    },
    {
     "name": "stdout",
     "output_type": "stream",
     "text": [
      "সোপা\n",
      "কাগ\n"
     ]
    },
    {
     "name": "stderr",
     "output_type": "stream",
     "text": [
      "Processed word: ডাঁৰ:  40%|███████▏          | 529/1317 [04:57<03:51,  3.40it/s]"
     ]
    },
    {
     "name": "stdout",
     "output_type": "stream",
     "text": [
      "মাৰি\n",
      "দাণ্ডি\n",
      "শলা\n",
      "ডাঁৰিকি\n"
     ]
    },
    {
     "name": "stderr",
     "output_type": "stream",
     "text": [
      "Processed word: ডাঁৰা:  40%|██████▊          | 530/1317 [04:57<03:48,  3.44it/s]"
     ]
    },
    {
     "name": "stdout",
     "output_type": "stream",
     "text": [
      "সুঁতি\n",
      "সোঁতা\n",
      "বিধি\n",
      "ৰীতি\n",
      "প্ৰথা\n",
      "দস্তুৰ\n"
     ]
    },
    {
     "name": "stderr",
     "output_type": "stream",
     "text": [
      "Processed word: ডাঁৰি:  40%|██████▊          | 531/1317 [04:57<03:49,  3.43it/s]"
     ]
    },
    {
     "name": "stdout",
     "output_type": "stream",
     "text": [
      "চিপ\n"
     ]
    },
    {
     "name": "stderr",
     "output_type": "stream",
     "text": [
      "Processed word: ডালিম:  41%|██████▉          | 536/1317 [04:59<03:43,  3.50it/s]"
     ]
    },
    {
     "name": "stdout",
     "output_type": "stream",
     "text": [
      "বেদানা\n",
      "আনাৰ\n",
      "ডালিম গছ\n"
     ]
    },
    {
     "name": "stderr",
     "output_type": "stream",
     "text": [
      "Processed word: ডিম:  41%|███████▋           | 537/1317 [04:59<03:33,  3.65it/s]"
     ]
    },
    {
     "name": "stdout",
     "output_type": "stream",
     "text": [
      "কণী\n"
     ]
    },
    {
     "name": "stderr",
     "output_type": "stream",
     "text": [
      "Processed word: ডিমা:  41%|███████▎          | 538/1317 [04:59<03:39,  3.55it/s]"
     ]
    },
    {
     "name": "stdout",
     "output_type": "stream",
     "text": [
      "কণী\n"
     ]
    },
    {
     "name": "stderr",
     "output_type": "stream",
     "text": [
      "Processed word: ডেৱা:  41%|███████▍          | 541/1317 [05:00<03:37,  3.58it/s]"
     ]
    },
    {
     "name": "stdout",
     "output_type": "stream",
     "text": [
      "বহঁত\n"
     ]
    },
    {
     "name": "stderr",
     "output_type": "stream",
     "text": [
      "Processed word: ডোল:  41%|███████▊           | 542/1317 [05:01<03:30,  3.68it/s]"
     ]
    },
    {
     "name": "stdout",
     "output_type": "stream",
     "text": [
      "ফহতি\n"
     ]
    },
    {
     "name": "stderr",
     "output_type": "stream",
     "text": [
      "Processed word: ডোৰ:  41%|███████▊           | 543/1317 [05:01<03:34,  3.61it/s]"
     ]
    },
    {
     "name": "stdout",
     "output_type": "stream",
     "text": [
      "জৰী\n",
      "ৰছী\n"
     ]
    },
    {
     "name": "stderr",
     "output_type": "stream",
     "text": [
      "Processed word: তজু:  42%|███████▉           | 549/1317 [05:03<03:52,  3.30it/s]"
     ]
    },
    {
     "name": "stdout",
     "output_type": "stream",
     "text": [
      "তোৰ\n",
      "তোমাৰ\n",
      "আপোনাৰ\n",
      "তুৱা\n",
      "তোৰ\n",
      "তোমাৰ\n",
      "তুৱা\n"
     ]
    },
    {
     "name": "stderr",
     "output_type": "stream",
     "text": [
      "Processed word: তত্ব:  42%|███████▌          | 550/1317 [05:03<03:51,  3.32it/s]"
     ]
    },
    {
     "name": "stdout",
     "output_type": "stream",
     "text": [
      "মতবাদ\n"
     ]
    },
    {
     "name": "stderr",
     "output_type": "stream",
     "text": [
      "Processed word: তথা:  42%|███████▉           | 551/1317 [05:03<03:46,  3.39it/s]"
     ]
    },
    {
     "name": "stdout",
     "output_type": "stream",
     "text": [
      "আৰু\n"
     ]
    },
    {
     "name": "stderr",
     "output_type": "stream",
     "text": [
      "Processed word: তথাপি:  42%|███████▏         | 552/1317 [05:04<03:45,  3.40it/s]"
     ]
    },
    {
     "name": "stdout",
     "output_type": "stream",
     "text": [
      "তেও\n"
     ]
    },
    {
     "name": "stderr",
     "output_type": "stream",
     "text": [
      "Processed word: তপিনা:  42%|███████▏         | 555/1317 [05:04<03:42,  3.42it/s]"
     ]
    },
    {
     "name": "stdout",
     "output_type": "stream",
     "text": [
      "টিকা\n",
      "কটি\n"
     ]
    },
    {
     "name": "stderr",
     "output_type": "stream",
     "text": [
      "Processed word: তাপ:  43%|████████           | 561/1317 [05:06<03:52,  3.25it/s]"
     ]
    },
    {
     "name": "stdout",
     "output_type": "stream",
     "text": [
      "তাও\n",
      "উত্তাপ\n"
     ]
    },
    {
     "name": "stderr",
     "output_type": "stream",
     "text": [
      "Processed word: তামোল:  43%|███████▎         | 563/1317 [05:07<03:44,  3.35it/s]"
     ]
    },
    {
     "name": "stdout",
     "output_type": "stream",
     "text": [
      "গুৱা\n"
     ]
    },
    {
     "name": "stderr",
     "output_type": "stream",
     "text": [
      "Processed word: তাল:  43%|████████▏          | 564/1317 [05:07<03:52,  3.23it/s]"
     ]
    },
    {
     "name": "stdout",
     "output_type": "stream",
     "text": [
      "ভূত\n"
     ]
    },
    {
     "name": "stderr",
     "output_type": "stream",
     "text": [
      "Processed word: তিতা:  43%|███████▋          | 565/1317 [05:08<03:56,  3.18it/s]"
     ]
    },
    {
     "name": "stdout",
     "output_type": "stream",
     "text": [
      "তিয়া\n",
      "ভিজা\n",
      "জিকা\n",
      "ভিজা\n",
      "জিকা\n"
     ]
    },
    {
     "name": "stderr",
     "output_type": "stream",
     "text": [
      "Processed word: তিতৰ:  43%|███████▋          | 567/1317 [05:08<03:51,  3.24it/s]"
     ]
    },
    {
     "name": "stdout",
     "output_type": "stream",
     "text": [
      "চীনা কুকুৰা\n"
     ]
    },
    {
     "name": "stderr",
     "output_type": "stream",
     "text": [
      "Processed word: তিল:  43%|████████▏          | 571/1317 [05:09<04:03,  3.06it/s]"
     ]
    },
    {
     "name": "stdout",
     "output_type": "stream",
     "text": [
      "অলপমান\n"
     ]
    },
    {
     "name": "stderr",
     "output_type": "stream",
     "text": [
      "Processed word: তুলা:  44%|███████▊          | 574/1317 [05:10<03:48,  3.25it/s]"
     ]
    },
    {
     "name": "stdout",
     "output_type": "stream",
     "text": [
      "কপাহ\n",
      "দগা-পাল্লা\n",
      "পাল্লা\n",
      "তৰ্জ্জু\n"
     ]
    },
    {
     "name": "stderr",
     "output_type": "stream",
     "text": [
      "Processed word: তুলি:  44%|███████▊          | 575/1317 [05:11<03:42,  3.34it/s]"
     ]
    },
    {
     "name": "stdout",
     "output_type": "stream",
     "text": [
      "বুৰুজ\n",
      "লিখনী\n"
     ]
    },
    {
     "name": "stderr",
     "output_type": "stream",
     "text": [
      "Processed word: তুলী:  44%|███████▊          | 576/1317 [05:11<03:42,  3.33it/s]"
     ]
    },
    {
     "name": "stdout",
     "output_type": "stream",
     "text": [
      "তোচক\n",
      "জাজিম\n"
     ]
    },
    {
     "name": "stderr",
     "output_type": "stream",
     "text": [
      "Processed word: তূলী:  44%|███████▉          | 578/1317 [05:12<03:39,  3.36it/s]"
     ]
    },
    {
     "name": "stdout",
     "output_type": "stream",
     "text": [
      "বুৰুজ\n",
      "লিখনী\n"
     ]
    },
    {
     "name": "stderr",
     "output_type": "stream",
     "text": [
      "Processed word: তেজা:  44%|███████▉          | 583/1317 [05:13<03:41,  3.32it/s]"
     ]
    },
    {
     "name": "stdout",
     "output_type": "stream",
     "text": [
      "এৰা\n",
      "এৰি দিয়া\n",
      "ত্যাগ কৰা\n",
      "উছৰ্গা কৰা\n",
      "বাদ দিয়া\n",
      "ছড়া\n",
      "ছাড়া\n"
     ]
    },
    {
     "name": "stderr",
     "output_type": "stream",
     "text": [
      "Processed word: তেল:  44%|████████▍          | 584/1317 [05:13<03:44,  3.26it/s]"
     ]
    },
    {
     "name": "stdout",
     "output_type": "stream",
     "text": [
      "চৰ্বি\n",
      "মেদ\n",
      "স্নেহ পদাৰ্থ\n"
     ]
    },
    {
     "name": "stderr",
     "output_type": "stream",
     "text": [
      "Processed word: তোলা:  44%|███████▉          | 585/1317 [05:14<03:51,  3.16it/s]"
     ]
    },
    {
     "name": "stdout",
     "output_type": "stream",
     "text": [
      "দঙা\n",
      "উঠোৱা\n",
      "গোটোৱা\n",
      "সঁচা\n",
      "পদোন্নতি কৰা\n",
      "লালন-পালন কৰা\n",
      "তুলি-তালি ডাঙৰ-দীঘল কৰা\n"
     ]
    },
    {
     "name": "stderr",
     "output_type": "stream",
     "text": [
      "Processed word: তৰোৱাল:  45%|███████▏        | 587/1317 [05:14<03:37,  3.36it/s]"
     ]
    },
    {
     "name": "stdout",
     "output_type": "stream",
     "text": [
      "হেংদাং\n",
      "দাখৰ\n"
     ]
    },
    {
     "name": "stderr",
     "output_type": "stream",
     "text": [
      "Processed word: থপা:  45%|████████▍          | 588/1317 [05:15<03:45,  3.23it/s]"
     ]
    },
    {
     "name": "stdout",
     "output_type": "stream",
     "text": [
      "চৰ\n",
      "থাপৰ\n",
      "পতা\n",
      "স্থাপন কৰা\n"
     ]
    },
    {
     "name": "stderr",
     "output_type": "stream",
     "text": [
      "Processed word: থান:  45%|████████▌          | 590/1317 [05:15<03:36,  3.36it/s]"
     ]
    },
    {
     "name": "stdout",
     "output_type": "stream",
     "text": [
      "নামঘৰ\n",
      "ঠাই\n",
      "জেগা\n",
      "থল\n",
      "মুলুক\n"
     ]
    },
    {
     "name": "stderr",
     "output_type": "stream",
     "text": [
      "Processed word: থাপা:  45%|████████          | 591/1317 [05:15<03:38,  3.32it/s]"
     ]
    },
    {
     "name": "stdout",
     "output_type": "stream",
     "text": [
      "পাতা\n",
      "স্থাপন কৰা\n"
     ]
    },
    {
     "name": "stderr",
     "output_type": "stream",
     "text": [
      "Processed word: থাম:  45%|████████▌          | 592/1317 [05:16<03:40,  3.29it/s]"
     ]
    },
    {
     "name": "stdout",
     "output_type": "stream",
     "text": [
      "খুটি\n",
      "স্তম্ভ\n"
     ]
    },
    {
     "name": "stderr",
     "output_type": "stream",
     "text": [
      "Processed word: থালি:  45%|████████          | 593/1317 [05:16<03:28,  3.47it/s]"
     ]
    },
    {
     "name": "stdout",
     "output_type": "stream",
     "text": [
      "বাচন\n",
      "কাঁহী\n",
      "প্লে’ট\n"
     ]
    },
    {
     "name": "stderr",
     "output_type": "stream",
     "text": [
      "Processed word: থিৰ:  45%|████████▌          | 595/1317 [05:17<03:22,  3.56it/s]"
     ]
    },
    {
     "name": "stdout",
     "output_type": "stream",
     "text": [
      "ঠেৰেঙা\n",
      "জঠঙা\n",
      "জঠৰ\n",
      "জুপুকা\n",
      "গতিহীন\n"
     ]
    },
    {
     "name": "stderr",
     "output_type": "stream",
     "text": [
      "Processed word: দমা:  45%|████████▌          | 596/1317 [05:17<03:31,  3.41it/s]"
     ]
    },
    {
     "name": "stdout",
     "output_type": "stream",
     "text": [
      "কমা\n",
      "শান্ত হোৱা\n"
     ]
    },
    {
     "name": "stderr",
     "output_type": "stream",
     "text": [
      "Processed word: দাপোণ:  46%|███████▊         | 604/1317 [05:26<11:35,  1.03it/s]"
     ]
    },
    {
     "name": "stdout",
     "output_type": "stream",
     "text": [
      "আইনা\n"
     ]
    },
    {
     "name": "stderr",
     "output_type": "stream",
     "text": [
      "Processed word: দাম:  46%|████████▋          | 605/1317 [05:26<09:11,  1.29it/s]"
     ]
    },
    {
     "name": "stdout",
     "output_type": "stream",
     "text": [
      "মোল\n",
      "দৰ\n",
      "মূল্য\n",
      "বেচ\n"
     ]
    },
    {
     "name": "stderr",
     "output_type": "stream",
     "text": [
      "Processed word: দাহ:  46%|████████▋          | 606/1317 [05:26<07:30,  1.58it/s]"
     ]
    },
    {
     "name": "stdout",
     "output_type": "stream",
     "text": [
      "তাপ\n",
      "তাও\n",
      "গৰম\n"
     ]
    },
    {
     "name": "stderr",
     "output_type": "stream",
     "text": [
      "Processed word: দিঠক:  46%|████████▎         | 607/1317 [05:27<06:13,  1.90it/s]"
     ]
    },
    {
     "name": "stdout",
     "output_type": "stream",
     "text": [
      "বাস্তৱ\n"
     ]
    },
    {
     "name": "stderr",
     "output_type": "stream",
     "text": [
      "Processed word: দীঘ:  46%|████████▊          | 609/1317 [05:27<04:48,  2.45it/s]"
     ]
    },
    {
     "name": "stdout",
     "output_type": "stream",
     "text": [
      "দৈৰ্ঘ্য\n",
      "দীৰ্ঘতা\n"
     ]
    },
    {
     "name": "stderr",
     "output_type": "stream",
     "text": [
      "Processed word: দীঘল:  46%|████████▎         | 610/1317 [05:28<04:15,  2.77it/s]"
     ]
    },
    {
     "name": "stdout",
     "output_type": "stream",
     "text": [
      "সাপ\n"
     ]
    },
    {
     "name": "stderr",
     "output_type": "stream",
     "text": [
      "Processed word: দীঘা:  46%|████████▎         | 611/1317 [05:28<04:06,  2.87it/s]"
     ]
    },
    {
     "name": "stdout",
     "output_type": "stream",
     "text": [
      "দৈৰ্ঘ্য\n",
      "দীৰ্ঘতা\n"
     ]
    },
    {
     "name": "stderr",
     "output_type": "stream",
     "text": [
      "Processed word: দুধ:  47%|████████▉          | 616/1317 [05:29<03:18,  3.53it/s]"
     ]
    },
    {
     "name": "stdout",
     "output_type": "stream",
     "text": [
      "গাখীৰ\n"
     ]
    },
    {
     "name": "stderr",
     "output_type": "stream",
     "text": [
      "Processed word: দুৱাৰ:  47%|███████▉         | 617/1317 [05:29<03:15,  3.58it/s]"
     ]
    },
    {
     "name": "stdout",
     "output_type": "stream",
     "text": [
      "দৰ্জা\n"
     ]
    },
    {
     "name": "stderr",
     "output_type": "stream",
     "text": [
      "Processed word: দেউতা:  47%|███████▉         | 619/1317 [05:30<03:09,  3.68it/s]"
     ]
    },
    {
     "name": "stdout",
     "output_type": "stream",
     "text": [
      "বাপ\n",
      "বোপাই\n",
      "পিতাই\n",
      "আব্বা\n",
      "বাবা\n",
      "বোপা\n"
     ]
    },
    {
     "name": "stderr",
     "output_type": "stream",
     "text": [
      "Processed word: দেহা:  47%|████████▍         | 620/1317 [05:30<03:08,  3.70it/s]"
     ]
    },
    {
     "name": "stdout",
     "output_type": "stream",
     "text": [
      "গা\n"
     ]
    },
    {
     "name": "stderr",
     "output_type": "stream",
     "text": [
      "Processed word: দৈনিক:  47%|████████         | 624/1317 [05:31<03:09,  3.65it/s]"
     ]
    },
    {
     "name": "stdout",
     "output_type": "stream",
     "text": [
      "নিতৌ\n",
      "নিতে\n",
      "দিনেও\n",
      "দৈনন্দিন\n",
      "প্ৰতিদিন\n",
      "দিনৌ\n",
      "প্ৰতিদিনে\n",
      "নিত্যে\n"
     ]
    },
    {
     "name": "stderr",
     "output_type": "stream",
     "text": [
      "Processed word: দোলা:  47%|████████▌         | 625/1317 [05:32<03:17,  3.50it/s]"
     ]
    },
    {
     "name": "stdout",
     "output_type": "stream",
     "text": [
      "পাল্কী\n",
      "পাল\n"
     ]
    },
    {
     "name": "stderr",
     "output_type": "stream",
     "text": [
      "Processed word: দোৱা:  48%|████████▌         | 626/1317 [05:32<03:23,  3.40it/s]"
     ]
    },
    {
     "name": "stdout",
     "output_type": "stream",
     "text": [
      "আশীৰ্বাদ\n",
      "আঁজলি\n",
      "প্ৰাৰ্থনা\n"
     ]
    },
    {
     "name": "stderr",
     "output_type": "stream",
     "text": [
      "Processed word: দৰৱ:  48%|█████████          | 630/1317 [05:33<03:09,  3.63it/s]"
     ]
    },
    {
     "name": "stdout",
     "output_type": "stream",
     "text": [
      "ঔষধ\n"
     ]
    },
    {
     "name": "stderr",
     "output_type": "stream",
     "text": [
      "Processed word: ধনিয়া:  48%|███████▋        | 631/1317 [05:33<03:01,  3.79it/s]"
     ]
    },
    {
     "name": "stdout",
     "output_type": "stream",
     "text": [
      "মেমেধু\n",
      "গোন্ধোৱা শাক\n"
     ]
    },
    {
     "name": "stderr",
     "output_type": "stream",
     "text": [
      "Processed word: ধুমুহা:  48%|███████▋        | 637/1317 [05:35<02:54,  3.89it/s]"
     ]
    },
    {
     "name": "stdout",
     "output_type": "stream",
     "text": [
      "বা-মৰলি\n",
      "বানাহ\n",
      "তুফান\n",
      "জঞ্জা\n"
     ]
    },
    {
     "name": "stderr",
     "output_type": "stream",
     "text": [
      "Processed word: ধূলি:  48%|████████▋         | 638/1317 [05:35<03:02,  3.72it/s]"
     ]
    },
    {
     "name": "stdout",
     "output_type": "stream",
     "text": [
      "ফেদা\n",
      "টাটৰি\n",
      "ওখল\n",
      "চাহী\n"
     ]
    },
    {
     "name": "stderr",
     "output_type": "stream",
     "text": [
      "Processed word: ধৰ:  49%|█████████▋          | 641/1317 [05:36<03:26,  3.28it/s]"
     ]
    },
    {
     "name": "stdout",
     "output_type": "stream",
     "text": [
      "আৰম্ভ কৰা\n"
     ]
    },
    {
     "name": "stderr",
     "output_type": "stream",
     "text": [
      "Processed word: ধৰ্ষণ:  49%|████████▎        | 644/1317 [05:37<03:09,  3.56it/s]"
     ]
    },
    {
     "name": "stdout",
     "output_type": "stream",
     "text": [
      "বলাৎকাৰ\n"
     ]
    },
    {
     "name": "stderr",
     "output_type": "stream",
     "text": [
      "Processed word: নগৰ:  49%|█████████▎         | 647/1317 [05:38<03:18,  3.37it/s]"
     ]
    },
    {
     "name": "stdout",
     "output_type": "stream",
     "text": [
      "চহৰ\n",
      "পুৰ\n"
     ]
    },
    {
     "name": "stderr",
     "output_type": "stream",
     "text": [
      "Processed word: নতুন:  49%|████████▊         | 649/1317 [05:38<03:17,  3.39it/s]"
     ]
    },
    {
     "name": "stdout",
     "output_type": "stream",
     "text": [
      "ন\n"
     ]
    },
    {
     "name": "stderr",
     "output_type": "stream",
     "text": [
      "Processed word: নদী:  49%|█████████▍         | 650/1317 [05:39<03:22,  3.29it/s]"
     ]
    },
    {
     "name": "stdout",
     "output_type": "stream",
     "text": [
      "গাং\n"
     ]
    },
    {
     "name": "stderr",
     "output_type": "stream",
     "text": [
      "Processed word: ননী:  49%|█████████▍         | 651/1317 [05:39<03:13,  3.44it/s]"
     ]
    },
    {
     "name": "stdout",
     "output_type": "stream",
     "text": [
      "মাখন\n"
     ]
    },
    {
     "name": "stderr",
     "output_type": "stream",
     "text": [
      "Processed word: নাই:  50%|█████████▍         | 654/1317 [05:40<03:14,  3.42it/s]"
     ]
    },
    {
     "name": "stdout",
     "output_type": "stream",
     "text": [
      "ওহোঁ\n",
      "না\n",
      "নাড়ী\n"
     ]
    },
    {
     "name": "stderr",
     "output_type": "stream",
     "text": [
      "Processed word: নাঙঠ:  50%|████████▉         | 656/1317 [05:40<03:08,  3.51it/s]"
     ]
    },
    {
     "name": "stdout",
     "output_type": "stream",
     "text": [
      "উদং\n",
      "উলংগ\n"
     ]
    },
    {
     "name": "stderr",
     "output_type": "stream",
     "text": [
      "Processed word: নাঙল:  50%|████████▉         | 657/1317 [05:41<03:07,  3.52it/s]"
     ]
    },
    {
     "name": "stdout",
     "output_type": "stream",
     "text": [
      "হাল\n"
     ]
    },
    {
     "name": "stderr",
     "output_type": "stream",
     "text": [
      "Processed word: নাট:  50%|█████████▌         | 659/1317 [05:41<03:08,  3.48it/s]"
     ]
    },
    {
     "name": "stdout",
     "output_type": "stream",
     "text": [
      "ভাওনা\n",
      "নাটক\n"
     ]
    },
    {
     "name": "stderr",
     "output_type": "stream",
     "text": [
      "Processed word: নামনি:  50%|████████▌        | 662/1317 [05:42<03:07,  3.49it/s]"
     ]
    },
    {
     "name": "stdout",
     "output_type": "stream",
     "text": [
      "ভাটী\n",
      "ভটীয়নি\n"
     ]
    },
    {
     "name": "stderr",
     "output_type": "stream",
     "text": [
      "Processed word: নাৰিকল:  50%|████████        | 665/1317 [05:43<03:18,  3.28it/s]"
     ]
    },
    {
     "name": "stdout",
     "output_type": "stream",
     "text": [
      "ডাব\n",
      "পুদোটক\n"
     ]
    },
    {
     "name": "stderr",
     "output_type": "stream",
     "text": [
      "Processed word: নিয়া:  51%|████████▋        | 670/1317 [05:45<03:10,  3.40it/s]"
     ]
    },
    {
     "name": "stdout",
     "output_type": "stream",
     "text": [
      "লৈ যোৱা\n",
      "কঢ়িওৱা\n",
      "বোৱা\n"
     ]
    },
    {
     "name": "stderr",
     "output_type": "stream",
     "text": [
      "Processed word: নেগুৰ:  51%|████████▋        | 677/1317 [05:47<03:01,  3.53it/s]"
     ]
    },
    {
     "name": "stdout",
     "output_type": "stream",
     "text": [
      "নেজ\n"
     ]
    },
    {
     "name": "stderr",
     "output_type": "stream",
     "text": [
      "Processed word: নেজ:  51%|█████████▊         | 678/1317 [05:47<02:57,  3.60it/s]"
     ]
    },
    {
     "name": "stdout",
     "output_type": "stream",
     "text": [
      "নেগুৰ\n"
     ]
    },
    {
     "name": "stderr",
     "output_type": "stream",
     "text": [
      "Processed word: নেমু:  52%|█████████▎        | 679/1317 [05:47<02:59,  3.54it/s]"
     ]
    },
    {
     "name": "stdout",
     "output_type": "stream",
     "text": [
      "গোল-নেমু\n"
     ]
    },
    {
     "name": "stderr",
     "output_type": "stream",
     "text": [
      "Processed word: নৈ:  52%|██████████▎         | 680/1317 [05:47<02:56,  3.61it/s]"
     ]
    },
    {
     "name": "stdout",
     "output_type": "stream",
     "text": [
      "গাং\n"
     ]
    },
    {
     "name": "stderr",
     "output_type": "stream",
     "text": [
      "Processed word: পকা:  52%|█████████▊         | 683/1317 [05:48<03:11,  3.31it/s]"
     ]
    },
    {
     "name": "stdout",
     "output_type": "stream",
     "text": [
      "পূৰঠ\n",
      "পৈণত\n"
     ]
    },
    {
     "name": "stderr",
     "output_type": "stream",
     "text": [
      "Processed word: পঘা:  52%|█████████▉         | 685/1317 [05:49<03:00,  3.50it/s]"
     ]
    },
    {
     "name": "stdout",
     "output_type": "stream",
     "text": [
      "এৰাল\n",
      "দৰহ\n",
      "দৰখ\n"
     ]
    },
    {
     "name": "stderr",
     "output_type": "stream",
     "text": [
      "Processed word: পচলা:  52%|█████████▍        | 686/1317 [05:49<03:06,  3.38it/s]"
     ]
    },
    {
     "name": "stdout",
     "output_type": "stream",
     "text": [
      "কল পচলা\n"
     ]
    },
    {
     "name": "stderr",
     "output_type": "stream",
     "text": [
      "Processed word: পচা:  52%|█████████▉         | 687/1317 [05:50<03:21,  3.13it/s]"
     ]
    },
    {
     "name": "stdout",
     "output_type": "stream",
     "text": [
      "গেলা\n",
      "গেলা\n"
     ]
    },
    {
     "name": "stderr",
     "output_type": "stream",
     "text": [
      "Processed word: পঢ়া:  52%|█████████▍        | 690/1317 [05:50<03:06,  3.36it/s]"
     ]
    },
    {
     "name": "stdout",
     "output_type": "stream",
     "text": [
      "পঢ়া-শুনা কৰা\n"
     ]
    },
    {
     "name": "stderr",
     "output_type": "stream",
     "text": [
      "Processed word: পতা:  53%|█████████▉         | 692/1317 [05:51<03:01,  3.45it/s]"
     ]
    },
    {
     "name": "stdout",
     "output_type": "stream",
     "text": [
      "পিৰঠি\n",
      "চেৰপাটি\n",
      "পাও\n",
      "গোড়\n"
     ]
    },
    {
     "name": "stderr",
     "output_type": "stream",
     "text": [
      "Processed word: পথালি:  53%|████████▉        | 693/1317 [05:51<02:57,  3.51it/s]"
     ]
    },
    {
     "name": "stdout",
     "output_type": "stream",
     "text": [
      "পুতল\n",
      "প্ৰস্থ\n"
     ]
    },
    {
     "name": "stderr",
     "output_type": "stream",
     "text": [
      "Processed word: পথাৰ:  53%|█████████▍        | 694/1317 [05:52<03:01,  3.44it/s]"
     ]
    },
    {
     "name": "stdout",
     "output_type": "stream",
     "text": [
      "ময়দান\n"
     ]
    },
    {
     "name": "stderr",
     "output_type": "stream",
     "text": [
      "Processed word: পনৰু:  53%|█████████▌        | 697/1317 [05:52<02:51,  3.62it/s]"
     ]
    },
    {
     "name": "stdout",
     "output_type": "stream",
     "text": [
      "পিয়াঁজ\n"
     ]
    },
    {
     "name": "stderr",
     "output_type": "stream",
     "text": [
      "Processed word: পলম:  53%|██████████         | 699/1317 [05:53<02:51,  3.61it/s]"
     ]
    },
    {
     "name": "stdout",
     "output_type": "stream",
     "text": [
      "দেৰি\n"
     ]
    },
    {
     "name": "stderr",
     "output_type": "stream",
     "text": [
      "Processed word: পলা:  53%|██████████         | 700/1317 [05:53<02:59,  3.44it/s]"
     ]
    },
    {
     "name": "stdout",
     "output_type": "stream",
     "text": [
      "ভাগ\n"
     ]
    },
    {
     "name": "stderr",
     "output_type": "stream",
     "text": [
      "Processed word: পা:  53%|██████████▋         | 703/1317 [05:54<03:09,  3.24it/s]"
     ]
    },
    {
     "name": "stdout",
     "output_type": "stream",
     "text": [
      "আৰ্জ\n",
      "লাভ\n",
      "হাছিল কৰ\n",
      "লাভ কৰ\n",
      "লাভ কৰ\n"
     ]
    },
    {
     "name": "stderr",
     "output_type": "stream",
     "text": [
      "Processed word: পাঁজৰ:  54%|█████████        | 705/1317 [05:55<03:01,  3.38it/s]"
     ]
    },
    {
     "name": "stdout",
     "output_type": "stream",
     "text": [
      "কাষ\n",
      "দাঁতি\n"
     ]
    },
    {
     "name": "stderr",
     "output_type": "stream",
     "text": [
      "Processed word: পাঁজৰা:  54%|████████▌       | 706/1317 [06:10<49:58,  4.91s/it]"
     ]
    },
    {
     "name": "stdout",
     "output_type": "stream",
     "text": [
      "দাঁতি\n",
      "কাষ\n"
     ]
    },
    {
     "name": "stderr",
     "output_type": "stream",
     "text": [
      "Processed word: পাকৈত:  54%|█████████▏       | 708/1317 [06:11<25:43,  2.53s/it]"
     ]
    },
    {
     "name": "stdout",
     "output_type": "stream",
     "text": [
      "ঘাগু\n",
      "ঘাগী\n",
      "কাজী\n",
      "পাৰ্গত\n",
      "দক্ষ\n",
      "ওস্তাদ\n",
      "নিপুণ\n"
     ]
    },
    {
     "name": "stderr",
     "output_type": "stream",
     "text": [
      "Processed word: পাগ:  54%|██████████▏        | 710/1317 [06:12<14:06,  1.39s/it]"
     ]
    },
    {
     "name": "stdout",
     "output_type": "stream",
     "text": [
      "পাক\n",
      "ৰন্ধন\n"
     ]
    },
    {
     "name": "stderr",
     "output_type": "stream",
     "text": [
      "Processed word: পাত:  54%|██████████▎        | 713/1317 [06:12<06:42,  1.50it/s]"
     ]
    },
    {
     "name": "stdout",
     "output_type": "stream",
     "text": [
      "থাপ\n"
     ]
    },
    {
     "name": "stderr",
     "output_type": "stream",
     "text": [
      "Processed word: পাতল:  54%|█████████▊        | 714/1317 [06:13<05:28,  1.84it/s]"
     ]
    },
    {
     "name": "stdout",
     "output_type": "stream",
     "text": [
      "অগধুৰ\n",
      "লঘূ\n",
      "খীন\n",
      "কেটেঙা\n"
     ]
    },
    {
     "name": "stderr",
     "output_type": "stream",
     "text": [
      "Processed word: পাথৰ:  54%|█████████▊        | 716/1317 [06:13<04:16,  2.34it/s]"
     ]
    },
    {
     "name": "stdout",
     "output_type": "stream",
     "text": [
      "শিল\n"
     ]
    },
    {
     "name": "stderr",
     "output_type": "stream",
     "text": [
      "Processed word: পানী:  54%|█████████▊        | 717/1317 [06:14<03:55,  2.55it/s]"
     ]
    },
    {
     "name": "stdout",
     "output_type": "stream",
     "text": [
      "জল\n"
     ]
    },
    {
     "name": "stderr",
     "output_type": "stream",
     "text": [
      "Processed word: পানৈ:  55%|█████████▊        | 718/1317 [06:14<03:32,  2.82it/s]"
     ]
    },
    {
     "name": "stdout",
     "output_type": "stream",
     "text": [
      "জোতা\n"
     ]
    },
    {
     "name": "stderr",
     "output_type": "stream",
     "text": [
      "Processed word: পাল:  55%|██████████▍        | 720/1317 [06:14<03:16,  3.04it/s]"
     ]
    },
    {
     "name": "stdout",
     "output_type": "stream",
     "text": [
      "পোহ\n",
      "পোহ-পাল দে\n",
      "আউল ধৰ\n",
      "প্ৰতিপালন কৰ\n",
      "চৰা\n"
     ]
    },
    {
     "name": "stderr",
     "output_type": "stream",
     "text": [
      "Processed word: পালেং:  55%|█████████▎       | 721/1317 [06:15<03:09,  3.14it/s]"
     ]
    },
    {
     "name": "stdout",
     "output_type": "stream",
     "text": [
      "খাট\n"
     ]
    },
    {
     "name": "stderr",
     "output_type": "stream",
     "text": [
      "Processed word: পাৰা:  55%|█████████▉        | 725/1317 [06:16<03:21,  2.94it/s]"
     ]
    },
    {
     "name": "stdout",
     "output_type": "stream",
     "text": [
      "ৰহ\n"
     ]
    },
    {
     "name": "stderr",
     "output_type": "stream",
     "text": [
      "Processed word: পিঁজৰা:  55%|████████▊       | 728/1317 [06:17<02:57,  3.32it/s]"
     ]
    },
    {
     "name": "stdout",
     "output_type": "stream",
     "text": [
      "সঁজা\n",
      "গঁৰাল\n"
     ]
    },
    {
     "name": "stderr",
     "output_type": "stream",
     "text": [
      "Processed word: পিটা:  55%|█████████▉        | 729/1317 [06:17<02:52,  3.41it/s]"
     ]
    },
    {
     "name": "stdout",
     "output_type": "stream",
     "text": [
      "কোবোৱা\n",
      "মৰা\n"
     ]
    },
    {
     "name": "stderr",
     "output_type": "stream",
     "text": [
      "Processed word: পিঠা:  55%|█████████▉        | 730/1317 [06:17<02:50,  3.44it/s]"
     ]
    },
    {
     "name": "stdout",
     "output_type": "stream",
     "text": [
      "কে’ক\n"
     ]
    },
    {
     "name": "stderr",
     "output_type": "stream",
     "text": [
      "Processed word: পিত:  56%|██████████▌        | 732/1317 [06:18<02:45,  3.54it/s]"
     ]
    },
    {
     "name": "stdout",
     "output_type": "stream",
     "text": [
      "সাহ\n"
     ]
    },
    {
     "name": "stderr",
     "output_type": "stream",
     "text": [
      "Processed word: পিতা:  56%|██████████        | 733/1317 [06:18<02:51,  3.41it/s]"
     ]
    },
    {
     "name": "stdout",
     "output_type": "stream",
     "text": [
      "দেউতা\n",
      "বাপ\n",
      "বোপা\n",
      "বোপাই\n"
     ]
    },
    {
     "name": "stderr",
     "output_type": "stream",
     "text": [
      "Processed word: পিয়া:  56%|█████████▌       | 736/1317 [06:19<02:49,  3.43it/s]"
     ]
    },
    {
     "name": "stdout",
     "output_type": "stream",
     "text": [
      "পি খোৱা\n",
      "খোৱা\n"
     ]
    },
    {
     "name": "stderr",
     "output_type": "stream",
     "text": [
      "Processed word: পিহা:  56%|██████████        | 738/1317 [06:20<02:48,  3.43it/s]"
     ]
    },
    {
     "name": "stdout",
     "output_type": "stream",
     "text": [
      "গুৰি কৰা\n",
      "ঘঁহা\n"
     ]
    },
    {
     "name": "stderr",
     "output_type": "stream",
     "text": [
      "Processed word: পুত:  56%|██████████▋        | 743/1317 [06:21<03:00,  3.18it/s]"
     ]
    },
    {
     "name": "stdout",
     "output_type": "stream",
     "text": [
      "পো\n",
      "ল’ৰা\n",
      "সুত\n"
     ]
    },
    {
     "name": "stderr",
     "output_type": "stream",
     "text": [
      "Processed word: পুথি:  57%|██████████▏       | 745/1317 [06:22<02:55,  3.25it/s]"
     ]
    },
    {
     "name": "stdout",
     "output_type": "stream",
     "text": [
      "কিতাপ\n"
     ]
    },
    {
     "name": "stderr",
     "output_type": "stream",
     "text": [
      "Processed word: পুনু:  57%|██████████▏       | 746/1317 [06:22<02:50,  3.34it/s]"
     ]
    },
    {
     "name": "stdout",
     "output_type": "stream",
     "text": [
      "আকৌ\n"
     ]
    },
    {
     "name": "stderr",
     "output_type": "stream",
     "text": [
      "Processed word: পুষ্প:  57%|█████████▋       | 748/1317 [06:23<02:43,  3.47it/s]"
     ]
    },
    {
     "name": "stdout",
     "output_type": "stream",
     "text": [
      "ফুল\n"
     ]
    },
    {
     "name": "stderr",
     "output_type": "stream",
     "text": [
      "Processed word: পুৰণা:  57%|█████████▋       | 750/1317 [06:23<02:45,  3.42it/s]"
     ]
    },
    {
     "name": "stdout",
     "output_type": "stream",
     "text": [
      "অতীজৰ\n"
     ]
    },
    {
     "name": "stderr",
     "output_type": "stream",
     "text": [
      "Processed word: পুৰুষ:  57%|█████████▋       | 751/1317 [06:24<02:48,  3.36it/s]"
     ]
    },
    {
     "name": "stdout",
     "output_type": "stream",
     "text": [
      "মতা মানুহ\n",
      "মুনিহ\n",
      "নৰ\n"
     ]
    },
    {
     "name": "stderr",
     "output_type": "stream",
     "text": [
      "Processed word: পুৱা:  57%|██████████▎       | 752/1317 [06:24<02:43,  3.46it/s]"
     ]
    },
    {
     "name": "stdout",
     "output_type": "stream",
     "text": [
      "ৰাতিপুৱা\n",
      "বিহান\n",
      "ভোৰ\n"
     ]
    },
    {
     "name": "stderr",
     "output_type": "stream",
     "text": [
      "Processed word: পূৰঠ:  57%|██████████▎       | 754/1317 [06:25<02:41,  3.49it/s]"
     ]
    },
    {
     "name": "stdout",
     "output_type": "stream",
     "text": [
      "পকা\n",
      "পৈণত\n"
     ]
    },
    {
     "name": "stderr",
     "output_type": "stream",
     "text": [
      "Processed word: পৃথিৱী:  57%|█████████▏      | 755/1317 [06:25<02:44,  3.42it/s]"
     ]
    },
    {
     "name": "stdout",
     "output_type": "stream",
     "text": [
      "ভূঁই\n",
      "ইলিকা\n",
      "ধৰা\n",
      "মেদিনী\n",
      "মহী\n",
      "দোহিনী\n",
      "গোলক\n",
      "ভূ\n",
      "বিশ্ব\n",
      "জগত\n",
      "দুনিয়া\n"
     ]
    },
    {
     "name": "stderr",
     "output_type": "stream",
     "text": [
      "Processed word: পেখন:  57%|██████████▎       | 756/1317 [06:25<02:39,  3.52it/s]"
     ]
    },
    {
     "name": "stdout",
     "output_type": "stream",
     "text": [
      "ম’ৰা চালি\n"
     ]
    },
    {
     "name": "stderr",
     "output_type": "stream",
     "text": [
      "Processed word: পেখম:  57%|██████████▎       | 757/1317 [06:25<02:32,  3.66it/s]"
     ]
    },
    {
     "name": "stdout",
     "output_type": "stream",
     "text": [
      "ম’ৰা চালি\n"
     ]
    },
    {
     "name": "stderr",
     "output_type": "stream",
     "text": [
      "Processed word: পেট:  58%|██████████▉        | 758/1317 [06:26<02:43,  3.41it/s]"
     ]
    },
    {
     "name": "stdout",
     "output_type": "stream",
     "text": [
      "জঠৰ\n",
      "উদৰ\n",
      "গৰ্ভ\n",
      "জৰায়ু\n",
      "মচ\n",
      "গৰ্ভাশয়\n"
     ]
    },
    {
     "name": "stderr",
     "output_type": "stream",
     "text": [
      "Processed word: পেটু:  58%|██████████▍       | 760/1317 [06:26<02:36,  3.56it/s]"
     ]
    },
    {
     "name": "stdout",
     "output_type": "stream",
     "text": [
      "নাড়ী\n",
      "আঁত\n",
      "নাড়ীভুঁৰি\n"
     ]
    },
    {
     "name": "stderr",
     "output_type": "stream",
     "text": [
      "Processed word: পেল:  58%|██████████▉        | 761/1317 [06:27<02:36,  3.55it/s]"
     ]
    },
    {
     "name": "stdout",
     "output_type": "stream",
     "text": [
      "শুক্ৰাশয়\n"
     ]
    },
    {
     "name": "stderr",
     "output_type": "stream",
     "text": [
      "Processed word: পেলু:  58%|██████████▍       | 763/1317 [06:27<02:38,  3.50it/s]"
     ]
    },
    {
     "name": "stdout",
     "output_type": "stream",
     "text": [
      "কৃমি\n"
     ]
    },
    {
     "name": "stderr",
     "output_type": "stream",
     "text": [
      "Processed word: পেৰা:  58%|██████████▍       | 766/1317 [06:28<02:30,  3.66it/s]"
     ]
    },
    {
     "name": "stdout",
     "output_type": "stream",
     "text": [
      "বাকচ\n",
      "জঁপা\n"
     ]
    },
    {
     "name": "stderr",
     "output_type": "stream",
     "text": [
      "Processed word: পৈ:  58%|███████████▋        | 767/1317 [06:28<02:34,  3.57it/s]"
     ]
    },
    {
     "name": "stdout",
     "output_type": "stream",
     "text": [
      "গিৰি\n",
      "স্বামী\n",
      "ভতাৰ\n"
     ]
    },
    {
     "name": "stderr",
     "output_type": "stream",
     "text": [
      "Processed word: পো:  58%|███████████▋        | 768/1317 [06:28<02:31,  3.63it/s]"
     ]
    },
    {
     "name": "stdout",
     "output_type": "stream",
     "text": [
      "পুত\n"
     ]
    },
    {
     "name": "stderr",
     "output_type": "stream",
     "text": [
      "Processed word: পোন:  58%|███████████        | 770/1317 [06:29<02:31,  3.61it/s]"
     ]
    },
    {
     "name": "stdout",
     "output_type": "stream",
     "text": [
      "ডঁৰকাল\n",
      "চিধা\n",
      "থিয়\n"
     ]
    },
    {
     "name": "stderr",
     "output_type": "stream",
     "text": [
      "Processed word: পোনা:  59%|██████████▌       | 771/1317 [06:29<02:41,  3.38it/s]"
     ]
    },
    {
     "name": "stdout",
     "output_type": "stream",
     "text": [
      "ছলি\n"
     ]
    },
    {
     "name": "stderr",
     "output_type": "stream",
     "text": [
      "Processed word: পোহা:  59%|██████████▌       | 773/1317 [06:30<02:35,  3.50it/s]"
     ]
    },
    {
     "name": "stdout",
     "output_type": "stream",
     "text": [
      "পলা\n",
      "পোহ-পাল দিয়া\n",
      "আউল ধৰা\n",
      "প্ৰতিপালন কৰা\n"
     ]
    },
    {
     "name": "stderr",
     "output_type": "stream",
     "text": [
      "Processed word: পোহাৰ:  59%|█████████▉       | 774/1317 [06:30<02:30,  3.60it/s]"
     ]
    },
    {
     "name": "stdout",
     "output_type": "stream",
     "text": [
      "দোকান\n",
      "গোলা\n",
      "বজাৰ\n",
      "হাট\n"
     ]
    },
    {
     "name": "stderr",
     "output_type": "stream",
     "text": [
      "Processed word: পোৱালী:  59%|█████████▍      | 777/1317 [06:31<02:30,  3.59it/s]"
     ]
    },
    {
     "name": "stdout",
     "output_type": "stream",
     "text": [
      "ছনা\n",
      "ছাৱ\n",
      "ছলি\n"
     ]
    },
    {
     "name": "stderr",
     "output_type": "stream",
     "text": [
      "Processed word: প্ৰাণ:  59%|██████████       | 782/1317 [06:32<02:17,  3.90it/s]"
     ]
    },
    {
     "name": "stdout",
     "output_type": "stream",
     "text": [
      "জীৱন\n",
      "জীউ\n",
      "জান\n",
      "পৰাণ\n"
     ]
    },
    {
     "name": "stderr",
     "output_type": "stream",
     "text": [
      "Processed word: পৰ:  59%|███████████▉        | 783/1317 [06:33<02:19,  3.83it/s]"
     ]
    },
    {
     "name": "stdout",
     "output_type": "stream",
     "text": [
      "সময়\n",
      "পল\n",
      "বেলা\n"
     ]
    },
    {
     "name": "stderr",
     "output_type": "stream",
     "text": [
      "Processed word: পৰম্পৰা:  60%|████████▉      | 784/1317 [06:33<02:20,  3.79it/s]"
     ]
    },
    {
     "name": "stdout",
     "output_type": "stream",
     "text": [
      "লোকাচাৰ\n",
      "দেশাচাৰ\n",
      "প্ৰথা\n",
      "ৰীতি\n",
      "ঐতিহ্য\n",
      "বিধি\n",
      "দস্তুৰ\n",
      "ডাঁৰা\n",
      "নিৰ্বন্ধ\n"
     ]
    },
    {
     "name": "stderr",
     "output_type": "stream",
     "text": [
      "Processed word: পৰহি:  60%|██████████▋       | 785/1317 [06:33<02:25,  3.65it/s]"
     ]
    },
    {
     "name": "stdout",
     "output_type": "stream",
     "text": [
      "পৰহিলৈ\n"
     ]
    },
    {
     "name": "stderr",
     "output_type": "stream",
     "text": [
      "Processed word: পৰাণ:  60%|██████████▊       | 787/1317 [06:34<02:35,  3.42it/s]"
     ]
    },
    {
     "name": "stdout",
     "output_type": "stream",
     "text": [
      "জীৱন\n",
      "জীউ\n",
      "জান\n",
      "প্ৰাণ\n"
     ]
    },
    {
     "name": "stderr",
     "output_type": "stream",
     "text": [
      "Processed word: পৰ্বত:  60%|██████████▏      | 790/1317 [06:35<02:27,  3.56it/s]"
     ]
    },
    {
     "name": "stdout",
     "output_type": "stream",
     "text": [
      "পাহাৰ\n"
     ]
    },
    {
     "name": "stderr",
     "output_type": "stream",
     "text": [
      "Processed word: পৰ্শুই:  60%|█████████▌      | 791/1317 [06:35<02:31,  3.47it/s]"
     ]
    },
    {
     "name": "stdout",
     "output_type": "stream",
     "text": [
      "পৰ্শুইলৈ\n"
     ]
    },
    {
     "name": "stderr",
     "output_type": "stream",
     "text": [
      "Processed word: ফণি:  60%|███████████▍       | 793/1317 [06:35<02:32,  3.45it/s]"
     ]
    },
    {
     "name": "stdout",
     "output_type": "stream",
     "text": [
      "কাঁকৈ\n"
     ]
    },
    {
     "name": "stderr",
     "output_type": "stream",
     "text": [
      "Processed word: ফণী:  60%|███████████▍       | 794/1317 [06:36<02:33,  3.40it/s]"
     ]
    },
    {
     "name": "stdout",
     "output_type": "stream",
     "text": [
      "ফেঁটীসাপ\n",
      "সাপ\n"
     ]
    },
    {
     "name": "stderr",
     "output_type": "stream",
     "text": [
      "Processed word: ফলা:  60%|███████████▍       | 796/1317 [06:36<02:41,  3.22it/s]"
     ]
    },
    {
     "name": "stdout",
     "output_type": "stream",
     "text": [
      "ছিঙা\n",
      "চিৰা\n"
     ]
    },
    {
     "name": "stderr",
     "output_type": "stream",
     "text": [
      "Processed word: ফালা:  61%|██████████▉       | 800/1317 [06:38<02:45,  3.13it/s]"
     ]
    },
    {
     "name": "stdout",
     "output_type": "stream",
     "text": [
      "ছিঙা\n",
      "চিৰা\n"
     ]
    },
    {
     "name": "stderr",
     "output_type": "stream",
     "text": [
      "Processed word: ফুল:  61%|███████████▌       | 805/1317 [06:45<05:59,  1.42it/s]"
     ]
    },
    {
     "name": "stdout",
     "output_type": "stream",
     "text": [
      "কল\n"
     ]
    },
    {
     "name": "stderr",
     "output_type": "stream",
     "text": [
      "Processed word: ফুলা:  61%|███████████       | 806/1317 [06:45<05:01,  1.70it/s]"
     ]
    },
    {
     "name": "stdout",
     "output_type": "stream",
     "text": [
      "উখহা\n",
      "ওফন্দা\n"
     ]
    },
    {
     "name": "stderr",
     "output_type": "stream",
     "text": [
      "Processed word: ফৰিং:  62%|███████████       | 812/1317 [06:47<02:38,  3.18it/s]"
     ]
    },
    {
     "name": "stdout",
     "output_type": "stream",
     "text": [
      "জিঞাঁ\n"
     ]
    },
    {
     "name": "stderr",
     "output_type": "stream",
     "text": [
      "Processed word: বঁটা:  62%|███████████       | 813/1317 [06:47<02:33,  3.28it/s]"
     ]
    },
    {
     "name": "stdout",
     "output_type": "stream",
     "text": [
      "পুৰস্কাৰ\n",
      "বকচিচ\n"
     ]
    },
    {
     "name": "stderr",
     "output_type": "stream",
     "text": [
      "Processed word: বগা:  62%|███████████▊       | 817/1317 [06:48<02:44,  3.03it/s]"
     ]
    },
    {
     "name": "stdout",
     "output_type": "stream",
     "text": [
      "ধলা\n",
      "গোৰা\n"
     ]
    },
    {
     "name": "stderr",
     "output_type": "stream",
     "text": [
      "Processed word: বঙহ:  62%|███████████▊       | 818/1317 [06:49<02:32,  3.27it/s]"
     ]
    },
    {
     "name": "stdout",
     "output_type": "stream",
     "text": [
      "মিতিৰ\n",
      "আপোন\n",
      "কুটুম\n",
      "নিজ\n"
     ]
    },
    {
     "name": "stderr",
     "output_type": "stream",
     "text": [
      "Processed word: বঙালী:  62%|██████████▌      | 819/1317 [06:49<02:32,  3.26it/s]"
     ]
    },
    {
     "name": "stdout",
     "output_type": "stream",
     "text": [
      "বঙাল\n",
      "বঙালী ভাষা\n",
      "বাংলা\n"
     ]
    },
    {
     "name": "stderr",
     "output_type": "stream",
     "text": [
      "Processed word: বছৰ:  62%|███████████▊       | 820/1317 [06:49<02:31,  3.28it/s]"
     ]
    },
    {
     "name": "stdout",
     "output_type": "stream",
     "text": [
      "বৰ্ষ\n",
      "চন\n",
      "ছাল\n",
      "হায়ন\n"
     ]
    },
    {
     "name": "stderr",
     "output_type": "stream",
     "text": [
      "Processed word: বতাহ:  62%|███████████▏      | 823/1317 [06:50<02:19,  3.53it/s]"
     ]
    },
    {
     "name": "stdout",
     "output_type": "stream",
     "text": [
      "বায়ু\n"
     ]
    },
    {
     "name": "stderr",
     "output_type": "stream",
     "text": [
      "Processed word: বল:  63%|████████████▌       | 829/1317 [06:52<02:23,  3.40it/s]"
     ]
    },
    {
     "name": "stdout",
     "output_type": "stream",
     "text": [
      "ঢোপ\n",
      "কন্দুক\n"
     ]
    },
    {
     "name": "stderr",
     "output_type": "stream",
     "text": [
      "Processed word: বলাৎকাৰ:  63%|█████████▍     | 831/1317 [06:52<02:31,  3.20it/s]"
     ]
    },
    {
     "name": "stdout",
     "output_type": "stream",
     "text": [
      "ধৰ্ষণ\n"
     ]
    },
    {
     "name": "stderr",
     "output_type": "stream",
     "text": [
      "Processed word: বলিয়া:  63%|██████████      | 832/1317 [06:53<02:32,  3.18it/s]"
     ]
    },
    {
     "name": "stdout",
     "output_type": "stream",
     "text": [
      "পগলা\n",
      "পাগল\n"
     ]
    },
    {
     "name": "stderr",
     "output_type": "stream",
     "text": [
      "Processed word: বহুত:  64%|███████████▍      | 837/1317 [06:54<02:19,  3.44it/s]"
     ]
    },
    {
     "name": "stdout",
     "output_type": "stream",
     "text": [
      "তামাম\n"
     ]
    },
    {
     "name": "stderr",
     "output_type": "stream",
     "text": [
      "Processed word: বা:  64%|████████████▋       | 838/1317 [06:55<02:15,  3.54it/s]"
     ]
    },
    {
     "name": "stdout",
     "output_type": "stream",
     "text": [
      "মালয়া-বতাহ\n"
     ]
    },
    {
     "name": "stderr",
     "output_type": "stream",
     "text": [
      "Processed word: বাউল:  64%|███████████▍      | 841/1317 [06:55<02:18,  3.43it/s]"
     ]
    },
    {
     "name": "stdout",
     "output_type": "stream",
     "text": [
      "পগলা\n",
      "পাগল\n"
     ]
    },
    {
     "name": "stderr",
     "output_type": "stream",
     "text": [
      "Processed word: বাওঁ:  64%|███████████▌      | 842/1317 [06:56<02:16,  3.48it/s]"
     ]
    },
    {
     "name": "stdout",
     "output_type": "stream",
     "text": [
      "লেবেৰা\n",
      "বাওঁফাল\n",
      "লেবেৰা\n"
     ]
    },
    {
     "name": "stderr",
     "output_type": "stream",
     "text": [
      "Processed word: বাগা:  64%|███████████▌      | 844/1317 [06:56<02:22,  3.32it/s]"
     ]
    },
    {
     "name": "stdout",
     "output_type": "stream",
     "text": [
      "চৰ\n"
     ]
    },
    {
     "name": "stderr",
     "output_type": "stream",
     "text": [
      "Processed word: বাচ:  64%|████████████▏      | 846/1317 [06:57<02:29,  3.16it/s]"
     ]
    },
    {
     "name": "stdout",
     "output_type": "stream",
     "text": [
      "গোন্ধ\n"
     ]
    },
    {
     "name": "stderr",
     "output_type": "stream",
     "text": [
      "Processed word: বাজ:  65%|████████████▎      | 850/1317 [06:58<02:22,  3.27it/s]"
     ]
    },
    {
     "name": "stdout",
     "output_type": "stream",
     "text": [
      "বাহিৰ\n"
     ]
    },
    {
     "name": "stderr",
     "output_type": "stream",
     "text": [
      "Processed word: বাজে:  65%|███████████▋      | 852/1317 [06:59<02:18,  3.36it/s]"
     ]
    },
    {
     "name": "stdout",
     "output_type": "stream",
     "text": [
      "নলগা\n",
      "নালাগা\n",
      "অদৰকাৰী\n",
      "বাহিৰে\n"
     ]
    },
    {
     "name": "stderr",
     "output_type": "stream",
     "text": [
      "Processed word: বাট:  65%|████████████▎      | 853/1317 [06:59<02:21,  3.28it/s]"
     ]
    },
    {
     "name": "stdout",
     "output_type": "stream",
     "text": [
      "আলিবাট\n",
      "ৰাস্তা\n",
      "আলি\n",
      "পথ\n",
      "ৰাহ\n"
     ]
    },
    {
     "name": "stderr",
     "output_type": "stream",
     "text": [
      "Processed word: বাঢ়:  65%|███████████▋      | 855/1317 [07:00<02:27,  3.14it/s]"
     ]
    },
    {
     "name": "stdout",
     "output_type": "stream",
     "text": [
      "বৃদ্ধি পা\n",
      "বিলা\n"
     ]
    },
    {
     "name": "stderr",
     "output_type": "stream",
     "text": [
      "Processed word: বাঢ়নী:  65%|██████████▍     | 856/1317 [07:00<02:19,  3.29it/s]"
     ]
    },
    {
     "name": "stdout",
     "output_type": "stream",
     "text": [
      "জাৰু\n",
      "শোটা\n"
     ]
    },
    {
     "name": "stderr",
     "output_type": "stream",
     "text": [
      "Processed word: বাঢ়ৈ:  65%|███████████      | 858/1317 [07:01<02:11,  3.49it/s]"
     ]
    },
    {
     "name": "stdout",
     "output_type": "stream",
     "text": [
      "কাঠ মিস্ত্ৰী\n",
      "সূতাৰ\n"
     ]
    },
    {
     "name": "stderr",
     "output_type": "stream",
     "text": [
      "Processed word: বাতৰি:  65%|███████████      | 859/1317 [07:01<02:08,  3.57it/s]"
     ]
    },
    {
     "name": "stdout",
     "output_type": "stream",
     "text": [
      "খবৰ\n",
      "বতৰা\n"
     ]
    },
    {
     "name": "stderr",
     "output_type": "stream",
     "text": [
      "Processed word: বান:  65%|████████████▍      | 862/1317 [07:02<02:10,  3.48it/s]"
     ]
    },
    {
     "name": "stdout",
     "output_type": "stream",
     "text": [
      "বৰপানী\n"
     ]
    },
    {
     "name": "stderr",
     "output_type": "stream",
     "text": [
      "Processed word: বানান:  66%|███████████▏     | 863/1317 [07:02<02:11,  3.45it/s]"
     ]
    },
    {
     "name": "stdout",
     "output_type": "stream",
     "text": [
      "আখৰ-জোঁটনি\n"
     ]
    },
    {
     "name": "stderr",
     "output_type": "stream",
     "text": [
      "Processed word: বান্ধ:  66%|███████████▏     | 865/1317 [07:02<02:08,  3.51it/s]"
     ]
    },
    {
     "name": "stdout",
     "output_type": "stream",
     "text": [
      "মথাউৰি\n",
      "ভেটা\n",
      "পানীগড়\n",
      "নদীবান্ধ\n",
      "গাঁঠি\n"
     ]
    },
    {
     "name": "stderr",
     "output_type": "stream",
     "text": [
      "Processed word: বাল:  66%|████████████▌      | 870/1317 [07:04<02:06,  3.53it/s]"
     ]
    },
    {
     "name": "stdout",
     "output_type": "stream",
     "text": [
      "গুপ্তকেশ\n",
      "কামকেশ\n",
      "যৌনকেশ\n"
     ]
    },
    {
     "name": "stderr",
     "output_type": "stream",
     "text": [
      "Processed word: বাহ:  66%|████████████▌      | 872/1317 [07:04<01:59,  3.72it/s]"
     ]
    },
    {
     "name": "stdout",
     "output_type": "stream",
     "text": [
      "চাক\n"
     ]
    },
    {
     "name": "stderr",
     "output_type": "stream",
     "text": [
      "Processed word: বাহা:  66%|███████████▉      | 873/1317 [07:05<01:58,  3.74it/s]"
     ]
    },
    {
     "name": "stdout",
     "output_type": "stream",
     "text": [
      "চাক\n"
     ]
    },
    {
     "name": "stderr",
     "output_type": "stream",
     "text": [
      "Processed word: বাহু:  66%|███████████▉      | 874/1317 [07:05<02:00,  3.68it/s]"
     ]
    },
    {
     "name": "stdout",
     "output_type": "stream",
     "text": [
      "ভকুৱা\n",
      "ঢেকেৰা\n",
      "কাতল\n",
      "বৰগলা\n"
     ]
    },
    {
     "name": "stderr",
     "output_type": "stream",
     "text": [
      "Processed word: বাৰিষা:  67%|██████████▋     | 876/1317 [07:21<35:45,  4.87s/it]"
     ]
    },
    {
     "name": "stdout",
     "output_type": "stream",
     "text": [
      "মৌচুমী\n"
     ]
    },
    {
     "name": "stderr",
     "output_type": "stream",
     "text": [
      "Processed word: বাৰু:  67%|████████████      | 878/1317 [07:21<18:27,  2.52s/it]"
     ]
    },
    {
     "name": "stdout",
     "output_type": "stream",
     "text": [
      "ভাল\n",
      "ভাল\n"
     ]
    },
    {
     "name": "stderr",
     "output_type": "stream",
     "text": [
      "Processed word: বিজুলী:  67%|██████████▋     | 883/1317 [07:23<04:46,  1.51it/s]"
     ]
    },
    {
     "name": "stdout",
     "output_type": "stream",
     "text": [
      "বিদ্যুৎ\n",
      "লাইন\n",
      "কাৰেণ\n"
     ]
    },
    {
     "name": "stderr",
     "output_type": "stream",
     "text": [
      "Processed word: বিনা:  67%|████████████      | 885/1317 [07:23<03:28,  2.07it/s]"
     ]
    },
    {
     "name": "stdout",
     "output_type": "stream",
     "text": [
      "-আকৈ\n"
     ]
    },
    {
     "name": "stderr",
     "output_type": "stream",
     "text": [
      "Processed word: বিয়লি:  67%|██████████▊     | 888/1317 [07:24<02:24,  2.98it/s]"
     ]
    },
    {
     "name": "stdout",
     "output_type": "stream",
     "text": [
      "ভাটিবেলা\n",
      "আবেলি\n",
      "পিছবেলা\n"
     ]
    },
    {
     "name": "stderr",
     "output_type": "stream",
     "text": [
      "Processed word: বিল:  68%|████████████▊      | 890/1317 [07:25<02:09,  3.30it/s]"
     ]
    },
    {
     "name": "stdout",
     "output_type": "stream",
     "text": [
      "হ্ৰদ\n"
     ]
    },
    {
     "name": "stderr",
     "output_type": "stream",
     "text": [
      "Processed word: বিলগ:  68%|████████████▏     | 891/1317 [07:25<02:07,  3.35it/s]"
     ]
    },
    {
     "name": "stdout",
     "output_type": "stream",
     "text": [
      "আলগ\n",
      "সূকীয়া\n",
      "দোছোৰা\n"
     ]
    },
    {
     "name": "stderr",
     "output_type": "stream",
     "text": [
      "Processed word: বিষ:  68%|████████████▉      | 894/1317 [07:26<01:56,  3.62it/s]"
     ]
    },
    {
     "name": "stdout",
     "output_type": "stream",
     "text": [
      "বিহ\n"
     ]
    },
    {
     "name": "stderr",
     "output_type": "stream",
     "text": [
      "Processed word: বিৰলী:  68%|███████████▌     | 898/1317 [07:27<01:58,  3.54it/s]"
     ]
    },
    {
     "name": "stdout",
     "output_type": "stream",
     "text": [
      "মেকুৰী\n"
     ]
    },
    {
     "name": "stderr",
     "output_type": "stream",
     "text": [
      "Processed word: বিৰালী:  68%|██████████▉     | 899/1317 [07:27<01:56,  3.59it/s]"
     ]
    },
    {
     "name": "stdout",
     "output_type": "stream",
     "text": [
      "মেকুৰী\n"
     ]
    },
    {
     "name": "stderr",
     "output_type": "stream",
     "text": [
      "Processed word: বৃশ্চিক:  69%|██████████▎    | 908/1317 [07:30<01:59,  3.42it/s]"
     ]
    },
    {
     "name": "stdout",
     "output_type": "stream",
     "text": [
      "ভালুক-মকৰা\n",
      "বিচ্ছু\n"
     ]
    },
    {
     "name": "stderr",
     "output_type": "stream",
     "text": [
      "Processed word: বৃহস্পতিবাৰ:  69%|███████▌   | 909/1317 [07:30<01:59,  3.41it/s]"
     ]
    },
    {
     "name": "stdout",
     "output_type": "stream",
     "text": [
      "গুৰুবাৰ\n"
     ]
    },
    {
     "name": "stderr",
     "output_type": "stream",
     "text": [
      "Processed word: বেঁকা:  69%|███████████▋     | 910/1317 [07:30<01:55,  3.52it/s]"
     ]
    },
    {
     "name": "stdout",
     "output_type": "stream",
     "text": [
      "কেঁকোৰা\n",
      "ভঁজীয়া\n"
     ]
    },
    {
     "name": "stderr",
     "output_type": "stream",
     "text": [
      "Processed word: বেং:  69%|█████████████▏     | 911/1317 [07:31<01:58,  3.42it/s]"
     ]
    },
    {
     "name": "stdout",
     "output_type": "stream",
     "text": [
      "ভেঁকুলী\n",
      "ভেঁকোলা\n"
     ]
    },
    {
     "name": "stderr",
     "output_type": "stream",
     "text": [
      "Processed word: বেগ:  69%|█████████████▏     | 912/1317 [07:31<01:54,  3.54it/s]"
     ]
    },
    {
     "name": "stdout",
     "output_type": "stream",
     "text": [
      "গতি\n",
      "দ্ৰুতি\n",
      "গতিবেগ\n",
      "দ্ৰুততা\n",
      "ক্ষিপ্ৰতা\n",
      "শীঘ্ৰতা\n"
     ]
    },
    {
     "name": "stderr",
     "output_type": "stream",
     "text": [
      "Processed word: বেচ:  69%|█████████████▏     | 914/1317 [07:32<02:01,  3.31it/s]"
     ]
    },
    {
     "name": "stdout",
     "output_type": "stream",
     "text": [
      "বিক্ৰী কৰ\n"
     ]
    },
    {
     "name": "stderr",
     "output_type": "stream",
     "text": [
      "Processed word: বেজী:  70%|████████████▌     | 916/1317 [07:32<02:02,  3.27it/s]"
     ]
    },
    {
     "name": "stdout",
     "output_type": "stream",
     "text": [
      "ইঞ্জেক্সন\n"
     ]
    },
    {
     "name": "stderr",
     "output_type": "stream",
     "text": [
      "Processed word: বেত:  70%|█████████████▏     | 917/1317 [07:33<01:59,  3.34it/s]"
     ]
    },
    {
     "name": "stdout",
     "output_type": "stream",
     "text": [
      "এছাৰি\n",
      "সৌকা\n"
     ]
    },
    {
     "name": "stderr",
     "output_type": "stream",
     "text": [
      "Processed word: বেপাৰ:  70%|███████████▊     | 918/1317 [07:33<01:57,  3.39it/s]"
     ]
    },
    {
     "name": "stdout",
     "output_type": "stream",
     "text": [
      "পেচা\n",
      "বেহা\n",
      "ব্যৱসায়\n"
     ]
    },
    {
     "name": "stderr",
     "output_type": "stream",
     "text": [
      "Processed word: বেলি:  70%|████████████▌     | 922/1317 [07:34<02:03,  3.19it/s]"
     ]
    },
    {
     "name": "stdout",
     "output_type": "stream",
     "text": [
      "সূৰ্য্য\n",
      "বাৰ\n"
     ]
    },
    {
     "name": "stderr",
     "output_type": "stream",
     "text": [
      "Processed word: বেলেগ:  70%|███████████▉     | 923/1317 [07:34<01:56,  3.39it/s]"
     ]
    },
    {
     "name": "stdout",
     "output_type": "stream",
     "text": [
      "আলগ\n",
      "সূকীয়া\n",
      "দোছোৰা\n"
     ]
    },
    {
     "name": "stderr",
     "output_type": "stream",
     "text": [
      "Processed word: বেহাৰ:  70%|███████████▉     | 924/1317 [07:35<01:50,  3.55it/s]"
     ]
    },
    {
     "name": "stdout",
     "output_type": "stream",
     "text": [
      "সৰিয়হ\n"
     ]
    },
    {
     "name": "stderr",
     "output_type": "stream",
     "text": [
      "Processed word: বেৰ:  70%|█████████████▎     | 925/1317 [07:35<01:51,  3.52it/s]"
     ]
    },
    {
     "name": "stdout",
     "output_type": "stream",
     "text": [
      "দেৱাল\n"
     ]
    },
    {
     "name": "stderr",
     "output_type": "stream",
     "text": [
      "Processed word: বেৰা:  70%|████████████▋     | 926/1317 [07:35<02:04,  3.15it/s]"
     ]
    },
    {
     "name": "stdout",
     "output_type": "stream",
     "text": [
      "জেওৰা\n"
     ]
    },
    {
     "name": "stderr",
     "output_type": "stream",
     "text": [
      "Processed word: বোজা:  71%|████████████▋     | 929/1317 [07:36<01:49,  3.56it/s]"
     ]
    },
    {
     "name": "stdout",
     "output_type": "stream",
     "text": [
      "ভাৰ\n"
     ]
    },
    {
     "name": "stderr",
     "output_type": "stream",
     "text": [
      "Processed word: বোন্দোৰা:  71%|█████████▉    | 931/1317 [07:37<01:46,  3.61it/s]"
     ]
    },
    {
     "name": "stdout",
     "output_type": "stream",
     "text": [
      "কঁটীয়া\n",
      "চাপৰ\n"
     ]
    },
    {
     "name": "stderr",
     "output_type": "stream",
     "text": [
      "Processed word: বোৱা:  71%|████████████▋     | 932/1317 [07:37<01:52,  3.43it/s]"
     ]
    },
    {
     "name": "stdout",
     "output_type": "stream",
     "text": [
      "কঢ়িওৱা\n",
      "নিয়া\n",
      "লৈ যোৱা\n",
      "ব্যৱহাৰ কৰা\n",
      "বজোৱা\n"
     ]
    },
    {
     "name": "stderr",
     "output_type": "stream",
     "text": [
      "Processed word: ব্যৱহাৰকাৰী:  71%|███████▊   | 937/1317 [07:38<01:42,  3.71it/s]"
     ]
    },
    {
     "name": "stdout",
     "output_type": "stream",
     "text": [
      "ইউজাৰ\n"
     ]
    },
    {
     "name": "stderr",
     "output_type": "stream",
     "text": [
      "Processed word: ব্ৰহ্মপুত্ৰ:  71%|███████▊   | 938/1317 [07:39<01:40,  3.76it/s]"
     ]
    },
    {
     "name": "stdout",
     "output_type": "stream",
     "text": [
      "লুইত\n",
      "বৰলুইত\n",
      "বৰনৈ\n"
     ]
    },
    {
     "name": "stderr",
     "output_type": "stream",
     "text": [
      "Processed word: বৰ:  71%|██████████████▎     | 939/1317 [07:39<01:47,  3.52it/s]"
     ]
    },
    {
     "name": "stdout",
     "output_type": "stream",
     "text": [
      "দৰা\n"
     ]
    },
    {
     "name": "stderr",
     "output_type": "stream",
     "text": [
      "Processed word: বৰণ:  71%|█████████████▌     | 940/1317 [07:39<01:48,  3.47it/s]"
     ]
    },
    {
     "name": "stdout",
     "output_type": "stream",
     "text": [
      "ৰং\n",
      "বোল\n"
     ]
    },
    {
     "name": "stderr",
     "output_type": "stream",
     "text": [
      "Processed word: বৰশী:  72%|████████████▊     | 942/1317 [07:40<01:49,  3.41it/s]"
     ]
    },
    {
     "name": "stdout",
     "output_type": "stream",
     "text": [
      "আঁকোৰা\n"
     ]
    },
    {
     "name": "stderr",
     "output_type": "stream",
     "text": [
      "Processed word: বৰষ:  72%|█████████████▌     | 943/1317 [07:40<01:49,  3.40it/s]"
     ]
    },
    {
     "name": "stdout",
     "output_type": "stream",
     "text": [
      "বৰষুণ দে\n",
      "বৰষুণ পৰ\n",
      "বৰষুণ হ\n"
     ]
    },
    {
     "name": "stderr",
     "output_type": "stream",
     "text": [
      "Processed word: বৰা:  72%|█████████████▌     | 944/1317 [07:40<01:48,  3.45it/s]"
     ]
    },
    {
     "name": "stdout",
     "output_type": "stream",
     "text": [
      "গাহৰি\n"
     ]
    },
    {
     "name": "stderr",
     "output_type": "stream",
     "text": [
      "Processed word: ভজা:  72%|█████████████▊     | 954/1317 [08:15<04:16,  1.42it/s]"
     ]
    },
    {
     "name": "stdout",
     "output_type": "stream",
     "text": [
      "পূজা কৰা\n",
      "প্ৰাৰ্থনা কৰা\n",
      "সেৱা কৰা\n",
      "উপাসনা কৰা\n"
     ]
    },
    {
     "name": "stderr",
     "output_type": "stream",
     "text": [
      "Processed word: ভতাৰ:  73%|█████████████     | 955/1317 [08:15<03:28,  1.74it/s]"
     ]
    },
    {
     "name": "stdout",
     "output_type": "stream",
     "text": [
      "গিৰি\n",
      "স্বামী\n",
      "পৈ\n"
     ]
    },
    {
     "name": "stderr",
     "output_type": "stream",
     "text": [
      "Processed word: ভবা:  73%|█████████████▊     | 957/1317 [08:16<02:35,  2.31it/s]"
     ]
    },
    {
     "name": "stdout",
     "output_type": "stream",
     "text": [
      "চিন্তা কৰা\n",
      "চিন্তা\n",
      "লগা\n",
      "অনুভৱ কৰা\n"
     ]
    },
    {
     "name": "stderr",
     "output_type": "stream",
     "text": [
      "Processed word: ভহা:  73%|█████████████▊     | 959/1317 [08:16<02:09,  2.76it/s]"
     ]
    },
    {
     "name": "stdout",
     "output_type": "stream",
     "text": [
      "ওপঙা\n"
     ]
    },
    {
     "name": "stderr",
     "output_type": "stream",
     "text": [
      "Processed word: ভাঁৰ:  73%|█████████████     | 960/1317 [08:17<02:02,  2.91it/s]"
     ]
    },
    {
     "name": "stdout",
     "output_type": "stream",
     "text": [
      "ঠগ\n",
      "চকুত ধূলি মাৰ\n",
      "ছল কৰ\n",
      "ফাংবাজী মাৰ\n",
      "এপাহ মাৰ\n",
      "টেপাই মাৰ\n"
     ]
    },
    {
     "name": "stderr",
     "output_type": "stream",
     "text": [
      "Processed word: ভাগ:  73%|█████████████▉     | 962/1317 [08:17<02:06,  2.82it/s]"
     ]
    },
    {
     "name": "stdout",
     "output_type": "stream",
     "text": [
      "ছোৱা\n",
      "অংশ\n",
      "পলা\n"
     ]
    },
    {
     "name": "stderr",
     "output_type": "stream",
     "text": [
      "Processed word: ভাগা:  73%|█████████████▏    | 963/1317 [08:18<02:05,  2.82it/s]"
     ]
    },
    {
     "name": "stdout",
     "output_type": "stream",
     "text": [
      "পলোৱা\n"
     ]
    },
    {
     "name": "stderr",
     "output_type": "stream",
     "text": [
      "Processed word: ভাহা:  74%|█████████████▎    | 974/1317 [08:21<01:43,  3.32it/s]"
     ]
    },
    {
     "name": "stdout",
     "output_type": "stream",
     "text": [
      "ওপঙা\n"
     ]
    },
    {
     "name": "stderr",
     "output_type": "stream",
     "text": [
      "Processed word: ভাৰত:  74%|█████████████▎    | 975/1317 [08:21<01:44,  3.28it/s]"
     ]
    },
    {
     "name": "stdout",
     "output_type": "stream",
     "text": [
      "ভাৰতবৰ্ষ\n"
     ]
    },
    {
     "name": "stderr",
     "output_type": "stream",
     "text": [
      "Processed word: ভুকা:  74%|█████████████▎    | 978/1317 [08:22<01:41,  3.33it/s]"
     ]
    },
    {
     "name": "stdout",
     "output_type": "stream",
     "text": [
      "ভৌ ভৌ কৰা\n"
     ]
    },
    {
     "name": "stderr",
     "output_type": "stream",
     "text": [
      "Processed word: ভুৱা:  74%|█████████████▍    | 980/1317 [08:23<01:41,  3.33it/s]"
     ]
    },
    {
     "name": "stdout",
     "output_type": "stream",
     "text": [
      "নকল\n"
     ]
    },
    {
     "name": "stderr",
     "output_type": "stream",
     "text": [
      "Processed word: ভূঁই:  74%|█████████████▍    | 981/1317 [08:23<01:40,  3.34it/s]"
     ]
    },
    {
     "name": "stdout",
     "output_type": "stream",
     "text": [
      "পৃথিৱী\n",
      "ইলিকা\n",
      "ধৰা\n",
      "মেদিনী\n",
      "মহী\n",
      "দোহিনী\n",
      "মাটি\n"
     ]
    },
    {
     "name": "stderr",
     "output_type": "stream",
     "text": [
      "Processed word: ভূত:  75%|██████████████▏    | 983/1317 [08:24<01:43,  3.24it/s]"
     ]
    },
    {
     "name": "stdout",
     "output_type": "stream",
     "text": [
      "ডাইনী\n",
      "তাল\n",
      "দ’ত\n",
      "বাঁক\n",
      "খেতৰ\n",
      "হাটোৱালী\n",
      "ঘোৰাপাক\n",
      "বেতাল\n",
      "দেও\n",
      "কালধূমা\n",
      "ডাঙৰীয়া\n",
      "যখ\n"
     ]
    },
    {
     "name": "stderr",
     "output_type": "stream",
     "text": [
      "Processed word: ভূমিকম্প:  75%|██████████▍   | 984/1317 [08:24<01:38,  3.38it/s]"
     ]
    },
    {
     "name": "stdout",
     "output_type": "stream",
     "text": [
      "ভূঁইকঁপ\n"
     ]
    },
    {
     "name": "stderr",
     "output_type": "stream",
     "text": [
      "Processed word: ভেঁকুলী:  75%|███████████▏   | 985/1317 [08:24<01:36,  3.45it/s]"
     ]
    },
    {
     "name": "stdout",
     "output_type": "stream",
     "text": [
      "বেং\n"
     ]
    },
    {
     "name": "stderr",
     "output_type": "stream",
     "text": [
      "Processed word: ভেকুলী:  75%|███████████▉    | 986/1317 [08:25<01:31,  3.61it/s]"
     ]
    },
    {
     "name": "stdout",
     "output_type": "stream",
     "text": [
      "বেং\n"
     ]
    },
    {
     "name": "stderr",
     "output_type": "stream",
     "text": [
      "Processed word: ভেল:  75%|██████████████▎    | 988/1317 [08:25<01:30,  3.65it/s]"
     ]
    },
    {
     "name": "stdout",
     "output_type": "stream",
     "text": [
      "ভূৰ\n"
     ]
    },
    {
     "name": "stderr",
     "output_type": "stream",
     "text": [
      "Processed word: ভোক্তা:  75%|████████████    | 991/1317 [08:26<01:27,  3.73it/s]"
     ]
    },
    {
     "name": "stdout",
     "output_type": "stream",
     "text": [
      "খাওঁতা\n",
      "খাৱৰীয়া\n",
      "গ্ৰাহক\n"
     ]
    },
    {
     "name": "stderr",
     "output_type": "stream",
     "text": [
      "Processed word: ভোজ:  75%|██████████████▎    | 992/1317 [08:26<01:26,  3.76it/s]"
     ]
    },
    {
     "name": "stdout",
     "output_type": "stream",
     "text": [
      "লগ-ভাত\n"
     ]
    },
    {
     "name": "stderr",
     "output_type": "stream",
     "text": [
      "Processed word: ভোট:  75%|██████████████▎    | 993/1317 [08:26<01:29,  3.64it/s]"
     ]
    },
    {
     "name": "stdout",
     "output_type": "stream",
     "text": [
      "ভুটীয়া\n",
      "ভূটান\n",
      "ভোট দেশ\n",
      "মত\n",
      "ৰায়\n",
      "ফয়চলা\n"
     ]
    },
    {
     "name": "stderr",
     "output_type": "stream",
     "text": [
      "Processed word: মঙহ:  76%|█████████████▋    | 1002/1317 [08:35<07:19,  1.40s/it]"
     ]
    },
    {
     "name": "stdout",
     "output_type": "stream",
     "text": [
      "গোছ\n"
     ]
    },
    {
     "name": "stderr",
     "output_type": "stream",
     "text": [
      "Processed word: মচা:  76%|█████████████▋    | 1003/1317 [08:35<05:34,  1.07s/it]"
     ]
    },
    {
     "name": "stdout",
     "output_type": "stream",
     "text": [
      "সৰা\n",
      "জৰা\n",
      "জাৰু দিয়া\n",
      "মোহৰা\n"
     ]
    },
    {
     "name": "stderr",
     "output_type": "stream",
     "text": [
      "Processed word: মজা:  76%|█████████████▋    | 1004/1317 [08:36<04:23,  1.19it/s]"
     ]
    },
    {
     "name": "stdout",
     "output_type": "stream",
     "text": [
      "জুতিলগা\n",
      "গাহাম\n",
      "ফূৰ্ত্তি\n",
      "ৰং\n",
      "উলাহ\n",
      "আমেজ\n",
      "সুখ\n",
      "ঘঁহা\n",
      "ঘঁহা\n",
      "তুলতুলীয়া\n",
      "নৰম\n",
      "ফেপা\n",
      "কোমল\n",
      "শেলুকীয়া\n",
      "ফেচফেচীয়া\n",
      "মোলায়েম\n",
      "সোপসুপীয়া\n",
      "ফেচেকা\n",
      "দবা\n",
      "জমা\n"
     ]
    },
    {
     "name": "stderr",
     "output_type": "stream",
     "text": [
      "Processed word: মতা:  76%|█████████████▊    | 1007/1317 [08:37<02:32,  2.04it/s]"
     ]
    },
    {
     "name": "stdout",
     "output_type": "stream",
     "text": [
      "গিৰি\n",
      "পতি\n",
      "উচ্চাৰণ কৰা\n",
      "আমন্ত্ৰণ কৰা\n",
      "নিমন্ত্ৰণ কৰা\n",
      "কথা পতা\n"
     ]
    },
    {
     "name": "stderr",
     "output_type": "stream",
     "text": [
      "Processed word: মধুৰি:  77%|████████████▎   | 1009/1317 [08:37<01:53,  2.71it/s]"
     ]
    },
    {
     "name": "stdout",
     "output_type": "stream",
     "text": [
      "সঁফুৰি আম\n",
      "মুহৰী\n"
     ]
    },
    {
     "name": "stderr",
     "output_type": "stream",
     "text": [
      "Processed word: মনা:  77%|█████████████▊    | 1011/1317 [08:38<01:48,  2.82it/s]"
     ]
    },
    {
     "name": "stdout",
     "output_type": "stream",
     "text": [
      "দেখা\n"
     ]
    },
    {
     "name": "stderr",
     "output_type": "stream",
     "text": [
      "Processed word: মন্ত্ৰী:  77%|██████████▊   | 1012/1317 [08:38<01:39,  3.06it/s]"
     ]
    },
    {
     "name": "stdout",
     "output_type": "stream",
     "text": [
      "উজীৰ\n",
      "মিনিষ্টাৰ\n"
     ]
    },
    {
     "name": "stderr",
     "output_type": "stream",
     "text": [
      "Processed word: মলি:  77%|█████████████▊    | 1015/1317 [08:39<01:31,  3.30it/s]"
     ]
    },
    {
     "name": "stdout",
     "output_type": "stream",
     "text": [
      "ওখল\n",
      "ময়লা\n"
     ]
    },
    {
     "name": "stderr",
     "output_type": "stream",
     "text": [
      "Processed word: মহঙা:  77%|█████████████▏   | 1017/1317 [08:39<01:32,  3.25it/s]"
     ]
    },
    {
     "name": "stdout",
     "output_type": "stream",
     "text": [
      "দামী\n",
      "সোণসেৰীয়া\n",
      "বহুমূলীয়া\n",
      "মৰগীয়া\n",
      "মূল্যৱান\n"
     ]
    },
    {
     "name": "stderr",
     "output_type": "stream",
     "text": [
      "Processed word: মহিলা:  77%|████████████▎   | 1018/1317 [08:40<01:30,  3.32it/s]"
     ]
    },
    {
     "name": "stdout",
     "output_type": "stream",
     "text": [
      "মাইকী মানুহ\n",
      "নাৰী\n"
     ]
    },
    {
     "name": "stderr",
     "output_type": "stream",
     "text": [
      "Processed word: মহী:  77%|█████████████▉    | 1019/1317 [08:40<01:29,  3.32it/s]"
     ]
    },
    {
     "name": "stdout",
     "output_type": "stream",
     "text": [
      "চিয়াঁহী\n",
      "কালী\n"
     ]
    },
    {
     "name": "stderr",
     "output_type": "stream",
     "text": [
      "Processed word: মা:  77%|██████████████▋    | 1020/1317 [08:40<01:27,  3.41it/s]"
     ]
    },
    {
     "name": "stdout",
     "output_type": "stream",
     "text": [
      "আই\n",
      "আম্মা\n"
     ]
    },
    {
     "name": "stderr",
     "output_type": "stream",
     "text": [
      "Processed word: মাংস:  78%|█████████████▏   | 1021/1317 [08:41<01:27,  3.37it/s]"
     ]
    },
    {
     "name": "stdout",
     "output_type": "stream",
     "text": [
      "গোছ\n"
     ]
    },
    {
     "name": "stderr",
     "output_type": "stream",
     "text": [
      "Processed word: মাও:  78%|█████████████▉    | 1023/1317 [08:41<01:21,  3.61it/s]"
     ]
    },
    {
     "name": "stdout",
     "output_type": "stream",
     "text": [
      "আই\n",
      "আম্মা\n"
     ]
    },
    {
     "name": "stderr",
     "output_type": "stream",
     "text": [
      "Processed word: মাখ:  78%|██████████████    | 1026/1317 [08:42<01:22,  3.53it/s]"
     ]
    },
    {
     "name": "stdout",
     "output_type": "stream",
     "text": [
      "সান\n"
     ]
    },
    {
     "name": "stderr",
     "output_type": "stream",
     "text": [
      "Processed word: মাখন:  78%|█████████████▎   | 1027/1317 [08:42<01:19,  3.64it/s]"
     ]
    },
    {
     "name": "stdout",
     "output_type": "stream",
     "text": [
      "ননী\n",
      "লৱনু\n"
     ]
    },
    {
     "name": "stderr",
     "output_type": "stream",
     "text": [
      "Processed word: মাজা:  79%|█████████████▎   | 1035/1317 [08:45<01:28,  3.19it/s]"
     ]
    },
    {
     "name": "stdout",
     "output_type": "stream",
     "text": [
      "ঘঁহা\n",
      "ঘঁহা\n"
     ]
    },
    {
     "name": "stderr",
     "output_type": "stream",
     "text": [
      "Processed word: মাণিক:  79%|████████████▌   | 1038/1317 [08:46<01:26,  3.24it/s]"
     ]
    },
    {
     "name": "stdout",
     "output_type": "stream",
     "text": [
      "ডালিমা\n",
      "চুনী\n"
     ]
    },
    {
     "name": "stderr",
     "output_type": "stream",
     "text": [
      "Processed word: মাত:  79%|██████████████▏   | 1039/1317 [08:46<01:30,  3.07it/s]"
     ]
    },
    {
     "name": "stdout",
     "output_type": "stream",
     "text": [
      "ডাক\n",
      "উচ্চাৰণ কৰা\n",
      "আমন্ত্ৰণ কৰা\n",
      "নিমন্ত্ৰণ কৰা\n",
      "কথা পতা\n"
     ]
    },
    {
     "name": "stderr",
     "output_type": "stream",
     "text": [
      "Processed word: মাতা:  79%|█████████████▍   | 1040/1317 [08:46<01:31,  3.03it/s]"
     ]
    },
    {
     "name": "stdout",
     "output_type": "stream",
     "text": [
      "উচ্চাৰণ কৰা\n",
      "আমন্ত্ৰণ কৰা\n",
      "নিমন্ত্ৰণ কৰা\n",
      "কথা পতা\n"
     ]
    },
    {
     "name": "stderr",
     "output_type": "stream",
     "text": [
      "Processed word: মান:  79%|██████████████▏   | 1041/1317 [08:47<01:25,  3.23it/s]"
     ]
    },
    {
     "name": "stdout",
     "output_type": "stream",
     "text": [
      "সন্মান\n",
      "শ্ৰদ্ধা\n",
      "কদৰ\n",
      "আদৰ\n",
      "সমাদৰ\n",
      "সাদৰ\n",
      "ইজ্জত\n",
      "মাত্ৰা\n",
      "মানক\n",
      "মান্য\n",
      "প্ৰমাণিক\n",
      "মানতৰা\n"
     ]
    },
    {
     "name": "stderr",
     "output_type": "stream",
     "text": [
      "Processed word: মাল:  79%|██████████████▎   | 1045/1317 [08:48<01:19,  3.43it/s]"
     ]
    },
    {
     "name": "stdout",
     "output_type": "stream",
     "text": [
      "বস্তু\n",
      "নিচাযুক্ত বস্তু\n",
      "টকা\n",
      "পইচা\n",
      "মাল-যুঁজাৰু\n",
      "পালোৱান\n"
     ]
    },
    {
     "name": "stderr",
     "output_type": "stream",
     "text": [
      "Processed word: মাহী:  79%|█████████████▌   | 1047/1317 [08:48<01:17,  3.49it/s]"
     ]
    },
    {
     "name": "stdout",
     "output_type": "stream",
     "text": [
      "জেঠাই\n"
     ]
    },
    {
     "name": "stderr",
     "output_type": "stream",
     "text": [
      "Processed word: মাৰা:  80%|█████████████▌   | 1048/1317 [08:49<01:17,  3.46it/s]"
     ]
    },
    {
     "name": "stdout",
     "output_type": "stream",
     "text": [
      "পিটা\n",
      "হত্যা কৰা\n"
     ]
    },
    {
     "name": "stderr",
     "output_type": "stream",
     "text": [
      "Processed word: মিছা:  80%|█████████████▌   | 1049/1317 [08:49<01:19,  3.37it/s]"
     ]
    },
    {
     "name": "stdout",
     "output_type": "stream",
     "text": [
      "ফাঁকি\n",
      "ভুৱা\n",
      "ফাকটি\n",
      "বাদি\n",
      "শো\n",
      "অসত্য\n"
     ]
    },
    {
     "name": "stderr",
     "output_type": "stream",
     "text": [
      "Processed word: মিহল:  80%|█████████████▌   | 1051/1317 [08:50<01:22,  3.24it/s]"
     ]
    },
    {
     "name": "stdout",
     "output_type": "stream",
     "text": [
      "মিল\n"
     ]
    },
    {
     "name": "stderr",
     "output_type": "stream",
     "text": [
      "Processed word: মিহলা:  80%|████████████▊   | 1052/1317 [08:50<01:21,  3.27it/s]"
     ]
    },
    {
     "name": "stdout",
     "output_type": "stream",
     "text": [
      "মিলা\n"
     ]
    },
    {
     "name": "stderr",
     "output_type": "stream",
     "text": [
      "Processed word: মিহলি:  80%|████████████▊   | 1053/1317 [08:50<01:19,  3.32it/s]"
     ]
    },
    {
     "name": "stdout",
     "output_type": "stream",
     "text": [
      "খিচিৰি\n"
     ]
    },
    {
     "name": "stderr",
     "output_type": "stream",
     "text": [
      "Processed word: মুজা:  80%|█████████████▌   | 1055/1317 [08:51<01:19,  3.30it/s]"
     ]
    },
    {
     "name": "stdout",
     "output_type": "stream",
     "text": [
      "মুদা\n",
      "মুদা\n"
     ]
    },
    {
     "name": "stderr",
     "output_type": "stream",
     "text": [
      "Processed word: মূত:  81%|██████████████▌   | 1061/1317 [08:52<01:11,  3.58it/s]"
     ]
    },
    {
     "name": "stdout",
     "output_type": "stream",
     "text": [
      "পেচাপ\n"
     ]
    },
    {
     "name": "stderr",
     "output_type": "stream",
     "text": [
      "Processed word: মূতা:  81%|█████████████▋   | 1062/1317 [08:53<01:14,  3.41it/s]"
     ]
    },
    {
     "name": "stdout",
     "output_type": "stream",
     "text": [
      "পেছাপ কৰা\n"
     ]
    },
    {
     "name": "stderr",
     "output_type": "stream",
     "text": [
      "Processed word: মূৰ:  81%|██████████████▌   | 1064/1317 [08:53<01:15,  3.35it/s]"
     ]
    },
    {
     "name": "stdout",
     "output_type": "stream",
     "text": [
      "মাথা\n",
      "মাথ\n"
     ]
    },
    {
     "name": "stderr",
     "output_type": "stream",
     "text": [
      "Processed word: মেঘ:  81%|██████████████▌   | 1066/1317 [08:54<01:17,  3.24it/s]"
     ]
    },
    {
     "name": "stdout",
     "output_type": "stream",
     "text": [
      "ডাৱৰ\n"
     ]
    },
    {
     "name": "stderr",
     "output_type": "stream",
     "text": [
      "Processed word: মেলা:  81%|█████████████▊   | 1067/1317 [08:54<01:21,  3.08it/s]"
     ]
    },
    {
     "name": "stdout",
     "output_type": "stream",
     "text": [
      "পৰা\n",
      "ফুলা\n",
      "বহলোৱা\n"
     ]
    },
    {
     "name": "stderr",
     "output_type": "stream",
     "text": [
      "Processed word: মেহ:  81%|██████████████▌   | 1068/1317 [08:55<01:22,  3.02it/s]"
     ]
    },
    {
     "name": "stdout",
     "output_type": "stream",
     "text": [
      "ডাৱৰ\n",
      "পেচাপ\n",
      "মূত\n"
     ]
    },
    {
     "name": "stderr",
     "output_type": "stream",
     "text": [
      "Processed word: মোল:  82%|██████████████▋   | 1075/1317 [08:57<01:14,  3.23it/s]"
     ]
    },
    {
     "name": "stdout",
     "output_type": "stream",
     "text": [
      "দাম\n",
      "দৰ\n",
      "মূল্য\n",
      "বেচ\n"
     ]
    },
    {
     "name": "stderr",
     "output_type": "stream",
     "text": [
      "Processed word: মৰ:  82%|███████████████▌   | 1077/1317 [08:58<01:14,  3.22it/s]"
     ]
    },
    {
     "name": "stdout",
     "output_type": "stream",
     "text": [
      "ঢুকা\n",
      "মৃত্যু হ\n",
      "নিহত হ\n",
      "মৌত হ\n"
     ]
    },
    {
     "name": "stderr",
     "output_type": "stream",
     "text": [
      "Processed word: যুঁজা:  82%|█████████████▏  | 1086/1317 [09:00<01:08,  3.36it/s]"
     ]
    },
    {
     "name": "stdout",
     "output_type": "stream",
     "text": [
      "যুদ্ধ কৰা\n"
     ]
    },
    {
     "name": "stderr",
     "output_type": "stream",
     "text": [
      "Processed word: যোগোৱা:  83%|████████████▍  | 1089/1317 [09:01<01:07,  3.38it/s]"
     ]
    },
    {
     "name": "stdout",
     "output_type": "stream",
     "text": [
      "যোগান ধৰা\n"
     ]
    },
    {
     "name": "stderr",
     "output_type": "stream",
     "text": [
      "Processed word: লগা:  83%|██████████████▉   | 1093/1317 [09:03<01:08,  3.29it/s]"
     ]
    },
    {
     "name": "stdout",
     "output_type": "stream",
     "text": [
      "দৰকাৰ\n",
      "প্ৰয়োজন\n",
      "বিচৰা\n",
      "আৰম্ভ কৰা\n",
      "হোৱা\n"
     ]
    },
    {
     "name": "stderr",
     "output_type": "stream",
     "text": [
      "Processed word: লঘোন:  83%|██████████████   | 1094/1317 [09:03<01:04,  3.48it/s]"
     ]
    },
    {
     "name": "stdout",
     "output_type": "stream",
     "text": [
      "ৰোজা\n"
     ]
    },
    {
     "name": "stderr",
     "output_type": "stream",
     "text": [
      "Processed word: লনী:  83%|██████████████▉   | 1096/1317 [09:03<01:04,  3.45it/s]"
     ]
    },
    {
     "name": "stdout",
     "output_type": "stream",
     "text": [
      "মাখন\n"
     ]
    },
    {
     "name": "stderr",
     "output_type": "stream",
     "text": [
      "Processed word: লহৰ:  83%|███████████████   | 1098/1317 [09:04<01:03,  3.44it/s]"
     ]
    },
    {
     "name": "stdout",
     "output_type": "stream",
     "text": [
      "ঢৌ\n",
      "তৰংগ\n"
     ]
    },
    {
     "name": "stderr",
     "output_type": "stream",
     "text": [
      "Processed word: লহৰি:  83%|██████████████▏  | 1099/1317 [09:04<01:02,  3.50it/s]"
     ]
    },
    {
     "name": "stdout",
     "output_type": "stream",
     "text": [
      "ঢৌ\n",
      "তৰংগ\n"
     ]
    },
    {
     "name": "stderr",
     "output_type": "stream",
     "text": [
      "Processed word: লাই:  84%|███████████████   | 1100/1317 [09:05<01:03,  3.41it/s]"
     ]
    },
    {
     "name": "stdout",
     "output_type": "stream",
     "text": [
      "ঘাই\n"
     ]
    },
    {
     "name": "stderr",
     "output_type": "stream",
     "text": [
      "Processed word: লাগ:  84%|███████████████   | 1104/1317 [09:06<01:05,  3.27it/s]"
     ]
    },
    {
     "name": "stdout",
     "output_type": "stream",
     "text": [
      "দৰকাৰ\n",
      "প্ৰয়োজন\n",
      "আৰম্ভ কৰা\n",
      "হ\n"
     ]
    },
    {
     "name": "stderr",
     "output_type": "stream",
     "text": [
      "Processed word: লাথি:  84%|██████████████▎  | 1107/1317 [09:07<01:03,  3.28it/s]"
     ]
    },
    {
     "name": "stdout",
     "output_type": "stream",
     "text": [
      "গোৰ\n",
      "গুৰি\n"
     ]
    },
    {
     "name": "stderr",
     "output_type": "stream",
     "text": [
      "Processed word: লিপি:  85%|██████████████▎  | 1113/1317 [09:08<01:01,  3.32it/s]"
     ]
    },
    {
     "name": "stdout",
     "output_type": "stream",
     "text": [
      "আখৰ\n",
      "হৰফ\n"
     ]
    },
    {
     "name": "stderr",
     "output_type": "stream",
     "text": [
      "Processed word: লুইত:  85%|██████████████▍  | 1114/1317 [09:09<00:57,  3.52it/s]"
     ]
    },
    {
     "name": "stdout",
     "output_type": "stream",
     "text": [
      "ব্ৰহ্মপুত্ৰ\n",
      "বৰলুইত\n",
      "বৰনৈ\n",
      "বুঢ়ালুইত\n"
     ]
    },
    {
     "name": "stderr",
     "output_type": "stream",
     "text": [
      "Processed word: লোক:  85%|███████████████▎  | 1117/1317 [09:10<01:01,  3.27it/s]"
     ]
    },
    {
     "name": "stdout",
     "output_type": "stream",
     "text": [
      "আন\n",
      "পৰ\n",
      "বেলেগ\n"
     ]
    },
    {
     "name": "stderr",
     "output_type": "stream",
     "text": [
      "Processed word: লোকপ্ৰিয়:  85%|██████████▏ | 1118/1317 [09:10<01:00,  3.31it/s]"
     ]
    },
    {
     "name": "stdout",
     "output_type": "stream",
     "text": [
      "জনপ্ৰিয়\n"
     ]
    },
    {
     "name": "stderr",
     "output_type": "stream",
     "text": [
      "Processed word: লোণ:  85%|███████████████▎  | 1119/1317 [09:10<00:57,  3.47it/s]"
     ]
    },
    {
     "name": "stdout",
     "output_type": "stream",
     "text": [
      "নিমখ\n",
      "মহং\n"
     ]
    },
    {
     "name": "stderr",
     "output_type": "stream",
     "text": [
      "Processed word: লৰা:  85%|███████████████▎  | 1121/1317 [09:11<00:58,  3.33it/s]"
     ]
    },
    {
     "name": "stdout",
     "output_type": "stream",
     "text": [
      "যোৱা\n",
      "গেলা\n",
      "পচা\n"
     ]
    },
    {
     "name": "stderr",
     "output_type": "stream",
     "text": [
      "Processed word: লৱনু:  85%|██████████████▍  | 1123/1317 [09:11<00:54,  3.57it/s]"
     ]
    },
    {
     "name": "stdout",
     "output_type": "stream",
     "text": [
      "মাখন\n"
     ]
    },
    {
     "name": "stderr",
     "output_type": "stream",
     "text": [
      "Processed word: ল’ৰা:  85%|██████████████▌  | 1124/1317 [09:12<00:56,  3.43it/s]"
     ]
    },
    {
     "name": "stdout",
     "output_type": "stream",
     "text": [
      "বোপা\n",
      "ছৱাল\n",
      "লিকিৰা\n",
      "লাড়িকা\n",
      "আপা\n",
      "দুলাল\n",
      "পুত\n",
      "পো\n"
     ]
    },
    {
     "name": "stderr",
     "output_type": "stream",
     "text": [
      "Processed word: শইচ:  85%|███████████████▍  | 1125/1317 [09:12<00:55,  3.46it/s]"
     ]
    },
    {
     "name": "stdout",
     "output_type": "stream",
     "text": [
      "ফচল\n",
      "শস্য\n"
     ]
    },
    {
     "name": "stderr",
     "output_type": "stream",
     "text": [
      "Processed word: শক:  85%|████████████████▏  | 1126/1317 [09:12<00:53,  3.58it/s]"
     ]
    },
    {
     "name": "stdout",
     "output_type": "stream",
     "text": [
      "শাক\n"
     ]
    },
    {
     "name": "stderr",
     "output_type": "stream",
     "text": [
      "Processed word: শক্তিশালী:  86%|██████████▎ | 1127/1317 [09:12<00:51,  3.67it/s]"
     ]
    },
    {
     "name": "stdout",
     "output_type": "stream",
     "text": [
      "হাত-দীঘল\n",
      "প্ৰতাপী\n",
      "প্ৰভাৱশালী\n",
      "সবল\n",
      "প্ৰতাৱী\n",
      "ক্ষমতাপন্ন\n",
      "ক্ষমতাশালী\n",
      "তেজস্বী\n",
      "মজবুত\n",
      "পহুৱাল\n",
      "বলীয়ান\n",
      "বলৱান\n"
     ]
    },
    {
     "name": "stderr",
     "output_type": "stream",
     "text": [
      "Processed word: শব্দ:  86%|██████████████▌  | 1130/1317 [09:13<00:51,  3.63it/s]"
     ]
    },
    {
     "name": "stdout",
     "output_type": "stream",
     "text": [
      "আৱাজ\n",
      "জনজননি\n"
     ]
    },
    {
     "name": "stderr",
     "output_type": "stream",
     "text": [
      "Processed word: শলা:  86%|███████████████▍  | 1131/1317 [09:14<00:52,  3.57it/s]"
     ]
    },
    {
     "name": "stdout",
     "output_type": "stream",
     "text": [
      "মাৰি\n",
      "ডাঁৰ\n",
      "দাণ্ডি\n",
      "ডাঁৰিকি\n"
     ]
    },
    {
     "name": "stderr",
     "output_type": "stream",
     "text": [
      "Processed word: শস্য:  86%|██████████████▌  | 1133/1317 [09:14<00:49,  3.72it/s]"
     ]
    },
    {
     "name": "stdout",
     "output_type": "stream",
     "text": [
      "ফচল\n",
      "শইচ\n"
     ]
    },
    {
     "name": "stderr",
     "output_type": "stream",
     "text": [
      "Processed word: শাক:  87%|███████████████▌  | 1141/1317 [09:17<01:16,  2.32it/s]"
     ]
    },
    {
     "name": "stdout",
     "output_type": "stream",
     "text": [
      "শক\n"
     ]
    },
    {
     "name": "stderr",
     "output_type": "stream",
     "text": [
      "Processed word: শামুক:  87%|█████████████▉  | 1143/1317 [09:18<01:16,  2.28it/s]"
     ]
    },
    {
     "name": "stdout",
     "output_type": "stream",
     "text": [
      "জেলুক\n"
     ]
    },
    {
     "name": "stderr",
     "output_type": "stream",
     "text": [
      "Processed word: শাল:  87%|███████████████▋  | 1144/1317 [09:18<01:11,  2.43it/s]"
     ]
    },
    {
     "name": "stdout",
     "output_type": "stream",
     "text": [
      "কল\n",
      "যন্ত্ৰ\n",
      "কাৰখানা\n",
      "কলঘৰ\n",
      "কুঠী\n"
     ]
    },
    {
     "name": "stderr",
     "output_type": "stream",
     "text": [
      "Processed word: শালি:  87%|██████████████▊  | 1145/1317 [09:18<01:05,  2.62it/s]"
     ]
    },
    {
     "name": "stdout",
     "output_type": "stream",
     "text": [
      "ঘৰ\n",
      "হল\n",
      "হলঘৰ\n"
     ]
    },
    {
     "name": "stderr",
     "output_type": "stream",
     "text": [
      "Processed word: শিটা:  88%|██████████████▉  | 1157/1317 [09:22<00:48,  3.28it/s]"
     ]
    },
    {
     "name": "stdout",
     "output_type": "stream",
     "text": [
      "জাবৰি\n",
      "ডাবৰি\n"
     ]
    },
    {
     "name": "stderr",
     "output_type": "stream",
     "text": [
      "Processed word: শিপিনী:  88%|█████████████▏ | 1160/1317 [09:23<00:44,  3.52it/s]"
     ]
    },
    {
     "name": "stdout",
     "output_type": "stream",
     "text": [
      "বোৱনী\n",
      "তাঁতিনী\n"
     ]
    },
    {
     "name": "stderr",
     "output_type": "stream",
     "text": [
      "Processed word: শিয়া:  88%|██████████████▏ | 1163/1317 [09:24<00:42,  3.60it/s]"
     ]
    },
    {
     "name": "stdout",
     "output_type": "stream",
     "text": [
      "শেহ\n",
      "আঁত\n"
     ]
    },
    {
     "name": "stderr",
     "output_type": "stream",
     "text": [
      "Processed word: শিল:  88%|███████████████▉  | 1165/1317 [09:24<00:46,  3.26it/s]"
     ]
    },
    {
     "name": "stdout",
     "output_type": "stream",
     "text": [
      "পাথৰ\n"
     ]
    },
    {
     "name": "stderr",
     "output_type": "stream",
     "text": [
      "Processed word: শিহা:  89%|███████████████  | 1166/1317 [09:24<00:44,  3.41it/s]"
     ]
    },
    {
     "name": "stdout",
     "output_type": "stream",
     "text": [
      "শিহৰি\n",
      "পম\n"
     ]
    },
    {
     "name": "stderr",
     "output_type": "stream",
     "text": [
      "Processed word: শিহু:  89%|███████████████  | 1167/1317 [09:25<00:42,  3.53it/s]"
     ]
    },
    {
     "name": "stdout",
     "output_type": "stream",
     "text": [
      "উলুপী\n",
      "ছীল\n"
     ]
    },
    {
     "name": "stderr",
     "output_type": "stream",
     "text": [
      "Processed word: শুকান:  89%|██████████████▏ | 1169/1317 [09:25<00:40,  3.63it/s]"
     ]
    },
    {
     "name": "stdout",
     "output_type": "stream",
     "text": [
      "ফৰফৰীয়া\n",
      "নিৰস\n",
      "খৰলীয়া\n",
      "জর্জৰীয়া\n",
      "উখৰা\n",
      "খৰখৰীয়া\n",
      "কটুৰ\n",
      "আৰৈয়া\n"
     ]
    },
    {
     "name": "stderr",
     "output_type": "stream",
     "text": [
      "Processed word: শুঙা:  89%|███████████████▏ | 1172/1317 [09:26<00:40,  3.62it/s]"
     ]
    },
    {
     "name": "stdout",
     "output_type": "stream",
     "text": [
      "গোন্ধ লোৱা\n",
      "শুঙি চোৱা\n"
     ]
    },
    {
     "name": "stderr",
     "output_type": "stream",
     "text": [
      "Processed word: শুধ:  89%|████████████████  | 1173/1317 [09:26<00:39,  3.68it/s]"
     ]
    },
    {
     "name": "stdout",
     "output_type": "stream",
     "text": [
      "খাটি\n"
     ]
    },
    {
     "name": "stderr",
     "output_type": "stream",
     "text": [
      "Processed word: শুৱনি:  89%|██████████████▎ | 1176/1317 [09:27<00:39,  3.61it/s]"
     ]
    },
    {
     "name": "stdout",
     "output_type": "stream",
     "text": [
      "ধুনীয়া\n"
     ]
    },
    {
     "name": "stderr",
     "output_type": "stream",
     "text": [
      "Processed word: শেঙুন:  90%|██████████████▎ | 1179/1317 [09:28<00:37,  3.65it/s]"
     ]
    },
    {
     "name": "stdout",
     "output_type": "stream",
     "text": [
      "খেঁকেৰু\n",
      "নাকৰ ঘিঁউ\n"
     ]
    },
    {
     "name": "stderr",
     "output_type": "stream",
     "text": [
      "Processed word: শেন চৰাই:  90%|███████████▋ | 1180/1317 [09:28<00:36,  3.77it/s]"
     ]
    },
    {
     "name": "stdout",
     "output_type": "stream",
     "text": [
      "চিলনী\n"
     ]
    },
    {
     "name": "stderr",
     "output_type": "stream",
     "text": [
      "Processed word: শেলাই:  90%|██████████████▎ | 1181/1317 [09:29<00:36,  3.77it/s]"
     ]
    },
    {
     "name": "stdout",
     "output_type": "stream",
     "text": [
      "মছ\n"
     ]
    },
    {
     "name": "stderr",
     "output_type": "stream",
     "text": [
      "Processed word: শেষ:  90%|████████████████▏ | 1182/1317 [09:29<00:37,  3.64it/s]"
     ]
    },
    {
     "name": "stdout",
     "output_type": "stream",
     "text": [
      "সাং\n",
      "খতম\n",
      "সমাপ্ত\n",
      "খতম\n",
      "সাং\n",
      "খাটাং\n",
      "চৰম\n",
      "চূড়ান্ত\n",
      "ফাইনেল\n",
      "ছিদাং\n",
      "অন্তিম\n",
      "সামৰণি\n",
      "ওৰ\n",
      "সামৰণি\n",
      "সমাপ্তি\n",
      "অন্ত\n",
      "আদায়\n",
      "উৰি\n",
      "কাৱাল\n",
      "উচল\n",
      "ইতি\n"
     ]
    },
    {
     "name": "stderr",
     "output_type": "stream",
     "text": [
      "Processed word: শৈশৱ:  90%|███████████████▎ | 1184/1317 [09:29<00:34,  3.82it/s]"
     ]
    },
    {
     "name": "stdout",
     "output_type": "stream",
     "text": [
      "শৈশৱকাল\n",
      "ল’ৰালিকাল\n",
      "ল’ৰালি\n",
      "বাল্যকাল\n"
     ]
    },
    {
     "name": "stderr",
     "output_type": "stream",
     "text": [
      "Processed word: শো:  90%|█████████████████  | 1185/1317 [09:30<00:35,  3.75it/s]"
     ]
    },
    {
     "name": "stdout",
     "output_type": "stream",
     "text": [
      "টোপনি যা\n",
      "ঘুমা\n",
      "টোপনি মাৰ\n"
     ]
    },
    {
     "name": "stderr",
     "output_type": "stream",
     "text": [
      "Processed word: শোৱা:  90%|███████████████▎ | 1186/1317 [09:30<00:35,  3.69it/s]"
     ]
    },
    {
     "name": "stdout",
     "output_type": "stream",
     "text": [
      "টোপনি নিয়া\n",
      "ঘুমোৱা\n"
     ]
    },
    {
     "name": "stderr",
     "output_type": "stream",
     "text": [
      "Processed word: শ্ৰদ্ধা:  90%|████████████▋ | 1188/1317 [09:30<00:33,  3.83it/s]"
     ]
    },
    {
     "name": "stdout",
     "output_type": "stream",
     "text": [
      "সন্মান\n",
      "মান\n",
      "কদৰ\n",
      "আদৰ\n",
      "সমাদৰ\n",
      "সাদৰ\n",
      "ইজ্জত\n"
     ]
    },
    {
     "name": "stderr",
     "output_type": "stream",
     "text": [
      "Processed word: সঁচা:  91%|███████████████▍ | 1194/1317 [09:32<00:31,  3.89it/s]"
     ]
    },
    {
     "name": "stdout",
     "output_type": "stream",
     "text": [
      "জমা কৰা\n",
      "গোটোৱা\n"
     ]
    },
    {
     "name": "stderr",
     "output_type": "stream",
     "text": [
      "Processed word: সকলো:  91%|███████████████▍ | 1195/1317 [09:32<00:30,  3.97it/s]"
     ]
    },
    {
     "name": "stdout",
     "output_type": "stream",
     "text": [
      "আটাই\n",
      "সদৌ\n"
     ]
    },
    {
     "name": "stderr",
     "output_type": "stream",
     "text": [
      "Processed word: সজা:  91%|████████████████▎ | 1196/1317 [09:33<00:35,  3.44it/s]"
     ]
    },
    {
     "name": "stdout",
     "output_type": "stream",
     "text": [
      "বনোৱা\n",
      "গঢ়া\n",
      "সৃষ্টি কৰা\n",
      "নিৰ্মান কৰা\n"
     ]
    },
    {
     "name": "stderr",
     "output_type": "stream",
     "text": [
      "Processed word: সন্ধিয়া:  91%|███████████▊ | 1199/1317 [09:33<00:31,  3.75it/s]"
     ]
    },
    {
     "name": "stdout",
     "output_type": "stream",
     "text": [
      "গধূলি\n",
      "মগ্ৰীৱ\n"
     ]
    },
    {
     "name": "stderr",
     "output_type": "stream",
     "text": [
      "Processed word: সন্মান:  91%|█████████████▋ | 1200/1317 [09:34<00:30,  3.79it/s]"
     ]
    },
    {
     "name": "stdout",
     "output_type": "stream",
     "text": [
      "মান\n",
      "শ্ৰদ্ধা\n",
      "কদৰ\n",
      "আদৰ\n",
      "সমাদৰ\n",
      "সাদৰ\n",
      "ইজ্জত\n"
     ]
    },
    {
     "name": "stderr",
     "output_type": "stream",
     "text": [
      "Collected 1200 word pairs, sleeping for 5.027664531853543 seconds:  91%|▉| 1200/"
     ]
    },
    {
     "name": "stdout",
     "output_type": "stream",
     "text": [
      "হেঁপাহ\n",
      "আখা\n"
     ]
    },
    {
     "name": "stderr",
     "output_type": "stream",
     "text": [
      "Processed word: সপোন:  91%|███████████████▌ | 1202/1317 [09:39<02:32,  1.33s/it]"
     ]
    },
    {
     "name": "stdout",
     "output_type": "stream",
     "text": [
      "হেঁপাহ\n",
      "আশা\n"
     ]
    },
    {
     "name": "stderr",
     "output_type": "stream",
     "text": [
      "Processed word: সময়:  91%|███████████████▌ | 1203/1317 [09:39<01:56,  1.02s/it]"
     ]
    },
    {
     "name": "stdout",
     "output_type": "stream",
     "text": [
      "পৰ\n",
      "পল\n",
      "বেলা\n",
      "খন\n",
      "বেলি\n"
     ]
    },
    {
     "name": "stderr",
     "output_type": "stream",
     "text": [
      "Processed word: সলা:  92%|████████████████▍ | 1206/1317 [09:40<01:00,  1.85it/s]"
     ]
    },
    {
     "name": "stdout",
     "output_type": "stream",
     "text": [
      "বদলা\n",
      "সাল-সলনি কৰ\n",
      "পৰিৱৰ্তন কৰ\n",
      "বদলি কৰ\n",
      "ৰদ-বদল কৰ\n",
      "বদলা\n"
     ]
    },
    {
     "name": "stderr",
     "output_type": "stream",
     "text": [
      "Processed word: সহা:  92%|████████████████▍ | 1207/1317 [09:41<00:52,  2.09it/s]"
     ]
    },
    {
     "name": "stdout",
     "output_type": "stream",
     "text": [
      "সহ্য কৰা\n"
     ]
    },
    {
     "name": "stderr",
     "output_type": "stream",
     "text": [
      "Processed word: সাঁচ:  92%|███████████████▌ | 1209/1317 [09:41<00:41,  2.59it/s]"
     ]
    },
    {
     "name": "stdout",
     "output_type": "stream",
     "text": [
      "জমা কৰ\n",
      "গোটা\n"
     ]
    },
    {
     "name": "stderr",
     "output_type": "stream",
     "text": [
      "Processed word: সাঁচা:  92%|██████████████▋ | 1210/1317 [09:42<00:39,  2.73it/s]"
     ]
    },
    {
     "name": "stdout",
     "output_type": "stream",
     "text": [
      "জমা কৰা\n",
      "গোটোৱা\n"
     ]
    },
    {
     "name": "stderr",
     "output_type": "stream",
     "text": [
      "Processed word: সাঁজ:  92%|███████████████▋ | 1211/1317 [09:42<00:35,  2.99it/s]"
     ]
    },
    {
     "name": "stdout",
     "output_type": "stream",
     "text": [
      "গধূলি\n",
      "সন্ধিয়া\n",
      "মগ্ৰীৱ\n"
     ]
    },
    {
     "name": "stderr",
     "output_type": "stream",
     "text": [
      "Processed word: সাজ:  92%|████████████████▌ | 1215/1317 [09:43<00:34,  2.94it/s]"
     ]
    },
    {
     "name": "stdout",
     "output_type": "stream",
     "text": [
      "বনা\n",
      "গঢ়\n",
      "সৃষ্টি কৰ\n",
      "নিৰ্মান কৰ\n"
     ]
    },
    {
     "name": "stderr",
     "output_type": "stream",
     "text": [
      "Processed word: সান:  92%|████████████████▋ | 1217/1317 [09:44<00:29,  3.33it/s]"
     ]
    },
    {
     "name": "stdout",
     "output_type": "stream",
     "text": [
      "লেপ\n",
      "লগা\n",
      "মাখ\n",
      "মিহলা\n"
     ]
    },
    {
     "name": "stderr",
     "output_type": "stream",
     "text": [
      "Processed word: সামৰ:  93%|███████████████▋ | 1219/1317 [10:00<05:45,  3.53s/it]"
     ]
    },
    {
     "name": "stdout",
     "output_type": "stream",
     "text": [
      "গোটা\n",
      "আগুৰ\n",
      "বেৰি ধৰ\n",
      "ছাটি ধৰ\n"
     ]
    },
    {
     "name": "stderr",
     "output_type": "stream",
     "text": [
      "Processed word: সাহ:  93%|████████████████▋ | 1220/1317 [10:00<04:07,  2.56s/it]"
     ]
    },
    {
     "name": "stdout",
     "output_type": "stream",
     "text": [
      "সাহস\n",
      "তাগজ\n",
      "খামি\n",
      "পিত\n",
      "হিউ\n",
      "আশয়\n",
      "লাই\n"
     ]
    },
    {
     "name": "stderr",
     "output_type": "stream",
     "text": [
      "Processed word: সিঁচা:  93%|██████████████▊ | 1223/1317 [10:01<01:41,  1.08s/it]"
     ]
    },
    {
     "name": "stdout",
     "output_type": "stream",
     "text": [
      "ছটিওৱা\n"
     ]
    },
    {
     "name": "stderr",
     "output_type": "stream",
     "text": [
      "Processed word: সিটা:  93%|███████████████▊ | 1226/1317 [10:02<00:51,  1.78it/s]"
     ]
    },
    {
     "name": "stdout",
     "output_type": "stream",
     "text": [
      "জাবৰি\n",
      "ডাবৰি\n"
     ]
    },
    {
     "name": "stderr",
     "output_type": "stream",
     "text": [
      "Processed word: সীয়া:  93%|██████████████▉ | 1228/1317 [10:02<00:37,  2.37it/s]"
     ]
    },
    {
     "name": "stdout",
     "output_type": "stream",
     "text": [
      "চিলোৱা\n"
     ]
    },
    {
     "name": "stderr",
     "output_type": "stream",
     "text": [
      "Processed word: সুঁতি:  93%|██████████████▉ | 1229/1317 [10:03<00:32,  2.70it/s]"
     ]
    },
    {
     "name": "stdout",
     "output_type": "stream",
     "text": [
      "সোঁতা\n"
     ]
    },
    {
     "name": "stderr",
     "output_type": "stream",
     "text": [
      "Processed word: সূচোৱা:  93%|██████████████ | 1231/1317 [10:03<00:30,  2.85it/s]"
     ]
    },
    {
     "name": "stdout",
     "output_type": "stream",
     "text": [
      "দেখুওৱা\n"
     ]
    },
    {
     "name": "stderr",
     "output_type": "stream",
     "text": [
      "Processed word: সূত:  94%|████████████████▊ | 1232/1317 [10:03<00:28,  2.99it/s]"
     ]
    },
    {
     "name": "stdout",
     "output_type": "stream",
     "text": [
      "আকৰ্ষ\n"
     ]
    },
    {
     "name": "stderr",
     "output_type": "stream",
     "text": [
      "Processed word: সূৰুয:  94%|██████████████▉ | 1234/1317 [10:04<00:26,  3.18it/s]"
     ]
    },
    {
     "name": "stdout",
     "output_type": "stream",
     "text": [
      "বেলি\n"
     ]
    },
    {
     "name": "stderr",
     "output_type": "stream",
     "text": [
      "Processed word: সূৰ্য্য:  94%|█████████████▏| 1235/1317 [10:04<00:25,  3.24it/s]"
     ]
    },
    {
     "name": "stdout",
     "output_type": "stream",
     "text": [
      "বেলি\n"
     ]
    },
    {
     "name": "stderr",
     "output_type": "stream",
     "text": [
      "Processed word: সেকা:  94%|███████████████▉ | 1237/1317 [10:05<00:25,  3.16it/s]"
     ]
    },
    {
     "name": "stdout",
     "output_type": "stream",
     "text": [
      "পাতত দিয়া\n",
      "পোটক\n",
      "চোটোকা\n",
      "প্ৰতিশোধ\n",
      "প্ৰতিফল\n",
      "পোটক\n",
      "চোটোকা\n",
      "হোৰ\n",
      "শোত\n",
      "প্ৰতিশোধ\n"
     ]
    },
    {
     "name": "stderr",
     "output_type": "stream",
     "text": [
      "Processed word: সেমেকা:  94%|██████████████ | 1238/1317 [10:05<00:24,  3.20it/s]"
     ]
    },
    {
     "name": "stdout",
     "output_type": "stream",
     "text": [
      "জেকা\n",
      "জেকা\n"
     ]
    },
    {
     "name": "stderr",
     "output_type": "stream",
     "text": [
      "Processed word: সোঁ:  94%|████████████████▉ | 1241/1317 [10:06<00:23,  3.30it/s]"
     ]
    },
    {
     "name": "stdout",
     "output_type": "stream",
     "text": [
      "সোঁফাল\n"
     ]
    },
    {
     "name": "stderr",
     "output_type": "stream",
     "text": [
      "Processed word: সোধা:  95%|████████████████ | 1245/1317 [10:07<00:20,  3.52it/s]"
     ]
    },
    {
     "name": "stdout",
     "output_type": "stream",
     "text": [
      "পোছা\n",
      "প্ৰশ্ন কৰা\n",
      "জিজ্ঞাসা কৰা\n"
     ]
    },
    {
     "name": "stderr",
     "output_type": "stream",
     "text": [
      "Processed word: সোমোৱা:  95%|██████████████▏| 1248/1317 [10:08<00:20,  3.35it/s]"
     ]
    },
    {
     "name": "stdout",
     "output_type": "stream",
     "text": [
      "ঢুকা\n",
      "পশা\n",
      "প্ৰৱেশ কৰা\n"
     ]
    },
    {
     "name": "stderr",
     "output_type": "stream",
     "text": [
      "Processed word: সৰা:  95%|█████████████████ | 1251/1317 [10:09<00:19,  3.37it/s]"
     ]
    },
    {
     "name": "stdout",
     "output_type": "stream",
     "text": [
      "খহা\n",
      "পৰা\n",
      "খহা\n",
      "পৰা\n",
      "পলোৱা\n",
      "জৰা\n"
     ]
    },
    {
     "name": "stderr",
     "output_type": "stream",
     "text": [
      "Processed word: সৰিয়হ:  95%|██████████████▎| 1252/1317 [10:09<00:19,  3.40it/s]"
     ]
    },
    {
     "name": "stdout",
     "output_type": "stream",
     "text": [
      "বেহাৰ\n"
     ]
    },
    {
     "name": "stderr",
     "output_type": "stream",
     "text": [
      "Processed word: হগা:  95%|█████████████████▏| 1255/1317 [10:10<00:19,  3.23it/s]"
     ]
    },
    {
     "name": "stdout",
     "output_type": "stream",
     "text": [
      "পাইখেনা\n",
      "গু\n",
      "শৌচ\n",
      "মল\n",
      "পাইখেনা কৰা\n",
      "শৌচ কৰা\n"
     ]
    },
    {
     "name": "stderr",
     "output_type": "stream",
     "text": [
      "Processed word: হয়:  95%|█████████████████▏| 1256/1317 [10:11<00:18,  3.35it/s]"
     ]
    },
    {
     "name": "stdout",
     "output_type": "stream",
     "text": [
      "হেঁতেন\n"
     ]
    },
    {
     "name": "stderr",
     "output_type": "stream",
     "text": [
      "Processed word: হাগা:  96%|████████████████▎| 1260/1317 [10:12<00:16,  3.37it/s]"
     ]
    },
    {
     "name": "stdout",
     "output_type": "stream",
     "text": [
      "পাইখেনা\n",
      "গু\n",
      "শৌচ\n",
      "মল\n",
      "পাইখেনা কৰা\n",
      "শৌচ কৰা\n"
     ]
    },
    {
     "name": "stderr",
     "output_type": "stream",
     "text": [
      "Processed word: হাট:  96%|█████████████████▏| 1262/1317 [10:12<00:16,  3.30it/s]"
     ]
    },
    {
     "name": "stdout",
     "output_type": "stream",
     "text": [
      "বজাৰ\n",
      "পোহাৰ\n",
      "বিপণ\n"
     ]
    },
    {
     "name": "stderr",
     "output_type": "stream",
     "text": [
      "Processed word: হাড়:  96%|████████████████▎| 1264/1317 [10:13<00:15,  3.33it/s]"
     ]
    },
    {
     "name": "stdout",
     "output_type": "stream",
     "text": [
      "অস্থি\n"
     ]
    },
    {
     "name": "stderr",
     "output_type": "stream",
     "text": [
      "Processed word: হাল:  96%|█████████████████▎| 1270/1317 [10:15<00:13,  3.54it/s]"
     ]
    },
    {
     "name": "stdout",
     "output_type": "stream",
     "text": [
      "নাঙল\n",
      "যোৰ\n"
     ]
    },
    {
     "name": "stderr",
     "output_type": "stream",
     "text": [
      "Processed word: হাৰ:  97%|█████████████████▍| 1272/1317 [10:15<00:12,  3.49it/s]"
     ]
    },
    {
     "name": "stdout",
     "output_type": "stream",
     "text": [
      "চেইন\n",
      "নেকলেছ\n"
     ]
    },
    {
     "name": "stderr",
     "output_type": "stream",
     "text": [
      "Processed word: হিংসা:  97%|███████████████▍| 1275/1317 [10:16<00:12,  3.37it/s]"
     ]
    },
    {
     "name": "stdout",
     "output_type": "stream",
     "text": [
      "জ্বলন\n"
     ]
    },
    {
     "name": "stderr",
     "output_type": "stream",
     "text": [
      "Processed word: হিয়া:  97%|███████████████▌| 1277/1317 [10:17<00:11,  3.56it/s]"
     ]
    },
    {
     "name": "stdout",
     "output_type": "stream",
     "text": [
      "আমঠু\n",
      "অন্তৰ\n",
      "কলিজা\n"
     ]
    },
    {
     "name": "stderr",
     "output_type": "stream",
     "text": [
      "Processed word: হেঁতেন:  97%|██████████████▌| 1279/1317 [10:17<00:11,  3.43it/s]"
     ]
    },
    {
     "name": "stdout",
     "output_type": "stream",
     "text": [
      "হয়\n",
      "অঁ\n"
     ]
    },
    {
     "name": "stderr",
     "output_type": "stream",
     "text": [
      "Processed word: হেঁপাহ:  97%|██████████████▌| 1280/1317 [10:18<00:10,  3.43it/s]"
     ]
    },
    {
     "name": "stdout",
     "output_type": "stream",
     "text": [
      "ইচ্ছা\n",
      "বাঞ্ছা\n",
      "কামনা\n",
      "আশা\n"
     ]
    },
    {
     "name": "stderr",
     "output_type": "stream",
     "text": [
      "Processed word: হোৱা:  97%|████████████████▌| 1281/1317 [10:18<00:10,  3.44it/s]"
     ]
    },
    {
     "name": "stdout",
     "output_type": "stream",
     "text": [
      "হৈ যোৱা\n",
      "জগা\n",
      "জন্ম হোৱা\n",
      "হৈ যোৱা\n"
     ]
    },
    {
     "name": "stderr",
     "output_type": "stream",
     "text": [
      "Processed word: হৰিণ:  97%|████████████████▌| 1283/1317 [10:18<00:09,  3.54it/s]"
     ]
    },
    {
     "name": "stdout",
     "output_type": "stream",
     "text": [
      "পহু\n"
     ]
    },
    {
     "name": "stderr",
     "output_type": "stream",
     "text": [
      "Processed word: হৰিণা:  97%|███████████████▌| 1284/1317 [10:19<00:09,  3.54it/s]"
     ]
    },
    {
     "name": "stdout",
     "output_type": "stream",
     "text": [
      "পহু\n"
     ]
    },
    {
     "name": "stderr",
     "output_type": "stream",
     "text": [
      "Processed word: ৰং:  98%|██████████████████▌| 1285/1317 [10:19<00:09,  3.49it/s]"
     ]
    },
    {
     "name": "stdout",
     "output_type": "stream",
     "text": [
      "বৰণ\n",
      "বোল\n",
      "আনন্দ\n"
     ]
    },
    {
     "name": "stderr",
     "output_type": "stream",
     "text": [
      "Processed word: ৰখা:  98%|█████████████████▌| 1286/1317 [10:19<00:09,  3.25it/s]"
     ]
    },
    {
     "name": "stdout",
     "output_type": "stream",
     "text": [
      "ৰক্ষা কৰা\n",
      "পতা\n",
      "পতা\n",
      "কিনা\n"
     ]
    },
    {
     "name": "stderr",
     "output_type": "stream",
     "text": [
      "Processed word: ৰঙা:  98%|█████████████████▌| 1287/1317 [10:20<00:08,  3.36it/s]"
     ]
    },
    {
     "name": "stdout",
     "output_type": "stream",
     "text": [
      "ৰাতা\n",
      "ৰাতুল\n",
      "লাল\n"
     ]
    },
    {
     "name": "stderr",
     "output_type": "stream",
     "text": [
      "Processed word: ৰন্ধা:  98%|███████████████▋| 1290/1317 [10:20<00:07,  3.58it/s]"
     ]
    },
    {
     "name": "stdout",
     "output_type": "stream",
     "text": [
      "বনোৱা\n"
     ]
    },
    {
     "name": "stderr",
     "output_type": "stream",
     "text": [
      "Processed word: ৰস:  98%|██████████████████▋| 1292/1317 [10:21<00:06,  3.69it/s]"
     ]
    },
    {
     "name": "stdout",
     "output_type": "stream",
     "text": [
      "ৰহ\n"
     ]
    },
    {
     "name": "stderr",
     "output_type": "stream",
     "text": [
      "Processed word: ৰহ:  98%|██████████████████▋| 1293/1317 [10:21<00:06,  3.54it/s]"
     ]
    },
    {
     "name": "stdout",
     "output_type": "stream",
     "text": [
      "ৰস\n"
     ]
    },
    {
     "name": "stderr",
     "output_type": "stream",
     "text": [
      "Processed word: ৰাং:  98%|█████████████████▋| 1294/1317 [10:22<00:06,  3.61it/s]"
     ]
    },
    {
     "name": "stdout",
     "output_type": "stream",
     "text": [
      "টিং\n",
      "টিন\n"
     ]
    },
    {
     "name": "stderr",
     "output_type": "stream",
     "text": [
      "Processed word: ৰাখা:  98%|████████████████▋| 1296/1317 [10:22<00:05,  3.56it/s]"
     ]
    },
    {
     "name": "stdout",
     "output_type": "stream",
     "text": [
      "ৰক্ষা কৰা\n",
      "পতা\n",
      "পতা\n",
      "কিনা\n"
     ]
    },
    {
     "name": "stderr",
     "output_type": "stream",
     "text": [
      "Processed word: ৰান্ধা:  99%|██████████████▊| 1302/1317 [10:24<00:04,  3.65it/s]"
     ]
    },
    {
     "name": "stdout",
     "output_type": "stream",
     "text": [
      "বনোৱা\n"
     ]
    },
    {
     "name": "stderr",
     "output_type": "stream",
     "text": [
      "Processed word: ৰেতি:  99%|████████████████▊| 1307/1317 [10:25<00:02,  3.53it/s]"
     ]
    },
    {
     "name": "stdout",
     "output_type": "stream",
     "text": [
      "ও\n"
     ]
    },
    {
     "name": "stderr",
     "output_type": "stream",
     "text": [
      "Processed word: ৰেহা:  99%|████████████████▉| 1308/1317 [10:25<00:02,  3.59it/s]"
     ]
    },
    {
     "name": "stdout",
     "output_type": "stream",
     "text": [
      "চিজিল\n",
      "শৃংখল\n"
     ]
    },
    {
     "name": "stderr",
     "output_type": "stream",
     "text": [
      "Processed word: ৰোৱা:  99%|████████████████▉| 1309/1317 [10:26<00:02,  3.35it/s]"
     ]
    },
    {
     "name": "stdout",
     "output_type": "stream",
     "text": [
      "ৰৈ থকা\n",
      "ৰখা\n",
      "বাকী থকা\n",
      "বাকী ৰোৱা\n",
      "ৰৈ যোৱা\n",
      "ৰখা\n"
     ]
    },
    {
     "name": "stderr",
     "output_type": "stream",
     "text": [
      "Processed word: Category:Assamese terms derived from Vedic Sanskrit: 100%|█| 131"
     ]
    },
    {
     "name": "stdout",
     "output_type": "stream",
     "text": [
      "[['অংক', 'গণিত'], ['অইন', 'বেলেগ'], ['অক্ণি', 'লেখি'], ['অক্ণি', 'বিঢ়া'], ['অক্ণি', 'ফুট্নি'], ['অক্ণি', 'পিজ্লা'], ['অক্ণি', 'চেখ্ৰা'], ['অণুজীৱ', 'জীৱাণু'], ['অনুবাদ', 'ভাঙনি'], ['অনুবাদ', 'তৰ্জমা'], ['অনুবাদ', 'পৰিভাষা'], ['অনুবাদ', 'ভাষান্তৰণ'], ['অন্য', 'বেলেগ'], ['অবৈধ', 'চোৰাং'], ['অভাৱ', 'নাটনি'], ['অভাৱ', 'অনাটন'], ['অভাৱ', 'আটক'], ['অভাৱ', 'মাকাল'], ['অমিয়', 'সুধা'], ['অমিয়া', 'সুধা'], ['অলপ', 'অকণমান'], ['অলপ', 'খানিক'], ['আঁকোৱাল', 'সাবট'], ['আঁচ', 'ৰেখা'], ['আঁত', 'নাড়ীভুঁৰু'], ['আঁত', 'নাড়ীভুঁৰি'], ['আঁত', 'নাড়ী'], ['আঁত', 'পেটু'], ['আঁত', 'গম'], ['আঁতৰ', 'দূৰৈ'], ['আঁতৰ', 'দূৰ'], ['আঁতৰ', 'দূৰ'], ['আঁতৰ', 'দূৰৈ'], ['আঁতৰ', 'দূৰত্ব'], ['আঁতৰ', 'আঁতৰৰ ঠাই'], ['আঁতৰ', 'দূৰৰ ঠাই'], ['আঁতৰ', 'পিছুৱা'], ['আঁতৰ', 'হোহঁক'], ['আঁৱৰি', 'তেঁউৰ'], ['আউল', 'খেলিমেলি'], ['আউল', 'উপাক-পাক'], ['আউল', 'আলিমূলি'], ['আউল', 'খামখেয়ালি'], ['আখি', 'চকু'], ['আখৰ', 'লিপি'], ['আখৰ', 'হৰফ'], ['আখৰ', 'বৰ্ণ'], ['আগনি', 'মৌলিক'], ['আগনি', 'বুনিয়াদী'], ['আগনি', 'প্ৰাথমিক'], ['আঙাৰ', 'অঙঠা'], ['আচহুৱা', 'আচৰিত'], ['আচহুৱা', 'আজব'], ['আচহুৱা', 'একাচেকা'], ['আচহুৱা', 'নেদেখা-নুশুনা'], ['আচহুৱা', 'নোহোৱা-নোপোজা'], ['আচহুৱা', 'কেনেবা'], ['আচহুৱা', 'আজগুবি'], ['আচহুৱা', 'দিকচৌ'], ['আচহুৱা', 'অদ্ভূত'], ['আচহুৱা', 'বিস্ময়কৰ'], ['আচাভুৱা', 'আচৰিত'], ['আচাভুৱা', 'আজব'], ['আচাভুৱা', 'একাচেকা'], ['আচাভুৱা', 'নেদেখা-নুশুনা'], ['আচাভুৱা', 'নোহোৱা-নোপোজা'], ['আচাভুৱা', 'কেনেবা'], ['আচাভুৱা', 'আজগুবি'], ['আচাভুৱা', 'দিকচৌ'], ['আচাভুৱা', 'অদ্ভূত'], ['আচাভুৱা', 'বিস্ময়কৰ'], ['আজিনাই', 'আঁজনি'], ['আঞ্জা', 'তৰকাৰী'], ['আটাহ', 'চিঞৰ'], ['আত্মা', 'রূহ'], ['আথৰ', 'আলৰ'], ['আথৰ', 'জৰাতুৰ'], ['আদহ', 'মাজ বয়স'], ['আদহ', 'আদ-বয়স'], ['আদৰ', 'সন্মান'], ['আদৰ', 'শ্ৰদ্ধা'], ['আদৰ', 'মান'], ['আদৰ', 'কদৰ'], ['আদৰ', 'সমাদৰ'], ['আদৰ', 'সাদৰ'], ['আদৰ', 'ইজ্জত'], ['আধিপত্য', 'মালিকীস্বত্ব'], ['আধিপত্য', 'মালিকানা'], ['আধৰুৱা', 'খঁৰা'], ['আধৰুৱা', 'আদখনীয়া'], ['আধৰুৱা', 'অসম্পূৰ্ণ'], ['আধৰুৱা', 'আধাডুখৰীয়া'], ['আধৰুৱা', 'অসমাপ্ত'], ['আধৰুৱা', 'অপূৰ্ণ'], ['আধৰুৱা', 'অসম্পন্ন'], ['আন', 'বেলেগ'], ['আপা', 'ছলি'], ['আপা', 'ল’ৰা'], ['আপা', 'ছলি'], ['আপা', 'ল’ৰা'], ['আপী', 'ঝিয়া'], ['আপুনি', 'নিজে'], ['আপোন', 'নিজৰ'], ['আপোন', 'নিজা'], ['আপোন', 'নিজ'], ['আপোন', 'আপোনাৰ'], ['আপোন', 'স্ব'], ['আপোন', 'স্বকীয়'], ['আপোন', 'মিতিৰ'], ['আপোন', 'কুটুম'], ['আপোন', 'বঙহ'], ['আপোন', 'অঙহী-বঙহী'], ['আপোন', 'আত্মীয়'], ['আপোন', 'সম্পৰ্কীয়'], ['আপোন', 'সম্বন্ধীয়'], ['আমি', 'আমিৰা'], ['আয়', 'উপাৰ্জন'], ['আলগ', 'বেলেগ'], ['আলগ', 'সূকীয়া'], ['আলগ', 'দোছোৰা'], ['আলসুৱা', 'লেহুকা'], ['আলসুৱা', 'আলফুলীয়া'], ['আলসুৱা', 'ঠুনুকা'], ['আলসুৱা', 'চনকা'], ['আলসুৱা', 'ভংগুৰ'], ['আলসুৱা', 'চনচনীয়া'], ['আলসুৱা', 'ঠুনঠুনীয়া'], ['আলসুৱা', 'সুকোমল'], ['আলসুৱা', 'আতোলতোল'], ['আলসুৱা', 'আলৌলৌৱা'], ['আলসুৱা', 'সুখীয়া'], ['আলি', 'বাট'], ['আলি', 'আলিবাট'], ['আলি', 'ৰাস্তা'], ['আলি', 'পথ'], ['আলি', 'ৰাহ'], ['আৰু', 'আকৌ'], ['আৰু', '-ও'], ['আৰু', 'তথা'], ['ঈশ্বৰ', 'ভগৱান'], ['ঈশ্বৰ', 'প্ৰভু'], ['ঈশ্বৰ', 'আল্লা'], ['ঈহ', 'ডিলা'], ['উঁহ', 'পুং'], ['উঁহ', 'পানীচকু'], ['উঁহ', 'জৰণি'], ['উঁহ', 'পুং'], ['উখৰা', 'শুকান'], ['উঘাল', 'উভাল'], ['উজলা', 'জিলিকা'], ['উজলা', 'তিৰবিৰোৱা'], ['উজলা', 'জিকমিকোৱা'], ['উজলা', 'চিকমিকোৱা'], ['উদং', 'নাঙঠ'], ['উদং', 'উলংগ'], ['উপত্যকা', 'ভৈয়াম'], ['উপায়', 'সমাধান'], ['উভাল', 'উঘাল'], ['উলূ', 'শৰণ খেৰ'], ['উলূ', 'ঘৰছোৱা বন'], ['একনায়ক', 'একাধিপতি'], ['একনায়ক', 'মাতব্বৰ'], ['একাধিপতি', 'একনায়ক'], ['একাধিপতি', 'মাতব্বৰ'], ['এঙাৰ', 'অঙঠা'], ['এৰ', 'বাদ দে'], ['এৰ', 'পৰিহৰ'], ['এৰ', 'বিছুৰ'], ['এৰা', 'বাদ দিয়া'], ['এৰা', 'পৰিহৰা'], ['এৰা', 'বিছুৰা'], ['ওঁ', 'অ'], ['ওঁ', 'হয়'], ['ওকণি', 'লেখি'], ['ওকণি', 'বিঢ়া'], ['ওকণি', 'ফুটনি'], ['ওকণি', 'পিজলা'], ['ওকণি', 'চেখৰা'], ['ওখ', 'হটঙা'], ['ওখ', 'চৰা'], ['ওখ', 'তুংগ'], ['ওখ', 'উচ্চ'], ['ওখ', 'উচ্চতা'], ['ওখল', 'মলি'], ['ওখল', 'ময়লা'], ['ওজা', 'যাদুকৰ'], ['ওৰ', 'শেষ'], ['ওৰ', 'সামৰণি'], ['ওৰ', 'সাং'], ['ওৰ', 'ইতি'], ['ওৰ', 'খতম'], ['ওৰ', 'অন্ত'], ['ওৰ', 'সমাপ্তি'], ['কঁটা', 'হুল'], ['কঁটা', 'মঘা'], ['কঁপা', 'লৰা'], ['কঁহ', 'মামৰ'], ['কঁহ', 'মৰিচা'], ['কইনা', 'ন-বোৱাৰী'], ['কইনা', 'ন-ছোৱালী'], ['ককা', 'দাদা'], ['ককা', 'দদা'], ['কটি', 'টিকা'], ['কটি', 'তপিনা'], ['কণী', 'ডিম'], ['কণী', 'ডিমা'], ['কপাহ', 'তুলা'], ['কলহ', 'টেকেলি'], ['কলহ', 'ঘটি'], ['কলহ', 'চৰু'], ['কাঁইট', 'হুল'], ['কাঁইট', 'মঘা'], ['কাঁকৈ', 'ফণি'], ['কাঁচ', 'ছিছা'], ['কাঁটা', 'হুল'], ['কাঁটা', 'মঘা'], ['কাকৈ', 'ফণী'], ['কাচ', 'ছিছা'], ['কানি', 'আফিং'], ['কানি', 'কাপোৰ'], ['কাপুৰ', 'কানি'], ['কাপোৰ', 'কানি'], ['কালি', 'কাইলৈ'], ['কাহিনী', 'সাধু'], ['কাহিনী', 'গল্প'], ['কিছু', 'অলপ'], ['কিয়', 'কেলেই'], ['কিয়', 'কি কাৰণে'], ['কিয়', 'কি নিমিত্তে'], ['কিয়', 'কিহৰ কাৰণে'], ['কিলাকুটি', 'কিল'], ['কুঁজ', 'চুট'], ['কুঁৱা', 'নাদ'], ['কুঁৱা', 'লান্দ'], ['কুঁৱা', 'লাহ্না'], ['কুঁৱা', 'ইন্দ্রা'], ['কুঁৱা', 'পাটকি'], ['কুঁৱা', 'পাটনাদ'], ['কুঁৱৰী', 'ৰাজকুমাৰী'], ['কুঁৱৰী', 'ৰাণী'], ['কুটা', 'থহা'], ['কুটা', 'থাহা'], ['কুটুম', 'মিতিৰ'], ['কুটুম', 'আপোন'], ['কুটুম', 'বঙহ'], ['কুমাৰ', 'হিৰা'], ['কৃষ্ণ', 'ক’লা'], ['কেঁথা', 'দগলা'], ['কেঁথা', 'নিহালি'], ['কেন্দ্ৰ', 'মাজ'], ['কোঁৱৰ', 'ৰাজকুমাৰ'], ['কোদাল', 'কোৰ'], ['কোদাল', 'কোৰোণা'], ['কোৰ', 'কোদাল'], ['কোৰ', 'কোদালি'], ['কোৱা', 'কথা কোৱা'], ['খং', 'ৰাগ'], ['খং', 'ফাই'], ['খং', 'কোপ'], ['খং', 'ক্ৰোধ'], ['খা', 'পি'], ['খা', 'পি খা'], ['খা', 'হুপ'], ['খাল', 'নলা'], ['খাল', 'লোৰ'], ['খাল', 'নলা'], ['খাৰু', 'চুড়ি'], ['খাৰু', 'টাৰ'], ['খীৰ', 'খিৰিসা'], ['খীৰ', 'গাখীৰ'], ['খীৰ', 'দুধ'], ['খীৰ', 'গাখীৰ'], ['খীৰ', 'দুধ'], ['খুদ', 'সৰু'], ['খুদ', 'অকণমান'], ['খুদ', 'অকণমানি'], ['খুৰা', 'দদাই'], ['খেৰ', 'নৰা'], ['খৰ', 'খৰালি'], ['গঢ়া', 'গঢ় দিয়া'], ['গঢ়া', 'সজা'], ['গঢ়া', 'বনোৱা'], ['গণা', 'হিচাপ কৰা'], ['গণিত', 'অংক'], ['গম', 'ঘেঁহু'], ['গল', 'ডিঙি'], ['গা', 'দেহা'], ['গা', 'শৰীৰ'], ['গা', 'কায়া'], ['গাঁৰ', 'বিহ-ফোঁহোৰা'], ['গাঁৰু', 'বালিছ'], ['গাং', 'নৈ'], ['গাউ', 'দেহা'], ['গাউ', 'শৰীল'], ['গাধ', 'মূৰ্খ'], ['গু', 'হগা'], ['গু', 'পাইখেনা'], ['গু', 'শৌচ'], ['গু', 'মল'], ['গু', 'গোবৰ'], ['গুটি', 'বীজ'], ['গুপ্ত', 'গোপন'], ['গুপ্ত', 'লুকুৱা'], ['গুৰি', 'গোৰ'], ['গুৰি', 'শিপা'], ['গুৰি', 'ওচৰ'], ['গুৰি', 'লাথ'], ['গুৰি', 'গোৰ'], ['গুৰুবাৰ', 'বৃহস্পতিবাৰ'], ['গেলা', 'পচা'], ['গেলা', 'পচা'], ['গোপন', 'গুপ্ত'], ['গোপন', 'লুকুৱা'], ['গোবৰ', 'গু'], ['গোল', 'ঘূৰণীয়া'], ['গোল', 'টুপুৰা'], ['গোল', 'ধেপেচা'], ['গোল', 'নোদোকা'], ['গোল', 'লোদোৰ-পোদোৰ'], ['গোল', 'লোধোমা'], ['গোল', 'নিপোটল'], ['গোল', 'লোধোপা'], ['গোল', 'নোকোহা'], ['গোল', 'থোলোকা'], ['গোল', 'মঙহাল'], ['গোল', 'দবহা'], ['গোল', 'থোপোৰা'], ['গোল', 'লোদোৰা'], ['গোল', 'লোধোৰা'], ['গোল', 'গাঠলু'], ['গোৰ', 'লাথ'], ['গ্ৰন্থ', 'কিতাপ'], ['গ্ৰন্থ', 'পুথি'], ['গৰু', 'মূৰ্খ'], ['গৰু', 'বুৰ্বক'], ['গৰু', 'অঁকৰা'], ['গৰৈ', 'শ’ল'], ['ঘঁহা', 'মজা'], ['ঘঁহা', 'মাজা'], ['ঘঁহা', 'পিহা'], ['ঘঁহা', 'মজা'], ['ঘঁহা', 'মাজা'], ['ঘঁহা', 'পিহা'], ['ঘা', 'জখম'], ['ঘা', 'চোট'], ['ঘা', 'দুখ'], ['ঘা', 'আঘাত'], ['ঘাই', 'আচল'], ['ঘাই', 'প্ৰধান'], ['ঘাম', 'ঘাম ওলা'], ['ঘিঁউ', 'মগজু'], ['ঘিঁউ', 'শেঙুন'], ['ঘিণ', 'আখেজ'], ['ঘিণ', 'হনিয়া-হনি'], ['ঘৈণী', 'পত্নী'], ['ঘৈণী', 'জায়া'], ['ঘৈণী', 'দাৰ'], ['ঘৈণী', 'স্ত্ৰী'], ['ঘৈণী', 'ল’ৰহঁতৰ মাক'], ['ঘৈণী', 'ভাৰ্য্যা'], ['ঘৈণী', 'জানি'], ['ঘোষণা', 'জাননী'], ['ঘৰা', 'চাক'], ['ঘৰা', 'ৰহঘৰা'], ['ঘৰা', 'মৌ-কোঁহ'], ['ঘৰা', 'মৌ-বিচনী'], ['চকু', 'নয়ন'], ['চকু', 'আখি'], ['চখু', 'নয়ন'], ['চখু', 'আখি'], ['চন', 'বছৰ'], ['চন্দ্ৰ', 'জোন'], ['চাঁদ', 'জোন'], ['চাক', 'মৌ-কোঁহ'], ['চাক', 'ঘৰা'], ['চাক', 'ৰহঘৰা'], ['চাক', 'মৌ-বিচনী'], ['চাক', 'মৌ-কোঁহ'], ['চাক', 'ঘৰা'], ['চাক', 'ৰহঘৰা'], ['চাক', 'মৌ-বিচনী'], ['চাক', 'আঠালি'], ['চাকা', 'বেলি'], ['চাকি', 'মালা'], ['চাকি', 'বন্তি'], ['চান', 'জোন'], ['চান্দ', 'জোন'], ['চিকিৎসক', 'ডাক্তৰ'], ['চিন', 'নিচান'], ['চিন', 'কেতু'], ['চিন', 'প্ৰতীক'], ['চিন', 'লক্ষণ'], ['চিনা', 'জনা'], ['চিনা', 'জানা'], ['চিন্তা', 'ভাৱনা'], ['চিন্তা', 'ভবা'], ['চিলনী', 'শেন চৰাই'], ['চিৰতা', 'কালমেঘ'], ['চিৰতা', 'মহা-তিতা'], ['চুঁৱৰী', 'চুঁৱৰী পহু'], ['চুঁৱৰী', 'চুঁৱৰী গাই'], ['চুঁৱৰী', 'চমৰী গৰু'], ['চুঁৱৰী', 'য়াক'], ['চুঁৱৰী গাই', 'চুঁৱৰী পহু'], ['চুঁৱৰী গাই', 'চমৰী গৰু'], ['চুঁৱৰী গাই', 'য়াক'], ['চুঁৱৰী পহু', 'চুঁৱৰী গাই'], ['চুঁৱৰী পহু', 'চমৰী গৰু'], ['চুঁৱৰী পহু', 'য়াক'], ['চুটি', 'কুটুলা'], ['চুটি', 'কুটকুৰা'], ['চুটি', 'খাটা'], ['চুটি', 'চাপৰ'], ['চুটি', 'বুটা'], ['চুটি', 'চুটি-চাপৰ'], ['চুটি', 'চমু'], ['চুৰিয়া', 'ধুতি'], ['চুৰিয়া', 'ভুনি'], ['চেঁচা', 'ঠাণ্ডা'], ['চোতাল', 'আঙিনা'], ['চোবা', 'পকটীয়া'], ['চৌক', 'চাৰিআলি'], ['চৌকা', 'আখা'], ['চৌকা', 'চুলা'], ['চৌকা', 'ঘৰা'], ['চৌকা', 'আখল'], ['চৰ', 'থাপৰ'], ['চৰ', 'চোৰাংচোৱা'], ['চৰাই', 'পখী'], ['ছবি', 'ফটো'], ['ছলি', 'ল’ৰা-ছোৱালী'], ['ছলি', 'আপা'], ['ছলি', 'ল’ৰা'], ['ছলি', 'আপা'], ['ছলি', 'ল’ৰা'], ['ছিঙা', 'চিৰা'], ['ছিঙা', 'ফালা'], ['ছিঙা', 'পাৰা'], ['ছুৰী', 'কটাৰী'], ['জগা', 'ওপজা'], ['জগা', 'জন্ম হোৱা'], ['জগা', 'জন্মলাভ কৰা'], ['জনপ্ৰিয়', 'লোকপ্ৰিয়'], ['জনপ্ৰিয়তা', 'লোকপ্ৰিয়তা'], ['জল', 'পানী'], ['জলা', 'বিষোৱা'], ['জলাহ', 'পিটনি'], ['জলাহ', 'পিতনি'], ['জলাহ', 'জলাশয়'], ['জাঁপ', 'লাফ'], ['জাং', 'উৰু'], ['জাং', 'কৰঙণ'], ['জাং', 'ফেৰা'], ['জাল', 'মকৰা-জাল'], ['জিকা', 'জিনা'], ['জিকা', 'তিতা'], ['জিকা', 'ভিজা'], ['জিকা', 'তিতা'], ['জিকা', 'ভিজা'], ['জী', 'ছোৱালী'], ['জী', 'সুতা'], ['জীউ', 'জান'], ['জীউ', 'জীৱন'], ['জীউ', 'প্ৰাণ'], ['জীয়া', 'সতেজ'], ['জীয়া', 'তাজা'], ['জীৱ', 'জান'], ['জীৱ', 'জীৱন'], ['জীৱন', 'জীউ'], ['জীৱন', 'জান'], ['জীৱন', 'প্ৰাণ'], ['জীৱন', 'পৰাণ'], ['জীৱাণু', 'অণুজীৱ'], ['জীৱাণু', 'বেক্টেৰিয়া'], ['জুই', 'আগুনি'], ['জুই', 'অগ্নি'], ['জেকা', 'সেমেকা'], ['জেকা', 'সেমেকা'], ['জেঠী', 'সাপ'], ['জেঠী', 'জেঠাই'], ['জেঠী', 'বৰমা'], ['জেঠী', 'বৰবৌ'], ['জোতা', 'পানৈ'], ['জোন', 'চান্দ'], ['জোন', 'চন্দ্ৰ'], ['জোন', 'সোম'], ['জৰী', 'ৰছী'], ['জৰী', 'ডোৰ'], ['টকা', 'টকা-পইচা'], ['টকা', 'ধন'], ['টকা', 'পইচা'], ['টকা', 'মুদ্ৰা'], ['টকা', 'ধন'], ['টকা', 'পইচা'], ['টাকা', 'টাকা-পইচা'], ['টাকা', 'ধন'], ['টাকা', 'পইচা'], ['টাকা', 'মুদ্ৰা'], ['টাকা', 'ধন'], ['টাকা', 'পইচা'], ['টুকুৰা', 'ডোখৰ'], ['টুকুৰা', 'খুতুৰা'], ['টুকুৰা', 'চপৰা'], ['টুকুৰা', 'চুবা'], ['টুকুৰা', 'দলি'], ['টুকুৰা', 'লদা'], ['টুট', 'কম'], ['টুট', 'হ্ৰাস পা'], ['টেঙা', 'টেঙেচীয়া'], ['টেঙা', 'আমল'], ['ঠাই', 'জেগা'], ['ঠাই', 'থান'], ['ঠাই', 'থল'], ['ঠাই', 'মুলুক'], ['ঠাই', 'জেগা'], ['ঠান', 'গঢ়'], ['ঠান', 'ঠাচ'], ['ঠান', 'সঁজা'], ['ঠান', 'আকাৰ'], ['ঠান', 'ঠগ'], ['ঠান', 'আকৃতি'], ['ঠান', 'মুই'], ['ঠান', 'জাঙি'], ['ঠান', 'শেজ'], ['ঠানি', 'ঠালি'], ['ঠানি', 'ডালি'], ['ঠালি', 'ঠানি'], ['ঠালি', 'ডালি'], ['ঠিলা', 'সোপা'], ['ঠিলা', 'কাগ'], ['ডাঁৰ', 'মাৰি'], ['ডাঁৰ', 'দাণ্ডি'], ['ডাঁৰ', 'শলা'], ['ডাঁৰ', 'ডাঁৰিকি'], ['ডাঁৰা', 'সুঁতি'], ['ডাঁৰা', 'সোঁতা'], ['ডাঁৰা', 'বিধি'], ['ডাঁৰা', 'ৰীতি'], ['ডাঁৰা', 'প্ৰথা'], ['ডাঁৰা', 'দস্তুৰ'], ['ডাঁৰি', 'চিপ'], ['ডালিম', 'বেদানা'], ['ডালিম', 'আনাৰ'], ['ডালিম', 'ডালিম গছ'], ['ডিম', 'কণী'], ['ডিমা', 'কণী'], ['ডেৱা', 'বহঁত'], ['ডোল', 'ফহতি'], ['ডোৰ', 'জৰী'], ['ডোৰ', 'ৰছী'], ['তজু', 'তোৰ'], ['তজু', 'তোমাৰ'], ['তজু', 'আপোনাৰ'], ['তজু', 'তুৱা'], ['তজু', 'তোৰ'], ['তজু', 'তোমাৰ'], ['তজু', 'তুৱা'], ['তত্ব', 'মতবাদ'], ['তথা', 'আৰু'], ['তথাপি', 'তেও'], ['তপিনা', 'টিকা'], ['তপিনা', 'কটি'], ['তাপ', 'তাও'], ['তাপ', 'উত্তাপ'], ['তামোল', 'গুৱা'], ['তাল', 'ভূত'], ['তিতা', 'তিয়া'], ['তিতা', 'ভিজা'], ['তিতা', 'জিকা'], ['তিতা', 'ভিজা'], ['তিতা', 'জিকা'], ['তিতৰ', 'চীনা কুকুৰা'], ['তিল', 'অলপমান'], ['তুলা', 'কপাহ'], ['তুলা', 'দগা-পাল্লা'], ['তুলা', 'পাল্লা'], ['তুলা', 'তৰ্জ্জু'], ['তুলি', 'বুৰুজ'], ['তুলি', 'লিখনী'], ['তুলী', 'তোচক'], ['তুলী', 'জাজিম'], ['তূলী', 'বুৰুজ'], ['তূলী', 'লিখনী'], ['তেজা', 'এৰা'], ['তেজা', 'এৰি দিয়া'], ['তেজা', 'ত্যাগ কৰা'], ['তেজা', 'উছৰ্গা কৰা'], ['তেজা', 'বাদ দিয়া'], ['তেজা', 'ছড়া'], ['তেজা', 'ছাড়া'], ['তেল', 'চৰ্বি'], ['তেল', 'মেদ'], ['তেল', 'স্নেহ পদাৰ্থ'], ['তোলা', 'দঙা'], ['তোলা', 'উঠোৱা'], ['তোলা', 'গোটোৱা'], ['তোলা', 'সঁচা'], ['তোলা', 'পদোন্নতি কৰা'], ['তোলা', 'লালন-পালন কৰা'], ['তোলা', 'তুলি-তালি ডাঙৰ-দীঘল কৰা'], ['তৰোৱাল', 'হেংদাং'], ['তৰোৱাল', 'দাখৰ'], ['থপা', 'চৰ'], ['থপা', 'থাপৰ'], ['থপা', 'পতা'], ['থপা', 'স্থাপন কৰা'], ['থান', 'নামঘৰ'], ['থান', 'ঠাই'], ['থান', 'জেগা'], ['থান', 'থল'], ['থান', 'মুলুক'], ['থাপা', 'পাতা'], ['থাপা', 'স্থাপন কৰা'], ['থাম', 'খুটি'], ['থাম', 'স্তম্ভ'], ['থালি', 'বাচন'], ['থালি', 'কাঁহী'], ['থালি', 'প্লে’ট'], ['থিৰ', 'ঠেৰেঙা'], ['থিৰ', 'জঠঙা'], ['থিৰ', 'জঠৰ'], ['থিৰ', 'জুপুকা'], ['থিৰ', 'গতিহীন'], ['দমা', 'কমা'], ['দমা', 'শান্ত হোৱা'], ['দাপোণ', 'আইনা'], ['দাম', 'মোল'], ['দাম', 'দৰ'], ['দাম', 'মূল্য'], ['দাম', 'বেচ'], ['দাহ', 'তাপ'], ['দাহ', 'তাও'], ['দাহ', 'গৰম'], ['দিঠক', 'বাস্তৱ'], ['দীঘ', 'দৈৰ্ঘ্য'], ['দীঘ', 'দীৰ্ঘতা'], ['দীঘল', 'সাপ'], ['দীঘা', 'দৈৰ্ঘ্য'], ['দীঘা', 'দীৰ্ঘতা'], ['দুধ', 'গাখীৰ'], ['দুৱাৰ', 'দৰ্জা'], ['দেউতা', 'বাপ'], ['দেউতা', 'বোপাই'], ['দেউতা', 'পিতাই'], ['দেউতা', 'আব্বা'], ['দেউতা', 'বাবা'], ['দেউতা', 'বোপা'], ['দেহা', 'গা'], ['দৈনিক', 'নিতৌ'], ['দৈনিক', 'নিতে'], ['দৈনিক', 'দিনেও'], ['দৈনিক', 'দৈনন্দিন'], ['দৈনিক', 'প্ৰতিদিন'], ['দৈনিক', 'দিনৌ'], ['দৈনিক', 'প্ৰতিদিনে'], ['দৈনিক', 'নিত্যে'], ['দোলা', 'পাল্কী'], ['দোলা', 'পাল'], ['দোৱা', 'আশীৰ্বাদ'], ['দোৱা', 'আঁজলি'], ['দোৱা', 'প্ৰাৰ্থনা'], ['দৰৱ', 'ঔষধ'], ['ধনিয়া', 'মেমেধু'], ['ধনিয়া', 'গোন্ধোৱা শাক'], ['ধুমুহা', 'বা-মৰলি'], ['ধুমুহা', 'বানাহ'], ['ধুমুহা', 'তুফান'], ['ধুমুহা', 'জঞ্জা'], ['ধূলি', 'ফেদা'], ['ধূলি', 'টাটৰি'], ['ধূলি', 'ওখল'], ['ধূলি', 'চাহী'], ['ধৰ', 'আৰম্ভ কৰা'], ['ধৰ্ষণ', 'বলাৎকাৰ'], ['নগৰ', 'চহৰ'], ['নগৰ', 'পুৰ'], ['নতুন', 'ন'], ['নদী', 'গাং'], ['ননী', 'মাখন'], ['নাই', 'ওহোঁ'], ['নাই', 'না'], ['নাই', 'নাড়ী'], ['নাঙঠ', 'উদং'], ['নাঙঠ', 'উলংগ'], ['নাঙল', 'হাল'], ['নাট', 'ভাওনা'], ['নাট', 'নাটক'], ['নামনি', 'ভাটী'], ['নামনি', 'ভটীয়নি'], ['নাৰিকল', 'ডাব'], ['নাৰিকল', 'পুদোটক'], ['নিয়া', 'লৈ যোৱা'], ['নিয়া', 'কঢ়িওৱা'], ['নিয়া', 'বোৱা'], ['নেগুৰ', 'নেজ'], ['নেজ', 'নেগুৰ'], ['নেমু', 'গোল-নেমু'], ['নৈ', 'গাং'], ['পকা', 'পূৰঠ'], ['পকা', 'পৈণত'], ['পঘা', 'এৰাল'], ['পঘা', 'দৰহ'], ['পঘা', 'দৰখ'], ['পচলা', 'কল পচলা'], ['পচা', 'গেলা'], ['পচা', 'গেলা'], ['পঢ়া', 'পঢ়া-শুনা কৰা'], ['পতা', 'পিৰঠি'], ['পতা', 'চেৰপাটি'], ['পতা', 'পাও'], ['পতা', 'গোড়'], ['পথালি', 'পুতল'], ['পথালি', 'প্ৰস্থ'], ['পথাৰ', 'ময়দান'], ['পনৰু', 'পিয়াঁজ'], ['পলম', 'দেৰি'], ['পলা', 'ভাগ'], ['পা', 'আৰ্জ'], ['পা', 'লাভ'], ['পা', 'হাছিল কৰ'], ['পা', 'লাভ কৰ'], ['পা', 'লাভ কৰ'], ['পাঁজৰ', 'কাষ'], ['পাঁজৰ', 'দাঁতি'], ['পাঁজৰা', 'দাঁতি'], ['পাঁজৰা', 'কাষ'], ['পাকৈত', 'ঘাগু'], ['পাকৈত', 'ঘাগী'], ['পাকৈত', 'কাজী'], ['পাকৈত', 'পাৰ্গত'], ['পাকৈত', 'দক্ষ'], ['পাকৈত', 'ওস্তাদ'], ['পাকৈত', 'নিপুণ'], ['পাগ', 'পাক'], ['পাগ', 'ৰন্ধন'], ['পাত', 'থাপ'], ['পাতল', 'অগধুৰ'], ['পাতল', 'লঘূ'], ['পাতল', 'খীন'], ['পাতল', 'কেটেঙা'], ['পাথৰ', 'শিল'], ['পানী', 'জল'], ['পানৈ', 'জোতা'], ['পাল', 'পোহ'], ['পাল', 'পোহ-পাল দে'], ['পাল', 'আউল ধৰ'], ['পাল', 'প্ৰতিপালন কৰ'], ['পাল', 'চৰা'], ['পালেং', 'খাট'], ['পাৰা', 'ৰহ'], ['পিঁজৰা', 'সঁজা'], ['পিঁজৰা', 'গঁৰাল'], ['পিটা', 'কোবোৱা'], ['পিটা', 'মৰা'], ['পিঠা', 'কে’ক'], ['পিত', 'সাহ'], ['পিতা', 'দেউতা'], ['পিতা', 'বাপ'], ['পিতা', 'বোপা'], ['পিতা', 'বোপাই'], ['পিয়া', 'পি খোৱা'], ['পিয়া', 'খোৱা'], ['পিহা', 'গুৰি কৰা'], ['পিহা', 'ঘঁহা'], ['পুত', 'পো'], ['পুত', 'ল’ৰা'], ['পুত', 'সুত'], ['পুথি', 'কিতাপ'], ['পুনু', 'আকৌ'], ['পুষ্প', 'ফুল'], ['পুৰণা', 'অতীজৰ'], ['পুৰুষ', 'মতা মানুহ'], ['পুৰুষ', 'মুনিহ'], ['পুৰুষ', 'নৰ'], ['পুৱা', 'ৰাতিপুৱা'], ['পুৱা', 'বিহান'], ['পুৱা', 'ভোৰ'], ['পূৰঠ', 'পকা'], ['পূৰঠ', 'পৈণত'], ['পৃথিৱী', 'ভূঁই'], ['পৃথিৱী', 'ইলিকা'], ['পৃথিৱী', 'ধৰা'], ['পৃথিৱী', 'মেদিনী'], ['পৃথিৱী', 'মহী'], ['পৃথিৱী', 'দোহিনী'], ['পৃথিৱী', 'গোলক'], ['পৃথিৱী', 'ভূ'], ['পৃথিৱী', 'বিশ্ব'], ['পৃথিৱী', 'জগত'], ['পৃথিৱী', 'দুনিয়া'], ['পেখন', 'ম’ৰা চালি'], ['পেখম', 'ম’ৰা চালি'], ['পেট', 'জঠৰ'], ['পেট', 'উদৰ'], ['পেট', 'গৰ্ভ'], ['পেট', 'জৰায়ু'], ['পেট', 'মচ'], ['পেট', 'গৰ্ভাশয়'], ['পেটু', 'নাড়ী'], ['পেটু', 'আঁত'], ['পেটু', 'নাড়ীভুঁৰি'], ['পেল', 'শুক্ৰাশয়'], ['পেলু', 'কৃমি'], ['পেৰা', 'বাকচ'], ['পেৰা', 'জঁপা'], ['পৈ', 'গিৰি'], ['পৈ', 'স্বামী'], ['পৈ', 'ভতাৰ'], ['পো', 'পুত'], ['পোন', 'ডঁৰকাল'], ['পোন', 'চিধা'], ['পোন', 'থিয়'], ['পোনা', 'ছলি'], ['পোহা', 'পলা'], ['পোহা', 'পোহ-পাল দিয়া'], ['পোহা', 'আউল ধৰা'], ['পোহা', 'প্ৰতিপালন কৰা'], ['পোহাৰ', 'দোকান'], ['পোহাৰ', 'গোলা'], ['পোহাৰ', 'বজাৰ'], ['পোহাৰ', 'হাট'], ['পোৱালী', 'ছনা'], ['পোৱালী', 'ছাৱ'], ['পোৱালী', 'ছলি'], ['প্ৰাণ', 'জীৱন'], ['প্ৰাণ', 'জীউ'], ['প্ৰাণ', 'জান'], ['প্ৰাণ', 'পৰাণ'], ['পৰ', 'সময়'], ['পৰ', 'পল'], ['পৰ', 'বেলা'], ['পৰম্পৰা', 'লোকাচাৰ'], ['পৰম্পৰা', 'দেশাচাৰ'], ['পৰম্পৰা', 'প্ৰথা'], ['পৰম্পৰা', 'ৰীতি'], ['পৰম্পৰা', 'ঐতিহ্য'], ['পৰম্পৰা', 'বিধি'], ['পৰম্পৰা', 'দস্তুৰ'], ['পৰম্পৰা', 'ডাঁৰা'], ['পৰম্পৰা', 'নিৰ্বন্ধ'], ['পৰহি', 'পৰহিলৈ'], ['পৰাণ', 'জীৱন'], ['পৰাণ', 'জীউ'], ['পৰাণ', 'জান'], ['পৰাণ', 'প্ৰাণ'], ['পৰ্বত', 'পাহাৰ'], ['পৰ্শুই', 'পৰ্শুইলৈ'], ['ফণি', 'কাঁকৈ'], ['ফণী', 'ফেঁটীসাপ'], ['ফণী', 'সাপ'], ['ফলা', 'ছিঙা'], ['ফলা', 'চিৰা'], ['ফালা', 'ছিঙা'], ['ফালা', 'চিৰা'], ['ফুল', 'কল'], ['ফুলা', 'উখহা'], ['ফুলা', 'ওফন্দা'], ['ফৰিং', 'জিঞাঁ'], ['বঁটা', 'পুৰস্কাৰ'], ['বঁটা', 'বকচিচ'], ['বগা', 'ধলা'], ['বগা', 'গোৰা'], ['বঙহ', 'মিতিৰ'], ['বঙহ', 'আপোন'], ['বঙহ', 'কুটুম'], ['বঙহ', 'নিজ'], ['বঙালী', 'বঙাল'], ['বঙালী', 'বঙালী ভাষা'], ['বঙালী', 'বাংলা'], ['বছৰ', 'বৰ্ষ'], ['বছৰ', 'চন'], ['বছৰ', 'ছাল'], ['বছৰ', 'হায়ন'], ['বতাহ', 'বায়ু'], ['বল', 'ঢোপ'], ['বল', 'কন্দুক'], ['বলাৎকাৰ', 'ধৰ্ষণ'], ['বলিয়া', 'পগলা'], ['বলিয়া', 'পাগল'], ['বহুত', 'তামাম'], ['বা', 'মালয়া-বতাহ'], ['বাউল', 'পগলা'], ['বাউল', 'পাগল'], ['বাওঁ', 'লেবেৰা'], ['বাওঁ', 'বাওঁফাল'], ['বাওঁ', 'লেবেৰা'], ['বাগা', 'চৰ'], ['বাচ', 'গোন্ধ'], ['বাজ', 'বাহিৰ'], ['বাজে', 'নলগা'], ['বাজে', 'নালাগা'], ['বাজে', 'অদৰকাৰী'], ['বাজে', 'বাহিৰে'], ['বাট', 'আলিবাট'], ['বাট', 'ৰাস্তা'], ['বাট', 'আলি'], ['বাট', 'পথ'], ['বাট', 'ৰাহ'], ['বাঢ়', 'বৃদ্ধি পা'], ['বাঢ়', 'বিলা'], ['বাঢ়নী', 'জাৰু'], ['বাঢ়নী', 'শোটা'], ['বাঢ়ৈ', 'কাঠ মিস্ত্ৰী'], ['বাঢ়ৈ', 'সূতাৰ'], ['বাতৰি', 'খবৰ'], ['বাতৰি', 'বতৰা'], ['বান', 'বৰপানী'], ['বানান', 'আখৰ-জোঁটনি'], ['বান্ধ', 'মথাউৰি'], ['বান্ধ', 'ভেটা'], ['বান্ধ', 'পানীগড়'], ['বান্ধ', 'নদীবান্ধ'], ['বান্ধ', 'গাঁঠি'], ['বাল', 'গুপ্তকেশ'], ['বাল', 'কামকেশ'], ['বাল', 'যৌনকেশ'], ['বাহ', 'চাক'], ['বাহা', 'চাক'], ['বাহু', 'ভকুৱা'], ['বাহু', 'ঢেকেৰা'], ['বাহু', 'কাতল'], ['বাহু', 'বৰগলা'], ['বাৰিষা', 'মৌচুমী'], ['বাৰু', 'ভাল'], ['বাৰু', 'ভাল'], ['বিজুলী', 'বিদ্যুৎ'], ['বিজুলী', 'লাইন'], ['বিজুলী', 'কাৰেণ'], ['বিনা', '-আকৈ'], ['বিয়লি', 'ভাটিবেলা'], ['বিয়লি', 'আবেলি'], ['বিয়লি', 'পিছবেলা'], ['বিল', 'হ্ৰদ'], ['বিলগ', 'আলগ'], ['বিলগ', 'সূকীয়া'], ['বিলগ', 'দোছোৰা'], ['বিষ', 'বিহ'], ['বিৰলী', 'মেকুৰী'], ['বিৰালী', 'মেকুৰী'], ['বৃশ্চিক', 'ভালুক-মকৰা'], ['বৃশ্চিক', 'বিচ্ছু'], ['বৃহস্পতিবাৰ', 'গুৰুবাৰ'], ['বেঁকা', 'কেঁকোৰা'], ['বেঁকা', 'ভঁজীয়া'], ['বেং', 'ভেঁকুলী'], ['বেং', 'ভেঁকোলা'], ['বেগ', 'গতি'], ['বেগ', 'দ্ৰুতি'], ['বেগ', 'গতিবেগ'], ['বেগ', 'দ্ৰুততা'], ['বেগ', 'ক্ষিপ্ৰতা'], ['বেগ', 'শীঘ্ৰতা'], ['বেচ', 'বিক্ৰী কৰ'], ['বেজী', 'ইঞ্জেক্সন'], ['বেত', 'এছাৰি'], ['বেত', 'সৌকা'], ['বেপাৰ', 'পেচা'], ['বেপাৰ', 'বেহা'], ['বেপাৰ', 'ব্যৱসায়'], ['বেলি', 'সূৰ্য্য'], ['বেলি', 'বাৰ'], ['বেলেগ', 'আলগ'], ['বেলেগ', 'সূকীয়া'], ['বেলেগ', 'দোছোৰা'], ['বেহাৰ', 'সৰিয়হ'], ['বেৰ', 'দেৱাল'], ['বেৰা', 'জেওৰা'], ['বোজা', 'ভাৰ'], ['বোন্দোৰা', 'কঁটীয়া'], ['বোন্দোৰা', 'চাপৰ'], ['বোৱা', 'কঢ়িওৱা'], ['বোৱা', 'নিয়া'], ['বোৱা', 'লৈ যোৱা'], ['বোৱা', 'ব্যৱহাৰ কৰা'], ['বোৱা', 'বজোৱা'], ['ব্যৱহাৰকাৰী', 'ইউজাৰ'], ['ব্ৰহ্মপুত্ৰ', 'লুইত'], ['ব্ৰহ্মপুত্ৰ', 'বৰলুইত'], ['ব্ৰহ্মপুত্ৰ', 'বৰনৈ'], ['বৰ', 'দৰা'], ['বৰণ', 'ৰং'], ['বৰণ', 'বোল'], ['বৰশী', 'আঁকোৰা'], ['বৰষ', 'বৰষুণ দে'], ['বৰষ', 'বৰষুণ পৰ'], ['বৰষ', 'বৰষুণ হ'], ['বৰা', 'গাহৰি'], ['ভজা', 'পূজা কৰা'], ['ভজা', 'প্ৰাৰ্থনা কৰা'], ['ভজা', 'সেৱা কৰা'], ['ভজা', 'উপাসনা কৰা'], ['ভতাৰ', 'গিৰি'], ['ভতাৰ', 'স্বামী'], ['ভতাৰ', 'পৈ'], ['ভবা', 'চিন্তা কৰা'], ['ভবা', 'চিন্তা'], ['ভবা', 'লগা'], ['ভবা', 'অনুভৱ কৰা'], ['ভহা', 'ওপঙা'], ['ভাঁৰ', 'ঠগ'], ['ভাঁৰ', 'চকুত ধূলি মাৰ'], ['ভাঁৰ', 'ছল কৰ'], ['ভাঁৰ', 'ফাংবাজী মাৰ'], ['ভাঁৰ', 'এপাহ মাৰ'], ['ভাঁৰ', 'টেপাই মাৰ'], ['ভাগ', 'ছোৱা'], ['ভাগ', 'অংশ'], ['ভাগ', 'পলা'], ['ভাগা', 'পলোৱা'], ['ভাহা', 'ওপঙা'], ['ভাৰত', 'ভাৰতবৰ্ষ'], ['ভুকা', 'ভৌ ভৌ কৰা'], ['ভুৱা', 'নকল'], ['ভূঁই', 'পৃথিৱী'], ['ভূঁই', 'ইলিকা'], ['ভূঁই', 'ধৰা'], ['ভূঁই', 'মেদিনী'], ['ভূঁই', 'মহী'], ['ভূঁই', 'দোহিনী'], ['ভূঁই', 'মাটি'], ['ভূত', 'ডাইনী'], ['ভূত', 'তাল'], ['ভূত', 'দ’ত'], ['ভূত', 'বাঁক'], ['ভূত', 'খেতৰ'], ['ভূত', 'হাটোৱালী'], ['ভূত', 'ঘোৰাপাক'], ['ভূত', 'বেতাল'], ['ভূত', 'দেও'], ['ভূত', 'কালধূমা'], ['ভূত', 'ডাঙৰীয়া'], ['ভূত', 'যখ'], ['ভূমিকম্প', 'ভূঁইকঁপ'], ['ভেঁকুলী', 'বেং'], ['ভেকুলী', 'বেং'], ['ভেল', 'ভূৰ'], ['ভোক্তা', 'খাওঁতা'], ['ভোক্তা', 'খাৱৰীয়া'], ['ভোক্তা', 'গ্ৰাহক'], ['ভোজ', 'লগ-ভাত'], ['ভোট', 'ভুটীয়া'], ['ভোট', 'ভূটান'], ['ভোট', 'ভোট দেশ'], ['ভোট', 'মত'], ['ভোট', 'ৰায়'], ['ভোট', 'ফয়চলা'], ['মঙহ', 'গোছ'], ['মচা', 'সৰা'], ['মচা', 'জৰা'], ['মচা', 'জাৰু দিয়া'], ['মচা', 'মোহৰা'], ['মজা', 'জুতিলগা'], ['মজা', 'গাহাম'], ['মজা', 'ফূৰ্ত্তি'], ['মজা', 'ৰং'], ['মজা', 'উলাহ'], ['মজা', 'আমেজ'], ['মজা', 'সুখ'], ['মজা', 'ঘঁহা'], ['মজা', 'ঘঁহা'], ['মজা', 'তুলতুলীয়া'], ['মজা', 'নৰম'], ['মজা', 'ফেপা'], ['মজা', 'কোমল'], ['মজা', 'শেলুকীয়া'], ['মজা', 'ফেচফেচীয়া'], ['মজা', 'মোলায়েম'], ['মজা', 'সোপসুপীয়া'], ['মজা', 'ফেচেকা'], ['মজা', 'দবা'], ['মজা', 'জমা'], ['মতা', 'গিৰি'], ['মতা', 'পতি'], ['মতা', 'উচ্চাৰণ কৰা'], ['মতা', 'আমন্ত্ৰণ কৰা'], ['মতা', 'নিমন্ত্ৰণ কৰা'], ['মতা', 'কথা পতা'], ['মধুৰি', 'সঁফুৰি আম'], ['মধুৰি', 'মুহৰী'], ['মনা', 'দেখা'], ['মন্ত্ৰী', 'উজীৰ'], ['মন্ত্ৰী', 'মিনিষ্টাৰ'], ['মলি', 'ওখল'], ['মলি', 'ময়লা'], ['মহঙা', 'দামী'], ['মহঙা', 'সোণসেৰীয়া'], ['মহঙা', 'বহুমূলীয়া'], ['মহঙা', 'মৰগীয়া'], ['মহঙা', 'মূল্যৱান'], ['মহিলা', 'মাইকী মানুহ'], ['মহিলা', 'নাৰী'], ['মহী', 'চিয়াঁহী'], ['মহী', 'কালী'], ['মা', 'আই'], ['মা', 'আম্মা'], ['মাংস', 'গোছ'], ['মাও', 'আই'], ['মাও', 'আম্মা'], ['মাখ', 'সান'], ['মাখন', 'ননী'], ['মাখন', 'লৱনু'], ['মাজা', 'ঘঁহা'], ['মাজা', 'ঘঁহা'], ['মাণিক', 'ডালিমা'], ['মাণিক', 'চুনী'], ['মাত', 'ডাক'], ['মাত', 'উচ্চাৰণ কৰা'], ['মাত', 'আমন্ত্ৰণ কৰা'], ['মাত', 'নিমন্ত্ৰণ কৰা'], ['মাত', 'কথা পতা'], ['মাতা', 'উচ্চাৰণ কৰা'], ['মাতা', 'আমন্ত্ৰণ কৰা'], ['মাতা', 'নিমন্ত্ৰণ কৰা'], ['মাতা', 'কথা পতা'], ['মান', 'সন্মান'], ['মান', 'শ্ৰদ্ধা'], ['মান', 'কদৰ'], ['মান', 'আদৰ'], ['মান', 'সমাদৰ'], ['মান', 'সাদৰ'], ['মান', 'ইজ্জত'], ['মান', 'মাত্ৰা'], ['মান', 'মানক'], ['মান', 'মান্য'], ['মান', 'প্ৰমাণিক'], ['মান', 'মানতৰা'], ['মাল', 'বস্তু'], ['মাল', 'নিচাযুক্ত বস্তু'], ['মাল', 'টকা'], ['মাল', 'পইচা'], ['মাল', 'মাল-যুঁজাৰু'], ['মাল', 'পালোৱান'], ['মাহী', 'জেঠাই'], ['মাৰা', 'পিটা'], ['মাৰা', 'হত্যা কৰা'], ['মিছা', 'ফাঁকি'], ['মিছা', 'ভুৱা'], ['মিছা', 'ফাকটি'], ['মিছা', 'বাদি'], ['মিছা', 'শো'], ['মিছা', 'অসত্য'], ['মিহল', 'মিল'], ['মিহলা', 'মিলা'], ['মিহলি', 'খিচিৰি'], ['মুজা', 'মুদা'], ['মুজা', 'মুদা'], ['মূত', 'পেচাপ'], ['মূতা', 'পেছাপ কৰা'], ['মূৰ', 'মাথা'], ['মূৰ', 'মাথ'], ['মেঘ', 'ডাৱৰ'], ['মেলা', 'পৰা'], ['মেলা', 'ফুলা'], ['মেলা', 'বহলোৱা'], ['মেহ', 'ডাৱৰ'], ['মেহ', 'পেচাপ'], ['মেহ', 'মূত'], ['মোল', 'দাম'], ['মোল', 'দৰ'], ['মোল', 'মূল্য'], ['মোল', 'বেচ'], ['মৰ', 'ঢুকা'], ['মৰ', 'মৃত্যু হ'], ['মৰ', 'নিহত হ'], ['মৰ', 'মৌত হ'], ['যুঁজা', 'যুদ্ধ কৰা'], ['যোগোৱা', 'যোগান ধৰা'], ['লগা', 'দৰকাৰ'], ['লগা', 'প্ৰয়োজন'], ['লগা', 'বিচৰা'], ['লগা', 'আৰম্ভ কৰা'], ['লগা', 'হোৱা'], ['লঘোন', 'ৰোজা'], ['লনী', 'মাখন'], ['লহৰ', 'ঢৌ'], ['লহৰ', 'তৰংগ'], ['লহৰি', 'ঢৌ'], ['লহৰি', 'তৰংগ'], ['লাই', 'ঘাই'], ['লাগ', 'দৰকাৰ'], ['লাগ', 'প্ৰয়োজন'], ['লাগ', 'আৰম্ভ কৰা'], ['লাগ', 'হ'], ['লাথি', 'গোৰ'], ['লাথি', 'গুৰি'], ['লিপি', 'আখৰ'], ['লিপি', 'হৰফ'], ['লুইত', 'ব্ৰহ্মপুত্ৰ'], ['লুইত', 'বৰলুইত'], ['লুইত', 'বৰনৈ'], ['লুইত', 'বুঢ়ালুইত'], ['লোক', 'আন'], ['লোক', 'পৰ'], ['লোক', 'বেলেগ'], ['লোকপ্ৰিয়', 'জনপ্ৰিয়'], ['লোণ', 'নিমখ'], ['লোণ', 'মহং'], ['লৰা', 'যোৱা'], ['লৰা', 'গেলা'], ['লৰা', 'পচা'], ['লৱনু', 'মাখন'], ['ল’ৰা', 'বোপা'], ['ল’ৰা', 'ছৱাল'], ['ল’ৰা', 'লিকিৰা'], ['ল’ৰা', 'লাড়িকা'], ['ল’ৰা', 'আপা'], ['ল’ৰা', 'দুলাল'], ['ল’ৰা', 'পুত'], ['ল’ৰা', 'পো'], ['শইচ', 'ফচল'], ['শইচ', 'শস্য'], ['শক', 'শাক'], ['শক্তিশালী', 'হাত-দীঘল'], ['শক্তিশালী', 'প্ৰতাপী'], ['শক্তিশালী', 'প্ৰভাৱশালী'], ['শক্তিশালী', 'সবল'], ['শক্তিশালী', 'প্ৰতাৱী'], ['শক্তিশালী', 'ক্ষমতাপন্ন'], ['শক্তিশালী', 'ক্ষমতাশালী'], ['শক্তিশালী', 'তেজস্বী'], ['শক্তিশালী', 'মজবুত'], ['শক্তিশালী', 'পহুৱাল'], ['শক্তিশালী', 'বলীয়ান'], ['শক্তিশালী', 'বলৱান'], ['শব্দ', 'আৱাজ'], ['শব্দ', 'জনজননি'], ['শলা', 'মাৰি'], ['শলা', 'ডাঁৰ'], ['শলা', 'দাণ্ডি'], ['শলা', 'ডাঁৰিকি'], ['শস্য', 'ফচল'], ['শস্য', 'শইচ'], ['শাক', 'শক'], ['শামুক', 'জেলুক'], ['শাল', 'কল'], ['শাল', 'যন্ত্ৰ'], ['শাল', 'কাৰখানা'], ['শাল', 'কলঘৰ'], ['শাল', 'কুঠী'], ['শালি', 'ঘৰ'], ['শালি', 'হল'], ['শালি', 'হলঘৰ'], ['শিটা', 'জাবৰি'], ['শিটা', 'ডাবৰি'], ['শিপিনী', 'বোৱনী'], ['শিপিনী', 'তাঁতিনী'], ['শিয়া', 'শেহ'], ['শিয়া', 'আঁত'], ['শিল', 'পাথৰ'], ['শিহা', 'শিহৰি'], ['শিহা', 'পম'], ['শিহু', 'উলুপী'], ['শিহু', 'ছীল'], ['শুকান', 'ফৰফৰীয়া'], ['শুকান', 'নিৰস'], ['শুকান', 'খৰলীয়া'], ['শুকান', 'জর্জৰীয়া'], ['শুকান', 'উখৰা'], ['শুকান', 'খৰখৰীয়া'], ['শুকান', 'কটুৰ'], ['শুকান', 'আৰৈয়া'], ['শুঙা', 'গোন্ধ লোৱা'], ['শুঙা', 'শুঙি চোৱা'], ['শুধ', 'খাটি'], ['শুৱনি', 'ধুনীয়া'], ['শেঙুন', 'খেঁকেৰু'], ['শেঙুন', 'নাকৰ ঘিঁউ'], ['শেন চৰাই', 'চিলনী'], ['শেলাই', 'মছ'], ['শেষ', 'সাং'], ['শেষ', 'খতম'], ['শেষ', 'সমাপ্ত'], ['শেষ', 'খতম'], ['শেষ', 'সাং'], ['শেষ', 'খাটাং'], ['শেষ', 'চৰম'], ['শেষ', 'চূড়ান্ত'], ['শেষ', 'ফাইনেল'], ['শেষ', 'ছিদাং'], ['শেষ', 'অন্তিম'], ['শেষ', 'সামৰণি'], ['শেষ', 'ওৰ'], ['শেষ', 'সামৰণি'], ['শেষ', 'সমাপ্তি'], ['শেষ', 'অন্ত'], ['শেষ', 'আদায়'], ['শেষ', 'উৰি'], ['শেষ', 'কাৱাল'], ['শেষ', 'উচল'], ['শেষ', 'ইতি'], ['শৈশৱ', 'শৈশৱকাল'], ['শৈশৱ', 'ল’ৰালিকাল'], ['শৈশৱ', 'ল’ৰালি'], ['শৈশৱ', 'বাল্যকাল'], ['শো', 'টোপনি যা'], ['শো', 'ঘুমা'], ['শো', 'টোপনি মাৰ'], ['শোৱা', 'টোপনি নিয়া'], ['শোৱা', 'ঘুমোৱা'], ['শ্ৰদ্ধা', 'সন্মান'], ['শ্ৰদ্ধা', 'মান'], ['শ্ৰদ্ধা', 'কদৰ'], ['শ্ৰদ্ধা', 'আদৰ'], ['শ্ৰদ্ধা', 'সমাদৰ'], ['শ্ৰদ্ধা', 'সাদৰ'], ['শ্ৰদ্ধা', 'ইজ্জত'], ['সঁচা', 'জমা কৰা'], ['সঁচা', 'গোটোৱা'], ['সকলো', 'আটাই'], ['সকলো', 'সদৌ'], ['সজা', 'বনোৱা'], ['সজা', 'গঢ়া'], ['সজা', 'সৃষ্টি কৰা'], ['সজা', 'নিৰ্মান কৰা'], ['সন্ধিয়া', 'গধূলি'], ['সন্ধিয়া', 'মগ্ৰীৱ'], ['সন্মান', 'মান'], ['সন্মান', 'শ্ৰদ্ধা'], ['সন্মান', 'কদৰ'], ['সন্মান', 'আদৰ'], ['সন্মান', 'সমাদৰ'], ['সন্মান', 'সাদৰ'], ['সন্মান', 'ইজ্জত'], ['সপান', 'হেঁপাহ'], ['সপান', 'আখা'], ['সপোন', 'হেঁপাহ'], ['সপোন', 'আশা'], ['সময়', 'পৰ'], ['সময়', 'পল'], ['সময়', 'বেলা'], ['সময়', 'খন'], ['সময়', 'বেলি'], ['সলা', 'বদলা'], ['সলা', 'সাল-সলনি কৰ'], ['সলা', 'পৰিৱৰ্তন কৰ'], ['সলা', 'বদলি কৰ'], ['সলা', 'ৰদ-বদল কৰ'], ['সলা', 'বদলা'], ['সহা', 'সহ্য কৰা'], ['সাঁচ', 'জমা কৰ'], ['সাঁচ', 'গোটা'], ['সাঁচা', 'জমা কৰা'], ['সাঁচা', 'গোটোৱা'], ['সাঁজ', 'গধূলি'], ['সাঁজ', 'সন্ধিয়া'], ['সাঁজ', 'মগ্ৰীৱ'], ['সাজ', 'বনা'], ['সাজ', 'গঢ়'], ['সাজ', 'সৃষ্টি কৰ'], ['সাজ', 'নিৰ্মান কৰ'], ['সান', 'লেপ'], ['সান', 'লগা'], ['সান', 'মাখ'], ['সান', 'মিহলা'], ['সামৰ', 'গোটা'], ['সামৰ', 'আগুৰ'], ['সামৰ', 'বেৰি ধৰ'], ['সামৰ', 'ছাটি ধৰ'], ['সাহ', 'সাহস'], ['সাহ', 'তাগজ'], ['সাহ', 'খামি'], ['সাহ', 'পিত'], ['সাহ', 'হিউ'], ['সাহ', 'আশয়'], ['সাহ', 'লাই'], ['সিঁচা', 'ছটিওৱা'], ['সিটা', 'জাবৰি'], ['সিটা', 'ডাবৰি'], ['সীয়া', 'চিলোৱা'], ['সুঁতি', 'সোঁতা'], ['সূচোৱা', 'দেখুওৱা'], ['সূত', 'আকৰ্ষ'], ['সূৰুয', 'বেলি'], ['সূৰ্য্য', 'বেলি'], ['সেকা', 'পাতত দিয়া'], ['সেকা', 'পোটক'], ['সেকা', 'চোটোকা'], ['সেকা', 'প্ৰতিশোধ'], ['সেকা', 'প্ৰতিফল'], ['সেকা', 'পোটক'], ['সেকা', 'চোটোকা'], ['সেকা', 'হোৰ'], ['সেকা', 'শোত'], ['সেকা', 'প্ৰতিশোধ'], ['সেমেকা', 'জেকা'], ['সেমেকা', 'জেকা'], ['সোঁ', 'সোঁফাল'], ['সোধা', 'পোছা'], ['সোধা', 'প্ৰশ্ন কৰা'], ['সোধা', 'জিজ্ঞাসা কৰা'], ['সোমোৱা', 'ঢুকা'], ['সোমোৱা', 'পশা'], ['সোমোৱা', 'প্ৰৱেশ কৰা'], ['সৰা', 'খহা'], ['সৰা', 'পৰা'], ['সৰা', 'খহা'], ['সৰা', 'পৰা'], ['সৰা', 'পলোৱা'], ['সৰা', 'জৰা'], ['সৰিয়হ', 'বেহাৰ'], ['হগা', 'পাইখেনা'], ['হগা', 'গু'], ['হগা', 'শৌচ'], ['হগা', 'মল'], ['হগা', 'পাইখেনা কৰা'], ['হগা', 'শৌচ কৰা'], ['হয়', 'হেঁতেন'], ['হাগা', 'পাইখেনা'], ['হাগা', 'গু'], ['হাগা', 'শৌচ'], ['হাগা', 'মল'], ['হাগা', 'পাইখেনা কৰা'], ['হাগা', 'শৌচ কৰা'], ['হাট', 'বজাৰ'], ['হাট', 'পোহাৰ'], ['হাট', 'বিপণ'], ['হাড়', 'অস্থি'], ['হাল', 'নাঙল'], ['হাল', 'যোৰ'], ['হাৰ', 'চেইন'], ['হাৰ', 'নেকলেছ'], ['হিংসা', 'জ্বলন'], ['হিয়া', 'আমঠু'], ['হিয়া', 'অন্তৰ'], ['হিয়া', 'কলিজা'], ['হেঁতেন', 'হয়'], ['হেঁতেন', 'অঁ'], ['হেঁপাহ', 'ইচ্ছা'], ['হেঁপাহ', 'বাঞ্ছা'], ['হেঁপাহ', 'কামনা'], ['হেঁপাহ', 'আশা'], ['হোৱা', 'হৈ যোৱা'], ['হোৱা', 'জগা'], ['হোৱা', 'জন্ম হোৱা'], ['হোৱা', 'হৈ যোৱা'], ['হৰিণ', 'পহু'], ['হৰিণা', 'পহু'], ['ৰং', 'বৰণ'], ['ৰং', 'বোল'], ['ৰং', 'আনন্দ'], ['ৰখা', 'ৰক্ষা কৰা'], ['ৰখা', 'পতা'], ['ৰখা', 'পতা'], ['ৰখা', 'কিনা'], ['ৰঙা', 'ৰাতা'], ['ৰঙা', 'ৰাতুল'], ['ৰঙা', 'লাল'], ['ৰন্ধা', 'বনোৱা'], ['ৰস', 'ৰহ'], ['ৰহ', 'ৰস'], ['ৰাং', 'টিং'], ['ৰাং', 'টিন'], ['ৰাখা', 'ৰক্ষা কৰা'], ['ৰাখা', 'পতা'], ['ৰাখা', 'পতা'], ['ৰাখা', 'কিনা'], ['ৰান্ধা', 'বনোৱা'], ['ৰেতি', 'ও'], ['ৰেহা', 'চিজিল'], ['ৰেহা', 'শৃংখল'], ['ৰোৱা', 'ৰৈ থকা'], ['ৰোৱা', 'ৰখা'], ['ৰোৱা', 'বাকী থকা'], ['ৰোৱা', 'বাকী ৰোৱা'], ['ৰোৱা', 'ৰৈ যোৱা'], ['ৰোৱা', 'ৰখা']]\n",
      "Assamese-Sanskrit done\n",
      "\n",
      "\n"
     ]
    },
    {
     "name": "stderr",
     "output_type": "stream",
     "text": [
      "\n"
     ]
    }
   ],
   "source": [
    "for pair in links:\n",
    "    [dest, src] = pair.split('-')\n",
    "    print(pair)\n",
    "    words = get_all_borrowed_words(dest, src, expected_unicodes[pair])\n",
    "    \n",
    "    overwrite_loans = None\n",
    "    overwrite_ff = None\n",
    "    overwrite_synonym = None\n",
    "    \n",
    "    if os.path.exists(\"results/{}.csv\".format(pair)):\n",
    "        overwrite_loans = input(\"{}.csv exists. Overwrite existing file? (y/n) \".format(pair))\n",
    "    else:\n",
    "        overwrite_loans = \"y\"\n",
    "        \n",
    "    if os.path.exists(\"results/{}_homonyms.csv\".format(pair)):\n",
    "        overwrite_ff = input(\"{}_homonyms.csv exists. Overwrite existing file? (y/n) \".format(pair))\n",
    "    else:\n",
    "        overwrite_ff = \"y\"\n",
    "    \n",
    "    if os.path.exists(\"results/{}_synonyms.csv\".format(pair)):\n",
    "        overwrite_synonyms = input(\"{}_synonyms.csv exists. Overwrite existing file? (y/n) \".format(pair))\n",
    "    else:\n",
    "        overwrite_synonyms = \"y\"\n",
    "    \n",
    "    if overwrite_loans == \"y\" or overwrite_ff == \"y\" or overwrite_synonyms == \"y\":\n",
    "        print(\"Getting loan pairs and homonym: {} candidates\".format(len(words)))\n",
    "        loan_words, homonyms, synonyms = get_all_loans_and_homonyms(words, dest, src, expected_unicodes[pair])\n",
    "        print(synonyms)\n",
    "        #df_loans = pd.DataFrame(yloan_words, columns=['loan_word', 'original_word'])\n",
    "        #df_homonyms = pd.DataFrame(homonyms, columns=['loan_word', 'original_word', 'other_etymology', 'other_meaning'])\n",
    "        df_synonyms = pd.DataFrame(synonyms, columns = ['word', 'synonym'])\n",
    "       # if overwrite_loans == \"y\":\n",
    "         #   df_loans.to_csv(\"results/{}.csv\".format(pair), index=False)\n",
    "            \n",
    "      #  if overwrite_ff == \"y\":\n",
    "          #  df_homonyms.to_csv(\"results/{}_homonyms.csv\".format(pair), index=False)\n",
    "        if overwrite_synonyms == \"y\":\n",
    "            df_synonyms.to_csv(\"results/{}_synonyms.csv\".format(pair), index=False)\n",
    "    print(pair, \"done\\n\")\n",
    "    print()\n",
    "        "
   ]
  },
  {
   "cell_type": "code",
   "execution_count": null,
   "metadata": {},
   "outputs": [],
   "source": []
  }
 ],
 "metadata": {
  "interpreter": {
   "hash": "31f2aee4e71d21fbe5cf8b01ff0e069b9275f58929596ceb00d14d90e3e16cd6"
  },
  "kernelspec": {
   "display_name": "Python 3 (ipykernel)",
   "language": "python",
   "name": "python3"
  },
  "language_info": {
   "codemirror_mode": {
    "name": "ipython",
    "version": 3
   },
   "file_extension": ".py",
   "mimetype": "text/x-python",
   "name": "python",
   "nbconvert_exporter": "python",
   "pygments_lexer": "ipython3",
   "version": "3.9.7"
  }
 },
 "nbformat": 4,
 "nbformat_minor": 2
}
