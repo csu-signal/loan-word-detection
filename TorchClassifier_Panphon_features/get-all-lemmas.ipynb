{
 "cells": [
  {
   "cell_type": "code",
   "execution_count": 85,
   "id": "8adfefb2",
   "metadata": {},
   "outputs": [],
   "source": [
    "import numpy as np\n",
    "import requests\n",
    "import pandas\n",
    "import json"
   ]
  },
  {
   "cell_type": "code",
   "execution_count": 92,
   "id": "9f800c16",
   "metadata": {},
   "outputs": [],
   "source": [
    "def get_all_lemmas(language, invalid=[\"Unsupported titles/Space\"]):\n",
    "    title = f\"Category:{language}_lemmas\"\n",
    "    params = {\n",
    "        'action': 'query',\n",
    "        'format': 'json',\n",
    "        'prop': 'extracts',\n",
    "        'exintro': True,\n",
    "        'explaintext': True,\n",
    "    }\n",
    "\n",
    "    url = f\"https://en.wiktionary.org/w/api.php?action=query&list=categorymembers&cmtitle={title}&cmlimit=max\"\n",
    "    \n",
    "    lemmas = []\n",
    "    while(True):\n",
    "        r = requests.get(url,params)\n",
    "        try:\n",
    "            cmcontinue = r.json()['continue']['cmcontinue']\n",
    "            for cmember in r.json()['query']['categorymembers']:\n",
    "                if len(cmember['title']) > 1 and \\\n",
    "                    not cmember['title'].startswith('-') and \\\n",
    "                    not cmember['title'].endswith('-') and \\\n",
    "                    cmember['title'] not in invalid:\n",
    "                    lemmas.append(cmember['title'])\n",
    "                    if len(lemmas) % 1000 == 0:\n",
    "                        print(f\"Got {len(lemmas)}\")\n",
    "            url = url.split(\"&cmcontinue\")[0]\n",
    "            url+=f\"&cmcontinue={cmcontinue}\"\n",
    "        except KeyError:\n",
    "            break\n",
    "            \n",
    "    df = pandas.DataFrame(np.array(lemmas).reshape(-1,1), columns=[\"word\"])\n",
    "    \n",
    "    print(f\"{language} finished ({len(lemmas)} total)\\n\")\n",
    "    \n",
    "    df.to_csv(f'{language}-AllLemmas.csv', index=False)"
   ]
  },
  {
   "cell_type": "code",
   "execution_count": 93,
   "id": "4d5eefe0",
   "metadata": {},
   "outputs": [
    {
     "name": "stdout",
     "output_type": "stream",
     "text": [
      "Catalan-Arabic\n",
      "Got 1000\n",
      "Got 2000\n",
      "Got 3000\n",
      "Got 4000\n",
      "Got 5000\n",
      "Got 6000\n",
      "Got 7000\n",
      "Got 8000\n",
      "Got 9000\n",
      "Got 10000\n",
      "Got 11000\n",
      "Got 12000\n",
      "Got 13000\n",
      "Got 14000\n",
      "Got 15000\n",
      "Got 16000\n",
      "Got 17000\n",
      "Arabic finished (17430 total)\n",
      "\n"
     ]
    }
   ],
   "source": [
    "with open(\"../language-pairs-pipelinetest.json\", 'r') as f:\n",
    "    pairs = json.loads(f.read())\n",
    "\n",
    "for pair in pairs:\n",
    "    print(pair)\n",
    "    L2 = pairs[pair]['source']['name']\n",
    "    get_all_lemmas(L2)"
   ]
  },
  {
   "cell_type": "code",
   "execution_count": null,
   "id": "78afd918",
   "metadata": {},
   "outputs": [],
   "source": []
  }
 ],
 "metadata": {
  "kernelspec": {
   "display_name": "Python 3 (ipykernel)",
   "language": "python",
   "name": "python3"
  },
  "language_info": {
   "codemirror_mode": {
    "name": "ipython",
    "version": 3
   },
   "file_extension": ".py",
   "mimetype": "text/x-python",
   "name": "python",
   "nbconvert_exporter": "python",
   "pygments_lexer": "ipython3",
   "version": "3.8.12"
  }
 },
 "nbformat": 4,
 "nbformat_minor": 5
}
