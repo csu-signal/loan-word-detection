{
 "cells": [
  {
   "cell_type": "markdown",
   "id": "798a4306",
   "metadata": {},
   "source": [
    "Assumes you have run `Train_Testset.ipynb` first to make the `alldata`, `realdist`, and `balanced` train/test splits for the chosen language pair."
   ]
  },
  {
   "cell_type": "markdown",
   "id": "c2dd9ddd",
   "metadata": {},
   "source": [
    "# Imports and setup"
   ]
  },
  {
   "cell_type": "code",
   "execution_count": 1,
   "id": "091671b5",
   "metadata": {},
   "outputs": [],
   "source": [
    "import pandas as pd\n",
    "import numpy as np\n",
    "import matplotlib.pyplot as plt\n",
    "import seaborn as sns\n",
    "import json\n",
    "import panphon\n",
    "import panphon.distance\n",
    "import editdistance # levenshtein\n",
    "import epitran\n",
    "import eng_to_ipa as eng\n",
    "from epitran.backoff import Backoff\n",
    "from googletrans import Translator\n",
    "from sklearn.utils import shuffle\n",
    "from sklearn.linear_model import LogisticRegression\n",
    "epitran.download.cedict()"
   ]
  },
  {
   "cell_type": "code",
   "execution_count": 4,
   "id": "a4977c1f",
   "metadata": {},
   "outputs": [],
   "source": [
    "import torch\n",
    "import os\n",
    "import numpy as np\n",
    "import pandas as pd\n",
    "from tqdm import tqdm\n",
    "import seaborn as sns\n",
    "from pylab import rcParams\n",
    "import matplotlib.pyplot as plt\n",
    "from matplotlib import rc\n",
    "from sklearn.model_selection import train_test_split\n",
    "from sklearn.metrics import confusion_matrix, classification_report\n",
    "import os\n",
    "import torch\n",
    "from torch import nn\n",
    "from torch import nn, optim\n",
    "\n",
    "import torch.nn.functional as F\n",
    "\n",
    "%matplotlib inline"
   ]
  },
  {
   "cell_type": "code",
   "execution_count": 5,
   "id": "ed2ae9e8",
   "metadata": {},
   "outputs": [],
   "source": [
    "import sklearn as sk\n",
    "from sklearn.linear_model import LogisticRegression\n",
    "import pandas as pd \n",
    "import numpy as np \n",
    "import io\n",
    "import requests\n",
    "import csv"
   ]
  },
  {
   "cell_type": "code",
   "execution_count": 6,
   "id": "78b4fd0c",
   "metadata": {},
   "outputs": [
    {
     "name": "stdout",
     "output_type": "stream",
     "text": [
      "Using device: cpu\n",
      "\n"
     ]
    }
   ],
   "source": [
    "torch.cuda.empty_cache()\n",
    "device = torch.device('cuda' if torch.cuda.is_available() else 'cpu')\n",
    "print('Using device:', device)\n",
    "print()\n",
    "\n",
    "#Additional Info when using cuda\n",
    "if device.type == 'cuda':\n",
    "    print(torch.cuda.get_device_name(0))\n",
    "    print('Memory Usage:')\n",
    "    print('Allocated:', round(torch.cuda.memory_allocated(0)/1024**3,1), 'GB')\n",
    "    print('Cached:   ', round(torch.cuda.memory_reserved(0)/1024**3,1), 'GB')\n",
    "    \n",
    "#device = torch.device(\"cuda:0:3\" if torch.cuda.is_available() else \"cpu\") ## specify the GPU id's, GPU id's start from 0."
   ]
  },
  {
   "cell_type": "code",
   "execution_count": 323,
   "id": "80da282e",
   "metadata": {},
   "outputs": [],
   "source": [
    "if torch.cuda.is_available():\n",
    "    print(torch.cuda.get_device_name())"
   ]
  },
  {
   "cell_type": "markdown",
   "id": "65374b90",
   "metadata": {},
   "source": [
    "## Load datasets"
   ]
  },
  {
   "cell_type": "code",
   "execution_count": 324,
   "id": "d4e77ea0",
   "metadata": {},
   "outputs": [],
   "source": [
    "train_alldata = pd.read_csv('../Datasets/train_final_production_alldata.csv')\n",
    "test_alldata = pd.read_csv('../Datasets/test_final_production_alldata.csv')"
   ]
  },
  {
   "cell_type": "code",
   "execution_count": 325,
   "id": "08be950c",
   "metadata": {},
   "outputs": [],
   "source": [
    "train_realdist = pd.read_csv('../Datasets/train_final_production_realdist.csv')\n",
    "test_realdist = pd.read_csv('../Datasets/test_final_production_realdist.csv')"
   ]
  },
  {
   "cell_type": "code",
   "execution_count": 326,
   "id": "768d206e",
   "metadata": {},
   "outputs": [],
   "source": [
    "train_balanced = pd.read_csv('../Datasets/train_final_production_balanced.csv')\n",
    "test_balanced = pd.read_csv('../Datasets/test_final_production_balanced.csv')"
   ]
  },
  {
   "cell_type": "markdown",
   "id": "b1d2ce4a",
   "metadata": {},
   "source": [
    "## Get Panphon phonetic features"
   ]
  },
  {
   "cell_type": "code",
   "execution_count": 327,
   "id": "55e438f8",
   "metadata": {},
   "outputs": [],
   "source": [
    "#get phonetic features using panPhon\n",
    "ft = panphon.FeatureTable()"
   ]
  },
  {
   "cell_type": "code",
   "execution_count": 328,
   "id": "f4257c70",
   "metadata": {},
   "outputs": [],
   "source": [
    "train_alldata['features_loan'] = train_alldata.apply(lambda x:ft.word_to_vector_list(x[\"loan_word_epitran\"],numeric=True ), axis=1)\n",
    "train_alldata['features_orig'] = train_alldata.apply(lambda x:ft.word_to_vector_list(x[\"original_word_epitran\"],numeric=True ), axis=1)\n",
    "test_alldata['features_loan'] = test_alldata.apply(lambda x:ft.word_to_vector_list(x[\"loan_word_epitran\"],numeric=True ), axis=1)\n",
    "test_alldata['features_orig'] = test_alldata.apply(lambda x:ft.word_to_vector_list(x[\"original_word_epitran\"],numeric=True ), axis=1)\n",
    "\n",
    "train_alldata['features_loan'] = train_alldata['features_loan'].apply(lambda x:sum(x, []))\n",
    "train_alldata['features_orig'] = train_alldata['features_orig'].apply(lambda x:sum(x, []))\n",
    "test_alldata['features_orig'] = test_alldata['features_orig'].apply(lambda x:sum(x, []))\n",
    "test_alldata['features_loan'] = test_alldata['features_loan'].apply(lambda x:sum(x, []))\n"
   ]
  },
  {
   "cell_type": "markdown",
   "id": "0178dfc1",
   "metadata": {},
   "source": [
    "Pad the phonetic features of the loan word and original word out to the maxlen of the features appearing in the training set (format: `<loan><pad 0s><orig><pad 0s>`)."
   ]
  },
  {
   "cell_type": "code",
   "execution_count": 372,
   "id": "57c630d2",
   "metadata": {},
   "outputs": [
    {
     "data": {
      "text/plain": [
       "(array([-1, -1,  1, -1, -1, -1, -1,  0,  1, -1, -1, -1, -1,  0, -1,  1, -1,\n",
       "         1, -1, -1,  0, -1,  0,  0,  1,  1, -1,  1, -1, -1, -1,  0,  1, -1,\n",
       "        -1,  0, -1,  0, -1, -1, -1,  1, -1, -1, -1, -1,  0,  0, -1,  1,  1,\n",
       "         1,  0, -1, -1,  0,  1, -1, -1,  1,  1, -1, -1,  0,  0,  0, -1, -1,\n",
       "         0, -1,  0,  0,  1,  1, -1,  1, -1, -1, -1,  0,  1, -1, -1,  0, -1,\n",
       "         0, -1,  1, -1, -1, -1, -1,  1,  1,  0,  0, -1, -1,  1, -1, -1, -1,\n",
       "        -1,  0,  1, -1, -1,  1, -1,  0,  1, -1, -1, -1, -1, -1,  0, -1,  0,\n",
       "         0,  1,  1, -1,  1, -1, -1, -1,  0,  1, -1, -1,  0, -1,  0, -1,  1,\n",
       "        -1, -1, -1, -1,  1,  1,  0,  0,  0,  0,  0,  0,  0,  0,  0,  0,  0,\n",
       "         0,  0,  0,  0,  0,  0,  0,  0,  0,  0,  0,  0,  0,  0,  0,  0,  0,\n",
       "         0,  0,  0,  0,  0,  0,  0,  0,  0,  0,  0,  0,  0,  0,  0,  0,  0,\n",
       "         0,  0,  0,  0,  0,  0,  0,  0,  0,  0,  0,  0,  0,  0,  0,  0,  0,\n",
       "         0,  0,  0,  0,  0,  0,  0,  0,  0,  0,  0,  0,  0,  0,  0,  0,  0,\n",
       "         0,  0,  0,  0,  0,  0,  0,  0,  0,  0,  0,  0,  0,  0,  0,  0,  0,\n",
       "         0,  0,  0,  0,  0,  0,  0,  0,  0,  0,  0,  0,  0,  0,  0,  0,  0,\n",
       "         0,  0,  0,  0,  0,  0,  0,  0,  0,  0,  0,  0,  0,  0,  0,  0,  0,\n",
       "         0,  0,  0,  0,  0,  0,  0,  0,  0,  0,  0,  0,  0,  0,  0,  0,  0,\n",
       "         0,  0,  0,  0,  0,  0,  0,  0,  0,  0,  0,  0,  0,  0,  0,  0,  0,\n",
       "         0,  0,  0,  0,  0,  0,  0,  0,  0,  0,  0,  0,  0,  0,  0,  0,  0,\n",
       "         0,  0,  0,  0,  0,  0,  0,  0,  0,  0,  0,  0,  0,  0,  0,  0,  0,\n",
       "         0,  0,  0,  0,  0,  0,  0,  0,  0,  0,  0,  0,  0,  0,  0,  0,  0,\n",
       "         0,  0,  0,  0,  0,  0,  0,  0,  0,  0,  0,  0,  0,  0,  0,  0,  0,\n",
       "         0,  0,  0,  0,  0,  0,  0,  0,  0,  0,  0,  0,  0,  0,  0,  0,  0,\n",
       "         0,  0,  0,  0,  0,  0,  0,  0,  0,  0,  0,  0,  0,  0,  0,  0,  0,\n",
       "         0,  0,  0,  0,  0,  0,  0,  0,  0,  0,  0,  0,  0,  0,  0,  0,  0,\n",
       "         0,  0,  0,  0,  0,  0,  0,  0,  0,  0,  0,  0,  0,  0,  0,  0,  0,\n",
       "         0,  0,  0,  0,  0,  0,  0,  0,  0,  0,  0,  0,  0,  0]),\n",
       " array([-1,  1,  1, -1, -1, -1,  1,  0,  1, -1, -1,  1, -1,  0,  1, -1, -1,\n",
       "        -1, -1, -1,  0, -1,  0,  0, -1,  1,  1, -1, -1, -1,  1,  0,  1, -1,\n",
       "        -1,  1,  1, -1, -1, -1, -1, -1, -1, -1,  0, -1,  0,  0, -1, -1,  1,\n",
       "         1, -1, -1, -1,  0,  1, -1, -1,  1,  1, -1, -1, -1, -1, -1, -1, -1,\n",
       "         0, -1,  0,  0, -1,  1,  1,  1, -1,  1, -1,  0,  1, -1, -1,  1,  1,\n",
       "        -1, -1, -1, -1, -1, -1, -1,  0, -1,  0,  0,  0,  0,  0,  0,  0,  0,\n",
       "         0,  0,  0,  0,  0,  0,  0,  0,  0,  0,  0,  0,  0,  0,  0,  0,  0,\n",
       "         0,  0,  0,  0,  0,  0,  0,  0,  0,  0,  0,  0,  0,  0,  0,  0,  0,\n",
       "         0,  0,  0,  0,  0,  0,  0,  0,  0,  0,  0,  0,  0,  0,  0,  0,  0,\n",
       "         0,  0,  0,  0,  0,  0,  0,  0,  0,  0,  0,  0,  0,  0,  0,  0,  0,\n",
       "         0,  0,  0,  0,  0,  0,  0,  0,  0,  0,  0,  0,  0,  0,  0,  0,  0,\n",
       "         0,  0,  0,  0,  0,  0,  0,  0,  0,  0,  0,  0,  0,  0,  0,  0,  0,\n",
       "         0,  0,  0,  0,  0,  0,  0,  0,  0,  0,  0,  0,  0,  0,  0,  0,  0,\n",
       "         0,  0,  0,  0,  0,  0,  0,  0,  0,  0,  0,  0,  0,  0,  0,  0,  0,\n",
       "         0,  0,  0,  0,  0,  0,  0,  0,  0,  0,  0,  0,  0,  0,  0,  0,  0,\n",
       "         0,  0,  0,  0,  0,  0,  0,  0,  0,  0,  0,  0,  0,  0,  0,  0,  0,\n",
       "         0,  0,  0,  0,  0,  0,  0,  0,  0,  0,  0,  0,  0,  0,  0,  0,  0,\n",
       "         0,  0,  0,  0,  0,  0,  0,  0,  0,  0,  0,  0,  0,  0,  0,  0,  0,\n",
       "         0,  0,  0,  0,  0,  0,  0,  0,  0,  0,  0,  0,  0,  0,  0,  0,  0,\n",
       "         0,  0,  0,  0,  0,  0,  0,  0,  0,  0,  0,  0,  0,  0,  0,  0,  0,\n",
       "         0,  0,  0,  0,  0,  0,  0,  0,  0,  0,  0,  0,  0,  0,  0,  0,  0,\n",
       "         0,  0,  0,  0,  0,  0,  0,  0,  0,  0,  0,  0,  0,  0,  0,  0,  0,\n",
       "         0,  0,  0,  0,  0,  0,  0,  0,  0,  0,  0,  0,  0,  0,  0,  0,  0,\n",
       "         0,  0,  0,  0,  0,  0,  0,  0,  0,  0,  0,  0,  0,  0,  0,  0,  0,\n",
       "         0,  0,  0,  0,  0,  0,  0,  0,  0,  0,  0,  0,  0,  0,  0,  0,  0,\n",
       "         0,  0,  0,  0,  0,  0,  0,  0,  0,  0,  0,  0,  0,  0,  0,  0,  0,\n",
       "         0,  0,  0,  0,  0,  0,  0,  0,  0,  0,  0,  0,  0,  0,  0,  0,  0,\n",
       "         0,  0,  0,  0,  0,  0,  0,  0,  0,  0,  0,  0,  0,  0,  0,  0,  0,\n",
       "         0,  0,  0,  0,  0,  0,  0,  0,  0,  0,  0,  0,  0,  0,  0,  0,  0,\n",
       "         0,  0,  0,  0,  0,  0,  0,  0,  0,  0,  0,  0,  0,  0,  0,  0,  0,\n",
       "         0,  0,  0,  0,  0,  0,  0,  0,  0,  0,  0,  0,  0,  0,  0,  0,  0,\n",
       "         0,  0,  0,  0,  0,  0,  0,  0,  0,  0,  0,  0,  0,  0,  0,  0,  0,\n",
       "         0,  0,  0,  0,  0,  0,  0,  0,  0,  0,  0,  0,  0,  0,  0,  0,  0,\n",
       "         0,  0,  0,  0,  0,  0,  0,  0,  0,  0,  0,  0,  0,  0,  0,  0,  0,\n",
       "         0,  0,  0,  0,  0,  0,  0,  0,  0,  0,  0,  0,  0,  0,  0,  0,  0,\n",
       "         0,  0,  0,  0,  0]))"
      ]
     },
     "execution_count": 372,
     "metadata": {},
     "output_type": "execute_result"
    }
   ],
   "source": [
    "train_alldata_maxlen = (np.max(train_alldata['features_loan'].str.len()),\\\n",
    "                               np.max(train_alldata['features_orig'].str.len()))\n",
    "\n",
    "train_alldata['features_loan'] = train_alldata['features_loan'].apply(lambda x: \\\n",
    "                                np.pad(x,\\\n",
    "                                (0,train_alldata_maxlen[0]-len(x)), 'constant'))\n",
    "train_alldata['features_orig'] = train_alldata['features_orig'].apply(lambda x: \\\n",
    "                                np.pad(x,\\\n",
    "                                (0,train_alldata_maxlen[1]-len(x)), 'constant'))\n",
    "\n",
    "train_alldata['features_loan'][np.random.randint(len(train_alldata['features_loan']))],\\\n",
    "train_alldata['features_orig'][np.random.randint(len(train_alldata['features_loan']))]"
   ]
  },
  {
   "cell_type": "code",
   "execution_count": 373,
   "id": "eec1d2bf",
   "metadata": {},
   "outputs": [
    {
     "data": {
      "text/plain": [
       "(array([-1, -1,  1, -1, -1, -1, -1,  0,  1, -1, -1, -1, -1,  0, -1,  1, -1,\n",
       "         1, -1, -1,  0, -1,  0,  0,  1,  1, -1,  1, -1, -1, -1,  0,  1, -1,\n",
       "        -1,  0, -1,  0,  1,  1, -1,  1,  1, -1,  1,  1,  0,  0, -1,  1,  1,\n",
       "        -1, -1, -1,  1,  0,  1, -1, -1, -1, -1,  0, -1,  1, -1,  1, -1, -1,\n",
       "         0, -1,  0,  0, -1, -1,  1, -1, -1, -1, -1,  0,  1, -1, -1, -1, -1,\n",
       "         0, -1,  1, -1,  1, -1, -1,  0, -1,  0,  0,  1,  1, -1,  1, -1, -1,\n",
       "        -1,  0,  1, -1, -1,  0, -1,  0, -1, -1,  1, -1, -1, -1,  1,  1,  0,\n",
       "         0,  0,  0,  0,  0,  0,  0,  0,  0,  0,  0,  0,  0,  0,  0,  0,  0,\n",
       "         0,  0,  0,  0,  0,  0,  0,  0,  0,  0,  0,  0,  0,  0,  0,  0,  0,\n",
       "         0,  0,  0,  0,  0,  0,  0,  0,  0,  0,  0,  0,  0,  0,  0,  0,  0,\n",
       "         0,  0,  0,  0,  0,  0,  0,  0,  0,  0,  0,  0,  0,  0,  0,  0,  0,\n",
       "         0,  0,  0,  0,  0,  0,  0,  0,  0,  0,  0,  0,  0,  0,  0,  0,  0,\n",
       "         0,  0,  0,  0,  0,  0,  0,  0,  0,  0,  0,  0,  0,  0,  0,  0,  0,\n",
       "         0,  0,  0,  0,  0,  0,  0,  0,  0,  0,  0,  0,  0,  0,  0,  0,  0,\n",
       "         0,  0,  0,  0,  0,  0,  0,  0,  0,  0,  0,  0,  0,  0,  0,  0,  0,\n",
       "         0,  0,  0,  0,  0,  0,  0,  0,  0,  0,  0,  0,  0,  0,  0,  0,  0,\n",
       "         0,  0,  0,  0,  0,  0,  0,  0,  0,  0,  0,  0,  0,  0,  0,  0,  0,\n",
       "         0,  0,  0,  0,  0,  0,  0,  0,  0,  0,  0,  0,  0,  0,  0,  0,  0,\n",
       "         0,  0,  0,  0,  0,  0,  0,  0,  0,  0,  0,  0,  0,  0,  0,  0,  0,\n",
       "         0,  0,  0,  0,  0,  0,  0,  0,  0,  0,  0,  0,  0,  0,  0,  0,  0,\n",
       "         0,  0,  0,  0,  0,  0,  0,  0,  0,  0,  0,  0,  0,  0,  0,  0,  0,\n",
       "         0,  0,  0,  0,  0,  0,  0,  0,  0,  0,  0,  0,  0,  0,  0,  0,  0,\n",
       "         0,  0,  0,  0,  0,  0,  0,  0,  0,  0,  0,  0,  0,  0,  0,  0,  0,\n",
       "         0,  0,  0,  0,  0,  0,  0,  0,  0,  0,  0,  0,  0,  0,  0,  0,  0,\n",
       "         0,  0,  0,  0,  0,  0,  0,  0,  0,  0,  0,  0,  0,  0,  0,  0,  0,\n",
       "         0,  0,  0,  0,  0,  0,  0,  0,  0,  0,  0,  0,  0,  0,  0,  0,  0,\n",
       "         0,  0,  0,  0,  0,  0,  0,  0,  0,  0,  0,  0,  0,  0]),\n",
       " array([-1, -1,  1, -1, -1, -1, -1,  0, -1, -1, -1,  1,  1, -1, -1, -1, -1,\n",
       "        -1, -1, -1,  0, -1,  0,  0,  1,  1, -1,  1, -1, -1, -1,  0,  1, -1,\n",
       "        -1,  0, -1,  0, -1, -1,  1,  1,  1, -1,  1, -1,  0,  0, -1, -1,  1,\n",
       "         1, -1, -1, -1,  0,  1, -1, -1,  1,  1, -1, -1, -1, -1, -1, -1, -1,\n",
       "         0, -1,  0,  0, -1,  1,  1,  1, -1, -1, -1,  0, -1, -1, -1, -1, -1,\n",
       "         0, -1, -1, -1, -1, -1, -1,  0, -1,  0,  0, -1, -1,  1, -1, -1, -1,\n",
       "        -1,  0, -1, -1, -1,  1, -1,  0,  1, -1, -1, -1, -1, -1,  0, -1,  0,\n",
       "         0,  1,  1, -1,  1, -1, -1, -1,  0,  1, -1, -1,  0, -1,  0, -1, -1,\n",
       "         1,  1,  1, -1,  1, -1,  0,  0,  0,  0,  0,  0,  0,  0,  0,  0,  0,\n",
       "         0,  0,  0,  0,  0,  0,  0,  0,  0,  0,  0,  0,  0,  0,  0,  0,  0,\n",
       "         0,  0,  0,  0,  0,  0,  0,  0,  0,  0,  0,  0,  0,  0,  0,  0,  0,\n",
       "         0,  0,  0,  0,  0,  0,  0,  0,  0,  0,  0,  0,  0,  0,  0,  0,  0,\n",
       "         0,  0,  0,  0,  0,  0,  0,  0,  0,  0,  0,  0,  0,  0,  0,  0,  0,\n",
       "         0,  0,  0,  0,  0,  0,  0,  0,  0,  0,  0,  0,  0,  0,  0,  0,  0,\n",
       "         0,  0,  0,  0,  0,  0,  0,  0,  0,  0,  0,  0,  0,  0,  0,  0,  0,\n",
       "         0,  0,  0,  0,  0,  0,  0,  0,  0,  0,  0,  0,  0,  0,  0,  0,  0,\n",
       "         0,  0,  0,  0,  0,  0,  0,  0,  0,  0,  0,  0,  0,  0,  0,  0,  0,\n",
       "         0,  0,  0,  0,  0,  0,  0,  0,  0,  0,  0,  0,  0,  0,  0,  0,  0,\n",
       "         0,  0,  0,  0,  0,  0,  0,  0,  0,  0,  0,  0,  0,  0,  0,  0,  0,\n",
       "         0,  0,  0,  0,  0,  0,  0,  0,  0,  0,  0,  0,  0,  0,  0,  0,  0,\n",
       "         0,  0,  0,  0,  0,  0,  0,  0,  0,  0,  0,  0,  0,  0,  0,  0,  0,\n",
       "         0,  0,  0,  0,  0,  0,  0,  0,  0,  0,  0,  0,  0,  0,  0,  0,  0,\n",
       "         0,  0,  0,  0,  0,  0,  0,  0,  0,  0,  0,  0,  0,  0,  0,  0,  0,\n",
       "         0,  0,  0,  0,  0,  0,  0,  0,  0,  0,  0,  0,  0,  0,  0,  0,  0,\n",
       "         0,  0,  0,  0,  0,  0,  0,  0,  0,  0,  0,  0,  0,  0,  0,  0,  0,\n",
       "         0,  0,  0,  0,  0,  0,  0,  0,  0,  0,  0,  0,  0,  0,  0,  0,  0,\n",
       "         0,  0,  0,  0,  0,  0,  0,  0,  0,  0,  0,  0,  0,  0,  0,  0,  0,\n",
       "         0,  0,  0,  0,  0,  0,  0,  0,  0,  0,  0,  0,  0,  0,  0,  0,  0,\n",
       "         0,  0,  0,  0,  0,  0,  0,  0,  0,  0,  0,  0,  0,  0,  0,  0,  0,\n",
       "         0,  0,  0,  0,  0,  0,  0,  0,  0,  0,  0,  0,  0,  0,  0,  0,  0,\n",
       "         0,  0,  0,  0,  0,  0,  0,  0,  0,  0,  0,  0,  0,  0,  0,  0,  0,\n",
       "         0,  0,  0,  0,  0,  0,  0,  0,  0,  0,  0,  0,  0,  0,  0,  0,  0,\n",
       "         0,  0,  0,  0,  0,  0,  0,  0,  0,  0,  0,  0,  0,  0,  0,  0,  0,\n",
       "         0,  0,  0,  0,  0,  0,  0,  0,  0,  0,  0,  0,  0,  0,  0,  0,  0,\n",
       "         0,  0,  0,  0,  0,  0,  0,  0,  0,  0,  0,  0,  0,  0,  0,  0,  0,\n",
       "         0,  0,  0,  0,  0]))"
      ]
     },
     "execution_count": 373,
     "metadata": {},
     "output_type": "execute_result"
    }
   ],
   "source": [
    "test_alldata['features_loan'] = test_alldata['features_loan'].apply(lambda x: \\\n",
    "                                np.pad(x,\\\n",
    "                                (0,train_alldata_maxlen[0]-len(x)), 'constant'))\n",
    "test_alldata['features_orig'] = test_alldata['features_orig'].apply(lambda x: \\\n",
    "                                np.pad(x,\\\n",
    "                                (0,train_alldata_maxlen[1]-len(x)), 'constant'))\n",
    "\n",
    "test_alldata['features_loan'][np.random.randint(len(test_alldata['features_loan']))],\\\n",
    "test_alldata['features_orig'][np.random.randint(len(test_alldata['features_orig']))]"
   ]
  },
  {
   "cell_type": "markdown",
   "id": "84cc63f6",
   "metadata": {},
   "source": [
    "## Add target labels and make train and test sets"
   ]
  },
  {
   "cell_type": "code",
   "execution_count": 331,
   "id": "bf73663c",
   "metadata": {},
   "outputs": [
    {
     "data": {
      "text/plain": [
       "((11857,), (1320,))"
      ]
     },
     "execution_count": 331,
     "metadata": {},
     "output_type": "execute_result"
    }
   ],
   "source": [
    "Y_train = np.array([y for y in train_alldata['label_bin']])\n",
    "Y_test = np.array([y for y in test_alldata['label_bin']])\n",
    "Y_train.shape,Y_test.shape"
   ]
  },
  {
   "cell_type": "code",
   "execution_count": 332,
   "id": "9bae712e",
   "metadata": {},
   "outputs": [
    {
     "data": {
      "text/plain": [
       "((11857, 1056), (1320, 1056))"
      ]
     },
     "execution_count": 332,
     "metadata": {},
     "output_type": "execute_result"
    }
   ],
   "source": [
    "X_train = np.hstack([np.array([x for x in train_alldata['features_loan']]),\\\n",
    "                     np.array([x for x in train_alldata['features_orig']])])\n",
    "X_test = np.hstack([np.array([x for x in test_alldata['features_loan']]),\\\n",
    "                    np.array([x for x in test_alldata['features_orig']])])\n",
    "X_train.shape,X_test.shape"
   ]
  },
  {
   "cell_type": "markdown",
   "id": "edbb9298",
   "metadata": {},
   "source": [
    "Make a validation split for training the DNN model"
   ]
  },
  {
   "cell_type": "code",
   "execution_count": 374,
   "id": "44851fe0",
   "metadata": {},
   "outputs": [
    {
     "data": {
      "text/plain": [
       "(torch.Size([7588, 1056]),\n",
       " torch.Size([1897, 1056]),\n",
       " torch.Size([7588, 1]),\n",
       " torch.Size([1897, 1]))"
      ]
     },
     "execution_count": 374,
     "metadata": {},
     "output_type": "execute_result"
    }
   ],
   "source": [
    "#create train and validation splits keeping the composition of labels balanced between them using a random state '1 '\n",
    "\n",
    "X_train, X_val, Y_train, Y_val = train_test_split(X_train, Y_train, test_size=0.2, random_state=1, stratify=Y_train)\n",
    "X_train.shape, X_val.shape, Y_train.shape, Y_val.shape\n"
   ]
  },
  {
   "cell_type": "code",
   "execution_count": 334,
   "id": "689a4d09",
   "metadata": {},
   "outputs": [],
   "source": [
    "# n_samples, n_features, n_classes = 10, 2, 2\n",
    "# data = np.random.randn(n_samples, n_features)  # 10 training examples\n",
    "# labels = np.random.randint(n_classes, size=n_samples)  # 10 labels\n",
    "\n",
    "indices = np.arange(X_train.shape[0])\n",
    "(\n",
    "    data_train,\n",
    "    data_test,\n",
    "    labels_train,\n",
    "    labels_test,\n",
    "    indices_train,\n",
    "    indices_test,\n",
    ") = train_test_split(X_train, Y_train, indices, test_size=0.2, random_state=1, stratify=Y_train)"
   ]
  },
  {
   "cell_type": "code",
   "execution_count": 335,
   "id": "0c5234d4",
   "metadata": {},
   "outputs": [
    {
     "data": {
      "text/plain": [
       "array([3241, 7760,  947, ..., 4005,  736, 3430])"
      ]
     },
     "execution_count": 335,
     "metadata": {},
     "output_type": "execute_result"
    }
   ],
   "source": [
    "indices_train"
   ]
  },
  {
   "cell_type": "code",
   "execution_count": 336,
   "id": "80ad7945",
   "metadata": {},
   "outputs": [],
   "source": [
    "X_train = torch.tensor(X_train).to(device)\n",
    "Y_train = torch.tensor(Y_train).to(device).reshape((-1,1))\n",
    "\n",
    "X_test = torch.tensor(X_test).to(device)\n",
    "Y_test = torch.tensor(Y_test).to(device).reshape((-1,1))\n",
    "\n",
    "X_val = torch.tensor(X_val).to(device)\n",
    "Y_val = torch.tensor(Y_val).to(device).reshape((-1,1))\n"
   ]
  },
  {
   "cell_type": "code",
   "execution_count": 337,
   "id": "d9e4fe2f",
   "metadata": {},
   "outputs": [
    {
     "data": {
      "text/plain": [
       "(torch.Size([9485, 1056]),\n",
       " torch.Size([9485, 1]),\n",
       " torch.Size([1320, 1056]),\n",
       " torch.Size([1320, 1]),\n",
       " torch.Size([2372, 1056]),\n",
       " torch.Size([2372, 1]))"
      ]
     },
     "execution_count": 337,
     "metadata": {},
     "output_type": "execute_result"
    }
   ],
   "source": [
    "X_train.shape, Y_train.shape, X_test.shape, Y_test.shape, X_val.shape, Y_val.shape\n",
    " "
   ]
  },
  {
   "cell_type": "code",
   "execution_count": 338,
   "id": "597f3b86",
   "metadata": {},
   "outputs": [],
   "source": [
    "# X_train, X_val, Y_train, Y_val = train_test_split(X_train, Y_train, test_size=0.2, random_state=123, stratify=Y_train)\n",
    "    "
   ]
  },
  {
   "cell_type": "code",
   "execution_count": 339,
   "id": "0985d48c",
   "metadata": {},
   "outputs": [
    {
     "data": {
      "text/plain": [
       "tensor([242])"
      ]
     },
     "execution_count": 339,
     "metadata": {},
     "output_type": "execute_result"
    }
   ],
   "source": [
    "sum(Y_val==1)"
   ]
  },
  {
   "cell_type": "code",
   "execution_count": 340,
   "id": "e0bb588e",
   "metadata": {},
   "outputs": [
    {
     "name": "stdout",
     "output_type": "stream",
     "text": [
      "Using cpu device\n"
     ]
    }
   ],
   "source": [
    "device = \"cuda\" if torch.cuda.is_available() else \"cpu\"\n",
    "print(f\"Using {device} device\")"
   ]
  },
  {
   "cell_type": "code",
   "execution_count": 341,
   "id": "9e92610c",
   "metadata": {},
   "outputs": [],
   "source": [
    "class NeuralNetwork(nn.Module):\n",
    "    def __init__(self, n_features):\n",
    "        super(NeuralNetwork, self).__init__()\n",
    "        #self.flatten = nn.Flatten()\n",
    "        self.linear_relu_stack = nn.Sequential(\n",
    "            nn.Linear(n_features, 512),\n",
    "            nn.ReLU(),\n",
    "            nn.Linear(512, 512),\n",
    "            nn.ReLU(),\n",
    "            nn.Linear(512, 1),\n",
    "            \n",
    "        )\n",
    "        self.dropout = nn.Dropout(0.10) \n",
    "\n",
    "    def forward(self, x):\n",
    "        #x = self.flatten(x)\n",
    "        #logits = self.linear_relu_stack(x)\n",
    "        logits_new = self.linear_relu_stack(x)\n",
    "        logits  = self.dropout(logits_new)\n",
    "        \n",
    "        return torch.sigmoid(logits), logits_new\n",
    "        #return logits"
   ]
  },
  {
   "cell_type": "code",
   "execution_count": 342,
   "id": "640e6e64",
   "metadata": {},
   "outputs": [
    {
     "name": "stdout",
     "output_type": "stream",
     "text": [
      "NeuralNetwork(\n",
      "  (linear_relu_stack): Sequential(\n",
      "    (0): Linear(in_features=1056, out_features=512, bias=True)\n",
      "    (1): ReLU()\n",
      "    (2): Linear(in_features=512, out_features=512, bias=True)\n",
      "    (3): ReLU()\n",
      "    (4): Linear(in_features=512, out_features=1, bias=True)\n",
      "  )\n",
      "  (dropout): Dropout(p=0.1, inplace=False)\n",
      ")\n"
     ]
    }
   ],
   "source": [
    "model = NeuralNetwork(X_train.shape[1]).to(device)\n",
    "#model = NeuralNetwork(X_test.shape[1]).to(device)\n",
    "print(model)"
   ]
  },
  {
   "cell_type": "code",
   "execution_count": 343,
   "id": "619fe692",
   "metadata": {},
   "outputs": [],
   "source": [
    "# input = torch.randn(5, 5)\n",
    "# print(input)"
   ]
  },
  {
   "cell_type": "code",
   "execution_count": 344,
   "id": "cfdb4c76",
   "metadata": {},
   "outputs": [],
   "source": [
    "# m = nn.Dropout(p=0.5)\n",
    "# output = m(input)\n",
    "# print(output)\n",
    "\n",
    "# model = NeuralNetwork(input.shape[1]).to(device)\n"
   ]
  },
  {
   "cell_type": "code",
   "execution_count": 345,
   "id": "17100ab2",
   "metadata": {},
   "outputs": [
    {
     "data": {
      "text/plain": [
       "NeuralNetwork(\n",
       "  (linear_relu_stack): Sequential(\n",
       "    (0): Linear(in_features=1056, out_features=512, bias=True)\n",
       "    (1): ReLU()\n",
       "    (2): Linear(in_features=512, out_features=512, bias=True)\n",
       "    (3): ReLU()\n",
       "    (4): Linear(in_features=512, out_features=1, bias=True)\n",
       "  )\n",
       "  (dropout): Dropout(p=0.1, inplace=False)\n",
       ")"
      ]
     },
     "execution_count": 345,
     "metadata": {},
     "output_type": "execute_result"
    }
   ],
   "source": [
    "model"
   ]
  },
  {
   "cell_type": "code",
   "execution_count": 346,
   "id": "b448bef7",
   "metadata": {},
   "outputs": [],
   "source": [
    "criterion = nn.BCELoss().to(device)"
   ]
  },
  {
   "cell_type": "code",
   "execution_count": 347,
   "id": "94c5d5c8",
   "metadata": {},
   "outputs": [],
   "source": [
    "optimizer = optim.Adam(model.parameters(), lr=0.00001)"
   ]
  },
  {
   "cell_type": "code",
   "execution_count": 348,
   "id": "a607b005",
   "metadata": {},
   "outputs": [],
   "source": [
    "def calculate_accuracy(y_true, y_pred):\n",
    "    predicted = y_pred.ge(.5) \n",
    "    return ((y_true == predicted).sum().float() / len(y_true), (y_true == predicted).sum())"
   ]
  },
  {
   "cell_type": "code",
   "execution_count": 349,
   "id": "e66edd79",
   "metadata": {},
   "outputs": [],
   "source": [
    "def round_tensor(t, decimal_places=3):\n",
    "    return round(t.item(), decimal_places)"
   ]
  },
  {
   "cell_type": "code",
   "execution_count": 350,
   "id": "255fa7d6",
   "metadata": {},
   "outputs": [],
   "source": [
    "CUDA_LAUNCH_BLOCKING=1"
   ]
  },
  {
   "cell_type": "code",
   "execution_count": 351,
   "id": "ed6ce499",
   "metadata": {},
   "outputs": [
    {
     "name": "stdout",
     "output_type": "stream",
     "text": [
      "epoch 0 Train set - loss: 0.681, accuracy: 0.745 Val  set - loss: 0.681, Val accuracy: 0.738\n",
      "\n",
      "epoch 100 Train set - loss: 0.464, accuracy: 0.819 Val  set - loss: 0.465, Val accuracy: 0.817\n",
      "\n",
      "epoch 200 Train set - loss: 0.355, accuracy: 0.818 Val  set - loss: 0.356, Val accuracy: 0.819\n",
      "\n",
      "epoch 300 Train set - loss: 0.345, accuracy: 0.822 Val  set - loss: 0.352, Val accuracy: 0.814\n",
      "\n",
      "epoch 400 Train set - loss: 0.344, accuracy: 0.817 Val  set - loss: 0.341, Val accuracy: 0.823\n",
      "\n",
      "epoch 500 Train set - loss: 0.337, accuracy: 0.82 Val  set - loss: 0.334, Val accuracy: 0.827\n",
      "\n",
      "epoch 600 Train set - loss: 0.336, accuracy: 0.815 Val  set - loss: 0.338, Val accuracy: 0.815\n",
      "\n",
      "epoch 700 Train set - loss: 0.327, accuracy: 0.818 Val  set - loss: 0.336, Val accuracy: 0.81\n",
      "\n",
      "epoch 800 Train set - loss: 0.323, accuracy: 0.816 Val  set - loss: 0.327, Val accuracy: 0.816\n",
      "\n",
      "epoch 900 Train set - loss: 0.312, accuracy: 0.822 Val  set - loss: 0.32, Val accuracy: 0.815\n",
      "\n",
      "epoch 1000 Train set - loss: 0.303, accuracy: 0.82 Val  set - loss: 0.313, Val accuracy: 0.816\n",
      "\n",
      "epoch 1100 Train set - loss: 0.295, accuracy: 0.817 Val  set - loss: 0.306, Val accuracy: 0.813\n",
      "\n",
      "epoch 1200 Train set - loss: 0.284, accuracy: 0.816 Val  set - loss: 0.287, Val accuracy: 0.823\n",
      "\n",
      "epoch 1300 Train set - loss: 0.27, accuracy: 0.815 Val  set - loss: 0.283, Val accuracy: 0.815\n",
      "\n",
      "epoch 1400 Train set - loss: 0.25, accuracy: 0.826 Val  set - loss: 0.267, Val accuracy: 0.823\n",
      "\n",
      "epoch 1500 Train set - loss: 0.233, accuracy: 0.836 Val  set - loss: 0.256, Val accuracy: 0.824\n",
      "\n",
      "epoch 1600 Train set - loss: 0.216, accuracy: 0.849 Val  set - loss: 0.236, Val accuracy: 0.847\n",
      "\n",
      "epoch 1700 Train set - loss: 0.206, accuracy: 0.853 Val  set - loss: 0.229, Val accuracy: 0.848\n",
      "\n",
      "epoch 1800 Train set - loss: 0.19, accuracy: 0.869 Val  set - loss: 0.222, Val accuracy: 0.853\n",
      "\n",
      "epoch 1900 Train set - loss: 0.179, accuracy: 0.875 Val  set - loss: 0.206, Val accuracy: 0.866\n",
      "\n",
      "epoch 2000 Train set - loss: 0.166, accuracy: 0.883 Val  set - loss: 0.211, Val accuracy: 0.854\n",
      "\n",
      "epoch 2100 Train set - loss: 0.157, accuracy: 0.887 Val  set - loss: 0.206, Val accuracy: 0.854\n",
      "\n",
      "epoch 2200 Train set - loss: 0.149, accuracy: 0.889 Val  set - loss: 0.198, Val accuracy: 0.86\n",
      "\n",
      "epoch 2300 Train set - loss: 0.141, accuracy: 0.894 Val  set - loss: 0.189, Val accuracy: 0.874\n",
      "\n",
      "epoch 2400 Train set - loss: 0.133, accuracy: 0.9 Val  set - loss: 0.189, Val accuracy: 0.872\n",
      "\n",
      "epoch 2500 Train set - loss: 0.131, accuracy: 0.895 Val  set - loss: 0.19, Val accuracy: 0.867\n",
      "\n",
      "epoch 2600 Train set - loss: 0.118, accuracy: 0.905 Val  set - loss: 0.186, Val accuracy: 0.866\n",
      "\n",
      "epoch 2700 Train set - loss: 0.12, accuracy: 0.899 Val  set - loss: 0.183, Val accuracy: 0.874\n",
      "\n",
      "epoch 2800 Train set - loss: 0.112, accuracy: 0.905 Val  set - loss: 0.182, Val accuracy: 0.871\n",
      "\n",
      "epoch 2900 Train set - loss: 0.106, accuracy: 0.909 Val  set - loss: 0.181, Val accuracy: 0.87\n",
      "\n",
      "epoch 3000 Train set - loss: 0.1, accuracy: 0.912 Val  set - loss: 0.179, Val accuracy: 0.876\n",
      "\n",
      "epoch 3100 Train set - loss: 0.101, accuracy: 0.908 Val  set - loss: 0.184, Val accuracy: 0.87\n",
      "\n",
      "epoch 3200 Train set - loss: 0.1, accuracy: 0.906 Val  set - loss: 0.178, Val accuracy: 0.87\n",
      "\n",
      "epoch 3300 Train set - loss: 0.099, accuracy: 0.902 Val  set - loss: 0.185, Val accuracy: 0.867\n",
      "\n",
      "epoch 3400 Train set - loss: 0.097, accuracy: 0.902 Val  set - loss: 0.184, Val accuracy: 0.866\n",
      "\n",
      "epoch 3500 Train set - loss: 0.095, accuracy: 0.904 Val  set - loss: 0.181, Val accuracy: 0.861\n",
      "\n",
      "epoch 3600 Train set - loss: 0.085, accuracy: 0.915 Val  set - loss: 0.183, Val accuracy: 0.863\n",
      "\n",
      "epoch 3700 Train set - loss: 0.085, accuracy: 0.914 Val  set - loss: 0.181, Val accuracy: 0.868\n",
      "\n",
      "epoch 3800 Train set - loss: 0.085, accuracy: 0.91 Val  set - loss: 0.18, Val accuracy: 0.873\n",
      "\n",
      "epoch 3900 Train set - loss: 0.081, accuracy: 0.914 Val  set - loss: 0.174, Val accuracy: 0.877\n",
      "\n",
      "epoch 4000 Train set - loss: 0.078, accuracy: 0.916 Val  set - loss: 0.185, Val accuracy: 0.866\n",
      "\n",
      "epoch 4100 Train set - loss: 0.084, accuracy: 0.907 Val  set - loss: 0.19, Val accuracy: 0.865\n",
      "\n",
      "epoch 4200 Train set - loss: 0.081, accuracy: 0.91 Val  set - loss: 0.18, Val accuracy: 0.877\n",
      "\n",
      "epoch 4300 Train set - loss: 0.081, accuracy: 0.91 Val  set - loss: 0.186, Val accuracy: 0.877\n",
      "\n",
      "epoch 4400 Train set - loss: 0.079, accuracy: 0.909 Val  set - loss: 0.192, Val accuracy: 0.871\n",
      "\n",
      "epoch 4500 Train set - loss: 0.08, accuracy: 0.908 Val  set - loss: 0.178, Val accuracy: 0.882\n",
      "\n",
      "epoch 4600 Train set - loss: 0.079, accuracy: 0.908 Val  set - loss: 0.194, Val accuracy: 0.872\n",
      "\n",
      "epoch 4700 Train set - loss: 0.078, accuracy: 0.908 Val  set - loss: 0.182, Val accuracy: 0.875\n",
      "\n",
      "epoch 4800 Train set - loss: 0.08, accuracy: 0.906 Val  set - loss: 0.196, Val accuracy: 0.866\n",
      "\n",
      "epoch 4900 Train set - loss: 0.079, accuracy: 0.906 Val  set - loss: 0.19, Val accuracy: 0.867\n",
      "\n"
     ]
    }
   ],
   "source": [
    "#train for 10000 epochs and get the logits \n",
    "val_losses = []\n",
    "train_losses = []\n",
    "val_accur = []\n",
    "train_accur = []\n",
    "logits = []\n",
    "for epoch in range(5000):\n",
    "\n",
    "    y_pred = model(X_train.float())[0]\n",
    "    logits = model(X_train.float())[1]\n",
    "    #getting logits for test set \n",
    "#     y_pred = model(X_test.float())[0]\n",
    "#     logits = model(X_test.float())[1]\n",
    "    #y_pred = model(X_train) \n",
    "    #print(y_pred)\n",
    "\n",
    "    #y_pred = torch.squeeze(y_pred)\n",
    "    train_loss = criterion(y_pred, Y_train.float())\n",
    "    \n",
    "    #test_loss = criterion(y_pred, Y_test.float())\n",
    "    #train_loss = criterion(y_pred, Y_train)\n",
    "\n",
    "    if epoch % 100 == 0:\n",
    "        train_acc,_ = calculate_accuracy(Y_train, y_pred)\n",
    "\n",
    "        y_val_pred = model(X_val.float())[0]\n",
    "        #y_test_pred = torch.squeeze(y_test_pred)\n",
    "         \n",
    "\n",
    "        val_loss = criterion(y_val_pred, Y_val.float())\n",
    "\n",
    "        val_acc, total_corr = calculate_accuracy(Y_val, y_val_pred)\n",
    "        #print(total_corr)\n",
    "        \n",
    "        print(f'''epoch {epoch} Train set - loss: {round_tensor(train_loss)}, accuracy: {round_tensor(train_acc)} Val set - loss: {round_tensor(val_loss)}, Val accuracy: {round_tensor(val_acc)}\n",
    "''')\n",
    "        #print(f'''epoch {epoch}Train set - loss: {round_tensor(train_loss)} ''')\n",
    "        #print(f'''epoch {epoch}Test set - loss: {round_tensor(test_loss)} ''')\n",
    "        train_losses.append(train_loss.detach().numpy())\n",
    "        val_losses.append(val_loss.detach().numpy())\n",
    "        \n",
    "        val_accur.append(val_acc.detach().numpy())\n",
    "        train_accur.append(train_acc.detach().numpy())\n",
    "\n",
    "    optimizer.zero_grad()\n",
    "\n",
    "    train_loss.backward()\n",
    "    #test_loss.backward()\n",
    "\n",
    "    optimizer.step()"
   ]
  },
  {
   "cell_type": "code",
   "execution_count": 352,
   "id": "8cb71617",
   "metadata": {},
   "outputs": [
    {
     "data": {
      "image/png": "[encoded data removed]",
      "text/plain": [
       "<Figure size 432x288 with 1 Axes>"
      ]
     },
     "metadata": {
      "needs_background": "light"
     },
     "output_type": "display_data"
    },
    {
     "data": {
      "image/png": "[encoded data removed]",
      "text/plain": [
       "<Figure size 432x288 with 1 Axes>"
      ]
     },
     "metadata": {
      "needs_background": "light"
     },
     "output_type": "display_data"
    }
   ],
   "source": [
    "import matplotlib.pyplot as plt\n",
    "\n",
    "epochs = range(1, len(train_accur) + 1)\n",
    "\n",
    "plt.plot(epochs, train_accur, 'bo', label='Training acc')\n",
    "plt.plot(epochs, val_accur, 'b', label='vaidation acc')\n",
    "plt.title('Training and validation accuracy')\n",
    "plt.legend()\n",
    "\n",
    "plt.figure()\n",
    "\n",
    "plt.plot(epochs, train_losses, 'bo', label='Training loss')\n",
    "plt.plot(epochs, val_losses, 'b', label='validation loss')\n",
    "plt.title('Training and validation loss')\n",
    "plt.legend()\n",
    "\n",
    "plt.show()\n"
   ]
  },
  {
   "cell_type": "code",
   "execution_count": 353,
   "id": "3fe73db1",
   "metadata": {},
   "outputs": [],
   "source": [
    "train_realdist['features_loan'] = train_realdist.apply(lambda x:ft.word_to_vector_list(x[\"loan_word_epitran\"],numeric=True ), axis=1)\n",
    "train_realdist['features_orig'] = train_realdist.apply(lambda x:ft.word_to_vector_list(x[\"original_word_epitran\"],numeric=True ), axis=1)\n",
    "test_realdist['features_loan'] = test_realdist.apply(lambda x:ft.word_to_vector_list(x[\"loan_word_epitran\"],numeric=True ), axis=1)\n",
    "test_realdist['features_orig'] = test_realdist.apply(lambda x:ft.word_to_vector_list(x[\"original_word_epitran\"],numeric=True ), axis=1)\n",
    "\n",
    "train_realdist['features_loan'] = train_realdist['features_loan'].apply(lambda x:sum(x, []))\n",
    "train_realdist['features_orig'] = train_realdist['features_orig'].apply(lambda x:sum(x, []))\n",
    "test_realdist['features_orig'] = test_realdist['features_orig'].apply(lambda x:sum(x, []))\n",
    "test_realdist['features_loan'] = test_realdist['features_loan'].apply(lambda x:sum(x, []))\n",
    "\n",
    "train_balanced['features_loan'] = train_balanced.apply(lambda x:ft.word_to_vector_list(x[\"loan_word_epitran\"],numeric=True ), axis=1)\n",
    "train_balanced['features_orig'] = train_balanced.apply(lambda x:ft.word_to_vector_list(x[\"original_word_epitran\"],numeric=True ), axis=1)\n",
    "test_balanced['features_loan'] = test_balanced.apply(lambda x:ft.word_to_vector_list(x[\"loan_word_epitran\"],numeric=True ), axis=1)\n",
    "test_balanced['features_orig'] = test_balanced.apply(lambda x:ft.word_to_vector_list(x[\"original_word_epitran\"],numeric=True ), axis=1)\n",
    "\n",
    "train_balanced['features_loan'] = train_balanced['features_loan'].apply(lambda x:sum(x, []))\n",
    "train_balanced['features_orig'] = train_balanced['features_orig'].apply(lambda x:sum(x, []))\n",
    "test_balanced['features_orig'] = test_balanced['features_orig'].apply(lambda x:sum(x, []))\n",
    "test_balanced['features_loan'] = test_balanced['features_loan'].apply(lambda x:sum(x, []))\n"
   ]
  },
  {
   "cell_type": "code",
   "execution_count": 362,
   "id": "35f4da5a",
   "metadata": {},
   "outputs": [],
   "source": [
    "test_alldata['features_loan'] = test_alldata['features_loan'].apply(lambda x: \\\n",
    "                                np.pad(x,\\\n",
    "                                (0,train_alldata_maxlen[0]-len(x)), 'constant'))\n",
    "test_alldata['features_orig'] = test_alldata['features_orig'].apply(lambda x: \\\n",
    "                                np.pad(x,\\\n",
    "                                (0,train_alldata_maxlen[1]-len(x)), 'constant'))\n",
    "\n",
    "X_train_alldata = torch.tensor(np.hstack([np.array([x for x in train_alldata['features_loan']]),\\\n",
    "                     np.array([x for x in train_alldata['features_orig']])])).to(device)\n",
    "X_test_alldata = torch.tensor(np.hstack([np.array([x for x in test_alldata['features_loan']]),\\\n",
    "                    np.array([x for x in test_alldata['features_orig']])])).to(device)"
   ]
  },
  {
   "cell_type": "code",
   "execution_count": 363,
   "id": "aa51f570",
   "metadata": {},
   "outputs": [],
   "source": [
    "train_realdist['features_loan'] = train_realdist['features_loan'].apply(lambda x: \\\n",
    "                                np.pad(x,\\\n",
    "                                (0,train_alldata_maxlen[0]-len(x)), 'constant'))\n",
    "train_realdist['features_orig'] = train_realdist['features_orig'].apply(lambda x: \\\n",
    "                                np.pad(x,\\\n",
    "                                (0,train_alldata_maxlen[1]-len(x)), 'constant'))\n",
    "\n",
    "test_realdist['features_loan'] = test_realdist['features_loan'].apply(lambda x: \\\n",
    "                                np.pad(x,\\\n",
    "                                (0,train_alldata_maxlen[0]-len(x)), 'constant'))\n",
    "test_realdist['features_orig'] = test_realdist['features_orig'].apply(lambda x: \\\n",
    "                                np.pad(x,\\\n",
    "                                (0,train_alldata_maxlen[1]-len(x)), 'constant'))\n",
    "\n",
    "X_train_realdist = torch.tensor(np.hstack([np.array([x for x in train_realdist['features_loan']]),\\\n",
    "                     np.array([x for x in train_realdist['features_orig']])])).to(device)\n",
    "X_test_realdist = torch.tensor(np.hstack([np.array([x for x in test_realdist['features_loan']]),\\\n",
    "                    np.array([x for x in test_realdist['features_orig']])])).to(device)\n",
    "\n",
    "train_balanced['features_loan'] = train_balanced['features_loan'].apply(lambda x: \\\n",
    "                                np.pad(x,\\\n",
    "                                (0,train_alldata_maxlen[0]-len(x)), 'constant'))\n",
    "train_balanced['features_orig'] = train_balanced['features_orig'].apply(lambda x: \\\n",
    "                                np.pad(x,\\\n",
    "                                (0,train_alldata_maxlen[1]-len(x)), 'constant'))\n",
    "\n",
    "test_balanced['features_loan'] = test_balanced['features_loan'].apply(lambda x: \\\n",
    "                                np.pad(x,\\\n",
    "                                (0,train_alldata_maxlen[0]-len(x)), 'constant'))\n",
    "test_balanced['features_orig'] = test_balanced['features_orig'].apply(lambda x: \\\n",
    "                                np.pad(x,\\\n",
    "                                (0,train_alldata_maxlen[1]-len(x)), 'constant'))\n",
    "\n",
    "X_train_balanced = torch.tensor(np.hstack([np.array([x for x in train_balanced['features_loan']]),\\\n",
    "                     np.array([x for x in train_balanced['features_orig']])])).to(device)\n",
    "X_test_balanced = torch.tensor(np.hstack([np.array([x for x in test_balanced['features_loan']]),\\\n",
    "                    np.array([x for x in test_balanced['features_orig']])])).to(device)"
   ]
  },
  {
   "cell_type": "code",
   "execution_count": 364,
   "id": "253226b4",
   "metadata": {},
   "outputs": [],
   "source": [
    "model.eval()\n",
    "\n",
    "with torch.no_grad():\n",
    "    train_logits_dnn_alldata = model(X_train_alldata.float())[1].detach().cpu().numpy()\n",
    "    test_logits_dnn_alldata = model(X_test_alldata.float())[1].detach().cpu().numpy()\n",
    "    train_logits_dnn_realdist = model(X_train_realdist.float())[1].detach().cpu().numpy()\n",
    "    test_logits_dnn_realdist = model(X_test_realdist.float())[1].detach().cpu().numpy()\n",
    "    train_logits_dnn_balanced = model(X_train_balanced.float())[1].detach().cpu().numpy()\n",
    "    test_logits_dnn_balanced = model(X_test_balanced.float())[1].detach().cpu().numpy()"
   ]
  },
  {
   "cell_type": "code",
   "execution_count": 367,
   "id": "2c8b1722",
   "metadata": {},
   "outputs": [
    {
     "data": {
      "text/plain": [
       "(array([[ -8.168253 ],\n",
       "        [  5.6654778],\n",
       "        [ -1.99144  ],\n",
       "        ...,\n",
       "        [-25.142923 ],\n",
       "        [ -9.857235 ],\n",
       "        [-11.477509 ]], dtype=float32),\n",
       " array([[ -6.632645 ],\n",
       "        [-12.517828 ],\n",
       "        [ -4.8939857],\n",
       "        ...,\n",
       "        [  4.328829 ],\n",
       "        [ -5.4864573],\n",
       "        [  6.445583 ]], dtype=float32),\n",
       " array([[-12.112804 ],\n",
       "        [  3.9351969],\n",
       "        [  4.503063 ],\n",
       "        ...,\n",
       "        [-20.006413 ],\n",
       "        [ -8.729936 ],\n",
       "        [-16.542418 ]], dtype=float32),\n",
       " array([[-1.58126945e+01],\n",
       "        [-1.23463612e+01],\n",
       "        [ 2.20779514e+00],\n",
       "        [-2.12806282e+01],\n",
       "        [-2.41199265e+01],\n",
       "        [-9.40355301e-01],\n",
       "        [ 3.53277159e+00],\n",
       "        [-5.31555843e+00],\n",
       "        [-2.13989716e+01],\n",
       "        [-1.03952007e+01],\n",
       "        [-6.83899879e+00],\n",
       "        [-2.36320710e+00],\n",
       "        [-1.96180267e+01],\n",
       "        [-1.43530643e+00],\n",
       "        [-1.01868916e+01],\n",
       "        [-1.52589712e+01],\n",
       "        [-9.01798248e+00],\n",
       "        [-7.16112375e+00],\n",
       "        [ 3.64982986e+00],\n",
       "        [ 6.44558334e+00],\n",
       "        [-2.05748787e+01],\n",
       "        [-5.36192608e+00],\n",
       "        [-1.36646900e+01],\n",
       "        [-1.78303604e+01],\n",
       "        [-1.99715843e+01],\n",
       "        [-1.34761658e+01],\n",
       "        [ 2.37877178e+00],\n",
       "        [-2.37081451e+01],\n",
       "        [-7.38067913e+00],\n",
       "        [ 4.87679291e+00],\n",
       "        [ 2.89370251e+00],\n",
       "        [-7.02343893e+00],\n",
       "        [-1.42682724e+01],\n",
       "        [ 1.43748057e+00],\n",
       "        [-1.65927291e-01],\n",
       "        [-9.99409580e+00],\n",
       "        [-1.88391724e+01],\n",
       "        [-6.86340237e+00],\n",
       "        [-2.30952873e+01],\n",
       "        [-1.14942760e+01],\n",
       "        [-1.38272877e+01],\n",
       "        [-1.15577621e+01],\n",
       "        [-1.07719927e+01],\n",
       "        [-5.30848122e+00],\n",
       "        [ 2.15383291e+00],\n",
       "        [-1.14836426e+01],\n",
       "        [ 4.21408319e+00],\n",
       "        [-1.75858364e+01],\n",
       "        [-8.42426109e+00],\n",
       "        [-6.18583488e+00],\n",
       "        [-5.24056339e+00],\n",
       "        [-1.17926331e+01],\n",
       "        [-1.40220528e+01],\n",
       "        [ 2.20310473e+00],\n",
       "        [-2.24382439e+01],\n",
       "        [ 2.93666220e+00],\n",
       "        [-1.74055843e+01],\n",
       "        [-1.02232590e+01],\n",
       "        [ 3.77421570e+00],\n",
       "        [-2.32453613e+01],\n",
       "        [-7.20992279e+00],\n",
       "        [-1.16139412e+01],\n",
       "        [-1.21148033e+01],\n",
       "        [-1.09786081e+01],\n",
       "        [-4.03802395e+00],\n",
       "        [-8.14403915e+00],\n",
       "        [-9.93857002e+00],\n",
       "        [-4.60327482e+00],\n",
       "        [-7.52988434e+00],\n",
       "        [-4.84083271e+00],\n",
       "        [-4.02414131e+00],\n",
       "        [-1.46072855e+01],\n",
       "        [-1.98478889e+01],\n",
       "        [-1.11246529e+01],\n",
       "        [ 2.41359472e+00],\n",
       "        [-1.25100050e+01],\n",
       "        [-9.77019787e+00],\n",
       "        [-1.61349068e+01],\n",
       "        [-9.90875435e+00],\n",
       "        [-1.43666916e+01],\n",
       "        [ 5.43306732e+00],\n",
       "        [-2.40501461e+01],\n",
       "        [-1.25132294e+01],\n",
       "        [-2.72663250e+01],\n",
       "        [-5.02234573e+01],\n",
       "        [-1.63291740e+01],\n",
       "        [-1.33395367e+01],\n",
       "        [-8.39103699e+00],\n",
       "        [-1.64692860e+01],\n",
       "        [-1.74232159e+01],\n",
       "        [ 2.09300375e+00],\n",
       "        [ 4.35207367e+00],\n",
       "        [-1.22011604e+01],\n",
       "        [-9.13949108e+00],\n",
       "        [-2.33962955e+01],\n",
       "        [ 2.30173182e+00],\n",
       "        [-1.05431013e+01],\n",
       "        [-1.36267796e+01],\n",
       "        [-1.48693962e+01],\n",
       "        [ 2.01205397e+00],\n",
       "        [-7.00478888e+00],\n",
       "        [-4.89749718e+00],\n",
       "        [-1.16360817e+01],\n",
       "        [-1.93796082e+01],\n",
       "        [ 1.98615038e+00],\n",
       "        [-1.72436256e+01],\n",
       "        [-1.93792844e+00],\n",
       "        [ 4.49055052e+00],\n",
       "        [-1.84675419e+00],\n",
       "        [-8.53333664e+00],\n",
       "        [ 1.03106976e+00],\n",
       "        [-1.59939404e+01],\n",
       "        [-1.22516232e+01],\n",
       "        [-1.40907936e+01],\n",
       "        [-2.56099358e+01],\n",
       "        [-7.52699947e+00],\n",
       "        [-5.94603014e+00],\n",
       "        [-2.65829945e+00],\n",
       "        [-5.34920263e+00],\n",
       "        [-1.42478857e+01],\n",
       "        [-7.36246681e+00],\n",
       "        [-5.75121021e+00],\n",
       "        [-9.79509830e+00],\n",
       "        [-3.30023537e+01],\n",
       "        [-1.91906872e+01],\n",
       "        [-1.50699177e+01],\n",
       "        [-6.42483473e-01],\n",
       "        [-1.12093439e+01],\n",
       "        [-1.15808926e+01],\n",
       "        [-1.47007427e+01],\n",
       "        [ 2.34639835e+00],\n",
       "        [-1.37338724e+01],\n",
       "        [ 1.05494773e+00],\n",
       "        [ 2.73970079e+00],\n",
       "        [-1.20688343e+01],\n",
       "        [-4.74561977e+00],\n",
       "        [-2.30621452e+01],\n",
       "        [ 5.41290283e+00],\n",
       "        [-1.54993954e+01],\n",
       "        [-2.90316772e+00],\n",
       "        [ 4.95133400e+00],\n",
       "        [ 2.96154761e+00],\n",
       "        [-1.43967600e+01],\n",
       "        [ 1.24470383e-01],\n",
       "        [-1.06015835e+01],\n",
       "        [ 4.51621246e+00],\n",
       "        [-3.90819092e+01],\n",
       "        [-9.32784843e+00],\n",
       "        [-1.00282936e+01],\n",
       "        [-9.00799656e+00],\n",
       "        [-1.21558819e+01],\n",
       "        [ 4.32882929e+00],\n",
       "        [-1.13165867e+00],\n",
       "        [-1.67521420e+01],\n",
       "        [-9.58820915e+00],\n",
       "        [-1.38080654e+01],\n",
       "        [ 2.46740031e+00],\n",
       "        [-2.37837219e+01],\n",
       "        [-1.22566271e+01],\n",
       "        [-2.32066422e+01],\n",
       "        [-4.90254593e+00],\n",
       "        [-1.01915779e+01],\n",
       "        [-1.33255920e+01],\n",
       "        [-3.68600502e+01],\n",
       "        [-3.73432517e+00],\n",
       "        [-5.44779778e+00],\n",
       "        [-2.03184509e+01],\n",
       "        [-1.74391937e+01],\n",
       "        [-7.17316341e+00],\n",
       "        [-6.48781967e+00],\n",
       "        [-1.59816303e+01],\n",
       "        [-3.14387226e+00],\n",
       "        [-1.87990494e+01],\n",
       "        [ 3.01915002e+00],\n",
       "        [-7.97168541e+00],\n",
       "        [-1.86773586e+01],\n",
       "        [-3.97585392e-01],\n",
       "        [-2.77911263e+01],\n",
       "        [-1.55778971e+01],\n",
       "        [-1.18032084e+01],\n",
       "        [-1.49988813e+01],\n",
       "        [-1.66124306e+01],\n",
       "        [-3.37150717e+00],\n",
       "        [-1.58564281e+01],\n",
       "        [ 4.59022713e+00],\n",
       "        [-1.13224154e+01],\n",
       "        [-7.05819893e+00],\n",
       "        [-6.04118538e+00],\n",
       "        [-7.34122467e+00],\n",
       "        [ 5.21022034e+00],\n",
       "        [ 2.16639113e+00],\n",
       "        [-2.60307026e+00],\n",
       "        [-1.36969376e+01],\n",
       "        [-1.51326895e+01],\n",
       "        [-1.05209885e+01],\n",
       "        [ 4.94868279e+00],\n",
       "        [-8.64884281e+00],\n",
       "        [-1.64576035e+01],\n",
       "        [-9.06347847e+00],\n",
       "        [-2.84846897e+01],\n",
       "        [-4.84754276e+00],\n",
       "        [-1.31903849e+01],\n",
       "        [-2.31705036e+01],\n",
       "        [-1.15344086e+01],\n",
       "        [-1.63695793e+01],\n",
       "        [ 4.97900963e+00],\n",
       "        [-8.87499905e+00],\n",
       "        [-9.28824520e+00],\n",
       "        [-1.22636051e+01],\n",
       "        [-1.28313065e+01],\n",
       "        [-1.07515984e+01],\n",
       "        [-4.13686085e+00],\n",
       "        [ 2.77115321e+00],\n",
       "        [-1.78249111e+01],\n",
       "        [ 2.00100327e+00],\n",
       "        [ 3.36817908e+00],\n",
       "        [-1.30247974e+00],\n",
       "        [-3.79379511e+00],\n",
       "        [ 4.11760187e+00],\n",
       "        [-4.09108829e+00],\n",
       "        [ 2.04366469e+00],\n",
       "        [ 3.28794909e+00],\n",
       "        [ 1.04404998e+00],\n",
       "        [-1.65513821e+01],\n",
       "        [ 3.83472276e+00],\n",
       "        [-1.19200268e+01],\n",
       "        [-1.26692419e+01],\n",
       "        [ 2.56237936e+00],\n",
       "        [-1.26223907e+01],\n",
       "        [ 6.55770183e-01],\n",
       "        [-5.75705433e+00],\n",
       "        [-1.09955387e+01],\n",
       "        [-1.50029297e+01],\n",
       "        [-1.46669064e+01],\n",
       "        [ 7.49030113e-02],\n",
       "        [-8.82354617e-01],\n",
       "        [-1.08239861e+01],\n",
       "        [-7.23321104e+00],\n",
       "        [-1.31057272e+01],\n",
       "        [-3.67061005e+01],\n",
       "        [-8.93515301e+00],\n",
       "        [-1.14010611e+01],\n",
       "        [-1.57983246e+01],\n",
       "        [-1.69845581e+01],\n",
       "        [-1.43760099e+01],\n",
       "        [-3.68074012e+00],\n",
       "        [-7.22244453e+00],\n",
       "        [ 3.45097065e+00],\n",
       "        [-1.37024155e+01],\n",
       "        [-9.25558281e+00],\n",
       "        [ 5.60800910e-01],\n",
       "        [-1.57309513e+01],\n",
       "        [-1.16474228e+01],\n",
       "        [-5.12277603e+00],\n",
       "        [-1.00042877e+01],\n",
       "        [-1.58902168e+01],\n",
       "        [-7.72301149e+00],\n",
       "        [-8.70472717e+00],\n",
       "        [ 5.83126640e+00],\n",
       "        [ 2.15220070e+00],\n",
       "        [-1.24366169e+01],\n",
       "        [-1.75797997e+01],\n",
       "        [-9.57992935e+00],\n",
       "        [-1.05673349e+00],\n",
       "        [ 8.34391773e-01],\n",
       "        [-2.05034294e+01],\n",
       "        [-6.60814571e+00],\n",
       "        [-4.55460787e+00],\n",
       "        [-1.28583689e+01],\n",
       "        [-1.06674004e+01],\n",
       "        [ 4.20756960e+00],\n",
       "        [-1.44318056e+01],\n",
       "        [-1.17382097e+01],\n",
       "        [-1.15338097e+01],\n",
       "        [-1.34170532e+01],\n",
       "        [-2.13966942e+01],\n",
       "        [-1.01829777e+01],\n",
       "        [ 3.36537361e+00],\n",
       "        [-5.18595886e+01],\n",
       "        [-1.34199314e+01],\n",
       "        [-7.70619631e+00],\n",
       "        [ 5.82201242e+00],\n",
       "        [-1.23794117e+01],\n",
       "        [-2.31346073e+01],\n",
       "        [ 2.21549916e+00],\n",
       "        [-2.00648994e+01],\n",
       "        [-6.72759116e-03],\n",
       "        [-2.18083115e+01],\n",
       "        [-1.12952709e+01],\n",
       "        [-5.46257067e+00],\n",
       "        [ 8.43212724e-01],\n",
       "        [-1.13704758e+01],\n",
       "        [-3.85014725e+00],\n",
       "        [-8.77192593e+00],\n",
       "        [-9.67844772e+00],\n",
       "        [ 3.51712227e-01],\n",
       "        [ 7.81099856e-01],\n",
       "        [-1.41330643e+01],\n",
       "        [ 2.15131760e+00],\n",
       "        [-1.70436211e+01],\n",
       "        [-8.82198906e+00],\n",
       "        [-1.88602829e+01],\n",
       "        [-6.41437721e+00],\n",
       "        [-1.51611881e+01],\n",
       "        [ 3.45787954e+00],\n",
       "        [-1.24730453e+01],\n",
       "        [-1.07609520e+01],\n",
       "        [-1.52158909e+01],\n",
       "        [-2.65959911e+01],\n",
       "        [ 6.49111176e+00],\n",
       "        [ 3.59932232e+00],\n",
       "        [-1.01065321e+01],\n",
       "        [-1.39758968e+00],\n",
       "        [-3.40227199e+00],\n",
       "        [ 6.99949861e-01],\n",
       "        [-1.21163845e+01],\n",
       "        [-1.96686096e+01],\n",
       "        [-1.48537149e+01],\n",
       "        [-1.54086781e+01],\n",
       "        [-1.03377266e+01],\n",
       "        [-9.31735611e+00],\n",
       "        [-6.05692267e-01],\n",
       "        [-9.82252121e+00],\n",
       "        [-1.50853786e+01],\n",
       "        [ 6.00236797e+00],\n",
       "        [-1.16820831e+01],\n",
       "        [ 3.17901516e+00],\n",
       "        [ 2.57496190e+00],\n",
       "        [-1.04283190e+01],\n",
       "        [-1.60817337e+01],\n",
       "        [-9.35844517e+00],\n",
       "        [ 3.46247387e+00],\n",
       "        [-7.69501781e+00],\n",
       "        [-2.08834152e+01],\n",
       "        [-1.21822033e+01],\n",
       "        [-1.45183067e+01],\n",
       "        [ 2.83664870e+00],\n",
       "        [-1.62375259e+01],\n",
       "        [-1.24374151e+01],\n",
       "        [-1.29007187e+01],\n",
       "        [-9.04126167e+00],\n",
       "        [-4.67508125e+00],\n",
       "        [-1.53309307e+01],\n",
       "        [-1.59743757e+01],\n",
       "        [-8.59435844e+00],\n",
       "        [-8.60400581e+00],\n",
       "        [-1.85009460e+01],\n",
       "        [-7.50014782e+00],\n",
       "        [-4.87941408e+00],\n",
       "        [-1.07295790e+01],\n",
       "        [ 1.50540757e+00],\n",
       "        [-1.22543221e+01],\n",
       "        [-1.17788448e+01],\n",
       "        [-3.73687434e+00],\n",
       "        [ 3.78477693e+00],\n",
       "        [-1.52440119e+01],\n",
       "        [ 2.52938938e+00],\n",
       "        [ 3.45945644e+00],\n",
       "        [ 4.78822947e-01],\n",
       "        [ 4.07773590e+00],\n",
       "        [-7.57408285e+00],\n",
       "        [-1.06075821e+01],\n",
       "        [-1.37814560e+01],\n",
       "        [-8.89098585e-01],\n",
       "        [-6.65144348e+00],\n",
       "        [ 2.48946905e+00],\n",
       "        [-1.06948338e+01],\n",
       "        [-1.23336196e+00],\n",
       "        [ 3.71174049e+00],\n",
       "        [-8.01424122e+00],\n",
       "        [-1.18879356e+01],\n",
       "        [-4.97652113e-01],\n",
       "        [ 2.25706744e+00],\n",
       "        [ 4.49996376e+00],\n",
       "        [-3.21247721e+00],\n",
       "        [ 2.35490608e+00],\n",
       "        [-1.61248322e+01],\n",
       "        [-1.85830593e+01],\n",
       "        [ 4.94252205e+00],\n",
       "        [-4.74709225e+00],\n",
       "        [-1.08331165e+01],\n",
       "        [ 6.42656505e-01],\n",
       "        [-8.06546879e+00],\n",
       "        [-1.14317980e+01],\n",
       "        [ 2.41259718e+00],\n",
       "        [-1.35375810e+00],\n",
       "        [-1.28515205e+01],\n",
       "        [ 3.36757994e+00],\n",
       "        [-1.29118311e+00],\n",
       "        [ 4.49781799e+00],\n",
       "        [-1.69867134e+01],\n",
       "        [-1.00037365e+01],\n",
       "        [ 5.70608234e+00],\n",
       "        [-2.08765869e+01],\n",
       "        [-1.77272873e+01],\n",
       "        [-1.02470760e+01],\n",
       "        [-1.93297997e+01],\n",
       "        [ 1.61119628e+00],\n",
       "        [-6.71908140e+00],\n",
       "        [-1.30202484e+01],\n",
       "        [-1.33445082e+01],\n",
       "        [-7.39893246e+00],\n",
       "        [-1.33134651e+01],\n",
       "        [-1.96931267e+00],\n",
       "        [-1.29344921e+01],\n",
       "        [-1.49533339e+01],\n",
       "        [-1.68627853e+01],\n",
       "        [-4.57612324e+00],\n",
       "        [-3.89856398e-01],\n",
       "        [-1.22006721e+01],\n",
       "        [-8.18651390e+00],\n",
       "        [-1.99673634e+01],\n",
       "        [-1.51525764e+01],\n",
       "        [-1.37258348e+01],\n",
       "        [-1.57920742e+01],\n",
       "        [-8.91480827e+00],\n",
       "        [-4.24091387e+00],\n",
       "        [-1.98835411e+01],\n",
       "        [ 5.70957613e+00],\n",
       "        [ 2.39316511e+00],\n",
       "        [-1.01858788e+01],\n",
       "        [-1.14500313e+01],\n",
       "        [-9.59992218e+00],\n",
       "        [-6.27984428e+00],\n",
       "        [-1.41404667e+01],\n",
       "        [-2.90239477e+00],\n",
       "        [-1.66626472e+01],\n",
       "        [ 3.67058444e+00],\n",
       "        [ 2.06867075e+00],\n",
       "        [ 2.96422052e+00],\n",
       "        [-1.18279781e+01],\n",
       "        [ 3.41967177e+00],\n",
       "        [-1.41644945e+01],\n",
       "        [ 3.33464813e+00],\n",
       "        [-7.68722248e+00],\n",
       "        [-4.25136261e+01],\n",
       "        [-8.31233597e+00],\n",
       "        [-4.47413921e+00],\n",
       "        [-1.60389175e+01],\n",
       "        [ 8.22611570e-01],\n",
       "        [-4.53349638e+00],\n",
       "        [-6.08050728e+00],\n",
       "        [-3.73189592e+00],\n",
       "        [-9.47925568e+00],\n",
       "        [-6.99148893e-01],\n",
       "        [-1.38332157e+01],\n",
       "        [-8.48488045e+00],\n",
       "        [ 3.46211481e+00],\n",
       "        [ 2.26917100e+00],\n",
       "        [-1.08978662e+01]], dtype=float32),\n",
       " array([[  4.2387795],\n",
       "        [  2.6401992],\n",
       "        [  5.2660003],\n",
       "        ...,\n",
       "        [-16.708023 ],\n",
       "        [  5.21455  ],\n",
       "        [  5.755739 ]], dtype=float32),\n",
       " array([[-1.34558878e+01],\n",
       "        [-8.82354617e-01],\n",
       "        [-1.29390202e+01],\n",
       "        [-3.73687434e+00],\n",
       "        [-7.90724754e+00],\n",
       "        [ 4.95133400e+00],\n",
       "        [ 4.78822947e-01],\n",
       "        [ 2.16639113e+00],\n",
       "        [-1.30130253e+01],\n",
       "        [-1.27352114e+01],\n",
       "        [-6.99148893e-01],\n",
       "        [-1.20662498e+01],\n",
       "        [ 3.36817908e+00],\n",
       "        [-9.45877075e+00],\n",
       "        [ 2.73970079e+00],\n",
       "        [-9.40355301e-01],\n",
       "        [-1.57584419e+01],\n",
       "        [-1.31743536e+01],\n",
       "        [ 4.11760187e+00],\n",
       "        [-7.51294184e+00],\n",
       "        [-1.27162399e+01],\n",
       "        [-1.32368765e+01],\n",
       "        [-1.30022678e+01],\n",
       "        [-8.53122520e+00],\n",
       "        [-6.08050776e+00],\n",
       "        [-4.83527565e+00],\n",
       "        [ 2.35490608e+00],\n",
       "        [ 4.51621246e+00],\n",
       "        [-1.24892302e+01],\n",
       "        [-2.00163765e+01],\n",
       "        [-1.23336196e+00],\n",
       "        [ 2.15383291e+00],\n",
       "        [ 3.28794909e+00],\n",
       "        [-2.96062126e+01],\n",
       "        [-2.60307026e+00],\n",
       "        [ 1.50540757e+00],\n",
       "        [ 2.93666220e+00],\n",
       "        [ 3.77421570e+00],\n",
       "        [-1.06447048e+01],\n",
       "        [ 6.49111176e+00],\n",
       "        [-6.42483473e-01],\n",
       "        [-1.82977028e+01],\n",
       "        [ 4.59022713e+00],\n",
       "        [-1.17319317e+01],\n",
       "        [-1.36969376e+01],\n",
       "        [ 1.43748057e+00],\n",
       "        [-2.94025764e+01],\n",
       "        [ 2.20779514e+00],\n",
       "        [-4.45383501e+00],\n",
       "        [-1.01496048e+01],\n",
       "        [ 3.46247387e+00],\n",
       "        [ 2.39316511e+00],\n",
       "        [-2.08091698e+01],\n",
       "        [-8.02815247e+00],\n",
       "        [-1.16618462e+01],\n",
       "        [ 2.41259718e+00],\n",
       "        [-7.91947031e+00],\n",
       "        [-1.39758968e+00],\n",
       "        [-1.79518127e+01],\n",
       "        [ 1.03106976e+00],\n",
       "        [-2.28086720e+01],\n",
       "        [-1.32445412e+01],\n",
       "        [ 2.37877178e+00],\n",
       "        [-4.11667156e+00],\n",
       "        [ 2.20310497e+00],\n",
       "        [-9.94157505e+00],\n",
       "        [-1.24654474e+01],\n",
       "        [ 8.34391892e-01],\n",
       "        [ 3.59932232e+00],\n",
       "        [ 2.25706744e+00],\n",
       "        [ 8.43212724e-01],\n",
       "        [-2.62058616e+00],\n",
       "        [ 2.48946905e+00],\n",
       "        [ 5.60800910e-01],\n",
       "        [-1.50410700e+01],\n",
       "        [ 4.07773590e+00],\n",
       "        [-4.97652113e-01],\n",
       "        [-9.76460266e+00],\n",
       "        [ 3.78477693e+00],\n",
       "        [-6.05692267e-01],\n",
       "        [-1.42588711e+01],\n",
       "        [-1.43315582e+01],\n",
       "        [-1.06015835e+01],\n",
       "        [ 3.36537361e+00],\n",
       "        [-1.14225531e+01],\n",
       "        [-1.03089895e+01],\n",
       "        [-5.51185036e+00],\n",
       "        [ 2.77115321e+00],\n",
       "        [ 1.24470398e-01],\n",
       "        [ 3.36757994e+00],\n",
       "        [ 5.21022034e+00],\n",
       "        [-9.13290691e+00],\n",
       "        [-9.60111046e+00],\n",
       "        [-6.62867689e+00],\n",
       "        [-2.12374229e+01],\n",
       "        [-1.04000740e+01],\n",
       "        [ 4.94868279e+00],\n",
       "        [-5.32551346e+01],\n",
       "        [-4.00580835e+00],\n",
       "        [-3.79379511e+00],\n",
       "        [ 4.49781799e+00],\n",
       "        [-4.14712667e+00],\n",
       "        [-1.43760099e+01],\n",
       "        [-8.49204063e+00],\n",
       "        [ 3.64982963e+00],\n",
       "        [-6.91184330e+00],\n",
       "        [ 1.04404998e+00],\n",
       "        [ 2.06867075e+00],\n",
       "        [-9.27325249e+00],\n",
       "        [-1.64889221e+01],\n",
       "        [ 5.82201242e+00],\n",
       "        [-2.90239477e+00],\n",
       "        [-2.36320710e+00],\n",
       "        [-5.95617342e+00],\n",
       "        [ 5.70608234e+00],\n",
       "        [-3.36449051e+00],\n",
       "        [-1.20424356e+01],\n",
       "        [-6.72759116e-03],\n",
       "        [-3.42574120e+00],\n",
       "        [ 3.17901516e+00],\n",
       "        [ 3.33464813e+00],\n",
       "        [-1.21142235e+01],\n",
       "        [-9.88674355e+00],\n",
       "        [-1.15547228e+01],\n",
       "        [-4.08243942e+00],\n",
       "        [ 5.41290283e+00],\n",
       "        [ 3.83472300e+00],\n",
       "        [-4.48429871e+00],\n",
       "        [-4.82815647e+00],\n",
       "        [-1.16244764e+01],\n",
       "        [ 7.81099856e-01],\n",
       "        [-1.98263512e+01],\n",
       "        [-1.76550064e+01],\n",
       "        [-2.30865154e+01],\n",
       "        [-1.19284286e+01],\n",
       "        [-3.14387226e+00],\n",
       "        [-8.89098644e-01],\n",
       "        [-9.15422630e+00],\n",
       "        [-6.54848671e+00],\n",
       "        [-8.17785931e+00],\n",
       "        [ 3.67058444e+00],\n",
       "        [-1.16908197e+01],\n",
       "        [ 2.89370251e+00],\n",
       "        [ 1.05494773e+00],\n",
       "        [-1.42706833e+01],\n",
       "        [-1.80486298e+01],\n",
       "        [ 2.15220070e+00],\n",
       "        [-9.20425034e+00],\n",
       "        [-1.65927291e-01],\n",
       "        [ 3.45787930e+00],\n",
       "        [-3.31085062e+00],\n",
       "        [ 2.01205397e+00],\n",
       "        [-1.17419481e+01],\n",
       "        [-2.31160507e+01],\n",
       "        [-4.99567890e+00],\n",
       "        [ 6.55770183e-01],\n",
       "        [ 2.46740031e+00],\n",
       "        [ 2.56237936e+00],\n",
       "        [-1.39005270e+01],\n",
       "        [-6.40290546e+00],\n",
       "        [-2.05103531e+01],\n",
       "        [-3.89856398e-01],\n",
       "        [ 6.44558334e+00],\n",
       "        [ 5.83126640e+00],\n",
       "        [-4.02414131e+00],\n",
       "        [-8.97965908e+00],\n",
       "        [-1.44834948e+01],\n",
       "        [ 4.49055052e+00],\n",
       "        [-6.36441660e+00],\n",
       "        [-1.09261265e+01],\n",
       "        [ 4.94252205e+00],\n",
       "        [-4.32757683e+01],\n",
       "        [ 2.21549916e+00],\n",
       "        [-3.97585392e-01],\n",
       "        [-4.55095959e+00],\n",
       "        [ 4.21408319e+00],\n",
       "        [-2.34600124e+01],\n",
       "        [-1.29285030e+01],\n",
       "        [ 4.20756960e+00],\n",
       "        [-4.02927876e+00],\n",
       "        [-1.89927368e+01],\n",
       "        [-1.13165855e+00],\n",
       "        [ 1.98615038e+00],\n",
       "        [ 2.09300375e+00],\n",
       "        [-6.14224243e+00],\n",
       "        [ 7.49030113e-02],\n",
       "        [ 2.57496190e+00],\n",
       "        [-1.09274693e+01],\n",
       "        [ 4.49996376e+00],\n",
       "        [-1.07641993e+01],\n",
       "        [ 4.35207367e+00],\n",
       "        [ 6.99949861e-01],\n",
       "        [-6.62330246e+00],\n",
       "        [-1.60094376e+01],\n",
       "        [-6.27984428e+00],\n",
       "        [-1.84675419e+00],\n",
       "        [ 6.00236797e+00],\n",
       "        [-6.16091299e+00],\n",
       "        [-9.95028877e+00],\n",
       "        [-3.22222519e+01],\n",
       "        [ 3.53277159e+00],\n",
       "        [-1.12036877e+01],\n",
       "        [-2.33962955e+01],\n",
       "        [ 2.26917100e+00],\n",
       "        [ 3.46211481e+00],\n",
       "        [-6.41119289e+00],\n",
       "        [-1.48956661e+01],\n",
       "        [ 4.87679291e+00],\n",
       "        [-1.16459894e+01],\n",
       "        [-7.51049232e+00],\n",
       "        [-1.08677731e+01],\n",
       "        [ 2.41359472e+00],\n",
       "        [-2.49740791e+00],\n",
       "        [-1.96931267e+00],\n",
       "        [-2.07462273e+01],\n",
       "        [-1.29118311e+00],\n",
       "        [ 2.96154785e+00],\n",
       "        [-2.42159004e+01],\n",
       "        [-7.29584789e+00],\n",
       "        [-4.47413921e+00],\n",
       "        [ 4.32882929e+00],\n",
       "        [-6.42475653e+00],\n",
       "        [-9.81127357e+00],\n",
       "        [-4.67508125e+00],\n",
       "        [-9.62891579e+00],\n",
       "        [-2.65829945e+00],\n",
       "        [ 3.51712227e-01],\n",
       "        [-1.42471323e+01],\n",
       "        [-4.56880798e+01],\n",
       "        [ 1.61119628e+00],\n",
       "        [-1.84975319e+01],\n",
       "        [ 5.43306732e+00],\n",
       "        [-5.54175854e+00],\n",
       "        [ 2.34639835e+00],\n",
       "        [-1.17011814e+01],\n",
       "        [ 6.42656505e-01],\n",
       "        [ 2.30173182e+00],\n",
       "        [ 3.41967177e+00],\n",
       "        [-1.37431030e+01],\n",
       "        [-2.87927794e+00],\n",
       "        [-9.46136284e+00],\n",
       "        [-2.60398941e+01],\n",
       "        [ 3.45097065e+00],\n",
       "        [-1.27314243e+01],\n",
       "        [ 4.97900963e+00],\n",
       "        [-2.31150093e+01],\n",
       "        [-1.42106037e+01],\n",
       "        [ 3.01915002e+00],\n",
       "        [-1.30247974e+00],\n",
       "        [-1.20242519e+01],\n",
       "        [ 3.71174049e+00],\n",
       "        [-1.01431055e+01],\n",
       "        [-1.10944653e+01],\n",
       "        [ 2.52938938e+00],\n",
       "        [-1.43530643e+00],\n",
       "        [ 8.22611570e-01],\n",
       "        [-4.86685991e+00],\n",
       "        [ 2.00100327e+00],\n",
       "        [-1.05673349e+00],\n",
       "        [-1.11371880e+01],\n",
       "        [ 2.83664870e+00],\n",
       "        [-8.35017586e+00],\n",
       "        [-2.91913586e+01],\n",
       "        [-7.03526878e+00],\n",
       "        [-4.53349638e+00],\n",
       "        [-1.18973017e+01],\n",
       "        [ 2.15131760e+00],\n",
       "        [-1.15338087e+01],\n",
       "        [ 2.96422052e+00],\n",
       "        [ 5.70957613e+00],\n",
       "        [-7.92217779e+00]], dtype=float32))"
      ]
     },
     "execution_count": 367,
     "metadata": {},
     "output_type": "execute_result"
    }
   ],
   "source": [
    "train_logits_dnn_alldata, test_logits_dnn_alldata,\\\n",
    "train_logits_dnn_realdist, test_logits_dnn_realdist,\\\n",
    "train_logits_dnn_balanced, test_logits_dnn_balanced"
   ]
  },
  {
   "cell_type": "code",
   "execution_count": 369,
   "id": "e4ef4e0d",
   "metadata": {},
   "outputs": [],
   "source": [
    "train_alldata_dnnlogits = pd.read_csv('../Datasets/train_final_production_alldata.csv')\n",
    "test_alldata_dnnlogits = pd.read_csv('../Datasets/test_final_production_alldata.csv')\n",
    "train_realdist_dnnlogits = pd.read_csv('../Datasets/train_final_production_realdist.csv')\n",
    "test_realdist_dnnlogits = pd.read_csv('../Datasets/test_final_production_realdist.csv')\n",
    "train_balanced_dnnlogits = pd.read_csv('../Datasets/train_final_production_balanced.csv')\n",
    "test_balanced_dnnlogits = pd.read_csv('../Datasets/test_final_production_balanced.csv')"
   ]
  },
  {
   "cell_type": "code",
   "execution_count": 371,
   "id": "65f4deab",
   "metadata": {},
   "outputs": [],
   "source": [
    "train_alldata_dnnlogits['DNNlogits_modelpredicted'] = train_logits_dnn_alldata\n",
    "test_alldata_dnnlogits['DNNlogits_modelpredicted'] = test_logits_dnn_alldata\n",
    "\n",
    "train_realdist_dnnlogits['DNNlogits_modelpredicted'] = train_logits_dnn_realdist\n",
    "test_realdist_dnnlogits['DNNlogits_modelpredicted'] = test_logits_dnn_realdist\n",
    "\n",
    "train_balanced_dnnlogits['DNNlogits_modelpredicted'] = train_logits_dnn_balanced\n",
    "test_balanced_dnnlogits['DNNlogits_modelpredicted'] = test_logits_dnn_balanced\n",
    "\n",
    "train_alldata_dnnlogits.to_csv('../Datasets/modelpredictedlogits_trainDNN_alldata.csv')\n",
    "test_alldata_dnnlogits.to_csv('../Datasets/modelpredictedlogits_testDNN_alldata.csv')\n",
    "\n",
    "train_realdist_dnnlogits.to_csv('../Datasets/modelpredictedlogits_trainDNN_realdist.csv')\n",
    "test_realdist_dnnlogits.to_csv('../Datasets/modelpredictedlogits_testDNN_realdist.csv')\n",
    "\n",
    "train_balanced_dnnlogits.to_csv('../Datasets/modelpredictedlogits_trainDNN_balanced.csv')\n",
    "test_balanced_dnnlogits.to_csv('../Datasets/modelpredictedlogits_testDNN_balanced.csv')\n"
   ]
  },
  {
   "cell_type": "code",
   "execution_count": 286,
   "id": "5474bd22",
   "metadata": {},
   "outputs": [
    {
     "data": {
      "text/plain": [
       "((23714,), (2634,))"
      ]
     },
     "execution_count": 286,
     "metadata": {},
     "output_type": "execute_result"
    }
   ],
   "source": [
    "x_train_alldata.shape, x_test_alldata.shape#x_train_realdist.shape, x_test_realdist.shape, x_train_balanced.shape,  x_test_balanced.shape"
   ]
  },
  {
   "cell_type": "code",
   "execution_count": 40,
   "id": "32554488",
   "metadata": {},
   "outputs": [],
   "source": [
    "#create the entire  train set for all three types of datasets to predict using the trained model now, pad the train test sets to fit the trained model dimensions \n",
    "\n",
    "# all data\n",
    "X_train_dnn_alldata = x_train_alldata[:,0:1056]\n",
    "X_train_dnn_alldata  = torch.tensor(X_train_dnn_alldata).to(device)\n",
    "X_test_dnn_alldata = torch.tensor(x_test_alldata[:,0:960])\n",
    "X_test_dnn_alldata = F.pad(X_test_dnn_alldata,pad =(0, 1056-X_test_dnn_alldata.shape[1]), value=0).to(device)\n",
    "#X_test_dnn_alldata  = torch.tensor(X_test_dnn_alldata).to(device)\n",
    "\n",
    "#real dist \n",
    "\n",
    "X_train_dnn_realdist = torch.tensor(x_train_realdist[:,0:864])\n",
    "X_train_dnn_realdist = F.pad(X_train_dnn_realdist,pad =(0, 1056-X_train_dnn_realdist.shape[1]), value=0).to(device) \n",
    "\n",
    "\n",
    "X_test_dnn_realdist = torch.tensor(x_test_realdist[:,0:768])\n",
    "X_test_dnn_realdist = F.pad(X_test_dnn_realdist,pad =(0, 1056-X_test_dnn_realdist.shape[1]), value=0).to(device) \n",
    "\n",
    "# balanced \n",
    "X_train_dnn_balanced = torch.tensor(x_train_balanced[:,0:840])\n",
    "X_train_dnn_balanced = F.pad(X_train_dnn_balanced,pad =(0, 1056-X_train_dnn_balanced.shape[1]), value=0).to(device) \n",
    "\n",
    "\n",
    "X_test_dnn_balanced = torch.tensor(x_test_balanced[:,0:768])\n",
    "X_test_dnn_balanced = F.pad(X_test_dnn_balanced,pad =(0, 1056-X_test_dnn_balanced.shape[1]), value=0).to(device) \n",
    "\n",
    "\n",
    "\n"
   ]
  },
  {
   "cell_type": "code",
   "execution_count": 41,
   "id": "d8c35372",
   "metadata": {},
   "outputs": [
    {
     "data": {
      "text/plain": [
       "(torch.Size([11832, 1056]),\n",
       " torch.Size([1329, 1056]),\n",
       " torch.Size([4200, 1056]),\n",
       " torch.Size([462, 1056]),\n",
       " torch.Size([2407, 1056]),\n",
       " torch.Size([287, 1056]))"
      ]
     },
     "execution_count": 41,
     "metadata": {},
     "output_type": "execute_result"
    }
   ],
   "source": [
    "X_train_dnn_alldata.shape, X_test_dnn_alldata.shape, X_train_dnn_realdist.shape, X_test_dnn_realdist.shape, X_train_dnn_balanced.shape,X_test_dnn_balanced.shape "
   ]
  },
  {
   "cell_type": "code",
   "execution_count": null,
   "id": "e0a6f45a",
   "metadata": {},
   "outputs": [],
   "source": []
  },
  {
   "cell_type": "code",
   "execution_count": 45,
   "id": "effe573c",
   "metadata": {},
   "outputs": [],
   "source": [
    "# evaluate model, that is get the logits for the test set:\n",
    "model.eval()\n",
    "\n",
    "with torch.no_grad():\n",
    "    train_logits_dnn_alldata = model(X_train_dnn_alldata.float())[1].detach().cpu().numpy()\n",
    "    test_logits_dnn_alldata = model(X_test_dnn_alldata.float())[1].detach().cpu().numpy()\n",
    "    train_logits_dnn_realdist = model(X_train_dnn_realdist.float())[1].detach().cpu().numpy()\n",
    "    test_logits_dnn_realdist = model(X_test_dnn_realdist.float())[1].detach().cpu().numpy()\n",
    "    train_logits_dnn_balanced = model( X_train_dnn_balanced.float())[1].detach().cpu().numpy()\n",
    "    test_logits_dnn_balanced = model( X_test_dnn_balanced.float())[1].detach().cpu().numpy()\n",
    "    \n",
    " \n",
    " "
   ]
  },
  {
   "cell_type": "code",
   "execution_count": 46,
   "id": "600d1c2d",
   "metadata": {},
   "outputs": [
    {
     "data": {
      "text/plain": [
       "((11832, 1), (1329, 1), (4200, 1), (462, 1), (2407, 1), (287, 1))"
      ]
     },
     "execution_count": 46,
     "metadata": {},
     "output_type": "execute_result"
    }
   ],
   "source": [
    "train_logits_dnn_alldata.shape, test_logits_dnn_alldata.shape, train_logits_dnn_realdist.shape, test_logits_dnn_realdist.shape,train_logits_dnn_balanced.shape,test_logits_dnn_balanced.shape  \n",
    " "
   ]
  },
  {
   "cell_type": "code",
   "execution_count": 54,
   "id": "66f29d95",
   "metadata": {},
   "outputs": [],
   "source": [
    "# train_acc = train_acc.detach().cpu().numpy()\n",
    "train_alldata = pd.read_csv('/s/chopin/d/proj/ramfis-aida/MachineTranslationIPA/modelpredictedlogits_trainCNN_alldata.csv')\n",
    "test_alldata = pd.read_csv('/s/chopin/d/proj/ramfis-aida/MachineTranslationIPA/modelpredictedlogits_testCNN_alldata.csv')\n",
    "\n",
    "train_realdist = pd.read_csv('/s/chopin/d/proj/ramfis-aida/MachineTranslationIPA/modelpredictedlogits_trainCNN_realdist.csv')\n",
    "test_realdist = pd.read_csv('/s/chopin/d/proj/ramfis-aida/MachineTranslationIPA/modelpredictedlogits_testCNN_realdist.csv')\n",
    "\n",
    "train_balanced = pd.read_csv('/s/chopin/d/proj/ramfis-aida/MachineTranslationIPA/modelpredictedlogits_trainCNN_balanced.csv')\n",
    "test_balanced = pd.read_csv('/s/chopin/d/proj/ramfis-aida/MachineTranslationIPA/modelpredictedlogits_testCNN_balanced.csv')"
   ]
  },
  {
   "cell_type": "code",
   "execution_count": 55,
   "id": "08a38e3b",
   "metadata": {},
   "outputs": [],
   "source": [
    "train_alldata['DNNlogits_modelpredicted'] = train_logits_dnn_alldata\n",
    "test_alldata['DNNlogits_modelpredicted'] = test_logits_dnn_alldata\n",
    "\n",
    "train_realdist['DNNlogits_modelpredicted'] = train_logits_dnn_realdist\n",
    "test_realdist['DNNlogits_modelpredicted'] = test_logits_dnn_realdist\n",
    "\n",
    "train_balanced['DNNlogits_modelpredicted'] = train_logits_dnn_balanced\n",
    "test_balanced['DNNlogits_modelpredicted'] = test_logits_dnn_balanced\n",
    "\n"
   ]
  },
  {
   "cell_type": "code",
   "execution_count": 58,
   "id": "11b87a4b",
   "metadata": {},
   "outputs": [],
   "source": [
    "train_alldata.to_csv('modelpredictedlogits_trainCNN_DNN_alldata.csv')\n",
    "test_alldata.to_csv('modelpredictedlogits_testCNN_DNN_alldata.csv')\n",
    "\n",
    "train_realdist.to_csv('modelpredictedlogits_trainCNN_DNN_realdist.csv')\n",
    "test_realdist.to_csv('modelpredictedlogits_testCNN_DNN_realdist.csv')\n",
    "\n",
    "train_balanced.to_csv('modelpredictedlogits_trainCNN_DNN_balanced.csv')\n",
    "test_balanced.to_csv('modelpredictedlogits_testCNN_DNN_balanced.csv')\n"
   ]
  },
  {
   "cell_type": "code",
   "execution_count": 34,
   "id": "95712e4b",
   "metadata": {},
   "outputs": [
    {
     "data": {
      "image/png": "[encoded data removed]",
      "text/plain": [
       "<Figure size 432x288 with 1 Axes>"
      ]
     },
     "metadata": {
      "needs_background": "light"
     },
     "output_type": "display_data"
    },
    {
     "data": {
      "image/png": "[encoded data removed]",
      "text/plain": [
       "<Figure size 432x288 with 1 Axes>"
      ]
     },
     "metadata": {
      "needs_background": "light"
     },
     "output_type": "display_data"
    }
   ],
   "source": [
    "import matplotlib.pyplot as plt\n",
    "\n",
    "epochs = range(1, len(train_accur) + 1)\n",
    "\n",
    "plt.plot(epochs, train_accur, 'bo', label='Training acc')\n",
    "plt.plot(epochs, val_accur, 'b', label='testing accuracy')\n",
    "plt.title('Training and validation accuracy')\n",
    "plt.legend()\n",
    "\n",
    "plt.figure()\n",
    "\n",
    "plt.plot(epochs, train_losses, 'bo', label='Training loss')\n",
    "plt.plot(epochs, val_losses, 'b', label='test loss')\n",
    "plt.title('Training and validation loss')\n",
    "plt.legend()\n",
    "\n",
    "plt.show()"
   ]
  },
  {
   "cell_type": "code",
   "execution_count": null,
   "id": "bc946096",
   "metadata": {},
   "outputs": [],
   "source": [
    "train_acc"
   ]
  },
  {
   "cell_type": "code",
   "execution_count": null,
   "id": "c1abd18f",
   "metadata": {},
   "outputs": [],
   "source": [
    "logits.shape"
   ]
  },
  {
   "cell_type": "code",
   "execution_count": 35,
   "id": "34a08344",
   "metadata": {},
   "outputs": [],
   "source": [
    "train_logits = train_logits.detach().cpu().numpy()\n",
    "test_logits = test_logits.detach().cpu().numpy()"
   ]
  },
  {
   "cell_type": "code",
   "execution_count": 36,
   "id": "39b2c32d",
   "metadata": {},
   "outputs": [
    {
     "data": {
      "image/png": "[encoded data removed]",
      "text/plain": [
       "<Figure size 432x288 with 1 Axes>"
      ]
     },
     "metadata": {
      "needs_background": "light"
     },
     "output_type": "display_data"
    }
   ],
   "source": [
    "plt.plot(test_logits)\n",
    "plt.show()"
   ]
  },
  {
   "cell_type": "code",
   "execution_count": null,
   "id": "bd0983ae",
   "metadata": {},
   "outputs": [],
   "source": [
    "# x_coordinate = [ 25 * i for i in range(len(logits_new)) ]\n",
    "# plt.plot(x_coordinate,logits_new)\n",
    "# plt.show()"
   ]
  },
  {
   "cell_type": "code",
   "execution_count": 37,
   "id": "3b188b7d",
   "metadata": {},
   "outputs": [
    {
     "data": {
      "text/plain": [
       "(-35.16361, 4.748599, -6.883185)"
      ]
     },
     "execution_count": 37,
     "metadata": {},
     "output_type": "execute_result"
    }
   ],
   "source": [
    "np.min(test_logits), np.max(test_logits),np.mean(test_logits)"
   ]
  },
  {
   "cell_type": "code",
   "execution_count": null,
   "id": "3374f08b",
   "metadata": {},
   "outputs": [],
   "source": [
    "#train_logits = train_logits.detach().cpu().numpy()\n",
    "plt.plot(train_logits[:1200])\n",
    "plt.show()"
   ]
  },
  {
   "cell_type": "code",
   "execution_count": null,
   "id": "bf11f041",
   "metadata": {},
   "outputs": [],
   "source": [
    "np.min(train_logits), np.max(train_logits),np.mean(train_logits)"
   ]
  },
  {
   "cell_type": "code",
   "execution_count": null,
   "id": "9b5705c4",
   "metadata": {},
   "outputs": [],
   "source": [
    "#url_train_logits = 'https://raw.githubusercontent.com/csu-signal/loan-word-detection/main/Datasets/production_train_test/real_distribution/train_withlogits_realdist.csv'\n",
    "url_train_logits = 'https://raw.githubusercontent.com/csu-signal/loan-word-detection/main/Datasets/production_train_test/alldata/train_withlogits_alldata.csv'\n",
    "#url_test_logits = 'https://raw.githubusercontent.com/csu-signal/loan-word-detection/main/Datasets/production_train_test/real_distribution/test_withlogits_realdist.csv'\n",
    "\n",
    "url_test_logits = 'https://raw.githubusercontent.com/csu-signal/loan-word-detection/main/Datasets/production_train_test/alldata/test_withlogits_alldata.csv'\n",
    "\n",
    "\n",
    "url_train_logits = requests.get(url_train_logits).content\n",
    "url_test_logits = requests.get(url_test_logits).content\n",
    "train=pd.read_csv(io.StringIO(url_train_logits.decode('utf-8')))\n",
    "test = pd.read_csv(io.StringIO(url_test_logits.decode('utf-8')))"
   ]
  },
  {
   "cell_type": "code",
   "execution_count": null,
   "id": "eb2a4928",
   "metadata": {},
   "outputs": [],
   "source": [
    "train.shape, test.shape"
   ]
  },
  {
   "cell_type": "code",
   "execution_count": null,
   "id": "72ca9fec",
   "metadata": {},
   "outputs": [],
   "source": [
    "train['predicted_DNN_logits'] = train_logits"
   ]
  },
  {
   "cell_type": "code",
   "execution_count": null,
   "id": "fba61c44",
   "metadata": {},
   "outputs": [],
   "source": [
    "test['predicted_DNN_logits'] = test_logits"
   ]
  },
  {
   "cell_type": "code",
   "execution_count": null,
   "id": "4a3abd52",
   "metadata": {},
   "outputs": [],
   "source": [
    "test.to_csv('modelpredictedlogits_test.csv')\n",
    "train.to_csv('modelpredictedlogits_train.csv')\n"
   ]
  },
  {
   "cell_type": "markdown",
   "id": "b6f6347a",
   "metadata": {},
   "source": [
    "# now get the predicted logits for train-test from CNNS"
   ]
  },
  {
   "cell_type": "code",
   "execution_count": null,
   "id": "012a9266",
   "metadata": {},
   "outputs": [],
   "source": [
    "X_train = x_train_alldata[:,0:1056]\n",
    "Y_train = x_train_alldata[:,1056] \n",
    " \n",
    "X_test =  x_test_alldata[:,0:960]\n",
    "Y_test =  x_test_alldata[:,960] "
   ]
  },
  {
   "cell_type": "code",
   "execution_count": null,
   "id": "f827ea24",
   "metadata": {},
   "outputs": [],
   "source": [
    "#create train and validation splits for proper model training while keeping the composition of labels balanced between them using a random state '1 '\n",
    "\n",
    "X_train, X_val, Y_train, Y_val = train_test_split(X_train, Y_train, test_size=0.2, random_state=1, stratify=Y_train)"
   ]
  },
  {
   "cell_type": "code",
   "execution_count": null,
   "id": "7427f4c6",
   "metadata": {},
   "outputs": [],
   "source": [
    "# convert them to torch tensors for padding\n",
    "X_train = torch.tensor(X_train).to(device)\n",
    "Y_train = torch.tensor(Y_train).to(device).reshape((-1,1))\n",
    "\n",
    "X_test= torch.tensor(X_test).to(device)\n",
    "Y_test = torch.tensor(Y_test).to(device).reshape((-1,1))\n",
    "\n",
    "X_val= torch.tensor(X_val).to(device)\n",
    "Y_val = torch.tensor(Y_val).to(device).reshape((-1,1))\n"
   ]
  },
  {
   "cell_type": "code",
   "execution_count": null,
   "id": "eed411f2",
   "metadata": {},
   "outputs": [],
   "source": [
    "\n",
    "X_train.shape, X_val.shape"
   ]
  },
  {
   "cell_type": "code",
   "execution_count": null,
   "id": "340c82b2",
   "metadata": {},
   "outputs": [],
   "source": [
    "#X_train_CNN = F.pad(X_train,pad =(0, 1089-X_train.shape[1]), value=0)\n",
    "#X_train_CNN = F.pad(X_train,pad =(0, 900-X_train.shape[1]), value=0)  # 900 is closest perfect square to 864 for real dist train set\n",
    "#X_train_CNN = F.pad(X_train,pad =(0, 841-X_train.shape[1]), value=0)  # 841 is closest perfect square to 840 for balanced train set\n",
    "X_train_CNN = F.pad(X_train,pad =(0, 1089-X_train.shape[1]), value=0) #for cnns and for predicting with trained model , perfect sq is 1089 closest to 1056\n",
    "Y_train_CNN = Y_train\n",
    "X_val_CNN = F.pad(X_val,pad =(0, 1089-X_val.shape[1]), value=0) #validatin set: for cnns and for predicting with trained model , perfect sq is 1089 closest to 1056\n",
    "Y_val_CNN = Y_val\n",
    "#X_test_CNN = F.pad(X_test,pad =(0, 900-X_test.shape[1]), value=0)\n",
    "#X_test_CNN = F.pad(X_test,pad =(0, 961-X_test.shape[1]), value=0) #for alldata test set, 961 because perfect square of 31 is 961 which is closest to 960 i.e our original concatenated panphon feature dimension \n",
    "#X_test_CNN = F.pad(X_test,pad =(0, 784-X_test.shape[1]), value=0) #for real dist test set and balanced test set, 784 because perfect square of 28 is 784 which is closest to 768 i.e our original concatenated panphon feature dimension\n",
    "\n",
    "X_test_CNN = F.pad(X_test,pad =(0, 1089-X_test.shape[1]), value=0) #for all data and with trained model prediction for logits, 1809 closes to 1056\n",
    "Y_test_CNN = Y_test"
   ]
  },
  {
   "cell_type": "code",
   "execution_count": null,
   "id": "dacd1050",
   "metadata": {},
   "outputs": [],
   "source": [
    "X_train.shape, Y_train.shape, X_test.shape, Y_test.shape"
   ]
  },
  {
   "cell_type": "code",
   "execution_count": null,
   "id": "54d9f58a",
   "metadata": {},
   "outputs": [],
   "source": [
    "X_train_CNN.shape, Y_train_CNN.shape, X_test_CNN.shape, Y_test_CNN.shape, X_val_CNN.shape, Y_val_CNN.shape"
   ]
  },
  {
   "cell_type": "code",
   "execution_count": null,
   "id": "266b4a74",
   "metadata": {},
   "outputs": [],
   "source": [
    "class CCN_Net(nn.Module):\n",
    "    def __init__(self):\n",
    "        super().__init__() # just run the init of parent class (nn.Module)\n",
    "        self.conv1 = nn.Conv2d(1, 32, 2) # input is 1 image, 32 output channels, 2X2 kernel / window\n",
    "        self.conv2 = nn.Conv2d(32, 64, 2) # input is 32, bc the first layer output 32. Then we say the output will be 64 channels, 5x5 kernel / window\n",
    "        self.conv3 = nn.Conv2d(64, 128,2)\n",
    "        \n",
    "\n",
    "        #x = torch.randn(23,23).view(-1,1,23,23)\n",
    "        #x = torch.randn(33,33).view(-1,1,33,33) #33 because its the square root of 1089\n",
    "        #x = torch.randn(30,30).view(-1,1,30,30) #30 because its the square root of 900 for real dist train set\n",
    "        #x = torch.randn(29,29).view(-1,1,29,29) #29 because its the square root of 841 for balanced train set\n",
    "        x = torch.randn(33,33).view(-1,1,33,33) # for trained model logit prediction, for all data, 1089 is sq of 33\n",
    "        self._to_linear = None\n",
    "        self.convs(x)\n",
    "\n",
    "        self.fc1 = nn.Linear(self._to_linear, 512) #flattening.\n",
    "        self.fc2 = nn.Linear(512, 1) # 512 in, 2 out bc we're doing 2 classes (dog vs cat).\n",
    "        self.dropout = nn.Dropout(0.2)\n",
    "\n",
    "    def convs(self, x):\n",
    "        # max pooling over 2x2\n",
    "        x = F.max_pool2d(F.tanh(self.conv1(x)), (2, 2))\n",
    "        x = F.max_pool2d(F.tanh(self.conv2(x)), (2, 2))\n",
    "        x = F.max_pool2d(F.tanh(self.conv3(x)), (2, 2))\n",
    "#         x = F.max_pool2d(F.relu(self.conv1(x)), (2, 2))\n",
    "#         x = F.max_pool2d(F.relu(self.conv2(x)), (2, 2))\n",
    "#         x = F.max_pool2d(F.relu(self.conv3(x)), (2, 2))\n",
    "        \n",
    "\n",
    "        if self._to_linear is None:\n",
    "            self._to_linear = x[0].shape[0]*x[0].shape[1]*x[0].shape[2]\n",
    "        return x\n",
    "\n",
    "    def forward(self, x):\n",
    "        x = self.convs(x)\n",
    "        x = x.view(-1, self._to_linear)  # .view is reshape ... this flattens X before \n",
    "        x = self.dropout(x)\n",
    "        x = F.tanh(self.fc1(x))\n",
    "        #x = F.relu(self.fc1(x))\n",
    "        x = self.dropout(x)\n",
    "        x = self.fc2(x) # bc this is our output layer. No activation here.\n",
    "        return F.sigmoid(x), x, #comment it out to get the logits in the return statement \n",
    "        #return x\n",
    "                         \n",
    "\n",
    "\n",
    "CNN_Net = CCN_Net() \n",
    "CNN_Net= nn.DataParallel(CNN_Net)\n",
    "CNN_Net.to(device)\n",
    "print(CNN_Net)"
   ]
  },
  {
   "cell_type": "code",
   "execution_count": null,
   "id": "b8767b13",
   "metadata": {},
   "outputs": [],
   "source": [
    "CNN_Net"
   ]
  },
  {
   "cell_type": "code",
   "execution_count": null,
   "id": "f9c4c15c",
   "metadata": {},
   "outputs": [],
   "source": [
    "#X_train = torch.tensor(X_train).view(-1,23,23).to(device)\n",
    "#X_train_CNN = torch.tensor(X_train_CNN).view(-1,33,33).to(device)\n",
    "#X_train_CNN = torch.tensor(X_train_CNN).view(-1,30,30).to(device) #30 for real dist train set w/o trained model predicting\n",
    "#X_train_CNN = torch.tensor(X_train_CNN).view(-1,29,29).to(device) #29 for balanced train set w/o trained model predicting\n",
    "\n",
    "X_train_CNN = torch.tensor(X_train_CNN).view(-1,33,33).to(device) #33 for all data trainset with trained model predicting\n",
    "X_val_CNN = torch.tensor(X_val_CNN).view(-1,33,33).to(device) # for model predict, val set as above\n",
    "X_test_CNN = torch.tensor(X_test_CNN).view(-1,33,33).to(device) # for model predict test set as above\n",
    "#X_train = torch.tensor(X_train).to(device)\n",
    "#Y_train = torch.tensor(Y_train).to(device)\n",
    "Y_train_CNN = torch.tensor(Y_train_CNN).to(device)\n",
    "Y_val_CNN = torch.tensor(Y_val_CNN).to(device)\n",
    "Y_test_CNN = torch.tensor(Y_test_CNN).to(device)\n",
    "\n",
    "#X_test = torch.tensor(X_test).view(-1,23,23).to(device)"
   ]
  },
  {
   "cell_type": "code",
   "execution_count": null,
   "id": "11b48324",
   "metadata": {},
   "outputs": [],
   "source": [
    "X_train_CNN.shape, Y_train_CNN.shape, X_test_CNN.shape, Y_test_CNN.shape, X_val_CNN.shape, Y_val_CNN.shape\n",
    "Y_train_CNN\n",
    "sum(Y_train_CNN ==1)"
   ]
  },
  {
   "cell_type": "code",
   "execution_count": null,
   "id": "3ead32bb",
   "metadata": {},
   "outputs": [],
   "source": [
    "#optimizer = optim.Adam(CNN_Net.parameters(), lr=0.01)\n",
    "optimizer = optim.SGD(CNN_Net.parameters(),lr=0.001, momentum=0.0,  weight_decay=0.0, nesterov=False)\n",
    "#optimizer = torch.optim.RMSprop(CNN_Net.parameters(), lr=0.00001, alpha=0.99, eps=1e-08, weight_decay=0, momentum=0, centered=False)\n",
    "#loss_function = nn.MSELoss()\n",
    "scheduler1 = optim.lr_scheduler.ExponentialLR(optimizer, gamma=0.9)\n",
    "loss_function = nn.BCELoss().to(device)"
   ]
  },
  {
   "cell_type": "code",
   "execution_count": null,
   "id": "f26bef86",
   "metadata": {},
   "outputs": [],
   "source": [
    "from tqdm import tqdm"
   ]
  },
  {
   "cell_type": "code",
   "execution_count": null,
   "id": "54d26b30",
   "metadata": {},
   "outputs": [],
   "source": [
    "torch.cuda.empty_cache()"
   ]
  },
  {
   "cell_type": "code",
   "execution_count": null,
   "id": "d727c412",
   "metadata": {},
   "outputs": [],
   "source": [
    "X_val_CNN= X_val_CNN.unsqueeze(1) #just do it once \n",
    "X_test_CNN = X_test_CNN .unsqueeze(1)"
   ]
  },
  {
   "cell_type": "code",
   "execution_count": null,
   "id": "d0cb8ef4",
   "metadata": {},
   "outputs": [],
   "source": [
    "# sets the seed manually to 42\n",
    "torch.manual_seed(42)\n",
    "# a = X_val_CNN[torch.randint(len(X_val_CNN), (120,))]  \n",
    "# # b = Y_val_CNN[torch.randint(len(X_val_CNN), (120,))]  \n",
    "# # a.shape\n",
    "# b\n",
    "\n",
    "# "
   ]
  },
  {
   "cell_type": "code",
   "execution_count": null,
   "id": "9538fad7",
   "metadata": {},
   "outputs": [],
   "source": [
    "torch.initial_seed()"
   ]
  },
  {
   "cell_type": "code",
   "execution_count": null,
   "id": "ea985a1b",
   "metadata": {},
   "outputs": [],
   "source": [
    "#train for 10000 epochs and get the logits \n",
    "val_losses = []\n",
    "train_losses = []\n",
    "val_accur = []\n",
    "train_accur = []\n",
    "train_losses_batch = []\n",
    "logits = []\n",
    "BATCH_SIZE = 512\n",
    "for epoch in range(50):\n",
    "    for i in tqdm(range(0, len(X_train_CNN), BATCH_SIZE)):\n",
    "        batch_X = X_train_CNN[i:i+BATCH_SIZE].view(-1, 1, 33,33)  \n",
    "        #batch_X = X_train_CNN.view(-1, 1, 29,29)  \n",
    "        batch_y = Y_train_CNN[i:i+BATCH_SIZE]\n",
    "        \n",
    "        \n",
    "\n",
    "        #X_train_CNN = X_train_CNN.view(-1, 1, 33,33) # for balanced train set\n",
    "        CNN_Net.zero_grad()\n",
    "        \n",
    "        y_pred = CNN_Net(batch_X .float())[0]\n",
    "        #print(y_pred)\n",
    "        logits = CNN_Net(batch_X.float())[1]\n",
    "        #getting logits for test set \n",
    "    #     y_pred = model(X_test.float())[0]\n",
    "    #     logits = model(X_test.float())[1]\n",
    "        #y_pred = model(X_train) \n",
    "        #print(y_pred)\n",
    "\n",
    "        #y_pred = torch.squeeze(y_pred)\n",
    "        train_loss = loss_function(y_pred, batch_y.float())\n",
    "\n",
    "        #test_loss = criterion(y_pred, Y_test.float())\n",
    "        #train_loss = criterion(y_pred, Y_train)\n",
    "        train_losses.append(train_loss)\n",
    "        if epoch % 5 == 0:\n",
    "            with torch.no_grad():\n",
    "                CNN_Net.eval()\n",
    "\n",
    "                val_batch_X = X_val_CNN[torch.randint(len(X_val_CNN), (BATCH_SIZE,))] \n",
    "                val_batch_Y = Y_val_CNN[torch.randint(len(X_val_CNN), (BATCH_SIZE,))] \n",
    "\n",
    "                train_acc,_ = calculate_accuracy(batch_y, y_pred)\n",
    "                #X_val_CNN= X_val_CNN.unsqueeze(1) don't do it here, it will keep adding a channel dimension every time the for loop operates\n",
    "                y_val_pred = CNN_Net(val_batch_X.float())[0]\n",
    "                #print(y_val_pred)\n",
    "                #y_test_pred = torch.squeeze(y_test_pred)\n",
    "\n",
    "\n",
    "                val_loss = loss_function(y_val_pred, val_batch_Y.float())\n",
    "\n",
    "                val_acc, total_corr = calculate_accuracy(val_batch_Y, y_val_pred)\n",
    "                #print(total_corr)\n",
    "\n",
    "                print(f'''epoch {epoch}Train set - loss: {round_tensor(train_loss)}, accuracy: {round_tensor(train_acc)}Val  set - loss: {round_tensor(val_loss)}, Val accuracy: {round_tensor(val_acc)}\n",
    "        ''')\n",
    "                #print(f'''epoch {epoch}Train set - loss: {round_tensor(train_loss)} ''')\n",
    "                #print(f'''epoch {epoch}Test set - loss: {round_tensor(test_loss)} ''')\n",
    "                train_losses_batch.append(train_loss)\n",
    "                val_losses.append(val_loss)\n",
    "\n",
    "                val_accur.append(val_acc)\n",
    "                train_accur.append(train_acc)\n",
    "\n",
    "        optimizer.zero_grad()\n",
    "\n",
    "        train_loss.backward()\n",
    "        #test_loss.backward()\n",
    "\n",
    "        optimizer.step()\n",
    "    scheduler1.step()"
   ]
  },
  {
   "cell_type": "code",
   "execution_count": null,
   "id": "0cb342ec",
   "metadata": {},
   "outputs": [],
   "source": [
    "len(train_accur)\n",
    "plt.plot(train_losses)\n",
    "\n",
    "plt.plot(train_losses)\n",
    "len(train_accur)"
   ]
  },
  {
   "cell_type": "code",
   "execution_count": null,
   "id": "d10738be",
   "metadata": {},
   "outputs": [],
   "source": [
    "import matplotlib.pyplot as plt\n",
    "\n",
    "epochs = range(1, len(train_accur) + 1)\n",
    "\n",
    "plt.plot(epochs, train_accur, 'bo', label='Training acc')\n",
    "plt.plot(epochs, val_accur, 'b', label='vaidation acc')\n",
    "plt.title('Training and validation accuracy')\n",
    "plt.legend()\n",
    "\n",
    "plt.figure()\n",
    "\n",
    "plt.plot(epochs, train_losses_batch, 'bo', label='Training loss every epoch multiple of 5')\n",
    "plt.plot(epochs, val_losses, 'b', label='validation loss')\n",
    "plt.title('Training and validation loss')\n",
    "plt.legend()\n",
    "\n",
    "plt.show()"
   ]
  },
  {
   "cell_type": "code",
   "execution_count": null,
   "id": "27d66069",
   "metadata": {},
   "outputs": [],
   "source": [
    "torch.save(CNN_Net, '/s/chopin/d/proj/ramfis-aida/MachineTranslationIPA/logits_CNNmodel/logits_cnn_model')"
   ]
  },
  {
   "cell_type": "code",
   "execution_count": null,
   "id": "9174dba6",
   "metadata": {},
   "outputs": [],
   "source": [
    "CNN_Net"
   ]
  },
  {
   "cell_type": "code",
   "execution_count": null,
   "id": "7018a14a",
   "metadata": {},
   "outputs": [],
   "source": [
    "cnn_model = torch.load('/s/chopin/d/proj/ramfis-aida/MachineTranslationIPA/logits_CNNmodel/logits_cnn_model')"
   ]
  },
  {
   "cell_type": "code",
   "execution_count": null,
   "id": "bb254828",
   "metadata": {},
   "outputs": [],
   "source": [
    "cnn_model.state_dict()"
   ]
  },
  {
   "cell_type": "code",
   "execution_count": null,
   "id": "1bafe47f",
   "metadata": {},
   "outputs": [],
   "source": [
    "X_train_CNN.view(-1, 1, 33,33)  \n",
    "\n"
   ]
  },
  {
   "cell_type": "markdown",
   "id": "6df5e012",
   "metadata": {},
   "source": [
    "# Inference phase for all three train-test splits using cnn model that was trained using the whole dataset, pad all three sets to suit the dimensions of the cnn trained model for inference and call model.eval"
   ]
  },
  {
   "cell_type": "code",
   "execution_count": null,
   "id": "cc76da28",
   "metadata": {},
   "outputs": [],
   "source": [
    "x_train_alldata.shape, x_test_alldata.shape,x_train_realdist.shape, x_test_realdist.shape, x_train_balanced.shape,  x_test_balanced.shape"
   ]
  },
  {
   "cell_type": "markdown",
   "id": "c8213733",
   "metadata": {},
   "source": [
    "# get base train and test sets for all three types of train test splits, one by one "
   ]
  },
  {
   "cell_type": "code",
   "execution_count": null,
   "id": "1e7437c7",
   "metadata": {},
   "outputs": [],
   "source": [
    "\n",
    "# get base train and test sets for all three types of train test splits, one by one \n",
    "\n",
    "#  1 - all data set\n",
    "X_train_alldata_cnn = x_train_alldata[:,0:1056]\n",
    " \n",
    "X_test_alldata_cnn = x_test_alldata[:,0:960]\n",
    " \n",
    "X_train_alldata_cnn = torch.tensor(X_train_alldata_cnn).to(device)\n",
    "X_test_alldata_cnn = torch.tensor(X_test_alldata_cnn).to(device)\n",
    "\n",
    "\n",
    "# 2- real distribution set\n",
    "X_train_realdist_cnn = x_train_realdist[:,0:864]\n",
    "X_test_realdist_cnn = x_test_realdist[:,0:768]\n",
    " \n",
    "X_train_realdist_cnn = torch.tensor(X_train_realdist_cnn).to(device)\n",
    "X_test_realdist_cnn = torch.tensor(X_test_realdist_cnn).to(device)\n",
    "\n",
    "\n",
    "# 3 - balanced dataset splits \n",
    "\n",
    "X_train_balanced_cnn = x_train_balanced[:,0:840]\n",
    "X_test_balanced_cnn = x_test_balanced[:,0:768]\n",
    " \n",
    "X_train_balanced_cnn = torch.tensor(X_train_balanced_cnn).to(device)\n",
    "X_test_balanced_cnn = torch.tensor(X_test_balanced_cnn).to(device)\n",
    "\n",
    "# pad for inference, for all three train and test splits \n",
    " \n",
    "    \n",
    "X_train_alldata_cnn = F.pad(X_train_alldata_cnn,pad =(0, 1089-X_train_alldata_cnn.shape[1]), value=0) #for cnns and for predicting with trained model , perfect sq is 1089 closest to 1056\n",
    "X_test_alldata_cnn = F.pad(X_test_alldata_cnn,pad =(0, 1089-X_test_alldata_cnn.shape[1]), value=0) #for all data and with trained model prediction for logits, 1809 closes to 1056\n",
    " \n",
    "X_train_realdist_cnn = F.pad(X_train_realdist_cnn,pad =(0, 1089-X_train_realdist_cnn.shape[1]), value=0)\n",
    "X_test_realdist_cnn = F.pad(X_test_realdist_cnn,pad =(0, 1089-X_test_realdist_cnn.shape[1]), value=0)\n",
    "\n",
    "X_train_balanced_cnn = F.pad(X_train_balanced_cnn,pad =(0, 1089-X_train_balanced_cnn.shape[1]), value=0)\n",
    "X_test_balanced_cnn = F.pad(X_test_balanced_cnn,pad =(0, 1089-X_test_balanced_cnn.shape[1]), value=0)\n",
    "\n",
    "\n",
    "\n",
    "\n"
   ]
  },
  {
   "cell_type": "code",
   "execution_count": null,
   "id": "148a5eaf",
   "metadata": {},
   "outputs": [],
   "source": [
    "# reshape these tensors into cnn dimensions for inference \n",
    "\n",
    "\n",
    "X_train_alldata_cnn = torch.tensor(X_train_alldata_cnn).view(-1,1,33,33).to(device) \n",
    " \n",
    "X_test_alldata_cnn = torch.tensor(X_test_alldata_cnn).view(-1,1, 33,33).to(device)  \n",
    "\n",
    "X_train_realdist_cnn = torch.tensor(X_train_realdist_cnn).view(-1,1, 33,33).to(device) \n",
    "\n",
    "X_test_realdist_cnn = torch.tensor(X_test_realdist_cnn).view(-1,1, 33,33).to(device) \n",
    "\n",
    "X_train_balanced_cnn = torch.tensor(X_train_balanced_cnn).view(-1,1, 33,33).to(device) \n",
    "\n",
    "X_test_balanced_cnn = torch.tensor(X_test_balanced_cnn).view(-1,1, 33,33).to(device) \n",
    "\n",
    "\n",
    "#X_train = torch.tensor(X_train).to(device)\n",
    "#Y_train = torch.tensor(Y_train).to(device)\n",
    "# Y_train_CNN = torch.tensor(Y_train_CNN).to(device)\n",
    "# Y_val_CNN = torch.tensor(Y_val_CNN).to(device)\n",
    "# Y_test_CNN = torch.tensor(Y_test_CNN).to(device)"
   ]
  },
  {
   "cell_type": "code",
   "execution_count": null,
   "id": "4e0e285a",
   "metadata": {},
   "outputs": [],
   "source": [
    "X_train_alldata_cnn.shape, X_test_alldata_cnn.shape, X_train_realdist_cnn.shape, X_test_realdist_cnn.shape, X_train_balanced_cnn.shape,X_test_balanced_cnn.shape\n",
    " \n",
    " "
   ]
  },
  {
   "cell_type": "code",
   "execution_count": null,
   "id": "0d893302",
   "metadata": {},
   "outputs": [],
   "source": []
  },
  {
   "cell_type": "code",
   "execution_count": null,
   "id": "a0f6a56f",
   "metadata": {},
   "outputs": [],
   "source": []
  },
  {
   "cell_type": "code",
   "execution_count": null,
   "id": "535d9b61",
   "metadata": {},
   "outputs": [],
   "source": []
  },
  {
   "cell_type": "code",
   "execution_count": null,
   "id": "ec1120da",
   "metadata": {},
   "outputs": [],
   "source": [
    "# use the trained CNN model to get logits for the three different splits\n",
    "\n",
    "cnn_model.eval()\n",
    "\n",
    "with torch.no_grad():\n",
    "    train_logits_cnn_alldata = cnn_model(X_train_alldata_cnn.float())[1]\n",
    "    test_logits_cnn_alldata = cnn_model( X_test_alldata_cnn.float())[1]\n",
    "    \n",
    "    train_logits_cnn_realdist = cnn_model(X_train_realdist_cnn.float())[1]\n",
    "    test_logits_cnn_realdist = cnn_model( X_test_realdist_cnn.float())[1]\n",
    "    \n",
    "    train_logits_cnn_balanced = cnn_model(X_train_balanced_cnn.float())[1]\n",
    "    test_logits_cnn_balanced = cnn_model( X_test_balanced_cnn.float())[1]\n",
    "    \n"
   ]
  },
  {
   "cell_type": "code",
   "execution_count": null,
   "id": "e86bb77a",
   "metadata": {},
   "outputs": [],
   "source": [
    "train_logits_cnn_alldata = train_logits_cnn_alldata.detach().cpu().numpy()\n",
    "test_logits_cnn_alldata = test_logits_cnn_alldata.detach().cpu().numpy()\n",
    "\n",
    "train_logits_cnn_realdist = train_logits_cnn_realdist.detach().cpu().numpy()\n",
    "test_logits_cnn_realdist = test_logits_cnn_realdist.detach().cpu().numpy()\n",
    "\n",
    "train_logits_cnn_balanced = train_logits_cnn_balanced.detach().cpu().numpy()\n",
    "test_logits_cnn_balanced = test_logits_cnn_balanced.detach().cpu().numpy()\n",
    "\n"
   ]
  },
  {
   "cell_type": "code",
   "execution_count": null,
   "id": "6d6af86f",
   "metadata": {},
   "outputs": [],
   "source": [
    "len(train_logits_cnn_alldata), len(test_logits_cnn_alldata), len(train_logits_cnn_realdist), len(test_logits_cnn_realdist),train_logits_cnn_balanced.shape, test_logits_cnn_balanced.shape"
   ]
  },
  {
   "cell_type": "code",
   "execution_count": null,
   "id": "49acf27c",
   "metadata": {},
   "outputs": [],
   "source": [
    "plt.plot(train_logits_cnn_balanced)\n",
    "plt.plot(test_logits_cnn_balanced)\n",
    "\n"
   ]
  },
  {
   "cell_type": "code",
   "execution_count": null,
   "id": "73fbed72",
   "metadata": {},
   "outputs": [],
   "source": [
    "#url_train_logits = 'https://raw.githubusercontent.com/csu-signal/loan-word-detection/main/Datasets/production_train_test/real_distribution/train_withlogits_realdist.csv'\n",
    "url_train_logits = 'https://raw.githubusercontent.com/csu-signal/loan-word-detection/main/Datasets/production_train_test/balanced_splits/train_withlogits_balanced.csv'\n",
    "#url_train_logits = 'https://raw.githubusercontent.com/csu-signal/loan-word-detection/main/Datasets/production_train_test/alldata/train_withlogits_alldata.csv'\n",
    "#url_test_logits = 'https://raw.githubusercontent.com/csu-signal/loan-word-detection/main/Datasets/production_train_test/real_distribution/test_withlogits_realdist.csv'\n",
    "url_test_logits = 'https://raw.githubusercontent.com/csu-signal/loan-word-detection/main/Datasets/production_train_test/balanced_splits/test_withlogits_balanced.csv'\n",
    "\n",
    "#url_test_logits = 'https://raw.githubusercontent.com/csu-signal/loan-word-detection/main/Datasets/production_train_test/alldata/test_withlogits_alldata.csv'\n",
    "\n",
    "\n",
    "url_train_logits = requests.get(url_train_logits).content\n",
    "url_test_logits = requests.get(url_test_logits).content\n",
    "# train_alldata=pd.read_csv(io.StringIO(url_train_logits.decode('utf-8')))\n",
    "# test_alldata = pd.read_csv(io.StringIO(url_test_logits.decode('utf-8')))\n",
    "\n",
    "# train_realdist=pd.read_csv(io.StringIO(url_train_logits.decode('utf-8')))\n",
    "# test_realdist = pd.read_csv(io.StringIO(url_test_logits.decode('utf-8')))\n",
    "\n",
    "train_balanced=pd.read_csv(io.StringIO(url_train_logits.decode('utf-8')))\n",
    "test_balanced = pd.read_csv(io.StringIO(url_test_logits.decode('utf-8')))"
   ]
  },
  {
   "cell_type": "code",
   "execution_count": null,
   "id": "617608c4",
   "metadata": {},
   "outputs": [],
   "source": [
    "test_balanced.shape"
   ]
  },
  {
   "cell_type": "code",
   "execution_count": null,
   "id": "482dedb7",
   "metadata": {},
   "outputs": [],
   "source": [
    "# train_alldata['CNNlogits_modelpredicted'] = train_logits_cnn_alldata\n",
    "# test_alldata['CNNlogits_modelpredicted'] =  test_logits_cnn_alldata\n",
    "\n",
    "# train_realdist['CNNlogits_modelpredicted'] = train_logits_cnn_realdist\n",
    "# test_realdist['CNNlogits_modelpredicted'] =  test_logits_cnn_realdist\n",
    "\n",
    "train_balanced['CNNlogits_modelpredicted'] = train_logits_cnn_balanced\n",
    "test_balanced['CNNlogits_modelpredicted'] =  test_logits_cnn_balanced\n",
    "\n",
    "\n"
   ]
  },
  {
   "cell_type": "code",
   "execution_count": 48,
   "id": "0dcadfd8",
   "metadata": {},
   "outputs": [
    {
     "ename": "NameError",
     "evalue": "name 'train_realdist' is not defined",
     "output_type": "error",
     "traceback": [
      "\u001b[0;31m---------------------------------------------------------------------------\u001b[0m",
      "\u001b[0;31mNameError\u001b[0m                                 Traceback (most recent call last)",
      "\u001b[0;32m<ipython-input-48-0712f25073f9>\u001b[0m in \u001b[0;36m<module>\u001b[0;34m\u001b[0m\n\u001b[0;32m----> 1\u001b[0;31m \u001b[0mtrain_realdist\u001b[0m\u001b[0;34m.\u001b[0m\u001b[0mshape\u001b[0m\u001b[0;34m\u001b[0m\u001b[0;34m\u001b[0m\u001b[0m\n\u001b[0m",
      "\u001b[0;31mNameError\u001b[0m: name 'train_realdist' is not defined"
     ]
    }
   ],
   "source": [
    "train_realdist.shape"
   ]
  },
  {
   "cell_type": "code",
   "execution_count": null,
   "id": "f574b110",
   "metadata": {},
   "outputs": [],
   "source": [
    "# train_alldata.to_csv('modelpredictedlogits_trainCNN.csv')\n",
    "# test_alldata.to_csv('modelpredictedlogits_testCNN.csv')\n",
    "\n",
    "\n",
    "# train_realdist.to_csv('modelpredictedlogits_trainCNN_realdist.csv')\n",
    "# test_realdist.to_csv('modelpredictedlogits_testCNN_realdist.csv')\n",
    "\n",
    "train_balanced.to_csv('modelpredictedlogits_trainCNN_balanced.csv')\n",
    "test_balanced.to_csv('modelpredictedlogits_testCNN_balanced.csv')\n"
   ]
  },
  {
   "cell_type": "code",
   "execution_count": null,
   "id": "057326e5",
   "metadata": {},
   "outputs": [],
   "source": []
  },
  {
   "cell_type": "code",
   "execution_count": null,
   "id": "873da73f",
   "metadata": {},
   "outputs": [],
   "source": []
  },
  {
   "cell_type": "code",
   "execution_count": null,
   "id": "52e0eeb0",
   "metadata": {},
   "outputs": [],
   "source": []
  },
  {
   "cell_type": "code",
   "execution_count": null,
   "id": "e44a0b8f",
   "metadata": {},
   "outputs": [],
   "source": []
  },
  {
   "cell_type": "code",
   "execution_count": null,
   "id": "64c51672",
   "metadata": {},
   "outputs": [],
   "source": []
  },
  {
   "cell_type": "code",
   "execution_count": null,
   "id": "811d4e31",
   "metadata": {},
   "outputs": [],
   "source": []
  },
  {
   "cell_type": "code",
   "execution_count": null,
   "id": "218b5793",
   "metadata": {},
   "outputs": [],
   "source": [
    "loss_cnn_train = []\n",
    "#EPOCHS = 3000  # for the specific case of CNN logits real dist train set, in order for the train loss to converge, rest all were trained to 1000 epochs \n",
    "EPOCHS = 1000\n",
    "BATCH_SIZE = 120\n",
    "cnn_logits_lst = []\n",
    " \n",
    "for epoch in range(EPOCHS):\n",
    "    #for i in tqdm(range(0, len(X_train_CNN), BATCH_SIZE)):\n",
    "    #batch_X = X_train_CNN.view(-1, 1, 30,30) #for real dist \n",
    "    batch_X = X_train_CNN.view(-1, 1, 29,29) # for balanced train set\n",
    "    batch_y = Y_train_CNN\n",
    "\n",
    "\n",
    "    net.zero_grad()\n",
    "    outputs = net(batch_X.float())[0]\n",
    "    cnn_logits = net(batch_X.float())[1]\n",
    "    #cnn_logits_lst.extend(cnn_logits)\n",
    "    #print(outputs)\n",
    "    loss = loss_function(outputs,  batch_y.float().reshape((-1,1)))\n",
    "\n",
    "    loss.backward()\n",
    "    optimizer.step()\n",
    "    loss_cnn_train.append(loss)\n",
    "    if EPOCHS % 100 == 0:\n",
    "        print(f\"Epoch: {epoch}. Loss: {loss}\")"
   ]
  }
 ],
 "metadata": {
  "kernelspec": {
   "display_name": "Python 3 (ipykernel)",
   "language": "python",
   "name": "python3"
  },
  "language_info": {
   "codemirror_mode": {
    "name": "ipython",
    "version": 3
   },
   "file_extension": ".py",
   "mimetype": "text/x-python",
   "name": "python",
   "nbconvert_exporter": "python",
   "pygments_lexer": "ipython3",
   "version": "3.9.7"
  }
 },
 "nbformat": 4,
 "nbformat_minor": 5
}
