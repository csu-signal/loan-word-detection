{
 "cells": [
  {
   "cell_type": "markdown",
   "id": "36d900aa",
   "metadata": {},
   "source": [
    "Assumes you have run `Train_Testset.ipynb` first to make the `alldata`, `realdist`, and `balanced` train/test splits for the chosen language pair."
   ]
  },
  {
   "cell_type": "markdown",
   "id": "051a3a5e",
   "metadata": {},
   "source": [
    "# Imports and setup"
   ]
  },
  {
   "cell_type": "code",
   "execution_count": 1,
   "id": "091671b5",
   "metadata": {},
   "outputs": [],
   "source": [
    "import pandas as pd\n",
    "import numpy as np\n",
    "import matplotlib.pyplot as plt\n",
    "import seaborn as sns\n",
    "import json\n",
    "import panphon\n",
    "import panphon.distance\n",
    "import editdistance # levenshtein\n",
    "import epitran\n",
    "import eng_to_ipa as eng\n",
    "from epitran.backoff import Backoff\n",
    "from googletrans import Translator\n",
    "from sklearn.utils import shuffle\n",
    "from sklearn.linear_model import LogisticRegression\n",
    "epitran.download.cedict()"
   ]
  },
  {
   "cell_type": "code",
   "execution_count": 4,
   "id": "a4977c1f",
   "metadata": {},
   "outputs": [],
   "source": [
    "import torch\n",
    "import os\n",
    "import numpy as np\n",
    "import pandas as pd\n",
    "from tqdm import tqdm\n",
    "import seaborn as sns\n",
    "from pylab import rcParams\n",
    "import matplotlib.pyplot as plt\n",
    "from matplotlib import rc\n",
    "from sklearn.model_selection import train_test_split\n",
    "from sklearn.metrics import confusion_matrix, classification_report\n",
    "import os\n",
    "import torch\n",
    "from torch import nn\n",
    "from torch import nn, optim\n",
    "\n",
    "import torch.nn.functional as F\n",
    "\n",
    "%matplotlib inline"
   ]
  },
  {
   "cell_type": "code",
   "execution_count": 5,
   "id": "ed2ae9e8",
   "metadata": {},
   "outputs": [],
   "source": [
    "import sklearn as sk\n",
    "from sklearn.linear_model import LogisticRegression\n",
    "import pandas as pd \n",
    "import numpy as np \n",
    "import io\n",
    "import requests\n",
    "import csv"
   ]
  },
  {
   "cell_type": "code",
   "execution_count": 6,
   "id": "78b4fd0c",
   "metadata": {},
   "outputs": [
    {
     "name": "stdout",
     "output_type": "stream",
     "text": [
      "Using device: cpu\n",
      "\n"
     ]
    }
   ],
   "source": [
    "torch.cuda.empty_cache()\n",
    "device = torch.device('cuda' if torch.cuda.is_available() else 'cpu')\n",
    "print('Using device:', device)\n",
    "print()\n",
    "\n",
    "#Additional Info when using cuda\n",
    "if device.type == 'cuda':\n",
    "    print(torch.cuda.get_device_name(0))\n",
    "    print('Memory Usage:')\n",
    "    print('Allocated:', round(torch.cuda.memory_allocated(0)/1024**3,1), 'GB')\n",
    "    print('Cached:   ', round(torch.cuda.memory_reserved(0)/1024**3,1), 'GB')\n",
    "    \n",
    "#device = torch.device(\"cuda:0:3\" if torch.cuda.is_available() else \"cpu\") ## specify the GPU id's, GPU id's start from 0."
   ]
  },
  {
   "cell_type": "code",
   "execution_count": 323,
   "id": "80da282e",
   "metadata": {},
   "outputs": [],
   "source": [
    "if torch.cuda.is_available():\n",
    "    print(torch.cuda.get_device_name())"
   ]
  },
  {
   "cell_type": "markdown",
   "id": "963de5f8",
   "metadata": {},
   "source": [
    "## Load datasets"
   ]
  },
  {
   "cell_type": "code",
   "execution_count": 324,
   "id": "345241bc",
   "metadata": {},
   "outputs": [],
   "source": [
    "train_alldata = pd.read_csv('../Datasets/train_final_production_alldata.csv')\n",
    "test_alldata = pd.read_csv('../Datasets/test_final_production_alldata.csv')"
   ]
  },
  {
   "cell_type": "code",
   "execution_count": 325,
   "id": "6b808ddb",
   "metadata": {},
   "outputs": [],
   "source": [
    "train_realdist = pd.read_csv('../Datasets/train_final_production_realdist.csv')\n",
    "test_realdist = pd.read_csv('../Datasets/test_final_production_realdist.csv')"
   ]
  },
  {
   "cell_type": "code",
   "execution_count": 326,
   "id": "069e20be",
   "metadata": {},
   "outputs": [],
   "source": [
    "train_balanced = pd.read_csv('../Datasets/train_final_production_balanced.csv')\n",
    "test_balanced = pd.read_csv('../Datasets/test_final_production_balanced.csv')"
   ]
  },
  {
   "cell_type": "markdown",
   "id": "49a4051b",
   "metadata": {},
   "source": [
    "## Get Panphon phonetic features"
   ]
  },
  {
   "cell_type": "code",
   "execution_count": 327,
   "id": "42985f97",
   "metadata": {},
   "outputs": [],
   "source": [
    "#get phonetic features using panPhon\n",
    "ft = panphon.FeatureTable()"
   ]
  },
  {
   "cell_type": "code",
   "execution_count": 328,
   "id": "5e887590",
   "metadata": {},
   "outputs": [],
   "source": [
    "train_alldata['features_loan'] = train_alldata.apply(lambda x:ft.word_to_vector_list(x[\"loan_word_epitran\"],numeric=True ), axis=1)\n",
    "train_alldata['features_orig'] = train_alldata.apply(lambda x:ft.word_to_vector_list(x[\"original_word_epitran\"],numeric=True ), axis=1)\n",
    "test_alldata['features_loan'] = test_alldata.apply(lambda x:ft.word_to_vector_list(x[\"loan_word_epitran\"],numeric=True ), axis=1)\n",
    "test_alldata['features_orig'] = test_alldata.apply(lambda x:ft.word_to_vector_list(x[\"original_word_epitran\"],numeric=True ), axis=1)\n",
    "\n",
    "train_alldata['features_loan'] = train_alldata['features_loan'].apply(lambda x:sum(x, []))\n",
    "train_alldata['features_orig'] = train_alldata['features_orig'].apply(lambda x:sum(x, []))\n",
    "test_alldata['features_orig'] = test_alldata['features_orig'].apply(lambda x:sum(x, []))\n",
    "test_alldata['features_loan'] = test_alldata['features_loan'].apply(lambda x:sum(x, []))\n"
   ]
  },
  {
   "cell_type": "markdown",
   "id": "384941ff",
   "metadata": {},
   "source": [
    "Pad the phonetic features of the loan word and original word out to the maxlen of the features appearing in the training set (format: `<loan><pad 0s><orig><pad 0s>`)."
   ]
  },
  {
   "cell_type": "code",
   "execution_count": 514,
   "id": "24078d28",
   "metadata": {},
   "outputs": [
    {
     "data": {
      "text/plain": [
       "(array([-1, -1,  1, -1,  1, -1, -1,  0, -1, -1, -1, -1,  1,  1, -1, -1, -1,\n",
       "        -1, -1, -1,  0, -1,  0,  0,  1,  1, -1,  1, -1, -1, -1,  0,  1, -1,\n",
       "        -1,  0, -1,  0, -1, -1, -1, -1, -1, -1,  1, -1,  0,  0, -1,  1,  1,\n",
       "         1, -1, -1, -1,  0,  1, -1, -1, -1, -1,  0, -1, -1, -1, -1, -1, -1,\n",
       "         0, -1,  0,  0, -1,  1,  1,  1,  0, -1, -1,  0,  1, -1, -1,  1,  1,\n",
       "        -1, -1,  0,  0,  0, -1, -1,  0, -1,  0,  0,  1,  1, -1,  1, -1, -1,\n",
       "        -1,  0,  1, -1, -1,  0, -1,  0, -1, -1,  1, -1, -1, -1,  1,  1,  0,\n",
       "         0,  0,  0,  0,  0,  0,  0,  0,  0,  0,  0,  0,  0,  0,  0,  0,  0,\n",
       "         0,  0,  0,  0,  0,  0,  0,  0,  0,  0,  0,  0,  0,  0,  0,  0,  0,\n",
       "         0,  0,  0,  0,  0,  0,  0,  0,  0,  0,  0,  0,  0,  0,  0,  0,  0,\n",
       "         0,  0,  0,  0,  0,  0,  0,  0,  0,  0,  0,  0,  0,  0,  0,  0,  0,\n",
       "         0,  0,  0,  0,  0,  0,  0,  0,  0,  0,  0,  0,  0,  0,  0,  0,  0,\n",
       "         0,  0,  0,  0,  0,  0,  0,  0,  0,  0,  0,  0,  0,  0,  0,  0,  0,\n",
       "         0,  0,  0,  0,  0,  0,  0,  0,  0,  0,  0,  0,  0,  0,  0,  0,  0,\n",
       "         0,  0,  0,  0,  0,  0,  0,  0,  0,  0,  0,  0,  0,  0,  0,  0,  0,\n",
       "         0,  0,  0,  0,  0,  0,  0,  0,  0,  0,  0,  0,  0,  0,  0,  0,  0,\n",
       "         0,  0,  0,  0,  0,  0,  0,  0,  0,  0,  0,  0,  0,  0,  0,  0,  0,\n",
       "         0,  0,  0,  0,  0,  0,  0,  0,  0,  0,  0,  0,  0,  0,  0,  0,  0,\n",
       "         0,  0,  0,  0,  0,  0,  0,  0,  0,  0,  0,  0,  0,  0,  0,  0,  0,\n",
       "         0,  0,  0,  0,  0,  0,  0,  0,  0,  0,  0,  0,  0,  0,  0,  0,  0,\n",
       "         0,  0,  0,  0,  0,  0,  0,  0,  0,  0,  0,  0,  0,  0,  0,  0,  0,\n",
       "         0,  0,  0,  0,  0,  0,  0,  0,  0,  0,  0,  0,  0,  0,  0,  0,  0,\n",
       "         0,  0,  0,  0,  0,  0,  0,  0,  0,  0,  0,  0,  0,  0,  0,  0,  0,\n",
       "         0,  0,  0,  0,  0,  0,  0,  0,  0,  0,  0,  0,  0,  0,  0,  0,  0,\n",
       "         0,  0,  0,  0,  0,  0,  0,  0,  0,  0,  0,  0,  0,  0,  0,  0,  0,\n",
       "         0,  0,  0,  0,  0,  0,  0,  0,  0,  0,  0,  0,  0,  0,  0,  0,  0,\n",
       "         0,  0,  0,  0,  0,  0,  0,  0,  0,  0,  0,  0,  0,  0]),\n",
       " array([-1, -1,  1,  1, -1, -1, -1,  0,  1, -1, -1,  1,  1, -1, -1, -1, -1,\n",
       "        -1, -1, -1,  0, -1,  0,  0, -1,  1,  1, -1, -1, -1,  1,  0,  1, -1,\n",
       "        -1,  1,  1, -1, -1, -1, -1, -1, -1, -1,  0, -1,  0,  0, -1, -1,  1,\n",
       "        -1, -1, -1, -1,  0,  1, -1, -1,  1,  1, -1, -1, -1, -1, -1, -1, -1,\n",
       "         0, -1,  0,  0, -1,  1,  1,  1, -1, -1, -1,  0, -1, -1, -1, -1, -1,\n",
       "         0, -1, -1, -1, -1, -1, -1,  0, -1,  0,  0,  0,  0,  0,  0,  0,  0,\n",
       "         0,  0,  0,  0,  0,  0,  0,  0,  0,  0,  0,  0,  0,  0,  0,  0,  0,\n",
       "         0,  0,  0,  0,  0,  0,  0,  0,  0,  0,  0,  0,  0,  0,  0,  0,  0,\n",
       "         0,  0,  0,  0,  0,  0,  0,  0,  0,  0,  0,  0,  0,  0,  0,  0,  0,\n",
       "         0,  0,  0,  0,  0,  0,  0,  0,  0,  0,  0,  0,  0,  0,  0,  0,  0,\n",
       "         0,  0,  0,  0,  0,  0,  0,  0,  0,  0,  0,  0,  0,  0,  0,  0,  0,\n",
       "         0,  0,  0,  0,  0,  0,  0,  0,  0,  0,  0,  0,  0,  0,  0,  0,  0,\n",
       "         0,  0,  0,  0,  0,  0,  0,  0,  0,  0,  0,  0,  0,  0,  0,  0,  0,\n",
       "         0,  0,  0,  0,  0,  0,  0,  0,  0,  0,  0,  0,  0,  0,  0,  0,  0,\n",
       "         0,  0,  0,  0,  0,  0,  0,  0,  0,  0,  0,  0,  0,  0,  0,  0,  0,\n",
       "         0,  0,  0,  0,  0,  0,  0,  0,  0,  0,  0,  0,  0,  0,  0,  0,  0,\n",
       "         0,  0,  0,  0,  0,  0,  0,  0,  0,  0,  0,  0,  0,  0,  0,  0,  0,\n",
       "         0,  0,  0,  0,  0,  0,  0,  0,  0,  0,  0,  0,  0,  0,  0,  0,  0,\n",
       "         0,  0,  0,  0,  0,  0,  0,  0,  0,  0,  0,  0,  0,  0,  0,  0,  0,\n",
       "         0,  0,  0,  0,  0,  0,  0,  0,  0,  0,  0,  0,  0,  0,  0,  0,  0,\n",
       "         0,  0,  0,  0,  0,  0,  0,  0,  0,  0,  0,  0,  0,  0,  0,  0,  0,\n",
       "         0,  0,  0,  0,  0,  0,  0,  0,  0,  0,  0,  0,  0,  0,  0,  0,  0,\n",
       "         0,  0,  0,  0,  0,  0,  0,  0,  0,  0,  0,  0,  0,  0,  0,  0,  0,\n",
       "         0,  0,  0,  0,  0,  0,  0,  0,  0,  0,  0,  0,  0,  0,  0,  0,  0,\n",
       "         0,  0,  0,  0,  0,  0,  0,  0,  0,  0,  0,  0,  0,  0,  0,  0,  0,\n",
       "         0,  0,  0,  0,  0,  0,  0,  0,  0,  0,  0,  0,  0,  0,  0,  0,  0,\n",
       "         0,  0,  0,  0,  0,  0,  0,  0,  0,  0,  0,  0,  0,  0,  0,  0,  0,\n",
       "         0,  0,  0,  0,  0,  0,  0,  0,  0,  0,  0,  0,  0,  0,  0,  0,  0,\n",
       "         0,  0,  0,  0,  0,  0,  0,  0,  0,  0,  0,  0,  0,  0,  0,  0,  0,\n",
       "         0,  0,  0,  0,  0,  0,  0,  0,  0,  0,  0,  0,  0,  0,  0,  0,  0,\n",
       "         0,  0,  0,  0,  0,  0,  0,  0,  0,  0,  0,  0,  0,  0,  0,  0,  0,\n",
       "         0,  0,  0,  0,  0,  0,  0,  0,  0,  0,  0,  0,  0,  0,  0,  0,  0,\n",
       "         0,  0,  0,  0,  0,  0,  0,  0,  0,  0,  0,  0,  0,  0,  0,  0,  0,\n",
       "         0,  0,  0,  0,  0,  0,  0,  0,  0,  0,  0,  0,  0,  0,  0,  0,  0,\n",
       "         0,  0,  0,  0,  0,  0,  0,  0,  0,  0,  0,  0,  0,  0,  0,  0,  0,\n",
       "         0,  0,  0,  0,  0]))"
      ]
     },
     "execution_count": 514,
     "metadata": {},
     "output_type": "execute_result"
    }
   ],
   "source": [
    "train_alldata_maxlen = (np.max(train_alldata['features_loan'].str.len()),\\\n",
    "                               np.max(train_alldata['features_orig'].str.len()))\n",
    "\n",
    "train_alldata['features_loan'] = train_alldata['features_loan'].apply(lambda x: \\\n",
    "                                np.pad(x,\\\n",
    "                                (0,train_alldata_maxlen[0]-len(x)), 'constant'))\n",
    "train_alldata['features_orig'] = train_alldata['features_orig'].apply(lambda x: \\\n",
    "                                np.pad(x,\\\n",
    "                                (0,train_alldata_maxlen[1]-len(x)), 'constant'))\n",
    "\n",
    "train_alldata['features_loan'][np.random.randint(len(train_alldata['features_loan']))],\\\n",
    "train_alldata['features_orig'][np.random.randint(len(train_alldata['features_loan']))]"
   ]
  },
  {
   "cell_type": "code",
   "execution_count": 515,
   "id": "2bf93371",
   "metadata": {},
   "outputs": [
    {
     "data": {
      "text/plain": [
       "(array([-1, -1,  1, -1, -1, -1, -1,  0, -1, -1, -1,  1, -1,  0,  1, -1, -1,\n",
       "        -1, -1, -1,  0, -1,  0,  0,  1,  1, -1,  1, -1, -1, -1,  0,  1, -1,\n",
       "        -1,  0, -1,  0, -1, -1, -1,  1, -1, -1, -1, -1,  0,  0, -1,  1,  1,\n",
       "         1,  0, -1, -1,  0,  1, -1, -1,  1,  1, -1, -1,  0,  0,  0, -1, -1,\n",
       "         0, -1,  0,  0, -1, -1,  1,  1, -1, -1, -1,  1,  1, -1, -1,  1, -1,\n",
       "         0,  1, -1, -1, -1, -1, -1,  0, -1,  0,  0,  1,  1, -1,  1, -1, -1,\n",
       "        -1,  0,  1, -1, -1,  0, -1,  0, -1, -1,  1, -1, -1, -1,  1,  1,  0,\n",
       "         0, -1,  1,  1, -1, -1, -1,  1,  0,  1, -1, -1,  1,  1, -1, -1, -1,\n",
       "        -1, -1, -1, -1,  0, -1,  0,  0,  1,  1, -1,  1, -1, -1, -1,  0,  1,\n",
       "        -1, -1,  0, -1,  0, -1, -1,  1, -1, -1, -1,  1,  1,  0,  0,  0,  0,\n",
       "         0,  0,  0,  0,  0,  0,  0,  0,  0,  0,  0,  0,  0,  0,  0,  0,  0,\n",
       "         0,  0,  0,  0,  0,  0,  0,  0,  0,  0,  0,  0,  0,  0,  0,  0,  0,\n",
       "         0,  0,  0,  0,  0,  0,  0,  0,  0,  0,  0,  0,  0,  0,  0,  0,  0,\n",
       "         0,  0,  0,  0,  0,  0,  0,  0,  0,  0,  0,  0,  0,  0,  0,  0,  0,\n",
       "         0,  0,  0,  0,  0,  0,  0,  0,  0,  0,  0,  0,  0,  0,  0,  0,  0,\n",
       "         0,  0,  0,  0,  0,  0,  0,  0,  0,  0,  0,  0,  0,  0,  0,  0,  0,\n",
       "         0,  0,  0,  0,  0,  0,  0,  0,  0,  0,  0,  0,  0,  0,  0,  0,  0,\n",
       "         0,  0,  0,  0,  0,  0,  0,  0,  0,  0,  0,  0,  0,  0,  0,  0,  0,\n",
       "         0,  0,  0,  0,  0,  0,  0,  0,  0,  0,  0,  0,  0,  0,  0,  0,  0,\n",
       "         0,  0,  0,  0,  0,  0,  0,  0,  0,  0,  0,  0,  0,  0,  0,  0,  0,\n",
       "         0,  0,  0,  0,  0,  0,  0,  0,  0,  0,  0,  0,  0,  0,  0,  0,  0,\n",
       "         0,  0,  0,  0,  0,  0,  0,  0,  0,  0,  0,  0,  0,  0,  0,  0,  0,\n",
       "         0,  0,  0,  0,  0,  0,  0,  0,  0,  0,  0,  0,  0,  0,  0,  0,  0,\n",
       "         0,  0,  0,  0,  0,  0,  0,  0,  0,  0,  0,  0,  0,  0,  0,  0,  0,\n",
       "         0,  0,  0,  0,  0,  0,  0,  0,  0,  0,  0,  0,  0,  0,  0,  0,  0,\n",
       "         0,  0,  0,  0,  0,  0,  0,  0,  0,  0,  0,  0,  0,  0,  0,  0,  0,\n",
       "         0,  0,  0,  0,  0,  0,  0,  0,  0,  0,  0,  0,  0,  0]),\n",
       " array([-1, -1,  1,  1, -1, -1, -1,  0, -1, -1, -1,  1,  1, -1, -1, -1, -1,\n",
       "        -1, -1, -1,  0, -1,  0,  0, -1, -1,  1,  1, -1, -1, -1,  1, -1, -1,\n",
       "        -1,  1, -1,  0,  1, -1, -1, -1, -1, -1,  0, -1,  0,  0,  1,  1, -1,\n",
       "         1, -1, -1, -1,  0,  1, -1, -1,  0, -1,  0, -1, -1,  1,  1,  1, -1,\n",
       "         1, -1,  0,  0, -1,  1,  1,  1,  0, -1, -1,  0,  1, -1, -1,  1,  1,\n",
       "        -1, -1,  0,  0,  0, -1, -1,  0, -1,  0,  0, -1, -1,  1,  1, -1, -1,\n",
       "        -1,  0, -1, -1, -1, -1,  1,  1, -1, -1, -1, -1, -1, -1,  0, -1,  0,\n",
       "         0,  0,  0,  0,  0,  0,  0,  0,  0,  0,  0,  0,  0,  0,  0,  0,  0,\n",
       "         0,  0,  0,  0,  0,  0,  0,  0,  0,  0,  0,  0,  0,  0,  0,  0,  0,\n",
       "         0,  0,  0,  0,  0,  0,  0,  0,  0,  0,  0,  0,  0,  0,  0,  0,  0,\n",
       "         0,  0,  0,  0,  0,  0,  0,  0,  0,  0,  0,  0,  0,  0,  0,  0,  0,\n",
       "         0,  0,  0,  0,  0,  0,  0,  0,  0,  0,  0,  0,  0,  0,  0,  0,  0,\n",
       "         0,  0,  0,  0,  0,  0,  0,  0,  0,  0,  0,  0,  0,  0,  0,  0,  0,\n",
       "         0,  0,  0,  0,  0,  0,  0,  0,  0,  0,  0,  0,  0,  0,  0,  0,  0,\n",
       "         0,  0,  0,  0,  0,  0,  0,  0,  0,  0,  0,  0,  0,  0,  0,  0,  0,\n",
       "         0,  0,  0,  0,  0,  0,  0,  0,  0,  0,  0,  0,  0,  0,  0,  0,  0,\n",
       "         0,  0,  0,  0,  0,  0,  0,  0,  0,  0,  0,  0,  0,  0,  0,  0,  0,\n",
       "         0,  0,  0,  0,  0,  0,  0,  0,  0,  0,  0,  0,  0,  0,  0,  0,  0,\n",
       "         0,  0,  0,  0,  0,  0,  0,  0,  0,  0,  0,  0,  0,  0,  0,  0,  0,\n",
       "         0,  0,  0,  0,  0,  0,  0,  0,  0,  0,  0,  0,  0,  0,  0,  0,  0,\n",
       "         0,  0,  0,  0,  0,  0,  0,  0,  0,  0,  0,  0,  0,  0,  0,  0,  0,\n",
       "         0,  0,  0,  0,  0,  0,  0,  0,  0,  0,  0,  0,  0,  0,  0,  0,  0,\n",
       "         0,  0,  0,  0,  0,  0,  0,  0,  0,  0,  0,  0,  0,  0,  0,  0,  0,\n",
       "         0,  0,  0,  0,  0,  0,  0,  0,  0,  0,  0,  0,  0,  0,  0,  0,  0,\n",
       "         0,  0,  0,  0,  0,  0,  0,  0,  0,  0,  0,  0,  0,  0,  0,  0,  0,\n",
       "         0,  0,  0,  0,  0,  0,  0,  0,  0,  0,  0,  0,  0,  0,  0,  0,  0,\n",
       "         0,  0,  0,  0,  0,  0,  0,  0,  0,  0,  0,  0,  0,  0,  0,  0,  0,\n",
       "         0,  0,  0,  0,  0,  0,  0,  0,  0,  0,  0,  0,  0,  0,  0,  0,  0,\n",
       "         0,  0,  0,  0,  0,  0,  0,  0,  0,  0,  0,  0,  0,  0,  0,  0,  0,\n",
       "         0,  0,  0,  0,  0,  0,  0,  0,  0,  0,  0,  0,  0,  0,  0,  0,  0,\n",
       "         0,  0,  0,  0,  0,  0,  0,  0,  0,  0,  0,  0,  0,  0,  0,  0,  0,\n",
       "         0,  0,  0,  0,  0,  0,  0,  0,  0,  0,  0,  0,  0,  0,  0,  0,  0,\n",
       "         0,  0,  0,  0,  0,  0,  0,  0,  0,  0,  0,  0,  0,  0,  0,  0,  0,\n",
       "         0,  0,  0,  0,  0,  0,  0,  0,  0,  0,  0,  0,  0,  0,  0,  0,  0,\n",
       "         0,  0,  0,  0,  0,  0,  0,  0,  0,  0,  0,  0,  0,  0,  0,  0,  0,\n",
       "         0,  0,  0,  0,  0]))"
      ]
     },
     "execution_count": 515,
     "metadata": {},
     "output_type": "execute_result"
    }
   ],
   "source": [
    "test_alldata['features_loan'] = test_alldata['features_loan'].apply(lambda x: \\\n",
    "                                np.pad(x,\\\n",
    "                                (0,train_alldata_maxlen[0]-len(x)), 'constant'))\n",
    "test_alldata['features_orig'] = test_alldata['features_orig'].apply(lambda x: \\\n",
    "                                np.pad(x,\\\n",
    "                                (0,train_alldata_maxlen[1]-len(x)), 'constant'))\n",
    "\n",
    "test_alldata['features_loan'][np.random.randint(len(test_alldata['features_loan']))],\\\n",
    "test_alldata['features_orig'][np.random.randint(len(test_alldata['features_orig']))]"
   ]
  },
  {
   "cell_type": "markdown",
   "id": "4a031511",
   "metadata": {},
   "source": [
    "## Add target labels and make train and test sets"
   ]
  },
  {
   "cell_type": "code",
   "execution_count": 331,
   "id": "4342602e",
   "metadata": {},
   "outputs": [
    {
     "data": {
      "text/plain": [
       "((11857,), (1320,))"
      ]
     },
     "execution_count": 331,
     "metadata": {},
     "output_type": "execute_result"
    }
   ],
   "source": [
    "Y_train = np.array([y for y in train_alldata['label_bin']])\n",
    "Y_test = np.array([y for y in test_alldata['label_bin']])\n",
    "Y_train.shape,Y_test.shape"
   ]
  },
  {
   "cell_type": "code",
   "execution_count": 332,
   "id": "a3f08e9f",
   "metadata": {},
   "outputs": [
    {
     "data": {
      "text/plain": [
       "((11857, 1056), (1320, 1056))"
      ]
     },
     "execution_count": 332,
     "metadata": {},
     "output_type": "execute_result"
    }
   ],
   "source": [
    "X_train = np.hstack([np.array([x for x in train_alldata['features_loan']]),\\\n",
    "                     np.array([x for x in train_alldata['features_orig']])])\n",
    "X_test = np.hstack([np.array([x for x in test_alldata['features_loan']]),\\\n",
    "                    np.array([x for x in test_alldata['features_orig']])])\n",
    "X_train.shape,X_test.shape"
   ]
  },
  {
   "cell_type": "markdown",
   "id": "6e93f3aa",
   "metadata": {},
   "source": [
    "Make a validation split for training the DNN model"
   ]
  },
  {
   "cell_type": "code",
   "execution_count": 374,
   "id": "44851fe0",
   "metadata": {},
   "outputs": [
    {
     "data": {
      "text/plain": [
       "(torch.Size([7588, 1056]),\n",
       " torch.Size([1897, 1056]),\n",
       " torch.Size([7588, 1]),\n",
       " torch.Size([1897, 1]))"
      ]
     },
     "execution_count": 374,
     "metadata": {},
     "output_type": "execute_result"
    }
   ],
   "source": [
    "#create train and validation splits keeping the composition of labels balanced between them using a random state '1 '\n",
    "\n",
    "X_train, X_val, Y_train, Y_val = train_test_split(X_train, Y_train, test_size=0.2, random_state=1, stratify=Y_train)\n",
    "X_train.shape, X_val.shape, Y_train.shape, Y_val.shape\n"
   ]
  },
  {
   "cell_type": "code",
   "execution_count": 336,
   "id": "80ad7945",
   "metadata": {},
   "outputs": [],
   "source": [
    "X_train = torch.tensor(X_train).to(device)\n",
    "Y_train = torch.tensor(Y_train).to(device).reshape((-1,1))\n",
    "\n",
    "X_test = torch.tensor(X_test).to(device)\n",
    "Y_test = torch.tensor(Y_test).to(device).reshape((-1,1))\n",
    "\n",
    "X_val = torch.tensor(X_val).to(device)\n",
    "Y_val = torch.tensor(Y_val).to(device).reshape((-1,1))\n"
   ]
  },
  {
   "cell_type": "code",
   "execution_count": 337,
   "id": "d9e4fe2f",
   "metadata": {},
   "outputs": [
    {
     "data": {
      "text/plain": [
       "(torch.Size([9485, 1056]),\n",
       " torch.Size([9485, 1]),\n",
       " torch.Size([1320, 1056]),\n",
       " torch.Size([1320, 1]),\n",
       " torch.Size([2372, 1056]),\n",
       " torch.Size([2372, 1]))"
      ]
     },
     "execution_count": 337,
     "metadata": {},
     "output_type": "execute_result"
    }
   ],
   "source": [
    "X_train.shape, Y_train.shape, X_test.shape, Y_test.shape, X_val.shape, Y_val.shape\n",
    " "
   ]
  },
  {
   "cell_type": "code",
   "execution_count": 340,
   "id": "e0bb588e",
   "metadata": {},
   "outputs": [
    {
     "name": "stdout",
     "output_type": "stream",
     "text": [
      "Using cpu device\n"
     ]
    }
   ],
   "source": [
    "device = \"cuda\" if torch.cuda.is_available() else \"cpu\"\n",
    "print(f\"Using {device} device\")"
   ]
  },
  {
   "cell_type": "markdown",
   "id": "a26e42f7",
   "metadata": {},
   "source": [
    "## DNN Definition"
   ]
  },
  {
   "cell_type": "code",
   "execution_count": 341,
   "id": "9e92610c",
   "metadata": {},
   "outputs": [],
   "source": [
    "class NeuralNetwork(nn.Module):\n",
    "    def __init__(self, n_features):\n",
    "        super(NeuralNetwork, self).__init__()\n",
    "        #self.flatten = nn.Flatten()\n",
    "        self.linear_relu_stack = nn.Sequential(\n",
    "            nn.Linear(n_features, 512),\n",
    "            nn.ReLU(),\n",
    "            nn.Linear(512, 512),\n",
    "            nn.ReLU(),\n",
    "            nn.Linear(512, 1),\n",
    "            \n",
    "        )\n",
    "        self.dropout = nn.Dropout(0.10) \n",
    "\n",
    "    def forward(self, x):\n",
    "        #x = self.flatten(x)\n",
    "        #logits = self.linear_relu_stack(x)\n",
    "        logits_new = self.linear_relu_stack(x)\n",
    "        logits  = self.dropout(logits_new)\n",
    "        \n",
    "        return torch.sigmoid(logits), logits_new\n",
    "        #return logits"
   ]
  },
  {
   "cell_type": "code",
   "execution_count": 342,
   "id": "640e6e64",
   "metadata": {},
   "outputs": [
    {
     "name": "stdout",
     "output_type": "stream",
     "text": [
      "NeuralNetwork(\n",
      "  (linear_relu_stack): Sequential(\n",
      "    (0): Linear(in_features=1056, out_features=512, bias=True)\n",
      "    (1): ReLU()\n",
      "    (2): Linear(in_features=512, out_features=512, bias=True)\n",
      "    (3): ReLU()\n",
      "    (4): Linear(in_features=512, out_features=1, bias=True)\n",
      "  )\n",
      "  (dropout): Dropout(p=0.1, inplace=False)\n",
      ")\n"
     ]
    }
   ],
   "source": [
    "model = NeuralNetwork(X_train.shape[1]).to(device)\n",
    "#model = NeuralNetwork(X_test.shape[1]).to(device)\n",
    "print(model)"
   ]
  },
  {
   "cell_type": "code",
   "execution_count": 346,
   "id": "b448bef7",
   "metadata": {},
   "outputs": [],
   "source": [
    "criterion = nn.BCELoss().to(device)"
   ]
  },
  {
   "cell_type": "code",
   "execution_count": 347,
   "id": "94c5d5c8",
   "metadata": {},
   "outputs": [],
   "source": [
    "optimizer = optim.Adam(model.parameters(), lr=0.00001)"
   ]
  },
  {
   "cell_type": "code",
   "execution_count": 348,
   "id": "a607b005",
   "metadata": {},
   "outputs": [],
   "source": [
    "def calculate_accuracy(y_true, y_pred):\n",
    "    predicted = y_pred.ge(.5) \n",
    "    return ((y_true == predicted).sum().float() / len(y_true), (y_true == predicted).sum())"
   ]
  },
  {
   "cell_type": "code",
   "execution_count": 349,
   "id": "e66edd79",
   "metadata": {},
   "outputs": [],
   "source": [
    "def round_tensor(t, decimal_places=3):\n",
    "    return round(t.item(), decimal_places)"
   ]
  },
  {
   "cell_type": "code",
   "execution_count": 350,
   "id": "255fa7d6",
   "metadata": {},
   "outputs": [],
   "source": [
    "CUDA_LAUNCH_BLOCKING=1"
   ]
  },
  {
   "cell_type": "markdown",
   "id": "e7ad1111",
   "metadata": {},
   "source": [
    "Train!"
   ]
  },
  {
   "cell_type": "code",
   "execution_count": 351,
   "id": "ed6ce499",
   "metadata": {},
   "outputs": [
    {
     "name": "stdout",
     "output_type": "stream",
     "text": [
      "epoch 0 Train set - loss: 0.681, accuracy: 0.745 Val  set - loss: 0.681, Val accuracy: 0.738\n",
      "\n",
      "epoch 100 Train set - loss: 0.464, accuracy: 0.819 Val  set - loss: 0.465, Val accuracy: 0.817\n",
      "\n",
      "epoch 200 Train set - loss: 0.355, accuracy: 0.818 Val  set - loss: 0.356, Val accuracy: 0.819\n",
      "\n",
      "epoch 300 Train set - loss: 0.345, accuracy: 0.822 Val  set - loss: 0.352, Val accuracy: 0.814\n",
      "\n",
      "epoch 400 Train set - loss: 0.344, accuracy: 0.817 Val  set - loss: 0.341, Val accuracy: 0.823\n",
      "\n",
      "epoch 500 Train set - loss: 0.337, accuracy: 0.82 Val  set - loss: 0.334, Val accuracy: 0.827\n",
      "\n",
      "epoch 600 Train set - loss: 0.336, accuracy: 0.815 Val  set - loss: 0.338, Val accuracy: 0.815\n",
      "\n",
      "epoch 700 Train set - loss: 0.327, accuracy: 0.818 Val  set - loss: 0.336, Val accuracy: 0.81\n",
      "\n",
      "epoch 800 Train set - loss: 0.323, accuracy: 0.816 Val  set - loss: 0.327, Val accuracy: 0.816\n",
      "\n",
      "epoch 900 Train set - loss: 0.312, accuracy: 0.822 Val  set - loss: 0.32, Val accuracy: 0.815\n",
      "\n",
      "epoch 1000 Train set - loss: 0.303, accuracy: 0.82 Val  set - loss: 0.313, Val accuracy: 0.816\n",
      "\n",
      "epoch 1100 Train set - loss: 0.295, accuracy: 0.817 Val  set - loss: 0.306, Val accuracy: 0.813\n",
      "\n",
      "epoch 1200 Train set - loss: 0.284, accuracy: 0.816 Val  set - loss: 0.287, Val accuracy: 0.823\n",
      "\n",
      "epoch 1300 Train set - loss: 0.27, accuracy: 0.815 Val  set - loss: 0.283, Val accuracy: 0.815\n",
      "\n",
      "epoch 1400 Train set - loss: 0.25, accuracy: 0.826 Val  set - loss: 0.267, Val accuracy: 0.823\n",
      "\n",
      "epoch 1500 Train set - loss: 0.233, accuracy: 0.836 Val  set - loss: 0.256, Val accuracy: 0.824\n",
      "\n",
      "epoch 1600 Train set - loss: 0.216, accuracy: 0.849 Val  set - loss: 0.236, Val accuracy: 0.847\n",
      "\n",
      "epoch 1700 Train set - loss: 0.206, accuracy: 0.853 Val  set - loss: 0.229, Val accuracy: 0.848\n",
      "\n",
      "epoch 1800 Train set - loss: 0.19, accuracy: 0.869 Val  set - loss: 0.222, Val accuracy: 0.853\n",
      "\n",
      "epoch 1900 Train set - loss: 0.179, accuracy: 0.875 Val  set - loss: 0.206, Val accuracy: 0.866\n",
      "\n",
      "epoch 2000 Train set - loss: 0.166, accuracy: 0.883 Val  set - loss: 0.211, Val accuracy: 0.854\n",
      "\n",
      "epoch 2100 Train set - loss: 0.157, accuracy: 0.887 Val  set - loss: 0.206, Val accuracy: 0.854\n",
      "\n",
      "epoch 2200 Train set - loss: 0.149, accuracy: 0.889 Val  set - loss: 0.198, Val accuracy: 0.86\n",
      "\n",
      "epoch 2300 Train set - loss: 0.141, accuracy: 0.894 Val  set - loss: 0.189, Val accuracy: 0.874\n",
      "\n",
      "epoch 2400 Train set - loss: 0.133, accuracy: 0.9 Val  set - loss: 0.189, Val accuracy: 0.872\n",
      "\n",
      "epoch 2500 Train set - loss: 0.131, accuracy: 0.895 Val  set - loss: 0.19, Val accuracy: 0.867\n",
      "\n",
      "epoch 2600 Train set - loss: 0.118, accuracy: 0.905 Val  set - loss: 0.186, Val accuracy: 0.866\n",
      "\n",
      "epoch 2700 Train set - loss: 0.12, accuracy: 0.899 Val  set - loss: 0.183, Val accuracy: 0.874\n",
      "\n",
      "epoch 2800 Train set - loss: 0.112, accuracy: 0.905 Val  set - loss: 0.182, Val accuracy: 0.871\n",
      "\n",
      "epoch 2900 Train set - loss: 0.106, accuracy: 0.909 Val  set - loss: 0.181, Val accuracy: 0.87\n",
      "\n",
      "epoch 3000 Train set - loss: 0.1, accuracy: 0.912 Val  set - loss: 0.179, Val accuracy: 0.876\n",
      "\n",
      "epoch 3100 Train set - loss: 0.101, accuracy: 0.908 Val  set - loss: 0.184, Val accuracy: 0.87\n",
      "\n",
      "epoch 3200 Train set - loss: 0.1, accuracy: 0.906 Val  set - loss: 0.178, Val accuracy: 0.87\n",
      "\n",
      "epoch 3300 Train set - loss: 0.099, accuracy: 0.902 Val  set - loss: 0.185, Val accuracy: 0.867\n",
      "\n",
      "epoch 3400 Train set - loss: 0.097, accuracy: 0.902 Val  set - loss: 0.184, Val accuracy: 0.866\n",
      "\n",
      "epoch 3500 Train set - loss: 0.095, accuracy: 0.904 Val  set - loss: 0.181, Val accuracy: 0.861\n",
      "\n",
      "epoch 3600 Train set - loss: 0.085, accuracy: 0.915 Val  set - loss: 0.183, Val accuracy: 0.863\n",
      "\n",
      "epoch 3700 Train set - loss: 0.085, accuracy: 0.914 Val  set - loss: 0.181, Val accuracy: 0.868\n",
      "\n",
      "epoch 3800 Train set - loss: 0.085, accuracy: 0.91 Val  set - loss: 0.18, Val accuracy: 0.873\n",
      "\n",
      "epoch 3900 Train set - loss: 0.081, accuracy: 0.914 Val  set - loss: 0.174, Val accuracy: 0.877\n",
      "\n",
      "epoch 4000 Train set - loss: 0.078, accuracy: 0.916 Val  set - loss: 0.185, Val accuracy: 0.866\n",
      "\n",
      "epoch 4100 Train set - loss: 0.084, accuracy: 0.907 Val  set - loss: 0.19, Val accuracy: 0.865\n",
      "\n",
      "epoch 4200 Train set - loss: 0.081, accuracy: 0.91 Val  set - loss: 0.18, Val accuracy: 0.877\n",
      "\n",
      "epoch 4300 Train set - loss: 0.081, accuracy: 0.91 Val  set - loss: 0.186, Val accuracy: 0.877\n",
      "\n",
      "epoch 4400 Train set - loss: 0.079, accuracy: 0.909 Val  set - loss: 0.192, Val accuracy: 0.871\n",
      "\n",
      "epoch 4500 Train set - loss: 0.08, accuracy: 0.908 Val  set - loss: 0.178, Val accuracy: 0.882\n",
      "\n",
      "epoch 4600 Train set - loss: 0.079, accuracy: 0.908 Val  set - loss: 0.194, Val accuracy: 0.872\n",
      "\n",
      "epoch 4700 Train set - loss: 0.078, accuracy: 0.908 Val  set - loss: 0.182, Val accuracy: 0.875\n",
      "\n",
      "epoch 4800 Train set - loss: 0.08, accuracy: 0.906 Val  set - loss: 0.196, Val accuracy: 0.866\n",
      "\n",
      "epoch 4900 Train set - loss: 0.079, accuracy: 0.906 Val  set - loss: 0.19, Val accuracy: 0.867\n",
      "\n"
     ]
    }
   ],
   "source": [
    "# train for 5000 epochs and get the logits \n",
    "val_losses = []\n",
    "train_losses = []\n",
    "val_accur = []\n",
    "train_accur = []\n",
    "logits = []\n",
    "for epoch in range(5000):\n",
    "\n",
    "    y_pred = model(X_train.float())[0]\n",
    "    logits = model(X_train.float())[1]\n",
    "    #getting logits for test set \n",
    "#     y_pred = model(X_test.float())[0]\n",
    "#     logits = model(X_test.float())[1]\n",
    "    #y_pred = model(X_train) \n",
    "    #print(y_pred)\n",
    "\n",
    "    #y_pred = torch.squeeze(y_pred)\n",
    "    train_loss = criterion(y_pred, Y_train.float())\n",
    "    \n",
    "    #test_loss = criterion(y_pred, Y_test.float())\n",
    "    #train_loss = criterion(y_pred, Y_train)\n",
    "\n",
    "    if epoch % 100 == 0:\n",
    "        train_acc,_ = calculate_accuracy(Y_train, y_pred)\n",
    "\n",
    "        y_val_pred = model(X_val.float())[0]\n",
    "        #y_test_pred = torch.squeeze(y_test_pred)\n",
    "         \n",
    "\n",
    "        val_loss = criterion(y_val_pred, Y_val.float())\n",
    "\n",
    "        val_acc, total_corr = calculate_accuracy(Y_val, y_val_pred)\n",
    "        #print(total_corr)\n",
    "        \n",
    "        print(f'''epoch {epoch} Train set - loss: {round_tensor(train_loss)}, accuracy: {round_tensor(train_acc)} Val set - loss: {round_tensor(val_loss)}, Val accuracy: {round_tensor(val_acc)}\n",
    "''')\n",
    "        #print(f'''epoch {epoch}Train set - loss: {round_tensor(train_loss)} ''')\n",
    "        #print(f'''epoch {epoch}Test set - loss: {round_tensor(test_loss)} ''')\n",
    "        train_losses.append(train_loss.detach().numpy())\n",
    "        val_losses.append(val_loss.detach().numpy())\n",
    "        \n",
    "        val_accur.append(val_acc.detach().numpy())\n",
    "        train_accur.append(train_acc.detach().numpy())\n",
    "\n",
    "    optimizer.zero_grad()\n",
    "\n",
    "    train_loss.backward()\n",
    "    #test_loss.backward()\n",
    "\n",
    "    optimizer.step()"
   ]
  },
  {
   "cell_type": "markdown",
   "id": "df878f6a",
   "metadata": {},
   "source": [
    "Plot!"
   ]
  },
  {
   "cell_type": "code",
   "execution_count": 352,
   "id": "8cb71617",
   "metadata": {},
   "outputs": [
    {
     "data": {
      "image/png": "[encoded data removed]",
      "text/plain": [
       "<Figure size 432x288 with 1 Axes>"
      ]
     },
     "metadata": {
      "needs_background": "light"
     },
     "output_type": "display_data"
    },
    {
     "data": {
      "image/png": "[encoded data removed]",
      "text/plain": [
       "<Figure size 432x288 with 1 Axes>"
      ]
     },
     "metadata": {
      "needs_background": "light"
     },
     "output_type": "display_data"
    }
   ],
   "source": [
    "import matplotlib.pyplot as plt\n",
    "\n",
    "epochs = range(1, len(train_accur) + 1)\n",
    "\n",
    "plt.plot(epochs, train_accur, 'bo', label='Training acc')\n",
    "plt.plot(epochs, val_accur, 'b', label='vaidation acc')\n",
    "plt.title('Training and validation accuracy')\n",
    "plt.legend()\n",
    "\n",
    "plt.figure()\n",
    "\n",
    "plt.plot(epochs, train_losses, 'bo', label='Training loss')\n",
    "plt.plot(epochs, val_losses, 'b', label='validation loss')\n",
    "plt.title('Training and validation loss')\n",
    "plt.legend()\n",
    "\n",
    "plt.show()\n"
   ]
  },
  {
   "cell_type": "markdown",
   "id": "7a602a53",
   "metadata": {},
   "source": [
    "## Setup evaluation datasets\n",
    "\n",
    "Get Panphon features and pad (use `train_alldata` as already defined above)"
   ]
  },
  {
   "cell_type": "code",
   "execution_count": 353,
   "id": "3584be9b",
   "metadata": {},
   "outputs": [],
   "source": [
    "train_realdist['features_loan'] = train_realdist.apply(lambda x:ft.word_to_vector_list(x[\"loan_word_epitran\"],numeric=True ), axis=1)\n",
    "train_realdist['features_orig'] = train_realdist.apply(lambda x:ft.word_to_vector_list(x[\"original_word_epitran\"],numeric=True ), axis=1)\n",
    "test_realdist['features_loan'] = test_realdist.apply(lambda x:ft.word_to_vector_list(x[\"loan_word_epitran\"],numeric=True ), axis=1)\n",
    "test_realdist['features_orig'] = test_realdist.apply(lambda x:ft.word_to_vector_list(x[\"original_word_epitran\"],numeric=True ), axis=1)\n",
    "\n",
    "train_realdist['features_loan'] = train_realdist['features_loan'].apply(lambda x:sum(x, []))\n",
    "train_realdist['features_orig'] = train_realdist['features_orig'].apply(lambda x:sum(x, []))\n",
    "test_realdist['features_orig'] = test_realdist['features_orig'].apply(lambda x:sum(x, []))\n",
    "test_realdist['features_loan'] = test_realdist['features_loan'].apply(lambda x:sum(x, []))\n",
    "\n",
    "train_balanced['features_loan'] = train_balanced.apply(lambda x:ft.word_to_vector_list(x[\"loan_word_epitran\"],numeric=True ), axis=1)\n",
    "train_balanced['features_orig'] = train_balanced.apply(lambda x:ft.word_to_vector_list(x[\"original_word_epitran\"],numeric=True ), axis=1)\n",
    "test_balanced['features_loan'] = test_balanced.apply(lambda x:ft.word_to_vector_list(x[\"loan_word_epitran\"],numeric=True ), axis=1)\n",
    "test_balanced['features_orig'] = test_balanced.apply(lambda x:ft.word_to_vector_list(x[\"original_word_epitran\"],numeric=True ), axis=1)\n",
    "\n",
    "train_balanced['features_loan'] = train_balanced['features_loan'].apply(lambda x:sum(x, []))\n",
    "train_balanced['features_orig'] = train_balanced['features_orig'].apply(lambda x:sum(x, []))\n",
    "test_balanced['features_orig'] = test_balanced['features_orig'].apply(lambda x:sum(x, []))\n",
    "test_balanced['features_loan'] = test_balanced['features_loan'].apply(lambda x:sum(x, []))\n"
   ]
  },
  {
   "cell_type": "code",
   "execution_count": 516,
   "id": "7d768958",
   "metadata": {},
   "outputs": [],
   "source": [
    "test_alldata['features_loan'] = test_alldata['features_loan'].apply(lambda x: \\\n",
    "                                np.pad(x,\\\n",
    "                                (0,train_alldata_maxlen[0]-len(x)), 'constant'))\n",
    "test_alldata['features_orig'] = test_alldata['features_orig'].apply(lambda x: \\\n",
    "                                np.pad(x,\\\n",
    "                                (0,train_alldata_maxlen[1]-len(x)), 'constant'))\n",
    "\n",
    "X_train_alldata = torch.tensor(np.hstack([np.array([x for x in train_alldata['features_loan']]),\\\n",
    "                     np.array([x for x in train_alldata['features_orig']])])).to(device)\n",
    "X_test_alldata = torch.tensor(np.hstack([np.array([x for x in test_alldata['features_loan']]),\\\n",
    "                    np.array([x for x in test_alldata['features_orig']])])).to(device)"
   ]
  },
  {
   "cell_type": "code",
   "execution_count": 517,
   "id": "619e862b",
   "metadata": {},
   "outputs": [],
   "source": [
    "train_realdist['features_loan'] = train_realdist['features_loan'].apply(lambda x: \\\n",
    "                                np.pad(x,\\\n",
    "                                (0,train_alldata_maxlen[0]-len(x)), 'constant'))\n",
    "train_realdist['features_orig'] = train_realdist['features_orig'].apply(lambda x: \\\n",
    "                                np.pad(x,\\\n",
    "                                (0,train_alldata_maxlen[1]-len(x)), 'constant'))\n",
    "\n",
    "test_realdist['features_loan'] = test_realdist['features_loan'].apply(lambda x: \\\n",
    "                                np.pad(x,\\\n",
    "                                (0,train_alldata_maxlen[0]-len(x)), 'constant'))\n",
    "test_realdist['features_orig'] = test_realdist['features_orig'].apply(lambda x: \\\n",
    "                                np.pad(x,\\\n",
    "                                (0,train_alldata_maxlen[1]-len(x)), 'constant'))\n",
    "\n",
    "X_train_realdist = torch.tensor(np.hstack([np.array([x for x in train_realdist['features_loan']]),\\\n",
    "                     np.array([x for x in train_realdist['features_orig']])])).to(device)\n",
    "X_test_realdist = torch.tensor(np.hstack([np.array([x for x in test_realdist['features_loan']]),\\\n",
    "                    np.array([x for x in test_realdist['features_orig']])])).to(device)\n",
    "\n",
    "train_balanced['features_loan'] = train_balanced['features_loan'].apply(lambda x: \\\n",
    "                                np.pad(x,\\\n",
    "                                (0,train_alldata_maxlen[0]-len(x)), 'constant'))\n",
    "train_balanced['features_orig'] = train_balanced['features_orig'].apply(lambda x: \\\n",
    "                                np.pad(x,\\\n",
    "                                (0,train_alldata_maxlen[1]-len(x)), 'constant'))\n",
    "\n",
    "test_balanced['features_loan'] = test_balanced['features_loan'].apply(lambda x: \\\n",
    "                                np.pad(x,\\\n",
    "                                (0,train_alldata_maxlen[0]-len(x)), 'constant'))\n",
    "test_balanced['features_orig'] = test_balanced['features_orig'].apply(lambda x: \\\n",
    "                                np.pad(x,\\\n",
    "                                (0,train_alldata_maxlen[1]-len(x)), 'constant'))\n",
    "\n",
    "X_train_balanced = torch.tensor(np.hstack([np.array([x for x in train_balanced['features_loan']]),\\\n",
    "                     np.array([x for x in train_balanced['features_orig']])])).to(device)\n",
    "X_test_balanced = torch.tensor(np.hstack([np.array([x for x in test_balanced['features_loan']]),\\\n",
    "                    np.array([x for x in test_balanced['features_orig']])])).to(device)"
   ]
  },
  {
   "cell_type": "markdown",
   "id": "aeadd528",
   "metadata": {},
   "source": [
    "Get logits from DNN for all datasets/splits"
   ]
  },
  {
   "cell_type": "code",
   "execution_count": 364,
   "id": "451f2a63",
   "metadata": {},
   "outputs": [],
   "source": [
    "model.eval()\n",
    "\n",
    "with torch.no_grad():\n",
    "    train_logits_dnn_alldata = model(X_train_alldata.float())[1].detach().cpu().numpy()\n",
    "    test_logits_dnn_alldata = model(X_test_alldata.float())[1].detach().cpu().numpy()\n",
    "    train_logits_dnn_realdist = model(X_train_realdist.float())[1].detach().cpu().numpy()\n",
    "    test_logits_dnn_realdist = model(X_test_realdist.float())[1].detach().cpu().numpy()\n",
    "    train_logits_dnn_balanced = model(X_train_balanced.float())[1].detach().cpu().numpy()\n",
    "    test_logits_dnn_balanced = model(X_test_balanced.float())[1].detach().cpu().numpy()"
   ]
  },
  {
   "cell_type": "code",
   "execution_count": 367,
   "id": "f1f44c8b",
   "metadata": {},
   "outputs": [
    {
     "data": {
      "text/plain": [
       "(array([[ -8.168253 ],\n",
       "        [  5.6654778],\n",
       "        [ -1.99144  ],\n",
       "        ...,\n",
       "        [-25.142923 ],\n",
       "        [ -9.857235 ],\n",
       "        [-11.477509 ]], dtype=float32),\n",
       " array([[ -6.632645 ],\n",
       "        [-12.517828 ],\n",
       "        [ -4.8939857],\n",
       "        ...,\n",
       "        [  4.328829 ],\n",
       "        [ -5.4864573],\n",
       "        [  6.445583 ]], dtype=float32),\n",
       " array([[-12.112804 ],\n",
       "        [  3.9351969],\n",
       "        [  4.503063 ],\n",
       "        ...,\n",
       "        [-20.006413 ],\n",
       "        [ -8.729936 ],\n",
       "        [-16.542418 ]], dtype=float32),\n",
       " array([[-1.58126945e+01],\n",
       "        [-1.23463612e+01],\n",
       "        [ 2.20779514e+00],\n",
       "        [-2.12806282e+01],\n",
       "        [-2.41199265e+01],\n",
       "        [-9.40355301e-01],\n",
       "        [ 3.53277159e+00],\n",
       "        [-5.31555843e+00],\n",
       "        [-2.13989716e+01],\n",
       "        [-1.03952007e+01],\n",
       "        [-6.83899879e+00],\n",
       "        [-2.36320710e+00],\n",
       "        [-1.96180267e+01],\n",
       "        [-1.43530643e+00],\n",
       "        [-1.01868916e+01],\n",
       "        [-1.52589712e+01],\n",
       "        [-9.01798248e+00],\n",
       "        [-7.16112375e+00],\n",
       "        [ 3.64982986e+00],\n",
       "        [ 6.44558334e+00],\n",
       "        [-2.05748787e+01],\n",
       "        [-5.36192608e+00],\n",
       "        [-1.36646900e+01],\n",
       "        [-1.78303604e+01],\n",
       "        [-1.99715843e+01],\n",
       "        [-1.34761658e+01],\n",
       "        [ 2.37877178e+00],\n",
       "        [-2.37081451e+01],\n",
       "        [-7.38067913e+00],\n",
       "        [ 4.87679291e+00],\n",
       "        [ 2.89370251e+00],\n",
       "        [-7.02343893e+00],\n",
       "        [-1.42682724e+01],\n",
       "        [ 1.43748057e+00],\n",
       "        [-1.65927291e-01],\n",
       "        [-9.99409580e+00],\n",
       "        [-1.88391724e+01],\n",
       "        [-6.86340237e+00],\n",
       "        [-2.30952873e+01],\n",
       "        [-1.14942760e+01],\n",
       "        [-1.38272877e+01],\n",
       "        [-1.15577621e+01],\n",
       "        [-1.07719927e+01],\n",
       "        [-5.30848122e+00],\n",
       "        [ 2.15383291e+00],\n",
       "        [-1.14836426e+01],\n",
       "        [ 4.21408319e+00],\n",
       "        [-1.75858364e+01],\n",
       "        [-8.42426109e+00],\n",
       "        [-6.18583488e+00],\n",
       "        [-5.24056339e+00],\n",
       "        [-1.17926331e+01],\n",
       "        [-1.40220528e+01],\n",
       "        [ 2.20310473e+00],\n",
       "        [-2.24382439e+01],\n",
       "        [ 2.93666220e+00],\n",
       "        [-1.74055843e+01],\n",
       "        [-1.02232590e+01],\n",
       "        [ 3.77421570e+00],\n",
       "        [-2.32453613e+01],\n",
       "        [-7.20992279e+00],\n",
       "        [-1.16139412e+01],\n",
       "        [-1.21148033e+01],\n",
       "        [-1.09786081e+01],\n",
       "        [-4.03802395e+00],\n",
       "        [-8.14403915e+00],\n",
       "        [-9.93857002e+00],\n",
       "        [-4.60327482e+00],\n",
       "        [-7.52988434e+00],\n",
       "        [-4.84083271e+00],\n",
       "        [-4.02414131e+00],\n",
       "        [-1.46072855e+01],\n",
       "        [-1.98478889e+01],\n",
       "        [-1.11246529e+01],\n",
       "        [ 2.41359472e+00],\n",
       "        [-1.25100050e+01],\n",
       "        [-9.77019787e+00],\n",
       "        [-1.61349068e+01],\n",
       "        [-9.90875435e+00],\n",
       "        [-1.43666916e+01],\n",
       "        [ 5.43306732e+00],\n",
       "        [-2.40501461e+01],\n",
       "        [-1.25132294e+01],\n",
       "        [-2.72663250e+01],\n",
       "        [-5.02234573e+01],\n",
       "        [-1.63291740e+01],\n",
       "        [-1.33395367e+01],\n",
       "        [-8.39103699e+00],\n",
       "        [-1.64692860e+01],\n",
       "        [-1.74232159e+01],\n",
       "        [ 2.09300375e+00],\n",
       "        [ 4.35207367e+00],\n",
       "        [-1.22011604e+01],\n",
       "        [-9.13949108e+00],\n",
       "        [-2.33962955e+01],\n",
       "        [ 2.30173182e+00],\n",
       "        [-1.05431013e+01],\n",
       "        [-1.36267796e+01],\n",
       "        [-1.48693962e+01],\n",
       "        [ 2.01205397e+00],\n",
       "        [-7.00478888e+00],\n",
       "        [-4.89749718e+00],\n",
       "        [-1.16360817e+01],\n",
       "        [-1.93796082e+01],\n",
       "        [ 1.98615038e+00],\n",
       "        [-1.72436256e+01],\n",
       "        [-1.93792844e+00],\n",
       "        [ 4.49055052e+00],\n",
       "        [-1.84675419e+00],\n",
       "        [-8.53333664e+00],\n",
       "        [ 1.03106976e+00],\n",
       "        [-1.59939404e+01],\n",
       "        [-1.22516232e+01],\n",
       "        [-1.40907936e+01],\n",
       "        [-2.56099358e+01],\n",
       "        [-7.52699947e+00],\n",
       "        [-5.94603014e+00],\n",
       "        [-2.65829945e+00],\n",
       "        [-5.34920263e+00],\n",
       "        [-1.42478857e+01],\n",
       "        [-7.36246681e+00],\n",
       "        [-5.75121021e+00],\n",
       "        [-9.79509830e+00],\n",
       "        [-3.30023537e+01],\n",
       "        [-1.91906872e+01],\n",
       "        [-1.50699177e+01],\n",
       "        [-6.42483473e-01],\n",
       "        [-1.12093439e+01],\n",
       "        [-1.15808926e+01],\n",
       "        [-1.47007427e+01],\n",
       "        [ 2.34639835e+00],\n",
       "        [-1.37338724e+01],\n",
       "        [ 1.05494773e+00],\n",
       "        [ 2.73970079e+00],\n",
       "        [-1.20688343e+01],\n",
       "        [-4.74561977e+00],\n",
       "        [-2.30621452e+01],\n",
       "        [ 5.41290283e+00],\n",
       "        [-1.54993954e+01],\n",
       "        [-2.90316772e+00],\n",
       "        [ 4.95133400e+00],\n",
       "        [ 2.96154761e+00],\n",
       "        [-1.43967600e+01],\n",
       "        [ 1.24470383e-01],\n",
       "        [-1.06015835e+01],\n",
       "        [ 4.51621246e+00],\n",
       "        [-3.90819092e+01],\n",
       "        [-9.32784843e+00],\n",
       "        [-1.00282936e+01],\n",
       "        [-9.00799656e+00],\n",
       "        [-1.21558819e+01],\n",
       "        [ 4.32882929e+00],\n",
       "        [-1.13165867e+00],\n",
       "        [-1.67521420e+01],\n",
       "        [-9.58820915e+00],\n",
       "        [-1.38080654e+01],\n",
       "        [ 2.46740031e+00],\n",
       "        [-2.37837219e+01],\n",
       "        [-1.22566271e+01],\n",
       "        [-2.32066422e+01],\n",
       "        [-4.90254593e+00],\n",
       "        [-1.01915779e+01],\n",
       "        [-1.33255920e+01],\n",
       "        [-3.68600502e+01],\n",
       "        [-3.73432517e+00],\n",
       "        [-5.44779778e+00],\n",
       "        [-2.03184509e+01],\n",
       "        [-1.74391937e+01],\n",
       "        [-7.17316341e+00],\n",
       "        [-6.48781967e+00],\n",
       "        [-1.59816303e+01],\n",
       "        [-3.14387226e+00],\n",
       "        [-1.87990494e+01],\n",
       "        [ 3.01915002e+00],\n",
       "        [-7.97168541e+00],\n",
       "        [-1.86773586e+01],\n",
       "        [-3.97585392e-01],\n",
       "        [-2.77911263e+01],\n",
       "        [-1.55778971e+01],\n",
       "        [-1.18032084e+01],\n",
       "        [-1.49988813e+01],\n",
       "        [-1.66124306e+01],\n",
       "        [-3.37150717e+00],\n",
       "        [-1.58564281e+01],\n",
       "        [ 4.59022713e+00],\n",
       "        [-1.13224154e+01],\n",
       "        [-7.05819893e+00],\n",
       "        [-6.04118538e+00],\n",
       "        [-7.34122467e+00],\n",
       "        [ 5.21022034e+00],\n",
       "        [ 2.16639113e+00],\n",
       "        [-2.60307026e+00],\n",
       "        [-1.36969376e+01],\n",
       "        [-1.51326895e+01],\n",
       "        [-1.05209885e+01],\n",
       "        [ 4.94868279e+00],\n",
       "        [-8.64884281e+00],\n",
       "        [-1.64576035e+01],\n",
       "        [-9.06347847e+00],\n",
       "        [-2.84846897e+01],\n",
       "        [-4.84754276e+00],\n",
       "        [-1.31903849e+01],\n",
       "        [-2.31705036e+01],\n",
       "        [-1.15344086e+01],\n",
       "        [-1.63695793e+01],\n",
       "        [ 4.97900963e+00],\n",
       "        [-8.87499905e+00],\n",
       "        [-9.28824520e+00],\n",
       "        [-1.22636051e+01],\n",
       "        [-1.28313065e+01],\n",
       "        [-1.07515984e+01],\n",
       "        [-4.13686085e+00],\n",
       "        [ 2.77115321e+00],\n",
       "        [-1.78249111e+01],\n",
       "        [ 2.00100327e+00],\n",
       "        [ 3.36817908e+00],\n",
       "        [-1.30247974e+00],\n",
       "        [-3.79379511e+00],\n",
       "        [ 4.11760187e+00],\n",
       "        [-4.09108829e+00],\n",
       "        [ 2.04366469e+00],\n",
       "        [ 3.28794909e+00],\n",
       "        [ 1.04404998e+00],\n",
       "        [-1.65513821e+01],\n",
       "        [ 3.83472276e+00],\n",
       "        [-1.19200268e+01],\n",
       "        [-1.26692419e+01],\n",
       "        [ 2.56237936e+00],\n",
       "        [-1.26223907e+01],\n",
       "        [ 6.55770183e-01],\n",
       "        [-5.75705433e+00],\n",
       "        [-1.09955387e+01],\n",
       "        [-1.50029297e+01],\n",
       "        [-1.46669064e+01],\n",
       "        [ 7.49030113e-02],\n",
       "        [-8.82354617e-01],\n",
       "        [-1.08239861e+01],\n",
       "        [-7.23321104e+00],\n",
       "        [-1.31057272e+01],\n",
       "        [-3.67061005e+01],\n",
       "        [-8.93515301e+00],\n",
       "        [-1.14010611e+01],\n",
       "        [-1.57983246e+01],\n",
       "        [-1.69845581e+01],\n",
       "        [-1.43760099e+01],\n",
       "        [-3.68074012e+00],\n",
       "        [-7.22244453e+00],\n",
       "        [ 3.45097065e+00],\n",
       "        [-1.37024155e+01],\n",
       "        [-9.25558281e+00],\n",
       "        [ 5.60800910e-01],\n",
       "        [-1.57309513e+01],\n",
       "        [-1.16474228e+01],\n",
       "        [-5.12277603e+00],\n",
       "        [-1.00042877e+01],\n",
       "        [-1.58902168e+01],\n",
       "        [-7.72301149e+00],\n",
       "        [-8.70472717e+00],\n",
       "        [ 5.83126640e+00],\n",
       "        [ 2.15220070e+00],\n",
       "        [-1.24366169e+01],\n",
       "        [-1.75797997e+01],\n",
       "        [-9.57992935e+00],\n",
       "        [-1.05673349e+00],\n",
       "        [ 8.34391773e-01],\n",
       "        [-2.05034294e+01],\n",
       "        [-6.60814571e+00],\n",
       "        [-4.55460787e+00],\n",
       "        [-1.28583689e+01],\n",
       "        [-1.06674004e+01],\n",
       "        [ 4.20756960e+00],\n",
       "        [-1.44318056e+01],\n",
       "        [-1.17382097e+01],\n",
       "        [-1.15338097e+01],\n",
       "        [-1.34170532e+01],\n",
       "        [-2.13966942e+01],\n",
       "        [-1.01829777e+01],\n",
       "        [ 3.36537361e+00],\n",
       "        [-5.18595886e+01],\n",
       "        [-1.34199314e+01],\n",
       "        [-7.70619631e+00],\n",
       "        [ 5.82201242e+00],\n",
       "        [-1.23794117e+01],\n",
       "        [-2.31346073e+01],\n",
       "        [ 2.21549916e+00],\n",
       "        [-2.00648994e+01],\n",
       "        [-6.72759116e-03],\n",
       "        [-2.18083115e+01],\n",
       "        [-1.12952709e+01],\n",
       "        [-5.46257067e+00],\n",
       "        [ 8.43212724e-01],\n",
       "        [-1.13704758e+01],\n",
       "        [-3.85014725e+00],\n",
       "        [-8.77192593e+00],\n",
       "        [-9.67844772e+00],\n",
       "        [ 3.51712227e-01],\n",
       "        [ 7.81099856e-01],\n",
       "        [-1.41330643e+01],\n",
       "        [ 2.15131760e+00],\n",
       "        [-1.70436211e+01],\n",
       "        [-8.82198906e+00],\n",
       "        [-1.88602829e+01],\n",
       "        [-6.41437721e+00],\n",
       "        [-1.51611881e+01],\n",
       "        [ 3.45787954e+00],\n",
       "        [-1.24730453e+01],\n",
       "        [-1.07609520e+01],\n",
       "        [-1.52158909e+01],\n",
       "        [-2.65959911e+01],\n",
       "        [ 6.49111176e+00],\n",
       "        [ 3.59932232e+00],\n",
       "        [-1.01065321e+01],\n",
       "        [-1.39758968e+00],\n",
       "        [-3.40227199e+00],\n",
       "        [ 6.99949861e-01],\n",
       "        [-1.21163845e+01],\n",
       "        [-1.96686096e+01],\n",
       "        [-1.48537149e+01],\n",
       "        [-1.54086781e+01],\n",
       "        [-1.03377266e+01],\n",
       "        [-9.31735611e+00],\n",
       "        [-6.05692267e-01],\n",
       "        [-9.82252121e+00],\n",
       "        [-1.50853786e+01],\n",
       "        [ 6.00236797e+00],\n",
       "        [-1.16820831e+01],\n",
       "        [ 3.17901516e+00],\n",
       "        [ 2.57496190e+00],\n",
       "        [-1.04283190e+01],\n",
       "        [-1.60817337e+01],\n",
       "        [-9.35844517e+00],\n",
       "        [ 3.46247387e+00],\n",
       "        [-7.69501781e+00],\n",
       "        [-2.08834152e+01],\n",
       "        [-1.21822033e+01],\n",
       "        [-1.45183067e+01],\n",
       "        [ 2.83664870e+00],\n",
       "        [-1.62375259e+01],\n",
       "        [-1.24374151e+01],\n",
       "        [-1.29007187e+01],\n",
       "        [-9.04126167e+00],\n",
       "        [-4.67508125e+00],\n",
       "        [-1.53309307e+01],\n",
       "        [-1.59743757e+01],\n",
       "        [-8.59435844e+00],\n",
       "        [-8.60400581e+00],\n",
       "        [-1.85009460e+01],\n",
       "        [-7.50014782e+00],\n",
       "        [-4.87941408e+00],\n",
       "        [-1.07295790e+01],\n",
       "        [ 1.50540757e+00],\n",
       "        [-1.22543221e+01],\n",
       "        [-1.17788448e+01],\n",
       "        [-3.73687434e+00],\n",
       "        [ 3.78477693e+00],\n",
       "        [-1.52440119e+01],\n",
       "        [ 2.52938938e+00],\n",
       "        [ 3.45945644e+00],\n",
       "        [ 4.78822947e-01],\n",
       "        [ 4.07773590e+00],\n",
       "        [-7.57408285e+00],\n",
       "        [-1.06075821e+01],\n",
       "        [-1.37814560e+01],\n",
       "        [-8.89098585e-01],\n",
       "        [-6.65144348e+00],\n",
       "        [ 2.48946905e+00],\n",
       "        [-1.06948338e+01],\n",
       "        [-1.23336196e+00],\n",
       "        [ 3.71174049e+00],\n",
       "        [-8.01424122e+00],\n",
       "        [-1.18879356e+01],\n",
       "        [-4.97652113e-01],\n",
       "        [ 2.25706744e+00],\n",
       "        [ 4.49996376e+00],\n",
       "        [-3.21247721e+00],\n",
       "        [ 2.35490608e+00],\n",
       "        [-1.61248322e+01],\n",
       "        [-1.85830593e+01],\n",
       "        [ 4.94252205e+00],\n",
       "        [-4.74709225e+00],\n",
       "        [-1.08331165e+01],\n",
       "        [ 6.42656505e-01],\n",
       "        [-8.06546879e+00],\n",
       "        [-1.14317980e+01],\n",
       "        [ 2.41259718e+00],\n",
       "        [-1.35375810e+00],\n",
       "        [-1.28515205e+01],\n",
       "        [ 3.36757994e+00],\n",
       "        [-1.29118311e+00],\n",
       "        [ 4.49781799e+00],\n",
       "        [-1.69867134e+01],\n",
       "        [-1.00037365e+01],\n",
       "        [ 5.70608234e+00],\n",
       "        [-2.08765869e+01],\n",
       "        [-1.77272873e+01],\n",
       "        [-1.02470760e+01],\n",
       "        [-1.93297997e+01],\n",
       "        [ 1.61119628e+00],\n",
       "        [-6.71908140e+00],\n",
       "        [-1.30202484e+01],\n",
       "        [-1.33445082e+01],\n",
       "        [-7.39893246e+00],\n",
       "        [-1.33134651e+01],\n",
       "        [-1.96931267e+00],\n",
       "        [-1.29344921e+01],\n",
       "        [-1.49533339e+01],\n",
       "        [-1.68627853e+01],\n",
       "        [-4.57612324e+00],\n",
       "        [-3.89856398e-01],\n",
       "        [-1.22006721e+01],\n",
       "        [-8.18651390e+00],\n",
       "        [-1.99673634e+01],\n",
       "        [-1.51525764e+01],\n",
       "        [-1.37258348e+01],\n",
       "        [-1.57920742e+01],\n",
       "        [-8.91480827e+00],\n",
       "        [-4.24091387e+00],\n",
       "        [-1.98835411e+01],\n",
       "        [ 5.70957613e+00],\n",
       "        [ 2.39316511e+00],\n",
       "        [-1.01858788e+01],\n",
       "        [-1.14500313e+01],\n",
       "        [-9.59992218e+00],\n",
       "        [-6.27984428e+00],\n",
       "        [-1.41404667e+01],\n",
       "        [-2.90239477e+00],\n",
       "        [-1.66626472e+01],\n",
       "        [ 3.67058444e+00],\n",
       "        [ 2.06867075e+00],\n",
       "        [ 2.96422052e+00],\n",
       "        [-1.18279781e+01],\n",
       "        [ 3.41967177e+00],\n",
       "        [-1.41644945e+01],\n",
       "        [ 3.33464813e+00],\n",
       "        [-7.68722248e+00],\n",
       "        [-4.25136261e+01],\n",
       "        [-8.31233597e+00],\n",
       "        [-4.47413921e+00],\n",
       "        [-1.60389175e+01],\n",
       "        [ 8.22611570e-01],\n",
       "        [-4.53349638e+00],\n",
       "        [-6.08050728e+00],\n",
       "        [-3.73189592e+00],\n",
       "        [-9.47925568e+00],\n",
       "        [-6.99148893e-01],\n",
       "        [-1.38332157e+01],\n",
       "        [-8.48488045e+00],\n",
       "        [ 3.46211481e+00],\n",
       "        [ 2.26917100e+00],\n",
       "        [-1.08978662e+01]], dtype=float32),\n",
       " array([[  4.2387795],\n",
       "        [  2.6401992],\n",
       "        [  5.2660003],\n",
       "        ...,\n",
       "        [-16.708023 ],\n",
       "        [  5.21455  ],\n",
       "        [  5.755739 ]], dtype=float32),\n",
       " array([[-1.34558878e+01],\n",
       "        [-8.82354617e-01],\n",
       "        [-1.29390202e+01],\n",
       "        [-3.73687434e+00],\n",
       "        [-7.90724754e+00],\n",
       "        [ 4.95133400e+00],\n",
       "        [ 4.78822947e-01],\n",
       "        [ 2.16639113e+00],\n",
       "        [-1.30130253e+01],\n",
       "        [-1.27352114e+01],\n",
       "        [-6.99148893e-01],\n",
       "        [-1.20662498e+01],\n",
       "        [ 3.36817908e+00],\n",
       "        [-9.45877075e+00],\n",
       "        [ 2.73970079e+00],\n",
       "        [-9.40355301e-01],\n",
       "        [-1.57584419e+01],\n",
       "        [-1.31743536e+01],\n",
       "        [ 4.11760187e+00],\n",
       "        [-7.51294184e+00],\n",
       "        [-1.27162399e+01],\n",
       "        [-1.32368765e+01],\n",
       "        [-1.30022678e+01],\n",
       "        [-8.53122520e+00],\n",
       "        [-6.08050776e+00],\n",
       "        [-4.83527565e+00],\n",
       "        [ 2.35490608e+00],\n",
       "        [ 4.51621246e+00],\n",
       "        [-1.24892302e+01],\n",
       "        [-2.00163765e+01],\n",
       "        [-1.23336196e+00],\n",
       "        [ 2.15383291e+00],\n",
       "        [ 3.28794909e+00],\n",
       "        [-2.96062126e+01],\n",
       "        [-2.60307026e+00],\n",
       "        [ 1.50540757e+00],\n",
       "        [ 2.93666220e+00],\n",
       "        [ 3.77421570e+00],\n",
       "        [-1.06447048e+01],\n",
       "        [ 6.49111176e+00],\n",
       "        [-6.42483473e-01],\n",
       "        [-1.82977028e+01],\n",
       "        [ 4.59022713e+00],\n",
       "        [-1.17319317e+01],\n",
       "        [-1.36969376e+01],\n",
       "        [ 1.43748057e+00],\n",
       "        [-2.94025764e+01],\n",
       "        [ 2.20779514e+00],\n",
       "        [-4.45383501e+00],\n",
       "        [-1.01496048e+01],\n",
       "        [ 3.46247387e+00],\n",
       "        [ 2.39316511e+00],\n",
       "        [-2.08091698e+01],\n",
       "        [-8.02815247e+00],\n",
       "        [-1.16618462e+01],\n",
       "        [ 2.41259718e+00],\n",
       "        [-7.91947031e+00],\n",
       "        [-1.39758968e+00],\n",
       "        [-1.79518127e+01],\n",
       "        [ 1.03106976e+00],\n",
       "        [-2.28086720e+01],\n",
       "        [-1.32445412e+01],\n",
       "        [ 2.37877178e+00],\n",
       "        [-4.11667156e+00],\n",
       "        [ 2.20310497e+00],\n",
       "        [-9.94157505e+00],\n",
       "        [-1.24654474e+01],\n",
       "        [ 8.34391892e-01],\n",
       "        [ 3.59932232e+00],\n",
       "        [ 2.25706744e+00],\n",
       "        [ 8.43212724e-01],\n",
       "        [-2.62058616e+00],\n",
       "        [ 2.48946905e+00],\n",
       "        [ 5.60800910e-01],\n",
       "        [-1.50410700e+01],\n",
       "        [ 4.07773590e+00],\n",
       "        [-4.97652113e-01],\n",
       "        [-9.76460266e+00],\n",
       "        [ 3.78477693e+00],\n",
       "        [-6.05692267e-01],\n",
       "        [-1.42588711e+01],\n",
       "        [-1.43315582e+01],\n",
       "        [-1.06015835e+01],\n",
       "        [ 3.36537361e+00],\n",
       "        [-1.14225531e+01],\n",
       "        [-1.03089895e+01],\n",
       "        [-5.51185036e+00],\n",
       "        [ 2.77115321e+00],\n",
       "        [ 1.24470398e-01],\n",
       "        [ 3.36757994e+00],\n",
       "        [ 5.21022034e+00],\n",
       "        [-9.13290691e+00],\n",
       "        [-9.60111046e+00],\n",
       "        [-6.62867689e+00],\n",
       "        [-2.12374229e+01],\n",
       "        [-1.04000740e+01],\n",
       "        [ 4.94868279e+00],\n",
       "        [-5.32551346e+01],\n",
       "        [-4.00580835e+00],\n",
       "        [-3.79379511e+00],\n",
       "        [ 4.49781799e+00],\n",
       "        [-4.14712667e+00],\n",
       "        [-1.43760099e+01],\n",
       "        [-8.49204063e+00],\n",
       "        [ 3.64982963e+00],\n",
       "        [-6.91184330e+00],\n",
       "        [ 1.04404998e+00],\n",
       "        [ 2.06867075e+00],\n",
       "        [-9.27325249e+00],\n",
       "        [-1.64889221e+01],\n",
       "        [ 5.82201242e+00],\n",
       "        [-2.90239477e+00],\n",
       "        [-2.36320710e+00],\n",
       "        [-5.95617342e+00],\n",
       "        [ 5.70608234e+00],\n",
       "        [-3.36449051e+00],\n",
       "        [-1.20424356e+01],\n",
       "        [-6.72759116e-03],\n",
       "        [-3.42574120e+00],\n",
       "        [ 3.17901516e+00],\n",
       "        [ 3.33464813e+00],\n",
       "        [-1.21142235e+01],\n",
       "        [-9.88674355e+00],\n",
       "        [-1.15547228e+01],\n",
       "        [-4.08243942e+00],\n",
       "        [ 5.41290283e+00],\n",
       "        [ 3.83472300e+00],\n",
       "        [-4.48429871e+00],\n",
       "        [-4.82815647e+00],\n",
       "        [-1.16244764e+01],\n",
       "        [ 7.81099856e-01],\n",
       "        [-1.98263512e+01],\n",
       "        [-1.76550064e+01],\n",
       "        [-2.30865154e+01],\n",
       "        [-1.19284286e+01],\n",
       "        [-3.14387226e+00],\n",
       "        [-8.89098644e-01],\n",
       "        [-9.15422630e+00],\n",
       "        [-6.54848671e+00],\n",
       "        [-8.17785931e+00],\n",
       "        [ 3.67058444e+00],\n",
       "        [-1.16908197e+01],\n",
       "        [ 2.89370251e+00],\n",
       "        [ 1.05494773e+00],\n",
       "        [-1.42706833e+01],\n",
       "        [-1.80486298e+01],\n",
       "        [ 2.15220070e+00],\n",
       "        [-9.20425034e+00],\n",
       "        [-1.65927291e-01],\n",
       "        [ 3.45787930e+00],\n",
       "        [-3.31085062e+00],\n",
       "        [ 2.01205397e+00],\n",
       "        [-1.17419481e+01],\n",
       "        [-2.31160507e+01],\n",
       "        [-4.99567890e+00],\n",
       "        [ 6.55770183e-01],\n",
       "        [ 2.46740031e+00],\n",
       "        [ 2.56237936e+00],\n",
       "        [-1.39005270e+01],\n",
       "        [-6.40290546e+00],\n",
       "        [-2.05103531e+01],\n",
       "        [-3.89856398e-01],\n",
       "        [ 6.44558334e+00],\n",
       "        [ 5.83126640e+00],\n",
       "        [-4.02414131e+00],\n",
       "        [-8.97965908e+00],\n",
       "        [-1.44834948e+01],\n",
       "        [ 4.49055052e+00],\n",
       "        [-6.36441660e+00],\n",
       "        [-1.09261265e+01],\n",
       "        [ 4.94252205e+00],\n",
       "        [-4.32757683e+01],\n",
       "        [ 2.21549916e+00],\n",
       "        [-3.97585392e-01],\n",
       "        [-4.55095959e+00],\n",
       "        [ 4.21408319e+00],\n",
       "        [-2.34600124e+01],\n",
       "        [-1.29285030e+01],\n",
       "        [ 4.20756960e+00],\n",
       "        [-4.02927876e+00],\n",
       "        [-1.89927368e+01],\n",
       "        [-1.13165855e+00],\n",
       "        [ 1.98615038e+00],\n",
       "        [ 2.09300375e+00],\n",
       "        [-6.14224243e+00],\n",
       "        [ 7.49030113e-02],\n",
       "        [ 2.57496190e+00],\n",
       "        [-1.09274693e+01],\n",
       "        [ 4.49996376e+00],\n",
       "        [-1.07641993e+01],\n",
       "        [ 4.35207367e+00],\n",
       "        [ 6.99949861e-01],\n",
       "        [-6.62330246e+00],\n",
       "        [-1.60094376e+01],\n",
       "        [-6.27984428e+00],\n",
       "        [-1.84675419e+00],\n",
       "        [ 6.00236797e+00],\n",
       "        [-6.16091299e+00],\n",
       "        [-9.95028877e+00],\n",
       "        [-3.22222519e+01],\n",
       "        [ 3.53277159e+00],\n",
       "        [-1.12036877e+01],\n",
       "        [-2.33962955e+01],\n",
       "        [ 2.26917100e+00],\n",
       "        [ 3.46211481e+00],\n",
       "        [-6.41119289e+00],\n",
       "        [-1.48956661e+01],\n",
       "        [ 4.87679291e+00],\n",
       "        [-1.16459894e+01],\n",
       "        [-7.51049232e+00],\n",
       "        [-1.08677731e+01],\n",
       "        [ 2.41359472e+00],\n",
       "        [-2.49740791e+00],\n",
       "        [-1.96931267e+00],\n",
       "        [-2.07462273e+01],\n",
       "        [-1.29118311e+00],\n",
       "        [ 2.96154785e+00],\n",
       "        [-2.42159004e+01],\n",
       "        [-7.29584789e+00],\n",
       "        [-4.47413921e+00],\n",
       "        [ 4.32882929e+00],\n",
       "        [-6.42475653e+00],\n",
       "        [-9.81127357e+00],\n",
       "        [-4.67508125e+00],\n",
       "        [-9.62891579e+00],\n",
       "        [-2.65829945e+00],\n",
       "        [ 3.51712227e-01],\n",
       "        [-1.42471323e+01],\n",
       "        [-4.56880798e+01],\n",
       "        [ 1.61119628e+00],\n",
       "        [-1.84975319e+01],\n",
       "        [ 5.43306732e+00],\n",
       "        [-5.54175854e+00],\n",
       "        [ 2.34639835e+00],\n",
       "        [-1.17011814e+01],\n",
       "        [ 6.42656505e-01],\n",
       "        [ 2.30173182e+00],\n",
       "        [ 3.41967177e+00],\n",
       "        [-1.37431030e+01],\n",
       "        [-2.87927794e+00],\n",
       "        [-9.46136284e+00],\n",
       "        [-2.60398941e+01],\n",
       "        [ 3.45097065e+00],\n",
       "        [-1.27314243e+01],\n",
       "        [ 4.97900963e+00],\n",
       "        [-2.31150093e+01],\n",
       "        [-1.42106037e+01],\n",
       "        [ 3.01915002e+00],\n",
       "        [-1.30247974e+00],\n",
       "        [-1.20242519e+01],\n",
       "        [ 3.71174049e+00],\n",
       "        [-1.01431055e+01],\n",
       "        [-1.10944653e+01],\n",
       "        [ 2.52938938e+00],\n",
       "        [-1.43530643e+00],\n",
       "        [ 8.22611570e-01],\n",
       "        [-4.86685991e+00],\n",
       "        [ 2.00100327e+00],\n",
       "        [-1.05673349e+00],\n",
       "        [-1.11371880e+01],\n",
       "        [ 2.83664870e+00],\n",
       "        [-8.35017586e+00],\n",
       "        [-2.91913586e+01],\n",
       "        [-7.03526878e+00],\n",
       "        [-4.53349638e+00],\n",
       "        [-1.18973017e+01],\n",
       "        [ 2.15131760e+00],\n",
       "        [-1.15338087e+01],\n",
       "        [ 2.96422052e+00],\n",
       "        [ 5.70957613e+00],\n",
       "        [-7.92217779e+00]], dtype=float32))"
      ]
     },
     "execution_count": 367,
     "metadata": {},
     "output_type": "execute_result"
    }
   ],
   "source": [
    "train_logits_dnn_alldata, test_logits_dnn_alldata,\\\n",
    "train_logits_dnn_realdist, test_logits_dnn_realdist,\\\n",
    "train_logits_dnn_balanced, test_logits_dnn_balanced"
   ]
  },
  {
   "cell_type": "markdown",
   "id": "d430b347",
   "metadata": {},
   "source": [
    "Add DNN logit column to production datasets"
   ]
  },
  {
   "cell_type": "code",
   "execution_count": 369,
   "id": "5b5dfae6",
   "metadata": {},
   "outputs": [],
   "source": [
    "train_alldata_dnnlogits = pd.read_csv('../Datasets/train_final_production_alldata.csv')\n",
    "test_alldata_dnnlogits = pd.read_csv('../Datasets/test_final_production_alldata.csv')\n",
    "train_realdist_dnnlogits = pd.read_csv('../Datasets/train_final_production_realdist.csv')\n",
    "test_realdist_dnnlogits = pd.read_csv('../Datasets/test_final_production_realdist.csv')\n",
    "train_balanced_dnnlogits = pd.read_csv('../Datasets/train_final_production_balanced.csv')\n",
    "test_balanced_dnnlogits = pd.read_csv('../Datasets/test_final_production_balanced.csv')"
   ]
  },
  {
   "cell_type": "code",
   "execution_count": 371,
   "id": "d476a687",
   "metadata": {},
   "outputs": [],
   "source": [
    "train_alldata_dnnlogits['DNNlogits_modelpredicted'] = train_logits_dnn_alldata\n",
    "test_alldata_dnnlogits['DNNlogits_modelpredicted'] = test_logits_dnn_alldata\n",
    "\n",
    "train_realdist_dnnlogits['DNNlogits_modelpredicted'] = train_logits_dnn_realdist\n",
    "test_realdist_dnnlogits['DNNlogits_modelpredicted'] = test_logits_dnn_realdist\n",
    "\n",
    "train_balanced_dnnlogits['DNNlogits_modelpredicted'] = train_logits_dnn_balanced\n",
    "test_balanced_dnnlogits['DNNlogits_modelpredicted'] = test_logits_dnn_balanced\n",
    "\n",
    "train_alldata_dnnlogits.to_csv('../Datasets/modelpredictedlogits_trainDNN_alldata.csv')\n",
    "test_alldata_dnnlogits.to_csv('../Datasets/modelpredictedlogits_testDNN_alldata.csv')\n",
    "\n",
    "train_realdist_dnnlogits.to_csv('../Datasets/modelpredictedlogits_trainDNN_realdist.csv')\n",
    "test_realdist_dnnlogits.to_csv('../Datasets/modelpredictedlogits_testDNN_realdist.csv')\n",
    "\n",
    "train_balanced_dnnlogits.to_csv('../Datasets/modelpredictedlogits_trainDNN_balanced.csv')\n",
    "test_balanced_dnnlogits.to_csv('../Datasets/modelpredictedlogits_testDNN_balanced.csv')\n"
   ]
  },
  {
   "cell_type": "markdown",
   "id": "24df5737",
   "metadata": {},
   "source": [
    "## Setup data for CNN training"
   ]
  },
  {
   "cell_type": "markdown",
   "id": "54ba8383",
   "metadata": {},
   "source": [
    "Current CNN approach doesn't really work.  Because the inputs are PanPhon features with padding dependent on the maxlen of the input data, and then reshaped into a square to fit into a 2D CNN, the filter is not able to capture the necessary dependency: that is, the relationship between an L1 feature and an L2 feature at the same approximate position in their respective words (cf., Persian /ɣ/ usually becomes Hindi /q/).  If we reshape the data this way for the network, because the ordering of PanPhon features are effectively conventionlized into a fixed order, a /q/ in an (e.g.) Hindi word is not guaranteed to fall in the same window as the equivalent /ɣ/ in the (e.g.) Persian source word, thus losing the dependency.  Therefore the CNN usually falls into a local minimum of predicting everything to be a non-loan word.  Loss remains relatively compared to the DNN and accuracy plateaus at about 90%."
   ]
  },
  {
   "cell_type": "markdown",
   "id": "de5ad51e",
   "metadata": {},
   "source": [
    "Use `train_alldata` again"
   ]
  },
  {
   "cell_type": "code",
   "execution_count": 497,
   "id": "df564fcf",
   "metadata": {},
   "outputs": [],
   "source": [
    "X_train = np.hstack([np.array([x for x in train_alldata['features_loan']]),\\\n",
    "                     np.array([x for x in train_alldata['features_orig']])])\n",
    "Y_train = np.array([y for y in train_alldata['label_bin']])"
   ]
  },
  {
   "cell_type": "code",
   "execution_count": 498,
   "id": "f827ea24",
   "metadata": {},
   "outputs": [
    {
     "data": {
      "text/plain": [
       "((9485, 1056), (2372, 1056), (9485,), (2372,))"
      ]
     },
     "execution_count": 498,
     "metadata": {},
     "output_type": "execute_result"
    }
   ],
   "source": [
    "# create train and validation splits for proper model training while keeping the composition of labels balanced between them using a random state '1 '\n",
    "\n",
    "X_train, X_val, Y_train, Y_val = train_test_split(X_train, Y_train, test_size=0.2, random_state=1, stratify=Y_train)\n",
    "X_train.shape, X_val.shape, Y_train.shape, Y_val.shape"
   ]
  },
  {
   "cell_type": "code",
   "execution_count": 499,
   "id": "7427f4c6",
   "metadata": {},
   "outputs": [
    {
     "name": "stderr",
     "output_type": "stream",
     "text": [
      "/var/folders/xr/f9q8dphs5vq5mhqy843mnkv40000gn/T/ipykernel_8822/2394371174.py:5: UserWarning: To copy construct from a tensor, it is recommended to use sourceTensor.clone().detach() or sourceTensor.clone().detach().requires_grad_(True), rather than torch.tensor(sourceTensor).\n",
      "  X_test = torch.tensor(X_test).to(device)\n",
      "/var/folders/xr/f9q8dphs5vq5mhqy843mnkv40000gn/T/ipykernel_8822/2394371174.py:6: UserWarning: To copy construct from a tensor, it is recommended to use sourceTensor.clone().detach() or sourceTensor.clone().detach().requires_grad_(True), rather than torch.tensor(sourceTensor).\n",
      "  Y_test = torch.tensor(Y_test).to(device).reshape((-1,1))\n"
     ]
    }
   ],
   "source": [
    "# convert them to torch tensors for padding\n",
    "X_train = torch.tensor(X_train).to(device)\n",
    "Y_train = torch.tensor(Y_train).to(device).reshape((-1,1))\n",
    "\n",
    "X_test = torch.tensor(X_test).to(device)\n",
    "Y_test = torch.tensor(Y_test).to(device).reshape((-1,1))\n",
    "\n",
    "X_val = torch.tensor(X_val).to(device)\n",
    "Y_val = torch.tensor(Y_val).to(device).reshape((-1,1))\n"
   ]
  },
  {
   "cell_type": "code",
   "execution_count": 500,
   "id": "90a5a0ad",
   "metadata": {},
   "outputs": [
    {
     "data": {
      "text/plain": [
       "(1089, 33)"
      ]
     },
     "execution_count": 500,
     "metadata": {},
     "output_type": "execute_result"
    }
   ],
   "source": [
    "closest_perfect_square = X_train.shape[1]\n",
    "while (True):\n",
    "    if np.sqrt(closest_perfect_square) - np.floor(np.sqrt(closest_perfect_square)) != 0:\n",
    "        closest_perfect_square += 1\n",
    "    else:\n",
    "        break\n",
    "view_shape = int(np.sqrt(closest_perfect_square))\n",
    "closest_perfect_square,view_shape"
   ]
  },
  {
   "cell_type": "code",
   "execution_count": 501,
   "id": "110d429e",
   "metadata": {},
   "outputs": [
    {
     "data": {
      "text/plain": [
       "(torch.Size([9485, 1089]),\n",
       " torch.Size([2372, 1089]),\n",
       " torch.Size([9485, 1]),\n",
       " torch.Size([2372, 1]))"
      ]
     },
     "execution_count": 501,
     "metadata": {},
     "output_type": "execute_result"
    }
   ],
   "source": [
    "X_train = F.pad(X_train, pad=(0, closest_perfect_square-X_train.shape[1]), value=0)\n",
    "X_val = F.pad(X_val, pad=(0, closest_perfect_square-X_val.shape[1]), value=0)\n",
    "X_train.shape, X_val.shape, Y_train.shape, Y_val.shape"
   ]
  },
  {
   "cell_type": "markdown",
   "id": "1cf9b700",
   "metadata": {},
   "source": [
    "## CNN Definition"
   ]
  },
  {
   "cell_type": "code",
   "execution_count": 620,
   "id": "266b4a74",
   "metadata": {},
   "outputs": [
    {
     "name": "stdout",
     "output_type": "stream",
     "text": [
      "DataParallel(\n",
      "  (module): CCN_Net(\n",
      "    (conv1): Conv2d(1, 128, kernel_size=(8, 8), stride=(1, 1))\n",
      "    (conv2): Conv2d(128, 64, kernel_size=(2, 2), stride=(1, 1))\n",
      "    (conv3): Conv2d(64, 32, kernel_size=(2, 2), stride=(1, 1))\n",
      "    (fc1): Linear(in_features=21632, out_features=512, bias=True)\n",
      "    (fc2): Linear(in_features=512, out_features=1, bias=True)\n",
      "    (dropout): Dropout(p=0.1, inplace=False)\n",
      "  )\n",
      ")\n"
     ]
    }
   ],
   "source": [
    "class CCN_Net(nn.Module):\n",
    "    def __init__(self):\n",
    "        super().__init__() # just run the init of parent class (nn.Module)\n",
    "        self.conv1 = nn.Conv2d(1, 128, 8) # input is 1 image, 32 output channels, 2X2 kernel / window\n",
    "        self.conv2 = nn.Conv2d(128, 64, 2) # input is 32, bc the first layer output 32. Then we say the output will be 64 channels, 5x5 kernel / window\n",
    "        self.conv3 = nn.Conv2d(64, 32, 2)\n",
    "        \n",
    "\n",
    "        #x = torch.randn(23,23).view(-1,1,23,23)\n",
    "        #x = torch.randn(33,33).view(-1,1,33,33) #33 because its the square root of 1089\n",
    "        #x = torch.randn(30,30).view(-1,1,30,30) #30 because its the square root of 900 for real dist train set\n",
    "        #x = torch.randn(29,29).view(-1,1,29,29) #29 because its the square root of 841 for balanced train set\n",
    "        x = torch.randn(view_shape,view_shape).view(-1,1,view_shape,view_shape) # for trained model logit prediction, for all data, 1089 is sq of 33\n",
    "        self._to_linear = None\n",
    "        self.convs(x)\n",
    "\n",
    "        self.fc1 = nn.Linear(self._to_linear, 512) #flattening.\n",
    "        self.fc2 = nn.Linear(512, 1) # 512 in, 2 out bc we're doing 2 classes (dog vs cat).\n",
    "        self.dropout = nn.Dropout(0.1)\n",
    "\n",
    "    def convs(self, x):\n",
    "        # max pooling over 2x2\n",
    "        x = F.max_pool2d(torch.tanh(self.conv1(x)), (2, 2))\n",
    "        #x = F.max_pool2d(torch.tanh(self.conv2(x)), (1, 1))\n",
    "        #x = F.max_pool2d(torch.tanh(self.conv3(x)), (1, 1))\n",
    "#         x = F.max_pool2d(F.relu(self.conv1(x)), (2, 2))\n",
    "#         x = F.max_pool2d(F.relu(self.conv2(x)), (2, 2))\n",
    "#         x = F.max_pool2d(F.relu(self.conv3(x)), (2, 2))\n",
    "        \n",
    "\n",
    "        if self._to_linear is None:\n",
    "            self._to_linear = x[0].shape[0]*x[0].shape[1]*x[0].shape[2]\n",
    "        return x\n",
    "\n",
    "    def forward(self, x):\n",
    "        x = self.convs(x)\n",
    "        x = x.view(-1, self._to_linear)  # .view is reshape ... this flattens X before \n",
    "        x = self.dropout(x)\n",
    "        x = torch.tanh(self.fc1(x))\n",
    "        #x = F.relu(self.fc1(x))\n",
    "        x = self.dropout(x)\n",
    "        x = self.fc2(x) # bc this is our output layer. No activation here.\n",
    "        return F.sigmoid(x), x, #comment it out to get the logits in the return statement \n",
    "        #return x\n",
    "                         \n",
    "\n",
    "\n",
    "CNN_Net = CCN_Net() \n",
    "CNN_Net = nn.DataParallel(CNN_Net)\n",
    "CNN_Net.to(device)\n",
    "print(CNN_Net)"
   ]
  },
  {
   "cell_type": "code",
   "execution_count": 621,
   "id": "f9c4c15c",
   "metadata": {},
   "outputs": [
    {
     "name": "stderr",
     "output_type": "stream",
     "text": [
      "/var/folders/xr/f9q8dphs5vq5mhqy843mnkv40000gn/T/ipykernel_8822/2849481093.py:1: UserWarning: To copy construct from a tensor, it is recommended to use sourceTensor.clone().detach() or sourceTensor.clone().detach().requires_grad_(True), rather than torch.tensor(sourceTensor).\n",
      "  X_train = torch.tensor(X_train).view(-1,view_shape,view_shape).to(device)\n",
      "/var/folders/xr/f9q8dphs5vq5mhqy843mnkv40000gn/T/ipykernel_8822/2849481093.py:2: UserWarning: To copy construct from a tensor, it is recommended to use sourceTensor.clone().detach() or sourceTensor.clone().detach().requires_grad_(True), rather than torch.tensor(sourceTensor).\n",
      "  X_val = torch.tensor(X_val).view(-1,view_shape,view_shape).to(device)\n",
      "/var/folders/xr/f9q8dphs5vq5mhqy843mnkv40000gn/T/ipykernel_8822/2849481093.py:3: UserWarning: To copy construct from a tensor, it is recommended to use sourceTensor.clone().detach() or sourceTensor.clone().detach().requires_grad_(True), rather than torch.tensor(sourceTensor).\n",
      "  Y_train = torch.tensor(Y_train).to(device)\n",
      "/var/folders/xr/f9q8dphs5vq5mhqy843mnkv40000gn/T/ipykernel_8822/2849481093.py:4: UserWarning: To copy construct from a tensor, it is recommended to use sourceTensor.clone().detach() or sourceTensor.clone().detach().requires_grad_(True), rather than torch.tensor(sourceTensor).\n",
      "  Y_val = torch.tensor(Y_val).to(device)\n"
     ]
    },
    {
     "data": {
      "text/plain": [
       "(torch.Size([9485, 33, 33]),\n",
       " torch.Size([2372, 33, 33]),\n",
       " torch.Size([9485, 1]),\n",
       " torch.Size([2372, 1]))"
      ]
     },
     "execution_count": 621,
     "metadata": {},
     "output_type": "execute_result"
    }
   ],
   "source": [
    "X_train = torch.tensor(X_train).view(-1,view_shape,view_shape).to(device)\n",
    "X_val = torch.tensor(X_val).view(-1,view_shape,view_shape).to(device)\n",
    "Y_train = torch.tensor(Y_train).to(device)\n",
    "Y_val = torch.tensor(Y_val).to(device)\n",
    "X_train.shape,X_val.shape,Y_train.shape,Y_val.shape\n"
   ]
  },
  {
   "cell_type": "code",
   "execution_count": 622,
   "id": "3ead32bb",
   "metadata": {},
   "outputs": [],
   "source": [
    "#optimizer = optim.Adam(CNN_Net.parameters(), lr=0.01)\n",
    "optimizer = optim.SGD(CNN_Net.parameters(),lr=0.001, momentum=0.0,  weight_decay=0.0, nesterov=False)\n",
    "#optimizer = torch.optim.RMSprop(CNN_Net.parameters(), lr=0.00001, alpha=0.99, eps=1e-08, weight_decay=0, momentum=0, centered=False)\n",
    "#loss_function = nn.MSELoss()\n",
    "scheduler1 = optim.lr_scheduler.ExponentialLR(optimizer, gamma=0.9)\n",
    "loss_function = nn.BCELoss().to(device)"
   ]
  },
  {
   "cell_type": "code",
   "execution_count": 623,
   "id": "f26bef86",
   "metadata": {},
   "outputs": [],
   "source": [
    "from tqdm import tqdm"
   ]
  },
  {
   "cell_type": "code",
   "execution_count": 624,
   "id": "54d26b30",
   "metadata": {},
   "outputs": [],
   "source": [
    "torch.cuda.empty_cache()"
   ]
  },
  {
   "cell_type": "code",
   "execution_count": 625,
   "id": "d727c412",
   "metadata": {},
   "outputs": [],
   "source": [
    "X_val = X_val.unsqueeze(1) #just do it once "
   ]
  },
  {
   "cell_type": "code",
   "execution_count": 626,
   "id": "d0cb8ef4",
   "metadata": {},
   "outputs": [
    {
     "data": {
      "text/plain": [
       "<torch._C.Generator at 0x16f27d2f0>"
      ]
     },
     "execution_count": 626,
     "metadata": {},
     "output_type": "execute_result"
    }
   ],
   "source": [
    "# sets the seed manually to 42\n",
    "torch.manual_seed(42)\n",
    "# a = X_val_CNN[torch.randint(len(X_val_CNN), (120,))]  \n",
    "# # b = Y_val_CNN[torch.randint(len(X_val_CNN), (120,))]  \n",
    "# # a.shape\n",
    "# b\n",
    "\n",
    "# "
   ]
  },
  {
   "cell_type": "code",
   "execution_count": 627,
   "id": "9538fad7",
   "metadata": {},
   "outputs": [
    {
     "data": {
      "text/plain": [
       "42"
      ]
     },
     "execution_count": 627,
     "metadata": {},
     "output_type": "execute_result"
    }
   ],
   "source": [
    "torch.initial_seed()"
   ]
  },
  {
   "cell_type": "code",
   "execution_count": 628,
   "id": "ea985a1b",
   "metadata": {},
   "outputs": [
    {
     "name": "stderr",
     "output_type": "stream",
     "text": [
      "  5%|███████████                                                                                                                                                                                                      | 1/19 [00:00<00:10,  1.80it/s]"
     ]
    },
    {
     "name": "stdout",
     "output_type": "stream",
     "text": [
      "epoch 0 Train set - loss: 0.66, accuracy: 0.881 Val  set - loss: 0.663, Val accuracy: 0.863\n",
      "        \n"
     ]
    },
    {
     "name": "stderr",
     "output_type": "stream",
     "text": [
      "\r",
      " 11%|██████████████████████                                                                                                                                                                                           | 2/19 [00:00<00:07,  2.35it/s]"
     ]
    },
    {
     "name": "stdout",
     "output_type": "stream",
     "text": [
      "epoch 0 Train set - loss: 0.611, accuracy: 0.887 Val  set - loss: 0.605, Val accuracy: 0.912\n",
      "        \n"
     ]
    },
    {
     "name": "stderr",
     "output_type": "stream",
     "text": [
      "\r",
      " 16%|█████████████████████████████████                                                                                                                                                                                | 3/19 [00:01<00:06,  2.50it/s]"
     ]
    },
    {
     "name": "stdout",
     "output_type": "stream",
     "text": [
      "epoch 0 Train set - loss: 0.564, accuracy: 0.906 Val  set - loss: 0.56, Val accuracy: 0.92\n",
      "        \n"
     ]
    },
    {
     "name": "stderr",
     "output_type": "stream",
     "text": [
      "\r",
      " 21%|████████████████████████████████████████████                                                                                                                                                                     | 4/19 [00:01<00:05,  2.58it/s]"
     ]
    },
    {
     "name": "stdout",
     "output_type": "stream",
     "text": [
      "epoch 0 Train set - loss: 0.537, accuracy: 0.881 Val  set - loss: 0.536, Val accuracy: 0.891\n",
      "        \n"
     ]
    },
    {
     "name": "stderr",
     "output_type": "stream",
     "text": [
      "\r",
      " 26%|███████████████████████████████████████████████████████                                                                                                                                                          | 5/19 [00:01<00:05,  2.72it/s]"
     ]
    },
    {
     "name": "stdout",
     "output_type": "stream",
     "text": [
      "epoch 0 Train set - loss: 0.488, accuracy: 0.924 Val  set - loss: 0.513, Val accuracy: 0.887\n",
      "        \n"
     ]
    },
    {
     "name": "stderr",
     "output_type": "stream",
     "text": [
      "\r",
      " 32%|██████████████████████████████████████████████████████████████████                                                                                                                                               | 6/19 [00:02<00:04,  2.86it/s]"
     ]
    },
    {
     "name": "stdout",
     "output_type": "stream",
     "text": [
      "epoch 0 Train set - loss: 0.48, accuracy: 0.891 Val  set - loss: 0.482, Val accuracy: 0.893\n",
      "        \n"
     ]
    },
    {
     "name": "stderr",
     "output_type": "stream",
     "text": [
      "\r",
      " 37%|█████████████████████████████████████████████████████████████████████████████                                                                                                                                    | 7/19 [00:02<00:04,  2.87it/s]"
     ]
    },
    {
     "name": "stdout",
     "output_type": "stream",
     "text": [
      "epoch 0 Train set - loss: 0.443, accuracy: 0.912 Val  set - loss: 0.464, Val accuracy: 0.895\n",
      "        \n"
     ]
    },
    {
     "name": "stderr",
     "output_type": "stream",
     "text": [
      "\r",
      " 42%|████████████████████████████████████████████████████████████████████████████████████████                                                                                                                         | 8/19 [00:02<00:03,  2.85it/s]"
     ]
    },
    {
     "name": "stdout",
     "output_type": "stream",
     "text": [
      "epoch 0 Train set - loss: 0.444, accuracy: 0.889 Val  set - loss: 0.428, Val accuracy: 0.918\n",
      "        \n"
     ]
    },
    {
     "name": "stderr",
     "output_type": "stream",
     "text": [
      "\r",
      " 47%|███████████████████████████████████████████████████████████████████████████████████████████████████                                                                                                              | 9/19 [00:03<00:03,  2.93it/s]"
     ]
    },
    {
     "name": "stdout",
     "output_type": "stream",
     "text": [
      "epoch 0 Train set - loss: 0.429, accuracy: 0.891 Val  set - loss: 0.409, Val accuracy: 0.92\n",
      "        \n"
     ]
    },
    {
     "name": "stderr",
     "output_type": "stream",
     "text": [
      "\r",
      " 53%|█████████████████████████████████████████████████████████████████████████████████████████████████████████████▍                                                                                                  | 10/19 [00:03<00:03,  2.98it/s]"
     ]
    },
    {
     "name": "stdout",
     "output_type": "stream",
     "text": [
      "epoch 0 Train set - loss: 0.409, accuracy: 0.9 Val  set - loss: 0.44, Val accuracy: 0.873\n",
      "        \n"
     ]
    },
    {
     "name": "stderr",
     "output_type": "stream",
     "text": [
      "\r",
      " 58%|████████████████████████████████████████████████████████████████████████████████████████████████████████████████████████▍                                                                                       | 11/19 [00:03<00:02,  3.00it/s]"
     ]
    },
    {
     "name": "stdout",
     "output_type": "stream",
     "text": [
      "epoch 0 Train set - loss: 0.409, accuracy: 0.891 Val  set - loss: 0.392, Val accuracy: 0.912\n",
      "        \n"
     ]
    },
    {
     "name": "stderr",
     "output_type": "stream",
     "text": [
      "\r",
      " 63%|███████████████████████████████████████████████████████████████████████████████████████████████████████████████████████████████████▎                                                                            | 12/19 [00:04<00:02,  3.03it/s]"
     ]
    },
    {
     "name": "stdout",
     "output_type": "stream",
     "text": [
      "epoch 0 Train set - loss: 0.384, accuracy: 0.906 Val  set - loss: 0.409, Val accuracy: 0.895\n",
      "        \n"
     ]
    },
    {
     "name": "stderr",
     "output_type": "stream",
     "text": [
      "\r",
      " 68%|██████████████████████████████████████████████████████████████████████████████████████████████████████████████████████████████████████████████▎                                                                 | 13/19 [00:04<00:01,  3.06it/s]"
     ]
    },
    {
     "name": "stdout",
     "output_type": "stream",
     "text": [
      "epoch 0 Train set - loss: 0.402, accuracy: 0.879 Val  set - loss: 0.405, Val accuracy: 0.885\n",
      "        \n"
     ]
    },
    {
     "name": "stderr",
     "output_type": "stream",
     "text": [
      "\r",
      " 74%|█████████████████████████████████████████████████████████████████████████████████████████████████████████████████████████████████████████████████████████▎                                                      | 14/19 [00:04<00:01,  3.09it/s]"
     ]
    },
    {
     "name": "stdout",
     "output_type": "stream",
     "text": [
      "epoch 0 Train set - loss: 0.361, accuracy: 0.908 Val  set - loss: 0.348, Val accuracy: 0.928\n",
      "        \n"
     ]
    },
    {
     "name": "stderr",
     "output_type": "stream",
     "text": [
      "\r",
      " 79%|████████████████████████████████████████████████████████████████████████████████████████████████████████████████████████████████████████████████████████████████████▏                                           | 15/19 [00:05<00:01,  3.11it/s]"
     ]
    },
    {
     "name": "stdout",
     "output_type": "stream",
     "text": [
      "epoch 0 Train set - loss: 0.366, accuracy: 0.902 Val  set - loss: 0.385, Val accuracy: 0.893\n",
      "        \n"
     ]
    },
    {
     "name": "stderr",
     "output_type": "stream",
     "text": [
      "\r",
      " 84%|███████████████████████████████████████████████████████████████████████████████████████████████████████████████████████████████████████████████████████████████████████████████▏                                | 16/19 [00:05<00:00,  3.12it/s]"
     ]
    },
    {
     "name": "stdout",
     "output_type": "stream",
     "text": [
      "epoch 0 Train set - loss: 0.38, accuracy: 0.883 Val  set - loss: 0.342, Val accuracy: 0.92\n",
      "        \n"
     ]
    },
    {
     "name": "stderr",
     "output_type": "stream",
     "text": [
      "\r",
      " 89%|██████████████████████████████████████████████████████████████████████████████████████████████████████████████████████████████████████████████████████████████████████████████████████████                      | 17/19 [00:05<00:00,  3.15it/s]"
     ]
    },
    {
     "name": "stdout",
     "output_type": "stream",
     "text": [
      "epoch 0 Train set - loss: 0.357, accuracy: 0.898 Val  set - loss: 0.364, Val accuracy: 0.904\n",
      "        \n"
     ]
    },
    {
     "name": "stderr",
     "output_type": "stream",
     "text": [
      "\r",
      " 95%|█████████████████████████████████████████████████████████████████████████████████████████████████████████████████████████████████████████████████████████████████████████████████████████████████████           | 18/19 [00:06<00:00,  3.09it/s]"
     ]
    },
    {
     "name": "stdout",
     "output_type": "stream",
     "text": [
      "epoch 0 Train set - loss: 0.358, accuracy: 0.893 Val  set - loss: 0.366, Val accuracy: 0.9\n",
      "        \n"
     ]
    },
    {
     "name": "stderr",
     "output_type": "stream",
     "text": [
      "100%|████████████████████████████████████████████████████████████████████████████████████████████████████████████████████████████████████████████████████████████████████████████████████████████████████████████████| 19/19 [00:06<00:00,  2.95it/s]\n"
     ]
    },
    {
     "name": "stdout",
     "output_type": "stream",
     "text": [
      "epoch 0 Train set - loss: 0.353, accuracy: 0.9 Val  set - loss: 0.361, Val accuracy: 0.898\n",
      "        \n"
     ]
    },
    {
     "name": "stderr",
     "output_type": "stream",
     "text": [
      "100%|████████████████████████████████████████████████████████████████████████████████████████████████████████████████████████████████████████████████████████████████████████████████████████████████████████████████| 19/19 [00:04<00:00,  4.26it/s]\n",
      "  5%|███████████                                                                                                                                                                                                      | 1/19 [00:00<00:06,  2.95it/s]"
     ]
    },
    {
     "name": "stdout",
     "output_type": "stream",
     "text": [
      "epoch 2 Train set - loss: 0.282, accuracy: 0.924 Val  set - loss: 0.34, Val accuracy: 0.896\n",
      "        \n"
     ]
    },
    {
     "name": "stderr",
     "output_type": "stream",
     "text": [
      "\r",
      " 11%|██████████████████████                                                                                                                                                                                           | 2/19 [00:00<00:05,  3.03it/s]"
     ]
    },
    {
     "name": "stdout",
     "output_type": "stream",
     "text": [
      "epoch 2 Train set - loss: 0.344, accuracy: 0.887 Val  set - loss: 0.333, Val accuracy: 0.898\n",
      "        \n"
     ]
    },
    {
     "name": "stderr",
     "output_type": "stream",
     "text": [
      "\r",
      " 16%|█████████████████████████████████                                                                                                                                                                                | 3/19 [00:00<00:05,  3.10it/s]"
     ]
    },
    {
     "name": "stdout",
     "output_type": "stream",
     "text": [
      "epoch 2 Train set - loss: 0.309, accuracy: 0.906 Val  set - loss: 0.32, Val accuracy: 0.908\n",
      "        \n"
     ]
    },
    {
     "name": "stderr",
     "output_type": "stream",
     "text": [
      "\r",
      " 21%|████████████████████████████████████████████                                                                                                                                                                     | 4/19 [00:01<00:04,  3.11it/s]"
     ]
    },
    {
     "name": "stdout",
     "output_type": "stream",
     "text": [
      "epoch 2 Train set - loss: 0.354, accuracy: 0.881 Val  set - loss: 0.382, Val accuracy: 0.873\n",
      "        \n"
     ]
    },
    {
     "name": "stderr",
     "output_type": "stream",
     "text": [
      "\r",
      " 26%|███████████████████████████████████████████████████████                                                                                                                                                          | 5/19 [00:01<00:04,  2.98it/s]"
     ]
    },
    {
     "name": "stdout",
     "output_type": "stream",
     "text": [
      "epoch 2 Train set - loss: 0.273, accuracy: 0.924 Val  set - loss: 0.308, Val accuracy: 0.912\n",
      "        \n"
     ]
    },
    {
     "name": "stderr",
     "output_type": "stream",
     "text": [
      "\r",
      " 32%|██████████████████████████████████████████████████████████████████                                                                                                                                               | 6/19 [00:01<00:04,  2.98it/s]"
     ]
    },
    {
     "name": "stdout",
     "output_type": "stream",
     "text": [
      "epoch 2 Train set - loss: 0.334, accuracy: 0.891 Val  set - loss: 0.371, Val accuracy: 0.879\n",
      "        \n"
     ]
    },
    {
     "name": "stderr",
     "output_type": "stream",
     "text": [
      "\r",
      " 37%|█████████████████████████████████████████████████████████████████████████████                                                                                                                                    | 7/19 [00:02<00:03,  3.02it/s]"
     ]
    },
    {
     "name": "stdout",
     "output_type": "stream",
     "text": [
      "epoch 2 Train set - loss: 0.294, accuracy: 0.912 Val  set - loss: 0.338, Val accuracy: 0.896\n",
      "        \n"
     ]
    },
    {
     "name": "stderr",
     "output_type": "stream",
     "text": [
      "\r",
      " 42%|████████████████████████████████████████████████████████████████████████████████████████                                                                                                                         | 8/19 [00:02<00:03,  2.98it/s]"
     ]
    },
    {
     "name": "stdout",
     "output_type": "stream",
     "text": [
      "epoch 2 Train set - loss: 0.338, accuracy: 0.889 Val  set - loss: 0.303, Val accuracy: 0.916\n",
      "        \n"
     ]
    },
    {
     "name": "stderr",
     "output_type": "stream",
     "text": [
      "\r",
      " 47%|███████████████████████████████████████████████████████████████████████████████████████████████████                                                                                                              | 9/19 [00:02<00:03,  2.97it/s]"
     ]
    },
    {
     "name": "stdout",
     "output_type": "stream",
     "text": [
      "epoch 2 Train set - loss: 0.334, accuracy: 0.891 Val  set - loss: 0.321, Val accuracy: 0.906\n",
      "        \n"
     ]
    },
    {
     "name": "stderr",
     "output_type": "stream",
     "text": [
      "\r",
      " 53%|█████████████████████████████████████████████████████████████████████████████████████████████████████████████▍                                                                                                  | 10/19 [00:03<00:02,  3.05it/s]"
     ]
    },
    {
     "name": "stdout",
     "output_type": "stream",
     "text": [
      "epoch 2 Train set - loss: 0.317, accuracy: 0.9 Val  set - loss: 0.311, Val accuracy: 0.91\n",
      "        \n"
     ]
    },
    {
     "name": "stderr",
     "output_type": "stream",
     "text": [
      "\r",
      " 58%|████████████████████████████████████████████████████████████████████████████████████████████████████████████████████████▍                                                                                       | 11/19 [00:03<00:02,  3.07it/s]"
     ]
    },
    {
     "name": "stdout",
     "output_type": "stream",
     "text": [
      "epoch 2 Train set - loss: 0.336, accuracy: 0.891 Val  set - loss: 0.332, Val accuracy: 0.896\n",
      "        \n"
     ]
    },
    {
     "name": "stderr",
     "output_type": "stream",
     "text": [
      "\r",
      " 63%|███████████████████████████████████████████████████████████████████████████████████████████████████████████████████████████████████▎                                                                            | 12/19 [00:03<00:02,  2.99it/s]"
     ]
    },
    {
     "name": "stdout",
     "output_type": "stream",
     "text": [
      "epoch 2 Train set - loss: 0.307, accuracy: 0.906 Val  set - loss: 0.377, Val accuracy: 0.877\n",
      "        \n"
     ]
    },
    {
     "name": "stderr",
     "output_type": "stream",
     "text": [
      "\r",
      " 68%|██████████████████████████████████████████████████████████████████████████████████████████████████████████████████████████████████████████████▎                                                                 | 13/19 [00:04<00:01,  3.04it/s]"
     ]
    },
    {
     "name": "stdout",
     "output_type": "stream",
     "text": [
      "epoch 2 Train set - loss: 0.353, accuracy: 0.879 Val  set - loss: 0.344, Val accuracy: 0.895\n",
      "        \n"
     ]
    },
    {
     "name": "stderr",
     "output_type": "stream",
     "text": [
      "\r",
      " 74%|█████████████████████████████████████████████████████████████████████████████████████████████████████████████████████████████████████████████████████████▎                                                      | 14/19 [00:04<00:01,  2.99it/s]"
     ]
    },
    {
     "name": "stdout",
     "output_type": "stream",
     "text": [
      "epoch 2 Train set - loss: 0.295, accuracy: 0.908 Val  set - loss: 0.343, Val accuracy: 0.891\n",
      "        \n"
     ]
    },
    {
     "name": "stderr",
     "output_type": "stream",
     "text": [
      "\r",
      " 79%|████████████████████████████████████████████████████████████████████████████████████████████████████████████████████████████████████████████████████████████████████▏                                           | 15/19 [00:04<00:01,  3.03it/s]"
     ]
    },
    {
     "name": "stdout",
     "output_type": "stream",
     "text": [
      "epoch 2 Train set - loss: 0.315, accuracy: 0.902 Val  set - loss: 0.298, Val accuracy: 0.914\n",
      "        \n"
     ]
    },
    {
     "name": "stderr",
     "output_type": "stream",
     "text": [
      "\r",
      " 84%|███████████████████████████████████████████████████████████████████████████████████████████████████████████████████████████████████████████████████████████████████████████████▏                                | 16/19 [00:05<00:01,  2.98it/s]"
     ]
    },
    {
     "name": "stdout",
     "output_type": "stream",
     "text": [
      "epoch 2 Train set - loss: 0.342, accuracy: 0.883 Val  set - loss: 0.377, Val accuracy: 0.873\n",
      "        \n"
     ]
    },
    {
     "name": "stderr",
     "output_type": "stream",
     "text": [
      "\r",
      " 89%|██████████████████████████████████████████████████████████████████████████████████████████████████████████████████████████████████████████████████████████████████████████████████████████                      | 17/19 [00:05<00:00,  3.03it/s]"
     ]
    },
    {
     "name": "stdout",
     "output_type": "stream",
     "text": [
      "epoch 2 Train set - loss: 0.316, accuracy: 0.898 Val  set - loss: 0.352, Val accuracy: 0.889\n",
      "        \n"
     ]
    },
    {
     "name": "stderr",
     "output_type": "stream",
     "text": [
      "\r",
      " 95%|█████████████████████████████████████████████████████████████████████████████████████████████████████████████████████████████████████████████████████████████████████████████████████████████████████           | 18/19 [00:05<00:00,  3.03it/s]"
     ]
    },
    {
     "name": "stdout",
     "output_type": "stream",
     "text": [
      "epoch 2 Train set - loss: 0.321, accuracy: 0.893 Val  set - loss: 0.302, Val accuracy: 0.916\n",
      "        \n"
     ]
    },
    {
     "name": "stderr",
     "output_type": "stream",
     "text": [
      "100%|████████████████████████████████████████████████████████████████████████████████████████████████████████████████████████████████████████████████████████████████████████████████████████████████████████████████| 19/19 [00:06<00:00,  3.06it/s]\n"
     ]
    },
    {
     "name": "stdout",
     "output_type": "stream",
     "text": [
      "epoch 2 Train set - loss: 0.319, accuracy: 0.9 Val  set - loss: 0.333, Val accuracy: 0.896\n",
      "        \n"
     ]
    },
    {
     "name": "stderr",
     "output_type": "stream",
     "text": [
      "100%|████████████████████████████████████████████████████████████████████████████████████████████████████████████████████████████████████████████████████████████████████████████████████████████████████████████████| 19/19 [00:04<00:00,  4.35it/s]\n",
      "  5%|███████████                                                                                                                                                                                                      | 1/19 [00:00<00:06,  2.97it/s]"
     ]
    },
    {
     "name": "stdout",
     "output_type": "stream",
     "text": [
      "epoch 4 Train set - loss: 0.269, accuracy: 0.924 Val  set - loss: 0.39, Val accuracy: 0.873\n",
      "        \n"
     ]
    },
    {
     "name": "stderr",
     "output_type": "stream",
     "text": [
      "\r",
      " 11%|██████████████████████                                                                                                                                                                                           | 2/19 [00:00<00:05,  2.99it/s]"
     ]
    },
    {
     "name": "stdout",
     "output_type": "stream",
     "text": [
      "epoch 4 Train set - loss: 0.34, accuracy: 0.887 Val  set - loss: 0.291, Val accuracy: 0.92\n",
      "        \n"
     ]
    },
    {
     "name": "stderr",
     "output_type": "stream",
     "text": [
      "\r",
      " 16%|█████████████████████████████████                                                                                                                                                                                | 3/19 [00:00<00:05,  3.09it/s]"
     ]
    },
    {
     "name": "stdout",
     "output_type": "stream",
     "text": [
      "epoch 4 Train set - loss: 0.301, accuracy: 0.906 Val  set - loss: 0.328, Val accuracy: 0.898\n",
      "        \n"
     ]
    },
    {
     "name": "stderr",
     "output_type": "stream",
     "text": [
      "\r",
      " 21%|████████████████████████████████████████████                                                                                                                                                                     | 4/19 [00:01<00:04,  3.12it/s]"
     ]
    },
    {
     "name": "stdout",
     "output_type": "stream",
     "text": [
      "epoch 4 Train set - loss: 0.352, accuracy: 0.881 Val  set - loss: 0.328, Val accuracy: 0.904\n",
      "        \n"
     ]
    },
    {
     "name": "stderr",
     "output_type": "stream",
     "text": [
      "\r",
      " 26%|███████████████████████████████████████████████████████                                                                                                                                                          | 5/19 [00:01<00:04,  3.13it/s]"
     ]
    },
    {
     "name": "stdout",
     "output_type": "stream",
     "text": [
      "epoch 4 Train set - loss: 0.262, accuracy: 0.924 Val  set - loss: 0.38, Val accuracy: 0.873\n",
      "        \n"
     ]
    },
    {
     "name": "stderr",
     "output_type": "stream",
     "text": [
      "\r",
      " 32%|██████████████████████████████████████████████████████████████████                                                                                                                                               | 6/19 [00:01<00:04,  3.12it/s]"
     ]
    },
    {
     "name": "stdout",
     "output_type": "stream",
     "text": [
      "epoch 4 Train set - loss: 0.33, accuracy: 0.891 Val  set - loss: 0.35, Val accuracy: 0.893\n",
      "        \n"
     ]
    },
    {
     "name": "stderr",
     "output_type": "stream",
     "text": [
      "\r",
      " 37%|█████████████████████████████████████████████████████████████████████████████                                                                                                                                    | 7/19 [00:02<00:03,  3.08it/s]"
     ]
    },
    {
     "name": "stdout",
     "output_type": "stream",
     "text": [
      "epoch 4 Train set - loss: 0.287, accuracy: 0.912 Val  set - loss: 0.33, Val accuracy: 0.9\n",
      "        \n"
     ]
    },
    {
     "name": "stderr",
     "output_type": "stream",
     "text": [
      "\r",
      " 42%|████████████████████████████████████████████████████████████████████████████████████████                                                                                                                         | 8/19 [00:02<00:03,  3.01it/s]"
     ]
    },
    {
     "name": "stdout",
     "output_type": "stream",
     "text": [
      "epoch 4 Train set - loss: 0.335, accuracy: 0.889 Val  set - loss: 0.293, Val accuracy: 0.916\n",
      "        \n"
     ]
    },
    {
     "name": "stderr",
     "output_type": "stream",
     "text": [
      "\r",
      " 47%|███████████████████████████████████████████████████████████████████████████████████████████████████                                                                                                              | 9/19 [00:02<00:03,  3.02it/s]"
     ]
    },
    {
     "name": "stdout",
     "output_type": "stream",
     "text": [
      "epoch 4 Train set - loss: 0.331, accuracy: 0.891 Val  set - loss: 0.327, Val accuracy: 0.902\n",
      "        \n"
     ]
    },
    {
     "name": "stderr",
     "output_type": "stream",
     "text": [
      "\r",
      " 53%|█████████████████████████████████████████████████████████████████████████████████████████████████████████████▍                                                                                                  | 10/19 [00:03<00:02,  3.05it/s]"
     ]
    },
    {
     "name": "stdout",
     "output_type": "stream",
     "text": [
      "epoch 4 Train set - loss: 0.313, accuracy: 0.9 Val  set - loss: 0.352, Val accuracy: 0.889\n",
      "        \n"
     ]
    },
    {
     "name": "stderr",
     "output_type": "stream",
     "text": [
      "\r",
      " 58%|████████████████████████████████████████████████████████████████████████████████████████████████████████████████████████▍                                                                                       | 11/19 [00:03<00:02,  3.05it/s]"
     ]
    },
    {
     "name": "stdout",
     "output_type": "stream",
     "text": [
      "epoch 4 Train set - loss: 0.334, accuracy: 0.891 Val  set - loss: 0.329, Val accuracy: 0.902\n",
      "        \n"
     ]
    },
    {
     "name": "stderr",
     "output_type": "stream",
     "text": [
      "\r",
      " 63%|███████████████████████████████████████████████████████████████████████████████████████████████████████████████████████████████████▎                                                                            | 12/19 [00:03<00:02,  3.07it/s]"
     ]
    },
    {
     "name": "stdout",
     "output_type": "stream",
     "text": [
      "epoch 4 Train set - loss: 0.303, accuracy: 0.906 Val  set - loss: 0.323, Val accuracy: 0.902\n",
      "        \n"
     ]
    },
    {
     "name": "stderr",
     "output_type": "stream",
     "text": [
      "\r",
      " 68%|██████████████████████████████████████████████████████████████████████████████████████████████████████████████████████████████████████████████▎                                                                 | 13/19 [00:04<00:01,  3.08it/s]"
     ]
    },
    {
     "name": "stdout",
     "output_type": "stream",
     "text": [
      "epoch 4 Train set - loss: 0.352, accuracy: 0.879 Val  set - loss: 0.351, Val accuracy: 0.891\n",
      "        \n"
     ]
    },
    {
     "name": "stderr",
     "output_type": "stream",
     "text": [
      "\r",
      " 74%|█████████████████████████████████████████████████████████████████████████████████████████████████████████████████████████████████████████████████████████▎                                                      | 14/19 [00:04<00:01,  3.06it/s]"
     ]
    },
    {
     "name": "stdout",
     "output_type": "stream",
     "text": [
      "epoch 4 Train set - loss: 0.289, accuracy: 0.908 Val  set - loss: 0.278, Val accuracy: 0.922\n",
      "        \n"
     ]
    },
    {
     "name": "stderr",
     "output_type": "stream",
     "text": [
      "\r",
      " 79%|████████████████████████████████████████████████████████████████████████████████████████████████████████████████████████████████████████████████████████████████████▏                                           | 15/19 [00:04<00:01,  3.04it/s]"
     ]
    },
    {
     "name": "stdout",
     "output_type": "stream",
     "text": [
      "epoch 4 Train set - loss: 0.312, accuracy: 0.902 Val  set - loss: 0.368, Val accuracy: 0.881\n",
      "        \n"
     ]
    },
    {
     "name": "stderr",
     "output_type": "stream",
     "text": [
      "\r",
      " 84%|███████████████████████████████████████████████████████████████████████████████████████████████████████████████████████████████████████████████████████████████████████████████▏                                | 16/19 [00:05<00:00,  3.08it/s]"
     ]
    },
    {
     "name": "stdout",
     "output_type": "stream",
     "text": [
      "epoch 4 Train set - loss: 0.341, accuracy: 0.883 Val  set - loss: 0.347, Val accuracy: 0.891\n",
      "        \n"
     ]
    },
    {
     "name": "stderr",
     "output_type": "stream",
     "text": [
      "\r",
      " 89%|██████████████████████████████████████████████████████████████████████████████████████████████████████████████████████████████████████████████████████████████████████████████████████████                      | 17/19 [00:05<00:00,  3.12it/s]"
     ]
    },
    {
     "name": "stdout",
     "output_type": "stream",
     "text": [
      "epoch 4 Train set - loss: 0.313, accuracy: 0.898 Val  set - loss: 0.362, Val accuracy: 0.885\n",
      "        \n"
     ]
    },
    {
     "name": "stderr",
     "output_type": "stream",
     "text": [
      "\r",
      " 95%|█████████████████████████████████████████████████████████████████████████████████████████████████████████████████████████████████████████████████████████████████████████████████████████████████████           | 18/19 [00:05<00:00,  3.12it/s]"
     ]
    },
    {
     "name": "stdout",
     "output_type": "stream",
     "text": [
      "epoch 4 Train set - loss: 0.318, accuracy: 0.893 Val  set - loss: 0.307, Val accuracy: 0.908\n",
      "        \n"
     ]
    },
    {
     "name": "stderr",
     "output_type": "stream",
     "text": [
      "100%|████████████████████████████████████████████████████████████████████████████████████████████████████████████████████████████████████████████████████████████████████████████████████████████████████████████████| 19/19 [00:06<00:00,  3.12it/s]\n"
     ]
    },
    {
     "name": "stdout",
     "output_type": "stream",
     "text": [
      "epoch 4 Train set - loss: 0.316, accuracy: 0.9 Val  set - loss: 0.287, Val accuracy: 0.92\n",
      "        \n"
     ]
    },
    {
     "name": "stderr",
     "output_type": "stream",
     "text": [
      "100%|████████████████████████████████████████████████████████████████████████████████████████████████████████████████████████████████████████████████████████████████████████████████████████████████████████████████| 19/19 [00:04<00:00,  4.14it/s]\n",
      "  5%|███████████                                                                                                                                                                                                      | 1/19 [00:00<00:05,  3.03it/s]"
     ]
    },
    {
     "name": "stdout",
     "output_type": "stream",
     "text": [
      "epoch 6 Train set - loss: 0.267, accuracy: 0.924 Val  set - loss: 0.362, Val accuracy: 0.885\n",
      "        \n"
     ]
    },
    {
     "name": "stderr",
     "output_type": "stream",
     "text": [
      "\r",
      " 11%|██████████████████████                                                                                                                                                                                           | 2/19 [00:00<00:05,  2.91it/s]"
     ]
    },
    {
     "name": "stdout",
     "output_type": "stream",
     "text": [
      "epoch 6 Train set - loss: 0.339, accuracy: 0.887 Val  set - loss: 0.343, Val accuracy: 0.895\n",
      "        \n"
     ]
    },
    {
     "name": "stderr",
     "output_type": "stream",
     "text": [
      "\r",
      " 16%|█████████████████████████████████                                                                                                                                                                                | 3/19 [00:01<00:05,  2.97it/s]"
     ]
    },
    {
     "name": "stdout",
     "output_type": "stream",
     "text": [
      "epoch 6 Train set - loss: 0.299, accuracy: 0.906 Val  set - loss: 0.278, Val accuracy: 0.92\n",
      "        \n"
     ]
    },
    {
     "name": "stderr",
     "output_type": "stream",
     "text": [
      "\r",
      " 21%|████████████████████████████████████████████                                                                                                                                                                     | 4/19 [00:01<00:05,  2.99it/s]"
     ]
    },
    {
     "name": "stdout",
     "output_type": "stream",
     "text": [
      "epoch 6 Train set - loss: 0.352, accuracy: 0.881 Val  set - loss: 0.292, Val accuracy: 0.916\n",
      "        \n"
     ]
    },
    {
     "name": "stderr",
     "output_type": "stream",
     "text": [
      "\r",
      " 26%|███████████████████████████████████████████████████████                                                                                                                                                          | 5/19 [00:01<00:04,  3.02it/s]"
     ]
    },
    {
     "name": "stdout",
     "output_type": "stream",
     "text": [
      "epoch 6 Train set - loss: 0.259, accuracy: 0.924 Val  set - loss: 0.325, Val accuracy: 0.902\n",
      "        \n"
     ]
    },
    {
     "name": "stderr",
     "output_type": "stream",
     "text": [
      "\r",
      " 32%|██████████████████████████████████████████████████████████████████                                                                                                                                               | 6/19 [00:02<00:04,  3.01it/s]"
     ]
    },
    {
     "name": "stdout",
     "output_type": "stream",
     "text": [
      "epoch 6 Train set - loss: 0.33, accuracy: 0.891 Val  set - loss: 0.317, Val accuracy: 0.904\n",
      "        \n"
     ]
    },
    {
     "name": "stderr",
     "output_type": "stream",
     "text": [
      "\r",
      " 37%|█████████████████████████████████████████████████████████████████████████████                                                                                                                                    | 7/19 [00:02<00:03,  3.03it/s]"
     ]
    },
    {
     "name": "stdout",
     "output_type": "stream",
     "text": [
      "epoch 6 Train set - loss: 0.285, accuracy: 0.912 Val  set - loss: 0.353, Val accuracy: 0.889\n",
      "        \n"
     ]
    },
    {
     "name": "stderr",
     "output_type": "stream",
     "text": [
      "\r",
      " 42%|████████████████████████████████████████████████████████████████████████████████████████                                                                                                                         | 8/19 [00:02<00:03,  3.02it/s]"
     ]
    },
    {
     "name": "stdout",
     "output_type": "stream",
     "text": [
      "epoch 6 Train set - loss: 0.334, accuracy: 0.889 Val  set - loss: 0.307, Val accuracy: 0.91\n",
      "        \n"
     ]
    },
    {
     "name": "stderr",
     "output_type": "stream",
     "text": [
      "\r",
      " 47%|███████████████████████████████████████████████████████████████████████████████████████████████████                                                                                                              | 9/19 [00:03<00:03,  2.98it/s]"
     ]
    },
    {
     "name": "stdout",
     "output_type": "stream",
     "text": [
      "epoch 6 Train set - loss: 0.33, accuracy: 0.891 Val  set - loss: 0.296, Val accuracy: 0.914\n",
      "        \n"
     ]
    },
    {
     "name": "stderr",
     "output_type": "stream",
     "text": [
      "\r",
      " 53%|█████████████████████████████████████████████████████████████████████████████████████████████████████████████▍                                                                                                  | 10/19 [00:03<00:03,  2.99it/s]"
     ]
    },
    {
     "name": "stdout",
     "output_type": "stream",
     "text": [
      "epoch 6 Train set - loss: 0.312, accuracy: 0.9 Val  set - loss: 0.315, Val accuracy: 0.908\n",
      "        \n"
     ]
    },
    {
     "name": "stderr",
     "output_type": "stream",
     "text": [
      "\r",
      " 58%|████████████████████████████████████████████████████████████████████████████████████████████████████████████████████████▍                                                                                       | 11/19 [00:03<00:02,  3.03it/s]"
     ]
    },
    {
     "name": "stdout",
     "output_type": "stream",
     "text": [
      "epoch 6 Train set - loss: 0.333, accuracy: 0.891 Val  set - loss: 0.341, Val accuracy: 0.893\n",
      "        \n"
     ]
    },
    {
     "name": "stderr",
     "output_type": "stream",
     "text": [
      "\r",
      " 63%|███████████████████████████████████████████████████████████████████████████████████████████████████████████████████████████████████▎                                                                            | 12/19 [00:03<00:02,  3.01it/s]"
     ]
    },
    {
     "name": "stdout",
     "output_type": "stream",
     "text": [
      "epoch 6 Train set - loss: 0.301, accuracy: 0.906 Val  set - loss: 0.347, Val accuracy: 0.893\n",
      "        \n"
     ]
    },
    {
     "name": "stderr",
     "output_type": "stream",
     "text": [
      "\r",
      " 68%|██████████████████████████████████████████████████████████████████████████████████████████████████████████████████████████████████████████████▎                                                                 | 13/19 [00:04<00:02,  2.99it/s]"
     ]
    },
    {
     "name": "stdout",
     "output_type": "stream",
     "text": [
      "epoch 6 Train set - loss: 0.352, accuracy: 0.879 Val  set - loss: 0.322, Val accuracy: 0.902\n",
      "        \n"
     ]
    },
    {
     "name": "stderr",
     "output_type": "stream",
     "text": [
      "\r",
      " 74%|█████████████████████████████████████████████████████████████████████████████████████████████████████████████████████████████████████████████████████████▎                                                      | 14/19 [00:04<00:01,  2.96it/s]"
     ]
    },
    {
     "name": "stdout",
     "output_type": "stream",
     "text": [
      "epoch 6 Train set - loss: 0.288, accuracy: 0.908 Val  set - loss: 0.333, Val accuracy: 0.898\n",
      "        \n"
     ]
    },
    {
     "name": "stderr",
     "output_type": "stream",
     "text": [
      "\r",
      " 79%|████████████████████████████████████████████████████████████████████████████████████████████████████████████████████████████████████████████████████████████████████▏                                           | 15/19 [00:05<00:01,  2.97it/s]"
     ]
    },
    {
     "name": "stdout",
     "output_type": "stream",
     "text": [
      "epoch 6 Train set - loss: 0.312, accuracy: 0.902 Val  set - loss: 0.349, Val accuracy: 0.893\n",
      "        \n"
     ]
    },
    {
     "name": "stderr",
     "output_type": "stream",
     "text": [
      "\r",
      " 84%|███████████████████████████████████████████████████████████████████████████████████████████████████████████████████████████████████████████████████████████████████████████████▏                                | 16/19 [00:05<00:00,  3.01it/s]"
     ]
    },
    {
     "name": "stdout",
     "output_type": "stream",
     "text": [
      "epoch 6 Train set - loss: 0.34, accuracy: 0.883 Val  set - loss: 0.313, Val accuracy: 0.904\n",
      "        \n"
     ]
    },
    {
     "name": "stderr",
     "output_type": "stream",
     "text": [
      "\r",
      " 89%|██████████████████████████████████████████████████████████████████████████████████████████████████████████████████████████████████████████████████████████████████████████████████████████                      | 17/19 [00:05<00:00,  2.96it/s]"
     ]
    },
    {
     "name": "stdout",
     "output_type": "stream",
     "text": [
      "epoch 6 Train set - loss: 0.312, accuracy: 0.898 Val  set - loss: 0.296, Val accuracy: 0.914\n",
      "        \n"
     ]
    },
    {
     "name": "stderr",
     "output_type": "stream",
     "text": [
      "\r",
      " 95%|█████████████████████████████████████████████████████████████████████████████████████████████████████████████████████████████████████████████████████████████████████████████████████████████████████           | 18/19 [00:06<00:00,  3.02it/s]"
     ]
    },
    {
     "name": "stdout",
     "output_type": "stream",
     "text": [
      "epoch 6 Train set - loss: 0.317, accuracy: 0.893 Val  set - loss: 0.349, Val accuracy: 0.893\n",
      "        \n"
     ]
    },
    {
     "name": "stderr",
     "output_type": "stream",
     "text": [
      "100%|████████████████████████████████████████████████████████████████████████████████████████████████████████████████████████████████████████████████████████████████████████████████████████████████████████████████| 19/19 [00:06<00:00,  3.05it/s]\n"
     ]
    },
    {
     "name": "stdout",
     "output_type": "stream",
     "text": [
      "epoch 6 Train set - loss: 0.315, accuracy: 0.9 Val  set - loss: 0.321, Val accuracy: 0.902\n",
      "        \n"
     ]
    },
    {
     "name": "stderr",
     "output_type": "stream",
     "text": [
      "100%|████████████████████████████████████████████████████████████████████████████████████████████████████████████████████████████████████████████████████████████████████████████████████████████████████████████████| 19/19 [00:04<00:00,  4.26it/s]\n",
      "  5%|███████████                                                                                                                                                                                                      | 1/19 [00:00<00:05,  3.01it/s]"
     ]
    },
    {
     "name": "stdout",
     "output_type": "stream",
     "text": [
      "epoch 8 Train set - loss: 0.266, accuracy: 0.924 Val  set - loss: 0.25, Val accuracy: 0.936\n",
      "        \n"
     ]
    },
    {
     "name": "stderr",
     "output_type": "stream",
     "text": [
      "\r",
      " 11%|██████████████████████                                                                                                                                                                                           | 2/19 [00:00<00:05,  3.04it/s]"
     ]
    },
    {
     "name": "stdout",
     "output_type": "stream",
     "text": [
      "epoch 8 Train set - loss: 0.339, accuracy: 0.887 Val  set - loss: 0.361, Val accuracy: 0.885\n",
      "        \n"
     ]
    },
    {
     "name": "stderr",
     "output_type": "stream",
     "text": [
      "\r",
      " 16%|█████████████████████████████████                                                                                                                                                                                | 3/19 [00:00<00:05,  3.01it/s]"
     ]
    },
    {
     "name": "stdout",
     "output_type": "stream",
     "text": [
      "epoch 8 Train set - loss: 0.299, accuracy: 0.906 Val  set - loss: 0.303, Val accuracy: 0.91\n",
      "        \n"
     ]
    },
    {
     "name": "stderr",
     "output_type": "stream",
     "text": [
      "\r",
      " 21%|████████████████████████████████████████████                                                                                                                                                                     | 4/19 [00:01<00:04,  3.07it/s]"
     ]
    },
    {
     "name": "stdout",
     "output_type": "stream",
     "text": [
      "epoch 8 Train set - loss: 0.352, accuracy: 0.881 Val  set - loss: 0.354, Val accuracy: 0.889\n",
      "        \n"
     ]
    },
    {
     "name": "stderr",
     "output_type": "stream",
     "text": [
      "\r",
      " 26%|███████████████████████████████████████████████████████                                                                                                                                                          | 5/19 [00:01<00:04,  3.14it/s]"
     ]
    },
    {
     "name": "stdout",
     "output_type": "stream",
     "text": [
      "epoch 8 Train set - loss: 0.257, accuracy: 0.924 Val  set - loss: 0.342, Val accuracy: 0.893\n",
      "        \n"
     ]
    },
    {
     "name": "stderr",
     "output_type": "stream",
     "text": [
      "\r",
      " 32%|██████████████████████████████████████████████████████████████████                                                                                                                                               | 6/19 [00:01<00:04,  3.11it/s]"
     ]
    },
    {
     "name": "stdout",
     "output_type": "stream",
     "text": [
      "epoch 8 Train set - loss: 0.329, accuracy: 0.891 Val  set - loss: 0.346, Val accuracy: 0.893\n",
      "        \n"
     ]
    },
    {
     "name": "stderr",
     "output_type": "stream",
     "text": [
      "\r",
      " 37%|█████████████████████████████████████████████████████████████████████████████                                                                                                                                    | 7/19 [00:02<00:03,  3.08it/s]"
     ]
    },
    {
     "name": "stdout",
     "output_type": "stream",
     "text": [
      "epoch 8 Train set - loss: 0.284, accuracy: 0.912 Val  set - loss: 0.314, Val accuracy: 0.908\n",
      "        \n"
     ]
    },
    {
     "name": "stderr",
     "output_type": "stream",
     "text": [
      "\r",
      " 42%|████████████████████████████████████████████████████████████████████████████████████████                                                                                                                         | 8/19 [00:02<00:03,  2.96it/s]"
     ]
    },
    {
     "name": "stdout",
     "output_type": "stream",
     "text": [
      "epoch 8 Train set - loss: 0.334, accuracy: 0.889 Val  set - loss: 0.379, Val accuracy: 0.879\n",
      "        \n"
     ]
    },
    {
     "name": "stderr",
     "output_type": "stream",
     "text": [
      "\r",
      " 47%|███████████████████████████████████████████████████████████████████████████████████████████████████                                                                                                              | 9/19 [00:02<00:03,  3.01it/s]"
     ]
    },
    {
     "name": "stdout",
     "output_type": "stream",
     "text": [
      "epoch 8 Train set - loss: 0.33, accuracy: 0.891 Val  set - loss: 0.349, Val accuracy: 0.893\n",
      "        \n"
     ]
    },
    {
     "name": "stderr",
     "output_type": "stream",
     "text": [
      "\r",
      " 53%|█████████████████████████████████████████████████████████████████████████████████████████████████████████████▍                                                                                                  | 10/19 [00:03<00:03,  2.99it/s]"
     ]
    },
    {
     "name": "stdout",
     "output_type": "stream",
     "text": [
      "epoch 8 Train set - loss: 0.312, accuracy: 0.9 Val  set - loss: 0.345, Val accuracy: 0.895\n",
      "        \n"
     ]
    },
    {
     "name": "stderr",
     "output_type": "stream",
     "text": [
      "\r",
      " 58%|████████████████████████████████████████████████████████████████████████████████████████████████████████████████████████▍                                                                                       | 11/19 [00:03<00:02,  2.98it/s]"
     ]
    },
    {
     "name": "stdout",
     "output_type": "stream",
     "text": [
      "epoch 8 Train set - loss: 0.333, accuracy: 0.891 Val  set - loss: 0.284, Val accuracy: 0.918\n",
      "        \n"
     ]
    },
    {
     "name": "stderr",
     "output_type": "stream",
     "text": [
      "\r",
      " 63%|███████████████████████████████████████████████████████████████████████████████████████████████████████████████████████████████████▎                                                                            | 12/19 [00:03<00:02,  2.98it/s]"
     ]
    },
    {
     "name": "stdout",
     "output_type": "stream",
     "text": [
      "epoch 8 Train set - loss: 0.301, accuracy: 0.906 Val  set - loss: 0.364, Val accuracy: 0.883\n",
      "        \n"
     ]
    },
    {
     "name": "stderr",
     "output_type": "stream",
     "text": [
      "\r",
      " 68%|██████████████████████████████████████████████████████████████████████████████████████████████████████████████████████████████████████████████▎                                                                 | 13/19 [00:04<00:01,  3.05it/s]"
     ]
    },
    {
     "name": "stdout",
     "output_type": "stream",
     "text": [
      "epoch 8 Train set - loss: 0.352, accuracy: 0.879 Val  set - loss: 0.374, Val accuracy: 0.879\n",
      "        \n"
     ]
    },
    {
     "name": "stderr",
     "output_type": "stream",
     "text": [
      "\r",
      " 74%|█████████████████████████████████████████████████████████████████████████████████████████████████████████████████████████████████████████████████████████▎                                                      | 14/19 [00:04<00:01,  3.08it/s]"
     ]
    },
    {
     "name": "stdout",
     "output_type": "stream",
     "text": [
      "epoch 8 Train set - loss: 0.287, accuracy: 0.908 Val  set - loss: 0.333, Val accuracy: 0.898\n",
      "        \n"
     ]
    },
    {
     "name": "stderr",
     "output_type": "stream",
     "text": [
      "\r",
      " 79%|████████████████████████████████████████████████████████████████████████████████████████████████████████████████████████████████████████████████████████████████████▏                                           | 15/19 [00:04<00:01,  3.01it/s]"
     ]
    },
    {
     "name": "stdout",
     "output_type": "stream",
     "text": [
      "epoch 8 Train set - loss: 0.311, accuracy: 0.902 Val  set - loss: 0.326, Val accuracy: 0.9\n",
      "        \n"
     ]
    },
    {
     "name": "stderr",
     "output_type": "stream",
     "text": [
      "\r",
      " 84%|███████████████████████████████████████████████████████████████████████████████████████████████████████████████████████████████████████████████████████████████████████████████▏                                | 16/19 [00:05<00:01,  3.00it/s]"
     ]
    },
    {
     "name": "stdout",
     "output_type": "stream",
     "text": [
      "epoch 8 Train set - loss: 0.34, accuracy: 0.883 Val  set - loss: 0.324, Val accuracy: 0.902\n",
      "        \n"
     ]
    },
    {
     "name": "stderr",
     "output_type": "stream",
     "text": [
      "\r",
      " 89%|██████████████████████████████████████████████████████████████████████████████████████████████████████████████████████████████████████████████████████████████████████████████████████████                      | 17/19 [00:05<00:00,  3.03it/s]"
     ]
    },
    {
     "name": "stdout",
     "output_type": "stream",
     "text": [
      "epoch 8 Train set - loss: 0.312, accuracy: 0.898 Val  set - loss: 0.312, Val accuracy: 0.906\n",
      "        \n"
     ]
    },
    {
     "name": "stderr",
     "output_type": "stream",
     "text": [
      "\r",
      " 95%|█████████████████████████████████████████████████████████████████████████████████████████████████████████████████████████████████████████████████████████████████████████████████████████████████████           | 18/19 [00:05<00:00,  3.07it/s]"
     ]
    },
    {
     "name": "stdout",
     "output_type": "stream",
     "text": [
      "epoch 8 Train set - loss: 0.316, accuracy: 0.893 Val  set - loss: 0.33, Val accuracy: 0.9\n",
      "        \n"
     ]
    },
    {
     "name": "stderr",
     "output_type": "stream",
     "text": [
      "100%|████████████████████████████████████████████████████████████████████████████████████████████████████████████████████████████████████████████████████████████████████████████████████████████████████████████████| 19/19 [00:06<00:00,  3.09it/s]\n"
     ]
    },
    {
     "name": "stdout",
     "output_type": "stream",
     "text": [
      "epoch 8 Train set - loss: 0.315, accuracy: 0.9 Val  set - loss: 0.362, Val accuracy: 0.885\n",
      "        \n"
     ]
    },
    {
     "name": "stderr",
     "output_type": "stream",
     "text": [
      "100%|████████████████████████████████████████████████████████████████████████████████████████████████████████████████████████████████████████████████████████████████████████████████████████████████████████████████| 19/19 [00:04<00:00,  4.40it/s]\n",
      "  5%|███████████                                                                                                                                                                                                      | 1/19 [00:00<00:05,  3.06it/s]"
     ]
    },
    {
     "name": "stdout",
     "output_type": "stream",
     "text": [
      "epoch 10 Train set - loss: 0.265, accuracy: 0.924 Val  set - loss: 0.302, Val accuracy: 0.91\n",
      "        \n"
     ]
    },
    {
     "name": "stderr",
     "output_type": "stream",
     "text": [
      "\r",
      " 11%|██████████████████████                                                                                                                                                                                           | 2/19 [00:00<00:05,  3.11it/s]"
     ]
    },
    {
     "name": "stdout",
     "output_type": "stream",
     "text": [
      "epoch 10 Train set - loss: 0.339, accuracy: 0.887 Val  set - loss: 0.36, Val accuracy: 0.887\n",
      "        \n"
     ]
    },
    {
     "name": "stderr",
     "output_type": "stream",
     "text": [
      "\r",
      " 16%|█████████████████████████████████                                                                                                                                                                                | 3/19 [00:00<00:05,  3.12it/s]"
     ]
    },
    {
     "name": "stdout",
     "output_type": "stream",
     "text": [
      "epoch 10 Train set - loss: 0.298, accuracy: 0.906 Val  set - loss: 0.311, Val accuracy: 0.908\n",
      "        \n"
     ]
    },
    {
     "name": "stderr",
     "output_type": "stream",
     "text": [
      "\r",
      " 21%|████████████████████████████████████████████                                                                                                                                                                     | 4/19 [00:01<00:04,  3.08it/s]"
     ]
    },
    {
     "name": "stdout",
     "output_type": "stream",
     "text": [
      "epoch 10 Train set - loss: 0.352, accuracy: 0.881 Val  set - loss: 0.332, Val accuracy: 0.9\n",
      "        \n"
     ]
    },
    {
     "name": "stderr",
     "output_type": "stream",
     "text": [
      "\r",
      " 26%|███████████████████████████████████████████████████████                                                                                                                                                          | 5/19 [00:01<00:04,  3.08it/s]"
     ]
    },
    {
     "name": "stdout",
     "output_type": "stream",
     "text": [
      "epoch 10 Train set - loss: 0.257, accuracy: 0.924 Val  set - loss: 0.302, Val accuracy: 0.912\n",
      "        \n"
     ]
    },
    {
     "name": "stderr",
     "output_type": "stream",
     "text": [
      "\r",
      " 32%|██████████████████████████████████████████████████████████████████                                                                                                                                               | 6/19 [00:01<00:04,  3.09it/s]"
     ]
    },
    {
     "name": "stdout",
     "output_type": "stream",
     "text": [
      "epoch 10 Train set - loss: 0.329, accuracy: 0.891 Val  set - loss: 0.326, Val accuracy: 0.9\n",
      "        \n"
     ]
    },
    {
     "name": "stderr",
     "output_type": "stream",
     "text": [
      "\r",
      " 37%|█████████████████████████████████████████████████████████████████████████████                                                                                                                                    | 7/19 [00:02<00:03,  3.11it/s]"
     ]
    },
    {
     "name": "stdout",
     "output_type": "stream",
     "text": [
      "epoch 10 Train set - loss: 0.284, accuracy: 0.912 Val  set - loss: 0.307, Val accuracy: 0.91\n",
      "        \n"
     ]
    },
    {
     "name": "stderr",
     "output_type": "stream",
     "text": [
      "\r",
      " 42%|████████████████████████████████████████████████████████████████████████████████████████                                                                                                                         | 8/19 [00:02<00:03,  3.06it/s]"
     ]
    },
    {
     "name": "stdout",
     "output_type": "stream",
     "text": [
      "epoch 10 Train set - loss: 0.334, accuracy: 0.889 Val  set - loss: 0.316, Val accuracy: 0.906\n",
      "        \n"
     ]
    },
    {
     "name": "stderr",
     "output_type": "stream",
     "text": [
      "\r",
      " 47%|███████████████████████████████████████████████████████████████████████████████████████████████████                                                                                                              | 9/19 [00:02<00:03,  2.97it/s]"
     ]
    },
    {
     "name": "stdout",
     "output_type": "stream",
     "text": [
      "epoch 10 Train set - loss: 0.329, accuracy: 0.891 Val  set - loss: 0.339, Val accuracy: 0.895\n",
      "        \n"
     ]
    },
    {
     "name": "stderr",
     "output_type": "stream",
     "text": [
      "\r",
      " 53%|█████████████████████████████████████████████████████████████████████████████████████████████████████████████▍                                                                                                  | 10/19 [00:03<00:03,  2.96it/s]"
     ]
    },
    {
     "name": "stdout",
     "output_type": "stream",
     "text": [
      "epoch 10 Train set - loss: 0.311, accuracy: 0.9 Val  set - loss: 0.315, Val accuracy: 0.906\n",
      "        \n"
     ]
    },
    {
     "name": "stderr",
     "output_type": "stream",
     "text": [
      "\r",
      " 58%|████████████████████████████████████████████████████████████████████████████████████████████████████████████████████████▍                                                                                       | 11/19 [00:03<00:02,  2.99it/s]"
     ]
    },
    {
     "name": "stdout",
     "output_type": "stream",
     "text": [
      "epoch 10 Train set - loss: 0.333, accuracy: 0.891 Val  set - loss: 0.286, Val accuracy: 0.916\n",
      "        \n"
     ]
    },
    {
     "name": "stderr",
     "output_type": "stream",
     "text": [
      "\r",
      " 63%|███████████████████████████████████████████████████████████████████████████████████████████████████████████████████████████████████▎                                                                            | 12/19 [00:03<00:02,  2.93it/s]"
     ]
    },
    {
     "name": "stdout",
     "output_type": "stream",
     "text": [
      "epoch 10 Train set - loss: 0.301, accuracy: 0.906 Val  set - loss: 0.291, Val accuracy: 0.918\n",
      "        \n"
     ]
    },
    {
     "name": "stderr",
     "output_type": "stream",
     "text": [
      "\r",
      " 68%|██████████████████████████████████████████████████████████████████████████████████████████████████████████████████████████████████████████████▎                                                                 | 13/19 [00:04<00:02,  2.83it/s]"
     ]
    },
    {
     "name": "stdout",
     "output_type": "stream",
     "text": [
      "epoch 10 Train set - loss: 0.352, accuracy: 0.879 Val  set - loss: 0.316, Val accuracy: 0.904\n",
      "        \n"
     ]
    },
    {
     "name": "stderr",
     "output_type": "stream",
     "text": [
      "\r",
      " 74%|█████████████████████████████████████████████████████████████████████████████████████████████████████████████████████████████████████████████████████████▎                                                      | 14/19 [00:04<00:01,  2.83it/s]"
     ]
    },
    {
     "name": "stdout",
     "output_type": "stream",
     "text": [
      "epoch 10 Train set - loss: 0.286, accuracy: 0.908 Val  set - loss: 0.358, Val accuracy: 0.887\n",
      "        \n"
     ]
    },
    {
     "name": "stderr",
     "output_type": "stream",
     "text": [
      "\r",
      " 79%|████████████████████████████████████████████████████████████████████████████████████████████████████████████████████████████████████████████████████████████████████▏                                           | 15/19 [00:05<00:01,  2.87it/s]"
     ]
    },
    {
     "name": "stdout",
     "output_type": "stream",
     "text": [
      "epoch 10 Train set - loss: 0.311, accuracy: 0.902 Val  set - loss: 0.348, Val accuracy: 0.896\n",
      "        \n"
     ]
    },
    {
     "name": "stderr",
     "output_type": "stream",
     "text": [
      "\r",
      " 84%|███████████████████████████████████████████████████████████████████████████████████████████████████████████████████████████████████████████████████████████████████████████████▏                                | 16/19 [00:05<00:01,  2.88it/s]"
     ]
    },
    {
     "name": "stdout",
     "output_type": "stream",
     "text": [
      "epoch 10 Train set - loss: 0.34, accuracy: 0.883 Val  set - loss: 0.344, Val accuracy: 0.895\n",
      "        \n"
     ]
    },
    {
     "name": "stderr",
     "output_type": "stream",
     "text": [
      "\r",
      " 89%|██████████████████████████████████████████████████████████████████████████████████████████████████████████████████████████████████████████████████████████████████████████████████████████                      | 17/19 [00:05<00:00,  2.94it/s]"
     ]
    },
    {
     "name": "stdout",
     "output_type": "stream",
     "text": [
      "epoch 10 Train set - loss: 0.311, accuracy: 0.898 Val  set - loss: 0.318, Val accuracy: 0.902\n",
      "        \n"
     ]
    },
    {
     "name": "stderr",
     "output_type": "stream",
     "text": [
      "\r",
      " 95%|█████████████████████████████████████████████████████████████████████████████████████████████████████████████████████████████████████████████████████████████████████████████████████████████████████           | 18/19 [00:06<00:00,  2.98it/s]"
     ]
    },
    {
     "name": "stdout",
     "output_type": "stream",
     "text": [
      "epoch 10 Train set - loss: 0.316, accuracy: 0.893 Val  set - loss: 0.339, Val accuracy: 0.896\n",
      "        \n"
     ]
    },
    {
     "name": "stderr",
     "output_type": "stream",
     "text": [
      "100%|████████████████████████████████████████████████████████████████████████████████████████████████████████████████████████████████████████████████████████████████████████████████████████████████████████████████| 19/19 [00:06<00:00,  3.03it/s]\n"
     ]
    },
    {
     "name": "stdout",
     "output_type": "stream",
     "text": [
      "epoch 10 Train set - loss: 0.314, accuracy: 0.9 Val  set - loss: 0.321, Val accuracy: 0.904\n",
      "        \n"
     ]
    },
    {
     "name": "stderr",
     "output_type": "stream",
     "text": [
      "100%|████████████████████████████████████████████████████████████████████████████████████████████████████████████████████████████████████████████████████████████████████████████████████████████████████████████████| 19/19 [00:04<00:00,  4.34it/s]\n",
      "  5%|███████████                                                                                                                                                                                                      | 1/19 [00:00<00:05,  3.21it/s]"
     ]
    },
    {
     "name": "stdout",
     "output_type": "stream",
     "text": [
      "epoch 12 Train set - loss: 0.265, accuracy: 0.924 Val  set - loss: 0.352, Val accuracy: 0.889\n",
      "        \n"
     ]
    },
    {
     "name": "stderr",
     "output_type": "stream",
     "text": [
      "\r",
      " 11%|██████████████████████                                                                                                                                                                                           | 2/19 [00:00<00:05,  3.13it/s]"
     ]
    },
    {
     "name": "stdout",
     "output_type": "stream",
     "text": [
      "epoch 12 Train set - loss: 0.338, accuracy: 0.887 Val  set - loss: 0.325, Val accuracy: 0.902\n",
      "        \n"
     ]
    },
    {
     "name": "stderr",
     "output_type": "stream",
     "text": [
      "\r",
      " 16%|█████████████████████████████████                                                                                                                                                                                | 3/19 [00:00<00:05,  3.07it/s]"
     ]
    },
    {
     "name": "stdout",
     "output_type": "stream",
     "text": [
      "epoch 12 Train set - loss: 0.298, accuracy: 0.906 Val  set - loss: 0.365, Val accuracy: 0.885\n",
      "        \n"
     ]
    },
    {
     "name": "stderr",
     "output_type": "stream",
     "text": [
      "\r",
      " 21%|████████████████████████████████████████████                                                                                                                                                                     | 4/19 [00:01<00:04,  3.07it/s]"
     ]
    },
    {
     "name": "stdout",
     "output_type": "stream",
     "text": [
      "epoch 12 Train set - loss: 0.352, accuracy: 0.881 Val  set - loss: 0.344, Val accuracy: 0.895\n",
      "        \n"
     ]
    },
    {
     "name": "stderr",
     "output_type": "stream",
     "text": [
      "\r",
      " 26%|███████████████████████████████████████████████████████                                                                                                                                                          | 5/19 [00:01<00:04,  3.07it/s]"
     ]
    },
    {
     "name": "stdout",
     "output_type": "stream",
     "text": [
      "epoch 12 Train set - loss: 0.256, accuracy: 0.924 Val  set - loss: 0.347, Val accuracy: 0.891\n",
      "        \n"
     ]
    },
    {
     "name": "stderr",
     "output_type": "stream",
     "text": [
      "\r",
      " 32%|██████████████████████████████████████████████████████████████████                                                                                                                                               | 6/19 [00:01<00:04,  3.06it/s]"
     ]
    },
    {
     "name": "stdout",
     "output_type": "stream",
     "text": [
      "epoch 12 Train set - loss: 0.329, accuracy: 0.891 Val  set - loss: 0.416, Val accuracy: 0.865\n",
      "        \n"
     ]
    },
    {
     "name": "stderr",
     "output_type": "stream",
     "text": [
      "\r",
      " 37%|█████████████████████████████████████████████████████████████████████████████                                                                                                                                    | 7/19 [00:02<00:03,  3.02it/s]"
     ]
    },
    {
     "name": "stdout",
     "output_type": "stream",
     "text": [
      "epoch 12 Train set - loss: 0.284, accuracy: 0.912 Val  set - loss: 0.371, Val accuracy: 0.881\n",
      "        \n"
     ]
    },
    {
     "name": "stderr",
     "output_type": "stream",
     "text": [
      "\r",
      " 42%|████████████████████████████████████████████████████████████████████████████████████████                                                                                                                         | 8/19 [00:02<00:03,  3.05it/s]"
     ]
    },
    {
     "name": "stdout",
     "output_type": "stream",
     "text": [
      "epoch 12 Train set - loss: 0.334, accuracy: 0.889 Val  set - loss: 0.303, Val accuracy: 0.91\n",
      "        \n"
     ]
    },
    {
     "name": "stderr",
     "output_type": "stream",
     "text": [
      "\r",
      " 47%|███████████████████████████████████████████████████████████████████████████████████████████████████                                                                                                              | 9/19 [00:02<00:03,  3.02it/s]"
     ]
    },
    {
     "name": "stdout",
     "output_type": "stream",
     "text": [
      "epoch 12 Train set - loss: 0.329, accuracy: 0.891 Val  set - loss: 0.337, Val accuracy: 0.896\n",
      "        \n"
     ]
    },
    {
     "name": "stderr",
     "output_type": "stream",
     "text": [
      "\r",
      " 53%|█████████████████████████████████████████████████████████████████████████████████████████████████████████████▍                                                                                                  | 10/19 [00:03<00:02,  3.02it/s]"
     ]
    },
    {
     "name": "stdout",
     "output_type": "stream",
     "text": [
      "epoch 12 Train set - loss: 0.311, accuracy: 0.9 Val  set - loss: 0.321, Val accuracy: 0.902\n",
      "        \n"
     ]
    },
    {
     "name": "stderr",
     "output_type": "stream",
     "text": [
      "\r",
      " 58%|████████████████████████████████████████████████████████████████████████████████████████████████████████████████████████▍                                                                                       | 11/19 [00:03<00:02,  3.03it/s]"
     ]
    },
    {
     "name": "stdout",
     "output_type": "stream",
     "text": [
      "epoch 12 Train set - loss: 0.332, accuracy: 0.891 Val  set - loss: 0.334, Val accuracy: 0.898\n",
      "        \n"
     ]
    },
    {
     "name": "stderr",
     "output_type": "stream",
     "text": [
      "\r",
      " 63%|███████████████████████████████████████████████████████████████████████████████████████████████████████████████████████████████████▎                                                                            | 12/19 [00:03<00:02,  3.00it/s]"
     ]
    },
    {
     "name": "stdout",
     "output_type": "stream",
     "text": [
      "epoch 12 Train set - loss: 0.3, accuracy: 0.906 Val  set - loss: 0.345, Val accuracy: 0.895\n",
      "        \n"
     ]
    },
    {
     "name": "stderr",
     "output_type": "stream",
     "text": [
      "\r",
      " 68%|██████████████████████████████████████████████████████████████████████████████████████████████████████████████████████████████████████████████▎                                                                 | 13/19 [00:04<00:01,  3.03it/s]"
     ]
    },
    {
     "name": "stdout",
     "output_type": "stream",
     "text": [
      "epoch 12 Train set - loss: 0.352, accuracy: 0.879 Val  set - loss: 0.332, Val accuracy: 0.902\n",
      "        \n"
     ]
    },
    {
     "name": "stderr",
     "output_type": "stream",
     "text": [
      "\r",
      " 74%|█████████████████████████████████████████████████████████████████████████████████████████████████████████████████████████████████████████████████████████▎                                                      | 14/19 [00:04<00:01,  3.06it/s]"
     ]
    },
    {
     "name": "stdout",
     "output_type": "stream",
     "text": [
      "epoch 12 Train set - loss: 0.286, accuracy: 0.908 Val  set - loss: 0.292, Val accuracy: 0.916\n",
      "        \n"
     ]
    },
    {
     "name": "stderr",
     "output_type": "stream",
     "text": [
      "\r",
      " 79%|████████████████████████████████████████████████████████████████████████████████████████████████████████████████████████████████████████████████████████████████████▏                                           | 15/19 [00:04<00:01,  3.08it/s]"
     ]
    },
    {
     "name": "stdout",
     "output_type": "stream",
     "text": [
      "epoch 12 Train set - loss: 0.311, accuracy: 0.902 Val  set - loss: 0.378, Val accuracy: 0.881\n",
      "        \n"
     ]
    },
    {
     "name": "stderr",
     "output_type": "stream",
     "text": [
      "\r",
      " 84%|███████████████████████████████████████████████████████████████████████████████████████████████████████████████████████████████████████████████████████████████████████████████▏                                | 16/19 [00:05<00:00,  3.11it/s]"
     ]
    },
    {
     "name": "stdout",
     "output_type": "stream",
     "text": [
      "epoch 12 Train set - loss: 0.34, accuracy: 0.883 Val  set - loss: 0.415, Val accuracy: 0.861\n",
      "        \n"
     ]
    },
    {
     "name": "stderr",
     "output_type": "stream",
     "text": [
      "\r",
      " 89%|██████████████████████████████████████████████████████████████████████████████████████████████████████████████████████████████████████████████████████████████████████████████████████████                      | 17/19 [00:05<00:00,  3.12it/s]"
     ]
    },
    {
     "name": "stdout",
     "output_type": "stream",
     "text": [
      "epoch 12 Train set - loss: 0.311, accuracy: 0.898 Val  set - loss: 0.325, Val accuracy: 0.9\n",
      "        \n"
     ]
    },
    {
     "name": "stderr",
     "output_type": "stream",
     "text": [
      "\r",
      " 95%|█████████████████████████████████████████████████████████████████████████████████████████████████████████████████████████████████████████████████████████████████████████████████████████████████████           | 18/19 [00:05<00:00,  3.12it/s]"
     ]
    },
    {
     "name": "stdout",
     "output_type": "stream",
     "text": [
      "epoch 12 Train set - loss: 0.316, accuracy: 0.893 Val  set - loss: 0.358, Val accuracy: 0.887\n",
      "        \n"
     ]
    },
    {
     "name": "stderr",
     "output_type": "stream",
     "text": [
      "100%|████████████████████████████████████████████████████████████████████████████████████████████████████████████████████████████████████████████████████████████████████████████████████████████████████████████████| 19/19 [00:06<00:00,  3.12it/s]\n"
     ]
    },
    {
     "name": "stdout",
     "output_type": "stream",
     "text": [
      "epoch 12 Train set - loss: 0.314, accuracy: 0.9 Val  set - loss: 0.307, Val accuracy: 0.908\n",
      "        \n"
     ]
    },
    {
     "name": "stderr",
     "output_type": "stream",
     "text": [
      "100%|████████████████████████████████████████████████████████████████████████████████████████████████████████████████████████████████████████████████████████████████████████████████████████████████████████████████| 19/19 [00:04<00:00,  4.28it/s]\n",
      "  5%|███████████                                                                                                                                                                                                      | 1/19 [00:00<00:05,  3.12it/s]"
     ]
    },
    {
     "name": "stdout",
     "output_type": "stream",
     "text": [
      "epoch 14 Train set - loss: 0.265, accuracy: 0.924 Val  set - loss: 0.31, Val accuracy: 0.91\n",
      "        \n"
     ]
    },
    {
     "name": "stderr",
     "output_type": "stream",
     "text": [
      "\r",
      " 11%|██████████████████████                                                                                                                                                                                           | 2/19 [00:00<00:05,  3.17it/s]"
     ]
    },
    {
     "name": "stdout",
     "output_type": "stream",
     "text": [
      "epoch 14 Train set - loss: 0.338, accuracy: 0.887 Val  set - loss: 0.359, Val accuracy: 0.891\n",
      "        \n"
     ]
    },
    {
     "name": "stderr",
     "output_type": "stream",
     "text": [
      "\r",
      " 16%|█████████████████████████████████                                                                                                                                                                                | 3/19 [00:00<00:05,  3.17it/s]"
     ]
    },
    {
     "name": "stdout",
     "output_type": "stream",
     "text": [
      "epoch 14 Train set - loss: 0.298, accuracy: 0.906 Val  set - loss: 0.339, Val accuracy: 0.898\n",
      "        \n"
     ]
    },
    {
     "name": "stderr",
     "output_type": "stream",
     "text": [
      "\r",
      " 21%|████████████████████████████████████████████                                                                                                                                                                     | 4/19 [00:01<00:04,  3.15it/s]"
     ]
    },
    {
     "name": "stdout",
     "output_type": "stream",
     "text": [
      "epoch 14 Train set - loss: 0.351, accuracy: 0.881 Val  set - loss: 0.38, Val accuracy: 0.881\n",
      "        \n"
     ]
    },
    {
     "name": "stderr",
     "output_type": "stream",
     "text": [
      "\r",
      " 26%|███████████████████████████████████████████████████████                                                                                                                                                          | 5/19 [00:01<00:04,  3.09it/s]"
     ]
    },
    {
     "name": "stdout",
     "output_type": "stream",
     "text": [
      "epoch 14 Train set - loss: 0.256, accuracy: 0.924 Val  set - loss: 0.384, Val accuracy: 0.877\n",
      "        \n"
     ]
    },
    {
     "name": "stderr",
     "output_type": "stream",
     "text": [
      "\r",
      " 32%|██████████████████████████████████████████████████████████████████                                                                                                                                               | 6/19 [00:01<00:04,  3.10it/s]"
     ]
    },
    {
     "name": "stdout",
     "output_type": "stream",
     "text": [
      "epoch 14 Train set - loss: 0.329, accuracy: 0.891 Val  set - loss: 0.342, Val accuracy: 0.895\n",
      "        \n"
     ]
    },
    {
     "name": "stderr",
     "output_type": "stream",
     "text": [
      "\r",
      " 37%|█████████████████████████████████████████████████████████████████████████████                                                                                                                                    | 7/19 [00:02<00:03,  3.06it/s]"
     ]
    },
    {
     "name": "stdout",
     "output_type": "stream",
     "text": [
      "epoch 14 Train set - loss: 0.284, accuracy: 0.912 Val  set - loss: 0.312, Val accuracy: 0.908\n",
      "        \n"
     ]
    },
    {
     "name": "stderr",
     "output_type": "stream",
     "text": [
      "\r",
      " 42%|████████████████████████████████████████████████████████████████████████████████████████                                                                                                                         | 8/19 [00:02<00:03,  2.89it/s]"
     ]
    },
    {
     "name": "stdout",
     "output_type": "stream",
     "text": [
      "epoch 14 Train set - loss: 0.333, accuracy: 0.889 Val  set - loss: 0.294, Val accuracy: 0.914\n",
      "        \n"
     ]
    },
    {
     "name": "stderr",
     "output_type": "stream",
     "text": [
      "\r",
      " 47%|███████████████████████████████████████████████████████████████████████████████████████████████████                                                                                                              | 9/19 [00:03<00:03,  2.81it/s]"
     ]
    },
    {
     "name": "stdout",
     "output_type": "stream",
     "text": [
      "epoch 14 Train set - loss: 0.329, accuracy: 0.891 Val  set - loss: 0.376, Val accuracy: 0.879\n",
      "        \n"
     ]
    },
    {
     "name": "stderr",
     "output_type": "stream",
     "text": [
      "\r",
      " 53%|█████████████████████████████████████████████████████████████████████████████████████████████████████████████▍                                                                                                  | 10/19 [00:03<00:03,  2.61it/s]"
     ]
    },
    {
     "name": "stdout",
     "output_type": "stream",
     "text": [
      "epoch 14 Train set - loss: 0.311, accuracy: 0.9 Val  set - loss: 0.34, Val accuracy: 0.9\n",
      "        \n"
     ]
    },
    {
     "name": "stderr",
     "output_type": "stream",
     "text": [
      "\r",
      " 58%|████████████████████████████████████████████████████████████████████████████████████████████████████████████████████████▍                                                                                       | 11/19 [00:03<00:03,  2.59it/s]"
     ]
    },
    {
     "name": "stdout",
     "output_type": "stream",
     "text": [
      "epoch 14 Train set - loss: 0.332, accuracy: 0.891 Val  set - loss: 0.294, Val accuracy: 0.914\n",
      "        \n"
     ]
    },
    {
     "name": "stderr",
     "output_type": "stream",
     "text": [
      "\r",
      " 63%|███████████████████████████████████████████████████████████████████████████████████████████████████████████████████████████████████▎                                                                            | 12/19 [00:04<00:02,  2.59it/s]"
     ]
    },
    {
     "name": "stdout",
     "output_type": "stream",
     "text": [
      "epoch 14 Train set - loss: 0.3, accuracy: 0.906 Val  set - loss: 0.365, Val accuracy: 0.883\n",
      "        \n"
     ]
    },
    {
     "name": "stderr",
     "output_type": "stream",
     "text": [
      "\r",
      " 68%|██████████████████████████████████████████████████████████████████████████████████████████████████████████████████████████████████████████████▎                                                                 | 13/19 [00:04<00:02,  2.57it/s]"
     ]
    },
    {
     "name": "stdout",
     "output_type": "stream",
     "text": [
      "epoch 14 Train set - loss: 0.352, accuracy: 0.879 Val  set - loss: 0.356, Val accuracy: 0.889\n",
      "        \n"
     ]
    },
    {
     "name": "stderr",
     "output_type": "stream",
     "text": [
      "\r",
      " 74%|█████████████████████████████████████████████████████████████████████████████████████████████████████████████████████████████████████████████████████████▎                                                      | 14/19 [00:05<00:01,  2.58it/s]"
     ]
    },
    {
     "name": "stdout",
     "output_type": "stream",
     "text": [
      "epoch 14 Train set - loss: 0.286, accuracy: 0.908 Val  set - loss: 0.338, Val accuracy: 0.896\n",
      "        \n"
     ]
    },
    {
     "name": "stderr",
     "output_type": "stream",
     "text": [
      "\r",
      " 79%|████████████████████████████████████████████████████████████████████████████████████████████████████████████████████████████████████████████████████████████████████▏                                           | 15/19 [00:05<00:01,  2.57it/s]"
     ]
    },
    {
     "name": "stdout",
     "output_type": "stream",
     "text": [
      "epoch 14 Train set - loss: 0.311, accuracy: 0.902 Val  set - loss: 0.309, Val accuracy: 0.912\n",
      "        \n"
     ]
    },
    {
     "name": "stderr",
     "output_type": "stream",
     "text": [
      "\r",
      " 84%|███████████████████████████████████████████████████████████████████████████████████████████████████████████████████████████████████████████████████████████████████████████████▏                                | 16/19 [00:05<00:01,  2.67it/s]"
     ]
    },
    {
     "name": "stdout",
     "output_type": "stream",
     "text": [
      "epoch 14 Train set - loss: 0.339, accuracy: 0.883 Val  set - loss: 0.4, Val accuracy: 0.867\n",
      "        \n"
     ]
    },
    {
     "name": "stderr",
     "output_type": "stream",
     "text": [
      "\r",
      " 89%|██████████████████████████████████████████████████████████████████████████████████████████████████████████████████████████████████████████████████████████████████████████████████████████                      | 17/19 [00:06<00:00,  2.68it/s]"
     ]
    },
    {
     "name": "stdout",
     "output_type": "stream",
     "text": [
      "epoch 14 Train set - loss: 0.311, accuracy: 0.898 Val  set - loss: 0.336, Val accuracy: 0.896\n",
      "        \n"
     ]
    },
    {
     "name": "stderr",
     "output_type": "stream",
     "text": [
      "\r",
      " 95%|█████████████████████████████████████████████████████████████████████████████████████████████████████████████████████████████████████████████████████████████████████████████████████████████████████           | 18/19 [00:06<00:00,  2.69it/s]"
     ]
    },
    {
     "name": "stdout",
     "output_type": "stream",
     "text": [
      "epoch 14 Train set - loss: 0.315, accuracy: 0.893 Val  set - loss: 0.358, Val accuracy: 0.885\n",
      "        \n"
     ]
    },
    {
     "name": "stderr",
     "output_type": "stream",
     "text": [
      "100%|████████████████████████████████████████████████████████████████████████████████████████████████████████████████████████████████████████████████████████████████████████████████████████████████████████████████| 19/19 [00:06<00:00,  2.81it/s]\n"
     ]
    },
    {
     "name": "stdout",
     "output_type": "stream",
     "text": [
      "epoch 14 Train set - loss: 0.314, accuracy: 0.9 Val  set - loss: 0.362, Val accuracy: 0.885\n",
      "        \n"
     ]
    },
    {
     "name": "stderr",
     "output_type": "stream",
     "text": [
      "100%|████████████████████████████████████████████████████████████████████████████████████████████████████████████████████████████████████████████████████████████████████████████████████████████████████████████████| 19/19 [00:04<00:00,  4.03it/s]\n",
      "  5%|███████████                                                                                                                                                                                                      | 1/19 [00:00<00:06,  2.90it/s]"
     ]
    },
    {
     "name": "stdout",
     "output_type": "stream",
     "text": [
      "epoch 16 Train set - loss: 0.265, accuracy: 0.924 Val  set - loss: 0.356, Val accuracy: 0.889\n",
      "        \n"
     ]
    },
    {
     "name": "stderr",
     "output_type": "stream",
     "text": [
      "\r",
      " 11%|██████████████████████                                                                                                                                                                                           | 2/19 [00:00<00:05,  2.99it/s]"
     ]
    },
    {
     "name": "stdout",
     "output_type": "stream",
     "text": [
      "epoch 16 Train set - loss: 0.338, accuracy: 0.887 Val  set - loss: 0.347, Val accuracy: 0.893\n",
      "        \n"
     ]
    },
    {
     "name": "stderr",
     "output_type": "stream",
     "text": [
      "\r",
      " 16%|█████████████████████████████████                                                                                                                                                                                | 3/19 [00:01<00:05,  3.00it/s]"
     ]
    },
    {
     "name": "stdout",
     "output_type": "stream",
     "text": [
      "epoch 16 Train set - loss: 0.298, accuracy: 0.906 Val  set - loss: 0.295, Val accuracy: 0.914\n",
      "        \n"
     ]
    },
    {
     "name": "stderr",
     "output_type": "stream",
     "text": [
      "\r",
      " 21%|████████████████████████████████████████████                                                                                                                                                                     | 4/19 [00:01<00:04,  3.03it/s]"
     ]
    },
    {
     "name": "stdout",
     "output_type": "stream",
     "text": [
      "epoch 16 Train set - loss: 0.351, accuracy: 0.881 Val  set - loss: 0.353, Val accuracy: 0.889\n",
      "        \n"
     ]
    },
    {
     "name": "stderr",
     "output_type": "stream",
     "text": [
      "\r",
      " 26%|███████████████████████████████████████████████████████                                                                                                                                                          | 5/19 [00:01<00:04,  3.01it/s]"
     ]
    },
    {
     "name": "stdout",
     "output_type": "stream",
     "text": [
      "epoch 16 Train set - loss: 0.256, accuracy: 0.924 Val  set - loss: 0.341, Val accuracy: 0.896\n",
      "        \n"
     ]
    },
    {
     "name": "stderr",
     "output_type": "stream",
     "text": [
      "\r",
      " 32%|██████████████████████████████████████████████████████████████████                                                                                                                                               | 6/19 [00:02<00:04,  2.98it/s]"
     ]
    },
    {
     "name": "stdout",
     "output_type": "stream",
     "text": [
      "epoch 16 Train set - loss: 0.328, accuracy: 0.891 Val  set - loss: 0.349, Val accuracy: 0.895\n",
      "        \n"
     ]
    },
    {
     "name": "stderr",
     "output_type": "stream",
     "text": [
      "\r",
      " 37%|█████████████████████████████████████████████████████████████████████████████                                                                                                                                    | 7/19 [00:02<00:03,  3.01it/s]"
     ]
    },
    {
     "name": "stdout",
     "output_type": "stream",
     "text": [
      "epoch 16 Train set - loss: 0.284, accuracy: 0.912 Val  set - loss: 0.342, Val accuracy: 0.895\n",
      "        \n"
     ]
    },
    {
     "name": "stderr",
     "output_type": "stream",
     "text": [
      "\r",
      " 42%|████████████████████████████████████████████████████████████████████████████████████████                                                                                                                         | 8/19 [00:02<00:03,  3.04it/s]"
     ]
    },
    {
     "name": "stdout",
     "output_type": "stream",
     "text": [
      "epoch 16 Train set - loss: 0.333, accuracy: 0.889 Val  set - loss: 0.327, Val accuracy: 0.898\n",
      "        \n"
     ]
    },
    {
     "name": "stderr",
     "output_type": "stream",
     "text": [
      "\r",
      " 47%|███████████████████████████████████████████████████████████████████████████████████████████████████                                                                                                              | 9/19 [00:02<00:03,  3.01it/s]"
     ]
    },
    {
     "name": "stdout",
     "output_type": "stream",
     "text": [
      "epoch 16 Train set - loss: 0.329, accuracy: 0.891 Val  set - loss: 0.306, Val accuracy: 0.912\n",
      "        \n"
     ]
    },
    {
     "name": "stderr",
     "output_type": "stream",
     "text": [
      "\r",
      " 53%|█████████████████████████████████████████████████████████████████████████████████████████████████████████████▍                                                                                                  | 10/19 [00:03<00:03,  2.98it/s]"
     ]
    },
    {
     "name": "stdout",
     "output_type": "stream",
     "text": [
      "epoch 16 Train set - loss: 0.311, accuracy: 0.9 Val  set - loss: 0.329, Val accuracy: 0.898\n",
      "        \n"
     ]
    },
    {
     "name": "stderr",
     "output_type": "stream",
     "text": [
      "\r",
      " 58%|████████████████████████████████████████████████████████████████████████████████████████████████████████████████████████▍                                                                                       | 11/19 [00:03<00:02,  3.01it/s]"
     ]
    },
    {
     "name": "stdout",
     "output_type": "stream",
     "text": [
      "epoch 16 Train set - loss: 0.332, accuracy: 0.891 Val  set - loss: 0.311, Val accuracy: 0.91\n",
      "        \n"
     ]
    },
    {
     "name": "stderr",
     "output_type": "stream",
     "text": [
      "\r",
      " 63%|███████████████████████████████████████████████████████████████████████████████████████████████████████████████████████████████████▎                                                                            | 12/19 [00:03<00:02,  3.05it/s]"
     ]
    },
    {
     "name": "stdout",
     "output_type": "stream",
     "text": [
      "epoch 16 Train set - loss: 0.3, accuracy: 0.906 Val  set - loss: 0.345, Val accuracy: 0.891\n",
      "        \n"
     ]
    },
    {
     "name": "stderr",
     "output_type": "stream",
     "text": [
      "\r",
      " 68%|██████████████████████████████████████████████████████████████████████████████████████████████████████████████████████████████████████████████▎                                                                 | 13/19 [00:04<00:02,  2.95it/s]"
     ]
    },
    {
     "name": "stdout",
     "output_type": "stream",
     "text": [
      "epoch 16 Train set - loss: 0.351, accuracy: 0.879 Val  set - loss: 0.339, Val accuracy: 0.898\n",
      "        \n"
     ]
    },
    {
     "name": "stderr",
     "output_type": "stream",
     "text": [
      "\r",
      " 74%|█████████████████████████████████████████████████████████████████████████████████████████████████████████████████████████████████████████████████████████▎                                                      | 14/19 [00:04<00:01,  2.96it/s]"
     ]
    },
    {
     "name": "stdout",
     "output_type": "stream",
     "text": [
      "epoch 16 Train set - loss: 0.286, accuracy: 0.908 Val  set - loss: 0.369, Val accuracy: 0.885\n",
      "        \n"
     ]
    },
    {
     "name": "stderr",
     "output_type": "stream",
     "text": [
      "\r",
      " 79%|████████████████████████████████████████████████████████████████████████████████████████████████████████████████████████████████████████████████████████████████████▏                                           | 15/19 [00:05<00:01,  3.00it/s]"
     ]
    },
    {
     "name": "stdout",
     "output_type": "stream",
     "text": [
      "epoch 16 Train set - loss: 0.311, accuracy: 0.902 Val  set - loss: 0.302, Val accuracy: 0.914\n",
      "        \n"
     ]
    },
    {
     "name": "stderr",
     "output_type": "stream",
     "text": [
      "\r",
      " 84%|███████████████████████████████████████████████████████████████████████████████████████████████████████████████████████████████████████████████████████████████████████████████▏                                | 16/19 [00:05<00:01,  2.95it/s]"
     ]
    },
    {
     "name": "stdout",
     "output_type": "stream",
     "text": [
      "epoch 16 Train set - loss: 0.339, accuracy: 0.883 Val  set - loss: 0.382, Val accuracy: 0.877\n",
      "        \n"
     ]
    },
    {
     "name": "stderr",
     "output_type": "stream",
     "text": [
      "\r",
      " 89%|██████████████████████████████████████████████████████████████████████████████████████████████████████████████████████████████████████████████████████████████████████████████████████████                      | 17/19 [00:05<00:00,  2.94it/s]"
     ]
    },
    {
     "name": "stdout",
     "output_type": "stream",
     "text": [
      "epoch 16 Train set - loss: 0.311, accuracy: 0.898 Val  set - loss: 0.373, Val accuracy: 0.881\n",
      "        \n"
     ]
    },
    {
     "name": "stderr",
     "output_type": "stream",
     "text": [
      "\r",
      " 95%|█████████████████████████████████████████████████████████████████████████████████████████████████████████████████████████████████████████████████████████████████████████████████████████████████████           | 18/19 [00:06<00:00,  2.98it/s]"
     ]
    },
    {
     "name": "stdout",
     "output_type": "stream",
     "text": [
      "epoch 16 Train set - loss: 0.315, accuracy: 0.893 Val  set - loss: 0.37, Val accuracy: 0.885\n",
      "        \n"
     ]
    },
    {
     "name": "stderr",
     "output_type": "stream",
     "text": [
      "100%|████████████████████████████████████████████████████████████████████████████████████████████████████████████████████████████████████████████████████████████████████████████████████████████████████████████████| 19/19 [00:06<00:00,  3.02it/s]\n"
     ]
    },
    {
     "name": "stdout",
     "output_type": "stream",
     "text": [
      "epoch 16 Train set - loss: 0.314, accuracy: 0.9 Val  set - loss: 0.32, Val accuracy: 0.904\n",
      "        \n"
     ]
    },
    {
     "name": "stderr",
     "output_type": "stream",
     "text": [
      "100%|████████████████████████████████████████████████████████████████████████████████████████████████████████████████████████████████████████████████████████████████████████████████████████████████████████████████| 19/19 [00:04<00:00,  4.26it/s]\n",
      "  5%|███████████                                                                                                                                                                                                      | 1/19 [00:00<00:06,  2.81it/s]"
     ]
    },
    {
     "name": "stdout",
     "output_type": "stream",
     "text": [
      "epoch 18 Train set - loss: 0.264, accuracy: 0.924 Val  set - loss: 0.334, Val accuracy: 0.898\n",
      "        \n"
     ]
    },
    {
     "name": "stderr",
     "output_type": "stream",
     "text": [
      "\r",
      " 11%|██████████████████████                                                                                                                                                                                           | 2/19 [00:00<00:05,  2.95it/s]"
     ]
    },
    {
     "name": "stdout",
     "output_type": "stream",
     "text": [
      "epoch 18 Train set - loss: 0.338, accuracy: 0.887 Val  set - loss: 0.347, Val accuracy: 0.893\n",
      "        \n"
     ]
    },
    {
     "name": "stderr",
     "output_type": "stream",
     "text": [
      "\r",
      " 16%|█████████████████████████████████                                                                                                                                                                                | 3/19 [00:01<00:05,  3.01it/s]"
     ]
    },
    {
     "name": "stdout",
     "output_type": "stream",
     "text": [
      "epoch 18 Train set - loss: 0.298, accuracy: 0.906 Val  set - loss: 0.346, Val accuracy: 0.891\n",
      "        \n"
     ]
    },
    {
     "name": "stderr",
     "output_type": "stream",
     "text": [
      "\r",
      " 21%|████████████████████████████████████████████                                                                                                                                                                     | 4/19 [00:01<00:04,  3.06it/s]"
     ]
    },
    {
     "name": "stdout",
     "output_type": "stream",
     "text": [
      "epoch 18 Train set - loss: 0.351, accuracy: 0.881 Val  set - loss: 0.34, Val accuracy: 0.898\n",
      "        \n"
     ]
    },
    {
     "name": "stderr",
     "output_type": "stream",
     "text": [
      "\r",
      " 26%|███████████████████████████████████████████████████████                                                                                                                                                          | 5/19 [00:01<00:04,  3.12it/s]"
     ]
    },
    {
     "name": "stdout",
     "output_type": "stream",
     "text": [
      "epoch 18 Train set - loss: 0.255, accuracy: 0.924 Val  set - loss: 0.244, Val accuracy: 0.939\n",
      "        \n"
     ]
    },
    {
     "name": "stderr",
     "output_type": "stream",
     "text": [
      "\r",
      " 32%|██████████████████████████████████████████████████████████████████                                                                                                                                               | 6/19 [00:01<00:04,  3.12it/s]"
     ]
    },
    {
     "name": "stdout",
     "output_type": "stream",
     "text": [
      "epoch 18 Train set - loss: 0.328, accuracy: 0.891 Val  set - loss: 0.359, Val accuracy: 0.889\n",
      "        \n"
     ]
    },
    {
     "name": "stderr",
     "output_type": "stream",
     "text": [
      "\r",
      " 37%|█████████████████████████████████████████████████████████████████████████████                                                                                                                                    | 7/19 [00:02<00:03,  3.12it/s]"
     ]
    },
    {
     "name": "stdout",
     "output_type": "stream",
     "text": [
      "epoch 18 Train set - loss: 0.283, accuracy: 0.912 Val  set - loss: 0.318, Val accuracy: 0.906\n",
      "        \n"
     ]
    },
    {
     "name": "stderr",
     "output_type": "stream",
     "text": [
      "\r",
      " 42%|████████████████████████████████████████████████████████████████████████████████████████                                                                                                                         | 8/19 [00:02<00:03,  3.07it/s]"
     ]
    },
    {
     "name": "stdout",
     "output_type": "stream",
     "text": [
      "epoch 18 Train set - loss: 0.333, accuracy: 0.889 Val  set - loss: 0.35, Val accuracy: 0.891\n",
      "        \n"
     ]
    },
    {
     "name": "stderr",
     "output_type": "stream",
     "text": [
      "\r",
      " 47%|███████████████████████████████████████████████████████████████████████████████████████████████████                                                                                                              | 9/19 [00:02<00:03,  3.04it/s]"
     ]
    },
    {
     "name": "stdout",
     "output_type": "stream",
     "text": [
      "epoch 18 Train set - loss: 0.329, accuracy: 0.891 Val  set - loss: 0.384, Val accuracy: 0.877\n",
      "        \n"
     ]
    },
    {
     "name": "stderr",
     "output_type": "stream",
     "text": [
      "\r",
      " 53%|█████████████████████████████████████████████████████████████████████████████████████████████████████████████▍                                                                                                  | 10/19 [00:03<00:02,  3.04it/s]"
     ]
    },
    {
     "name": "stdout",
     "output_type": "stream",
     "text": [
      "epoch 18 Train set - loss: 0.311, accuracy: 0.9 Val  set - loss: 0.355, Val accuracy: 0.889\n",
      "        \n"
     ]
    },
    {
     "name": "stderr",
     "output_type": "stream",
     "text": [
      "\r",
      " 58%|████████████████████████████████████████████████████████████████████████████████████████████████████████████████████████▍                                                                                       | 11/19 [00:03<00:02,  3.09it/s]"
     ]
    },
    {
     "name": "stdout",
     "output_type": "stream",
     "text": [
      "epoch 18 Train set - loss: 0.332, accuracy: 0.891 Val  set - loss: 0.367, Val accuracy: 0.885\n",
      "        \n"
     ]
    },
    {
     "name": "stderr",
     "output_type": "stream",
     "text": [
      "\r",
      " 63%|███████████████████████████████████████████████████████████████████████████████████████████████████████████████████████████████████▎                                                                            | 12/19 [00:03<00:02,  3.06it/s]"
     ]
    },
    {
     "name": "stdout",
     "output_type": "stream",
     "text": [
      "epoch 18 Train set - loss: 0.3, accuracy: 0.906 Val  set - loss: 0.344, Val accuracy: 0.893\n",
      "        \n"
     ]
    },
    {
     "name": "stderr",
     "output_type": "stream",
     "text": [
      "\r",
      " 68%|██████████████████████████████████████████████████████████████████████████████████████████████████████████████████████████████████████████████▎                                                                 | 13/19 [00:04<00:01,  3.10it/s]"
     ]
    },
    {
     "name": "stdout",
     "output_type": "stream",
     "text": [
      "epoch 18 Train set - loss: 0.351, accuracy: 0.879 Val  set - loss: 0.285, Val accuracy: 0.92\n",
      "        \n"
     ]
    },
    {
     "name": "stderr",
     "output_type": "stream",
     "text": [
      "\r",
      " 74%|█████████████████████████████████████████████████████████████████████████████████████████████████████████████████████████████████████████████████████████▎                                                      | 14/19 [00:04<00:01,  3.07it/s]"
     ]
    },
    {
     "name": "stdout",
     "output_type": "stream",
     "text": [
      "epoch 18 Train set - loss: 0.285, accuracy: 0.908 Val  set - loss: 0.329, Val accuracy: 0.9\n",
      "        \n"
     ]
    },
    {
     "name": "stderr",
     "output_type": "stream",
     "text": [
      "\r",
      " 79%|████████████████████████████████████████████████████████████████████████████████████████████████████████████████████████████████████████████████████████████████████▏                                           | 15/19 [00:04<00:01,  3.03it/s]"
     ]
    },
    {
     "name": "stdout",
     "output_type": "stream",
     "text": [
      "epoch 18 Train set - loss: 0.311, accuracy: 0.902 Val  set - loss: 0.353, Val accuracy: 0.887\n",
      "        \n"
     ]
    },
    {
     "name": "stderr",
     "output_type": "stream",
     "text": [
      "\r",
      " 84%|███████████████████████████████████████████████████████████████████████████████████████████████████████████████████████████████████████████████████████████████████████████████▏                                | 16/19 [00:05<00:00,  3.02it/s]"
     ]
    },
    {
     "name": "stdout",
     "output_type": "stream",
     "text": [
      "epoch 18 Train set - loss: 0.339, accuracy: 0.883 Val  set - loss: 0.342, Val accuracy: 0.895\n",
      "        \n"
     ]
    },
    {
     "name": "stderr",
     "output_type": "stream",
     "text": [
      "\r",
      " 89%|██████████████████████████████████████████████████████████████████████████████████████████████████████████████████████████████████████████████████████████████████████████████████████████                      | 17/19 [00:05<00:00,  3.02it/s]"
     ]
    },
    {
     "name": "stdout",
     "output_type": "stream",
     "text": [
      "epoch 18 Train set - loss: 0.311, accuracy: 0.898 Val  set - loss: 0.286, Val accuracy: 0.922\n",
      "        \n"
     ]
    },
    {
     "name": "stderr",
     "output_type": "stream",
     "text": [
      "\r",
      " 95%|█████████████████████████████████████████████████████████████████████████████████████████████████████████████████████████████████████████████████████████████████████████████████████████████████████           | 18/19 [00:05<00:00,  3.08it/s]"
     ]
    },
    {
     "name": "stdout",
     "output_type": "stream",
     "text": [
      "epoch 18 Train set - loss: 0.315, accuracy: 0.893 Val  set - loss: 0.379, Val accuracy: 0.879\n",
      "        \n"
     ]
    },
    {
     "name": "stderr",
     "output_type": "stream",
     "text": [
      "100%|████████████████████████████████████████████████████████████████████████████████████████████████████████████████████████████████████████████████████████████████████████████████████████████████████████████████| 19/19 [00:06<00:00,  3.11it/s]\n"
     ]
    },
    {
     "name": "stdout",
     "output_type": "stream",
     "text": [
      "epoch 18 Train set - loss: 0.314, accuracy: 0.9 Val  set - loss: 0.323, Val accuracy: 0.902\n",
      "        \n"
     ]
    },
    {
     "name": "stderr",
     "output_type": "stream",
     "text": [
      "100%|████████████████████████████████████████████████████████████████████████████████████████████████████████████████████████████████████████████████████████████████████████████████████████████████████████████████| 19/19 [00:04<00:00,  4.36it/s]\n",
      "  5%|███████████                                                                                                                                                                                                      | 1/19 [00:00<00:05,  3.07it/s]"
     ]
    },
    {
     "name": "stdout",
     "output_type": "stream",
     "text": [
      "epoch 20 Train set - loss: 0.264, accuracy: 0.924 Val  set - loss: 0.34, Val accuracy: 0.895\n",
      "        \n"
     ]
    },
    {
     "name": "stderr",
     "output_type": "stream",
     "text": [
      "\r",
      " 11%|██████████████████████                                                                                                                                                                                           | 2/19 [00:00<00:05,  3.03it/s]"
     ]
    },
    {
     "name": "stdout",
     "output_type": "stream",
     "text": [
      "epoch 20 Train set - loss: 0.338, accuracy: 0.887 Val  set - loss: 0.307, Val accuracy: 0.91\n",
      "        \n"
     ]
    },
    {
     "name": "stderr",
     "output_type": "stream",
     "text": [
      "\r",
      " 16%|█████████████████████████████████                                                                                                                                                                                | 3/19 [00:01<00:05,  2.98it/s]"
     ]
    },
    {
     "name": "stdout",
     "output_type": "stream",
     "text": [
      "epoch 20 Train set - loss: 0.298, accuracy: 0.906 Val  set - loss: 0.336, Val accuracy: 0.9\n",
      "        \n"
     ]
    },
    {
     "name": "stderr",
     "output_type": "stream",
     "text": [
      "\r",
      " 21%|████████████████████████████████████████████                                                                                                                                                                     | 4/19 [00:01<00:04,  3.03it/s]"
     ]
    },
    {
     "name": "stdout",
     "output_type": "stream",
     "text": [
      "epoch 20 Train set - loss: 0.351, accuracy: 0.881 Val  set - loss: 0.315, Val accuracy: 0.906\n",
      "        \n"
     ]
    },
    {
     "name": "stderr",
     "output_type": "stream",
     "text": [
      "\r",
      " 26%|███████████████████████████████████████████████████████                                                                                                                                                          | 5/19 [00:01<00:04,  3.10it/s]"
     ]
    },
    {
     "name": "stdout",
     "output_type": "stream",
     "text": [
      "epoch 20 Train set - loss: 0.255, accuracy: 0.924 Val  set - loss: 0.31, Val accuracy: 0.91\n",
      "        \n"
     ]
    },
    {
     "name": "stderr",
     "output_type": "stream",
     "text": [
      "\r",
      " 32%|██████████████████████████████████████████████████████████████████                                                                                                                                               | 6/19 [00:01<00:04,  3.09it/s]"
     ]
    },
    {
     "name": "stdout",
     "output_type": "stream",
     "text": [
      "epoch 20 Train set - loss: 0.328, accuracy: 0.891 Val  set - loss: 0.365, Val accuracy: 0.881\n",
      "        \n"
     ]
    },
    {
     "name": "stderr",
     "output_type": "stream",
     "text": [
      "\r",
      " 37%|█████████████████████████████████████████████████████████████████████████████                                                                                                                                    | 7/19 [00:02<00:03,  3.09it/s]"
     ]
    },
    {
     "name": "stdout",
     "output_type": "stream",
     "text": [
      "epoch 20 Train set - loss: 0.283, accuracy: 0.912 Val  set - loss: 0.361, Val accuracy: 0.887\n",
      "        \n"
     ]
    },
    {
     "name": "stderr",
     "output_type": "stream",
     "text": [
      "\r",
      " 42%|████████████████████████████████████████████████████████████████████████████████████████                                                                                                                         | 8/19 [00:02<00:03,  3.13it/s]"
     ]
    },
    {
     "name": "stdout",
     "output_type": "stream",
     "text": [
      "epoch 20 Train set - loss: 0.333, accuracy: 0.889 Val  set - loss: 0.317, Val accuracy: 0.904\n",
      "        \n"
     ]
    },
    {
     "name": "stderr",
     "output_type": "stream",
     "text": [
      "\r",
      " 47%|███████████████████████████████████████████████████████████████████████████████████████████████████                                                                                                              | 9/19 [00:02<00:03,  3.13it/s]"
     ]
    },
    {
     "name": "stdout",
     "output_type": "stream",
     "text": [
      "epoch 20 Train set - loss: 0.329, accuracy: 0.891 Val  set - loss: 0.367, Val accuracy: 0.883\n",
      "        \n"
     ]
    },
    {
     "name": "stderr",
     "output_type": "stream",
     "text": [
      "\r",
      " 53%|█████████████████████████████████████████████████████████████████████████████████████████████████████████████▍                                                                                                  | 10/19 [00:03<00:02,  3.12it/s]"
     ]
    },
    {
     "name": "stdout",
     "output_type": "stream",
     "text": [
      "epoch 20 Train set - loss: 0.311, accuracy: 0.9 Val  set - loss: 0.335, Val accuracy: 0.898\n",
      "        \n"
     ]
    },
    {
     "name": "stderr",
     "output_type": "stream",
     "text": [
      "\r",
      " 58%|████████████████████████████████████████████████████████████████████████████████████████████████████████████████████████▍                                                                                       | 11/19 [00:03<00:02,  3.16it/s]"
     ]
    },
    {
     "name": "stdout",
     "output_type": "stream",
     "text": [
      "epoch 20 Train set - loss: 0.332, accuracy: 0.891 Val  set - loss: 0.3, Val accuracy: 0.91\n",
      "        \n"
     ]
    },
    {
     "name": "stderr",
     "output_type": "stream",
     "text": [
      "\r",
      " 63%|███████████████████████████████████████████████████████████████████████████████████████████████████████████████████████████████████▎                                                                            | 12/19 [00:03<00:02,  3.17it/s]"
     ]
    },
    {
     "name": "stdout",
     "output_type": "stream",
     "text": [
      "epoch 20 Train set - loss: 0.3, accuracy: 0.906 Val  set - loss: 0.263, Val accuracy: 0.93\n",
      "        \n"
     ]
    },
    {
     "name": "stderr",
     "output_type": "stream",
     "text": [
      "\r",
      " 68%|██████████████████████████████████████████████████████████████████████████████████████████████████████████████████████████████████████████████▎                                                                 | 13/19 [00:04<00:01,  3.15it/s]"
     ]
    },
    {
     "name": "stdout",
     "output_type": "stream",
     "text": [
      "epoch 20 Train set - loss: 0.351, accuracy: 0.879 Val  set - loss: 0.337, Val accuracy: 0.9\n",
      "        \n"
     ]
    },
    {
     "name": "stderr",
     "output_type": "stream",
     "text": [
      "\r",
      " 74%|█████████████████████████████████████████████████████████████████████████████████████████████████████████████████████████████████████████████████████████▎                                                      | 14/19 [00:04<00:01,  3.17it/s]"
     ]
    },
    {
     "name": "stdout",
     "output_type": "stream",
     "text": [
      "epoch 20 Train set - loss: 0.285, accuracy: 0.908 Val  set - loss: 0.358, Val accuracy: 0.887\n",
      "        \n"
     ]
    },
    {
     "name": "stderr",
     "output_type": "stream",
     "text": [
      "\r",
      " 79%|████████████████████████████████████████████████████████████████████████████████████████████████████████████████████████████████████████████████████████████████████▏                                           | 15/19 [00:04<00:01,  3.15it/s]"
     ]
    },
    {
     "name": "stdout",
     "output_type": "stream",
     "text": [
      "epoch 20 Train set - loss: 0.311, accuracy: 0.902 Val  set - loss: 0.298, Val accuracy: 0.912\n",
      "        \n"
     ]
    },
    {
     "name": "stderr",
     "output_type": "stream",
     "text": [
      "\r",
      " 84%|███████████████████████████████████████████████████████████████████████████████████████████████████████████████████████████████████████████████████████████████████████████████▏                                | 16/19 [00:05<00:00,  3.17it/s]"
     ]
    },
    {
     "name": "stdout",
     "output_type": "stream",
     "text": [
      "epoch 20 Train set - loss: 0.339, accuracy: 0.883 Val  set - loss: 0.314, Val accuracy: 0.904\n",
      "        \n"
     ]
    },
    {
     "name": "stderr",
     "output_type": "stream",
     "text": [
      "\r",
      " 89%|██████████████████████████████████████████████████████████████████████████████████████████████████████████████████████████████████████████████████████████████████████████████████████████                      | 17/19 [00:05<00:00,  3.14it/s]"
     ]
    },
    {
     "name": "stdout",
     "output_type": "stream",
     "text": [
      "epoch 20 Train set - loss: 0.311, accuracy: 0.898 Val  set - loss: 0.382, Val accuracy: 0.873\n",
      "        \n"
     ]
    },
    {
     "name": "stderr",
     "output_type": "stream",
     "text": [
      "\r",
      " 95%|█████████████████████████████████████████████████████████████████████████████████████████████████████████████████████████████████████████████████████████████████████████████████████████████████████           | 18/19 [00:05<00:00,  3.13it/s]"
     ]
    },
    {
     "name": "stdout",
     "output_type": "stream",
     "text": [
      "epoch 20 Train set - loss: 0.315, accuracy: 0.893 Val  set - loss: 0.286, Val accuracy: 0.916\n",
      "        \n"
     ]
    },
    {
     "name": "stderr",
     "output_type": "stream",
     "text": [
      "100%|████████████████████████████████████████████████████████████████████████████████████████████████████████████████████████████████████████████████████████████████████████████████████████████████████████████████| 19/19 [00:05<00:00,  3.17it/s]\n"
     ]
    },
    {
     "name": "stdout",
     "output_type": "stream",
     "text": [
      "epoch 20 Train set - loss: 0.314, accuracy: 0.9 Val  set - loss: 0.297, Val accuracy: 0.912\n",
      "        \n"
     ]
    },
    {
     "name": "stderr",
     "output_type": "stream",
     "text": [
      "100%|████████████████████████████████████████████████████████████████████████████████████████████████████████████████████████████████████████████████████████████████████████████████████████████████████████████████| 19/19 [00:04<00:00,  4.31it/s]\n",
      "  5%|███████████                                                                                                                                                                                                      | 1/19 [00:00<00:05,  3.28it/s]"
     ]
    },
    {
     "name": "stdout",
     "output_type": "stream",
     "text": [
      "epoch 22 Train set - loss: 0.264, accuracy: 0.924 Val  set - loss: 0.331, Val accuracy: 0.898\n",
      "        \n"
     ]
    },
    {
     "name": "stderr",
     "output_type": "stream",
     "text": [
      "\r",
      " 11%|██████████████████████                                                                                                                                                                                           | 2/19 [00:00<00:05,  3.17it/s]"
     ]
    },
    {
     "name": "stdout",
     "output_type": "stream",
     "text": [
      "epoch 22 Train set - loss: 0.338, accuracy: 0.887 Val  set - loss: 0.36, Val accuracy: 0.889\n",
      "        \n"
     ]
    },
    {
     "name": "stderr",
     "output_type": "stream",
     "text": [
      "\r",
      " 16%|█████████████████████████████████                                                                                                                                                                                | 3/19 [00:00<00:05,  3.09it/s]"
     ]
    },
    {
     "name": "stdout",
     "output_type": "stream",
     "text": [
      "epoch 22 Train set - loss: 0.297, accuracy: 0.906 Val  set - loss: 0.327, Val accuracy: 0.9\n",
      "        \n"
     ]
    },
    {
     "name": "stderr",
     "output_type": "stream",
     "text": [
      "\r",
      " 21%|████████████████████████████████████████████                                                                                                                                                                     | 4/19 [00:01<00:04,  3.14it/s]"
     ]
    },
    {
     "name": "stdout",
     "output_type": "stream",
     "text": [
      "epoch 22 Train set - loss: 0.351, accuracy: 0.881 Val  set - loss: 0.309, Val accuracy: 0.908\n",
      "        \n"
     ]
    },
    {
     "name": "stderr",
     "output_type": "stream",
     "text": [
      "\r",
      " 26%|███████████████████████████████████████████████████████                                                                                                                                                          | 5/19 [00:01<00:04,  3.12it/s]"
     ]
    },
    {
     "name": "stdout",
     "output_type": "stream",
     "text": [
      "epoch 22 Train set - loss: 0.255, accuracy: 0.924 Val  set - loss: 0.312, Val accuracy: 0.908\n",
      "        \n"
     ]
    },
    {
     "name": "stderr",
     "output_type": "stream",
     "text": [
      "\r",
      " 32%|██████████████████████████████████████████████████████████████████                                                                                                                                               | 6/19 [00:01<00:04,  3.14it/s]"
     ]
    },
    {
     "name": "stdout",
     "output_type": "stream",
     "text": [
      "epoch 22 Train set - loss: 0.328, accuracy: 0.891 Val  set - loss: 0.33, Val accuracy: 0.902\n",
      "        \n"
     ]
    },
    {
     "name": "stderr",
     "output_type": "stream",
     "text": [
      "\r",
      " 37%|█████████████████████████████████████████████████████████████████████████████                                                                                                                                    | 7/19 [00:02<00:03,  3.15it/s]"
     ]
    },
    {
     "name": "stdout",
     "output_type": "stream",
     "text": [
      "epoch 22 Train set - loss: 0.283, accuracy: 0.912 Val  set - loss: 0.381, Val accuracy: 0.875\n",
      "        \n"
     ]
    },
    {
     "name": "stderr",
     "output_type": "stream",
     "text": [
      "\r",
      " 42%|████████████████████████████████████████████████████████████████████████████████████████                                                                                                                         | 8/19 [00:02<00:03,  3.05it/s]"
     ]
    },
    {
     "name": "stdout",
     "output_type": "stream",
     "text": [
      "epoch 22 Train set - loss: 0.333, accuracy: 0.889 Val  set - loss: 0.386, Val accuracy: 0.871\n",
      "        \n"
     ]
    },
    {
     "name": "stderr",
     "output_type": "stream",
     "text": [
      "\r",
      " 47%|███████████████████████████████████████████████████████████████████████████████████████████████████                                                                                                              | 9/19 [00:02<00:03,  3.03it/s]"
     ]
    },
    {
     "name": "stdout",
     "output_type": "stream",
     "text": [
      "epoch 22 Train set - loss: 0.329, accuracy: 0.891 Val  set - loss: 0.333, Val accuracy: 0.898\n",
      "        \n"
     ]
    },
    {
     "name": "stderr",
     "output_type": "stream",
     "text": [
      "\r",
      " 53%|█████████████████████████████████████████████████████████████████████████████████████████████████████████████▍                                                                                                  | 10/19 [00:03<00:02,  3.08it/s]"
     ]
    },
    {
     "name": "stdout",
     "output_type": "stream",
     "text": [
      "epoch 22 Train set - loss: 0.31, accuracy: 0.9 Val  set - loss: 0.371, Val accuracy: 0.881\n",
      "        \n"
     ]
    },
    {
     "name": "stderr",
     "output_type": "stream",
     "text": [
      "\r",
      " 58%|████████████████████████████████████████████████████████████████████████████████████████████████████████████████████████▍                                                                                       | 11/19 [00:03<00:02,  3.13it/s]"
     ]
    },
    {
     "name": "stdout",
     "output_type": "stream",
     "text": [
      "epoch 22 Train set - loss: 0.332, accuracy: 0.891 Val  set - loss: 0.36, Val accuracy: 0.887\n",
      "        \n"
     ]
    },
    {
     "name": "stderr",
     "output_type": "stream",
     "text": [
      "\r",
      " 63%|███████████████████████████████████████████████████████████████████████████████████████████████████████████████████████████████████▎                                                                            | 12/19 [00:03<00:02,  3.14it/s]"
     ]
    },
    {
     "name": "stdout",
     "output_type": "stream",
     "text": [
      "epoch 22 Train set - loss: 0.3, accuracy: 0.906 Val  set - loss: 0.314, Val accuracy: 0.906\n",
      "        \n"
     ]
    },
    {
     "name": "stderr",
     "output_type": "stream",
     "text": [
      "\r",
      " 68%|██████████████████████████████████████████████████████████████████████████████████████████████████████████████████████████████████████████████▎                                                                 | 13/19 [00:04<00:01,  3.05it/s]"
     ]
    },
    {
     "name": "stdout",
     "output_type": "stream",
     "text": [
      "epoch 22 Train set - loss: 0.351, accuracy: 0.879 Val  set - loss: 0.294, Val accuracy: 0.918\n",
      "        \n"
     ]
    },
    {
     "name": "stderr",
     "output_type": "stream",
     "text": [
      "\r",
      " 74%|█████████████████████████████████████████████████████████████████████████████████████████████████████████████████████████████████████████████████████████▎                                                      | 14/19 [00:04<00:01,  3.04it/s]"
     ]
    },
    {
     "name": "stdout",
     "output_type": "stream",
     "text": [
      "epoch 22 Train set - loss: 0.285, accuracy: 0.908 Val  set - loss: 0.287, Val accuracy: 0.918\n",
      "        \n"
     ]
    },
    {
     "name": "stderr",
     "output_type": "stream",
     "text": [
      "\r",
      " 79%|████████████████████████████████████████████████████████████████████████████████████████████████████████████████████████████████████████████████████████████████████▏                                           | 15/19 [00:04<00:01,  3.07it/s]"
     ]
    },
    {
     "name": "stdout",
     "output_type": "stream",
     "text": [
      "epoch 22 Train set - loss: 0.311, accuracy: 0.902 Val  set - loss: 0.335, Val accuracy: 0.898\n",
      "        \n"
     ]
    },
    {
     "name": "stderr",
     "output_type": "stream",
     "text": [
      "\r",
      " 84%|███████████████████████████████████████████████████████████████████████████████████████████████████████████████████████████████████████████████████████████████████████████████▏                                | 16/19 [00:05<00:00,  3.09it/s]"
     ]
    },
    {
     "name": "stdout",
     "output_type": "stream",
     "text": [
      "epoch 22 Train set - loss: 0.339, accuracy: 0.883 Val  set - loss: 0.291, Val accuracy: 0.914\n",
      "        \n"
     ]
    },
    {
     "name": "stderr",
     "output_type": "stream",
     "text": [
      "\r",
      " 89%|██████████████████████████████████████████████████████████████████████████████████████████████████████████████████████████████████████████████████████████████████████████████████████████                      | 17/19 [00:05<00:00,  3.12it/s]"
     ]
    },
    {
     "name": "stdout",
     "output_type": "stream",
     "text": [
      "epoch 22 Train set - loss: 0.311, accuracy: 0.898 Val  set - loss: 0.326, Val accuracy: 0.902\n",
      "        \n"
     ]
    },
    {
     "name": "stderr",
     "output_type": "stream",
     "text": [
      "\r",
      " 95%|█████████████████████████████████████████████████████████████████████████████████████████████████████████████████████████████████████████████████████████████████████████████████████████████████████           | 18/19 [00:05<00:00,  3.07it/s]"
     ]
    },
    {
     "name": "stdout",
     "output_type": "stream",
     "text": [
      "epoch 22 Train set - loss: 0.315, accuracy: 0.893 Val  set - loss: 0.356, Val accuracy: 0.889\n",
      "        \n"
     ]
    },
    {
     "name": "stderr",
     "output_type": "stream",
     "text": [
      "100%|████████████████████████████████████████████████████████████████████████████████████████████████████████████████████████████████████████████████████████████████████████████████████████████████████████████████| 19/19 [00:06<00:00,  3.13it/s]\n"
     ]
    },
    {
     "name": "stdout",
     "output_type": "stream",
     "text": [
      "epoch 22 Train set - loss: 0.314, accuracy: 0.9 Val  set - loss: 0.295, Val accuracy: 0.916\n",
      "        \n"
     ]
    },
    {
     "name": "stderr",
     "output_type": "stream",
     "text": [
      "100%|████████████████████████████████████████████████████████████████████████████████████████████████████████████████████████████████████████████████████████████████████████████████████████████████████████████████| 19/19 [00:04<00:00,  4.32it/s]\n",
      "  5%|███████████                                                                                                                                                                                                      | 1/19 [00:00<00:05,  3.21it/s]"
     ]
    },
    {
     "name": "stdout",
     "output_type": "stream",
     "text": [
      "epoch 24 Train set - loss: 0.264, accuracy: 0.924 Val  set - loss: 0.289, Val accuracy: 0.92\n",
      "        \n"
     ]
    },
    {
     "name": "stderr",
     "output_type": "stream",
     "text": [
      "\r",
      " 11%|██████████████████████                                                                                                                                                                                           | 2/19 [00:00<00:05,  3.16it/s]"
     ]
    },
    {
     "name": "stdout",
     "output_type": "stream",
     "text": [
      "epoch 24 Train set - loss: 0.338, accuracy: 0.887 Val  set - loss: 0.342, Val accuracy: 0.895\n",
      "        \n"
     ]
    },
    {
     "name": "stderr",
     "output_type": "stream",
     "text": [
      "\r",
      " 16%|█████████████████████████████████                                                                                                                                                                                | 3/19 [00:00<00:05,  3.19it/s]"
     ]
    },
    {
     "name": "stdout",
     "output_type": "stream",
     "text": [
      "epoch 24 Train set - loss: 0.297, accuracy: 0.906 Val  set - loss: 0.3, Val accuracy: 0.912\n",
      "        \n"
     ]
    },
    {
     "name": "stderr",
     "output_type": "stream",
     "text": [
      "\r",
      " 21%|████████████████████████████████████████████                                                                                                                                                                     | 4/19 [00:01<00:04,  3.13it/s]"
     ]
    },
    {
     "name": "stdout",
     "output_type": "stream",
     "text": [
      "epoch 24 Train set - loss: 0.351, accuracy: 0.881 Val  set - loss: 0.283, Val accuracy: 0.92\n",
      "        \n"
     ]
    },
    {
     "name": "stderr",
     "output_type": "stream",
     "text": [
      "\r",
      " 26%|███████████████████████████████████████████████████████                                                                                                                                                          | 5/19 [00:01<00:04,  3.13it/s]"
     ]
    },
    {
     "name": "stdout",
     "output_type": "stream",
     "text": [
      "epoch 24 Train set - loss: 0.255, accuracy: 0.924 Val  set - loss: 0.337, Val accuracy: 0.898\n",
      "        \n"
     ]
    },
    {
     "name": "stderr",
     "output_type": "stream",
     "text": [
      "\r",
      " 32%|██████████████████████████████████████████████████████████████████                                                                                                                                               | 6/19 [00:01<00:04,  3.09it/s]"
     ]
    },
    {
     "name": "stdout",
     "output_type": "stream",
     "text": [
      "epoch 24 Train set - loss: 0.328, accuracy: 0.891 Val  set - loss: 0.326, Val accuracy: 0.902\n",
      "        \n"
     ]
    },
    {
     "name": "stderr",
     "output_type": "stream",
     "text": [
      "\r",
      " 37%|█████████████████████████████████████████████████████████████████████████████                                                                                                                                    | 7/19 [00:02<00:03,  3.11it/s]"
     ]
    },
    {
     "name": "stdout",
     "output_type": "stream",
     "text": [
      "epoch 24 Train set - loss: 0.283, accuracy: 0.912 Val  set - loss: 0.294, Val accuracy: 0.918\n",
      "        \n"
     ]
    },
    {
     "name": "stderr",
     "output_type": "stream",
     "text": [
      "\r",
      " 42%|████████████████████████████████████████████████████████████████████████████████████████                                                                                                                         | 8/19 [00:02<00:03,  3.13it/s]"
     ]
    },
    {
     "name": "stdout",
     "output_type": "stream",
     "text": [
      "epoch 24 Train set - loss: 0.333, accuracy: 0.889 Val  set - loss: 0.363, Val accuracy: 0.885\n",
      "        \n"
     ]
    },
    {
     "name": "stderr",
     "output_type": "stream",
     "text": [
      "\r",
      " 47%|███████████████████████████████████████████████████████████████████████████████████████████████████                                                                                                              | 9/19 [00:02<00:03,  3.14it/s]"
     ]
    },
    {
     "name": "stdout",
     "output_type": "stream",
     "text": [
      "epoch 24 Train set - loss: 0.328, accuracy: 0.891 Val  set - loss: 0.316, Val accuracy: 0.906\n",
      "        \n"
     ]
    },
    {
     "name": "stderr",
     "output_type": "stream",
     "text": [
      "\r",
      " 53%|█████████████████████████████████████████████████████████████████████████████████████████████████████████████▍                                                                                                  | 10/19 [00:03<00:02,  3.12it/s]"
     ]
    },
    {
     "name": "stdout",
     "output_type": "stream",
     "text": [
      "epoch 24 Train set - loss: 0.31, accuracy: 0.9 Val  set - loss: 0.392, Val accuracy: 0.873\n",
      "        \n"
     ]
    },
    {
     "name": "stderr",
     "output_type": "stream",
     "text": [
      "\r",
      " 58%|████████████████████████████████████████████████████████████████████████████████████████████████████████████████████████▍                                                                                       | 11/19 [00:03<00:02,  3.15it/s]"
     ]
    },
    {
     "name": "stdout",
     "output_type": "stream",
     "text": [
      "epoch 24 Train set - loss: 0.332, accuracy: 0.891 Val  set - loss: 0.378, Val accuracy: 0.881\n",
      "        \n"
     ]
    },
    {
     "name": "stderr",
     "output_type": "stream",
     "text": [
      "\r",
      " 63%|███████████████████████████████████████████████████████████████████████████████████████████████████████████████████████████████████▎                                                                            | 12/19 [00:03<00:02,  3.11it/s]"
     ]
    },
    {
     "name": "stdout",
     "output_type": "stream",
     "text": [
      "epoch 24 Train set - loss: 0.3, accuracy: 0.906 Val  set - loss: 0.27, Val accuracy: 0.926\n",
      "        \n"
     ]
    },
    {
     "name": "stderr",
     "output_type": "stream",
     "text": [
      "\r",
      " 68%|██████████████████████████████████████████████████████████████████████████████████████████████████████████████████████████████████████████████▎                                                                 | 13/19 [00:04<00:01,  3.13it/s]"
     ]
    },
    {
     "name": "stdout",
     "output_type": "stream",
     "text": [
      "epoch 24 Train set - loss: 0.351, accuracy: 0.879 Val  set - loss: 0.378, Val accuracy: 0.877\n",
      "        \n"
     ]
    },
    {
     "name": "stderr",
     "output_type": "stream",
     "text": [
      "\r",
      " 74%|█████████████████████████████████████████████████████████████████████████████████████████████████████████████████████████████████████████████████████████▎                                                      | 14/19 [00:04<00:01,  3.11it/s]"
     ]
    },
    {
     "name": "stdout",
     "output_type": "stream",
     "text": [
      "epoch 24 Train set - loss: 0.285, accuracy: 0.908 Val  set - loss: 0.331, Val accuracy: 0.9\n",
      "        \n"
     ]
    },
    {
     "name": "stderr",
     "output_type": "stream",
     "text": [
      "\r",
      " 79%|████████████████████████████████████████████████████████████████████████████████████████████████████████████████████████████████████████████████████████████████████▏                                           | 15/19 [00:04<00:01,  3.08it/s]"
     ]
    },
    {
     "name": "stdout",
     "output_type": "stream",
     "text": [
      "epoch 24 Train set - loss: 0.311, accuracy: 0.902 Val  set - loss: 0.37, Val accuracy: 0.885\n",
      "        \n"
     ]
    },
    {
     "name": "stderr",
     "output_type": "stream",
     "text": [
      "\r",
      " 84%|███████████████████████████████████████████████████████████████████████████████████████████████████████████████████████████████████████████████████████████████████████████████▏                                | 16/19 [00:05<00:00,  3.09it/s]"
     ]
    },
    {
     "name": "stdout",
     "output_type": "stream",
     "text": [
      "epoch 24 Train set - loss: 0.339, accuracy: 0.883 Val  set - loss: 0.359, Val accuracy: 0.885\n",
      "        \n"
     ]
    },
    {
     "name": "stderr",
     "output_type": "stream",
     "text": [
      "\r",
      " 89%|██████████████████████████████████████████████████████████████████████████████████████████████████████████████████████████████████████████████████████████████████████████████████████████                      | 17/19 [00:05<00:00,  3.11it/s]"
     ]
    },
    {
     "name": "stdout",
     "output_type": "stream",
     "text": [
      "epoch 24 Train set - loss: 0.311, accuracy: 0.898 Val  set - loss: 0.367, Val accuracy: 0.885\n",
      "        \n"
     ]
    },
    {
     "name": "stderr",
     "output_type": "stream",
     "text": [
      "\r",
      " 95%|█████████████████████████████████████████████████████████████████████████████████████████████████████████████████████████████████████████████████████████████████████████████████████████████████████           | 18/19 [00:05<00:00,  3.09it/s]"
     ]
    },
    {
     "name": "stdout",
     "output_type": "stream",
     "text": [
      "epoch 24 Train set - loss: 0.315, accuracy: 0.893 Val  set - loss: 0.302, Val accuracy: 0.914\n",
      "        \n"
     ]
    },
    {
     "name": "stderr",
     "output_type": "stream",
     "text": [
      "100%|████████████████████████████████████████████████████████████████████████████████████████████████████████████████████████████████████████████████████████████████████████████████████████████████████████████████| 19/19 [00:05<00:00,  3.17it/s]\n"
     ]
    },
    {
     "name": "stdout",
     "output_type": "stream",
     "text": [
      "epoch 24 Train set - loss: 0.314, accuracy: 0.9 Val  set - loss: 0.317, Val accuracy: 0.906\n",
      "        \n"
     ]
    },
    {
     "name": "stderr",
     "output_type": "stream",
     "text": [
      "100%|████████████████████████████████████████████████████████████████████████████████████████████████████████████████████████████████████████████████████████████████████████████████████████████████████████████████| 19/19 [00:04<00:00,  4.35it/s]\n",
      "  5%|███████████                                                                                                                                                                                                      | 1/19 [00:00<00:05,  3.08it/s]"
     ]
    },
    {
     "name": "stdout",
     "output_type": "stream",
     "text": [
      "epoch 26 Train set - loss: 0.264, accuracy: 0.924 Val  set - loss: 0.314, Val accuracy: 0.904\n",
      "        \n"
     ]
    },
    {
     "name": "stderr",
     "output_type": "stream",
     "text": [
      "\r",
      " 11%|██████████████████████                                                                                                                                                                                           | 2/19 [00:00<00:05,  3.06it/s]"
     ]
    },
    {
     "name": "stdout",
     "output_type": "stream",
     "text": [
      "epoch 26 Train set - loss: 0.337, accuracy: 0.887 Val  set - loss: 0.35, Val accuracy: 0.889\n",
      "        \n"
     ]
    },
    {
     "name": "stderr",
     "output_type": "stream",
     "text": [
      "\r",
      " 16%|█████████████████████████████████                                                                                                                                                                                | 3/19 [00:00<00:05,  3.02it/s]"
     ]
    },
    {
     "name": "stdout",
     "output_type": "stream",
     "text": [
      "epoch 26 Train set - loss: 0.297, accuracy: 0.906 Val  set - loss: 0.405, Val accuracy: 0.867\n",
      "        \n"
     ]
    },
    {
     "name": "stderr",
     "output_type": "stream",
     "text": [
      "\r",
      " 21%|████████████████████████████████████████████                                                                                                                                                                     | 4/19 [00:01<00:04,  3.00it/s]"
     ]
    },
    {
     "name": "stdout",
     "output_type": "stream",
     "text": [
      "epoch 26 Train set - loss: 0.351, accuracy: 0.881 Val  set - loss: 0.344, Val accuracy: 0.893\n",
      "        \n"
     ]
    },
    {
     "name": "stderr",
     "output_type": "stream",
     "text": [
      "\r",
      " 26%|███████████████████████████████████████████████████████                                                                                                                                                          | 5/19 [00:01<00:04,  3.04it/s]"
     ]
    },
    {
     "name": "stdout",
     "output_type": "stream",
     "text": [
      "epoch 26 Train set - loss: 0.255, accuracy: 0.924 Val  set - loss: 0.308, Val accuracy: 0.91\n",
      "        \n"
     ]
    },
    {
     "name": "stderr",
     "output_type": "stream",
     "text": [
      "\r",
      " 32%|██████████████████████████████████████████████████████████████████                                                                                                                                               | 6/19 [00:01<00:04,  3.08it/s]"
     ]
    },
    {
     "name": "stdout",
     "output_type": "stream",
     "text": [
      "epoch 26 Train set - loss: 0.328, accuracy: 0.891 Val  set - loss: 0.38, Val accuracy: 0.877\n",
      "        \n"
     ]
    },
    {
     "name": "stderr",
     "output_type": "stream",
     "text": [
      "\r",
      " 37%|█████████████████████████████████████████████████████████████████████████████                                                                                                                                    | 7/19 [00:02<00:03,  3.06it/s]"
     ]
    },
    {
     "name": "stdout",
     "output_type": "stream",
     "text": [
      "epoch 26 Train set - loss: 0.283, accuracy: 0.912 Val  set - loss: 0.282, Val accuracy: 0.922\n",
      "        \n"
     ]
    },
    {
     "name": "stderr",
     "output_type": "stream",
     "text": [
      "\r",
      " 42%|████████████████████████████████████████████████████████████████████████████████████████                                                                                                                         | 8/19 [00:02<00:03,  3.06it/s]"
     ]
    },
    {
     "name": "stdout",
     "output_type": "stream",
     "text": [
      "epoch 26 Train set - loss: 0.333, accuracy: 0.889 Val  set - loss: 0.299, Val accuracy: 0.914\n",
      "        \n"
     ]
    },
    {
     "name": "stderr",
     "output_type": "stream",
     "text": [
      "\r",
      " 47%|███████████████████████████████████████████████████████████████████████████████████████████████████                                                                                                              | 9/19 [00:02<00:03,  3.05it/s]"
     ]
    },
    {
     "name": "stdout",
     "output_type": "stream",
     "text": [
      "epoch 26 Train set - loss: 0.328, accuracy: 0.891 Val  set - loss: 0.296, Val accuracy: 0.916\n",
      "        \n"
     ]
    },
    {
     "name": "stderr",
     "output_type": "stream",
     "text": [
      "\r",
      " 53%|█████████████████████████████████████████████████████████████████████████████████████████████████████████████▍                                                                                                  | 10/19 [00:03<00:02,  3.10it/s]"
     ]
    },
    {
     "name": "stdout",
     "output_type": "stream",
     "text": [
      "epoch 26 Train set - loss: 0.31, accuracy: 0.9 Val  set - loss: 0.344, Val accuracy: 0.895\n",
      "        \n"
     ]
    },
    {
     "name": "stderr",
     "output_type": "stream",
     "text": [
      "\r",
      " 58%|████████████████████████████████████████████████████████████████████████████████████████████████████████████████████████▍                                                                                       | 11/19 [00:03<00:02,  3.12it/s]"
     ]
    },
    {
     "name": "stdout",
     "output_type": "stream",
     "text": [
      "epoch 26 Train set - loss: 0.332, accuracy: 0.891 Val  set - loss: 0.372, Val accuracy: 0.881\n",
      "        \n"
     ]
    },
    {
     "name": "stderr",
     "output_type": "stream",
     "text": [
      "\r",
      " 63%|███████████████████████████████████████████████████████████████████████████████████████████████████████████████████████████████████▎                                                                            | 12/19 [00:03<00:02,  3.15it/s]"
     ]
    },
    {
     "name": "stdout",
     "output_type": "stream",
     "text": [
      "epoch 26 Train set - loss: 0.3, accuracy: 0.906 Val  set - loss: 0.325, Val accuracy: 0.902\n",
      "        \n"
     ]
    },
    {
     "name": "stderr",
     "output_type": "stream",
     "text": [
      "\r",
      " 68%|██████████████████████████████████████████████████████████████████████████████████████████████████████████████████████████████████████████████▎                                                                 | 13/19 [00:04<00:01,  3.16it/s]"
     ]
    },
    {
     "name": "stdout",
     "output_type": "stream",
     "text": [
      "epoch 26 Train set - loss: 0.351, accuracy: 0.879 Val  set - loss: 0.37, Val accuracy: 0.881\n",
      "        \n"
     ]
    },
    {
     "name": "stderr",
     "output_type": "stream",
     "text": [
      "\r",
      " 74%|█████████████████████████████████████████████████████████████████████████████████████████████████████████████████████████████████████████████████████████▎                                                      | 14/19 [00:04<00:01,  3.17it/s]"
     ]
    },
    {
     "name": "stdout",
     "output_type": "stream",
     "text": [
      "epoch 26 Train set - loss: 0.285, accuracy: 0.908 Val  set - loss: 0.347, Val accuracy: 0.895\n",
      "        \n"
     ]
    },
    {
     "name": "stderr",
     "output_type": "stream",
     "text": [
      "\r",
      " 79%|████████████████████████████████████████████████████████████████████████████████████████████████████████████████████████████████████████████████████████████████████▏                                           | 15/19 [00:04<00:01,  3.15it/s]"
     ]
    },
    {
     "name": "stdout",
     "output_type": "stream",
     "text": [
      "epoch 26 Train set - loss: 0.311, accuracy: 0.902 Val  set - loss: 0.306, Val accuracy: 0.912\n",
      "        \n"
     ]
    },
    {
     "name": "stderr",
     "output_type": "stream",
     "text": [
      "\r",
      " 84%|███████████████████████████████████████████████████████████████████████████████████████████████████████████████████████████████████████████████████████████████████████████████▏                                | 16/19 [00:05<00:00,  3.15it/s]"
     ]
    },
    {
     "name": "stdout",
     "output_type": "stream",
     "text": [
      "epoch 26 Train set - loss: 0.339, accuracy: 0.883 Val  set - loss: 0.36, Val accuracy: 0.885\n",
      "        \n"
     ]
    },
    {
     "name": "stderr",
     "output_type": "stream",
     "text": [
      "\r",
      " 89%|██████████████████████████████████████████████████████████████████████████████████████████████████████████████████████████████████████████████████████████████████████████████████████████                      | 17/19 [00:05<00:00,  3.14it/s]"
     ]
    },
    {
     "name": "stdout",
     "output_type": "stream",
     "text": [
      "epoch 26 Train set - loss: 0.311, accuracy: 0.898 Val  set - loss: 0.37, Val accuracy: 0.881\n",
      "        \n"
     ]
    },
    {
     "name": "stderr",
     "output_type": "stream",
     "text": [
      "\r",
      " 95%|█████████████████████████████████████████████████████████████████████████████████████████████████████████████████████████████████████████████████████████████████████████████████████████████████████           | 18/19 [00:05<00:00,  3.14it/s]"
     ]
    },
    {
     "name": "stdout",
     "output_type": "stream",
     "text": [
      "epoch 26 Train set - loss: 0.315, accuracy: 0.893 Val  set - loss: 0.292, Val accuracy: 0.916\n",
      "        \n"
     ]
    },
    {
     "name": "stderr",
     "output_type": "stream",
     "text": [
      "100%|████████████████████████████████████████████████████████████████████████████████████████████████████████████████████████████████████████████████████████████████████████████████████████████████████████████████| 19/19 [00:06<00:00,  3.15it/s]\n"
     ]
    },
    {
     "name": "stdout",
     "output_type": "stream",
     "text": [
      "epoch 26 Train set - loss: 0.314, accuracy: 0.9 Val  set - loss: 0.359, Val accuracy: 0.887\n",
      "        \n"
     ]
    },
    {
     "name": "stderr",
     "output_type": "stream",
     "text": [
      "100%|████████████████████████████████████████████████████████████████████████████████████████████████████████████████████████████████████████████████████████████████████████████████████████████████████████████████| 19/19 [00:04<00:00,  4.31it/s]\n",
      "  5%|███████████                                                                                                                                                                                                      | 1/19 [00:00<00:05,  3.06it/s]"
     ]
    },
    {
     "name": "stdout",
     "output_type": "stream",
     "text": [
      "epoch 28 Train set - loss: 0.264, accuracy: 0.924 Val  set - loss: 0.35, Val accuracy: 0.891\n",
      "        \n"
     ]
    },
    {
     "name": "stderr",
     "output_type": "stream",
     "text": [
      "\r",
      " 11%|██████████████████████                                                                                                                                                                                           | 2/19 [00:00<00:05,  3.08it/s]"
     ]
    },
    {
     "name": "stdout",
     "output_type": "stream",
     "text": [
      "epoch 28 Train set - loss: 0.337, accuracy: 0.887 Val  set - loss: 0.308, Val accuracy: 0.91\n",
      "        \n"
     ]
    },
    {
     "name": "stderr",
     "output_type": "stream",
     "text": [
      "\r",
      " 16%|█████████████████████████████████                                                                                                                                                                                | 3/19 [00:00<00:05,  3.11it/s]"
     ]
    },
    {
     "name": "stdout",
     "output_type": "stream",
     "text": [
      "epoch 28 Train set - loss: 0.297, accuracy: 0.906 Val  set - loss: 0.32, Val accuracy: 0.904\n",
      "        \n"
     ]
    },
    {
     "name": "stderr",
     "output_type": "stream",
     "text": [
      "\r",
      " 21%|████████████████████████████████████████████                                                                                                                                                                     | 4/19 [00:01<00:04,  3.15it/s]"
     ]
    },
    {
     "name": "stdout",
     "output_type": "stream",
     "text": [
      "epoch 28 Train set - loss: 0.351, accuracy: 0.881 Val  set - loss: 0.322, Val accuracy: 0.902\n",
      "        \n"
     ]
    },
    {
     "name": "stderr",
     "output_type": "stream",
     "text": [
      "\r",
      " 26%|███████████████████████████████████████████████████████                                                                                                                                                          | 5/19 [00:01<00:04,  3.14it/s]"
     ]
    },
    {
     "name": "stdout",
     "output_type": "stream",
     "text": [
      "epoch 28 Train set - loss: 0.255, accuracy: 0.924 Val  set - loss: 0.334, Val accuracy: 0.898\n",
      "        \n"
     ]
    },
    {
     "name": "stderr",
     "output_type": "stream",
     "text": [
      "\r",
      " 32%|██████████████████████████████████████████████████████████████████                                                                                                                                               | 6/19 [00:01<00:04,  3.15it/s]"
     ]
    },
    {
     "name": "stdout",
     "output_type": "stream",
     "text": [
      "epoch 28 Train set - loss: 0.328, accuracy: 0.891 Val  set - loss: 0.351, Val accuracy: 0.895\n",
      "        \n"
     ]
    },
    {
     "name": "stderr",
     "output_type": "stream",
     "text": [
      "\r",
      " 37%|█████████████████████████████████████████████████████████████████████████████                                                                                                                                    | 7/19 [00:02<00:03,  3.16it/s]"
     ]
    },
    {
     "name": "stdout",
     "output_type": "stream",
     "text": [
      "epoch 28 Train set - loss: 0.283, accuracy: 0.912 Val  set - loss: 0.341, Val accuracy: 0.893\n",
      "        \n"
     ]
    },
    {
     "name": "stderr",
     "output_type": "stream",
     "text": [
      "\r",
      " 42%|████████████████████████████████████████████████████████████████████████████████████████                                                                                                                         | 8/19 [00:02<00:03,  3.13it/s]"
     ]
    },
    {
     "name": "stdout",
     "output_type": "stream",
     "text": [
      "epoch 28 Train set - loss: 0.333, accuracy: 0.889 Val  set - loss: 0.331, Val accuracy: 0.9\n",
      "        \n"
     ]
    },
    {
     "name": "stderr",
     "output_type": "stream",
     "text": [
      "\r",
      " 47%|███████████████████████████████████████████████████████████████████████████████████████████████████                                                                                                              | 9/19 [00:02<00:03,  3.16it/s]"
     ]
    },
    {
     "name": "stdout",
     "output_type": "stream",
     "text": [
      "epoch 28 Train set - loss: 0.328, accuracy: 0.891 Val  set - loss: 0.31, Val accuracy: 0.908\n",
      "        \n"
     ]
    },
    {
     "name": "stderr",
     "output_type": "stream",
     "text": [
      "\r",
      " 53%|█████████████████████████████████████████████████████████████████████████████████████████████████████████████▍                                                                                                  | 10/19 [00:03<00:02,  3.15it/s]"
     ]
    },
    {
     "name": "stdout",
     "output_type": "stream",
     "text": [
      "epoch 28 Train set - loss: 0.31, accuracy: 0.9 Val  set - loss: 0.367, Val accuracy: 0.883\n",
      "        \n"
     ]
    },
    {
     "name": "stderr",
     "output_type": "stream",
     "text": [
      "\r",
      " 58%|████████████████████████████████████████████████████████████████████████████████████████████████████████████████████████▍                                                                                       | 11/19 [00:03<00:02,  3.13it/s]"
     ]
    },
    {
     "name": "stdout",
     "output_type": "stream",
     "text": [
      "epoch 28 Train set - loss: 0.332, accuracy: 0.891 Val  set - loss: 0.357, Val accuracy: 0.891\n",
      "        \n"
     ]
    },
    {
     "name": "stderr",
     "output_type": "stream",
     "text": [
      "\r",
      " 63%|███████████████████████████████████████████████████████████████████████████████████████████████████████████████████████████████████▎                                                                            | 12/19 [00:03<00:02,  3.13it/s]"
     ]
    },
    {
     "name": "stdout",
     "output_type": "stream",
     "text": [
      "epoch 28 Train set - loss: 0.3, accuracy: 0.906 Val  set - loss: 0.292, Val accuracy: 0.918\n",
      "        \n"
     ]
    },
    {
     "name": "stderr",
     "output_type": "stream",
     "text": [
      "\r",
      " 68%|██████████████████████████████████████████████████████████████████████████████████████████████████████████████████████████████████████████████▎                                                                 | 13/19 [00:04<00:01,  3.13it/s]"
     ]
    },
    {
     "name": "stdout",
     "output_type": "stream",
     "text": [
      "epoch 28 Train set - loss: 0.351, accuracy: 0.879 Val  set - loss: 0.325, Val accuracy: 0.902\n",
      "        \n"
     ]
    },
    {
     "name": "stderr",
     "output_type": "stream",
     "text": [
      "\r",
      " 74%|█████████████████████████████████████████████████████████████████████████████████████████████████████████████████████████████████████████████████████████▎                                                      | 14/19 [00:04<00:01,  3.10it/s]"
     ]
    },
    {
     "name": "stdout",
     "output_type": "stream",
     "text": [
      "epoch 28 Train set - loss: 0.285, accuracy: 0.908 Val  set - loss: 0.336, Val accuracy: 0.893\n",
      "        \n"
     ]
    },
    {
     "name": "stderr",
     "output_type": "stream",
     "text": [
      "\r",
      " 79%|████████████████████████████████████████████████████████████████████████████████████████████████████████████████████████████████████████████████████████████████████▏                                           | 15/19 [00:04<00:01,  3.09it/s]"
     ]
    },
    {
     "name": "stdout",
     "output_type": "stream",
     "text": [
      "epoch 28 Train set - loss: 0.311, accuracy: 0.902 Val  set - loss: 0.358, Val accuracy: 0.887\n",
      "        \n"
     ]
    },
    {
     "name": "stderr",
     "output_type": "stream",
     "text": [
      "\r",
      " 84%|███████████████████████████████████████████████████████████████████████████████████████████████████████████████████████████████████████████████████████████████████████████████▏                                | 16/19 [00:05<00:00,  3.13it/s]"
     ]
    },
    {
     "name": "stdout",
     "output_type": "stream",
     "text": [
      "epoch 28 Train set - loss: 0.339, accuracy: 0.883 Val  set - loss: 0.32, Val accuracy: 0.904\n",
      "        \n"
     ]
    },
    {
     "name": "stderr",
     "output_type": "stream",
     "text": [
      "\r",
      " 89%|██████████████████████████████████████████████████████████████████████████████████████████████████████████████████████████████████████████████████████████████████████████████████████████                      | 17/19 [00:05<00:00,  3.15it/s]"
     ]
    },
    {
     "name": "stdout",
     "output_type": "stream",
     "text": [
      "epoch 28 Train set - loss: 0.31, accuracy: 0.898 Val  set - loss: 0.403, Val accuracy: 0.863\n",
      "        \n"
     ]
    },
    {
     "name": "stderr",
     "output_type": "stream",
     "text": [
      "\r",
      " 95%|█████████████████████████████████████████████████████████████████████████████████████████████████████████████████████████████████████████████████████████████████████████████████████████████████████           | 18/19 [00:05<00:00,  3.17it/s]"
     ]
    },
    {
     "name": "stdout",
     "output_type": "stream",
     "text": [
      "epoch 28 Train set - loss: 0.314, accuracy: 0.893 Val  set - loss: 0.335, Val accuracy: 0.898\n",
      "        \n"
     ]
    },
    {
     "name": "stderr",
     "output_type": "stream",
     "text": [
      "100%|████████████████████████████████████████████████████████████████████████████████████████████████████████████████████████████████████████████████████████████████████████████████████████████████████████████████| 19/19 [00:05<00:00,  3.19it/s]\n"
     ]
    },
    {
     "name": "stdout",
     "output_type": "stream",
     "text": [
      "epoch 28 Train set - loss: 0.313, accuracy: 0.9 Val  set - loss: 0.364, Val accuracy: 0.883\n",
      "        \n"
     ]
    },
    {
     "name": "stderr",
     "output_type": "stream",
     "text": [
      "100%|████████████████████████████████████████████████████████████████████████████████████████████████████████████████████████████████████████████████████████████████████████████████████████████████████████████████| 19/19 [00:04<00:00,  4.34it/s]\n",
      "  5%|███████████                                                                                                                                                                                                      | 1/19 [00:00<00:05,  3.20it/s]"
     ]
    },
    {
     "name": "stdout",
     "output_type": "stream",
     "text": [
      "epoch 30 Train set - loss: 0.264, accuracy: 0.924 Val  set - loss: 0.314, Val accuracy: 0.91\n",
      "        \n"
     ]
    },
    {
     "name": "stderr",
     "output_type": "stream",
     "text": [
      "\r",
      " 11%|██████████████████████                                                                                                                                                                                           | 2/19 [00:00<00:05,  3.19it/s]"
     ]
    },
    {
     "name": "stdout",
     "output_type": "stream",
     "text": [
      "epoch 30 Train set - loss: 0.337, accuracy: 0.887 Val  set - loss: 0.401, Val accuracy: 0.867\n",
      "        \n"
     ]
    },
    {
     "name": "stderr",
     "output_type": "stream",
     "text": [
      "\r",
      " 16%|█████████████████████████████████                                                                                                                                                                                | 3/19 [00:00<00:05,  3.18it/s]"
     ]
    },
    {
     "name": "stdout",
     "output_type": "stream",
     "text": [
      "epoch 30 Train set - loss: 0.297, accuracy: 0.906 Val  set - loss: 0.295, Val accuracy: 0.912\n",
      "        \n"
     ]
    },
    {
     "name": "stderr",
     "output_type": "stream",
     "text": [
      "\r",
      " 21%|████████████████████████████████████████████                                                                                                                                                                     | 4/19 [00:01<00:04,  3.19it/s]"
     ]
    },
    {
     "name": "stdout",
     "output_type": "stream",
     "text": [
      "epoch 30 Train set - loss: 0.351, accuracy: 0.881 Val  set - loss: 0.393, Val accuracy: 0.875\n",
      "        \n"
     ]
    },
    {
     "name": "stderr",
     "output_type": "stream",
     "text": [
      "\r",
      " 26%|███████████████████████████████████████████████████████                                                                                                                                                          | 5/19 [00:01<00:04,  3.19it/s]"
     ]
    },
    {
     "name": "stdout",
     "output_type": "stream",
     "text": [
      "epoch 30 Train set - loss: 0.255, accuracy: 0.924 Val  set - loss: 0.306, Val accuracy: 0.91\n",
      "        \n"
     ]
    },
    {
     "name": "stderr",
     "output_type": "stream",
     "text": [
      "\r",
      " 32%|██████████████████████████████████████████████████████████████████                                                                                                                                               | 6/19 [00:01<00:04,  3.15it/s]"
     ]
    },
    {
     "name": "stdout",
     "output_type": "stream",
     "text": [
      "epoch 30 Train set - loss: 0.328, accuracy: 0.891 Val  set - loss: 0.336, Val accuracy: 0.898\n",
      "        \n"
     ]
    },
    {
     "name": "stderr",
     "output_type": "stream",
     "text": [
      "\r",
      " 37%|█████████████████████████████████████████████████████████████████████████████                                                                                                                                    | 7/19 [00:02<00:03,  3.15it/s]"
     ]
    },
    {
     "name": "stdout",
     "output_type": "stream",
     "text": [
      "epoch 30 Train set - loss: 0.283, accuracy: 0.912 Val  set - loss: 0.362, Val accuracy: 0.885\n",
      "        \n"
     ]
    },
    {
     "name": "stderr",
     "output_type": "stream",
     "text": [
      "\r",
      " 42%|████████████████████████████████████████████████████████████████████████████████████████                                                                                                                         | 8/19 [00:02<00:03,  3.14it/s]"
     ]
    },
    {
     "name": "stdout",
     "output_type": "stream",
     "text": [
      "epoch 30 Train set - loss: 0.333, accuracy: 0.889 Val  set - loss: 0.348, Val accuracy: 0.898\n",
      "        \n"
     ]
    },
    {
     "name": "stderr",
     "output_type": "stream",
     "text": [
      "\r",
      " 47%|███████████████████████████████████████████████████████████████████████████████████████████████████                                                                                                              | 9/19 [00:02<00:03,  3.18it/s]"
     ]
    },
    {
     "name": "stdout",
     "output_type": "stream",
     "text": [
      "epoch 30 Train set - loss: 0.328, accuracy: 0.891 Val  set - loss: 0.339, Val accuracy: 0.895\n",
      "        \n"
     ]
    },
    {
     "name": "stderr",
     "output_type": "stream",
     "text": [
      "\r",
      " 53%|█████████████████████████████████████████████████████████████████████████████████████████████████████████████▍                                                                                                  | 10/19 [00:03<00:02,  3.15it/s]"
     ]
    },
    {
     "name": "stdout",
     "output_type": "stream",
     "text": [
      "epoch 30 Train set - loss: 0.31, accuracy: 0.9 Val  set - loss: 0.308, Val accuracy: 0.91\n",
      "        \n"
     ]
    },
    {
     "name": "stderr",
     "output_type": "stream",
     "text": [
      "\r",
      " 58%|████████████████████████████████████████████████████████████████████████████████████████████████████████████████████████▍                                                                                       | 11/19 [00:03<00:02,  3.14it/s]"
     ]
    },
    {
     "name": "stdout",
     "output_type": "stream",
     "text": [
      "epoch 30 Train set - loss: 0.332, accuracy: 0.891 Val  set - loss: 0.355, Val accuracy: 0.889\n",
      "        \n"
     ]
    },
    {
     "name": "stderr",
     "output_type": "stream",
     "text": [
      "\r",
      " 63%|███████████████████████████████████████████████████████████████████████████████████████████████████████████████████████████████████▎                                                                            | 12/19 [00:03<00:02,  3.16it/s]"
     ]
    },
    {
     "name": "stdout",
     "output_type": "stream",
     "text": [
      "epoch 30 Train set - loss: 0.3, accuracy: 0.906 Val  set - loss: 0.324, Val accuracy: 0.904\n",
      "        \n"
     ]
    },
    {
     "name": "stderr",
     "output_type": "stream",
     "text": [
      "\r",
      " 68%|██████████████████████████████████████████████████████████████████████████████████████████████████████████████████████████████████████████████▎                                                                 | 13/19 [00:04<00:01,  3.14it/s]"
     ]
    },
    {
     "name": "stdout",
     "output_type": "stream",
     "text": [
      "epoch 30 Train set - loss: 0.351, accuracy: 0.879 Val  set - loss: 0.319, Val accuracy: 0.902\n",
      "        \n"
     ]
    },
    {
     "name": "stderr",
     "output_type": "stream",
     "text": [
      "\r",
      " 74%|█████████████████████████████████████████████████████████████████████████████████████████████████████████████████████████████████████████████████████████▎                                                      | 14/19 [00:04<00:01,  3.16it/s]"
     ]
    },
    {
     "name": "stdout",
     "output_type": "stream",
     "text": [
      "epoch 30 Train set - loss: 0.285, accuracy: 0.908 Val  set - loss: 0.308, Val accuracy: 0.91\n",
      "        \n"
     ]
    },
    {
     "name": "stderr",
     "output_type": "stream",
     "text": [
      "\r",
      " 79%|████████████████████████████████████████████████████████████████████████████████████████████████████████████████████████████████████████████████████████████████████▏                                           | 15/19 [00:04<00:01,  3.16it/s]"
     ]
    },
    {
     "name": "stdout",
     "output_type": "stream",
     "text": [
      "epoch 30 Train set - loss: 0.311, accuracy: 0.902 Val  set - loss: 0.351, Val accuracy: 0.891\n",
      "        \n"
     ]
    },
    {
     "name": "stderr",
     "output_type": "stream",
     "text": [
      "\r",
      " 84%|███████████████████████████████████████████████████████████████████████████████████████████████████████████████████████████████████████████████████████████████████████████████▏                                | 16/19 [00:05<00:00,  3.11it/s]"
     ]
    },
    {
     "name": "stdout",
     "output_type": "stream",
     "text": [
      "epoch 30 Train set - loss: 0.339, accuracy: 0.883 Val  set - loss: 0.264, Val accuracy: 0.928\n",
      "        \n"
     ]
    },
    {
     "name": "stderr",
     "output_type": "stream",
     "text": [
      "\r",
      " 89%|██████████████████████████████████████████████████████████████████████████████████████████████████████████████████████████████████████████████████████████████████████████████████████████                      | 17/19 [00:05<00:00,  3.10it/s]"
     ]
    },
    {
     "name": "stdout",
     "output_type": "stream",
     "text": [
      "epoch 30 Train set - loss: 0.31, accuracy: 0.898 Val  set - loss: 0.375, Val accuracy: 0.885\n",
      "        \n"
     ]
    },
    {
     "name": "stderr",
     "output_type": "stream",
     "text": [
      "\r",
      " 95%|█████████████████████████████████████████████████████████████████████████████████████████████████████████████████████████████████████████████████████████████████████████████████████████████████████           | 18/19 [00:05<00:00,  3.09it/s]"
     ]
    },
    {
     "name": "stdout",
     "output_type": "stream",
     "text": [
      "epoch 30 Train set - loss: 0.314, accuracy: 0.893 Val  set - loss: 0.361, Val accuracy: 0.885\n",
      "        \n"
     ]
    },
    {
     "name": "stderr",
     "output_type": "stream",
     "text": [
      "100%|████████████████████████████████████████████████████████████████████████████████████████████████████████████████████████████████████████████████████████████████████████████████████████████████████████████████| 19/19 [00:05<00:00,  3.19it/s]\n"
     ]
    },
    {
     "name": "stdout",
     "output_type": "stream",
     "text": [
      "epoch 30 Train set - loss: 0.313, accuracy: 0.9 Val  set - loss: 0.321, Val accuracy: 0.906\n",
      "        \n"
     ]
    },
    {
     "name": "stderr",
     "output_type": "stream",
     "text": [
      "100%|████████████████████████████████████████████████████████████████████████████████████████████████████████████████████████████████████████████████████████████████████████████████████████████████████████████████| 19/19 [00:04<00:00,  4.40it/s]\n",
      "  5%|███████████                                                                                                                                                                                                      | 1/19 [00:00<00:05,  3.22it/s]"
     ]
    },
    {
     "name": "stdout",
     "output_type": "stream",
     "text": [
      "epoch 32 Train set - loss: 0.264, accuracy: 0.924 Val  set - loss: 0.311, Val accuracy: 0.908\n",
      "        \n"
     ]
    },
    {
     "name": "stderr",
     "output_type": "stream",
     "text": [
      "\r",
      " 11%|██████████████████████                                                                                                                                                                                           | 2/19 [00:00<00:05,  3.15it/s]"
     ]
    },
    {
     "name": "stdout",
     "output_type": "stream",
     "text": [
      "epoch 32 Train set - loss: 0.337, accuracy: 0.887 Val  set - loss: 0.343, Val accuracy: 0.893\n",
      "        \n"
     ]
    },
    {
     "name": "stderr",
     "output_type": "stream",
     "text": [
      "\r",
      " 16%|█████████████████████████████████                                                                                                                                                                                | 3/19 [00:00<00:05,  3.15it/s]"
     ]
    },
    {
     "name": "stdout",
     "output_type": "stream",
     "text": [
      "epoch 32 Train set - loss: 0.297, accuracy: 0.906 Val  set - loss: 0.303, Val accuracy: 0.908\n",
      "        \n"
     ]
    },
    {
     "name": "stderr",
     "output_type": "stream",
     "text": [
      "\r",
      " 21%|████████████████████████████████████████████                                                                                                                                                                     | 4/19 [00:01<00:04,  3.12it/s]"
     ]
    },
    {
     "name": "stdout",
     "output_type": "stream",
     "text": [
      "epoch 32 Train set - loss: 0.351, accuracy: 0.881 Val  set - loss: 0.308, Val accuracy: 0.908\n",
      "        \n"
     ]
    },
    {
     "name": "stderr",
     "output_type": "stream",
     "text": [
      "\r",
      " 26%|███████████████████████████████████████████████████████                                                                                                                                                          | 5/19 [00:01<00:04,  3.14it/s]"
     ]
    },
    {
     "name": "stdout",
     "output_type": "stream",
     "text": [
      "epoch 32 Train set - loss: 0.255, accuracy: 0.924 Val  set - loss: 0.344, Val accuracy: 0.895\n",
      "        \n"
     ]
    },
    {
     "name": "stderr",
     "output_type": "stream",
     "text": [
      "\r",
      " 32%|██████████████████████████████████████████████████████████████████                                                                                                                                               | 6/19 [00:01<00:04,  3.13it/s]"
     ]
    },
    {
     "name": "stdout",
     "output_type": "stream",
     "text": [
      "epoch 32 Train set - loss: 0.328, accuracy: 0.891 Val  set - loss: 0.354, Val accuracy: 0.889\n",
      "        \n"
     ]
    },
    {
     "name": "stderr",
     "output_type": "stream",
     "text": [
      "\r",
      " 37%|█████████████████████████████████████████████████████████████████████████████                                                                                                                                    | 7/19 [00:02<00:03,  3.09it/s]"
     ]
    },
    {
     "name": "stdout",
     "output_type": "stream",
     "text": [
      "epoch 32 Train set - loss: 0.283, accuracy: 0.912 Val  set - loss: 0.374, Val accuracy: 0.883\n",
      "        \n"
     ]
    },
    {
     "name": "stderr",
     "output_type": "stream",
     "text": [
      "\r",
      " 42%|████████████████████████████████████████████████████████████████████████████████████████                                                                                                                         | 8/19 [00:02<00:03,  3.10it/s]"
     ]
    },
    {
     "name": "stdout",
     "output_type": "stream",
     "text": [
      "epoch 32 Train set - loss: 0.332, accuracy: 0.889 Val  set - loss: 0.311, Val accuracy: 0.908\n",
      "        \n"
     ]
    },
    {
     "name": "stderr",
     "output_type": "stream",
     "text": [
      "\r",
      " 47%|███████████████████████████████████████████████████████████████████████████████████████████████████                                                                                                              | 9/19 [00:02<00:03,  3.11it/s]"
     ]
    },
    {
     "name": "stdout",
     "output_type": "stream",
     "text": [
      "epoch 32 Train set - loss: 0.328, accuracy: 0.891 Val  set - loss: 0.368, Val accuracy: 0.887\n",
      "        \n"
     ]
    },
    {
     "name": "stderr",
     "output_type": "stream",
     "text": [
      "\r",
      " 53%|█████████████████████████████████████████████████████████████████████████████████████████████████████████████▍                                                                                                  | 10/19 [00:03<00:02,  3.14it/s]"
     ]
    },
    {
     "name": "stdout",
     "output_type": "stream",
     "text": [
      "epoch 32 Train set - loss: 0.31, accuracy: 0.9 Val  set - loss: 0.334, Val accuracy: 0.896\n",
      "        \n"
     ]
    },
    {
     "name": "stderr",
     "output_type": "stream",
     "text": [
      "\r",
      " 58%|████████████████████████████████████████████████████████████████████████████████████████████████████████████████████████▍                                                                                       | 11/19 [00:03<00:02,  3.17it/s]"
     ]
    },
    {
     "name": "stdout",
     "output_type": "stream",
     "text": [
      "epoch 32 Train set - loss: 0.332, accuracy: 0.891 Val  set - loss: 0.315, Val accuracy: 0.906\n",
      "        \n"
     ]
    },
    {
     "name": "stderr",
     "output_type": "stream",
     "text": [
      "\r",
      " 63%|███████████████████████████████████████████████████████████████████████████████████████████████████████████████████████████████████▎                                                                            | 12/19 [00:03<00:02,  3.15it/s]"
     ]
    },
    {
     "name": "stdout",
     "output_type": "stream",
     "text": [
      "epoch 32 Train set - loss: 0.3, accuracy: 0.906 Val  set - loss: 0.327, Val accuracy: 0.9\n",
      "        \n"
     ]
    },
    {
     "name": "stderr",
     "output_type": "stream",
     "text": [
      "\r",
      " 68%|██████████████████████████████████████████████████████████████████████████████████████████████████████████████████████████████████████████████▎                                                                 | 13/19 [00:04<00:01,  3.13it/s]"
     ]
    },
    {
     "name": "stdout",
     "output_type": "stream",
     "text": [
      "epoch 32 Train set - loss: 0.351, accuracy: 0.879 Val  set - loss: 0.327, Val accuracy: 0.902\n",
      "        \n"
     ]
    },
    {
     "name": "stderr",
     "output_type": "stream",
     "text": [
      "\r",
      " 74%|█████████████████████████████████████████████████████████████████████████████████████████████████████████████████████████████████████████████████████████▎                                                      | 14/19 [00:04<00:01,  3.10it/s]"
     ]
    },
    {
     "name": "stdout",
     "output_type": "stream",
     "text": [
      "epoch 32 Train set - loss: 0.285, accuracy: 0.908 Val  set - loss: 0.338, Val accuracy: 0.896\n",
      "        \n"
     ]
    },
    {
     "name": "stderr",
     "output_type": "stream",
     "text": [
      "\r",
      " 79%|████████████████████████████████████████████████████████████████████████████████████████████████████████████████████████████████████████████████████████████████████▏                                           | 15/19 [00:04<00:01,  3.13it/s]"
     ]
    },
    {
     "name": "stdout",
     "output_type": "stream",
     "text": [
      "epoch 32 Train set - loss: 0.311, accuracy: 0.902 Val  set - loss: 0.34, Val accuracy: 0.896\n",
      "        \n"
     ]
    },
    {
     "name": "stderr",
     "output_type": "stream",
     "text": [
      "\r",
      " 84%|███████████████████████████████████████████████████████████████████████████████████████████████████████████████████████████████████████████████████████████████████████████████▏                                | 16/19 [00:05<00:00,  3.12it/s]"
     ]
    },
    {
     "name": "stdout",
     "output_type": "stream",
     "text": [
      "epoch 32 Train set - loss: 0.339, accuracy: 0.883 Val  set - loss: 0.333, Val accuracy: 0.896\n",
      "        \n"
     ]
    },
    {
     "name": "stderr",
     "output_type": "stream",
     "text": [
      "\r",
      " 89%|██████████████████████████████████████████████████████████████████████████████████████████████████████████████████████████████████████████████████████████████████████████████████████████                      | 17/19 [00:05<00:00,  3.08it/s]"
     ]
    },
    {
     "name": "stdout",
     "output_type": "stream",
     "text": [
      "epoch 32 Train set - loss: 0.31, accuracy: 0.898 Val  set - loss: 0.337, Val accuracy: 0.895\n",
      "        \n"
     ]
    },
    {
     "name": "stderr",
     "output_type": "stream",
     "text": [
      "\r",
      " 95%|█████████████████████████████████████████████████████████████████████████████████████████████████████████████████████████████████████████████████████████████████████████████████████████████████████           | 18/19 [00:05<00:00,  3.11it/s]"
     ]
    },
    {
     "name": "stdout",
     "output_type": "stream",
     "text": [
      "epoch 32 Train set - loss: 0.314, accuracy: 0.893 Val  set - loss: 0.331, Val accuracy: 0.9\n",
      "        \n"
     ]
    },
    {
     "name": "stderr",
     "output_type": "stream",
     "text": [
      "100%|████████████████████████████████████████████████████████████████████████████████████████████████████████████████████████████████████████████████████████████████████████████████████████████████████████████████| 19/19 [00:05<00:00,  3.17it/s]\n"
     ]
    },
    {
     "name": "stdout",
     "output_type": "stream",
     "text": [
      "epoch 32 Train set - loss: 0.313, accuracy: 0.9 Val  set - loss: 0.367, Val accuracy: 0.883\n",
      "        \n"
     ]
    },
    {
     "name": "stderr",
     "output_type": "stream",
     "text": [
      "100%|████████████████████████████████████████████████████████████████████████████████████████████████████████████████████████████████████████████████████████████████████████████████████████████████████████████████| 19/19 [00:04<00:00,  4.26it/s]\n",
      "  5%|███████████                                                                                                                                                                                                      | 1/19 [00:00<00:05,  3.05it/s]"
     ]
    },
    {
     "name": "stdout",
     "output_type": "stream",
     "text": [
      "epoch 34 Train set - loss: 0.264, accuracy: 0.924 Val  set - loss: 0.327, Val accuracy: 0.902\n",
      "        \n"
     ]
    },
    {
     "name": "stderr",
     "output_type": "stream",
     "text": [
      "\r",
      " 11%|██████████████████████                                                                                                                                                                                           | 2/19 [00:00<00:05,  3.04it/s]"
     ]
    },
    {
     "name": "stdout",
     "output_type": "stream",
     "text": [
      "epoch 34 Train set - loss: 0.337, accuracy: 0.887 Val  set - loss: 0.37, Val accuracy: 0.879\n",
      "        \n"
     ]
    },
    {
     "name": "stderr",
     "output_type": "stream",
     "text": [
      "\r",
      " 16%|█████████████████████████████████                                                                                                                                                                                | 3/19 [00:00<00:05,  3.02it/s]"
     ]
    },
    {
     "name": "stdout",
     "output_type": "stream",
     "text": [
      "epoch 34 Train set - loss: 0.297, accuracy: 0.906 Val  set - loss: 0.323, Val accuracy: 0.902\n",
      "        \n"
     ]
    },
    {
     "name": "stderr",
     "output_type": "stream",
     "text": [
      "\r",
      " 21%|████████████████████████████████████████████                                                                                                                                                                     | 4/19 [00:01<00:04,  3.06it/s]"
     ]
    },
    {
     "name": "stdout",
     "output_type": "stream",
     "text": [
      "epoch 34 Train set - loss: 0.351, accuracy: 0.881 Val  set - loss: 0.305, Val accuracy: 0.91\n",
      "        \n"
     ]
    },
    {
     "name": "stderr",
     "output_type": "stream",
     "text": [
      "\r",
      " 26%|███████████████████████████████████████████████████████                                                                                                                                                          | 5/19 [00:01<00:04,  3.04it/s]"
     ]
    },
    {
     "name": "stdout",
     "output_type": "stream",
     "text": [
      "epoch 34 Train set - loss: 0.255, accuracy: 0.924 Val  set - loss: 0.344, Val accuracy: 0.895\n",
      "        \n"
     ]
    },
    {
     "name": "stderr",
     "output_type": "stream",
     "text": [
      "\r",
      " 32%|██████████████████████████████████████████████████████████████████                                                                                                                                               | 6/19 [00:01<00:04,  3.03it/s]"
     ]
    },
    {
     "name": "stdout",
     "output_type": "stream",
     "text": [
      "epoch 34 Train set - loss: 0.328, accuracy: 0.891 Val  set - loss: 0.345, Val accuracy: 0.898\n",
      "        \n"
     ]
    },
    {
     "name": "stderr",
     "output_type": "stream",
     "text": [
      "\r",
      " 37%|█████████████████████████████████████████████████████████████████████████████                                                                                                                                    | 7/19 [00:02<00:04,  3.00it/s]"
     ]
    },
    {
     "name": "stdout",
     "output_type": "stream",
     "text": [
      "epoch 34 Train set - loss: 0.283, accuracy: 0.912 Val  set - loss: 0.328, Val accuracy: 0.9\n",
      "        \n"
     ]
    },
    {
     "name": "stderr",
     "output_type": "stream",
     "text": [
      "\r",
      " 42%|████████████████████████████████████████████████████████████████████████████████████████                                                                                                                         | 8/19 [00:02<00:03,  2.99it/s]"
     ]
    },
    {
     "name": "stdout",
     "output_type": "stream",
     "text": [
      "epoch 34 Train set - loss: 0.332, accuracy: 0.889 Val  set - loss: 0.393, Val accuracy: 0.873\n",
      "        \n"
     ]
    },
    {
     "name": "stderr",
     "output_type": "stream",
     "text": [
      "\r",
      " 47%|███████████████████████████████████████████████████████████████████████████████████████████████████                                                                                                              | 9/19 [00:02<00:03,  3.02it/s]"
     ]
    },
    {
     "name": "stdout",
     "output_type": "stream",
     "text": [
      "epoch 34 Train set - loss: 0.328, accuracy: 0.891 Val  set - loss: 0.278, Val accuracy: 0.922\n",
      "        \n"
     ]
    },
    {
     "name": "stderr",
     "output_type": "stream",
     "text": [
      "\r",
      " 53%|█████████████████████████████████████████████████████████████████████████████████████████████████████████████▍                                                                                                  | 10/19 [00:03<00:02,  3.03it/s]"
     ]
    },
    {
     "name": "stdout",
     "output_type": "stream",
     "text": [
      "epoch 34 Train set - loss: 0.31, accuracy: 0.9 Val  set - loss: 0.381, Val accuracy: 0.879\n",
      "        \n"
     ]
    },
    {
     "name": "stderr",
     "output_type": "stream",
     "text": [
      "\r",
      " 58%|████████████████████████████████████████████████████████████████████████████████████████████████████████████████████████▍                                                                                       | 11/19 [00:03<00:02,  3.03it/s]"
     ]
    },
    {
     "name": "stdout",
     "output_type": "stream",
     "text": [
      "epoch 34 Train set - loss: 0.332, accuracy: 0.891 Val  set - loss: 0.363, Val accuracy: 0.887\n",
      "        \n"
     ]
    },
    {
     "name": "stderr",
     "output_type": "stream",
     "text": [
      "\r",
      " 63%|███████████████████████████████████████████████████████████████████████████████████████████████████████████████████████████████████▎                                                                            | 12/19 [00:03<00:02,  3.03it/s]"
     ]
    },
    {
     "name": "stdout",
     "output_type": "stream",
     "text": [
      "epoch 34 Train set - loss: 0.3, accuracy: 0.906 Val  set - loss: 0.335, Val accuracy: 0.893\n",
      "        \n"
     ]
    },
    {
     "name": "stderr",
     "output_type": "stream",
     "text": [
      "\r",
      " 68%|██████████████████████████████████████████████████████████████████████████████████████████████████████████████████████████████████████████████▎                                                                 | 13/19 [00:04<00:01,  3.07it/s]"
     ]
    },
    {
     "name": "stdout",
     "output_type": "stream",
     "text": [
      "epoch 34 Train set - loss: 0.351, accuracy: 0.879 Val  set - loss: 0.317, Val accuracy: 0.906\n",
      "        \n"
     ]
    },
    {
     "name": "stderr",
     "output_type": "stream",
     "text": [
      "\r",
      " 74%|█████████████████████████████████████████████████████████████████████████████████████████████████████████████████████████████████████████████████████████▎                                                      | 14/19 [00:04<00:01,  3.04it/s]"
     ]
    },
    {
     "name": "stdout",
     "output_type": "stream",
     "text": [
      "epoch 34 Train set - loss: 0.285, accuracy: 0.908 Val  set - loss: 0.322, Val accuracy: 0.904\n",
      "        \n"
     ]
    },
    {
     "name": "stderr",
     "output_type": "stream",
     "text": [
      "\r",
      " 79%|████████████████████████████████████████████████████████████████████████████████████████████████████████████████████████████████████████████████████████████████████▏                                           | 15/19 [00:04<00:01,  3.06it/s]"
     ]
    },
    {
     "name": "stdout",
     "output_type": "stream",
     "text": [
      "epoch 34 Train set - loss: 0.311, accuracy: 0.902 Val  set - loss: 0.342, Val accuracy: 0.895\n",
      "        \n"
     ]
    },
    {
     "name": "stderr",
     "output_type": "stream",
     "text": [
      "\r",
      " 84%|███████████████████████████████████████████████████████████████████████████████████████████████████████████████████████████████████████████████████████████████████████████████▏                                | 16/19 [00:05<00:00,  3.03it/s]"
     ]
    },
    {
     "name": "stdout",
     "output_type": "stream",
     "text": [
      "epoch 34 Train set - loss: 0.339, accuracy: 0.883 Val  set - loss: 0.293, Val accuracy: 0.914\n",
      "        \n"
     ]
    },
    {
     "name": "stderr",
     "output_type": "stream",
     "text": [
      "\r",
      " 89%|██████████████████████████████████████████████████████████████████████████████████████████████████████████████████████████████████████████████████████████████████████████████████████████                      | 17/19 [00:05<00:00,  2.98it/s]"
     ]
    },
    {
     "name": "stdout",
     "output_type": "stream",
     "text": [
      "epoch 34 Train set - loss: 0.31, accuracy: 0.898 Val  set - loss: 0.305, Val accuracy: 0.912\n",
      "        \n"
     ]
    },
    {
     "name": "stderr",
     "output_type": "stream",
     "text": [
      "\r",
      " 95%|█████████████████████████████████████████████████████████████████████████████████████████████████████████████████████████████████████████████████████████████████████████████████████████████████████           | 18/19 [00:05<00:00,  2.97it/s]"
     ]
    },
    {
     "name": "stdout",
     "output_type": "stream",
     "text": [
      "epoch 34 Train set - loss: 0.314, accuracy: 0.893 Val  set - loss: 0.328, Val accuracy: 0.9\n",
      "        \n"
     ]
    },
    {
     "name": "stderr",
     "output_type": "stream",
     "text": [
      "100%|████████████████████████████████████████████████████████████████████████████████████████████████████████████████████████████████████████████████████████████████████████████████████████████████████████████████| 19/19 [00:06<00:00,  3.06it/s]\n"
     ]
    },
    {
     "name": "stdout",
     "output_type": "stream",
     "text": [
      "epoch 34 Train set - loss: 0.313, accuracy: 0.9 Val  set - loss: 0.328, Val accuracy: 0.902\n",
      "        \n"
     ]
    },
    {
     "name": "stderr",
     "output_type": "stream",
     "text": [
      "100%|████████████████████████████████████████████████████████████████████████████████████████████████████████████████████████████████████████████████████████████████████████████████████████████████████████████████| 19/19 [00:04<00:00,  4.31it/s]\n",
      "  5%|███████████                                                                                                                                                                                                      | 1/19 [00:00<00:05,  3.09it/s]"
     ]
    },
    {
     "name": "stdout",
     "output_type": "stream",
     "text": [
      "epoch 36 Train set - loss: 0.264, accuracy: 0.924 Val  set - loss: 0.347, Val accuracy: 0.893\n",
      "        \n"
     ]
    },
    {
     "name": "stderr",
     "output_type": "stream",
     "text": [
      "\r",
      " 11%|██████████████████████                                                                                                                                                                                           | 2/19 [00:00<00:05,  3.14it/s]"
     ]
    },
    {
     "name": "stdout",
     "output_type": "stream",
     "text": [
      "epoch 36 Train set - loss: 0.337, accuracy: 0.887 Val  set - loss: 0.318, Val accuracy: 0.904\n",
      "        \n"
     ]
    },
    {
     "name": "stderr",
     "output_type": "stream",
     "text": [
      "\r",
      " 16%|█████████████████████████████████                                                                                                                                                                                | 3/19 [00:00<00:05,  3.12it/s]"
     ]
    },
    {
     "name": "stdout",
     "output_type": "stream",
     "text": [
      "epoch 36 Train set - loss: 0.297, accuracy: 0.906 Val  set - loss: 0.304, Val accuracy: 0.912\n",
      "        \n"
     ]
    },
    {
     "name": "stderr",
     "output_type": "stream",
     "text": [
      "\r",
      " 21%|████████████████████████████████████████████                                                                                                                                                                     | 4/19 [00:01<00:04,  3.12it/s]"
     ]
    },
    {
     "name": "stdout",
     "output_type": "stream",
     "text": [
      "epoch 36 Train set - loss: 0.351, accuracy: 0.881 Val  set - loss: 0.31, Val accuracy: 0.91\n",
      "        \n"
     ]
    },
    {
     "name": "stderr",
     "output_type": "stream",
     "text": [
      "\r",
      " 26%|███████████████████████████████████████████████████████                                                                                                                                                          | 5/19 [00:01<00:04,  3.13it/s]"
     ]
    },
    {
     "name": "stdout",
     "output_type": "stream",
     "text": [
      "epoch 36 Train set - loss: 0.255, accuracy: 0.924 Val  set - loss: 0.321, Val accuracy: 0.904\n",
      "        \n"
     ]
    },
    {
     "name": "stderr",
     "output_type": "stream",
     "text": [
      "\r",
      " 32%|██████████████████████████████████████████████████████████████████                                                                                                                                               | 6/19 [00:01<00:04,  3.15it/s]"
     ]
    },
    {
     "name": "stdout",
     "output_type": "stream",
     "text": [
      "epoch 36 Train set - loss: 0.328, accuracy: 0.891 Val  set - loss: 0.373, Val accuracy: 0.881\n",
      "        \n"
     ]
    },
    {
     "name": "stderr",
     "output_type": "stream",
     "text": [
      "\r",
      " 37%|█████████████████████████████████████████████████████████████████████████████                                                                                                                                    | 7/19 [00:02<00:03,  3.11it/s]"
     ]
    },
    {
     "name": "stdout",
     "output_type": "stream",
     "text": [
      "epoch 36 Train set - loss: 0.283, accuracy: 0.912 Val  set - loss: 0.381, Val accuracy: 0.877\n",
      "        \n"
     ]
    },
    {
     "name": "stderr",
     "output_type": "stream",
     "text": [
      "\r",
      " 42%|████████████████████████████████████████████████████████████████████████████████████████                                                                                                                         | 8/19 [00:02<00:03,  3.10it/s]"
     ]
    },
    {
     "name": "stdout",
     "output_type": "stream",
     "text": [
      "epoch 36 Train set - loss: 0.332, accuracy: 0.889 Val  set - loss: 0.355, Val accuracy: 0.887\n",
      "        \n"
     ]
    },
    {
     "name": "stderr",
     "output_type": "stream",
     "text": [
      "\r",
      " 47%|███████████████████████████████████████████████████████████████████████████████████████████████████                                                                                                              | 9/19 [00:02<00:03,  3.12it/s]"
     ]
    },
    {
     "name": "stdout",
     "output_type": "stream",
     "text": [
      "epoch 36 Train set - loss: 0.328, accuracy: 0.891 Val  set - loss: 0.337, Val accuracy: 0.896\n",
      "        \n"
     ]
    },
    {
     "name": "stderr",
     "output_type": "stream",
     "text": [
      "\r",
      " 53%|█████████████████████████████████████████████████████████████████████████████████████████████████████████████▍                                                                                                  | 10/19 [00:03<00:02,  3.13it/s]"
     ]
    },
    {
     "name": "stdout",
     "output_type": "stream",
     "text": [
      "epoch 36 Train set - loss: 0.31, accuracy: 0.9 Val  set - loss: 0.284, Val accuracy: 0.92\n",
      "        \n"
     ]
    },
    {
     "name": "stderr",
     "output_type": "stream",
     "text": [
      "\r",
      " 58%|████████████████████████████████████████████████████████████████████████████████████████████████████████████████████████▍                                                                                       | 11/19 [00:03<00:02,  3.11it/s]"
     ]
    },
    {
     "name": "stdout",
     "output_type": "stream",
     "text": [
      "epoch 36 Train set - loss: 0.331, accuracy: 0.891 Val  set - loss: 0.294, Val accuracy: 0.914\n",
      "        \n"
     ]
    },
    {
     "name": "stderr",
     "output_type": "stream",
     "text": [
      "\r",
      " 63%|███████████████████████████████████████████████████████████████████████████████████████████████████████████████████████████████████▎                                                                            | 12/19 [00:03<00:02,  3.13it/s]"
     ]
    },
    {
     "name": "stdout",
     "output_type": "stream",
     "text": [
      "epoch 36 Train set - loss: 0.3, accuracy: 0.906 Val  set - loss: 0.371, Val accuracy: 0.879\n",
      "        \n"
     ]
    },
    {
     "name": "stderr",
     "output_type": "stream",
     "text": [
      "\r",
      " 68%|██████████████████████████████████████████████████████████████████████████████████████████████████████████████████████████████████████████████▎                                                                 | 13/19 [00:04<00:01,  3.14it/s]"
     ]
    },
    {
     "name": "stdout",
     "output_type": "stream",
     "text": [
      "epoch 36 Train set - loss: 0.351, accuracy: 0.879 Val  set - loss: 0.305, Val accuracy: 0.912\n",
      "        \n"
     ]
    },
    {
     "name": "stderr",
     "output_type": "stream",
     "text": [
      "\r",
      " 74%|█████████████████████████████████████████████████████████████████████████████████████████████████████████████████████████████████████████████████████████▎                                                      | 14/19 [00:04<00:01,  3.12it/s]"
     ]
    },
    {
     "name": "stdout",
     "output_type": "stream",
     "text": [
      "epoch 36 Train set - loss: 0.285, accuracy: 0.908 Val  set - loss: 0.299, Val accuracy: 0.914\n",
      "        \n"
     ]
    },
    {
     "name": "stderr",
     "output_type": "stream",
     "text": [
      "\r",
      " 79%|████████████████████████████████████████████████████████████████████████████████████████████████████████████████████████████████████████████████████████████████████▏                                           | 15/19 [00:04<00:01,  3.15it/s]"
     ]
    },
    {
     "name": "stdout",
     "output_type": "stream",
     "text": [
      "epoch 36 Train set - loss: 0.311, accuracy: 0.902 Val  set - loss: 0.336, Val accuracy: 0.895\n",
      "        \n"
     ]
    },
    {
     "name": "stderr",
     "output_type": "stream",
     "text": [
      "\r",
      " 84%|███████████████████████████████████████████████████████████████████████████████████████████████████████████████████████████████████████████████████████████████████████████████▏                                | 16/19 [00:05<00:00,  3.17it/s]"
     ]
    },
    {
     "name": "stdout",
     "output_type": "stream",
     "text": [
      "epoch 36 Train set - loss: 0.339, accuracy: 0.883 Val  set - loss: 0.362, Val accuracy: 0.885\n",
      "        \n"
     ]
    },
    {
     "name": "stderr",
     "output_type": "stream",
     "text": [
      "\r",
      " 89%|██████████████████████████████████████████████████████████████████████████████████████████████████████████████████████████████████████████████████████████████████████████████████████████                      | 17/19 [00:05<00:00,  3.15it/s]"
     ]
    },
    {
     "name": "stdout",
     "output_type": "stream",
     "text": [
      "epoch 36 Train set - loss: 0.31, accuracy: 0.898 Val  set - loss: 0.344, Val accuracy: 0.893\n",
      "        \n"
     ]
    },
    {
     "name": "stderr",
     "output_type": "stream",
     "text": [
      "\r",
      " 95%|█████████████████████████████████████████████████████████████████████████████████████████████████████████████████████████████████████████████████████████████████████████████████████████████████████           | 18/19 [00:05<00:00,  3.16it/s]"
     ]
    },
    {
     "name": "stdout",
     "output_type": "stream",
     "text": [
      "epoch 36 Train set - loss: 0.314, accuracy: 0.893 Val  set - loss: 0.332, Val accuracy: 0.9\n",
      "        \n"
     ]
    },
    {
     "name": "stderr",
     "output_type": "stream",
     "text": [
      "100%|████████████████████████████████████████████████████████████████████████████████████████████████████████████████████████████████████████████████████████████████████████████████████████████████████████████████| 19/19 [00:05<00:00,  3.19it/s]\n"
     ]
    },
    {
     "name": "stdout",
     "output_type": "stream",
     "text": [
      "epoch 36 Train set - loss: 0.313, accuracy: 0.9 Val  set - loss: 0.343, Val accuracy: 0.896\n",
      "        \n"
     ]
    },
    {
     "name": "stderr",
     "output_type": "stream",
     "text": [
      "100%|████████████████████████████████████████████████████████████████████████████████████████████████████████████████████████████████████████████████████████████████████████████████████████████████████████████████| 19/19 [00:04<00:00,  4.35it/s]\n",
      "  5%|███████████                                                                                                                                                                                                      | 1/19 [00:00<00:05,  3.19it/s]"
     ]
    },
    {
     "name": "stdout",
     "output_type": "stream",
     "text": [
      "epoch 38 Train set - loss: 0.264, accuracy: 0.924 Val  set - loss: 0.312, Val accuracy: 0.906\n",
      "        \n"
     ]
    },
    {
     "name": "stderr",
     "output_type": "stream",
     "text": [
      "\r",
      " 11%|██████████████████████                                                                                                                                                                                           | 2/19 [00:00<00:05,  3.06it/s]"
     ]
    },
    {
     "name": "stdout",
     "output_type": "stream",
     "text": [
      "epoch 38 Train set - loss: 0.337, accuracy: 0.887 Val  set - loss: 0.372, Val accuracy: 0.883\n",
      "        \n"
     ]
    },
    {
     "name": "stderr",
     "output_type": "stream",
     "text": [
      "\r",
      " 16%|█████████████████████████████████                                                                                                                                                                                | 3/19 [00:00<00:05,  3.04it/s]"
     ]
    },
    {
     "name": "stdout",
     "output_type": "stream",
     "text": [
      "epoch 38 Train set - loss: 0.297, accuracy: 0.906 Val  set - loss: 0.352, Val accuracy: 0.891\n",
      "        \n"
     ]
    },
    {
     "name": "stderr",
     "output_type": "stream",
     "text": [
      "\r",
      " 21%|████████████████████████████████████████████                                                                                                                                                                     | 4/19 [00:01<00:04,  3.01it/s]"
     ]
    },
    {
     "name": "stdout",
     "output_type": "stream",
     "text": [
      "epoch 38 Train set - loss: 0.351, accuracy: 0.881 Val  set - loss: 0.366, Val accuracy: 0.885\n",
      "        \n"
     ]
    },
    {
     "name": "stderr",
     "output_type": "stream",
     "text": [
      "\r",
      " 26%|███████████████████████████████████████████████████████                                                                                                                                                          | 5/19 [00:01<00:04,  3.05it/s]"
     ]
    },
    {
     "name": "stdout",
     "output_type": "stream",
     "text": [
      "epoch 38 Train set - loss: 0.255, accuracy: 0.924 Val  set - loss: 0.315, Val accuracy: 0.904\n",
      "        \n"
     ]
    },
    {
     "name": "stderr",
     "output_type": "stream",
     "text": [
      "\r",
      " 32%|██████████████████████████████████████████████████████████████████                                                                                                                                               | 6/19 [00:01<00:04,  3.09it/s]"
     ]
    },
    {
     "name": "stdout",
     "output_type": "stream",
     "text": [
      "epoch 38 Train set - loss: 0.328, accuracy: 0.891 Val  set - loss: 0.314, Val accuracy: 0.908\n",
      "        \n"
     ]
    },
    {
     "name": "stderr",
     "output_type": "stream",
     "text": [
      "\r",
      " 37%|█████████████████████████████████████████████████████████████████████████████                                                                                                                                    | 7/19 [00:02<00:03,  3.11it/s]"
     ]
    },
    {
     "name": "stdout",
     "output_type": "stream",
     "text": [
      "epoch 38 Train set - loss: 0.283, accuracy: 0.912 Val  set - loss: 0.307, Val accuracy: 0.912\n",
      "        \n"
     ]
    },
    {
     "name": "stderr",
     "output_type": "stream",
     "text": [
      "\r",
      " 42%|████████████████████████████████████████████████████████████████████████████████████████                                                                                                                         | 8/19 [00:02<00:03,  3.13it/s]"
     ]
    },
    {
     "name": "stdout",
     "output_type": "stream",
     "text": [
      "epoch 38 Train set - loss: 0.332, accuracy: 0.889 Val  set - loss: 0.328, Val accuracy: 0.9\n",
      "        \n"
     ]
    },
    {
     "name": "stderr",
     "output_type": "stream",
     "text": [
      "\r",
      " 47%|███████████████████████████████████████████████████████████████████████████████████████████████████                                                                                                              | 9/19 [00:02<00:03,  3.13it/s]"
     ]
    },
    {
     "name": "stdout",
     "output_type": "stream",
     "text": [
      "epoch 38 Train set - loss: 0.328, accuracy: 0.891 Val  set - loss: 0.347, Val accuracy: 0.891\n",
      "        \n"
     ]
    },
    {
     "name": "stderr",
     "output_type": "stream",
     "text": [
      "\r",
      " 53%|█████████████████████████████████████████████████████████████████████████████████████████████████████████████▍                                                                                                  | 10/19 [00:03<00:02,  3.15it/s]"
     ]
    },
    {
     "name": "stdout",
     "output_type": "stream",
     "text": [
      "epoch 38 Train set - loss: 0.31, accuracy: 0.9 Val  set - loss: 0.296, Val accuracy: 0.912\n",
      "        \n"
     ]
    },
    {
     "name": "stderr",
     "output_type": "stream",
     "text": [
      "\r",
      " 58%|████████████████████████████████████████████████████████████████████████████████████████████████████████████████████████▍                                                                                       | 11/19 [00:03<00:02,  3.16it/s]"
     ]
    },
    {
     "name": "stdout",
     "output_type": "stream",
     "text": [
      "epoch 38 Train set - loss: 0.331, accuracy: 0.891 Val  set - loss: 0.284, Val accuracy: 0.922\n",
      "        \n"
     ]
    },
    {
     "name": "stderr",
     "output_type": "stream",
     "text": [
      "\r",
      " 63%|███████████████████████████████████████████████████████████████████████████████████████████████████████████████████████████████████▎                                                                            | 12/19 [00:03<00:02,  3.18it/s]"
     ]
    },
    {
     "name": "stdout",
     "output_type": "stream",
     "text": [
      "epoch 38 Train set - loss: 0.3, accuracy: 0.906 Val  set - loss: 0.339, Val accuracy: 0.895\n",
      "        \n"
     ]
    },
    {
     "name": "stderr",
     "output_type": "stream",
     "text": [
      "\r",
      " 68%|██████████████████████████████████████████████████████████████████████████████████████████████████████████████████████████████████████████████▎                                                                 | 13/19 [00:04<00:01,  3.12it/s]"
     ]
    },
    {
     "name": "stdout",
     "output_type": "stream",
     "text": [
      "epoch 38 Train set - loss: 0.351, accuracy: 0.879 Val  set - loss: 0.362, Val accuracy: 0.887\n",
      "        \n"
     ]
    },
    {
     "name": "stderr",
     "output_type": "stream",
     "text": [
      "\r",
      " 74%|█████████████████████████████████████████████████████████████████████████████████████████████████████████████████████████████████████████████████████████▎                                                      | 14/19 [00:04<00:01,  3.11it/s]"
     ]
    },
    {
     "name": "stdout",
     "output_type": "stream",
     "text": [
      "epoch 38 Train set - loss: 0.285, accuracy: 0.908 Val  set - loss: 0.324, Val accuracy: 0.904\n",
      "        \n"
     ]
    },
    {
     "name": "stderr",
     "output_type": "stream",
     "text": [
      "\r",
      " 79%|████████████████████████████████████████████████████████████████████████████████████████████████████████████████████████████████████████████████████████████████████▏                                           | 15/19 [00:04<00:01,  3.02it/s]"
     ]
    },
    {
     "name": "stdout",
     "output_type": "stream",
     "text": [
      "epoch 38 Train set - loss: 0.311, accuracy: 0.902 Val  set - loss: 0.308, Val accuracy: 0.91\n",
      "        \n"
     ]
    },
    {
     "name": "stderr",
     "output_type": "stream",
     "text": [
      "\r",
      " 84%|███████████████████████████████████████████████████████████████████████████████████████████████████████████████████████████████████████████████████████████████████████████████▏                                | 16/19 [00:05<00:01,  2.98it/s]"
     ]
    },
    {
     "name": "stdout",
     "output_type": "stream",
     "text": [
      "epoch 38 Train set - loss: 0.339, accuracy: 0.883 Val  set - loss: 0.282, Val accuracy: 0.918\n",
      "        \n"
     ]
    },
    {
     "name": "stderr",
     "output_type": "stream",
     "text": [
      "\r",
      " 89%|██████████████████████████████████████████████████████████████████████████████████████████████████████████████████████████████████████████████████████████████████████████████████████████                      | 17/19 [00:05<00:00,  2.96it/s]"
     ]
    },
    {
     "name": "stdout",
     "output_type": "stream",
     "text": [
      "epoch 38 Train set - loss: 0.31, accuracy: 0.898 Val  set - loss: 0.32, Val accuracy: 0.902\n",
      "        \n"
     ]
    },
    {
     "name": "stderr",
     "output_type": "stream",
     "text": [
      "\r",
      " 95%|█████████████████████████████████████████████████████████████████████████████████████████████████████████████████████████████████████████████████████████████████████████████████████████████████████           | 18/19 [00:05<00:00,  2.91it/s]"
     ]
    },
    {
     "name": "stdout",
     "output_type": "stream",
     "text": [
      "epoch 38 Train set - loss: 0.314, accuracy: 0.893 Val  set - loss: 0.392, Val accuracy: 0.871\n",
      "        \n"
     ]
    },
    {
     "name": "stderr",
     "output_type": "stream",
     "text": [
      "100%|████████████████████████████████████████████████████████████████████████████████████████████████████████████████████████████████████████████████████████████████████████████████████████████████████████████████| 19/19 [00:06<00:00,  3.10it/s]\n"
     ]
    },
    {
     "name": "stdout",
     "output_type": "stream",
     "text": [
      "epoch 38 Train set - loss: 0.313, accuracy: 0.9 Val  set - loss: 0.321, Val accuracy: 0.906\n",
      "        \n"
     ]
    },
    {
     "name": "stderr",
     "output_type": "stream",
     "text": [
      "100%|████████████████████████████████████████████████████████████████████████████████████████████████████████████████████████████████████████████████████████████████████████████████████████████████████████████████| 19/19 [00:04<00:00,  4.26it/s]\n",
      "  5%|███████████                                                                                                                                                                                                      | 1/19 [00:00<00:05,  3.03it/s]"
     ]
    },
    {
     "name": "stdout",
     "output_type": "stream",
     "text": [
      "epoch 40 Train set - loss: 0.264, accuracy: 0.924 Val  set - loss: 0.333, Val accuracy: 0.896\n",
      "        \n"
     ]
    },
    {
     "name": "stderr",
     "output_type": "stream",
     "text": [
      "\r",
      " 11%|██████████████████████                                                                                                                                                                                           | 2/19 [00:00<00:05,  3.17it/s]"
     ]
    },
    {
     "name": "stdout",
     "output_type": "stream",
     "text": [
      "epoch 40 Train set - loss: 0.337, accuracy: 0.887 Val  set - loss: 0.391, Val accuracy: 0.873\n",
      "        \n"
     ]
    },
    {
     "name": "stderr",
     "output_type": "stream",
     "text": [
      "\r",
      " 16%|█████████████████████████████████                                                                                                                                                                                | 3/19 [00:00<00:05,  3.13it/s]"
     ]
    },
    {
     "name": "stdout",
     "output_type": "stream",
     "text": [
      "epoch 40 Train set - loss: 0.297, accuracy: 0.906 Val  set - loss: 0.33, Val accuracy: 0.9\n",
      "        \n"
     ]
    },
    {
     "name": "stderr",
     "output_type": "stream",
     "text": [
      "\r",
      " 21%|████████████████████████████████████████████                                                                                                                                                                     | 4/19 [00:01<00:04,  3.02it/s]"
     ]
    },
    {
     "name": "stdout",
     "output_type": "stream",
     "text": [
      "epoch 40 Train set - loss: 0.351, accuracy: 0.881 Val  set - loss: 0.324, Val accuracy: 0.9\n",
      "        \n"
     ]
    },
    {
     "name": "stderr",
     "output_type": "stream",
     "text": [
      "\r",
      " 26%|███████████████████████████████████████████████████████                                                                                                                                                          | 5/19 [00:01<00:04,  2.92it/s]"
     ]
    },
    {
     "name": "stdout",
     "output_type": "stream",
     "text": [
      "epoch 40 Train set - loss: 0.255, accuracy: 0.924 Val  set - loss: 0.36, Val accuracy: 0.885\n",
      "        \n"
     ]
    },
    {
     "name": "stderr",
     "output_type": "stream",
     "text": [
      "\r",
      " 32%|██████████████████████████████████████████████████████████████████                                                                                                                                               | 6/19 [00:02<00:04,  2.82it/s]"
     ]
    },
    {
     "name": "stdout",
     "output_type": "stream",
     "text": [
      "epoch 40 Train set - loss: 0.328, accuracy: 0.891 Val  set - loss: 0.333, Val accuracy: 0.9\n",
      "        \n"
     ]
    },
    {
     "name": "stderr",
     "output_type": "stream",
     "text": [
      "\r",
      " 37%|█████████████████████████████████████████████████████████████████████████████                                                                                                                                    | 7/19 [00:02<00:04,  2.85it/s]"
     ]
    },
    {
     "name": "stdout",
     "output_type": "stream",
     "text": [
      "epoch 40 Train set - loss: 0.283, accuracy: 0.912 Val  set - loss: 0.329, Val accuracy: 0.898\n",
      "        \n"
     ]
    },
    {
     "name": "stderr",
     "output_type": "stream",
     "text": [
      "\r",
      " 42%|████████████████████████████████████████████████████████████████████████████████████████                                                                                                                         | 8/19 [00:02<00:03,  2.92it/s]"
     ]
    },
    {
     "name": "stdout",
     "output_type": "stream",
     "text": [
      "epoch 40 Train set - loss: 0.332, accuracy: 0.889 Val  set - loss: 0.276, Val accuracy: 0.926\n",
      "        \n"
     ]
    },
    {
     "name": "stderr",
     "output_type": "stream",
     "text": [
      "\r",
      " 47%|███████████████████████████████████████████████████████████████████████████████████████████████████                                                                                                              | 9/19 [00:03<00:03,  2.95it/s]"
     ]
    },
    {
     "name": "stdout",
     "output_type": "stream",
     "text": [
      "epoch 40 Train set - loss: 0.328, accuracy: 0.891 Val  set - loss: 0.37, Val accuracy: 0.881\n",
      "        \n"
     ]
    },
    {
     "name": "stderr",
     "output_type": "stream",
     "text": [
      "\r",
      " 53%|█████████████████████████████████████████████████████████████████████████████████████████████████████████████▍                                                                                                  | 10/19 [00:03<00:03,  2.95it/s]"
     ]
    },
    {
     "name": "stdout",
     "output_type": "stream",
     "text": [
      "epoch 40 Train set - loss: 0.31, accuracy: 0.9 Val  set - loss: 0.392, Val accuracy: 0.871\n",
      "        \n"
     ]
    },
    {
     "name": "stderr",
     "output_type": "stream",
     "text": [
      "\r",
      " 58%|████████████████████████████████████████████████████████████████████████████████████████████████████████████████████████▍                                                                                       | 11/19 [00:03<00:02,  2.97it/s]"
     ]
    },
    {
     "name": "stdout",
     "output_type": "stream",
     "text": [
      "epoch 40 Train set - loss: 0.331, accuracy: 0.891 Val  set - loss: 0.306, Val accuracy: 0.908\n",
      "        \n"
     ]
    },
    {
     "name": "stderr",
     "output_type": "stream",
     "text": [
      "\r",
      " 63%|███████████████████████████████████████████████████████████████████████████████████████████████████████████████████████████████████▎                                                                            | 12/19 [00:04<00:02,  3.03it/s]"
     ]
    },
    {
     "name": "stdout",
     "output_type": "stream",
     "text": [
      "epoch 40 Train set - loss: 0.3, accuracy: 0.906 Val  set - loss: 0.313, Val accuracy: 0.906\n",
      "        \n"
     ]
    },
    {
     "name": "stderr",
     "output_type": "stream",
     "text": [
      "\r",
      " 68%|██████████████████████████████████████████████████████████████████████████████████████████████████████████████████████████████████████████████▎                                                                 | 13/19 [00:04<00:01,  3.08it/s]"
     ]
    },
    {
     "name": "stdout",
     "output_type": "stream",
     "text": [
      "epoch 40 Train set - loss: 0.351, accuracy: 0.879 Val  set - loss: 0.257, Val accuracy: 0.932\n",
      "        \n"
     ]
    },
    {
     "name": "stderr",
     "output_type": "stream",
     "text": [
      "\r",
      " 74%|█████████████████████████████████████████████████████████████████████████████████████████████████████████████████████████████████████████████████████████▎                                                      | 14/19 [00:04<00:01,  3.12it/s]"
     ]
    },
    {
     "name": "stdout",
     "output_type": "stream",
     "text": [
      "epoch 40 Train set - loss: 0.285, accuracy: 0.908 Val  set - loss: 0.379, Val accuracy: 0.881\n",
      "        \n"
     ]
    },
    {
     "name": "stderr",
     "output_type": "stream",
     "text": [
      "\r",
      " 79%|████████████████████████████████████████████████████████████████████████████████████████████████████████████████████████████████████████████████████████████████████▏                                           | 15/19 [00:04<00:01,  3.12it/s]"
     ]
    },
    {
     "name": "stdout",
     "output_type": "stream",
     "text": [
      "epoch 40 Train set - loss: 0.311, accuracy: 0.902 Val  set - loss: 0.336, Val accuracy: 0.896\n",
      "        \n"
     ]
    },
    {
     "name": "stderr",
     "output_type": "stream",
     "text": [
      "\r",
      " 84%|███████████████████████████████████████████████████████████████████████████████████████████████████████████████████████████████████████████████████████████████████████████████▏                                | 16/19 [00:05<00:00,  3.15it/s]"
     ]
    },
    {
     "name": "stdout",
     "output_type": "stream",
     "text": [
      "epoch 40 Train set - loss: 0.339, accuracy: 0.883 Val  set - loss: 0.348, Val accuracy: 0.893\n",
      "        \n"
     ]
    },
    {
     "name": "stderr",
     "output_type": "stream",
     "text": [
      "\r",
      " 89%|██████████████████████████████████████████████████████████████████████████████████████████████████████████████████████████████████████████████████████████████████████████████████████████                      | 17/19 [00:05<00:00,  3.17it/s]"
     ]
    },
    {
     "name": "stdout",
     "output_type": "stream",
     "text": [
      "epoch 40 Train set - loss: 0.31, accuracy: 0.898 Val  set - loss: 0.328, Val accuracy: 0.902\n",
      "        \n"
     ]
    },
    {
     "name": "stderr",
     "output_type": "stream",
     "text": [
      "\r",
      " 95%|█████████████████████████████████████████████████████████████████████████████████████████████████████████████████████████████████████████████████████████████████████████████████████████████████████           | 18/19 [00:05<00:00,  3.14it/s]"
     ]
    },
    {
     "name": "stdout",
     "output_type": "stream",
     "text": [
      "epoch 40 Train set - loss: 0.314, accuracy: 0.893 Val  set - loss: 0.326, Val accuracy: 0.902\n",
      "        \n"
     ]
    },
    {
     "name": "stderr",
     "output_type": "stream",
     "text": [
      "100%|████████████████████████████████████████████████████████████████████████████████████████████████████████████████████████████████████████████████████████████████████████████████████████████████████████████████| 19/19 [00:06<00:00,  3.09it/s]\n"
     ]
    },
    {
     "name": "stdout",
     "output_type": "stream",
     "text": [
      "epoch 40 Train set - loss: 0.313, accuracy: 0.9 Val  set - loss: 0.334, Val accuracy: 0.902\n",
      "        \n"
     ]
    },
    {
     "name": "stderr",
     "output_type": "stream",
     "text": [
      "100%|████████████████████████████████████████████████████████████████████████████████████████████████████████████████████████████████████████████████████████████████████████████████████████████████████████████████| 19/19 [00:04<00:00,  4.36it/s]\n",
      "  5%|███████████                                                                                                                                                                                                      | 1/19 [00:00<00:06,  2.87it/s]"
     ]
    },
    {
     "name": "stdout",
     "output_type": "stream",
     "text": [
      "epoch 42 Train set - loss: 0.264, accuracy: 0.924 Val  set - loss: 0.321, Val accuracy: 0.904\n",
      "        \n"
     ]
    },
    {
     "name": "stderr",
     "output_type": "stream",
     "text": [
      "\r",
      " 11%|██████████████████████                                                                                                                                                                                           | 2/19 [00:00<00:05,  2.88it/s]"
     ]
    },
    {
     "name": "stdout",
     "output_type": "stream",
     "text": [
      "epoch 42 Train set - loss: 0.337, accuracy: 0.887 Val  set - loss: 0.324, Val accuracy: 0.902\n",
      "        \n"
     ]
    },
    {
     "name": "stderr",
     "output_type": "stream",
     "text": [
      "\r",
      " 16%|█████████████████████████████████                                                                                                                                                                                | 3/19 [00:01<00:05,  2.92it/s]"
     ]
    },
    {
     "name": "stdout",
     "output_type": "stream",
     "text": [
      "epoch 42 Train set - loss: 0.297, accuracy: 0.906 Val  set - loss: 0.348, Val accuracy: 0.893\n",
      "        \n"
     ]
    },
    {
     "name": "stderr",
     "output_type": "stream",
     "text": [
      "\r",
      " 21%|████████████████████████████████████████████                                                                                                                                                                     | 4/19 [00:01<00:05,  2.99it/s]"
     ]
    },
    {
     "name": "stdout",
     "output_type": "stream",
     "text": [
      "epoch 42 Train set - loss: 0.351, accuracy: 0.881 Val  set - loss: 0.321, Val accuracy: 0.904\n",
      "        \n"
     ]
    },
    {
     "name": "stderr",
     "output_type": "stream",
     "text": [
      "\r",
      " 26%|███████████████████████████████████████████████████████                                                                                                                                                          | 5/19 [00:01<00:04,  3.01it/s]"
     ]
    },
    {
     "name": "stdout",
     "output_type": "stream",
     "text": [
      "epoch 42 Train set - loss: 0.255, accuracy: 0.924 Val  set - loss: 0.353, Val accuracy: 0.893\n",
      "        \n"
     ]
    },
    {
     "name": "stderr",
     "output_type": "stream",
     "text": [
      "\r",
      " 32%|██████████████████████████████████████████████████████████████████                                                                                                                                               | 6/19 [00:02<00:04,  3.03it/s]"
     ]
    },
    {
     "name": "stdout",
     "output_type": "stream",
     "text": [
      "epoch 42 Train set - loss: 0.328, accuracy: 0.891 Val  set - loss: 0.287, Val accuracy: 0.92\n",
      "        \n"
     ]
    },
    {
     "name": "stderr",
     "output_type": "stream",
     "text": [
      "\r",
      " 37%|█████████████████████████████████████████████████████████████████████████████                                                                                                                                    | 7/19 [00:02<00:03,  3.02it/s]"
     ]
    },
    {
     "name": "stdout",
     "output_type": "stream",
     "text": [
      "epoch 42 Train set - loss: 0.283, accuracy: 0.912 Val  set - loss: 0.369, Val accuracy: 0.883\n",
      "        \n"
     ]
    },
    {
     "name": "stderr",
     "output_type": "stream",
     "text": [
      "\r",
      " 42%|████████████████████████████████████████████████████████████████████████████████████████                                                                                                                         | 8/19 [00:02<00:03,  3.03it/s]"
     ]
    },
    {
     "name": "stdout",
     "output_type": "stream",
     "text": [
      "epoch 42 Train set - loss: 0.332, accuracy: 0.889 Val  set - loss: 0.321, Val accuracy: 0.904\n",
      "        \n"
     ]
    },
    {
     "name": "stderr",
     "output_type": "stream",
     "text": [
      "\r",
      " 47%|███████████████████████████████████████████████████████████████████████████████████████████████████                                                                                                              | 9/19 [00:03<00:03,  3.02it/s]"
     ]
    },
    {
     "name": "stdout",
     "output_type": "stream",
     "text": [
      "epoch 42 Train set - loss: 0.328, accuracy: 0.891 Val  set - loss: 0.367, Val accuracy: 0.883\n",
      "        \n"
     ]
    },
    {
     "name": "stderr",
     "output_type": "stream",
     "text": [
      "\r",
      " 53%|█████████████████████████████████████████████████████████████████████████████████████████████████████████████▍                                                                                                  | 10/19 [00:03<00:02,  3.04it/s]"
     ]
    },
    {
     "name": "stdout",
     "output_type": "stream",
     "text": [
      "epoch 42 Train set - loss: 0.31, accuracy: 0.9 Val  set - loss: 0.328, Val accuracy: 0.898\n",
      "        \n"
     ]
    },
    {
     "name": "stderr",
     "output_type": "stream",
     "text": [
      "\r",
      " 58%|████████████████████████████████████████████████████████████████████████████████████████████████████████████████████████▍                                                                                       | 11/19 [00:03<00:02,  3.08it/s]"
     ]
    },
    {
     "name": "stdout",
     "output_type": "stream",
     "text": [
      "epoch 42 Train set - loss: 0.331, accuracy: 0.891 Val  set - loss: 0.305, Val accuracy: 0.912\n",
      "        \n"
     ]
    },
    {
     "name": "stderr",
     "output_type": "stream",
     "text": [
      "\r",
      " 63%|███████████████████████████████████████████████████████████████████████████████████████████████████████████████████████████████████▎                                                                            | 12/19 [00:03<00:02,  3.09it/s]"
     ]
    },
    {
     "name": "stdout",
     "output_type": "stream",
     "text": [
      "epoch 42 Train set - loss: 0.3, accuracy: 0.906 Val  set - loss: 0.377, Val accuracy: 0.881\n",
      "        \n"
     ]
    },
    {
     "name": "stderr",
     "output_type": "stream",
     "text": [
      "\r",
      " 68%|██████████████████████████████████████████████████████████████████████████████████████████████████████████████████████████████████████████████▎                                                                 | 13/19 [00:04<00:01,  3.10it/s]"
     ]
    },
    {
     "name": "stdout",
     "output_type": "stream",
     "text": [
      "epoch 42 Train set - loss: 0.351, accuracy: 0.879 Val  set - loss: 0.369, Val accuracy: 0.881\n",
      "        \n"
     ]
    },
    {
     "name": "stderr",
     "output_type": "stream",
     "text": [
      "\r",
      " 74%|█████████████████████████████████████████████████████████████████████████████████████████████████████████████████████████████████████████████████████████▎                                                      | 14/19 [00:04<00:01,  3.03it/s]"
     ]
    },
    {
     "name": "stdout",
     "output_type": "stream",
     "text": [
      "epoch 42 Train set - loss: 0.285, accuracy: 0.908 Val  set - loss: 0.374, Val accuracy: 0.881\n",
      "        \n"
     ]
    },
    {
     "name": "stderr",
     "output_type": "stream",
     "text": [
      "\r",
      " 79%|████████████████████████████████████████████████████████████████████████████████████████████████████████████████████████████████████████████████████████████████████▏                                           | 15/19 [00:04<00:01,  3.05it/s]"
     ]
    },
    {
     "name": "stdout",
     "output_type": "stream",
     "text": [
      "epoch 42 Train set - loss: 0.31, accuracy: 0.902 Val  set - loss: 0.307, Val accuracy: 0.912\n",
      "        \n"
     ]
    },
    {
     "name": "stderr",
     "output_type": "stream",
     "text": [
      "\r",
      " 84%|███████████████████████████████████████████████████████████████████████████████████████████████████████████████████████████████████████████████████████████████████████████████▏                                | 16/19 [00:05<00:00,  3.06it/s]"
     ]
    },
    {
     "name": "stdout",
     "output_type": "stream",
     "text": [
      "epoch 42 Train set - loss: 0.339, accuracy: 0.883 Val  set - loss: 0.338, Val accuracy: 0.898\n",
      "        \n"
     ]
    },
    {
     "name": "stderr",
     "output_type": "stream",
     "text": [
      "\r",
      " 89%|██████████████████████████████████████████████████████████████████████████████████████████████████████████████████████████████████████████████████████████████████████████████████████████                      | 17/19 [00:05<00:00,  3.09it/s]"
     ]
    },
    {
     "name": "stdout",
     "output_type": "stream",
     "text": [
      "epoch 42 Train set - loss: 0.31, accuracy: 0.898 Val  set - loss: 0.332, Val accuracy: 0.898\n",
      "        \n"
     ]
    },
    {
     "name": "stderr",
     "output_type": "stream",
     "text": [
      "\r",
      " 95%|█████████████████████████████████████████████████████████████████████████████████████████████████████████████████████████████████████████████████████████████████████████████████████████████████████           | 18/19 [00:05<00:00,  3.08it/s]"
     ]
    },
    {
     "name": "stdout",
     "output_type": "stream",
     "text": [
      "epoch 42 Train set - loss: 0.314, accuracy: 0.893 Val  set - loss: 0.366, Val accuracy: 0.883\n",
      "        \n"
     ]
    },
    {
     "name": "stderr",
     "output_type": "stream",
     "text": [
      "100%|████████████████████████████████████████████████████████████████████████████████████████████████████████████████████████████████████████████████████████████████████████████████████████████████████████████████| 19/19 [00:06<00:00,  3.09it/s]\n"
     ]
    },
    {
     "name": "stdout",
     "output_type": "stream",
     "text": [
      "epoch 42 Train set - loss: 0.313, accuracy: 0.9 Val  set - loss: 0.322, Val accuracy: 0.902\n",
      "        \n"
     ]
    },
    {
     "name": "stderr",
     "output_type": "stream",
     "text": [
      "100%|████████████████████████████████████████████████████████████████████████████████████████████████████████████████████████████████████████████████████████████████████████████████████████████████████████████████| 19/19 [00:04<00:00,  4.26it/s]\n",
      "  5%|███████████                                                                                                                                                                                                      | 1/19 [00:00<00:05,  3.02it/s]"
     ]
    },
    {
     "name": "stdout",
     "output_type": "stream",
     "text": [
      "epoch 44 Train set - loss: 0.264, accuracy: 0.924 Val  set - loss: 0.311, Val accuracy: 0.908\n",
      "        \n"
     ]
    },
    {
     "name": "stderr",
     "output_type": "stream",
     "text": [
      "\r",
      " 11%|██████████████████████                                                                                                                                                                                           | 2/19 [00:00<00:05,  2.98it/s]"
     ]
    },
    {
     "name": "stdout",
     "output_type": "stream",
     "text": [
      "epoch 44 Train set - loss: 0.337, accuracy: 0.887 Val  set - loss: 0.371, Val accuracy: 0.879\n",
      "        \n"
     ]
    },
    {
     "name": "stderr",
     "output_type": "stream",
     "text": [
      "\r",
      " 16%|█████████████████████████████████                                                                                                                                                                                | 3/19 [00:00<00:05,  3.03it/s]"
     ]
    },
    {
     "name": "stdout",
     "output_type": "stream",
     "text": [
      "epoch 44 Train set - loss: 0.297, accuracy: 0.906 Val  set - loss: 0.322, Val accuracy: 0.904\n",
      "        \n"
     ]
    },
    {
     "name": "stderr",
     "output_type": "stream",
     "text": [
      "\r",
      " 21%|████████████████████████████████████████████                                                                                                                                                                     | 4/19 [00:01<00:04,  3.04it/s]"
     ]
    },
    {
     "name": "stdout",
     "output_type": "stream",
     "text": [
      "epoch 44 Train set - loss: 0.351, accuracy: 0.881 Val  set - loss: 0.326, Val accuracy: 0.902\n",
      "        \n"
     ]
    },
    {
     "name": "stderr",
     "output_type": "stream",
     "text": [
      "\r",
      " 26%|███████████████████████████████████████████████████████                                                                                                                                                          | 5/19 [00:01<00:04,  3.03it/s]"
     ]
    },
    {
     "name": "stdout",
     "output_type": "stream",
     "text": [
      "epoch 44 Train set - loss: 0.255, accuracy: 0.924 Val  set - loss: 0.32, Val accuracy: 0.904\n",
      "        \n"
     ]
    },
    {
     "name": "stderr",
     "output_type": "stream",
     "text": [
      "\r",
      " 32%|██████████████████████████████████████████████████████████████████                                                                                                                                               | 6/19 [00:01<00:04,  3.07it/s]"
     ]
    },
    {
     "name": "stdout",
     "output_type": "stream",
     "text": [
      "epoch 44 Train set - loss: 0.328, accuracy: 0.891 Val  set - loss: 0.343, Val accuracy: 0.893\n",
      "        \n"
     ]
    },
    {
     "name": "stderr",
     "output_type": "stream",
     "text": [
      "\r",
      " 37%|█████████████████████████████████████████████████████████████████████████████                                                                                                                                    | 7/19 [00:02<00:03,  3.04it/s]"
     ]
    },
    {
     "name": "stdout",
     "output_type": "stream",
     "text": [
      "epoch 44 Train set - loss: 0.283, accuracy: 0.912 Val  set - loss: 0.32, Val accuracy: 0.904\n",
      "        \n"
     ]
    },
    {
     "name": "stderr",
     "output_type": "stream",
     "text": [
      "\r",
      " 42%|████████████████████████████████████████████████████████████████████████████████████████                                                                                                                         | 8/19 [00:02<00:03,  3.04it/s]"
     ]
    },
    {
     "name": "stdout",
     "output_type": "stream",
     "text": [
      "epoch 44 Train set - loss: 0.332, accuracy: 0.889 Val  set - loss: 0.279, Val accuracy: 0.922\n",
      "        \n"
     ]
    },
    {
     "name": "stderr",
     "output_type": "stream",
     "text": [
      "\r",
      " 47%|███████████████████████████████████████████████████████████████████████████████████████████████████                                                                                                              | 9/19 [00:02<00:03,  3.06it/s]"
     ]
    },
    {
     "name": "stdout",
     "output_type": "stream",
     "text": [
      "epoch 44 Train set - loss: 0.328, accuracy: 0.891 Val  set - loss: 0.32, Val accuracy: 0.902\n",
      "        \n"
     ]
    },
    {
     "name": "stderr",
     "output_type": "stream",
     "text": [
      "\r",
      " 53%|█████████████████████████████████████████████████████████████████████████████████████████████████████████████▍                                                                                                  | 10/19 [00:03<00:02,  3.10it/s]"
     ]
    },
    {
     "name": "stdout",
     "output_type": "stream",
     "text": [
      "epoch 44 Train set - loss: 0.31, accuracy: 0.9 Val  set - loss: 0.322, Val accuracy: 0.906\n",
      "        \n"
     ]
    },
    {
     "name": "stderr",
     "output_type": "stream",
     "text": [
      "\r",
      " 58%|████████████████████████████████████████████████████████████████████████████████████████████████████████████████████████▍                                                                                       | 11/19 [00:03<00:02,  3.07it/s]"
     ]
    },
    {
     "name": "stdout",
     "output_type": "stream",
     "text": [
      "epoch 44 Train set - loss: 0.331, accuracy: 0.891 Val  set - loss: 0.304, Val accuracy: 0.912\n",
      "        \n"
     ]
    },
    {
     "name": "stderr",
     "output_type": "stream",
     "text": [
      "\r",
      " 63%|███████████████████████████████████████████████████████████████████████████████████████████████████████████████████████████████████▎                                                                            | 12/19 [00:03<00:02,  3.07it/s]"
     ]
    },
    {
     "name": "stdout",
     "output_type": "stream",
     "text": [
      "epoch 44 Train set - loss: 0.3, accuracy: 0.906 Val  set - loss: 0.367, Val accuracy: 0.887\n",
      "        \n"
     ]
    },
    {
     "name": "stderr",
     "output_type": "stream",
     "text": [
      "\r",
      " 68%|██████████████████████████████████████████████████████████████████████████████████████████████████████████████████████████████████████████████▎                                                                 | 13/19 [00:04<00:01,  3.06it/s]"
     ]
    },
    {
     "name": "stdout",
     "output_type": "stream",
     "text": [
      "epoch 44 Train set - loss: 0.351, accuracy: 0.879 Val  set - loss: 0.344, Val accuracy: 0.895\n",
      "        \n"
     ]
    },
    {
     "name": "stderr",
     "output_type": "stream",
     "text": [
      "\r",
      " 74%|█████████████████████████████████████████████████████████████████████████████████████████████████████████████████████████████████████████████████████████▎                                                      | 14/19 [00:04<00:01,  3.01it/s]"
     ]
    },
    {
     "name": "stdout",
     "output_type": "stream",
     "text": [
      "epoch 44 Train set - loss: 0.285, accuracy: 0.908 Val  set - loss: 0.345, Val accuracy: 0.893\n",
      "        \n"
     ]
    },
    {
     "name": "stderr",
     "output_type": "stream",
     "text": [
      "\r",
      " 79%|████████████████████████████████████████████████████████████████████████████████████████████████████████████████████████████████████████████████████████████████████▏                                           | 15/19 [00:04<00:01,  2.94it/s]"
     ]
    },
    {
     "name": "stdout",
     "output_type": "stream",
     "text": [
      "epoch 44 Train set - loss: 0.31, accuracy: 0.902 Val  set - loss: 0.271, Val accuracy: 0.926\n",
      "        \n"
     ]
    },
    {
     "name": "stderr",
     "output_type": "stream",
     "text": [
      "\r",
      " 84%|███████████████████████████████████████████████████████████████████████████████████████████████████████████████████████████████████████████████████████████████████████████████▏                                | 16/19 [00:05<00:01,  2.91it/s]"
     ]
    },
    {
     "name": "stdout",
     "output_type": "stream",
     "text": [
      "epoch 44 Train set - loss: 0.339, accuracy: 0.883 Val  set - loss: 0.358, Val accuracy: 0.887\n",
      "        \n"
     ]
    },
    {
     "name": "stderr",
     "output_type": "stream",
     "text": [
      "\r",
      " 89%|██████████████████████████████████████████████████████████████████████████████████████████████████████████████████████████████████████████████████████████████████████████████████████████                      | 17/19 [00:05<00:00,  2.93it/s]"
     ]
    },
    {
     "name": "stdout",
     "output_type": "stream",
     "text": [
      "epoch 44 Train set - loss: 0.31, accuracy: 0.898 Val  set - loss: 0.378, Val accuracy: 0.879\n",
      "        \n"
     ]
    },
    {
     "name": "stderr",
     "output_type": "stream",
     "text": [
      "\r",
      " 95%|█████████████████████████████████████████████████████████████████████████████████████████████████████████████████████████████████████████████████████████████████████████████████████████████████████           | 18/19 [00:05<00:00,  2.91it/s]"
     ]
    },
    {
     "name": "stdout",
     "output_type": "stream",
     "text": [
      "epoch 44 Train set - loss: 0.314, accuracy: 0.893 Val  set - loss: 0.356, Val accuracy: 0.887\n",
      "        \n"
     ]
    },
    {
     "name": "stderr",
     "output_type": "stream",
     "text": [
      "100%|████████████████████████████████████████████████████████████████████████████████████████████████████████████████████████████████████████████████████████████████████████████████████████████████████████████████| 19/19 [00:06<00:00,  3.04it/s]\n"
     ]
    },
    {
     "name": "stdout",
     "output_type": "stream",
     "text": [
      "epoch 44 Train set - loss: 0.313, accuracy: 0.9 Val  set - loss: 0.389, Val accuracy: 0.877\n",
      "        \n"
     ]
    },
    {
     "name": "stderr",
     "output_type": "stream",
     "text": [
      "100%|████████████████████████████████████████████████████████████████████████████████████████████████████████████████████████████████████████████████████████████████████████████████████████████████████████████████| 19/19 [00:04<00:00,  4.32it/s]\n",
      "  5%|███████████                                                                                                                                                                                                      | 1/19 [00:00<00:05,  3.18it/s]"
     ]
    },
    {
     "name": "stdout",
     "output_type": "stream",
     "text": [
      "epoch 46 Train set - loss: 0.264, accuracy: 0.924 Val  set - loss: 0.294, Val accuracy: 0.914\n",
      "        \n"
     ]
    },
    {
     "name": "stderr",
     "output_type": "stream",
     "text": [
      "\r",
      " 11%|██████████████████████                                                                                                                                                                                           | 2/19 [00:00<00:05,  3.08it/s]"
     ]
    },
    {
     "name": "stdout",
     "output_type": "stream",
     "text": [
      "epoch 46 Train set - loss: 0.337, accuracy: 0.887 Val  set - loss: 0.33, Val accuracy: 0.898\n",
      "        \n"
     ]
    },
    {
     "name": "stderr",
     "output_type": "stream",
     "text": [
      "\r",
      " 16%|█████████████████████████████████                                                                                                                                                                                | 3/19 [00:00<00:05,  3.10it/s]"
     ]
    },
    {
     "name": "stdout",
     "output_type": "stream",
     "text": [
      "epoch 46 Train set - loss: 0.297, accuracy: 0.906 Val  set - loss: 0.398, Val accuracy: 0.869\n",
      "        \n"
     ]
    },
    {
     "name": "stderr",
     "output_type": "stream",
     "text": [
      "\r",
      " 21%|████████████████████████████████████████████                                                                                                                                                                     | 4/19 [00:01<00:04,  3.11it/s]"
     ]
    },
    {
     "name": "stdout",
     "output_type": "stream",
     "text": [
      "epoch 46 Train set - loss: 0.351, accuracy: 0.881 Val  set - loss: 0.326, Val accuracy: 0.9\n",
      "        \n"
     ]
    },
    {
     "name": "stderr",
     "output_type": "stream",
     "text": [
      "\r",
      " 26%|███████████████████████████████████████████████████████                                                                                                                                                          | 5/19 [00:01<00:04,  3.13it/s]"
     ]
    },
    {
     "name": "stdout",
     "output_type": "stream",
     "text": [
      "epoch 46 Train set - loss: 0.255, accuracy: 0.924 Val  set - loss: 0.354, Val accuracy: 0.889\n",
      "        \n"
     ]
    },
    {
     "name": "stderr",
     "output_type": "stream",
     "text": [
      "\r",
      " 32%|██████████████████████████████████████████████████████████████████                                                                                                                                               | 6/19 [00:01<00:04,  3.13it/s]"
     ]
    },
    {
     "name": "stdout",
     "output_type": "stream",
     "text": [
      "epoch 46 Train set - loss: 0.328, accuracy: 0.891 Val  set - loss: 0.367, Val accuracy: 0.885\n",
      "        \n"
     ]
    },
    {
     "name": "stderr",
     "output_type": "stream",
     "text": [
      "\r",
      " 37%|█████████████████████████████████████████████████████████████████████████████                                                                                                                                    | 7/19 [00:02<00:03,  3.02it/s]"
     ]
    },
    {
     "name": "stdout",
     "output_type": "stream",
     "text": [
      "epoch 46 Train set - loss: 0.283, accuracy: 0.912 Val  set - loss: 0.349, Val accuracy: 0.889\n",
      "        \n"
     ]
    },
    {
     "name": "stderr",
     "output_type": "stream",
     "text": [
      "\r",
      " 42%|████████████████████████████████████████████████████████████████████████████████████████                                                                                                                         | 8/19 [00:02<00:03,  2.99it/s]"
     ]
    },
    {
     "name": "stdout",
     "output_type": "stream",
     "text": [
      "epoch 46 Train set - loss: 0.332, accuracy: 0.889 Val  set - loss: 0.329, Val accuracy: 0.9\n",
      "        \n"
     ]
    },
    {
     "name": "stderr",
     "output_type": "stream",
     "text": [
      "\r",
      " 47%|███████████████████████████████████████████████████████████████████████████████████████████████████                                                                                                              | 9/19 [00:02<00:03,  2.96it/s]"
     ]
    },
    {
     "name": "stdout",
     "output_type": "stream",
     "text": [
      "epoch 46 Train set - loss: 0.328, accuracy: 0.891 Val  set - loss: 0.335, Val accuracy: 0.896\n",
      "        \n"
     ]
    },
    {
     "name": "stderr",
     "output_type": "stream",
     "text": [
      "\r",
      " 53%|█████████████████████████████████████████████████████████████████████████████████████████████████████████████▍                                                                                                  | 10/19 [00:03<00:02,  3.02it/s]"
     ]
    },
    {
     "name": "stdout",
     "output_type": "stream",
     "text": [
      "epoch 46 Train set - loss: 0.31, accuracy: 0.9 Val  set - loss: 0.367, Val accuracy: 0.887\n",
      "        \n"
     ]
    },
    {
     "name": "stderr",
     "output_type": "stream",
     "text": [
      "\r",
      " 58%|████████████████████████████████████████████████████████████████████████████████████████████████████████████████████████▍                                                                                       | 11/19 [00:03<00:02,  3.05it/s]"
     ]
    },
    {
     "name": "stdout",
     "output_type": "stream",
     "text": [
      "epoch 46 Train set - loss: 0.331, accuracy: 0.891 Val  set - loss: 0.344, Val accuracy: 0.895\n",
      "        \n"
     ]
    },
    {
     "name": "stderr",
     "output_type": "stream",
     "text": [
      "\r",
      " 63%|███████████████████████████████████████████████████████████████████████████████████████████████████████████████████████████████████▎                                                                            | 12/19 [00:03<00:02,  3.01it/s]"
     ]
    },
    {
     "name": "stdout",
     "output_type": "stream",
     "text": [
      "epoch 46 Train set - loss: 0.3, accuracy: 0.906 Val  set - loss: 0.338, Val accuracy: 0.896\n",
      "        \n"
     ]
    },
    {
     "name": "stderr",
     "output_type": "stream",
     "text": [
      "\r",
      " 68%|██████████████████████████████████████████████████████████████████████████████████████████████████████████████████████████████████████████████▎                                                                 | 13/19 [00:04<00:02,  2.91it/s]"
     ]
    },
    {
     "name": "stdout",
     "output_type": "stream",
     "text": [
      "epoch 46 Train set - loss: 0.351, accuracy: 0.879 Val  set - loss: 0.299, Val accuracy: 0.914\n",
      "        \n"
     ]
    },
    {
     "name": "stderr",
     "output_type": "stream",
     "text": [
      "\r",
      " 74%|█████████████████████████████████████████████████████████████████████████████████████████████████████████████████████████████████████████████████████████▎                                                      | 14/19 [00:04<00:01,  2.90it/s]"
     ]
    },
    {
     "name": "stdout",
     "output_type": "stream",
     "text": [
      "epoch 46 Train set - loss: 0.285, accuracy: 0.908 Val  set - loss: 0.356, Val accuracy: 0.887\n",
      "        \n"
     ]
    },
    {
     "name": "stderr",
     "output_type": "stream",
     "text": [
      "\r",
      " 79%|████████████████████████████████████████████████████████████████████████████████████████████████████████████████████████████████████████████████████████████████████▏                                           | 15/19 [00:05<00:01,  2.90it/s]"
     ]
    },
    {
     "name": "stdout",
     "output_type": "stream",
     "text": [
      "epoch 46 Train set - loss: 0.31, accuracy: 0.902 Val  set - loss: 0.334, Val accuracy: 0.898\n",
      "        \n"
     ]
    },
    {
     "name": "stderr",
     "output_type": "stream",
     "text": [
      "\r",
      " 84%|███████████████████████████████████████████████████████████████████████████████████████████████████████████████████████████████████████████████████████████████████████████████▏                                | 16/19 [00:05<00:01,  2.92it/s]"
     ]
    },
    {
     "name": "stdout",
     "output_type": "stream",
     "text": [
      "epoch 46 Train set - loss: 0.339, accuracy: 0.883 Val  set - loss: 0.337, Val accuracy: 0.898\n",
      "        \n"
     ]
    },
    {
     "name": "stderr",
     "output_type": "stream",
     "text": [
      "\r",
      " 89%|██████████████████████████████████████████████████████████████████████████████████████████████████████████████████████████████████████████████████████████████████████████████████████████                      | 17/19 [00:05<00:00,  2.83it/s]"
     ]
    },
    {
     "name": "stdout",
     "output_type": "stream",
     "text": [
      "epoch 46 Train set - loss: 0.31, accuracy: 0.898 Val  set - loss: 0.317, Val accuracy: 0.906\n",
      "        \n"
     ]
    },
    {
     "name": "stderr",
     "output_type": "stream",
     "text": [
      "\r",
      " 95%|█████████████████████████████████████████████████████████████████████████████████████████████████████████████████████████████████████████████████████████████████████████████████████████████████████           | 18/19 [00:06<00:00,  2.80it/s]"
     ]
    },
    {
     "name": "stdout",
     "output_type": "stream",
     "text": [
      "epoch 46 Train set - loss: 0.314, accuracy: 0.893 Val  set - loss: 0.313, Val accuracy: 0.908\n",
      "        \n"
     ]
    },
    {
     "name": "stderr",
     "output_type": "stream",
     "text": [
      "100%|████████████████████████████████████████████████████████████████████████████████████████████████████████████████████████████████████████████████████████████████████████████████████████████████████████████████| 19/19 [00:06<00:00,  2.99it/s]\n"
     ]
    },
    {
     "name": "stdout",
     "output_type": "stream",
     "text": [
      "epoch 46 Train set - loss: 0.313, accuracy: 0.9 Val  set - loss: 0.338, Val accuracy: 0.895\n",
      "        \n"
     ]
    },
    {
     "name": "stderr",
     "output_type": "stream",
     "text": [
      "100%|████████████████████████████████████████████████████████████████████████████████████████████████████████████████████████████████████████████████████████████████████████████████████████████████████████████████| 19/19 [00:04<00:00,  4.11it/s]\n",
      "  5%|███████████                                                                                                                                                                                                      | 1/19 [00:00<00:06,  2.75it/s]"
     ]
    },
    {
     "name": "stdout",
     "output_type": "stream",
     "text": [
      "epoch 48 Train set - loss: 0.264, accuracy: 0.924 Val  set - loss: 0.352, Val accuracy: 0.891\n",
      "        \n"
     ]
    },
    {
     "name": "stderr",
     "output_type": "stream",
     "text": [
      "\r",
      " 11%|██████████████████████                                                                                                                                                                                           | 2/19 [00:00<00:06,  2.83it/s]"
     ]
    },
    {
     "name": "stdout",
     "output_type": "stream",
     "text": [
      "epoch 48 Train set - loss: 0.337, accuracy: 0.887 Val  set - loss: 0.316, Val accuracy: 0.904\n",
      "        \n"
     ]
    },
    {
     "name": "stderr",
     "output_type": "stream",
     "text": [
      "\r",
      " 16%|█████████████████████████████████                                                                                                                                                                                | 3/19 [00:01<00:05,  2.91it/s]"
     ]
    },
    {
     "name": "stdout",
     "output_type": "stream",
     "text": [
      "epoch 48 Train set - loss: 0.297, accuracy: 0.906 Val  set - loss: 0.322, Val accuracy: 0.904\n",
      "        \n"
     ]
    },
    {
     "name": "stderr",
     "output_type": "stream",
     "text": [
      "\r",
      " 21%|████████████████████████████████████████████                                                                                                                                                                     | 4/19 [00:01<00:05,  2.91it/s]"
     ]
    },
    {
     "name": "stdout",
     "output_type": "stream",
     "text": [
      "epoch 48 Train set - loss: 0.351, accuracy: 0.881 Val  set - loss: 0.354, Val accuracy: 0.891\n",
      "        \n"
     ]
    },
    {
     "name": "stderr",
     "output_type": "stream",
     "text": [
      "\r",
      " 26%|███████████████████████████████████████████████████████                                                                                                                                                          | 5/19 [00:01<00:04,  2.95it/s]"
     ]
    },
    {
     "name": "stdout",
     "output_type": "stream",
     "text": [
      "epoch 48 Train set - loss: 0.255, accuracy: 0.924 Val  set - loss: 0.336, Val accuracy: 0.895\n",
      "        \n"
     ]
    },
    {
     "name": "stderr",
     "output_type": "stream",
     "text": [
      "\r",
      " 32%|██████████████████████████████████████████████████████████████████                                                                                                                                               | 6/19 [00:02<00:04,  3.01it/s]"
     ]
    },
    {
     "name": "stdout",
     "output_type": "stream",
     "text": [
      "epoch 48 Train set - loss: 0.328, accuracy: 0.891 Val  set - loss: 0.387, Val accuracy: 0.879\n",
      "        \n"
     ]
    },
    {
     "name": "stderr",
     "output_type": "stream",
     "text": [
      "\r",
      " 37%|█████████████████████████████████████████████████████████████████████████████                                                                                                                                    | 7/19 [00:02<00:03,  3.00it/s]"
     ]
    },
    {
     "name": "stdout",
     "output_type": "stream",
     "text": [
      "epoch 48 Train set - loss: 0.283, accuracy: 0.912 Val  set - loss: 0.369, Val accuracy: 0.883\n",
      "        \n"
     ]
    },
    {
     "name": "stderr",
     "output_type": "stream",
     "text": [
      "\r",
      " 42%|████████████████████████████████████████████████████████████████████████████████████████                                                                                                                         | 8/19 [00:02<00:03,  3.00it/s]"
     ]
    },
    {
     "name": "stdout",
     "output_type": "stream",
     "text": [
      "epoch 48 Train set - loss: 0.332, accuracy: 0.889 Val  set - loss: 0.33, Val accuracy: 0.896\n",
      "        \n"
     ]
    },
    {
     "name": "stderr",
     "output_type": "stream",
     "text": [
      "\r",
      " 47%|███████████████████████████████████████████████████████████████████████████████████████████████████                                                                                                              | 9/19 [00:03<00:03,  2.99it/s]"
     ]
    },
    {
     "name": "stdout",
     "output_type": "stream",
     "text": [
      "epoch 48 Train set - loss: 0.328, accuracy: 0.891 Val  set - loss: 0.353, Val accuracy: 0.893\n",
      "        \n"
     ]
    },
    {
     "name": "stderr",
     "output_type": "stream",
     "text": [
      "\r",
      " 53%|█████████████████████████████████████████████████████████████████████████████████████████████████████████████▍                                                                                                  | 10/19 [00:03<00:02,  3.02it/s]"
     ]
    },
    {
     "name": "stdout",
     "output_type": "stream",
     "text": [
      "epoch 48 Train set - loss: 0.31, accuracy: 0.9 Val  set - loss: 0.33, Val accuracy: 0.898\n",
      "        \n"
     ]
    },
    {
     "name": "stderr",
     "output_type": "stream",
     "text": [
      "\r",
      " 58%|████████████████████████████████████████████████████████████████████████████████████████████████████████████████████████▍                                                                                       | 11/19 [00:03<00:02,  3.02it/s]"
     ]
    },
    {
     "name": "stdout",
     "output_type": "stream",
     "text": [
      "epoch 48 Train set - loss: 0.331, accuracy: 0.891 Val  set - loss: 0.369, Val accuracy: 0.881\n",
      "        \n"
     ]
    },
    {
     "name": "stderr",
     "output_type": "stream",
     "text": [
      "\r",
      " 63%|███████████████████████████████████████████████████████████████████████████████████████████████████████████████████████████████████▎                                                                            | 12/19 [00:04<00:02,  2.94it/s]"
     ]
    },
    {
     "name": "stdout",
     "output_type": "stream",
     "text": [
      "epoch 48 Train set - loss: 0.3, accuracy: 0.906 Val  set - loss: 0.335, Val accuracy: 0.898\n",
      "        \n"
     ]
    },
    {
     "name": "stderr",
     "output_type": "stream",
     "text": [
      "\r",
      " 68%|██████████████████████████████████████████████████████████████████████████████████████████████████████████████████████████████████████████████▎                                                                 | 13/19 [00:04<00:02,  2.88it/s]"
     ]
    },
    {
     "name": "stdout",
     "output_type": "stream",
     "text": [
      "epoch 48 Train set - loss: 0.351, accuracy: 0.879 Val  set - loss: 0.367, Val accuracy: 0.883\n",
      "        \n"
     ]
    },
    {
     "name": "stderr",
     "output_type": "stream",
     "text": [
      "\r",
      " 74%|█████████████████████████████████████████████████████████████████████████████████████████████████████████████████████████████████████████████████████████▎                                                      | 14/19 [00:04<00:01,  2.86it/s]"
     ]
    },
    {
     "name": "stdout",
     "output_type": "stream",
     "text": [
      "epoch 48 Train set - loss: 0.285, accuracy: 0.908 Val  set - loss: 0.327, Val accuracy: 0.904\n",
      "        \n"
     ]
    },
    {
     "name": "stderr",
     "output_type": "stream",
     "text": [
      "\r",
      " 79%|████████████████████████████████████████████████████████████████████████████████████████████████████████████████████████████████████████████████████████████████████▏                                           | 15/19 [00:05<00:01,  2.88it/s]"
     ]
    },
    {
     "name": "stdout",
     "output_type": "stream",
     "text": [
      "epoch 48 Train set - loss: 0.31, accuracy: 0.902 Val  set - loss: 0.338, Val accuracy: 0.898\n",
      "        \n"
     ]
    },
    {
     "name": "stderr",
     "output_type": "stream",
     "text": [
      "\r",
      " 84%|███████████████████████████████████████████████████████████████████████████████████████████████████████████████████████████████████████████████████████████████████████████████▏                                | 16/19 [00:05<00:01,  2.91it/s]"
     ]
    },
    {
     "name": "stdout",
     "output_type": "stream",
     "text": [
      "epoch 48 Train set - loss: 0.339, accuracy: 0.883 Val  set - loss: 0.335, Val accuracy: 0.898\n",
      "        \n"
     ]
    },
    {
     "name": "stderr",
     "output_type": "stream",
     "text": [
      "\r",
      " 89%|██████████████████████████████████████████████████████████████████████████████████████████████████████████████████████████████████████████████████████████████████████████████████████████                      | 17/19 [00:05<00:00,  2.93it/s]"
     ]
    },
    {
     "name": "stdout",
     "output_type": "stream",
     "text": [
      "epoch 48 Train set - loss: 0.31, accuracy: 0.898 Val  set - loss: 0.395, Val accuracy: 0.871\n",
      "        \n"
     ]
    },
    {
     "name": "stderr",
     "output_type": "stream",
     "text": [
      "\r",
      " 95%|█████████████████████████████████████████████████████████████████████████████████████████████████████████████████████████████████████████████████████████████████████████████████████████████████████           | 18/19 [00:06<00:00,  2.96it/s]"
     ]
    },
    {
     "name": "stdout",
     "output_type": "stream",
     "text": [
      "epoch 48 Train set - loss: 0.314, accuracy: 0.893 Val  set - loss: 0.342, Val accuracy: 0.895\n",
      "        \n"
     ]
    },
    {
     "name": "stderr",
     "output_type": "stream",
     "text": [
      "100%|████████████████████████████████████████████████████████████████████████████████████████████████████████████████████████████████████████████████████████████████████████████████████████████████████████████████| 19/19 [00:06<00:00,  2.99it/s]\n"
     ]
    },
    {
     "name": "stdout",
     "output_type": "stream",
     "text": [
      "epoch 48 Train set - loss: 0.313, accuracy: 0.9 Val  set - loss: 0.377, Val accuracy: 0.883\n",
      "        \n"
     ]
    },
    {
     "name": "stderr",
     "output_type": "stream",
     "text": [
      "100%|████████████████████████████████████████████████████████████████████████████████████████████████████████████████████████████████████████████████████████████████████████████████████████████████████████████████| 19/19 [00:04<00:00,  4.17it/s]\n"
     ]
    }
   ],
   "source": [
    "#train for 10000 epochs and get the logits \n",
    "val_losses = []\n",
    "train_losses = []\n",
    "val_accur = []\n",
    "train_accur = []\n",
    "train_losses_batch = []\n",
    "logits = []\n",
    "BATCH_SIZE = 512\n",
    "n_epochs = 50\n",
    "for epoch in range(n_epochs):\n",
    "    for i in tqdm(range(0, len(X_train), BATCH_SIZE)):\n",
    "        batch_X = X_train[i:i+BATCH_SIZE].view(-1, 1, view_shape,view_shape)  \n",
    "        #batch_X = X_train_CNN.view(-1, 1, 29,29)  \n",
    "        batch_y = Y_train[i:i+BATCH_SIZE]\n",
    "        \n",
    "        \n",
    "\n",
    "        #X_train_CNN = X_train_CNN.view(-1, 1, 33,33) # for balanced train set\n",
    "        CNN_Net.zero_grad()\n",
    "        \n",
    "        y_pred = CNN_Net(batch_X .float())[0]\n",
    "        #print(y_pred)\n",
    "        logits = CNN_Net(batch_X.float())[1]\n",
    "        #getting logits for test set \n",
    "    #     y_pred = model(X_test.float())[0]\n",
    "    #     logits = model(X_test.float())[1]\n",
    "        #y_pred = model(X_train) \n",
    "        #print(y_pred)\n",
    "\n",
    "        #y_pred = torch.squeeze(y_pred)\n",
    "        train_loss = loss_function(y_pred, batch_y.float())\n",
    "\n",
    "        #test_loss = criterion(y_pred, Y_test.float())\n",
    "        #train_loss = criterion(y_pred, Y_train)\n",
    "        train_losses.append(train_loss)\n",
    "        if epoch % (n_epochs // 20) == 0:\n",
    "            with torch.no_grad():\n",
    "                CNN_Net.eval()\n",
    "\n",
    "                val_batch_X = X_val[torch.randint(len(X_val), (BATCH_SIZE,))] \n",
    "                val_batch_Y = Y_val[torch.randint(len(X_val), (BATCH_SIZE,))] \n",
    "\n",
    "                train_acc,_ = calculate_accuracy(batch_y, y_pred)\n",
    "                #X_val_CNN= X_val_CNN.unsqueeze(1) don't do it here, it will keep adding a channel dimension every time the for loop operates\n",
    "                y_val_pred = CNN_Net(val_batch_X.float())[0]\n",
    "                #print(y_val_pred)\n",
    "                #y_test_pred = torch.squeeze(y_test_pred)\n",
    "\n",
    "\n",
    "                val_loss = loss_function(y_val_pred, val_batch_Y.float())\n",
    "\n",
    "                val_acc, total_corr = calculate_accuracy(val_batch_Y, y_val_pred)\n",
    "                #print(total_corr)\n",
    "\n",
    "                print(f'''epoch {epoch} Train set - loss: {round_tensor(train_loss)}, accuracy: {round_tensor(train_acc)} Val  set - loss: {round_tensor(val_loss)}, Val accuracy: {round_tensor(val_acc)}\n",
    "        ''')\n",
    "                #print(f'''epoch {epoch}Train set - loss: {round_tensor(train_loss)} ''')\n",
    "                #print(f'''epoch {epoch}Test set - loss: {round_tensor(test_loss)} ''')\n",
    "                train_losses_batch.append(train_loss.detach().numpy())\n",
    "                val_losses.append(val_loss.detach().numpy())\n",
    "\n",
    "                train_accur.append(train_acc.detach().numpy())\n",
    "                val_accur.append(val_acc.detach().numpy())\n",
    "\n",
    "        optimizer.zero_grad()\n",
    "\n",
    "        train_loss.backward()\n",
    "        #test_loss.backward()\n",
    "\n",
    "        optimizer.step()\n",
    "    scheduler1.step()"
   ]
  },
  {
   "cell_type": "code",
   "execution_count": 629,
   "id": "d10738be",
   "metadata": {},
   "outputs": [
    {
     "data": {
      "image/png": "[encoded data removed]",
      "text/plain": [
       "<Figure size 432x288 with 1 Axes>"
      ]
     },
     "metadata": {
      "needs_background": "light"
     },
     "output_type": "display_data"
    },
    {
     "data": {
      "image/png": "[encoded data removed]",
      "text/plain": [
       "<Figure size 432x288 with 1 Axes>"
      ]
     },
     "metadata": {
      "needs_background": "light"
     },
     "output_type": "display_data"
    }
   ],
   "source": [
    "import matplotlib.pyplot as plt\n",
    "\n",
    "epochs = range(1, len(train_accur) + 1)\n",
    "\n",
    "plt.plot(epochs, train_accur, 'bo', label='Training acc')\n",
    "plt.plot(epochs, val_accur, 'b', label='vaidation acc')\n",
    "plt.title('Training and validation accuracy')\n",
    "plt.legend()\n",
    "\n",
    "plt.figure()\n",
    "\n",
    "plt.plot(epochs, train_losses_batch, 'bo', label='Training loss')\n",
    "plt.plot(epochs, val_losses, 'b', label='validation loss')\n",
    "plt.title('Training and validation loss')\n",
    "plt.legend()\n",
    "\n",
    "plt.show()"
   ]
  },
  {
   "cell_type": "code",
   "execution_count": 630,
   "id": "bda54c3f",
   "metadata": {},
   "outputs": [],
   "source": [
    "test_alldata['features_loan'] = test_alldata['features_loan'].apply(lambda x: \\\n",
    "                                np.pad(x,\\\n",
    "                                (0,train_alldata_maxlen[0]-len(x)), 'constant'))\n",
    "test_alldata['features_orig'] = test_alldata['features_orig'].apply(lambda x: \\\n",
    "                                np.pad(x,\\\n",
    "                                (0,train_alldata_maxlen[1]-len(x)), 'constant'))\n",
    "\n",
    "X_train_alldata = torch.tensor(np.hstack([np.array([x for x in train_alldata['features_loan']]),\\\n",
    "                     np.array([x for x in train_alldata['features_orig']])])).to(device)\n",
    "X_test_alldata = torch.tensor(np.hstack([np.array([x for x in test_alldata['features_loan']]),\\\n",
    "                    np.array([x for x in test_alldata['features_orig']])])).to(device)\n",
    "\n",
    "train_realdist['features_loan'] = train_realdist['features_loan'].apply(lambda x: \\\n",
    "                                np.pad(x,\\\n",
    "                                (0,train_alldata_maxlen[0]-len(x)), 'constant'))\n",
    "train_realdist['features_orig'] = train_realdist['features_orig'].apply(lambda x: \\\n",
    "                                np.pad(x,\\\n",
    "                                (0,train_alldata_maxlen[1]-len(x)), 'constant'))\n",
    "\n",
    "test_realdist['features_loan'] = test_realdist['features_loan'].apply(lambda x: \\\n",
    "                                np.pad(x,\\\n",
    "                                (0,train_alldata_maxlen[0]-len(x)), 'constant'))\n",
    "test_realdist['features_orig'] = test_realdist['features_orig'].apply(lambda x: \\\n",
    "                                np.pad(x,\\\n",
    "                                (0,train_alldata_maxlen[1]-len(x)), 'constant'))\n",
    "\n",
    "X_train_realdist = torch.tensor(np.hstack([np.array([x for x in train_realdist['features_loan']]),\\\n",
    "                     np.array([x for x in train_realdist['features_orig']])])).to(device)\n",
    "X_test_realdist = torch.tensor(np.hstack([np.array([x for x in test_realdist['features_loan']]),\\\n",
    "                    np.array([x for x in test_realdist['features_orig']])])).to(device)\n",
    "\n",
    "train_balanced['features_loan'] = train_balanced['features_loan'].apply(lambda x: \\\n",
    "                                np.pad(x,\\\n",
    "                                (0,train_alldata_maxlen[0]-len(x)), 'constant'))\n",
    "train_balanced['features_orig'] = train_balanced['features_orig'].apply(lambda x: \\\n",
    "                                np.pad(x,\\\n",
    "                                (0,train_alldata_maxlen[1]-len(x)), 'constant'))\n",
    "\n",
    "test_balanced['features_loan'] = test_balanced['features_loan'].apply(lambda x: \\\n",
    "                                np.pad(x,\\\n",
    "                                (0,train_alldata_maxlen[0]-len(x)), 'constant'))\n",
    "test_balanced['features_orig'] = test_balanced['features_orig'].apply(lambda x: \\\n",
    "                                np.pad(x,\\\n",
    "                                (0,train_alldata_maxlen[1]-len(x)), 'constant'))\n",
    "\n",
    "X_train_balanced = torch.tensor(np.hstack([np.array([x for x in train_balanced['features_loan']]),\\\n",
    "                     np.array([x for x in train_balanced['features_orig']])])).to(device)\n",
    "X_test_balanced = torch.tensor(np.hstack([np.array([x for x in test_balanced['features_loan']]),\\\n",
    "                    np.array([x for x in test_balanced['features_orig']])])).to(device)"
   ]
  },
  {
   "cell_type": "code",
   "execution_count": 631,
   "id": "5ae325ab",
   "metadata": {},
   "outputs": [
    {
     "data": {
      "text/plain": [
       "(torch.Size([11857, 1089]),\n",
       " torch.Size([1320, 1089]),\n",
       " torch.Size([4030, 1089]),\n",
       " torch.Size([450, 1089]),\n",
       " torch.Size([2417, 1089]),\n",
       " torch.Size([271, 1089]))"
      ]
     },
     "execution_count": 631,
     "metadata": {},
     "output_type": "execute_result"
    }
   ],
   "source": [
    "X_train_alldata = F.pad(X_train_alldata, pad=(0, closest_perfect_square-X_train_alldata.shape[1]), value=0)\n",
    "X_test_alldata = F.pad(X_test_alldata, pad=(0, closest_perfect_square-X_test_alldata.shape[1]), value=0)\n",
    "X_train_realdist = F.pad(X_train_realdist, pad=(0, closest_perfect_square-X_train_realdist.shape[1]), value=0)\n",
    "X_test_realdist = F.pad(X_test_realdist, pad=(0, closest_perfect_square-X_test_realdist.shape[1]), value=0)\n",
    "X_train_balanced = F.pad(X_train_balanced, pad=(0, closest_perfect_square-X_train_balanced.shape[1]), value=0)\n",
    "X_test_balanced = F.pad(X_test_balanced, pad=(0, closest_perfect_square-X_test_balanced.shape[1]), value=0)\n",
    "X_train_alldata.shape,X_test_alldata.shape,X_train_realdist.shape,X_test_realdist.shape,X_train_balanced.shape,X_test_balanced.shape\n"
   ]
  },
  {
   "cell_type": "code",
   "execution_count": 632,
   "id": "85fc9949",
   "metadata": {},
   "outputs": [
    {
     "name": "stderr",
     "output_type": "stream",
     "text": [
      "/var/folders/xr/f9q8dphs5vq5mhqy843mnkv40000gn/T/ipykernel_8822/250242968.py:1: UserWarning: To copy construct from a tensor, it is recommended to use sourceTensor.clone().detach() or sourceTensor.clone().detach().requires_grad_(True), rather than torch.tensor(sourceTensor).\n",
      "  X_train_alldata = torch.tensor(X_train_alldata).view(-1,1,view_shape,view_shape).to(device)\n",
      "/var/folders/xr/f9q8dphs5vq5mhqy843mnkv40000gn/T/ipykernel_8822/250242968.py:2: UserWarning: To copy construct from a tensor, it is recommended to use sourceTensor.clone().detach() or sourceTensor.clone().detach().requires_grad_(True), rather than torch.tensor(sourceTensor).\n",
      "  X_test_alldata = torch.tensor(X_test_alldata).view(-1,1,view_shape,view_shape).to(device)\n",
      "/var/folders/xr/f9q8dphs5vq5mhqy843mnkv40000gn/T/ipykernel_8822/250242968.py:3: UserWarning: To copy construct from a tensor, it is recommended to use sourceTensor.clone().detach() or sourceTensor.clone().detach().requires_grad_(True), rather than torch.tensor(sourceTensor).\n",
      "  X_train_realdist = torch.tensor(X_train_realdist).view(-1,1,view_shape,view_shape).to(device)\n",
      "/var/folders/xr/f9q8dphs5vq5mhqy843mnkv40000gn/T/ipykernel_8822/250242968.py:4: UserWarning: To copy construct from a tensor, it is recommended to use sourceTensor.clone().detach() or sourceTensor.clone().detach().requires_grad_(True), rather than torch.tensor(sourceTensor).\n",
      "  X_test_realdist = torch.tensor(X_test_realdist).view(-1,1,view_shape,view_shape).to(device)\n",
      "/var/folders/xr/f9q8dphs5vq5mhqy843mnkv40000gn/T/ipykernel_8822/250242968.py:5: UserWarning: To copy construct from a tensor, it is recommended to use sourceTensor.clone().detach() or sourceTensor.clone().detach().requires_grad_(True), rather than torch.tensor(sourceTensor).\n",
      "  X_train_balanced = torch.tensor(X_train_balanced).view(-1,1,view_shape,view_shape).to(device)\n",
      "/var/folders/xr/f9q8dphs5vq5mhqy843mnkv40000gn/T/ipykernel_8822/250242968.py:6: UserWarning: To copy construct from a tensor, it is recommended to use sourceTensor.clone().detach() or sourceTensor.clone().detach().requires_grad_(True), rather than torch.tensor(sourceTensor).\n",
      "  X_test_balanced = torch.tensor(X_test_balanced).view(-1,1,view_shape,view_shape).to(device)\n"
     ]
    },
    {
     "data": {
      "text/plain": [
       "(torch.Size([11857, 1, 33, 33]),\n",
       " torch.Size([1320, 1, 33, 33]),\n",
       " torch.Size([4030, 1, 33, 33]),\n",
       " torch.Size([450, 1, 33, 33]),\n",
       " torch.Size([2417, 1, 33, 33]),\n",
       " torch.Size([271, 1, 33, 33]))"
      ]
     },
     "execution_count": 632,
     "metadata": {},
     "output_type": "execute_result"
    }
   ],
   "source": [
    "X_train_alldata = torch.tensor(X_train_alldata).view(-1,1,view_shape,view_shape).to(device)\n",
    "X_test_alldata = torch.tensor(X_test_alldata).view(-1,1,view_shape,view_shape).to(device)\n",
    "X_train_realdist = torch.tensor(X_train_realdist).view(-1,1,view_shape,view_shape).to(device)\n",
    "X_test_realdist = torch.tensor(X_test_realdist).view(-1,1,view_shape,view_shape).to(device)\n",
    "X_train_balanced = torch.tensor(X_train_balanced).view(-1,1,view_shape,view_shape).to(device)\n",
    "X_test_balanced = torch.tensor(X_test_balanced).view(-1,1,view_shape,view_shape).to(device)\n",
    "X_train_alldata.shape,X_test_alldata.shape,X_train_realdist.shape,X_test_realdist.shape,X_train_balanced.shape,X_test_balanced.shape\n"
   ]
  },
  {
   "cell_type": "code",
   "execution_count": 633,
   "id": "b9a0b444",
   "metadata": {},
   "outputs": [],
   "source": [
    "# use the trained CNN model to get logits for the three different splits\n",
    "\n",
    "CNN_Net.eval()\n",
    "\n",
    "with torch.no_grad():\n",
    "    train_logits_cnn_alldata = CNN_Net(X_train_alldata.float())[1]\n",
    "    test_logits_cnn_alldata = CNN_Net(X_test_alldata.float())[1]\n",
    "    \n",
    "    train_logits_cnn_realdist = CNN_Net(X_train_realdist.float())[1]\n",
    "    test_logits_cnn_realdist = CNN_Net(X_test_realdist.float())[1]\n",
    "    \n",
    "    train_logits_cnn_balanced = CNN_Net(X_train_balanced.float())[1]\n",
    "    test_logits_cnn_balanced = CNN_Net(X_test_balanced.float())[1]"
   ]
  },
  {
   "cell_type": "code",
   "execution_count": 634,
   "id": "f3159efe",
   "metadata": {},
   "outputs": [
    {
     "name": "stdout",
     "output_type": "stream",
     "text": [
      "(tensor([[0.1386],\n",
      "        [0.0661],\n",
      "        [0.1716],\n",
      "        ...,\n",
      "        [0.0688],\n",
      "        [0.1360],\n",
      "        [0.1759]], grad_fn=<SigmoidBackward0>), tensor([[-1.8267],\n",
      "        [-2.6477],\n",
      "        [-1.5745],\n",
      "        ...,\n",
      "        [-2.6059],\n",
      "        [-1.8493],\n",
      "        [-1.5444]], grad_fn=<AddmmBackward0>))\n"
     ]
    }
   ],
   "source": [
    "print(CNN_Net(X_train_alldata.float()))"
   ]
  },
  {
   "cell_type": "code",
   "execution_count": 589,
   "id": "4c6b535e",
   "metadata": {},
   "outputs": [
    {
     "data": {
      "text/plain": [
       "(tensor([[-1.1711],\n",
       "         [-1.8401],\n",
       "         [-1.1130],\n",
       "         ...,\n",
       "         [-1.6101],\n",
       "         [-1.5939],\n",
       "         [-1.0693]]),\n",
       " tensor([[-1.5782],\n",
       "         [-1.5877],\n",
       "         [-1.3123],\n",
       "         ...,\n",
       "         [-1.2958],\n",
       "         [-1.2878],\n",
       "         [-1.4761]]),\n",
       " tensor([[-1.3411],\n",
       "         [-1.5229],\n",
       "         [-1.2912],\n",
       "         ...,\n",
       "         [-1.4801],\n",
       "         [-1.1663],\n",
       "         [-1.7757]]),\n",
       " tensor([[-1.5312],\n",
       "         [-1.3480],\n",
       "         [-1.5121],\n",
       "         [-1.7443],\n",
       "         [-1.6565],\n",
       "         [-1.4434],\n",
       "         [-1.7477],\n",
       "         [-1.2190],\n",
       "         [-1.7897],\n",
       "         [-1.1070],\n",
       "         [-1.5275],\n",
       "         [-1.1156],\n",
       "         [-1.7890],\n",
       "         [-1.4791],\n",
       "         [-1.4158],\n",
       "         [-1.8203],\n",
       "         [-1.3719],\n",
       "         [-1.6194],\n",
       "         [-1.3460],\n",
       "         [-1.4761],\n",
       "         [-1.6506],\n",
       "         [-1.8784],\n",
       "         [-1.8175],\n",
       "         [-1.8047],\n",
       "         [-1.7704],\n",
       "         [-1.7592],\n",
       "         [-1.4061],\n",
       "         [-1.7649],\n",
       "         [-1.5109],\n",
       "         [-1.5116],\n",
       "         [-1.7693],\n",
       "         [-1.2382],\n",
       "         [-1.7170],\n",
       "         [-1.4487],\n",
       "         [-1.4565],\n",
       "         [-1.6518],\n",
       "         [-1.8856],\n",
       "         [-1.2697],\n",
       "         [-1.5648],\n",
       "         [-1.3504],\n",
       "         [-1.7438],\n",
       "         [-1.6608],\n",
       "         [-1.1449],\n",
       "         [-1.3493],\n",
       "         [-1.5994],\n",
       "         [-1.5148],\n",
       "         [-0.9840],\n",
       "         [-1.7998],\n",
       "         [-1.8456],\n",
       "         [-1.2239],\n",
       "         [-0.9411],\n",
       "         [-1.5992],\n",
       "         [-1.7574],\n",
       "         [-1.5729],\n",
       "         [-1.7377],\n",
       "         [-1.4194],\n",
       "         [-1.9198],\n",
       "         [-1.6326],\n",
       "         [-1.4106],\n",
       "         [-1.5858],\n",
       "         [-1.5667],\n",
       "         [-1.1520],\n",
       "         [-1.6786],\n",
       "         [-1.5256],\n",
       "         [-1.2398],\n",
       "         [-1.4372],\n",
       "         [-1.6876],\n",
       "         [-1.6701],\n",
       "         [-1.2875],\n",
       "         [-1.7099],\n",
       "         [-1.9080],\n",
       "         [-1.8337],\n",
       "         [-1.7294],\n",
       "         [-1.3259],\n",
       "         [-1.5837],\n",
       "         [-1.5975],\n",
       "         [-1.7097],\n",
       "         [-1.4117],\n",
       "         [-1.6854],\n",
       "         [-1.6289],\n",
       "         [-1.5765],\n",
       "         [-1.6194],\n",
       "         [-1.7102],\n",
       "         [-1.4672],\n",
       "         [-1.5572],\n",
       "         [-1.7138],\n",
       "         [-1.7371],\n",
       "         [-1.6607],\n",
       "         [-1.7387],\n",
       "         [-1.7738],\n",
       "         [-1.5638],\n",
       "         [-1.5378],\n",
       "         [-1.1682],\n",
       "         [-1.4696],\n",
       "         [-1.7234],\n",
       "         [-1.5251],\n",
       "         [-1.3360],\n",
       "         [-1.5671],\n",
       "         [-1.9833],\n",
       "         [-1.0356],\n",
       "         [-1.4352],\n",
       "         [-1.6425],\n",
       "         [-1.4472],\n",
       "         [-1.6183],\n",
       "         [-1.6347],\n",
       "         [-1.7982],\n",
       "         [-1.5932],\n",
       "         [-1.8018],\n",
       "         [-1.6564],\n",
       "         [-1.5772],\n",
       "         [-1.4931],\n",
       "         [-1.5220],\n",
       "         [-1.7508],\n",
       "         [-1.7616],\n",
       "         [-1.7411],\n",
       "         [-1.4944],\n",
       "         [-1.1093],\n",
       "         [-1.7817],\n",
       "         [-1.7895],\n",
       "         [-1.7753],\n",
       "         [-1.5626],\n",
       "         [-1.8220],\n",
       "         [-1.5169],\n",
       "         [-1.8891],\n",
       "         [-1.7605],\n",
       "         [-1.2761],\n",
       "         [-0.9477],\n",
       "         [-1.6964],\n",
       "         [-1.7846],\n",
       "         [-1.9343],\n",
       "         [-1.2008],\n",
       "         [-1.4168],\n",
       "         [-1.2806],\n",
       "         [-1.6372],\n",
       "         [-1.4053],\n",
       "         [-1.5530],\n",
       "         [-1.6399],\n",
       "         [-1.5926],\n",
       "         [-1.6204],\n",
       "         [-1.1980],\n",
       "         [-1.6434],\n",
       "         [-1.5154],\n",
       "         [-1.2029],\n",
       "         [-1.4445],\n",
       "         [-1.9147],\n",
       "         [-1.4795],\n",
       "         [-1.8230],\n",
       "         [-1.5433],\n",
       "         [-1.3525],\n",
       "         [-1.2389],\n",
       "         [-1.6163],\n",
       "         [-1.2958],\n",
       "         [-1.6643],\n",
       "         [-1.8061],\n",
       "         [-1.5376],\n",
       "         [-1.6181],\n",
       "         [-1.4554],\n",
       "         [-1.3439],\n",
       "         [-1.7271],\n",
       "         [-1.4688],\n",
       "         [-1.0192],\n",
       "         [-1.8846],\n",
       "         [-1.2633],\n",
       "         [-1.7400],\n",
       "         [-1.8401],\n",
       "         [-1.5318],\n",
       "         [-1.3640],\n",
       "         [-1.8820],\n",
       "         [-1.6229],\n",
       "         [-1.3849],\n",
       "         [-1.5090],\n",
       "         [-1.4877],\n",
       "         [-1.6720],\n",
       "         [-1.5884],\n",
       "         [-1.2502],\n",
       "         [-1.7013],\n",
       "         [-1.1972],\n",
       "         [-1.5446],\n",
       "         [-1.5651],\n",
       "         [-1.3236],\n",
       "         [-1.4587],\n",
       "         [-1.5038],\n",
       "         [-1.1445],\n",
       "         [-1.3126],\n",
       "         [-1.3448],\n",
       "         [-1.8486],\n",
       "         [-1.6313],\n",
       "         [-1.1866],\n",
       "         [-1.8375],\n",
       "         [-1.7820],\n",
       "         [-1.3399],\n",
       "         [-1.1462],\n",
       "         [-1.4446],\n",
       "         [-1.6339],\n",
       "         [-1.4564],\n",
       "         [-1.0330],\n",
       "         [-1.7325],\n",
       "         [-1.8247],\n",
       "         [-1.0942],\n",
       "         [-1.7937],\n",
       "         [-1.8416],\n",
       "         [-1.5480],\n",
       "         [-1.5443],\n",
       "         [-1.2784],\n",
       "         [-1.7474],\n",
       "         [-1.4626],\n",
       "         [-1.1744],\n",
       "         [-1.2410],\n",
       "         [-1.6051],\n",
       "         [-1.3202],\n",
       "         [-1.5998],\n",
       "         [-1.7672],\n",
       "         [-1.6029],\n",
       "         [-1.4094],\n",
       "         [-1.0455],\n",
       "         [-1.5030],\n",
       "         [-1.5371],\n",
       "         [-1.4473],\n",
       "         [-1.5749],\n",
       "         [-1.6135],\n",
       "         [-1.4502],\n",
       "         [-1.5716],\n",
       "         [-1.7125],\n",
       "         [-1.4490],\n",
       "         [-1.5541],\n",
       "         [-1.5352],\n",
       "         [-1.2651],\n",
       "         [-1.6960],\n",
       "         [-1.8640],\n",
       "         [-1.3586],\n",
       "         [-1.6281],\n",
       "         [-1.4862],\n",
       "         [-1.7087],\n",
       "         [-1.5096],\n",
       "         [-1.5408],\n",
       "         [-1.6780],\n",
       "         [-1.3102],\n",
       "         [-1.4609],\n",
       "         [-1.5631],\n",
       "         [-1.5103],\n",
       "         [-1.6419],\n",
       "         [-1.6213],\n",
       "         [-1.5328],\n",
       "         [-1.5819],\n",
       "         [-1.4474],\n",
       "         [-1.3864],\n",
       "         [-1.6272],\n",
       "         [-0.9973],\n",
       "         [-1.6435],\n",
       "         [-1.0079],\n",
       "         [-1.0520],\n",
       "         [-1.8517],\n",
       "         [-1.5044],\n",
       "         [-1.5723],\n",
       "         [-1.9006],\n",
       "         [-1.5534],\n",
       "         [-1.7865],\n",
       "         [-1.4872],\n",
       "         [-1.6106],\n",
       "         [-1.4760],\n",
       "         [-1.5102],\n",
       "         [-1.6138],\n",
       "         [-1.7984],\n",
       "         [-1.0217],\n",
       "         [-1.6397],\n",
       "         [-1.5761],\n",
       "         [-1.6262],\n",
       "         [-1.4998],\n",
       "         [-1.2076],\n",
       "         [-1.3196],\n",
       "         [-1.7387],\n",
       "         [-1.8052],\n",
       "         [-1.4482],\n",
       "         [-1.8563],\n",
       "         [-1.6040],\n",
       "         [-1.6603],\n",
       "         [-1.8227],\n",
       "         [-1.0081],\n",
       "         [-1.5566],\n",
       "         [-1.3023],\n",
       "         [-1.6784],\n",
       "         [-1.2133],\n",
       "         [-1.8014],\n",
       "         [-1.2685],\n",
       "         [-1.0482],\n",
       "         [-2.0351],\n",
       "         [-1.5312],\n",
       "         [-1.6407],\n",
       "         [-1.2071],\n",
       "         [-1.7783],\n",
       "         [-1.3417],\n",
       "         [-1.5186],\n",
       "         [-0.9229],\n",
       "         [-1.3264],\n",
       "         [-1.7027],\n",
       "         [-0.8515],\n",
       "         [-1.8277],\n",
       "         [-1.9465],\n",
       "         [-1.5109],\n",
       "         [-1.4458],\n",
       "         [-1.6039],\n",
       "         [-1.7875],\n",
       "         [-1.6940],\n",
       "         [-1.8168],\n",
       "         [-1.3561],\n",
       "         [-1.6653],\n",
       "         [-1.6284],\n",
       "         [-1.4488],\n",
       "         [-1.2957],\n",
       "         [-1.5416],\n",
       "         [-1.7011],\n",
       "         [-1.2972],\n",
       "         [-1.6004],\n",
       "         [-1.4960],\n",
       "         [-1.0217],\n",
       "         [-1.4800],\n",
       "         [-1.5931],\n",
       "         [-1.2795],\n",
       "         [-1.3806],\n",
       "         [-1.5272],\n",
       "         [-1.4134],\n",
       "         [-1.5209],\n",
       "         [-1.5735],\n",
       "         [-1.3348],\n",
       "         [-1.6699],\n",
       "         [-1.8320],\n",
       "         [-1.7788],\n",
       "         [-1.5232],\n",
       "         [-1.4613],\n",
       "         [-1.6697],\n",
       "         [-1.6290],\n",
       "         [-1.5128],\n",
       "         [-1.7123],\n",
       "         [-1.5413],\n",
       "         [-1.5822],\n",
       "         [-1.6426],\n",
       "         [-1.5806],\n",
       "         [-1.8078],\n",
       "         [-1.6338],\n",
       "         [-1.5124],\n",
       "         [-1.9100],\n",
       "         [-2.0043],\n",
       "         [-1.9471],\n",
       "         [-1.9376],\n",
       "         [-1.0709],\n",
       "         [-1.7152],\n",
       "         [-1.9755],\n",
       "         [-1.6289],\n",
       "         [-1.6858],\n",
       "         [-1.3101],\n",
       "         [-1.4316],\n",
       "         [-1.1602],\n",
       "         [-1.2272],\n",
       "         [-1.1568],\n",
       "         [-0.9105],\n",
       "         [-1.6698],\n",
       "         [-1.3076],\n",
       "         [-1.6852],\n",
       "         [-1.7128],\n",
       "         [-1.0268],\n",
       "         [-1.7370],\n",
       "         [-1.6196],\n",
       "         [-1.4159],\n",
       "         [-1.3911],\n",
       "         [-1.6674],\n",
       "         [-1.4571],\n",
       "         [-1.8297],\n",
       "         [-1.1526],\n",
       "         [-1.4760],\n",
       "         [-1.2916],\n",
       "         [-1.4641],\n",
       "         [-1.6177],\n",
       "         [-1.1539],\n",
       "         [-1.3114],\n",
       "         [-1.6780],\n",
       "         [-1.3739],\n",
       "         [-1.6561],\n",
       "         [-1.7581],\n",
       "         [-1.3666],\n",
       "         [-1.3541],\n",
       "         [-1.2767],\n",
       "         [-1.4770],\n",
       "         [-1.3684],\n",
       "         [-1.0110],\n",
       "         [-1.0537],\n",
       "         [-1.5147],\n",
       "         [-1.4499],\n",
       "         [-1.5667],\n",
       "         [-1.5606],\n",
       "         [-1.6819],\n",
       "         [-1.4192],\n",
       "         [-1.5934],\n",
       "         [-1.4290],\n",
       "         [-1.7167],\n",
       "         [-1.6630],\n",
       "         [-1.6812],\n",
       "         [-1.2665],\n",
       "         [-1.4388],\n",
       "         [-0.8104],\n",
       "         [-1.3942],\n",
       "         [-1.3432],\n",
       "         [-1.6690],\n",
       "         [-1.6353],\n",
       "         [-1.6579],\n",
       "         [-1.4061],\n",
       "         [-1.6732],\n",
       "         [-1.6885],\n",
       "         [-1.4289],\n",
       "         [-1.8384],\n",
       "         [-1.4094],\n",
       "         [-1.2160],\n",
       "         [-1.2939],\n",
       "         [-1.6670],\n",
       "         [-1.9221],\n",
       "         [-1.5578],\n",
       "         [-1.6546],\n",
       "         [-1.3176],\n",
       "         [-1.7582],\n",
       "         [-1.5844],\n",
       "         [-1.7776],\n",
       "         [-1.3888],\n",
       "         [-1.6277],\n",
       "         [-1.4536],\n",
       "         [-1.7229],\n",
       "         [-1.3771],\n",
       "         [-1.3374],\n",
       "         [-1.5645],\n",
       "         [-1.3612],\n",
       "         [-1.8882],\n",
       "         [-1.5366],\n",
       "         [-1.5624],\n",
       "         [-1.2538],\n",
       "         [-1.4914],\n",
       "         [-1.5822],\n",
       "         [-1.4579],\n",
       "         [-1.5260],\n",
       "         [-1.5061],\n",
       "         [-1.1553],\n",
       "         [-1.7005],\n",
       "         [-1.7593],\n",
       "         [-1.9184],\n",
       "         [-1.7422],\n",
       "         [-1.4797],\n",
       "         [-1.3325],\n",
       "         [-1.7112],\n",
       "         [-1.4070],\n",
       "         [-1.8809],\n",
       "         [-1.6443],\n",
       "         [-1.3474],\n",
       "         [-1.4490]]),\n",
       " tensor([[-1.8073],\n",
       "         [-1.6080],\n",
       "         [-1.7747],\n",
       "         ...,\n",
       "         [-1.8673],\n",
       "         [-1.6697],\n",
       "         [-1.6956]]),\n",
       " tensor([[-1.4320],\n",
       "         [-1.6780],\n",
       "         [-1.6441],\n",
       "         [-1.1568],\n",
       "         [-1.2501],\n",
       "         [-1.6434],\n",
       "         [-1.7128],\n",
       "         [-1.3399],\n",
       "         [-1.8249],\n",
       "         [-1.2671],\n",
       "         [-1.7112],\n",
       "         [-1.1919],\n",
       "         [-1.5030],\n",
       "         [-1.1248],\n",
       "         [-1.6372],\n",
       "         [-1.4434],\n",
       "         [-1.7027],\n",
       "         [-1.1677],\n",
       "         [-1.5749],\n",
       "         [-1.8494],\n",
       "         [-1.3145],\n",
       "         [-1.5651],\n",
       "         [-1.9421],\n",
       "         [-1.5476],\n",
       "         [-1.7422],\n",
       "         [-1.5356],\n",
       "         [-1.3739],\n",
       "         [-1.4795],\n",
       "         [-1.3590],\n",
       "         [-1.5943],\n",
       "         [-1.1526],\n",
       "         [-1.5994],\n",
       "         [-1.5716],\n",
       "         [-1.4723],\n",
       "         [-1.1462],\n",
       "         [-1.4316],\n",
       "         [-1.4194],\n",
       "         [-1.4106],\n",
       "         [-1.4132],\n",
       "         [-1.5416],\n",
       "         [-0.9477],\n",
       "         [-1.4537],\n",
       "         [-1.3448],\n",
       "         [-1.5552],\n",
       "         [-1.4446],\n",
       "         [-1.4487],\n",
       "         [-1.5278],\n",
       "         [-1.5121],\n",
       "         [-1.0311],\n",
       "         [-1.6718],\n",
       "         [-1.5128],\n",
       "         [-1.7776],\n",
       "         [-1.6185],\n",
       "         [-1.3039],\n",
       "         [-1.5228],\n",
       "         [-1.0537],\n",
       "         [-1.7484],\n",
       "         [-1.6004],\n",
       "         [-1.6258],\n",
       "         [-1.4931],\n",
       "         [-1.5164],\n",
       "         [-1.3593],\n",
       "         [-1.4061],\n",
       "         [-1.3706],\n",
       "         [-1.5729],\n",
       "         [-1.6016],\n",
       "         [-1.2358],\n",
       "         [-1.6397],\n",
       "         [-1.7011],\n",
       "         [-1.1539],\n",
       "         [-1.3417],\n",
       "         [-1.7012],\n",
       "         [-1.4571],\n",
       "         [-1.0520],\n",
       "         [-1.4336],\n",
       "         [-1.0268],\n",
       "         [-1.6177],\n",
       "         [-1.2331],\n",
       "         [-0.9105],\n",
       "         [-1.5209],\n",
       "         [-1.4615],\n",
       "         [-1.4810],\n",
       "         [-1.9147],\n",
       "         [-1.0081],\n",
       "         [-1.1546],\n",
       "         [-1.7405],\n",
       "         [-1.3319],\n",
       "         [-1.6029],\n",
       "         [-1.4445],\n",
       "         [-1.5667],\n",
       "         [-1.7820],\n",
       "         [-1.2756],\n",
       "         [-1.6672],\n",
       "         [-1.4930],\n",
       "         [-1.6616],\n",
       "         [-1.5051],\n",
       "         [-1.0330],\n",
       "         [-1.4590],\n",
       "         [-1.5570],\n",
       "         [-1.4473],\n",
       "         [-1.6819],\n",
       "         [-1.0448],\n",
       "         [-1.4474],\n",
       "         [-1.1209],\n",
       "         [-1.3460],\n",
       "         [-1.1976],\n",
       "         [-1.7125],\n",
       "         [-1.8882],\n",
       "         [-1.5284],\n",
       "         [-1.8054],\n",
       "         [-1.2133],\n",
       "         [-1.3374],\n",
       "         [-1.1156],\n",
       "         [-1.4147],\n",
       "         [-1.4290],\n",
       "         [-1.3951],\n",
       "         [-1.7401],\n",
       "         [-1.5312],\n",
       "         [-1.4034],\n",
       "         [-1.7788],\n",
       "         [-1.5822],\n",
       "         [-1.5179],\n",
       "         [-1.7324],\n",
       "         [-1.7386],\n",
       "         [-1.4957],\n",
       "         [-1.5926],\n",
       "         [-1.5541],\n",
       "         [-1.2323],\n",
       "         [-1.5064],\n",
       "         [-1.6700],\n",
       "         [-1.8277],\n",
       "         [-1.6290],\n",
       "         [-1.7500],\n",
       "         [-1.5836],\n",
       "         [-1.5656],\n",
       "         [-1.4877],\n",
       "         [-1.3911],\n",
       "         [-1.6105],\n",
       "         [-1.3750],\n",
       "         [-1.8605],\n",
       "         [-1.3612],\n",
       "         [-1.2231],\n",
       "         [-1.7693],\n",
       "         [-1.2806],\n",
       "         [-1.7386],\n",
       "         [-1.7197],\n",
       "         [-1.4760],\n",
       "         [-1.6115],\n",
       "         [-1.4565],\n",
       "         [-1.3561],\n",
       "         [-1.1466],\n",
       "         [-1.0356],\n",
       "         [-1.4568],\n",
       "         [-1.5173],\n",
       "         [-1.6863],\n",
       "         [-1.3586],\n",
       "         [-1.4554],\n",
       "         [-1.6960],\n",
       "         [-1.6338],\n",
       "         [-1.8063],\n",
       "         [-1.5295],\n",
       "         [-1.8384],\n",
       "         [-1.4761],\n",
       "         [-1.6106],\n",
       "         [-1.9080],\n",
       "         [-1.8250],\n",
       "         [-1.4154],\n",
       "         [-1.8018],\n",
       "         [-1.6980],\n",
       "         [-1.6341],\n",
       "         [-1.3666],\n",
       "         [-1.9425],\n",
       "         [-1.0482],\n",
       "         [-1.1972],\n",
       "         [-1.3249],\n",
       "         [-0.9840],\n",
       "         [-1.3642],\n",
       "         [-1.7115],\n",
       "         [-1.7387],\n",
       "         [-1.2859],\n",
       "         [-1.3537],\n",
       "         [-1.6643],\n",
       "         [-1.6347],\n",
       "         [-1.5638],\n",
       "         [-1.4432],\n",
       "         [-1.5408],\n",
       "         [-1.5232],\n",
       "         [-1.0499],\n",
       "         [-1.3114],\n",
       "         [-1.5295],\n",
       "         [-1.5378],\n",
       "         [-1.0217],\n",
       "         [-1.6717],\n",
       "         [-1.6785],\n",
       "         [-1.7229],\n",
       "         [-1.6564],\n",
       "         [-1.6699],\n",
       "         [-1.6199],\n",
       "         [-1.1066],\n",
       "         [-1.5636],\n",
       "         [-1.7477],\n",
       "         [-1.8739],\n",
       "         [-1.7234],\n",
       "         [-1.3474],\n",
       "         [-1.6443],\n",
       "         [-1.6150],\n",
       "         [-1.7916],\n",
       "         [-1.5116],\n",
       "         [-1.5072],\n",
       "         [-1.3899],\n",
       "         [-1.2400],\n",
       "         [-1.5837],\n",
       "         [-1.3174],\n",
       "         [-1.6579],\n",
       "         [-1.9664],\n",
       "         [-1.5606],\n",
       "         [-1.5154],\n",
       "         [-1.8216],\n",
       "         [-1.6687],\n",
       "         [-1.1553],\n",
       "         [-1.2958],\n",
       "         [-1.6294],\n",
       "         [-1.4855],\n",
       "         [-2.0043],\n",
       "         [-1.6505],\n",
       "         [-1.7817],\n",
       "         [-0.8515],\n",
       "         [-1.7957],\n",
       "         [-1.9334],\n",
       "         [-1.4388],\n",
       "         [-1.8314],\n",
       "         [-1.5765],\n",
       "         [-1.6039],\n",
       "         [-1.2008],\n",
       "         [-1.4416],\n",
       "         [-1.4770],\n",
       "         [-1.5251],\n",
       "         [-1.2538],\n",
       "         [-1.8366],\n",
       "         [-1.6376],\n",
       "         [-1.1666],\n",
       "         [-1.4144],\n",
       "         [-0.9973],\n",
       "         [-1.5754],\n",
       "         [-1.4626],\n",
       "         [-1.3853],\n",
       "         [-1.6719],\n",
       "         [-1.5884],\n",
       "         [-1.5371],\n",
       "         [-2.0365],\n",
       "         [-1.4760],\n",
       "         [-1.3308],\n",
       "         [-1.9279],\n",
       "         [-1.3076],\n",
       "         [-1.4791],\n",
       "         [-1.7593],\n",
       "         [-1.4277],\n",
       "         [-1.0455],\n",
       "         [-1.0217],\n",
       "         [-1.7372],\n",
       "         [-1.5806],\n",
       "         [-1.1093],\n",
       "         [-1.8257],\n",
       "         [-1.1149],\n",
       "         [-1.9184],\n",
       "         [-1.4822],\n",
       "         [-1.5109],\n",
       "         [-1.8563],\n",
       "         [-1.5366],\n",
       "         [-1.5844],\n",
       "         [-1.5636]]))"
      ]
     },
     "execution_count": 589,
     "metadata": {},
     "output_type": "execute_result"
    }
   ],
   "source": [
    "train_logits_cnn_alldata,\\\n",
    "test_logits_cnn_alldata,\\\n",
    "train_logits_cnn_realdist,\\\n",
    "test_logits_cnn_realdist,\\\n",
    "train_logits_cnn_balanced,\\\n",
    "test_logits_cnn_balanced"
   ]
  }
 ],
 "metadata": {
  "kernelspec": {
   "display_name": "Python 3 (ipykernel)",
   "language": "python",
   "name": "python3"
  },
  "language_info": {
   "codemirror_mode": {
    "name": "ipython",
    "version": 3
   },
   "file_extension": ".py",
   "mimetype": "text/x-python",
   "name": "python",
   "nbconvert_exporter": "python",
   "pygments_lexer": "ipython3",
   "version": "3.9.7"
  }
 },
 "nbformat": 4,
 "nbformat_minor": 5
}
