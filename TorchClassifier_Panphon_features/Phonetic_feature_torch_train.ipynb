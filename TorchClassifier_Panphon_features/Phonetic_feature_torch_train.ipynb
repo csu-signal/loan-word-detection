{
 "cells": [
  {
   "cell_type": "code",
   "execution_count": 79,
   "id": "4b0b37ef",
   "metadata": {},
   "outputs": [],
   "source": [
    "import torch\n",
    "import os\n",
    "import numpy as np\n",
    "import pandas as pd\n",
    "from tqdm import tqdm\n",
    "import seaborn as sns\n",
    "from pylab import rcParams\n",
    "import matplotlib.pyplot as plt\n",
    "from matplotlib import rc\n",
    "from sklearn.model_selection import train_test_split\n",
    "from sklearn.metrics import confusion_matrix, classification_report\n",
    "import os\n",
    "import torch\n",
    "from torch import nn\n",
    "from torch import nn, optim\n",
    "\n",
    "import torch.nn.functional as F\n",
    "\n",
    "%matplotlib inline"
   ]
  },
  {
   "cell_type": "code",
   "execution_count": 57,
   "id": "4e841288",
   "metadata": {},
   "outputs": [],
   "source": [
    "%store -r l"
   ]
  },
  {
   "cell_type": "code",
   "execution_count": 410,
   "id": "87aecaf5",
   "metadata": {},
   "outputs": [],
   "source": [
    "%store -r l_comb"
   ]
  },
  {
   "cell_type": "code",
   "execution_count": 538,
   "id": "8c1efcf7",
   "metadata": {},
   "outputs": [],
   "source": [
    "df_new = np.asarray(df_new ) "
   ]
  },
  {
   "cell_type": "code",
   "execution_count": 541,
   "id": "b72d3a7c",
   "metadata": {},
   "outputs": [],
   "source": [
    "l_comb.shape\n",
    "x = l_comb\n",
    "x = np.concatenate([df_new,x], axis=1)"
   ]
  },
  {
   "cell_type": "code",
   "execution_count": 542,
   "id": "42015ae9",
   "metadata": {},
   "outputs": [
    {
     "data": {
      "text/plain": [
       "array([[0.6       , 0.375     , 0.22580645, ..., 0.        , 0.        ,\n",
       "        0.        ],\n",
       "       [0.5       , 0.3125    , 0.2133995 , ..., 0.        , 0.        ,\n",
       "        0.        ],\n",
       "       [0.4       , 0.4375    , 0.17866005, ..., 0.        , 0.        ,\n",
       "        0.        ],\n",
       "       ...,\n",
       "       [0.5       , 0.4375    , 0.33995037, ..., 0.        , 0.        ,\n",
       "        0.        ],\n",
       "       [0.7       , 0.5625    , 0.49627792, ..., 0.        , 0.        ,\n",
       "        0.        ],\n",
       "       [0.4       , 0.3125    , 0.18610422, ..., 0.        , 0.        ,\n",
       "        0.        ]])"
      ]
     },
     "execution_count": 542,
     "metadata": {},
     "output_type": "execute_result"
    }
   ],
   "source": [
    "x"
   ]
  },
  {
   "cell_type": "code",
   "execution_count": 546,
   "id": "4807ff60",
   "metadata": {},
   "outputs": [
    {
     "data": {
      "text/plain": [
       "(14784, 535)"
      ]
     },
     "execution_count": 546,
     "metadata": {},
     "output_type": "execute_result"
    }
   ],
   "source": [
    "x.shape"
   ]
  },
  {
   "cell_type": "code",
   "execution_count": 5,
   "id": "d6c4ccd1",
   "metadata": {},
   "outputs": [],
   "source": [
    "%store -r Epi_result"
   ]
  },
  {
   "cell_type": "code",
   "execution_count": 413,
   "id": "bd67a9bb",
   "metadata": {},
   "outputs": [
    {
     "data": {
      "text/plain": [
       "(14784, 1)"
      ]
     },
     "execution_count": 413,
     "metadata": {},
     "output_type": "execute_result"
    }
   ],
   "source": [
    "lables = np.array(Epi_result['label']).reshape((-1,1))\n",
    "lables.shape"
   ]
  },
  {
   "cell_type": "code",
   "execution_count": 414,
   "id": "f49a8f5c",
   "metadata": {},
   "outputs": [],
   "source": [
    "import numpy as np"
   ]
  },
  {
   "cell_type": "code",
   "execution_count": 544,
   "id": "24f2b8fd",
   "metadata": {},
   "outputs": [],
   "source": [
    "x = np.append(x, lables, axis=1) \n",
    " "
   ]
  },
  {
   "cell_type": "code",
   "execution_count": 762,
   "id": "1b416730",
   "metadata": {},
   "outputs": [
    {
     "ename": "AttributeError",
     "evalue": "'tuple' object has no attribute 'reshape'",
     "output_type": "error",
     "traceback": [
      "\u001b[0;31m---------------------------------------------------------------------------\u001b[0m",
      "\u001b[0;31mAttributeError\u001b[0m                            Traceback (most recent call last)",
      "\u001b[0;32m<ipython-input-762-b708f8b146ff>\u001b[0m in \u001b[0;36m<module>\u001b[0;34m\u001b[0m\n\u001b[0;32m----> 1\u001b[0;31m \u001b[0mx_1\u001b[0m\u001b[0;34m.\u001b[0m\u001b[0mreshape\u001b[0m\u001b[0;34m(\u001b[0m\u001b[0;34m(\u001b[0m\u001b[0;34m-\u001b[0m\u001b[0;36m1\u001b[0m\u001b[0;34m,\u001b[0m\u001b[0;36m1\u001b[0m\u001b[0;34m)\u001b[0m\u001b[0;34m)\u001b[0m\u001b[0;34m\u001b[0m\u001b[0;34m\u001b[0m\u001b[0m\n\u001b[0m",
      "\u001b[0;31mAttributeError\u001b[0m: 'tuple' object has no attribute 'reshape'"
     ]
    }
   ],
   "source": [
    "x_1.reshape((-1,1))"
   ]
  },
  {
   "cell_type": "code",
   "execution_count": 872,
   "id": "c08b3a2d",
   "metadata": {},
   "outputs": [],
   "source": [
    "sum(x[:,-1] ==1)\n",
    "sum(x[:,-1]==1)\n",
    "id_new = np.argwhere(x[:,-1] == 1)"
   ]
  },
  {
   "cell_type": "code",
   "execution_count": 881,
   "id": "054a06cb",
   "metadata": {},
   "outputs": [],
   "source": [
    "id_new_neg = np.argwhere(x[:,-1] == 0)\n",
    "id_new_neg = id_new_neg[:1344]"
   ]
  },
  {
   "cell_type": "code",
   "execution_count": 876,
   "id": "ebef07a3",
   "metadata": {},
   "outputs": [],
   "source": [
    "x_1 = np.squeeze(x_1) "
   ]
  },
  {
   "cell_type": "code",
   "execution_count": 874,
   "id": "ab6a2ae4",
   "metadata": {},
   "outputs": [],
   "source": [
    "x_1 = x[id_new] \n"
   ]
  },
  {
   "cell_type": "code",
   "execution_count": 884,
   "id": "01209d8e",
   "metadata": {},
   "outputs": [],
   "source": [
    "x_2 = x[id_new_neg] \n",
    "x_2 = np.squeeze(x_2) "
   ]
  },
  {
   "cell_type": "code",
   "execution_count": 773,
   "id": "8338c253",
   "metadata": {},
   "outputs": [],
   "source": [
    "x_1 = x.copy()\n",
    "id_new = (x_1[:,-1]==1)"
   ]
  },
  {
   "cell_type": "code",
   "execution_count": 888,
   "id": "b68e948c",
   "metadata": {},
   "outputs": [],
   "source": [
    "x_1.shape, x_2.shape\n",
    "x = np.concatenate([x_1, x_2])"
   ]
  },
  {
   "cell_type": "code",
   "execution_count": 890,
   "id": "a2fb82ec",
   "metadata": {},
   "outputs": [
    {
     "data": {
      "text/plain": [
       "(2688, 535)"
      ]
     },
     "execution_count": 890,
     "metadata": {},
     "output_type": "execute_result"
    }
   ],
   "source": [
    "x.shape"
   ]
  },
  {
   "cell_type": "code",
   "execution_count": 891,
   "id": "a752dbfb",
   "metadata": {},
   "outputs": [],
   "source": [
    "indices = np.random.RandomState(seed=43).permutation(x.shape[0]) \n",
    " "
   ]
  },
  {
   "cell_type": "code",
   "execution_count": 781,
   "id": "67f08077",
   "metadata": {},
   "outputs": [
    {
     "data": {
      "text/plain": [
       "array([1., 1., 1., ..., 1., 1., 1.])"
      ]
     },
     "execution_count": 781,
     "metadata": {},
     "output_type": "execute_result"
    }
   ],
   "source": [
    "x_1[:,-1]"
   ]
  },
  {
   "cell_type": "code",
   "execution_count": 819,
   "id": "86813d66",
   "metadata": {},
   "outputs": [],
   "source": [
    "test_idx =indices "
   ]
  },
  {
   "cell_type": "code",
   "execution_count": 820,
   "id": "415e90a7",
   "metadata": {},
   "outputs": [
    {
     "data": {
      "text/plain": [
       "(14784,)"
      ]
     },
     "execution_count": 820,
     "metadata": {},
     "output_type": "execute_result"
    }
   ],
   "source": [
    "test_idx.shape"
   ]
  },
  {
   "cell_type": "code",
   "execution_count": 821,
   "id": "94c72ac5",
   "metadata": {},
   "outputs": [],
   "source": [
    "X_test = x[test_idx,:529]\n",
    "Y_test = x[test_idx,534] "
   ]
  },
  {
   "cell_type": "code",
   "execution_count": 893,
   "id": "2b3cf15c",
   "metadata": {},
   "outputs": [
    {
     "data": {
      "text/plain": [
       "array([1372, 1016,  215, ..., 2325, 2303, 1860])"
      ]
     },
     "execution_count": 893,
     "metadata": {},
     "output_type": "execute_result"
    }
   ],
   "source": [
    "test_idx "
   ]
  },
  {
   "cell_type": "code",
   "execution_count": 894,
   "id": "1838d239",
   "metadata": {},
   "outputs": [],
   "source": [
    "#training_idx, test_idx = indices[:12000], indices[12000:]\n",
    "training_idx, test_idx = indices[:2400], indices[2400:]\n",
    "#training_idx, test_idx = indices[:1200], indices[1200:]"
   ]
  },
  {
   "cell_type": "code",
   "execution_count": 895,
   "id": "3c0e6f18",
   "metadata": {},
   "outputs": [],
   "source": [
    "#for combined features and solo features and with distances as features\n",
    "\n",
    "#X_train, X_test = x[training_idx,:288], x[test_idx,:288]\n",
    "#X_train, X_test = x[training_idx,:529], x[test_idx,:529]\n",
    "X_train, X_test = x[training_idx,:529], x[test_idx,:529]\n",
    "#X_train, X_test = x[training_idx,:534], x[test_idx,:534]\n",
    "#X_train_CNN, X_test_CNN = x[training_idx,:528], x[test_idx,:528]"
   ]
  },
  {
   "cell_type": "code",
   "execution_count": 896,
   "id": "6e47a96e",
   "metadata": {},
   "outputs": [],
   "source": [
    "#Y_train, Y_test = x[training_idx,528] , x[test_idx,528] \n",
    "Y_train, Y_test = x[training_idx,534] , x[test_idx,534] \n",
    "#Y_train, Y_test = x_1[training_idx,534] , x_1[test_idx,534] "
   ]
  },
  {
   "cell_type": "code",
   "execution_count": 897,
   "id": "373a3df0",
   "metadata": {},
   "outputs": [
    {
     "data": {
      "text/plain": [
       "((2400,), (2400, 529), (288, 529), (288,))"
      ]
     },
     "execution_count": 897,
     "metadata": {},
     "output_type": "execute_result"
    }
   ],
   "source": [
    "Y_train.shape, X_train.shape, X_test.shape,Y_test.shape\n",
    "\n",
    " "
   ]
  },
  {
   "cell_type": "code",
   "execution_count": 173,
   "id": "b76260c7",
   "metadata": {},
   "outputs": [
    {
     "data": {
      "text/plain": [
       "(4, 288)"
      ]
     },
     "execution_count": 173,
     "metadata": {},
     "output_type": "execute_result"
    }
   ],
   "source": [
    "X_train[0:4, 0:288].shape"
   ]
  },
  {
   "cell_type": "code",
   "execution_count": 579,
   "id": "3bcb2c59",
   "metadata": {},
   "outputs": [
    {
     "data": {
      "text/plain": [
       "(12000, 528)"
      ]
     },
     "execution_count": 579,
     "metadata": {},
     "output_type": "execute_result"
    }
   ],
   "source": [
    "X_train.shape"
   ]
  },
  {
   "cell_type": "code",
   "execution_count": 843,
   "id": "235f516d",
   "metadata": {},
   "outputs": [
    {
     "name": "stdout",
     "output_type": "stream",
     "text": [
      "Using cuda device\n"
     ]
    }
   ],
   "source": [
    "device = \"cuda\" if torch.cuda.is_available() else \"cpu\"\n",
    "print(f\"Using {device} device\")"
   ]
  },
  {
   "cell_type": "code",
   "execution_count": 925,
   "id": "89e7b421",
   "metadata": {},
   "outputs": [],
   "source": [
    "class NeuralNetwork(nn.Module):\n",
    "    def __init__(self, n_features):\n",
    "        super(NeuralNetwork, self).__init__()\n",
    "        #self.flatten = nn.Flatten()\n",
    "        self.linear_relu_stack = nn.Sequential(\n",
    "            nn.Linear(n_features, 512),\n",
    "            nn.ReLU(),\n",
    "            nn.Linear(512, 512),\n",
    "            nn.ReLU(),\n",
    "            nn.Linear(512, 1),\n",
    "        )\n",
    "\n",
    "    def forward(self, x):\n",
    "        #x = self.flatten(x)\n",
    "        logits = self.linear_relu_stack(x)\n",
    "        \n",
    "        return torch.sigmoid(logits)"
   ]
  },
  {
   "cell_type": "code",
   "execution_count": 926,
   "id": "7fae6059",
   "metadata": {},
   "outputs": [],
   "source": [
    "m = nn.Softmax(dim=1)\n",
    "input = torch.randn(2, 3)"
   ]
  },
  {
   "cell_type": "code",
   "execution_count": 927,
   "id": "a5870be0",
   "metadata": {},
   "outputs": [
    {
     "data": {
      "text/plain": [
       "tensor([[0.1241, 0.0104, 0.8656],\n",
       "        [0.7581, 0.1437, 0.0982]])"
      ]
     },
     "execution_count": 927,
     "metadata": {},
     "output_type": "execute_result"
    }
   ],
   "source": [
    "output = m(input)\n",
    "output"
   ]
  },
  {
   "cell_type": "code",
   "execution_count": 928,
   "id": "b080be6f",
   "metadata": {},
   "outputs": [
    {
     "name": "stdout",
     "output_type": "stream",
     "text": [
      "NeuralNetwork(\n",
      "  (linear_relu_stack): Sequential(\n",
      "    (0): Linear(in_features=529, out_features=512, bias=True)\n",
      "    (1): ReLU()\n",
      "    (2): Linear(in_features=512, out_features=512, bias=True)\n",
      "    (3): ReLU()\n",
      "    (4): Linear(in_features=512, out_features=1, bias=True)\n",
      "  )\n",
      ")\n"
     ]
    }
   ],
   "source": [
    "model = NeuralNetwork(X_train.shape[1]).to(device)\n",
    "print(model)"
   ]
  },
  {
   "cell_type": "code",
   "execution_count": 929,
   "id": "dc1f939f",
   "metadata": {},
   "outputs": [
    {
     "name": "stdout",
     "output_type": "stream",
     "text": [
      "Predicted class: tensor([53], device='cuda:0')\n"
     ]
    }
   ],
   "source": [
    "#sample example for model \n",
    "X = torch.rand(120, 529, device=device)\n",
    "\n",
    "pred_probab = model(X.float())\n",
    "y_pred = pred_probab.argmax(0)\n",
    "print(f\"Predicted class: {y_pred}\")"
   ]
  },
  {
   "cell_type": "code",
   "execution_count": 930,
   "id": "3f13cde6",
   "metadata": {},
   "outputs": [
    {
     "data": {
      "text/plain": [
       "tensor([53], device='cuda:0')"
      ]
     },
     "execution_count": 930,
     "metadata": {},
     "output_type": "execute_result"
    }
   ],
   "source": [
    "y_pred "
   ]
  },
  {
   "cell_type": "code",
   "execution_count": 931,
   "id": "d4ac3d52",
   "metadata": {},
   "outputs": [],
   "source": [
    "criterion = nn.BCELoss().to(device)"
   ]
  },
  {
   "cell_type": "code",
   "execution_count": 932,
   "id": "c887dc54",
   "metadata": {},
   "outputs": [],
   "source": [
    "optimizer = optim.Adam(model.parameters(), lr=0.00001)"
   ]
  },
  {
   "cell_type": "code",
   "execution_count": 933,
   "id": "612a4b67",
   "metadata": {},
   "outputs": [
    {
     "data": {
      "text/plain": [
       "'cuda'"
      ]
     },
     "execution_count": 933,
     "metadata": {},
     "output_type": "execute_result"
    }
   ],
   "source": [
    "device"
   ]
  },
  {
   "cell_type": "code",
   "execution_count": 938,
   "id": "92ec9dcf",
   "metadata": {},
   "outputs": [
    {
     "name": "stderr",
     "output_type": "stream",
     "text": [
      "/s/chopin/d/proj/ramfis-aida/venv/lib/python3.6/site-packages/ipykernel_launcher.py:1: UserWarning: To copy construct from a tensor, it is recommended to use sourceTensor.clone().detach() or sourceTensor.clone().detach().requires_grad_(True), rather than torch.tensor(sourceTensor).\n",
      "  \"\"\"Entry point for launching an IPython kernel.\n",
      "/s/chopin/d/proj/ramfis-aida/venv/lib/python3.6/site-packages/ipykernel_launcher.py:3: UserWarning: To copy construct from a tensor, it is recommended to use sourceTensor.clone().detach() or sourceTensor.clone().detach().requires_grad_(True), rather than torch.tensor(sourceTensor).\n",
      "  This is separate from the ipykernel package so we can avoid doing imports until\n",
      "/s/chopin/d/proj/ramfis-aida/venv/lib/python3.6/site-packages/ipykernel_launcher.py:5: UserWarning: To copy construct from a tensor, it is recommended to use sourceTensor.clone().detach() or sourceTensor.clone().detach().requires_grad_(True), rather than torch.tensor(sourceTensor).\n",
      "  \"\"\"\n",
      "/s/chopin/d/proj/ramfis-aida/venv/lib/python3.6/site-packages/ipykernel_launcher.py:6: UserWarning: To copy construct from a tensor, it is recommended to use sourceTensor.clone().detach() or sourceTensor.clone().detach().requires_grad_(True), rather than torch.tensor(sourceTensor).\n",
      "  \n"
     ]
    }
   ],
   "source": [
    " \n",
    "\n",
    "X_train = torch.tensor(X_train).view(-1,23,23).to(device)\n",
    "#X_train = torch.tensor(X_train).to(device)\n",
    "Y_train = torch.tensor(Y_train).to(device)\n",
    "#X_test = torch.tensor(X_test).view(-1,23,23).to(device)\n",
    "X_test = torch.tensor(X_test).to(device)\n",
    "Y_test = torch.tensor(Y_test).to(device)\n",
    "\n",
    " "
   ]
  },
  {
   "cell_type": "code",
   "execution_count": 395,
   "id": "a7e61049",
   "metadata": {},
   "outputs": [],
   "source": [
    "pred_probab = model(X_train.float())"
   ]
  },
  {
   "cell_type": "code",
   "execution_count": 855,
   "id": "aa8ff0db",
   "metadata": {},
   "outputs": [],
   "source": [
    "def calculate_accuracy(y_true, y_pred):\n",
    "    predicted = y_pred.ge(.5).view(-1)\n",
    "    return ((y_true == predicted).sum().float() / len(y_true), (y_true == predicted).sum())"
   ]
  },
  {
   "cell_type": "code",
   "execution_count": 346,
   "id": "50e63963",
   "metadata": {},
   "outputs": [
    {
     "ename": "TypeError",
     "evalue": "len() of a 0-d tensor",
     "output_type": "error",
     "traceback": [
      "\u001b[0;31m---------------------------------------------------------------------------\u001b[0m",
      "\u001b[0;31mTypeError\u001b[0m                                 Traceback (most recent call last)",
      "\u001b[0;32m<ipython-input-346-ced6eaac3e06>\u001b[0m in \u001b[0;36m<module>\u001b[0;34m\u001b[0m\n\u001b[0;32m----> 1\u001b[0;31m \u001b[0mcalculate_accuracy\u001b[0m\u001b[0;34m(\u001b[0m\u001b[0mtorch\u001b[0m\u001b[0;34m.\u001b[0m\u001b[0mtensor\u001b[0m\u001b[0;34m(\u001b[0m\u001b[0;36m0.3\u001b[0m\u001b[0;34m)\u001b[0m\u001b[0;34m,\u001b[0m \u001b[0mtorch\u001b[0m\u001b[0;34m.\u001b[0m\u001b[0mtensor\u001b[0m\u001b[0;34m(\u001b[0m\u001b[0;36m1\u001b[0m\u001b[0;34m)\u001b[0m\u001b[0;34m)\u001b[0m\u001b[0;34m\u001b[0m\u001b[0;34m\u001b[0m\u001b[0m\n\u001b[0m",
      "\u001b[0;32m<ipython-input-345-0fce3fa93866>\u001b[0m in \u001b[0;36mcalculate_accuracy\u001b[0;34m(y_true, y_pred)\u001b[0m\n\u001b[1;32m      1\u001b[0m \u001b[0;32mdef\u001b[0m \u001b[0mcalculate_accuracy\u001b[0m\u001b[0;34m(\u001b[0m\u001b[0my_true\u001b[0m\u001b[0;34m,\u001b[0m \u001b[0my_pred\u001b[0m\u001b[0;34m)\u001b[0m\u001b[0;34m:\u001b[0m\u001b[0;34m\u001b[0m\u001b[0;34m\u001b[0m\u001b[0m\n\u001b[1;32m      2\u001b[0m     \u001b[0mpredicted\u001b[0m \u001b[0;34m=\u001b[0m \u001b[0my_pred\u001b[0m\u001b[0;34m.\u001b[0m\u001b[0mge\u001b[0m\u001b[0;34m(\u001b[0m\u001b[0;36m.5\u001b[0m\u001b[0;34m)\u001b[0m\u001b[0;34m.\u001b[0m\u001b[0mview\u001b[0m\u001b[0;34m(\u001b[0m\u001b[0;34m-\u001b[0m\u001b[0;36m1\u001b[0m\u001b[0;34m)\u001b[0m\u001b[0;34m\u001b[0m\u001b[0;34m\u001b[0m\u001b[0m\n\u001b[0;32m----> 3\u001b[0;31m     \u001b[0;32mreturn\u001b[0m \u001b[0;34m(\u001b[0m\u001b[0my_true\u001b[0m \u001b[0;34m==\u001b[0m \u001b[0mpredicted\u001b[0m\u001b[0;34m)\u001b[0m\u001b[0;34m.\u001b[0m\u001b[0msum\u001b[0m\u001b[0;34m(\u001b[0m\u001b[0;34m)\u001b[0m\u001b[0;34m.\u001b[0m\u001b[0mfloat\u001b[0m\u001b[0;34m(\u001b[0m\u001b[0;34m)\u001b[0m \u001b[0;34m/\u001b[0m \u001b[0mlen\u001b[0m\u001b[0;34m(\u001b[0m\u001b[0my_true\u001b[0m\u001b[0;34m)\u001b[0m\u001b[0;34m\u001b[0m\u001b[0;34m\u001b[0m\u001b[0m\n\u001b[0m",
      "\u001b[0;32m/s/chopin/d/proj/ramfis-aida/venv/lib64/python3.6/site-packages/torch/_tensor.py\u001b[0m in \u001b[0;36m__len__\u001b[0;34m(self)\u001b[0m\n\u001b[1;32m    622\u001b[0m             \u001b[0;32mreturn\u001b[0m \u001b[0mhandle_torch_function\u001b[0m\u001b[0;34m(\u001b[0m\u001b[0mTensor\u001b[0m\u001b[0;34m.\u001b[0m\u001b[0m__len__\u001b[0m\u001b[0;34m,\u001b[0m \u001b[0;34m(\u001b[0m\u001b[0mself\u001b[0m\u001b[0;34m,\u001b[0m\u001b[0;34m)\u001b[0m\u001b[0;34m,\u001b[0m \u001b[0mself\u001b[0m\u001b[0;34m)\u001b[0m\u001b[0;34m\u001b[0m\u001b[0;34m\u001b[0m\u001b[0m\n\u001b[1;32m    623\u001b[0m         \u001b[0;32mif\u001b[0m \u001b[0mself\u001b[0m\u001b[0;34m.\u001b[0m\u001b[0mdim\u001b[0m\u001b[0;34m(\u001b[0m\u001b[0;34m)\u001b[0m \u001b[0;34m==\u001b[0m \u001b[0;36m0\u001b[0m\u001b[0;34m:\u001b[0m\u001b[0;34m\u001b[0m\u001b[0;34m\u001b[0m\u001b[0m\n\u001b[0;32m--> 624\u001b[0;31m             \u001b[0;32mraise\u001b[0m \u001b[0mTypeError\u001b[0m\u001b[0;34m(\u001b[0m\u001b[0;34m\"len() of a 0-d tensor\"\u001b[0m\u001b[0;34m)\u001b[0m\u001b[0;34m\u001b[0m\u001b[0;34m\u001b[0m\u001b[0m\n\u001b[0m\u001b[1;32m    625\u001b[0m         \u001b[0;32mif\u001b[0m \u001b[0mtorch\u001b[0m\u001b[0;34m.\u001b[0m\u001b[0m_C\u001b[0m\u001b[0;34m.\u001b[0m\u001b[0m_get_tracing_state\u001b[0m\u001b[0;34m(\u001b[0m\u001b[0;34m)\u001b[0m\u001b[0;34m:\u001b[0m\u001b[0;34m\u001b[0m\u001b[0;34m\u001b[0m\u001b[0m\n\u001b[1;32m    626\u001b[0m             warnings.warn('Using len to get tensor shape might cause the trace to be incorrect. '\n",
      "\u001b[0;31mTypeError\u001b[0m: len() of a 0-d tensor"
     ]
    }
   ],
   "source": [
    "calculate_accuracy(torch.tensor(0.3), torch.tensor(1))"
   ]
  },
  {
   "cell_type": "code",
   "execution_count": 856,
   "id": "f65d3fc9",
   "metadata": {},
   "outputs": [],
   "source": [
    "def round_tensor(t, decimal_places=3):\n",
    "    return round(t.item(), decimal_places)\n"
   ]
  },
  {
   "cell_type": "code",
   "execution_count": 857,
   "id": "5a18b76e",
   "metadata": {},
   "outputs": [
    {
     "name": "stdout",
     "output_type": "stream",
     "text": [
      "tensor(617, device='cuda:0')\n",
      "epoch 0Train set - loss: 0.705, accuracy: 0.228Test  set - loss: 0.705, accuracy: 0.222\n",
      "\n",
      "tensor(2527, device='cuda:0')\n",
      "epoch 100Train set - loss: 0.476, accuracy: 0.909Test  set - loss: 0.476, accuracy: 0.908\n",
      "\n",
      "tensor(2527, device='cuda:0')\n",
      "epoch 200Train set - loss: 0.327, accuracy: 0.909Test  set - loss: 0.328, accuracy: 0.908\n",
      "\n",
      "tensor(2527, device='cuda:0')\n",
      "epoch 300Train set - loss: 0.308, accuracy: 0.909Test  set - loss: 0.311, accuracy: 0.908\n",
      "\n",
      "tensor(2527, device='cuda:0')\n",
      "epoch 400Train set - loss: 0.304, accuracy: 0.909Test  set - loss: 0.308, accuracy: 0.908\n",
      "\n",
      "tensor(2527, device='cuda:0')\n",
      "epoch 500Train set - loss: 0.3, accuracy: 0.909Test  set - loss: 0.306, accuracy: 0.908\n",
      "\n",
      "tensor(2527, device='cuda:0')\n",
      "epoch 600Train set - loss: 0.295, accuracy: 0.909Test  set - loss: 0.303, accuracy: 0.908\n",
      "\n",
      "tensor(2527, device='cuda:0')\n",
      "epoch 700Train set - loss: 0.29, accuracy: 0.909Test  set - loss: 0.298, accuracy: 0.908\n",
      "\n",
      "tensor(2527, device='cuda:0')\n",
      "epoch 800Train set - loss: 0.282, accuracy: 0.909Test  set - loss: 0.293, accuracy: 0.908\n",
      "\n",
      "tensor(2527, device='cuda:0')\n",
      "epoch 900Train set - loss: 0.273, accuracy: 0.909Test  set - loss: 0.285, accuracy: 0.908\n",
      "\n",
      "tensor(2527, device='cuda:0')\n",
      "epoch 1000Train set - loss: 0.26, accuracy: 0.909Test  set - loss: 0.275, accuracy: 0.908\n",
      "\n",
      "tensor(2527, device='cuda:0')\n",
      "epoch 1100Train set - loss: 0.243, accuracy: 0.91Test  set - loss: 0.261, accuracy: 0.908\n",
      "\n",
      "tensor(2527, device='cuda:0')\n",
      "epoch 1200Train set - loss: 0.222, accuracy: 0.91Test  set - loss: 0.243, accuracy: 0.908\n",
      "\n",
      "tensor(2527, device='cuda:0')\n",
      "epoch 1300Train set - loss: 0.198, accuracy: 0.913Test  set - loss: 0.221, accuracy: 0.908\n",
      "\n",
      "tensor(2533, device='cuda:0')\n",
      "epoch 1400Train set - loss: 0.17, accuracy: 0.918Test  set - loss: 0.196, accuracy: 0.91\n",
      "\n",
      "tensor(2548, device='cuda:0')\n",
      "epoch 1500Train set - loss: 0.143, accuracy: 0.929Test  set - loss: 0.17, accuracy: 0.915\n",
      "\n",
      "tensor(2598, device='cuda:0')\n",
      "epoch 1600Train set - loss: 0.118, accuracy: 0.953Test  set - loss: 0.146, accuracy: 0.933\n",
      "\n",
      "tensor(2659, device='cuda:0')\n",
      "epoch 1700Train set - loss: 0.096, accuracy: 0.974Test  set - loss: 0.124, accuracy: 0.955\n",
      "\n",
      "tensor(2700, device='cuda:0')\n",
      "epoch 1800Train set - loss: 0.078, accuracy: 0.985Test  set - loss: 0.106, accuracy: 0.97\n",
      "\n",
      "tensor(2715, device='cuda:0')\n",
      "epoch 1900Train set - loss: 0.064, accuracy: 0.989Test  set - loss: 0.09, accuracy: 0.975\n",
      "\n",
      "tensor(2727, device='cuda:0')\n",
      "epoch 2000Train set - loss: 0.052, accuracy: 0.992Test  set - loss: 0.078, accuracy: 0.98\n",
      "\n",
      "tensor(2734, device='cuda:0')\n",
      "epoch 2100Train set - loss: 0.043, accuracy: 0.994Test  set - loss: 0.068, accuracy: 0.982\n",
      "\n",
      "tensor(2743, device='cuda:0')\n",
      "epoch 2200Train set - loss: 0.036, accuracy: 0.995Test  set - loss: 0.061, accuracy: 0.985\n",
      "\n",
      "tensor(2746, device='cuda:0')\n",
      "epoch 2300Train set - loss: 0.03, accuracy: 0.997Test  set - loss: 0.055, accuracy: 0.986\n",
      "\n",
      "tensor(2752, device='cuda:0')\n",
      "epoch 2400Train set - loss: 0.025, accuracy: 0.997Test  set - loss: 0.049, accuracy: 0.989\n",
      "\n",
      "tensor(2753, device='cuda:0')\n",
      "epoch 2500Train set - loss: 0.021, accuracy: 0.998Test  set - loss: 0.045, accuracy: 0.989\n",
      "\n",
      "tensor(2754, device='cuda:0')\n",
      "epoch 2600Train set - loss: 0.018, accuracy: 0.998Test  set - loss: 0.042, accuracy: 0.989\n",
      "\n",
      "tensor(2758, device='cuda:0')\n",
      "epoch 2700Train set - loss: 0.015, accuracy: 0.999Test  set - loss: 0.039, accuracy: 0.991\n",
      "\n",
      "tensor(2759, device='cuda:0')\n",
      "epoch 2800Train set - loss: 0.013, accuracy: 0.999Test  set - loss: 0.037, accuracy: 0.991\n",
      "\n",
      "tensor(2760, device='cuda:0')\n",
      "epoch 2900Train set - loss: 0.012, accuracy: 0.999Test  set - loss: 0.035, accuracy: 0.991\n",
      "\n",
      "tensor(2761, device='cuda:0')\n",
      "epoch 3000Train set - loss: 0.01, accuracy: 0.999Test  set - loss: 0.034, accuracy: 0.992\n",
      "\n",
      "tensor(2761, device='cuda:0')\n",
      "epoch 3100Train set - loss: 0.009, accuracy: 0.999Test  set - loss: 0.032, accuracy: 0.992\n",
      "\n",
      "tensor(2761, device='cuda:0')\n",
      "epoch 3200Train set - loss: 0.008, accuracy: 1.0Test  set - loss: 0.031, accuracy: 0.992\n",
      "\n",
      "tensor(2761, device='cuda:0')\n",
      "epoch 3300Train set - loss: 0.007, accuracy: 1.0Test  set - loss: 0.03, accuracy: 0.992\n",
      "\n",
      "tensor(2761, device='cuda:0')\n",
      "epoch 3400Train set - loss: 0.006, accuracy: 1.0Test  set - loss: 0.029, accuracy: 0.992\n",
      "\n",
      "tensor(2762, device='cuda:0')\n",
      "epoch 3500Train set - loss: 0.005, accuracy: 1.0Test  set - loss: 0.029, accuracy: 0.992\n",
      "\n",
      "tensor(2762, device='cuda:0')\n",
      "epoch 3600Train set - loss: 0.004, accuracy: 1.0Test  set - loss: 0.028, accuracy: 0.992\n",
      "\n",
      "tensor(2762, device='cuda:0')\n",
      "epoch 3700Train set - loss: 0.004, accuracy: 1.0Test  set - loss: 0.027, accuracy: 0.992\n",
      "\n",
      "tensor(2762, device='cuda:0')\n",
      "epoch 3800Train set - loss: 0.003, accuracy: 1.0Test  set - loss: 0.027, accuracy: 0.992\n",
      "\n",
      "tensor(2763, device='cuda:0')\n",
      "epoch 3900Train set - loss: 0.003, accuracy: 1.0Test  set - loss: 0.026, accuracy: 0.992\n",
      "\n",
      "tensor(2763, device='cuda:0')\n",
      "epoch 4000Train set - loss: 0.003, accuracy: 1.0Test  set - loss: 0.026, accuracy: 0.992\n",
      "\n",
      "tensor(2763, device='cuda:0')\n",
      "epoch 4100Train set - loss: 0.002, accuracy: 1.0Test  set - loss: 0.026, accuracy: 0.992\n",
      "\n",
      "tensor(2763, device='cuda:0')\n",
      "epoch 4200Train set - loss: 0.002, accuracy: 1.0Test  set - loss: 0.025, accuracy: 0.992\n",
      "\n",
      "tensor(2763, device='cuda:0')\n",
      "epoch 4300Train set - loss: 0.002, accuracy: 1.0Test  set - loss: 0.025, accuracy: 0.992\n",
      "\n",
      "tensor(2763, device='cuda:0')\n",
      "epoch 4400Train set - loss: 0.002, accuracy: 1.0Test  set - loss: 0.025, accuracy: 0.992\n",
      "\n",
      "tensor(2763, device='cuda:0')\n",
      "epoch 4500Train set - loss: 0.002, accuracy: 1.0Test  set - loss: 0.025, accuracy: 0.992\n",
      "\n",
      "tensor(2763, device='cuda:0')\n",
      "epoch 4600Train set - loss: 0.001, accuracy: 1.0Test  set - loss: 0.024, accuracy: 0.992\n",
      "\n",
      "tensor(2764, device='cuda:0')\n",
      "epoch 4700Train set - loss: 0.001, accuracy: 1.0Test  set - loss: 0.024, accuracy: 0.993\n",
      "\n",
      "tensor(2764, device='cuda:0')\n",
      "epoch 4800Train set - loss: 0.001, accuracy: 1.0Test  set - loss: 0.024, accuracy: 0.993\n",
      "\n",
      "tensor(2764, device='cuda:0')\n",
      "epoch 4900Train set - loss: 0.001, accuracy: 1.0Test  set - loss: 0.024, accuracy: 0.993\n",
      "\n",
      "tensor(2765, device='cuda:0')\n",
      "epoch 5000Train set - loss: 0.001, accuracy: 1.0Test  set - loss: 0.024, accuracy: 0.993\n",
      "\n",
      "tensor(2765, device='cuda:0')\n",
      "epoch 5100Train set - loss: 0.001, accuracy: 1.0Test  set - loss: 0.023, accuracy: 0.993\n",
      "\n",
      "tensor(2765, device='cuda:0')\n",
      "epoch 5200Train set - loss: 0.001, accuracy: 1.0Test  set - loss: 0.023, accuracy: 0.993\n",
      "\n",
      "tensor(2765, device='cuda:0')\n",
      "epoch 5300Train set - loss: 0.001, accuracy: 1.0Test  set - loss: 0.023, accuracy: 0.993\n",
      "\n",
      "tensor(2765, device='cuda:0')\n",
      "epoch 5400Train set - loss: 0.001, accuracy: 1.0Test  set - loss: 0.023, accuracy: 0.993\n",
      "\n",
      "tensor(2765, device='cuda:0')\n",
      "epoch 5500Train set - loss: 0.001, accuracy: 1.0Test  set - loss: 0.023, accuracy: 0.993\n",
      "\n",
      "tensor(2765, device='cuda:0')\n",
      "epoch 5600Train set - loss: 0.001, accuracy: 1.0Test  set - loss: 0.023, accuracy: 0.993\n",
      "\n",
      "tensor(2765, device='cuda:0')\n",
      "epoch 5700Train set - loss: 0.001, accuracy: 1.0Test  set - loss: 0.023, accuracy: 0.993\n",
      "\n",
      "tensor(2765, device='cuda:0')\n",
      "epoch 5800Train set - loss: 0.001, accuracy: 1.0Test  set - loss: 0.023, accuracy: 0.993\n",
      "\n",
      "tensor(2765, device='cuda:0')\n",
      "epoch 5900Train set - loss: 0.0, accuracy: 1.0Test  set - loss: 0.023, accuracy: 0.993\n",
      "\n",
      "tensor(2765, device='cuda:0')\n",
      "epoch 6000Train set - loss: 0.0, accuracy: 1.0Test  set - loss: 0.023, accuracy: 0.993\n",
      "\n",
      "tensor(2765, device='cuda:0')\n",
      "epoch 6100Train set - loss: 0.0, accuracy: 1.0Test  set - loss: 0.023, accuracy: 0.993\n",
      "\n",
      "tensor(2765, device='cuda:0')\n",
      "epoch 6200Train set - loss: 0.0, accuracy: 1.0Test  set - loss: 0.022, accuracy: 0.993\n",
      "\n",
      "tensor(2765, device='cuda:0')\n",
      "epoch 6300Train set - loss: 0.0, accuracy: 1.0Test  set - loss: 0.022, accuracy: 0.993\n",
      "\n",
      "tensor(2765, device='cuda:0')\n",
      "epoch 6400Train set - loss: 0.0, accuracy: 1.0Test  set - loss: 0.022, accuracy: 0.993\n",
      "\n",
      "tensor(2765, device='cuda:0')\n",
      "epoch 6500Train set - loss: 0.0, accuracy: 1.0Test  set - loss: 0.022, accuracy: 0.993\n",
      "\n",
      "tensor(2765, device='cuda:0')\n",
      "epoch 6600Train set - loss: 0.0, accuracy: 1.0Test  set - loss: 0.022, accuracy: 0.993\n",
      "\n",
      "tensor(2765, device='cuda:0')\n",
      "epoch 6700Train set - loss: 0.0, accuracy: 1.0Test  set - loss: 0.022, accuracy: 0.993\n",
      "\n",
      "tensor(2765, device='cuda:0')\n",
      "epoch 6800Train set - loss: 0.0, accuracy: 1.0Test  set - loss: 0.022, accuracy: 0.993\n",
      "\n"
     ]
    },
    {
     "name": "stdout",
     "output_type": "stream",
     "text": [
      "tensor(2766, device='cuda:0')\n",
      "epoch 6900Train set - loss: 0.0, accuracy: 1.0Test  set - loss: 0.022, accuracy: 0.994\n",
      "\n",
      "tensor(2766, device='cuda:0')\n",
      "epoch 7000Train set - loss: 0.0, accuracy: 1.0Test  set - loss: 0.022, accuracy: 0.994\n",
      "\n",
      "tensor(2766, device='cuda:0')\n",
      "epoch 7100Train set - loss: 0.0, accuracy: 1.0Test  set - loss: 0.022, accuracy: 0.994\n",
      "\n",
      "tensor(2766, device='cuda:0')\n",
      "epoch 7200Train set - loss: 0.0, accuracy: 1.0Test  set - loss: 0.022, accuracy: 0.994\n",
      "\n",
      "tensor(2766, device='cuda:0')\n",
      "epoch 7300Train set - loss: 0.0, accuracy: 1.0Test  set - loss: 0.022, accuracy: 0.994\n",
      "\n",
      "tensor(2766, device='cuda:0')\n",
      "epoch 7400Train set - loss: 0.0, accuracy: 1.0Test  set - loss: 0.022, accuracy: 0.994\n",
      "\n",
      "tensor(2767, device='cuda:0')\n",
      "epoch 7500Train set - loss: 0.0, accuracy: 1.0Test  set - loss: 0.022, accuracy: 0.994\n",
      "\n",
      "tensor(2767, device='cuda:0')\n",
      "epoch 7600Train set - loss: 0.0, accuracy: 1.0Test  set - loss: 0.022, accuracy: 0.994\n",
      "\n",
      "tensor(2767, device='cuda:0')\n",
      "epoch 7700Train set - loss: 0.0, accuracy: 1.0Test  set - loss: 0.022, accuracy: 0.994\n",
      "\n",
      "tensor(2767, device='cuda:0')\n",
      "epoch 7800Train set - loss: 0.0, accuracy: 1.0Test  set - loss: 0.022, accuracy: 0.994\n",
      "\n",
      "tensor(2767, device='cuda:0')\n",
      "epoch 7900Train set - loss: 0.0, accuracy: 1.0Test  set - loss: 0.022, accuracy: 0.994\n",
      "\n",
      "tensor(2767, device='cuda:0')\n",
      "epoch 8000Train set - loss: 0.0, accuracy: 1.0Test  set - loss: 0.022, accuracy: 0.994\n",
      "\n",
      "tensor(2767, device='cuda:0')\n",
      "epoch 8100Train set - loss: 0.0, accuracy: 1.0Test  set - loss: 0.022, accuracy: 0.994\n",
      "\n",
      "tensor(2767, device='cuda:0')\n",
      "epoch 8200Train set - loss: 0.0, accuracy: 1.0Test  set - loss: 0.022, accuracy: 0.994\n",
      "\n",
      "tensor(2767, device='cuda:0')\n",
      "epoch 8300Train set - loss: 0.0, accuracy: 1.0Test  set - loss: 0.022, accuracy: 0.994\n",
      "\n",
      "tensor(2767, device='cuda:0')\n",
      "epoch 8400Train set - loss: 0.0, accuracy: 1.0Test  set - loss: 0.022, accuracy: 0.994\n",
      "\n",
      "tensor(2767, device='cuda:0')\n",
      "epoch 8500Train set - loss: 0.0, accuracy: 1.0Test  set - loss: 0.022, accuracy: 0.994\n",
      "\n",
      "tensor(2767, device='cuda:0')\n",
      "epoch 8600Train set - loss: 0.0, accuracy: 1.0Test  set - loss: 0.022, accuracy: 0.994\n",
      "\n",
      "tensor(2767, device='cuda:0')\n",
      "epoch 8700Train set - loss: 0.0, accuracy: 1.0Test  set - loss: 0.022, accuracy: 0.994\n",
      "\n",
      "tensor(2767, device='cuda:0')\n",
      "epoch 8800Train set - loss: 0.0, accuracy: 1.0Test  set - loss: 0.022, accuracy: 0.994\n",
      "\n",
      "tensor(2767, device='cuda:0')\n",
      "epoch 8900Train set - loss: 0.0, accuracy: 1.0Test  set - loss: 0.022, accuracy: 0.994\n",
      "\n",
      "tensor(2767, device='cuda:0')\n",
      "epoch 9000Train set - loss: 0.0, accuracy: 1.0Test  set - loss: 0.022, accuracy: 0.994\n",
      "\n",
      "tensor(2767, device='cuda:0')\n",
      "epoch 9100Train set - loss: 0.0, accuracy: 1.0Test  set - loss: 0.022, accuracy: 0.994\n",
      "\n",
      "tensor(2767, device='cuda:0')\n",
      "epoch 9200Train set - loss: 0.0, accuracy: 1.0Test  set - loss: 0.022, accuracy: 0.994\n",
      "\n",
      "tensor(2767, device='cuda:0')\n",
      "epoch 9300Train set - loss: 0.0, accuracy: 1.0Test  set - loss: 0.022, accuracy: 0.994\n",
      "\n",
      "tensor(2767, device='cuda:0')\n",
      "epoch 9400Train set - loss: 0.0, accuracy: 1.0Test  set - loss: 0.022, accuracy: 0.994\n",
      "\n",
      "tensor(2767, device='cuda:0')\n",
      "epoch 9500Train set - loss: 0.0, accuracy: 1.0Test  set - loss: 0.022, accuracy: 0.994\n",
      "\n",
      "tensor(2768, device='cuda:0')\n",
      "epoch 9600Train set - loss: 0.0, accuracy: 1.0Test  set - loss: 0.022, accuracy: 0.994\n",
      "\n",
      "tensor(2768, device='cuda:0')\n",
      "epoch 9700Train set - loss: 0.0, accuracy: 1.0Test  set - loss: 0.022, accuracy: 0.994\n",
      "\n",
      "tensor(2768, device='cuda:0')\n",
      "epoch 9800Train set - loss: 0.0, accuracy: 1.0Test  set - loss: 0.022, accuracy: 0.994\n",
      "\n",
      "tensor(2768, device='cuda:0')\n",
      "epoch 9900Train set - loss: 0.0, accuracy: 1.0Test  set - loss: 0.022, accuracy: 0.994\n",
      "\n"
     ]
    }
   ],
   "source": [
    "test_losses = []\n",
    "train_losses = []\n",
    "test_accur = []\n",
    "train_accur = []\n",
    "for epoch in range(10000):\n",
    "\n",
    "    y_pred = model(X_train.float())\n",
    "\n",
    "    y_pred = torch.squeeze(y_pred)\n",
    "    train_loss = criterion(y_pred, Y_train.float())\n",
    "\n",
    "    if epoch % 100 == 0:\n",
    "        train_acc,_ = calculate_accuracy(Y_train, y_pred)\n",
    "\n",
    "        y_test_pred = model(X_test.float())\n",
    "        y_test_pred = torch.squeeze(y_test_pred)\n",
    "         \n",
    "\n",
    "        test_loss = criterion(y_test_pred, Y_test.float())\n",
    "\n",
    "        test_acc, total_corr = calculate_accuracy(Y_test, y_test_pred)\n",
    "        print(total_corr)\n",
    "        \n",
    "        print(f'''epoch {epoch}Train set - loss: {round_tensor(train_loss)}, accuracy: {round_tensor(train_acc)}Test  set - loss: {round_tensor(test_loss)}, accuracy: {round_tensor(test_acc)}\n",
    "''')\n",
    "        train_losses.append(train_loss)\n",
    "        test_losses.append(test_loss)\n",
    "        \n",
    "        test_accur.append(test_acc)\n",
    "        train_accur.append(train_acc)\n",
    "\n",
    "    optimizer.zero_grad()\n",
    "\n",
    "    train_loss.backward()\n",
    "\n",
    "    optimizer.step()\n",
    "    \n",
    "    "
   ]
  },
  {
   "cell_type": "markdown",
   "id": "9b973e01",
   "metadata": {},
   "source": [
    "# Loss and Accuracies Plots vs Epochs with phonetic vectors as features 90/10 (neg/pos) samples"
   ]
  },
  {
   "cell_type": "code",
   "execution_count": 505,
   "id": "ebe236f6",
   "metadata": {},
   "outputs": [
    {
     "data": {
      "text/plain": [
       "Text(0, 0.5, 'loss')"
      ]
     },
     "execution_count": 505,
     "metadata": {},
     "output_type": "execute_result"
    },
    {
     "data": {
      "image/png": "[encoded data removed]",
      "text/plain": [
       "<Figure size 432x288 with 2 Axes>"
      ]
     },
     "metadata": {
      "needs_background": "light"
     },
     "output_type": "display_data"
    }
   ],
   "source": [
    "fig, (ax1, ax2) = plt.subplots(1,2)\n",
    "ax1.plot(train_losses)\n",
    "ax2.plot(test_losses)\n",
    "fig.suptitle('Train and Test Loss vs Epochs')\n",
    "#fig.suptitle('TestLoss vs Epochs')\n",
    "plt.xlabel('Epochs')\n",
    "plt.ylabel('loss')"
   ]
  },
  {
   "cell_type": "code",
   "execution_count": 518,
   "id": "8eeea471",
   "metadata": {},
   "outputs": [
    {
     "data": {
      "text/plain": [
       "Text(0, 0.5, 'accuracies')"
      ]
     },
     "execution_count": 518,
     "metadata": {},
     "output_type": "execute_result"
    },
    {
     "data": {
      "image/png": "[encoded data removed]",
      "text/plain": [
       "<Figure size 432x288 with 2 Axes>"
      ]
     },
     "metadata": {
      "needs_background": "light"
     },
     "output_type": "display_data"
    }
   ],
   "source": [
    "fig, (ax1, ax2) = plt.subplots(1,2)\n",
    "ax1.plot(train_accur)\n",
    "ax2.plot(test_accur)\n",
    "fig.suptitle('Train and Test Accuracies vs Epochs')\n",
    "#fig.suptitle('TestLoss vs Epochs')\n",
    "plt.xlabel('Epochs')\n",
    "plt.ylabel('accuracies')"
   ]
  },
  {
   "cell_type": "code",
   "execution_count": 519,
   "id": "1de03537",
   "metadata": {},
   "outputs": [
    {
     "data": {
      "image/png": "[encoded data removed]",
      "text/plain": [
       "<Figure size 432x288 with 1 Axes>"
      ]
     },
     "metadata": {
      "needs_background": "light"
     },
     "output_type": "display_data"
    },
    {
     "data": {
      "image/png": "[encoded data removed]",
      "text/plain": [
       "<Figure size 432x288 with 1 Axes>"
      ]
     },
     "metadata": {
      "needs_background": "light"
     },
     "output_type": "display_data"
    }
   ],
   "source": [
    "epochs = range(1, len(test_accur) + 1)\n",
    "\n",
    "plt.plot(epochs, train_accur, 'bo', label='Training acc')\n",
    "plt.plot(epochs, test_accur, 'b', label='test acc')\n",
    "plt.title('Training and test accuracy')\n",
    "plt.legend()\n",
    "\n",
    "plt.figure()\n",
    "\n",
    "plt.plot(epochs, train_losses, 'bo', label='Training loss')\n",
    "plt.plot(epochs, test_losses, 'b', label='test loss')\n",
    "plt.title('Training and test loss')\n",
    "plt.legend()\n",
    "\n",
    "plt.show()"
   ]
  },
  {
   "cell_type": "markdown",
   "id": "51252682",
   "metadata": {},
   "source": [
    "# Loss and Accuracies Plots vs Epochs with Edit distances as features 90/10 (neg/pos)samples"
   ]
  },
  {
   "cell_type": "code",
   "execution_count": 858,
   "id": "b56ba27d",
   "metadata": {},
   "outputs": [
    {
     "data": {
      "text/plain": [
       "Text(0, 0.5, 'accuracies')"
      ]
     },
     "execution_count": 858,
     "metadata": {},
     "output_type": "execute_result"
    },
    {
     "data": {
      "image/png": "[encoded data removed]",
      "text/plain": [
       "<Figure size 432x288 with 2 Axes>"
      ]
     },
     "metadata": {
      "needs_background": "light"
     },
     "output_type": "display_data"
    },
    {
     "data": {
      "image/png": "[encoded data removed]",
      "text/plain": [
       "<Figure size 432x288 with 2 Axes>"
      ]
     },
     "metadata": {
      "needs_background": "light"
     },
     "output_type": "display_data"
    }
   ],
   "source": [
    "#plots of accuracies and losses with edit distances as features\n",
    "fig, (ax1, ax2) = plt.subplots(1,2)\n",
    "ax1.plot(train_losses)\n",
    "ax2.plot(test_losses)\n",
    "fig.suptitle('Train and Test Loss vs Epochs')\n",
    "#fig.suptitle('TestLoss vs Epochs')\n",
    "plt.xlabel('Epochs')\n",
    "plt.ylabel('loss')\n",
    "\n",
    "\n",
    "fig, (ax1, ax2) = plt.subplots(1,2)\n",
    "ax1.plot(train_accur)\n",
    "ax2.plot(test_accur)\n",
    "fig.suptitle('Train and Test Accuracies vs Epochs')\n",
    "#fig.suptitle('TestLoss vs Epochs')\n",
    "plt.xlabel('Epochs')\n",
    "plt.ylabel('accuracies')\n",
    "\n"
   ]
  },
  {
   "cell_type": "code",
   "execution_count": 859,
   "id": "70aaface",
   "metadata": {},
   "outputs": [
    {
     "data": {
      "image/png": "[encoded data removed]",
      "text/plain": [
       "<Figure size 432x288 with 1 Axes>"
      ]
     },
     "metadata": {
      "needs_background": "light"
     },
     "output_type": "display_data"
    },
    {
     "data": {
      "image/png": "[encoded data removed]",
      "text/plain": [
       "<Figure size 432x288 with 1 Axes>"
      ]
     },
     "metadata": {
      "needs_background": "light"
     },
     "output_type": "display_data"
    }
   ],
   "source": [
    "epochs = range(1, len(test_accur) + 1)\n",
    "\n",
    "plt.plot(epochs, train_accur, 'bo', label='Training acc')\n",
    "plt.plot(epochs, test_accur, 'b', label='test acc')\n",
    "plt.title('Training and test accuracy')\n",
    "plt.legend()\n",
    "\n",
    "plt.figure()\n",
    "\n",
    "plt.plot(epochs, train_losses, 'bo', label='Training loss')\n",
    "plt.plot(epochs, test_losses, 'b', label='test loss')\n",
    "plt.title('Training and test loss')\n",
    "plt.legend()\n",
    "\n",
    "plt.show()"
   ]
  },
  {
   "cell_type": "markdown",
   "id": "2d73cec4",
   "metadata": {},
   "source": [
    "# Loss and Accuracies Plots vs Epochs with Edit distances as features balanced  50/50 (neg/pos)samples"
   ]
  },
  {
   "cell_type": "code",
   "execution_count": 935,
   "id": "5a75d483",
   "metadata": {},
   "outputs": [
    {
     "name": "stdout",
     "output_type": "stream",
     "text": [
      "tensor(149, device='cuda:0')\n",
      "epoch 0Train set - loss: 0.692, accuracy: 0.545Test  set - loss: 0.693, accuracy: 0.517\n",
      "\n",
      "tensor(193, device='cuda:0')\n",
      "epoch 100Train set - loss: 0.67, accuracy: 0.771Test  set - loss: 0.68, accuracy: 0.67\n",
      "\n",
      "tensor(221, device='cuda:0')\n",
      "epoch 200Train set - loss: 0.629, accuracy: 0.863Test  set - loss: 0.651, accuracy: 0.767\n",
      "\n",
      "tensor(238, device='cuda:0')\n",
      "epoch 300Train set - loss: 0.555, accuracy: 0.915Test  set - loss: 0.594, accuracy: 0.826\n",
      "\n",
      "tensor(256, device='cuda:0')\n",
      "epoch 400Train set - loss: 0.449, accuracy: 0.954Test  set - loss: 0.509, accuracy: 0.889\n",
      "\n",
      "tensor(260, device='cuda:0')\n",
      "epoch 500Train set - loss: 0.341, accuracy: 0.974Test  set - loss: 0.418, accuracy: 0.903\n",
      "\n",
      "tensor(265, device='cuda:0')\n",
      "epoch 600Train set - loss: 0.252, accuracy: 0.982Test  set - loss: 0.342, accuracy: 0.92\n",
      "\n",
      "tensor(266, device='cuda:0')\n",
      "epoch 700Train set - loss: 0.186, accuracy: 0.987Test  set - loss: 0.285, accuracy: 0.924\n",
      "\n",
      "tensor(268, device='cuda:0')\n",
      "epoch 800Train set - loss: 0.139, accuracy: 0.992Test  set - loss: 0.244, accuracy: 0.931\n",
      "\n",
      "tensor(269, device='cuda:0')\n",
      "epoch 900Train set - loss: 0.105, accuracy: 0.995Test  set - loss: 0.213, accuracy: 0.934\n",
      "\n",
      "tensor(272, device='cuda:0')\n",
      "epoch 1000Train set - loss: 0.08, accuracy: 0.997Test  set - loss: 0.191, accuracy: 0.944\n",
      "\n",
      "tensor(272, device='cuda:0')\n",
      "epoch 1100Train set - loss: 0.062, accuracy: 0.998Test  set - loss: 0.174, accuracy: 0.944\n",
      "\n",
      "tensor(273, device='cuda:0')\n",
      "epoch 1200Train set - loss: 0.049, accuracy: 1.0Test  set - loss: 0.161, accuracy: 0.948\n",
      "\n",
      "tensor(273, device='cuda:0')\n",
      "epoch 1300Train set - loss: 0.039, accuracy: 1.0Test  set - loss: 0.151, accuracy: 0.948\n",
      "\n",
      "tensor(273, device='cuda:0')\n",
      "epoch 1400Train set - loss: 0.031, accuracy: 1.0Test  set - loss: 0.144, accuracy: 0.948\n",
      "\n",
      "tensor(273, device='cuda:0')\n",
      "epoch 1500Train set - loss: 0.025, accuracy: 1.0Test  set - loss: 0.139, accuracy: 0.948\n",
      "\n",
      "tensor(273, device='cuda:0')\n",
      "epoch 1600Train set - loss: 0.021, accuracy: 1.0Test  set - loss: 0.134, accuracy: 0.948\n",
      "\n",
      "tensor(273, device='cuda:0')\n",
      "epoch 1700Train set - loss: 0.017, accuracy: 1.0Test  set - loss: 0.131, accuracy: 0.948\n",
      "\n",
      "tensor(273, device='cuda:0')\n",
      "epoch 1800Train set - loss: 0.015, accuracy: 1.0Test  set - loss: 0.128, accuracy: 0.948\n",
      "\n",
      "tensor(274, device='cuda:0')\n",
      "epoch 1900Train set - loss: 0.012, accuracy: 1.0Test  set - loss: 0.126, accuracy: 0.951\n",
      "\n",
      "tensor(274, device='cuda:0')\n",
      "epoch 2000Train set - loss: 0.011, accuracy: 1.0Test  set - loss: 0.125, accuracy: 0.951\n",
      "\n",
      "tensor(274, device='cuda:0')\n",
      "epoch 2100Train set - loss: 0.009, accuracy: 1.0Test  set - loss: 0.123, accuracy: 0.951\n",
      "\n",
      "tensor(274, device='cuda:0')\n",
      "epoch 2200Train set - loss: 0.008, accuracy: 1.0Test  set - loss: 0.122, accuracy: 0.951\n",
      "\n",
      "tensor(274, device='cuda:0')\n",
      "epoch 2300Train set - loss: 0.007, accuracy: 1.0Test  set - loss: 0.122, accuracy: 0.951\n",
      "\n",
      "tensor(274, device='cuda:0')\n",
      "epoch 2400Train set - loss: 0.006, accuracy: 1.0Test  set - loss: 0.121, accuracy: 0.951\n",
      "\n",
      "tensor(274, device='cuda:0')\n",
      "epoch 2500Train set - loss: 0.005, accuracy: 1.0Test  set - loss: 0.12, accuracy: 0.951\n",
      "\n",
      "tensor(275, device='cuda:0')\n",
      "epoch 2600Train set - loss: 0.005, accuracy: 1.0Test  set - loss: 0.12, accuracy: 0.955\n",
      "\n",
      "tensor(275, device='cuda:0')\n",
      "epoch 2700Train set - loss: 0.004, accuracy: 1.0Test  set - loss: 0.12, accuracy: 0.955\n",
      "\n",
      "tensor(277, device='cuda:0')\n",
      "epoch 2800Train set - loss: 0.004, accuracy: 1.0Test  set - loss: 0.12, accuracy: 0.962\n",
      "\n",
      "tensor(277, device='cuda:0')\n",
      "epoch 2900Train set - loss: 0.003, accuracy: 1.0Test  set - loss: 0.119, accuracy: 0.962\n",
      "\n",
      "tensor(277, device='cuda:0')\n",
      "epoch 3000Train set - loss: 0.003, accuracy: 1.0Test  set - loss: 0.119, accuracy: 0.962\n",
      "\n",
      "tensor(278, device='cuda:0')\n",
      "epoch 3100Train set - loss: 0.003, accuracy: 1.0Test  set - loss: 0.119, accuracy: 0.965\n",
      "\n",
      "tensor(278, device='cuda:0')\n",
      "epoch 3200Train set - loss: 0.002, accuracy: 1.0Test  set - loss: 0.119, accuracy: 0.965\n",
      "\n",
      "tensor(278, device='cuda:0')\n",
      "epoch 3300Train set - loss: 0.002, accuracy: 1.0Test  set - loss: 0.119, accuracy: 0.965\n",
      "\n",
      "tensor(278, device='cuda:0')\n",
      "epoch 3400Train set - loss: 0.002, accuracy: 1.0Test  set - loss: 0.119, accuracy: 0.965\n",
      "\n",
      "tensor(278, device='cuda:0')\n",
      "epoch 3500Train set - loss: 0.002, accuracy: 1.0Test  set - loss: 0.119, accuracy: 0.965\n",
      "\n",
      "tensor(278, device='cuda:0')\n",
      "epoch 3600Train set - loss: 0.002, accuracy: 1.0Test  set - loss: 0.119, accuracy: 0.965\n",
      "\n",
      "tensor(278, device='cuda:0')\n",
      "epoch 3700Train set - loss: 0.002, accuracy: 1.0Test  set - loss: 0.12, accuracy: 0.965\n",
      "\n",
      "tensor(278, device='cuda:0')\n",
      "epoch 3800Train set - loss: 0.001, accuracy: 1.0Test  set - loss: 0.12, accuracy: 0.965\n",
      "\n",
      "tensor(278, device='cuda:0')\n",
      "epoch 3900Train set - loss: 0.001, accuracy: 1.0Test  set - loss: 0.12, accuracy: 0.965\n",
      "\n",
      "tensor(278, device='cuda:0')\n",
      "epoch 4000Train set - loss: 0.001, accuracy: 1.0Test  set - loss: 0.12, accuracy: 0.965\n",
      "\n",
      "tensor(278, device='cuda:0')\n",
      "epoch 4100Train set - loss: 0.001, accuracy: 1.0Test  set - loss: 0.12, accuracy: 0.965\n",
      "\n",
      "tensor(278, device='cuda:0')\n",
      "epoch 4200Train set - loss: 0.001, accuracy: 1.0Test  set - loss: 0.12, accuracy: 0.965\n",
      "\n",
      "tensor(278, device='cuda:0')\n",
      "epoch 4300Train set - loss: 0.001, accuracy: 1.0Test  set - loss: 0.12, accuracy: 0.965\n",
      "\n",
      "tensor(278, device='cuda:0')\n",
      "epoch 4400Train set - loss: 0.001, accuracy: 1.0Test  set - loss: 0.12, accuracy: 0.965\n",
      "\n",
      "tensor(278, device='cuda:0')\n",
      "epoch 4500Train set - loss: 0.001, accuracy: 1.0Test  set - loss: 0.121, accuracy: 0.965\n",
      "\n",
      "tensor(278, device='cuda:0')\n",
      "epoch 4600Train set - loss: 0.001, accuracy: 1.0Test  set - loss: 0.121, accuracy: 0.965\n",
      "\n",
      "tensor(278, device='cuda:0')\n",
      "epoch 4700Train set - loss: 0.001, accuracy: 1.0Test  set - loss: 0.121, accuracy: 0.965\n",
      "\n",
      "tensor(278, device='cuda:0')\n",
      "epoch 4800Train set - loss: 0.001, accuracy: 1.0Test  set - loss: 0.121, accuracy: 0.965\n",
      "\n",
      "tensor(278, device='cuda:0')\n",
      "epoch 4900Train set - loss: 0.001, accuracy: 1.0Test  set - loss: 0.121, accuracy: 0.965\n",
      "\n",
      "tensor(279, device='cuda:0')\n",
      "epoch 5000Train set - loss: 0.001, accuracy: 1.0Test  set - loss: 0.122, accuracy: 0.969\n",
      "\n",
      "tensor(279, device='cuda:0')\n",
      "epoch 5100Train set - loss: 0.0, accuracy: 1.0Test  set - loss: 0.122, accuracy: 0.969\n",
      "\n",
      "tensor(279, device='cuda:0')\n",
      "epoch 5200Train set - loss: 0.0, accuracy: 1.0Test  set - loss: 0.122, accuracy: 0.969\n",
      "\n",
      "tensor(279, device='cuda:0')\n",
      "epoch 5300Train set - loss: 0.0, accuracy: 1.0Test  set - loss: 0.122, accuracy: 0.969\n",
      "\n",
      "tensor(279, device='cuda:0')\n",
      "epoch 5400Train set - loss: 0.0, accuracy: 1.0Test  set - loss: 0.123, accuracy: 0.969\n",
      "\n",
      "tensor(279, device='cuda:0')\n",
      "epoch 5500Train set - loss: 0.0, accuracy: 1.0Test  set - loss: 0.123, accuracy: 0.969\n",
      "\n",
      "tensor(279, device='cuda:0')\n",
      "epoch 5600Train set - loss: 0.0, accuracy: 1.0Test  set - loss: 0.123, accuracy: 0.969\n",
      "\n",
      "tensor(279, device='cuda:0')\n",
      "epoch 5700Train set - loss: 0.0, accuracy: 1.0Test  set - loss: 0.123, accuracy: 0.969\n",
      "\n",
      "tensor(279, device='cuda:0')\n",
      "epoch 5800Train set - loss: 0.0, accuracy: 1.0Test  set - loss: 0.124, accuracy: 0.969\n",
      "\n",
      "tensor(279, device='cuda:0')\n",
      "epoch 5900Train set - loss: 0.0, accuracy: 1.0Test  set - loss: 0.124, accuracy: 0.969\n",
      "\n",
      "tensor(279, device='cuda:0')\n",
      "epoch 6000Train set - loss: 0.0, accuracy: 1.0Test  set - loss: 0.124, accuracy: 0.969\n",
      "\n",
      "tensor(279, device='cuda:0')\n",
      "epoch 6100Train set - loss: 0.0, accuracy: 1.0Test  set - loss: 0.124, accuracy: 0.969\n",
      "\n",
      "tensor(279, device='cuda:0')\n",
      "epoch 6200Train set - loss: 0.0, accuracy: 1.0Test  set - loss: 0.125, accuracy: 0.969\n",
      "\n",
      "tensor(279, device='cuda:0')\n",
      "epoch 6300Train set - loss: 0.0, accuracy: 1.0Test  set - loss: 0.125, accuracy: 0.969\n",
      "\n",
      "tensor(279, device='cuda:0')\n",
      "epoch 6400Train set - loss: 0.0, accuracy: 1.0Test  set - loss: 0.125, accuracy: 0.969\n",
      "\n",
      "tensor(279, device='cuda:0')\n",
      "epoch 6500Train set - loss: 0.0, accuracy: 1.0Test  set - loss: 0.125, accuracy: 0.969\n",
      "\n",
      "tensor(279, device='cuda:0')\n",
      "epoch 6600Train set - loss: 0.0, accuracy: 1.0Test  set - loss: 0.126, accuracy: 0.969\n",
      "\n",
      "tensor(279, device='cuda:0')\n",
      "epoch 6700Train set - loss: 0.0, accuracy: 1.0Test  set - loss: 0.126, accuracy: 0.969\n",
      "\n",
      "tensor(280, device='cuda:0')\n",
      "epoch 6800Train set - loss: 0.0, accuracy: 1.0Test  set - loss: 0.126, accuracy: 0.972\n",
      "\n",
      "tensor(280, device='cuda:0')\n",
      "epoch 6900Train set - loss: 0.0, accuracy: 1.0Test  set - loss: 0.126, accuracy: 0.972\n",
      "\n",
      "tensor(280, device='cuda:0')\n",
      "epoch 7000Train set - loss: 0.0, accuracy: 1.0Test  set - loss: 0.127, accuracy: 0.972\n",
      "\n",
      "tensor(280, device='cuda:0')\n",
      "epoch 7100Train set - loss: 0.0, accuracy: 1.0Test  set - loss: 0.127, accuracy: 0.972\n",
      "\n"
     ]
    },
    {
     "name": "stdout",
     "output_type": "stream",
     "text": [
      "tensor(280, device='cuda:0')\n",
      "epoch 7200Train set - loss: 0.0, accuracy: 1.0Test  set - loss: 0.127, accuracy: 0.972\n",
      "\n",
      "tensor(280, device='cuda:0')\n",
      "epoch 7300Train set - loss: 0.0, accuracy: 1.0Test  set - loss: 0.127, accuracy: 0.972\n",
      "\n",
      "tensor(280, device='cuda:0')\n",
      "epoch 7400Train set - loss: 0.0, accuracy: 1.0Test  set - loss: 0.128, accuracy: 0.972\n",
      "\n",
      "tensor(280, device='cuda:0')\n",
      "epoch 7500Train set - loss: 0.0, accuracy: 1.0Test  set - loss: 0.128, accuracy: 0.972\n",
      "\n",
      "tensor(280, device='cuda:0')\n",
      "epoch 7600Train set - loss: 0.0, accuracy: 1.0Test  set - loss: 0.128, accuracy: 0.972\n",
      "\n",
      "tensor(280, device='cuda:0')\n",
      "epoch 7700Train set - loss: 0.0, accuracy: 1.0Test  set - loss: 0.128, accuracy: 0.972\n",
      "\n",
      "tensor(280, device='cuda:0')\n",
      "epoch 7800Train set - loss: 0.0, accuracy: 1.0Test  set - loss: 0.129, accuracy: 0.972\n",
      "\n",
      "tensor(280, device='cuda:0')\n",
      "epoch 7900Train set - loss: 0.0, accuracy: 1.0Test  set - loss: 0.129, accuracy: 0.972\n",
      "\n",
      "tensor(280, device='cuda:0')\n",
      "epoch 8000Train set - loss: 0.0, accuracy: 1.0Test  set - loss: 0.129, accuracy: 0.972\n",
      "\n",
      "tensor(280, device='cuda:0')\n",
      "epoch 8100Train set - loss: 0.0, accuracy: 1.0Test  set - loss: 0.129, accuracy: 0.972\n",
      "\n",
      "tensor(280, device='cuda:0')\n",
      "epoch 8200Train set - loss: 0.0, accuracy: 1.0Test  set - loss: 0.13, accuracy: 0.972\n",
      "\n",
      "tensor(280, device='cuda:0')\n",
      "epoch 8300Train set - loss: 0.0, accuracy: 1.0Test  set - loss: 0.13, accuracy: 0.972\n",
      "\n",
      "tensor(280, device='cuda:0')\n",
      "epoch 8400Train set - loss: 0.0, accuracy: 1.0Test  set - loss: 0.13, accuracy: 0.972\n",
      "\n",
      "tensor(280, device='cuda:0')\n",
      "epoch 8500Train set - loss: 0.0, accuracy: 1.0Test  set - loss: 0.13, accuracy: 0.972\n",
      "\n",
      "tensor(280, device='cuda:0')\n",
      "epoch 8600Train set - loss: 0.0, accuracy: 1.0Test  set - loss: 0.131, accuracy: 0.972\n",
      "\n",
      "tensor(280, device='cuda:0')\n",
      "epoch 8700Train set - loss: 0.0, accuracy: 1.0Test  set - loss: 0.131, accuracy: 0.972\n",
      "\n",
      "tensor(280, device='cuda:0')\n",
      "epoch 8800Train set - loss: 0.0, accuracy: 1.0Test  set - loss: 0.131, accuracy: 0.972\n",
      "\n",
      "tensor(280, device='cuda:0')\n",
      "epoch 8900Train set - loss: 0.0, accuracy: 1.0Test  set - loss: 0.131, accuracy: 0.972\n",
      "\n",
      "tensor(280, device='cuda:0')\n",
      "epoch 9000Train set - loss: 0.0, accuracy: 1.0Test  set - loss: 0.131, accuracy: 0.972\n",
      "\n",
      "tensor(280, device='cuda:0')\n",
      "epoch 9100Train set - loss: 0.0, accuracy: 1.0Test  set - loss: 0.132, accuracy: 0.972\n",
      "\n",
      "tensor(280, device='cuda:0')\n",
      "epoch 9200Train set - loss: 0.0, accuracy: 1.0Test  set - loss: 0.132, accuracy: 0.972\n",
      "\n",
      "tensor(280, device='cuda:0')\n",
      "epoch 9300Train set - loss: 0.0, accuracy: 1.0Test  set - loss: 0.132, accuracy: 0.972\n",
      "\n",
      "tensor(280, device='cuda:0')\n",
      "epoch 9400Train set - loss: 0.0, accuracy: 1.0Test  set - loss: 0.132, accuracy: 0.972\n",
      "\n",
      "tensor(280, device='cuda:0')\n",
      "epoch 9500Train set - loss: 0.0, accuracy: 1.0Test  set - loss: 0.133, accuracy: 0.972\n",
      "\n",
      "tensor(281, device='cuda:0')\n",
      "epoch 9600Train set - loss: 0.0, accuracy: 1.0Test  set - loss: 0.133, accuracy: 0.976\n",
      "\n",
      "tensor(281, device='cuda:0')\n",
      "epoch 9700Train set - loss: 0.0, accuracy: 1.0Test  set - loss: 0.133, accuracy: 0.976\n",
      "\n",
      "tensor(281, device='cuda:0')\n",
      "epoch 9800Train set - loss: 0.0, accuracy: 1.0Test  set - loss: 0.133, accuracy: 0.976\n",
      "\n",
      "tensor(281, device='cuda:0')\n",
      "epoch 9900Train set - loss: 0.0, accuracy: 1.0Test  set - loss: 0.134, accuracy: 0.976\n",
      "\n"
     ]
    }
   ],
   "source": [
    "test_losses = []\n",
    "train_losses = []\n",
    "test_accur = []\n",
    "train_accur = []\n",
    "for epoch in range(10000):\n",
    "\n",
    "    y_pred = model(X_train.float())\n",
    "\n",
    "    y_pred = torch.squeeze(y_pred)\n",
    "    train_loss = criterion(y_pred, Y_train.float())\n",
    "\n",
    "    if epoch % 100 == 0:\n",
    "        train_acc,_ = calculate_accuracy(Y_train, y_pred)\n",
    "\n",
    "        y_test_pred = model(X_test.float())\n",
    "        y_test_pred = torch.squeeze(y_test_pred)\n",
    "         \n",
    "\n",
    "        test_loss = criterion(y_test_pred, Y_test.float())\n",
    "\n",
    "        test_acc, total_corr = calculate_accuracy(Y_test, y_test_pred)\n",
    "        print(total_corr)\n",
    "        \n",
    "        print(f'''epoch {epoch}Train set - loss: {round_tensor(train_loss)}, accuracy: {round_tensor(train_acc)}Test  set - loss: {round_tensor(test_loss)}, accuracy: {round_tensor(test_acc)}\n",
    "''')\n",
    "        train_losses.append(train_loss)\n",
    "        test_losses.append(test_loss)\n",
    "        \n",
    "        test_accur.append(test_acc)\n",
    "        train_accur.append(train_acc)\n",
    "\n",
    "    optimizer.zero_grad()\n",
    "\n",
    "    train_loss.backward()\n",
    "\n",
    "    optimizer.step()\n",
    "    \n",
    "    "
   ]
  },
  {
   "cell_type": "code",
   "execution_count": 936,
   "id": "e45f6631",
   "metadata": {},
   "outputs": [
    {
     "data": {
      "text/plain": [
       "Text(0, 0.5, 'accuracies')"
      ]
     },
     "execution_count": 936,
     "metadata": {},
     "output_type": "execute_result"
    },
    {
     "data": {
      "image/png": "[encoded data removed]",
      "text/plain": [
       "<Figure size 432x288 with 2 Axes>"
      ]
     },
     "metadata": {
      "needs_background": "light"
     },
     "output_type": "display_data"
    },
    {
     "data": {
      "image/png": "[encoded data removed]",
      "text/plain": [
       "<Figure size 432x288 with 2 Axes>"
      ]
     },
     "metadata": {
      "needs_background": "light"
     },
     "output_type": "display_data"
    }
   ],
   "source": [
    " #plots of accuracies and losses with edit distances as features\n",
    "fig, (ax1, ax2) = plt.subplots(1,2)\n",
    "ax1.plot(train_losses)\n",
    "ax2.plot(test_losses)\n",
    "fig.suptitle('Train and Test Loss vs Epochs')\n",
    "#fig.suptitle('TestLoss vs Epochs')\n",
    "plt.xlabel('Epochs')\n",
    "plt.ylabel('loss')\n",
    "\n",
    "\n",
    "fig, (ax1, ax2) = plt.subplots(1,2)\n",
    "ax1.plot(train_accur)\n",
    "ax2.plot(test_accur)\n",
    "fig.suptitle('Train and Test Accuracies vs Epochs')\n",
    "#fig.suptitle('TestLoss vs Epochs')\n",
    "plt.xlabel('Epochs')\n",
    "plt.ylabel('accuracies')"
   ]
  },
  {
   "cell_type": "code",
   "execution_count": 937,
   "id": "3ca028bd",
   "metadata": {},
   "outputs": [
    {
     "data": {
      "image/png": "[encoded data removed]",
      "text/plain": [
       "<Figure size 432x288 with 1 Axes>"
      ]
     },
     "metadata": {
      "needs_background": "light"
     },
     "output_type": "display_data"
    },
    {
     "data": {
      "image/png": "[encoded data removed]",
      "text/plain": [
       "<Figure size 432x288 with 1 Axes>"
      ]
     },
     "metadata": {
      "needs_background": "light"
     },
     "output_type": "display_data"
    }
   ],
   "source": [
    "epochs = range(1, len(test_accur) + 1)\n",
    "\n",
    "plt.plot(epochs, train_accur, 'bo', label='Training acc')\n",
    "plt.plot(epochs, test_accur, 'b', label='test acc')\n",
    "plt.title('Training and test accuracy')\n",
    "plt.legend()\n",
    "\n",
    "plt.figure()\n",
    "\n",
    "plt.plot(epochs, train_losses, 'bo', label='Training loss')\n",
    "plt.plot(epochs, test_losses, 'b', label='test loss')\n",
    "plt.title('Training and test loss')\n",
    "plt.legend()\n",
    "\n",
    "plt.show()"
   ]
  },
  {
   "cell_type": "code",
   "execution_count": null,
   "id": "ebeebd7c",
   "metadata": {},
   "outputs": [],
   "source": []
  },
  {
   "cell_type": "code",
   "execution_count": null,
   "id": "353d6e99",
   "metadata": {},
   "outputs": [],
   "source": []
  },
  {
   "cell_type": "code",
   "execution_count": 520,
   "id": "19cfe883",
   "metadata": {},
   "outputs": [
    {
     "data": {
      "text/html": [
       "<div>\n",
       "<style scoped>\n",
       "    .dataframe tbody tr th:only-of-type {\n",
       "        vertical-align: middle;\n",
       "    }\n",
       "\n",
       "    .dataframe tbody tr th {\n",
       "        vertical-align: top;\n",
       "    }\n",
       "\n",
       "    .dataframe thead th {\n",
       "        text-align: right;\n",
       "    }\n",
       "</style>\n",
       "<table border=\"1\" class=\"dataframe\">\n",
       "  <thead>\n",
       "    <tr style=\"text-align: right;\">\n",
       "      <th></th>\n",
       "      <th>loan_word</th>\n",
       "      <th>original_word</th>\n",
       "      <th>loan_word_epitran</th>\n",
       "      <th>original_word_epitran</th>\n",
       "      <th>fast levenshtein</th>\n",
       "      <th>Dolgo prime distance</th>\n",
       "      <th>Feature edit distance</th>\n",
       "      <th>Hamming feature distance</th>\n",
       "      <th>Weighted feature distance</th>\n",
       "      <th>Fast Levenshtein distance div maxlen</th>\n",
       "      <th>label</th>\n",
       "      <th>features_loan</th>\n",
       "    </tr>\n",
       "  </thead>\n",
       "  <tbody>\n",
       "    <tr>\n",
       "      <th>0</th>\n",
       "      <td>तसल्ली</td>\n",
       "      <td>بغاوت</td>\n",
       "      <td>təslliː</td>\n",
       "      <td>bɣɒvt</td>\n",
       "      <td>6</td>\n",
       "      <td>7</td>\n",
       "      <td>2.020833</td>\n",
       "      <td>2.291667</td>\n",
       "      <td>19.1250</td>\n",
       "      <td>1.000000</td>\n",
       "      <td>0</td>\n",
       "      <td>[-1, -1, 1, -1, -1, -1, -1, 0, -1, -1, -1, 1, ...</td>\n",
       "    </tr>\n",
       "    <tr>\n",
       "      <th>1</th>\n",
       "      <td>ख़राश</td>\n",
       "      <td>طرفدار</td>\n",
       "      <td>xəraːʃ</td>\n",
       "      <td>trfdɒr</td>\n",
       "      <td>5</td>\n",
       "      <td>6</td>\n",
       "      <td>1.916667</td>\n",
       "      <td>2.333333</td>\n",
       "      <td>16.5625</td>\n",
       "      <td>1.000000</td>\n",
       "      <td>0</td>\n",
       "      <td>[-1, -1, 1, 1, -1, -1, -1, 0, -1, -1, -1, -1, ...</td>\n",
       "    </tr>\n",
       "    <tr>\n",
       "      <th>2</th>\n",
       "      <td>चिराग़</td>\n",
       "      <td>نقاب</td>\n",
       "      <td>t͡ʃiraːɣ</td>\n",
       "      <td>nɣɒb</td>\n",
       "      <td>4</td>\n",
       "      <td>8</td>\n",
       "      <td>1.625000</td>\n",
       "      <td>1.833333</td>\n",
       "      <td>13.5625</td>\n",
       "      <td>1.000000</td>\n",
       "      <td>0</td>\n",
       "      <td>[-1, -1, 1, -1, 1, -1, -1, 0, -1, -1, -1, -1, ...</td>\n",
       "    </tr>\n",
       "    <tr>\n",
       "      <th>3</th>\n",
       "      <td>मरहम</td>\n",
       "      <td>شوهر</td>\n",
       "      <td>mərɦəm</td>\n",
       "      <td>ʃvhr</td>\n",
       "      <td>4</td>\n",
       "      <td>6</td>\n",
       "      <td>2.625000</td>\n",
       "      <td>3.083333</td>\n",
       "      <td>21.2500</td>\n",
       "      <td>1.000000</td>\n",
       "      <td>0</td>\n",
       "      <td>[-1, 1, 1, -1, -1, -1, 1, 0, 1, -1, -1, 1, -1,...</td>\n",
       "    </tr>\n",
       "    <tr>\n",
       "      <th>4</th>\n",
       "      <td>हैवानियत</td>\n",
       "      <td>خُوشنَوِیسی</td>\n",
       "      <td>ɦæːvaːnijət</td>\n",
       "      <td>xُvʃnowejsj</td>\n",
       "      <td>5</td>\n",
       "      <td>10</td>\n",
       "      <td>2.833333</td>\n",
       "      <td>3.125000</td>\n",
       "      <td>25.7500</td>\n",
       "      <td>0.909091</td>\n",
       "      <td>0</td>\n",
       "      <td>[-1, 1, 1, 1, -1, -1, -1, 0, 1, -1, -1, -1, -1...</td>\n",
       "    </tr>\n",
       "    <tr>\n",
       "      <th>...</th>\n",
       "      <td>...</td>\n",
       "      <td>...</td>\n",
       "      <td>...</td>\n",
       "      <td>...</td>\n",
       "      <td>...</td>\n",
       "      <td>...</td>\n",
       "      <td>...</td>\n",
       "      <td>...</td>\n",
       "      <td>...</td>\n",
       "      <td>...</td>\n",
       "      <td>...</td>\n",
       "      <td>...</td>\n",
       "    </tr>\n",
       "    <tr>\n",
       "      <th>14779</th>\n",
       "      <td>तहसील</td>\n",
       "      <td>تحصیل</td>\n",
       "      <td>təɦsiːl</td>\n",
       "      <td>thsjl</td>\n",
       "      <td>2</td>\n",
       "      <td>4</td>\n",
       "      <td>1.062500</td>\n",
       "      <td>1.208333</td>\n",
       "      <td>8.8125</td>\n",
       "      <td>0.571429</td>\n",
       "      <td>1</td>\n",
       "      <td>[-1, -1, 1, -1, -1, -1, -1, 0, -1, -1, -1, 1, ...</td>\n",
       "    </tr>\n",
       "    <tr>\n",
       "      <th>14780</th>\n",
       "      <td>तीर</td>\n",
       "      <td>برفی</td>\n",
       "      <td>tiːr</td>\n",
       "      <td>brfj</td>\n",
       "      <td>3</td>\n",
       "      <td>4</td>\n",
       "      <td>1.562500</td>\n",
       "      <td>1.916667</td>\n",
       "      <td>13.2500</td>\n",
       "      <td>1.000000</td>\n",
       "      <td>0</td>\n",
       "      <td>[-1, -1, 1, -1, -1, -1, -1, 0, -1, -1, -1, 1, ...</td>\n",
       "    </tr>\n",
       "    <tr>\n",
       "      <th>14781</th>\n",
       "      <td>सितारा</td>\n",
       "      <td>قید</td>\n",
       "      <td>sitaːraː</td>\n",
       "      <td>ɣjd</td>\n",
       "      <td>5</td>\n",
       "      <td>8</td>\n",
       "      <td>2.979167</td>\n",
       "      <td>3.416667</td>\n",
       "      <td>24.2500</td>\n",
       "      <td>1.000000</td>\n",
       "      <td>0</td>\n",
       "      <td>[-1, -1, 1, 1, -1, -1, -1, 0, -1, -1, -1, 1, 1...</td>\n",
       "    </tr>\n",
       "    <tr>\n",
       "      <th>14782</th>\n",
       "      <td>सबूत</td>\n",
       "      <td>کبابه چینی</td>\n",
       "      <td>səbuːt</td>\n",
       "      <td>kbɒbh t͡ʃjnj</td>\n",
       "      <td>7</td>\n",
       "      <td>10</td>\n",
       "      <td>4.291667</td>\n",
       "      <td>4.750000</td>\n",
       "      <td>34.3750</td>\n",
       "      <td>0.833333</td>\n",
       "      <td>0</td>\n",
       "      <td>[-1, -1, 1, 1, -1, -1, -1, 0, -1, -1, -1, 1, 1...</td>\n",
       "    </tr>\n",
       "    <tr>\n",
       "      <th>14783</th>\n",
       "      <td>माहिर</td>\n",
       "      <td>سازش</td>\n",
       "      <td>maːɦir</td>\n",
       "      <td>sɒzʃ</td>\n",
       "      <td>4</td>\n",
       "      <td>6</td>\n",
       "      <td>1.687500</td>\n",
       "      <td>1.916667</td>\n",
       "      <td>14.0000</td>\n",
       "      <td>1.000000</td>\n",
       "      <td>0</td>\n",
       "      <td>[-1, 1, 1, -1, -1, -1, 1, 0, 1, -1, -1, 1, -1,...</td>\n",
       "    </tr>\n",
       "  </tbody>\n",
       "</table>\n",
       "<p>14784 rows × 12 columns</p>\n",
       "</div>"
      ],
      "text/plain": [
       "      loan_word original_word loan_word_epitran original_word_epitran  \\\n",
       "0        तसल्ली         بغاوت           təslliː                 bɣɒvt   \n",
       "1         ख़राश        طرفدار            xəraːʃ                trfdɒr   \n",
       "2        चिराग़          نقاب          t͡ʃiraːɣ                  nɣɒb   \n",
       "3          मरहम          شوهر            mərɦəm                  ʃvhr   \n",
       "4      हैवानियत   خُوشنَوِیسی       ɦæːvaːnijət           xُvʃnowejsj   \n",
       "...         ...           ...               ...                   ...   \n",
       "14779     तहसील         تحصیل           təɦsiːl                 thsjl   \n",
       "14780       तीर          برفی              tiːr                  brfj   \n",
       "14781    सितारा           قید          sitaːraː                   ɣjd   \n",
       "14782      सबूत    کبابه چینی            səbuːt          kbɒbh t͡ʃjnj   \n",
       "14783     माहिर          سازش            maːɦir                  sɒzʃ   \n",
       "\n",
       "       fast levenshtein  Dolgo prime distance  Feature edit distance  \\\n",
       "0                     6                     7               2.020833   \n",
       "1                     5                     6               1.916667   \n",
       "2                     4                     8               1.625000   \n",
       "3                     4                     6               2.625000   \n",
       "4                     5                    10               2.833333   \n",
       "...                 ...                   ...                    ...   \n",
       "14779                 2                     4               1.062500   \n",
       "14780                 3                     4               1.562500   \n",
       "14781                 5                     8               2.979167   \n",
       "14782                 7                    10               4.291667   \n",
       "14783                 4                     6               1.687500   \n",
       "\n",
       "       Hamming feature distance  Weighted feature distance  \\\n",
       "0                      2.291667                    19.1250   \n",
       "1                      2.333333                    16.5625   \n",
       "2                      1.833333                    13.5625   \n",
       "3                      3.083333                    21.2500   \n",
       "4                      3.125000                    25.7500   \n",
       "...                         ...                        ...   \n",
       "14779                  1.208333                     8.8125   \n",
       "14780                  1.916667                    13.2500   \n",
       "14781                  3.416667                    24.2500   \n",
       "14782                  4.750000                    34.3750   \n",
       "14783                  1.916667                    14.0000   \n",
       "\n",
       "       Fast Levenshtein distance div maxlen  label  \\\n",
       "0                                  1.000000      0   \n",
       "1                                  1.000000      0   \n",
       "2                                  1.000000      0   \n",
       "3                                  1.000000      0   \n",
       "4                                  0.909091      0   \n",
       "...                                     ...    ...   \n",
       "14779                              0.571429      1   \n",
       "14780                              1.000000      0   \n",
       "14781                              1.000000      0   \n",
       "14782                              0.833333      0   \n",
       "14783                              1.000000      0   \n",
       "\n",
       "                                           features_loan  \n",
       "0      [-1, -1, 1, -1, -1, -1, -1, 0, -1, -1, -1, 1, ...  \n",
       "1      [-1, -1, 1, 1, -1, -1, -1, 0, -1, -1, -1, -1, ...  \n",
       "2      [-1, -1, 1, -1, 1, -1, -1, 0, -1, -1, -1, -1, ...  \n",
       "3      [-1, 1, 1, -1, -1, -1, 1, 0, 1, -1, -1, 1, -1,...  \n",
       "4      [-1, 1, 1, 1, -1, -1, -1, 0, 1, -1, -1, -1, -1...  \n",
       "...                                                  ...  \n",
       "14779  [-1, -1, 1, -1, -1, -1, -1, 0, -1, -1, -1, 1, ...  \n",
       "14780  [-1, -1, 1, -1, -1, -1, -1, 0, -1, -1, -1, 1, ...  \n",
       "14781  [-1, -1, 1, 1, -1, -1, -1, 0, -1, -1, -1, 1, 1...  \n",
       "14782  [-1, -1, 1, 1, -1, -1, -1, 0, -1, -1, -1, 1, 1...  \n",
       "14783  [-1, 1, 1, -1, -1, -1, 1, 0, 1, -1, -1, 1, -1,...  \n",
       "\n",
       "[14784 rows x 12 columns]"
      ]
     },
     "execution_count": 520,
     "metadata": {},
     "output_type": "execute_result"
    }
   ],
   "source": [
    "Epi_result"
   ]
  },
  {
   "cell_type": "code",
   "execution_count": 521,
   "id": "721531c0",
   "metadata": {},
   "outputs": [],
   "source": [
    "edit_dists_names = [\"fast levenshtein\", \"Dolgo prime distance\", \\\n",
    "                    \"Feature edit distance\", \"Hamming feature distance\", \"Weighted feature distance\", \\\n",
    "                    \"Fast Levenshtein distance div maxlen\"]"
   ]
  },
  {
   "cell_type": "code",
   "execution_count": 522,
   "id": "5af086eb",
   "metadata": {},
   "outputs": [],
   "source": [
    "df_new = Epi_result[edit_dists_names]"
   ]
  },
  {
   "cell_type": "code",
   "execution_count": 523,
   "id": "d64cb871",
   "metadata": {},
   "outputs": [
    {
     "data": {
      "text/html": [
       "<div>\n",
       "<style scoped>\n",
       "    .dataframe tbody tr th:only-of-type {\n",
       "        vertical-align: middle;\n",
       "    }\n",
       "\n",
       "    .dataframe tbody tr th {\n",
       "        vertical-align: top;\n",
       "    }\n",
       "\n",
       "    .dataframe thead th {\n",
       "        text-align: right;\n",
       "    }\n",
       "</style>\n",
       "<table border=\"1\" class=\"dataframe\">\n",
       "  <thead>\n",
       "    <tr style=\"text-align: right;\">\n",
       "      <th></th>\n",
       "      <th>fast levenshtein</th>\n",
       "      <th>Dolgo prime distance</th>\n",
       "      <th>Feature edit distance</th>\n",
       "      <th>Hamming feature distance</th>\n",
       "      <th>Weighted feature distance</th>\n",
       "      <th>Fast Levenshtein distance div maxlen</th>\n",
       "    </tr>\n",
       "  </thead>\n",
       "  <tbody>\n",
       "    <tr>\n",
       "      <th>0</th>\n",
       "      <td>6</td>\n",
       "      <td>7</td>\n",
       "      <td>2.020833</td>\n",
       "      <td>2.291667</td>\n",
       "      <td>19.1250</td>\n",
       "      <td>1.000000</td>\n",
       "    </tr>\n",
       "    <tr>\n",
       "      <th>1</th>\n",
       "      <td>5</td>\n",
       "      <td>6</td>\n",
       "      <td>1.916667</td>\n",
       "      <td>2.333333</td>\n",
       "      <td>16.5625</td>\n",
       "      <td>1.000000</td>\n",
       "    </tr>\n",
       "    <tr>\n",
       "      <th>2</th>\n",
       "      <td>4</td>\n",
       "      <td>8</td>\n",
       "      <td>1.625000</td>\n",
       "      <td>1.833333</td>\n",
       "      <td>13.5625</td>\n",
       "      <td>1.000000</td>\n",
       "    </tr>\n",
       "    <tr>\n",
       "      <th>3</th>\n",
       "      <td>4</td>\n",
       "      <td>6</td>\n",
       "      <td>2.625000</td>\n",
       "      <td>3.083333</td>\n",
       "      <td>21.2500</td>\n",
       "      <td>1.000000</td>\n",
       "    </tr>\n",
       "    <tr>\n",
       "      <th>4</th>\n",
       "      <td>5</td>\n",
       "      <td>10</td>\n",
       "      <td>2.833333</td>\n",
       "      <td>3.125000</td>\n",
       "      <td>25.7500</td>\n",
       "      <td>0.909091</td>\n",
       "    </tr>\n",
       "    <tr>\n",
       "      <th>...</th>\n",
       "      <td>...</td>\n",
       "      <td>...</td>\n",
       "      <td>...</td>\n",
       "      <td>...</td>\n",
       "      <td>...</td>\n",
       "      <td>...</td>\n",
       "    </tr>\n",
       "    <tr>\n",
       "      <th>14779</th>\n",
       "      <td>2</td>\n",
       "      <td>4</td>\n",
       "      <td>1.062500</td>\n",
       "      <td>1.208333</td>\n",
       "      <td>8.8125</td>\n",
       "      <td>0.571429</td>\n",
       "    </tr>\n",
       "    <tr>\n",
       "      <th>14780</th>\n",
       "      <td>3</td>\n",
       "      <td>4</td>\n",
       "      <td>1.562500</td>\n",
       "      <td>1.916667</td>\n",
       "      <td>13.2500</td>\n",
       "      <td>1.000000</td>\n",
       "    </tr>\n",
       "    <tr>\n",
       "      <th>14781</th>\n",
       "      <td>5</td>\n",
       "      <td>8</td>\n",
       "      <td>2.979167</td>\n",
       "      <td>3.416667</td>\n",
       "      <td>24.2500</td>\n",
       "      <td>1.000000</td>\n",
       "    </tr>\n",
       "    <tr>\n",
       "      <th>14782</th>\n",
       "      <td>7</td>\n",
       "      <td>10</td>\n",
       "      <td>4.291667</td>\n",
       "      <td>4.750000</td>\n",
       "      <td>34.3750</td>\n",
       "      <td>0.833333</td>\n",
       "    </tr>\n",
       "    <tr>\n",
       "      <th>14783</th>\n",
       "      <td>4</td>\n",
       "      <td>6</td>\n",
       "      <td>1.687500</td>\n",
       "      <td>1.916667</td>\n",
       "      <td>14.0000</td>\n",
       "      <td>1.000000</td>\n",
       "    </tr>\n",
       "  </tbody>\n",
       "</table>\n",
       "<p>14784 rows × 6 columns</p>\n",
       "</div>"
      ],
      "text/plain": [
       "       fast levenshtein  Dolgo prime distance  Feature edit distance  \\\n",
       "0                     6                     7               2.020833   \n",
       "1                     5                     6               1.916667   \n",
       "2                     4                     8               1.625000   \n",
       "3                     4                     6               2.625000   \n",
       "4                     5                    10               2.833333   \n",
       "...                 ...                   ...                    ...   \n",
       "14779                 2                     4               1.062500   \n",
       "14780                 3                     4               1.562500   \n",
       "14781                 5                     8               2.979167   \n",
       "14782                 7                    10               4.291667   \n",
       "14783                 4                     6               1.687500   \n",
       "\n",
       "       Hamming feature distance  Weighted feature distance  \\\n",
       "0                      2.291667                    19.1250   \n",
       "1                      2.333333                    16.5625   \n",
       "2                      1.833333                    13.5625   \n",
       "3                      3.083333                    21.2500   \n",
       "4                      3.125000                    25.7500   \n",
       "...                         ...                        ...   \n",
       "14779                  1.208333                     8.8125   \n",
       "14780                  1.916667                    13.2500   \n",
       "14781                  3.416667                    24.2500   \n",
       "14782                  4.750000                    34.3750   \n",
       "14783                  1.916667                    14.0000   \n",
       "\n",
       "       Fast Levenshtein distance div maxlen  \n",
       "0                                  1.000000  \n",
       "1                                  1.000000  \n",
       "2                                  1.000000  \n",
       "3                                  1.000000  \n",
       "4                                  0.909091  \n",
       "...                                     ...  \n",
       "14779                              0.571429  \n",
       "14780                              1.000000  \n",
       "14781                              1.000000  \n",
       "14782                              0.833333  \n",
       "14783                              1.000000  \n",
       "\n",
       "[14784 rows x 6 columns]"
      ]
     },
     "execution_count": 523,
     "metadata": {},
     "output_type": "execute_result"
    }
   ],
   "source": [
    "df_new"
   ]
  },
  {
   "cell_type": "code",
   "execution_count": 524,
   "id": "82177399",
   "metadata": {},
   "outputs": [],
   "source": [
    "from sklearn import preprocessing"
   ]
  },
  {
   "cell_type": "code",
   "execution_count": 525,
   "id": "bd905927",
   "metadata": {},
   "outputs": [],
   "source": [
    "x_new = df_new #returns a numpy array\n",
    "min_max_scaler = preprocessing.MinMaxScaler()\n",
    "x_scaled = min_max_scaler.fit_transform(x_new)\n",
    "df_new = pd.DataFrame(x_scaled)"
   ]
  },
  {
   "cell_type": "code",
   "execution_count": 526,
   "id": "decaaa71",
   "metadata": {},
   "outputs": [
    {
     "data": {
      "text/html": [
       "<div>\n",
       "<style scoped>\n",
       "    .dataframe tbody tr th:only-of-type {\n",
       "        vertical-align: middle;\n",
       "    }\n",
       "\n",
       "    .dataframe tbody tr th {\n",
       "        vertical-align: top;\n",
       "    }\n",
       "\n",
       "    .dataframe thead th {\n",
       "        text-align: right;\n",
       "    }\n",
       "</style>\n",
       "<table border=\"1\" class=\"dataframe\">\n",
       "  <thead>\n",
       "    <tr style=\"text-align: right;\">\n",
       "      <th></th>\n",
       "      <th>0</th>\n",
       "      <th>1</th>\n",
       "      <th>2</th>\n",
       "      <th>3</th>\n",
       "      <th>4</th>\n",
       "      <th>5</th>\n",
       "    </tr>\n",
       "  </thead>\n",
       "  <tbody>\n",
       "    <tr>\n",
       "      <th>0</th>\n",
       "      <td>0.6</td>\n",
       "      <td>0.3750</td>\n",
       "      <td>0.225806</td>\n",
       "      <td>0.233184</td>\n",
       "      <td>0.274838</td>\n",
       "      <td>1.000000</td>\n",
       "    </tr>\n",
       "    <tr>\n",
       "      <th>1</th>\n",
       "      <td>0.5</td>\n",
       "      <td>0.3125</td>\n",
       "      <td>0.213400</td>\n",
       "      <td>0.237668</td>\n",
       "      <td>0.236769</td>\n",
       "      <td>1.000000</td>\n",
       "    </tr>\n",
       "    <tr>\n",
       "      <th>2</th>\n",
       "      <td>0.4</td>\n",
       "      <td>0.4375</td>\n",
       "      <td>0.178660</td>\n",
       "      <td>0.183857</td>\n",
       "      <td>0.192201</td>\n",
       "      <td>1.000000</td>\n",
       "    </tr>\n",
       "    <tr>\n",
       "      <th>3</th>\n",
       "      <td>0.4</td>\n",
       "      <td>0.3125</td>\n",
       "      <td>0.297767</td>\n",
       "      <td>0.318386</td>\n",
       "      <td>0.306407</td>\n",
       "      <td>1.000000</td>\n",
       "    </tr>\n",
       "    <tr>\n",
       "      <th>4</th>\n",
       "      <td>0.5</td>\n",
       "      <td>0.5625</td>\n",
       "      <td>0.322581</td>\n",
       "      <td>0.322870</td>\n",
       "      <td>0.373259</td>\n",
       "      <td>0.886364</td>\n",
       "    </tr>\n",
       "    <tr>\n",
       "      <th>...</th>\n",
       "      <td>...</td>\n",
       "      <td>...</td>\n",
       "      <td>...</td>\n",
       "      <td>...</td>\n",
       "      <td>...</td>\n",
       "      <td>...</td>\n",
       "    </tr>\n",
       "    <tr>\n",
       "      <th>14779</th>\n",
       "      <td>0.2</td>\n",
       "      <td>0.1875</td>\n",
       "      <td>0.111663</td>\n",
       "      <td>0.116592</td>\n",
       "      <td>0.121634</td>\n",
       "      <td>0.464286</td>\n",
       "    </tr>\n",
       "    <tr>\n",
       "      <th>14780</th>\n",
       "      <td>0.3</td>\n",
       "      <td>0.1875</td>\n",
       "      <td>0.171216</td>\n",
       "      <td>0.192825</td>\n",
       "      <td>0.187558</td>\n",
       "      <td>1.000000</td>\n",
       "    </tr>\n",
       "    <tr>\n",
       "      <th>14781</th>\n",
       "      <td>0.5</td>\n",
       "      <td>0.4375</td>\n",
       "      <td>0.339950</td>\n",
       "      <td>0.354260</td>\n",
       "      <td>0.350975</td>\n",
       "      <td>1.000000</td>\n",
       "    </tr>\n",
       "    <tr>\n",
       "      <th>14782</th>\n",
       "      <td>0.7</td>\n",
       "      <td>0.5625</td>\n",
       "      <td>0.496278</td>\n",
       "      <td>0.497758</td>\n",
       "      <td>0.501393</td>\n",
       "      <td>0.791667</td>\n",
       "    </tr>\n",
       "    <tr>\n",
       "      <th>14783</th>\n",
       "      <td>0.4</td>\n",
       "      <td>0.3125</td>\n",
       "      <td>0.186104</td>\n",
       "      <td>0.192825</td>\n",
       "      <td>0.198700</td>\n",
       "      <td>1.000000</td>\n",
       "    </tr>\n",
       "  </tbody>\n",
       "</table>\n",
       "<p>14784 rows × 6 columns</p>\n",
       "</div>"
      ],
      "text/plain": [
       "         0       1         2         3         4         5\n",
       "0      0.6  0.3750  0.225806  0.233184  0.274838  1.000000\n",
       "1      0.5  0.3125  0.213400  0.237668  0.236769  1.000000\n",
       "2      0.4  0.4375  0.178660  0.183857  0.192201  1.000000\n",
       "3      0.4  0.3125  0.297767  0.318386  0.306407  1.000000\n",
       "4      0.5  0.5625  0.322581  0.322870  0.373259  0.886364\n",
       "...    ...     ...       ...       ...       ...       ...\n",
       "14779  0.2  0.1875  0.111663  0.116592  0.121634  0.464286\n",
       "14780  0.3  0.1875  0.171216  0.192825  0.187558  1.000000\n",
       "14781  0.5  0.4375  0.339950  0.354260  0.350975  1.000000\n",
       "14782  0.7  0.5625  0.496278  0.497758  0.501393  0.791667\n",
       "14783  0.4  0.3125  0.186104  0.192825  0.198700  1.000000\n",
       "\n",
       "[14784 rows x 6 columns]"
      ]
     },
     "execution_count": 526,
     "metadata": {},
     "output_type": "execute_result"
    }
   ],
   "source": [
    "df_new"
   ]
  },
  {
   "cell_type": "markdown",
   "id": "68a1c4c9",
   "metadata": {},
   "source": [
    "# Trying a CNN as a classifier on phonetic features with edit distance features \n"
   ]
  },
  {
   "cell_type": "code",
   "execution_count": 566,
   "id": "e2fdee65",
   "metadata": {},
   "outputs": [],
   "source": [
    "class Net_CNN(nn.Module):   \n",
    "    def __init__(self):\n",
    "        super(Net_CNN, self).__init__()\n",
    "\n",
    "        self.cnn_layers = Sequential(\n",
    "            # Defining a 2D convolution layer\n",
    "            Conv2d(1, 4, kernel_size=3, stride=1, padding=1),\n",
    "            BatchNorm2d(4),\n",
    "            ReLU(inplace=True),\n",
    "            MaxPool2d(kernel_size=2, stride=2),\n",
    "            # Defining another 2D convolution layer\n",
    "            Conv2d(4, 4, kernel_size=3, stride=1, padding=1),\n",
    "            BatchNorm2d(4),\n",
    "            ReLU(inplace=True),\n",
    "            MaxPool2d(kernel_size=2, stride=2),\n",
    "        )\n",
    "\n",
    "        self.linear_layers = Sequential(\n",
    "            Linear(4 * 7 * 7, 1)\n",
    "        )\n",
    "\n",
    "    # Defining the forward pass    \n",
    "    def forward(self, x):\n",
    "        x = self.cnn_layers(x)\n",
    "        x = x.view(x.size(0), -1)\n",
    "        x = self.linear_layers(x)\n",
    "        return x"
   ]
  },
  {
   "cell_type": "code",
   "execution_count": 967,
   "id": "6f756e99",
   "metadata": {},
   "outputs": [
    {
     "name": "stdout",
     "output_type": "stream",
     "text": [
      "Net(\n",
      "  (conv1): Conv2d(1, 32, kernel_size=(2, 2), stride=(1, 1))\n",
      "  (conv2): Conv2d(32, 64, kernel_size=(2, 2), stride=(1, 1))\n",
      "  (conv3): Conv2d(64, 128, kernel_size=(2, 2), stride=(1, 1))\n",
      "  (fc1): Linear(in_features=512, out_features=512, bias=True)\n",
      "  (fc2): Linear(in_features=512, out_features=1, bias=True)\n",
      ")\n"
     ]
    }
   ],
   "source": [
    "class Net(nn.Module):\n",
    "    def __init__(self):\n",
    "        super().__init__() # just run the init of parent class (nn.Module)\n",
    "        self.conv1 = nn.Conv2d(1, 32, 2) # input is 1 image, 32 output channels, 2X2 kernel / window\n",
    "        self.conv2 = nn.Conv2d(32, 64, 2) # input is 32, bc the first layer output 32. Then we say the output will be 64 channels, 5x5 kernel / window\n",
    "        self.conv3 = nn.Conv2d(64, 128,2)\n",
    "        \n",
    "\n",
    "        x = torch.randn(23,23).view(-1,1,23,23)\n",
    "        self._to_linear = None\n",
    "        self.convs(x)\n",
    "\n",
    "        self.fc1 = nn.Linear(self._to_linear, 512) #flattening.\n",
    "        self.fc2 = nn.Linear(512, 1) # 512 in, 2 out bc we're doing 2 classes (dog vs cat).\n",
    "\n",
    "    def convs(self, x):\n",
    "        # max pooling over 2x2\n",
    "        x = F.max_pool2d(F.tanh(self.conv1(x)), (2, 2))\n",
    "        x = F.max_pool2d(F.tanh(self.conv2(x)), (2, 2))\n",
    "        x = F.max_pool2d(F.tanh(self.conv3(x)), (2, 2))\n",
    "\n",
    "        if self._to_linear is None:\n",
    "            self._to_linear = x[0].shape[0]*x[0].shape[1]*x[0].shape[2]\n",
    "        return x\n",
    "\n",
    "    def forward(self, x):\n",
    "        x = self.convs(x)\n",
    "        x = x.view(-1, self._to_linear)  # .view is reshape ... this flattens X before \n",
    "        x = F.tanh(self.fc1(x))\n",
    "        x = self.fc2(x) # bc this is our output layer. No activation here.\n",
    "        return F.sigmoid(x)\n",
    "                         \n",
    "\n",
    "\n",
    "net = Net().to(device)\n",
    "print(net)"
   ]
  },
  {
   "cell_type": "code",
   "execution_count": 968,
   "id": "56f8ce1f",
   "metadata": {},
   "outputs": [],
   "source": [
    "optimizer = optim.Adam(net.parameters(), lr=0.001)\n",
    "#loss_function = nn.MSELoss()\n",
    "loss_function = nn.BCELoss().to(device)"
   ]
  },
  {
   "cell_type": "code",
   "execution_count": 969,
   "id": "5854ead1",
   "metadata": {},
   "outputs": [],
   "source": [
    "from tqdm import tqdm"
   ]
  },
  {
   "cell_type": "markdown",
   "id": "d33af6e1",
   "metadata": {},
   "source": [
    "# experimenting with a dataset with 90/10 negative/positive samples "
   ]
  },
  {
   "cell_type": "code",
   "execution_count": 868,
   "id": "d38fedef",
   "metadata": {},
   "outputs": [
    {
     "name": "stderr",
     "output_type": "stream",
     "text": [
      "100%|██████████| 100/100 [00:00<00:00, 559.98it/s]\n"
     ]
    },
    {
     "name": "stdout",
     "output_type": "stream",
     "text": [
      "Epoch: 0. Loss: 0.2514965236186981\n"
     ]
    },
    {
     "name": "stderr",
     "output_type": "stream",
     "text": [
      "100%|██████████| 100/100 [00:00<00:00, 569.47it/s]\n"
     ]
    },
    {
     "name": "stdout",
     "output_type": "stream",
     "text": [
      "Epoch: 1. Loss: 0.06250132620334625\n"
     ]
    },
    {
     "name": "stderr",
     "output_type": "stream",
     "text": [
      "100%|██████████| 100/100 [00:00<00:00, 566.87it/s]\n"
     ]
    },
    {
     "name": "stdout",
     "output_type": "stream",
     "text": [
      "Epoch: 2. Loss: 0.027737129479646683\n"
     ]
    },
    {
     "name": "stderr",
     "output_type": "stream",
     "text": [
      "100%|██████████| 100/100 [00:00<00:00, 567.29it/s]\n"
     ]
    },
    {
     "name": "stdout",
     "output_type": "stream",
     "text": [
      "Epoch: 3. Loss: 0.011346767656505108\n"
     ]
    },
    {
     "name": "stderr",
     "output_type": "stream",
     "text": [
      "100%|██████████| 100/100 [00:00<00:00, 567.10it/s]\n"
     ]
    },
    {
     "name": "stdout",
     "output_type": "stream",
     "text": [
      "Epoch: 4. Loss: 0.005810735747218132\n"
     ]
    },
    {
     "name": "stderr",
     "output_type": "stream",
     "text": [
      "100%|██████████| 100/100 [00:00<00:00, 566.37it/s]\n"
     ]
    },
    {
     "name": "stdout",
     "output_type": "stream",
     "text": [
      "Epoch: 5. Loss: 0.003792903618887067\n"
     ]
    },
    {
     "name": "stderr",
     "output_type": "stream",
     "text": [
      "100%|██████████| 100/100 [00:00<00:00, 566.70it/s]\n"
     ]
    },
    {
     "name": "stdout",
     "output_type": "stream",
     "text": [
      "Epoch: 6. Loss: 0.017999187111854553\n"
     ]
    },
    {
     "name": "stderr",
     "output_type": "stream",
     "text": [
      "100%|██████████| 100/100 [00:00<00:00, 568.50it/s]\n"
     ]
    },
    {
     "name": "stdout",
     "output_type": "stream",
     "text": [
      "Epoch: 7. Loss: 0.00960737094283104\n"
     ]
    },
    {
     "name": "stderr",
     "output_type": "stream",
     "text": [
      "100%|██████████| 100/100 [00:00<00:00, 568.08it/s]\n"
     ]
    },
    {
     "name": "stdout",
     "output_type": "stream",
     "text": [
      "Epoch: 8. Loss: 0.005525154061615467\n"
     ]
    },
    {
     "name": "stderr",
     "output_type": "stream",
     "text": [
      "100%|██████████| 100/100 [00:00<00:00, 567.98it/s]\n"
     ]
    },
    {
     "name": "stdout",
     "output_type": "stream",
     "text": [
      "Epoch: 9. Loss: 0.0007998829241842031\n"
     ]
    },
    {
     "name": "stderr",
     "output_type": "stream",
     "text": [
      "100%|██████████| 100/100 [00:00<00:00, 568.28it/s]\n"
     ]
    },
    {
     "name": "stdout",
     "output_type": "stream",
     "text": [
      "Epoch: 10. Loss: 0.001964234746992588\n"
     ]
    },
    {
     "name": "stderr",
     "output_type": "stream",
     "text": [
      "100%|██████████| 100/100 [00:00<00:00, 566.98it/s]\n"
     ]
    },
    {
     "name": "stdout",
     "output_type": "stream",
     "text": [
      "Epoch: 11. Loss: 0.07693301141262054\n"
     ]
    },
    {
     "name": "stderr",
     "output_type": "stream",
     "text": [
      "100%|██████████| 100/100 [00:00<00:00, 567.74it/s]\n"
     ]
    },
    {
     "name": "stdout",
     "output_type": "stream",
     "text": [
      "Epoch: 12. Loss: 0.015193312428891659\n"
     ]
    },
    {
     "name": "stderr",
     "output_type": "stream",
     "text": [
      "100%|██████████| 100/100 [00:00<00:00, 566.45it/s]\n"
     ]
    },
    {
     "name": "stdout",
     "output_type": "stream",
     "text": [
      "Epoch: 13. Loss: 0.009238814935088158\n"
     ]
    },
    {
     "name": "stderr",
     "output_type": "stream",
     "text": [
      "100%|██████████| 100/100 [00:00<00:00, 567.67it/s]\n"
     ]
    },
    {
     "name": "stdout",
     "output_type": "stream",
     "text": [
      "Epoch: 14. Loss: 0.00022537217591889203\n"
     ]
    },
    {
     "name": "stderr",
     "output_type": "stream",
     "text": [
      "100%|██████████| 100/100 [00:00<00:00, 569.64it/s]\n"
     ]
    },
    {
     "name": "stdout",
     "output_type": "stream",
     "text": [
      "Epoch: 15. Loss: 0.00046802774886600673\n"
     ]
    },
    {
     "name": "stderr",
     "output_type": "stream",
     "text": [
      "100%|██████████| 100/100 [00:00<00:00, 569.26it/s]\n"
     ]
    },
    {
     "name": "stdout",
     "output_type": "stream",
     "text": [
      "Epoch: 16. Loss: 8.579908171668649e-05\n"
     ]
    },
    {
     "name": "stderr",
     "output_type": "stream",
     "text": [
      "100%|██████████| 100/100 [00:00<00:00, 569.42it/s]\n"
     ]
    },
    {
     "name": "stdout",
     "output_type": "stream",
     "text": [
      "Epoch: 17. Loss: 2.9564189389930107e-05\n"
     ]
    },
    {
     "name": "stderr",
     "output_type": "stream",
     "text": [
      "100%|██████████| 100/100 [00:00<00:00, 569.49it/s]\n"
     ]
    },
    {
     "name": "stdout",
     "output_type": "stream",
     "text": [
      "Epoch: 18. Loss: 2.7396234145271592e-05\n"
     ]
    },
    {
     "name": "stderr",
     "output_type": "stream",
     "text": [
      "100%|██████████| 100/100 [00:00<00:00, 570.55it/s]\n"
     ]
    },
    {
     "name": "stdout",
     "output_type": "stream",
     "text": [
      "Epoch: 19. Loss: 2.4079125068965368e-05\n"
     ]
    },
    {
     "name": "stderr",
     "output_type": "stream",
     "text": [
      "100%|██████████| 100/100 [00:00<00:00, 566.57it/s]\n"
     ]
    },
    {
     "name": "stdout",
     "output_type": "stream",
     "text": [
      "Epoch: 20. Loss: 2.1036574253230356e-05\n"
     ]
    },
    {
     "name": "stderr",
     "output_type": "stream",
     "text": [
      "100%|██████████| 100/100 [00:00<00:00, 568.44it/s]\n"
     ]
    },
    {
     "name": "stdout",
     "output_type": "stream",
     "text": [
      "Epoch: 21. Loss: 1.844853613874875e-05\n"
     ]
    },
    {
     "name": "stderr",
     "output_type": "stream",
     "text": [
      "100%|██████████| 100/100 [00:00<00:00, 568.33it/s]\n"
     ]
    },
    {
     "name": "stdout",
     "output_type": "stream",
     "text": [
      "Epoch: 22. Loss: 1.6297421097988263e-05\n"
     ]
    },
    {
     "name": "stderr",
     "output_type": "stream",
     "text": [
      "100%|██████████| 100/100 [00:00<00:00, 568.19it/s]\n"
     ]
    },
    {
     "name": "stdout",
     "output_type": "stream",
     "text": [
      "Epoch: 23. Loss: 1.4537969036609866e-05\n"
     ]
    },
    {
     "name": "stderr",
     "output_type": "stream",
     "text": [
      "100%|██████████| 100/100 [00:00<00:00, 565.84it/s]\n"
     ]
    },
    {
     "name": "stdout",
     "output_type": "stream",
     "text": [
      "Epoch: 24. Loss: 1.3093604138703085e-05\n"
     ]
    },
    {
     "name": "stderr",
     "output_type": "stream",
     "text": [
      "100%|██████████| 100/100 [00:00<00:00, 568.17it/s]\n"
     ]
    },
    {
     "name": "stdout",
     "output_type": "stream",
     "text": [
      "Epoch: 25. Loss: 1.185149358207127e-05\n"
     ]
    },
    {
     "name": "stderr",
     "output_type": "stream",
     "text": [
      "100%|██████████| 100/100 [00:00<00:00, 568.63it/s]\n"
     ]
    },
    {
     "name": "stdout",
     "output_type": "stream",
     "text": [
      "Epoch: 26. Loss: 1.0800203199323732e-05\n"
     ]
    },
    {
     "name": "stderr",
     "output_type": "stream",
     "text": [
      "100%|██████████| 100/100 [00:00<00:00, 568.68it/s]\n"
     ]
    },
    {
     "name": "stdout",
     "output_type": "stream",
     "text": [
      "Epoch: 27. Loss: 9.842332474363502e-06\n"
     ]
    },
    {
     "name": "stderr",
     "output_type": "stream",
     "text": [
      "100%|██████████| 100/100 [00:00<00:00, 567.95it/s]\n"
     ]
    },
    {
     "name": "stdout",
     "output_type": "stream",
     "text": [
      "Epoch: 28. Loss: 9.031043191498611e-06\n"
     ]
    },
    {
     "name": "stderr",
     "output_type": "stream",
     "text": [
      "100%|██████████| 100/100 [00:00<00:00, 566.95it/s]\n"
     ]
    },
    {
     "name": "stdout",
     "output_type": "stream",
     "text": [
      "Epoch: 29. Loss: 8.312166755786166e-06\n"
     ]
    },
    {
     "name": "stderr",
     "output_type": "stream",
     "text": [
      "100%|██████████| 100/100 [00:00<00:00, 565.75it/s]\n"
     ]
    },
    {
     "name": "stdout",
     "output_type": "stream",
     "text": [
      "Epoch: 30. Loss: 7.649445251445286e-06\n"
     ]
    },
    {
     "name": "stderr",
     "output_type": "stream",
     "text": [
      "100%|██████████| 100/100 [00:00<00:00, 568.32it/s]\n"
     ]
    },
    {
     "name": "stdout",
     "output_type": "stream",
     "text": [
      "Epoch: 31. Loss: 7.073668712109793e-06\n"
     ]
    },
    {
     "name": "stderr",
     "output_type": "stream",
     "text": [
      "100%|██████████| 100/100 [00:00<00:00, 567.88it/s]\n"
     ]
    },
    {
     "name": "stdout",
     "output_type": "stream",
     "text": [
      "Epoch: 32. Loss: 6.552544618898537e-06\n"
     ]
    },
    {
     "name": "stderr",
     "output_type": "stream",
     "text": [
      "100%|██████████| 100/100 [00:00<00:00, 569.70it/s]\n"
     ]
    },
    {
     "name": "stdout",
     "output_type": "stream",
     "text": [
      "Epoch: 33. Loss: 6.068186849006452e-06\n"
     ]
    },
    {
     "name": "stderr",
     "output_type": "stream",
     "text": [
      "100%|██████████| 100/100 [00:00<00:00, 569.66it/s]\n"
     ]
    },
    {
     "name": "stdout",
     "output_type": "stream",
     "text": [
      "Epoch: 34. Loss: 5.6454341574863065e-06\n"
     ]
    },
    {
     "name": "stderr",
     "output_type": "stream",
     "text": [
      "100%|██████████| 100/100 [00:00<00:00, 569.70it/s]\n"
     ]
    },
    {
     "name": "stdout",
     "output_type": "stream",
     "text": [
      "Epoch: 35. Loss: 5.253484232525807e-06\n"
     ]
    },
    {
     "name": "stderr",
     "output_type": "stream",
     "text": [
      "100%|██████████| 100/100 [00:00<00:00, 569.47it/s]\n"
     ]
    },
    {
     "name": "stdout",
     "output_type": "stream",
     "text": [
      "Epoch: 36. Loss: 4.905252353637479e-06\n"
     ]
    },
    {
     "name": "stderr",
     "output_type": "stream",
     "text": [
      "100%|██████████| 100/100 [00:00<00:00, 569.87it/s]\n"
     ]
    },
    {
     "name": "stdout",
     "output_type": "stream",
     "text": [
      "Epoch: 37. Loss: 4.572423677018378e-06\n"
     ]
    },
    {
     "name": "stderr",
     "output_type": "stream",
     "text": [
      "100%|██████████| 100/100 [00:00<00:00, 569.58it/s]\n"
     ]
    },
    {
     "name": "stdout",
     "output_type": "stream",
     "text": [
      "Epoch: 38. Loss: 4.264930794306565e-06\n"
     ]
    },
    {
     "name": "stderr",
     "output_type": "stream",
     "text": [
      "100%|██████████| 100/100 [00:00<00:00, 567.55it/s]\n"
     ]
    },
    {
     "name": "stdout",
     "output_type": "stream",
     "text": [
      "Epoch: 39. Loss: 3.995194219896803e-06\n"
     ]
    },
    {
     "name": "stderr",
     "output_type": "stream",
     "text": [
      "100%|██████████| 100/100 [00:00<00:00, 567.86it/s]\n"
     ]
    },
    {
     "name": "stdout",
     "output_type": "stream",
     "text": [
      "Epoch: 40. Loss: 3.7348963815020397e-06\n"
     ]
    },
    {
     "name": "stderr",
     "output_type": "stream",
     "text": [
      "100%|██████████| 100/100 [00:00<00:00, 568.58it/s]\n"
     ]
    },
    {
     "name": "stdout",
     "output_type": "stream",
     "text": [
      "Epoch: 41. Loss: 3.4999345643882407e-06\n"
     ]
    },
    {
     "name": "stderr",
     "output_type": "stream",
     "text": [
      "100%|██████████| 100/100 [00:00<00:00, 567.57it/s]\n"
     ]
    },
    {
     "name": "stdout",
     "output_type": "stream",
     "text": [
      "Epoch: 42. Loss: 3.284844524387154e-06\n"
     ]
    },
    {
     "name": "stderr",
     "output_type": "stream",
     "text": [
      "100%|██████████| 100/100 [00:00<00:00, 567.87it/s]\n"
     ]
    },
    {
     "name": "stdout",
     "output_type": "stream",
     "text": [
      "Epoch: 43. Loss: 3.0737285214854637e-06\n"
     ]
    },
    {
     "name": "stderr",
     "output_type": "stream",
     "text": [
      "100%|██████████| 100/100 [00:00<00:00, 568.32it/s]\n"
     ]
    },
    {
     "name": "stdout",
     "output_type": "stream",
     "text": [
      "Epoch: 44. Loss: 2.884469722630456e-06\n"
     ]
    },
    {
     "name": "stderr",
     "output_type": "stream",
     "text": [
      "100%|██████████| 100/100 [00:00<00:00, 568.49it/s]\n"
     ]
    },
    {
     "name": "stdout",
     "output_type": "stream",
     "text": [
      "Epoch: 45. Loss: 2.715082473514485e-06\n"
     ]
    },
    {
     "name": "stderr",
     "output_type": "stream",
     "text": [
      "100%|██████████| 100/100 [00:00<00:00, 566.13it/s]\n"
     ]
    },
    {
     "name": "stdout",
     "output_type": "stream",
     "text": [
      "Epoch: 46. Loss: 2.551656052673934e-06\n"
     ]
    },
    {
     "name": "stderr",
     "output_type": "stream",
     "text": [
      "100%|██████████| 100/100 [00:00<00:00, 566.73it/s]\n"
     ]
    },
    {
     "name": "stdout",
     "output_type": "stream",
     "text": [
      "Epoch: 47. Loss: 2.4016421775741037e-06\n"
     ]
    },
    {
     "name": "stderr",
     "output_type": "stream",
     "text": [
      "100%|██████████| 100/100 [00:00<00:00, 568.82it/s]\n"
     ]
    },
    {
     "name": "stdout",
     "output_type": "stream",
     "text": [
      "Epoch: 48. Loss: 2.2645440367341507e-06\n"
     ]
    },
    {
     "name": "stderr",
     "output_type": "stream",
     "text": [
      "100%|██████████| 100/100 [00:00<00:00, 571.01it/s]\n"
     ]
    },
    {
     "name": "stdout",
     "output_type": "stream",
     "text": [
      "Epoch: 49. Loss: 2.1284390641085338e-06\n"
     ]
    },
    {
     "name": "stderr",
     "output_type": "stream",
     "text": [
      "100%|██████████| 100/100 [00:00<00:00, 568.03it/s]\n"
     ]
    },
    {
     "name": "stdout",
     "output_type": "stream",
     "text": [
      "Epoch: 50. Loss: 2.0012762433907483e-06\n"
     ]
    },
    {
     "name": "stderr",
     "output_type": "stream",
     "text": [
      "100%|██████████| 100/100 [00:00<00:00, 567.40it/s]\n"
     ]
    },
    {
     "name": "stdout",
     "output_type": "stream",
     "text": [
      "Epoch: 51. Loss: 1.8855381540561211e-06\n"
     ]
    },
    {
     "name": "stderr",
     "output_type": "stream",
     "text": [
      "100%|██████████| 100/100 [00:00<00:00, 570.79it/s]\n"
     ]
    },
    {
     "name": "stdout",
     "output_type": "stream",
     "text": [
      "Epoch: 52. Loss: 1.7812255919125164e-06\n"
     ]
    },
    {
     "name": "stderr",
     "output_type": "stream",
     "text": [
      "100%|██████████| 100/100 [00:00<00:00, 569.69it/s]\n"
     ]
    },
    {
     "name": "stdout",
     "output_type": "stream",
     "text": [
      "Epoch: 53. Loss: 1.676416331974906e-06\n"
     ]
    },
    {
     "name": "stderr",
     "output_type": "stream",
     "text": [
      "100%|██████████| 100/100 [00:00<00:00, 570.74it/s]\n"
     ]
    },
    {
     "name": "stdout",
     "output_type": "stream",
     "text": [
      "Epoch: 54. Loss: 1.583528728588135e-06\n"
     ]
    },
    {
     "name": "stderr",
     "output_type": "stream",
     "text": [
      "100%|██████████| 100/100 [00:00<00:00, 570.51it/s]\n"
     ]
    },
    {
     "name": "stdout",
     "output_type": "stream",
     "text": [
      "Epoch: 55. Loss: 1.4871641269564861e-06\n"
     ]
    },
    {
     "name": "stderr",
     "output_type": "stream",
     "text": [
      "100%|██████████| 100/100 [00:00<00:00, 569.49it/s]\n"
     ]
    },
    {
     "name": "stdout",
     "output_type": "stream",
     "text": [
      "Epoch: 56. Loss: 1.408681896464259e-06\n"
     ]
    },
    {
     "name": "stderr",
     "output_type": "stream",
     "text": [
      "100%|██████████| 100/100 [00:00<00:00, 567.98it/s]\n"
     ]
    },
    {
     "name": "stdout",
     "output_type": "stream",
     "text": [
      "Epoch: 57. Loss: 1.3272192518343218e-06\n"
     ]
    },
    {
     "name": "stderr",
     "output_type": "stream",
     "text": [
      "100%|██████████| 100/100 [00:00<00:00, 568.91it/s]\n"
     ]
    },
    {
     "name": "stdout",
     "output_type": "stream",
     "text": [
      "Epoch: 58. Loss: 1.2522143606474856e-06\n"
     ]
    },
    {
     "name": "stderr",
     "output_type": "stream",
     "text": [
      "100%|██████████| 100/100 [00:00<00:00, 567.88it/s]\n"
     ]
    },
    {
     "name": "stdout",
     "output_type": "stream",
     "text": [
      "Epoch: 59. Loss: 1.1831702977360692e-06\n"
     ]
    },
    {
     "name": "stderr",
     "output_type": "stream",
     "text": [
      "100%|██████████| 100/100 [00:00<00:00, 569.12it/s]\n"
     ]
    },
    {
     "name": "stdout",
     "output_type": "stream",
     "text": [
      "Epoch: 60. Loss: 1.117106535275525e-06\n"
     ]
    },
    {
     "name": "stderr",
     "output_type": "stream",
     "text": [
      "100%|██████████| 100/100 [00:00<00:00, 568.45it/s]\n"
     ]
    },
    {
     "name": "stdout",
     "output_type": "stream",
     "text": [
      "Epoch: 61. Loss: 1.0525330935706734e-06\n"
     ]
    },
    {
     "name": "stderr",
     "output_type": "stream",
     "text": [
      "100%|██████████| 100/100 [00:00<00:00, 569.03it/s]\n"
     ]
    },
    {
     "name": "stdout",
     "output_type": "stream",
     "text": [
      "Epoch: 62. Loss: 9.969005532184383e-07\n"
     ]
    },
    {
     "name": "stderr",
     "output_type": "stream",
     "text": [
      "100%|██████████| 100/100 [00:00<00:00, 569.12it/s]\n"
     ]
    },
    {
     "name": "stdout",
     "output_type": "stream",
     "text": [
      "Epoch: 63. Loss: 9.432551451027393e-07\n"
     ]
    },
    {
     "name": "stderr",
     "output_type": "stream",
     "text": [
      "100%|██████████| 100/100 [00:00<00:00, 570.27it/s]\n"
     ]
    },
    {
     "name": "stdout",
     "output_type": "stream",
     "text": [
      "Epoch: 64. Loss: 8.915964713196445e-07\n"
     ]
    },
    {
     "name": "stderr",
     "output_type": "stream",
     "text": [
      "100%|██████████| 100/100 [00:00<00:00, 568.71it/s]\n"
     ]
    },
    {
     "name": "stdout",
     "output_type": "stream",
     "text": [
      "Epoch: 65. Loss: 8.444085324299522e-07\n"
     ]
    },
    {
     "name": "stderr",
     "output_type": "stream",
     "text": [
      "100%|██████████| 100/100 [00:00<00:00, 569.48it/s]\n"
     ]
    },
    {
     "name": "stdout",
     "output_type": "stream",
     "text": [
      "Epoch: 66. Loss: 7.967237252159975e-07\n"
     ]
    },
    {
     "name": "stderr",
     "output_type": "stream",
     "text": [
      "100%|██████████| 100/100 [00:00<00:00, 570.70it/s]\n"
     ]
    },
    {
     "name": "stdout",
     "output_type": "stream",
     "text": [
      "Epoch: 67. Loss: 7.535094823651889e-07\n"
     ]
    },
    {
     "name": "stderr",
     "output_type": "stream",
     "text": [
      "100%|██████████| 100/100 [00:00<00:00, 570.01it/s]\n"
     ]
    },
    {
     "name": "stdout",
     "output_type": "stream",
     "text": [
      "Epoch: 68. Loss: 7.142689923966827e-07\n"
     ]
    },
    {
     "name": "stderr",
     "output_type": "stream",
     "text": [
      "100%|██████████| 100/100 [00:00<00:00, 570.28it/s]\n"
     ]
    },
    {
     "name": "stdout",
     "output_type": "stream",
     "text": [
      "Epoch: 69. Loss: 6.765187094970315e-07\n"
     ]
    },
    {
     "name": "stderr",
     "output_type": "stream",
     "text": [
      "100%|██████████| 100/100 [00:00<00:00, 570.64it/s]\n"
     ]
    },
    {
     "name": "stdout",
     "output_type": "stream",
     "text": [
      "Epoch: 70. Loss: 6.362848239405139e-07\n"
     ]
    },
    {
     "name": "stderr",
     "output_type": "stream",
     "text": [
      "100%|██████████| 100/100 [00:00<00:00, 570.75it/s]\n"
     ]
    },
    {
     "name": "stdout",
     "output_type": "stream",
     "text": [
      "Epoch: 71. Loss: 6.02508350766584e-07\n"
     ]
    },
    {
     "name": "stderr",
     "output_type": "stream",
     "text": [
      "100%|██████████| 100/100 [00:00<00:00, 569.42it/s]\n"
     ]
    },
    {
     "name": "stdout",
     "output_type": "stream",
     "text": [
      "Epoch: 72. Loss: 5.732022714255436e-07\n"
     ]
    },
    {
     "name": "stderr",
     "output_type": "stream",
     "text": [
      "100%|██████████| 100/100 [00:00<00:00, 571.47it/s]\n"
     ]
    },
    {
     "name": "stdout",
     "output_type": "stream",
     "text": [
      "Epoch: 73. Loss: 5.394258550950326e-07\n"
     ]
    },
    {
     "name": "stderr",
     "output_type": "stream",
     "text": [
      "100%|██████████| 100/100 [00:00<00:00, 570.91it/s]\n"
     ]
    },
    {
     "name": "stdout",
     "output_type": "stream",
     "text": [
      "Epoch: 74. Loss: 5.091264370093995e-07\n"
     ]
    },
    {
     "name": "stderr",
     "output_type": "stream",
     "text": [
      "100%|██████████| 100/100 [00:00<00:00, 568.88it/s]\n"
     ]
    },
    {
     "name": "stdout",
     "output_type": "stream",
     "text": [
      "Epoch: 75. Loss: 4.828006581192312e-07\n"
     ]
    },
    {
     "name": "stderr",
     "output_type": "stream",
     "text": [
      "100%|██████████| 100/100 [00:00<00:00, 569.42it/s]\n"
     ]
    },
    {
     "name": "stdout",
     "output_type": "stream",
     "text": [
      "Epoch: 76. Loss: 4.579651147196273e-07\n"
     ]
    },
    {
     "name": "stderr",
     "output_type": "stream",
     "text": [
      "100%|██████████| 100/100 [00:00<00:00, 569.33it/s]\n"
     ]
    },
    {
     "name": "stdout",
     "output_type": "stream",
     "text": [
      "Epoch: 77. Loss: 4.326329019477271e-07\n"
     ]
    },
    {
     "name": "stderr",
     "output_type": "stream",
     "text": [
      "100%|██████████| 100/100 [00:00<00:00, 565.57it/s]\n"
     ]
    },
    {
     "name": "stdout",
     "output_type": "stream",
     "text": [
      "Epoch: 78. Loss: 4.0978417814585555e-07\n"
     ]
    },
    {
     "name": "stderr",
     "output_type": "stream",
     "text": [
      "100%|██████████| 100/100 [00:00<00:00, 569.92it/s]\n"
     ]
    },
    {
     "name": "stdout",
     "output_type": "stream",
     "text": [
      "Epoch: 79. Loss: 3.8792887835370493e-07\n"
     ]
    },
    {
     "name": "stderr",
     "output_type": "stream",
     "text": [
      "100%|██████████| 100/100 [00:00<00:00, 570.36it/s]\n"
     ]
    },
    {
     "name": "stdout",
     "output_type": "stream",
     "text": [
      "Epoch: 80. Loss: 3.660736354049732e-07\n"
     ]
    },
    {
     "name": "stderr",
     "output_type": "stream",
     "text": [
      "100%|██████████| 100/100 [00:00<00:00, 569.84it/s]\n"
     ]
    },
    {
     "name": "stdout",
     "output_type": "stream",
     "text": [
      "Epoch: 81. Loss: 3.4918548408313654e-07\n"
     ]
    },
    {
     "name": "stderr",
     "output_type": "stream",
     "text": [
      "100%|██████████| 100/100 [00:00<00:00, 568.96it/s]\n"
     ]
    },
    {
     "name": "stdout",
     "output_type": "stream",
     "text": [
      "Epoch: 82. Loss: 3.2882039135984087e-07\n"
     ]
    },
    {
     "name": "stderr",
     "output_type": "stream",
     "text": [
      "100%|██████████| 100/100 [00:00<00:00, 570.57it/s]\n"
     ]
    },
    {
     "name": "stdout",
     "output_type": "stream",
     "text": [
      "Epoch: 83. Loss: 3.1292566404772515e-07\n"
     ]
    },
    {
     "name": "stderr",
     "output_type": "stream",
     "text": [
      "100%|██████████| 100/100 [00:00<00:00, 569.69it/s]\n"
     ]
    },
    {
     "name": "stdout",
     "output_type": "stream",
     "text": [
      "Epoch: 84. Loss: 2.9504414555958647e-07\n"
     ]
    },
    {
     "name": "stderr",
     "output_type": "stream",
     "text": [
      "100%|██████████| 100/100 [00:00<00:00, 570.30it/s]\n"
     ]
    },
    {
     "name": "stdout",
     "output_type": "stream",
     "text": [
      "Epoch: 85. Loss: 2.7964617288489535e-07\n"
     ]
    },
    {
     "name": "stderr",
     "output_type": "stream",
     "text": [
      "100%|██████████| 100/100 [00:00<00:00, 568.01it/s]\n"
     ]
    },
    {
     "name": "stdout",
     "output_type": "stream",
     "text": [
      "Epoch: 86. Loss: 2.662350198079366e-07\n"
     ]
    },
    {
     "name": "stderr",
     "output_type": "stream",
     "text": [
      "100%|██████████| 100/100 [00:00<00:00, 571.53it/s]\n"
     ]
    },
    {
     "name": "stdout",
     "output_type": "stream",
     "text": [
      "Epoch: 87. Loss: 2.51830442721257e-07\n"
     ]
    },
    {
     "name": "stderr",
     "output_type": "stream",
     "text": [
      "100%|██████████| 100/100 [00:00<00:00, 571.97it/s]\n"
     ]
    },
    {
     "name": "stdout",
     "output_type": "stream",
     "text": [
      "Epoch: 88. Loss: 2.3792262027200195e-07\n"
     ]
    },
    {
     "name": "stderr",
     "output_type": "stream",
     "text": [
      "100%|██████████| 100/100 [00:00<00:00, 570.35it/s]\n"
     ]
    },
    {
     "name": "stdout",
     "output_type": "stream",
     "text": [
      "Epoch: 89. Loss: 2.2550491962647357e-07\n"
     ]
    },
    {
     "name": "stderr",
     "output_type": "stream",
     "text": [
      "100%|██████████| 100/100 [00:00<00:00, 573.63it/s]\n"
     ]
    },
    {
     "name": "stdout",
     "output_type": "stream",
     "text": [
      "Epoch: 90. Loss: 2.1358393098580564e-07\n"
     ]
    },
    {
     "name": "stderr",
     "output_type": "stream",
     "text": [
      "100%|██████████| 100/100 [00:00<00:00, 573.41it/s]\n"
     ]
    },
    {
     "name": "stdout",
     "output_type": "stream",
     "text": [
      "Epoch: 91. Loss: 2.0116623034027725e-07\n"
     ]
    },
    {
     "name": "stderr",
     "output_type": "stream",
     "text": [
      "100%|██████████| 100/100 [00:00<00:00, 574.01it/s]\n"
     ]
    },
    {
     "name": "stdout",
     "output_type": "stream",
     "text": [
      "Epoch: 92. Loss: 1.9172875909134746e-07\n"
     ]
    },
    {
     "name": "stderr",
     "output_type": "stream",
     "text": [
      "100%|██████████| 100/100 [00:00<00:00, 575.80it/s]\n"
     ]
    },
    {
     "name": "stdout",
     "output_type": "stream",
     "text": [
      "Epoch: 93. Loss: 1.7931107265667379e-07\n"
     ]
    },
    {
     "name": "stderr",
     "output_type": "stream",
     "text": [
      "100%|██████████| 100/100 [00:00<00:00, 575.13it/s]\n"
     ]
    },
    {
     "name": "stdout",
     "output_type": "stream",
     "text": [
      "Epoch: 94. Loss: 1.7086705383917433e-07\n"
     ]
    },
    {
     "name": "stderr",
     "output_type": "stream",
     "text": [
      "100%|██████████| 100/100 [00:00<00:00, 571.99it/s]\n"
     ]
    },
    {
     "name": "stdout",
     "output_type": "stream",
     "text": [
      "Epoch: 95. Loss: 1.6142959680109925e-07\n"
     ]
    },
    {
     "name": "stderr",
     "output_type": "stream",
     "text": [
      "100%|██████████| 100/100 [00:00<00:00, 571.81it/s]\n"
     ]
    },
    {
     "name": "stdout",
     "output_type": "stream",
     "text": [
      "Epoch: 96. Loss: 1.5397897357161128e-07\n"
     ]
    },
    {
     "name": "stderr",
     "output_type": "stream",
     "text": [
      "100%|██████████| 100/100 [00:00<00:00, 571.81it/s]\n"
     ]
    },
    {
     "name": "stdout",
     "output_type": "stream",
     "text": [
      "Epoch: 97. Loss: 1.4503824274925137e-07\n"
     ]
    },
    {
     "name": "stderr",
     "output_type": "stream",
     "text": [
      "100%|██████████| 100/100 [00:00<00:00, 572.57it/s]\n"
     ]
    },
    {
     "name": "stdout",
     "output_type": "stream",
     "text": [
      "Epoch: 98. Loss: 1.3709095014746708e-07\n"
     ]
    },
    {
     "name": "stderr",
     "output_type": "stream",
     "text": [
      "100%|██████████| 100/100 [00:00<00:00, 572.78it/s]"
     ]
    },
    {
     "name": "stdout",
     "output_type": "stream",
     "text": [
      "Epoch: 99. Loss: 1.2914362912397337e-07\n"
     ]
    },
    {
     "name": "stderr",
     "output_type": "stream",
     "text": [
      "\n"
     ]
    }
   ],
   "source": [
    "loss_cnn_train = []\n",
    "EPOCHS = 100\n",
    "BATCH_SIZE = 120\n",
    "for epoch in range(EPOCHS):\n",
    "    for i in tqdm(range(0, len(X_train), BATCH_SIZE)):\n",
    "        batch_X = X_train[i:i+BATCH_SIZE].view(-1, 1, 23, 23)\n",
    "        batch_y = Y_train[i:i+BATCH_SIZE]\n",
    "        \n",
    "    \n",
    "        net.zero_grad()\n",
    "        outputs = net(batch_X.float())\n",
    "        #print(outputs)\n",
    "        loss = loss_function(outputs,  batch_y.float().reshape((-1,1)))\n",
    "        \n",
    "        loss.backward()\n",
    "        optimizer.step()\n",
    "    loss_cnn_train.append(loss)\n",
    "    if EPOCHS % 10 == 0:\n",
    "        print(f\"Epoch: {epoch}. Loss: {loss}\")\n",
    "\n"
   ]
  },
  {
   "cell_type": "code",
   "execution_count": 869,
   "id": "a7205b6e",
   "metadata": {},
   "outputs": [
    {
     "data": {
      "image/png": "[encoded data removed]",
      "text/plain": [
       "<Figure size 432x288 with 1 Axes>"
      ]
     },
     "metadata": {
      "needs_background": "light"
     },
     "output_type": "display_data"
    }
   ],
   "source": [
    "plt.plot(loss_cnn_train)\n",
    "plt.show()"
   ]
  },
  {
   "cell_type": "code",
   "execution_count": 870,
   "id": "08653147",
   "metadata": {},
   "outputs": [
    {
     "name": "stderr",
     "output_type": "stream",
     "text": [
      "100%|██████████| 2784/2784 [00:01<00:00, 2541.86it/s]"
     ]
    },
    {
     "name": "stdout",
     "output_type": "stream",
     "text": [
      "Accuracy:  0.995\n"
     ]
    },
    {
     "name": "stderr",
     "output_type": "stream",
     "text": [
      "\n"
     ]
    }
   ],
   "source": [
    "correct = 0\n",
    "total = 0\n",
    "sum_co=[]\n",
    "with torch.no_grad():\n",
    "    for i in tqdm(range(len(X_test))):\n",
    "        #real_class = torch.argmax(Y_test[i])\n",
    "        real_class = Y_test[i]\n",
    "        net_out = net(X_test[i].float().view(-1, 1, 23, 23))[0] # returns a list, \n",
    "        #print(net_out)\n",
    "        #predicted = y_pred.ge(.5).view(-1)\n",
    "        predicted_class = net_out.ge(.5).view(-1)\n",
    "        #print(predicted_class)\n",
    "         \n",
    "\n",
    "        if predicted_class == real_class:\n",
    "            sum_co.append(predicted_class ==1)\n",
    "            correct += 1\n",
    "        total += 1\n",
    "print(\"Accuracy: \", round(correct/total, 3))"
   ]
  },
  {
   "cell_type": "markdown",
   "id": "279d53a7",
   "metadata": {},
   "source": [
    " # experimenting with a dataset with 50/50 negative/positive samples LR =0.01"
   ]
  },
  {
   "cell_type": "code",
   "execution_count": 964,
   "id": "c4e3c8b8",
   "metadata": {},
   "outputs": [
    {
     "name": "stderr",
     "output_type": "stream",
     "text": [
      "100%|██████████| 20/20 [00:00<00:00, 530.21it/s]\n"
     ]
    },
    {
     "name": "stdout",
     "output_type": "stream",
     "text": [
      "Epoch: 0. Loss: 0.9531942009925842\n"
     ]
    },
    {
     "name": "stderr",
     "output_type": "stream",
     "text": [
      "100%|██████████| 20/20 [00:00<00:00, 572.72it/s]\n"
     ]
    },
    {
     "name": "stdout",
     "output_type": "stream",
     "text": [
      "Epoch: 1. Loss: 0.7327337265014648\n"
     ]
    },
    {
     "name": "stderr",
     "output_type": "stream",
     "text": [
      "100%|██████████| 20/20 [00:00<00:00, 572.16it/s]\n"
     ]
    },
    {
     "name": "stdout",
     "output_type": "stream",
     "text": [
      "Epoch: 2. Loss: 0.6973567605018616\n"
     ]
    },
    {
     "name": "stderr",
     "output_type": "stream",
     "text": [
      "100%|██████████| 20/20 [00:00<00:00, 571.09it/s]\n"
     ]
    },
    {
     "name": "stdout",
     "output_type": "stream",
     "text": [
      "Epoch: 3. Loss: 0.7042765617370605\n"
     ]
    },
    {
     "name": "stderr",
     "output_type": "stream",
     "text": [
      "100%|██████████| 20/20 [00:00<00:00, 573.47it/s]\n"
     ]
    },
    {
     "name": "stdout",
     "output_type": "stream",
     "text": [
      "Epoch: 4. Loss: 0.6948978304862976\n"
     ]
    },
    {
     "name": "stderr",
     "output_type": "stream",
     "text": [
      "100%|██████████| 20/20 [00:00<00:00, 572.48it/s]\n"
     ]
    },
    {
     "name": "stdout",
     "output_type": "stream",
     "text": [
      "Epoch: 5. Loss: 0.6929691433906555\n"
     ]
    },
    {
     "name": "stderr",
     "output_type": "stream",
     "text": [
      "100%|██████████| 20/20 [00:00<00:00, 571.80it/s]\n"
     ]
    },
    {
     "name": "stdout",
     "output_type": "stream",
     "text": [
      "Epoch: 6. Loss: 0.6921002864837646\n"
     ]
    },
    {
     "name": "stderr",
     "output_type": "stream",
     "text": [
      "100%|██████████| 20/20 [00:00<00:00, 571.59it/s]\n"
     ]
    },
    {
     "name": "stdout",
     "output_type": "stream",
     "text": [
      "Epoch: 7. Loss: 0.691900372505188\n"
     ]
    },
    {
     "name": "stderr",
     "output_type": "stream",
     "text": [
      "100%|██████████| 20/20 [00:00<00:00, 571.46it/s]\n"
     ]
    },
    {
     "name": "stdout",
     "output_type": "stream",
     "text": [
      "Epoch: 8. Loss: 0.6919195652008057\n"
     ]
    },
    {
     "name": "stderr",
     "output_type": "stream",
     "text": [
      "100%|██████████| 20/20 [00:00<00:00, 572.59it/s]\n"
     ]
    },
    {
     "name": "stdout",
     "output_type": "stream",
     "text": [
      "Epoch: 9. Loss: 0.6919814348220825\n"
     ]
    },
    {
     "name": "stderr",
     "output_type": "stream",
     "text": [
      "100%|██████████| 20/20 [00:00<00:00, 573.87it/s]\n"
     ]
    },
    {
     "name": "stdout",
     "output_type": "stream",
     "text": [
      "Epoch: 10. Loss: 0.6920611262321472\n"
     ]
    },
    {
     "name": "stderr",
     "output_type": "stream",
     "text": [
      "100%|██████████| 20/20 [00:00<00:00, 573.09it/s]\n"
     ]
    },
    {
     "name": "stdout",
     "output_type": "stream",
     "text": [
      "Epoch: 11. Loss: 0.6921094059944153\n"
     ]
    },
    {
     "name": "stderr",
     "output_type": "stream",
     "text": [
      "100%|██████████| 20/20 [00:00<00:00, 572.82it/s]\n"
     ]
    },
    {
     "name": "stdout",
     "output_type": "stream",
     "text": [
      "Epoch: 12. Loss: 0.6921473145484924\n"
     ]
    },
    {
     "name": "stderr",
     "output_type": "stream",
     "text": [
      "100%|██████████| 20/20 [00:00<00:00, 572.19it/s]\n"
     ]
    },
    {
     "name": "stdout",
     "output_type": "stream",
     "text": [
      "Epoch: 13. Loss: 0.6921945214271545\n"
     ]
    },
    {
     "name": "stderr",
     "output_type": "stream",
     "text": [
      "100%|██████████| 20/20 [00:00<00:00, 568.58it/s]\n"
     ]
    },
    {
     "name": "stdout",
     "output_type": "stream",
     "text": [
      "Epoch: 14. Loss: 0.6922112107276917\n"
     ]
    },
    {
     "name": "stderr",
     "output_type": "stream",
     "text": [
      "100%|██████████| 20/20 [00:00<00:00, 573.36it/s]\n"
     ]
    },
    {
     "name": "stdout",
     "output_type": "stream",
     "text": [
      "Epoch: 15. Loss: 0.6922179460525513\n"
     ]
    },
    {
     "name": "stderr",
     "output_type": "stream",
     "text": [
      "100%|██████████| 20/20 [00:00<00:00, 571.01it/s]\n"
     ]
    },
    {
     "name": "stdout",
     "output_type": "stream",
     "text": [
      "Epoch: 16. Loss: 0.6922386884689331\n"
     ]
    },
    {
     "name": "stderr",
     "output_type": "stream",
     "text": [
      "100%|██████████| 20/20 [00:00<00:00, 575.52it/s]\n"
     ]
    },
    {
     "name": "stdout",
     "output_type": "stream",
     "text": [
      "Epoch: 17. Loss: 0.6922433376312256\n"
     ]
    },
    {
     "name": "stderr",
     "output_type": "stream",
     "text": [
      "100%|██████████| 20/20 [00:00<00:00, 573.11it/s]\n"
     ]
    },
    {
     "name": "stdout",
     "output_type": "stream",
     "text": [
      "Epoch: 18. Loss: 0.6922599077224731\n"
     ]
    },
    {
     "name": "stderr",
     "output_type": "stream",
     "text": [
      "100%|██████████| 20/20 [00:00<00:00, 573.85it/s]\n"
     ]
    },
    {
     "name": "stdout",
     "output_type": "stream",
     "text": [
      "Epoch: 19. Loss: 0.6922681331634521\n"
     ]
    },
    {
     "name": "stderr",
     "output_type": "stream",
     "text": [
      "100%|██████████| 20/20 [00:00<00:00, 571.15it/s]\n"
     ]
    },
    {
     "name": "stdout",
     "output_type": "stream",
     "text": [
      "Epoch: 20. Loss: 0.6922734975814819\n"
     ]
    },
    {
     "name": "stderr",
     "output_type": "stream",
     "text": [
      "100%|██████████| 20/20 [00:00<00:00, 573.05it/s]\n"
     ]
    },
    {
     "name": "stdout",
     "output_type": "stream",
     "text": [
      "Epoch: 21. Loss: 0.6922846436500549\n"
     ]
    },
    {
     "name": "stderr",
     "output_type": "stream",
     "text": [
      "100%|██████████| 20/20 [00:00<00:00, 573.14it/s]\n"
     ]
    },
    {
     "name": "stdout",
     "output_type": "stream",
     "text": [
      "Epoch: 22. Loss: 0.692292332649231\n"
     ]
    },
    {
     "name": "stderr",
     "output_type": "stream",
     "text": [
      "100%|██████████| 20/20 [00:00<00:00, 574.51it/s]\n"
     ]
    },
    {
     "name": "stdout",
     "output_type": "stream",
     "text": [
      "Epoch: 23. Loss: 0.6922932267189026\n"
     ]
    },
    {
     "name": "stderr",
     "output_type": "stream",
     "text": [
      "100%|██████████| 20/20 [00:00<00:00, 574.44it/s]\n"
     ]
    },
    {
     "name": "stdout",
     "output_type": "stream",
     "text": [
      "Epoch: 24. Loss: 0.6922928094863892\n"
     ]
    },
    {
     "name": "stderr",
     "output_type": "stream",
     "text": [
      "100%|██████████| 20/20 [00:00<00:00, 574.02it/s]\n"
     ]
    },
    {
     "name": "stdout",
     "output_type": "stream",
     "text": [
      "Epoch: 25. Loss: 0.6922890543937683\n"
     ]
    },
    {
     "name": "stderr",
     "output_type": "stream",
     "text": [
      "100%|██████████| 20/20 [00:00<00:00, 574.24it/s]\n"
     ]
    },
    {
     "name": "stdout",
     "output_type": "stream",
     "text": [
      "Epoch: 26. Loss: 0.6923051476478577\n"
     ]
    },
    {
     "name": "stderr",
     "output_type": "stream",
     "text": [
      "100%|██████████| 20/20 [00:00<00:00, 574.02it/s]\n"
     ]
    },
    {
     "name": "stdout",
     "output_type": "stream",
     "text": [
      "Epoch: 27. Loss: 0.6922984719276428\n"
     ]
    },
    {
     "name": "stderr",
     "output_type": "stream",
     "text": [
      "100%|██████████| 20/20 [00:00<00:00, 571.70it/s]\n"
     ]
    },
    {
     "name": "stdout",
     "output_type": "stream",
     "text": [
      "Epoch: 28. Loss: 0.6922883987426758\n"
     ]
    },
    {
     "name": "stderr",
     "output_type": "stream",
     "text": [
      "100%|██████████| 20/20 [00:00<00:00, 572.59it/s]\n"
     ]
    },
    {
     "name": "stdout",
     "output_type": "stream",
     "text": [
      "Epoch: 29. Loss: 0.6923074722290039\n"
     ]
    },
    {
     "name": "stderr",
     "output_type": "stream",
     "text": [
      "100%|██████████| 20/20 [00:00<00:00, 573.78it/s]\n"
     ]
    },
    {
     "name": "stdout",
     "output_type": "stream",
     "text": [
      "Epoch: 30. Loss: 0.6923098564147949\n"
     ]
    },
    {
     "name": "stderr",
     "output_type": "stream",
     "text": [
      "100%|██████████| 20/20 [00:00<00:00, 572.64it/s]\n"
     ]
    },
    {
     "name": "stdout",
     "output_type": "stream",
     "text": [
      "Epoch: 31. Loss: 0.692298412322998\n"
     ]
    },
    {
     "name": "stderr",
     "output_type": "stream",
     "text": [
      "100%|██████████| 20/20 [00:00<00:00, 573.62it/s]\n"
     ]
    },
    {
     "name": "stdout",
     "output_type": "stream",
     "text": [
      "Epoch: 32. Loss: 0.692315936088562\n"
     ]
    },
    {
     "name": "stderr",
     "output_type": "stream",
     "text": [
      "100%|██████████| 20/20 [00:00<00:00, 573.41it/s]\n"
     ]
    },
    {
     "name": "stdout",
     "output_type": "stream",
     "text": [
      "Epoch: 33. Loss: 0.6923148036003113\n"
     ]
    },
    {
     "name": "stderr",
     "output_type": "stream",
     "text": [
      "100%|██████████| 20/20 [00:00<00:00, 573.04it/s]\n"
     ]
    },
    {
     "name": "stdout",
     "output_type": "stream",
     "text": [
      "Epoch: 34. Loss: 0.6923197507858276\n"
     ]
    },
    {
     "name": "stderr",
     "output_type": "stream",
     "text": [
      "100%|██████████| 20/20 [00:00<00:00, 572.71it/s]\n"
     ]
    },
    {
     "name": "stdout",
     "output_type": "stream",
     "text": [
      "Epoch: 35. Loss: 0.6923024654388428\n"
     ]
    },
    {
     "name": "stderr",
     "output_type": "stream",
     "text": [
      "100%|██████████| 20/20 [00:00<00:00, 572.41it/s]\n"
     ]
    },
    {
     "name": "stdout",
     "output_type": "stream",
     "text": [
      "Epoch: 36. Loss: 0.6923004388809204\n"
     ]
    },
    {
     "name": "stderr",
     "output_type": "stream",
     "text": [
      "100%|██████████| 20/20 [00:00<00:00, 572.41it/s]\n"
     ]
    },
    {
     "name": "stdout",
     "output_type": "stream",
     "text": [
      "Epoch: 37. Loss: 0.6923109889030457\n"
     ]
    },
    {
     "name": "stderr",
     "output_type": "stream",
     "text": [
      "100%|██████████| 20/20 [00:00<00:00, 572.35it/s]\n"
     ]
    },
    {
     "name": "stdout",
     "output_type": "stream",
     "text": [
      "Epoch: 38. Loss: 0.6923001408576965\n"
     ]
    },
    {
     "name": "stderr",
     "output_type": "stream",
     "text": [
      "100%|██████████| 20/20 [00:00<00:00, 573.78it/s]\n"
     ]
    },
    {
     "name": "stdout",
     "output_type": "stream",
     "text": [
      "Epoch: 39. Loss: 0.6923062801361084\n"
     ]
    },
    {
     "name": "stderr",
     "output_type": "stream",
     "text": [
      "100%|██████████| 20/20 [00:00<00:00, 573.16it/s]\n"
     ]
    },
    {
     "name": "stdout",
     "output_type": "stream",
     "text": [
      "Epoch: 40. Loss: 0.6923195123672485\n"
     ]
    },
    {
     "name": "stderr",
     "output_type": "stream",
     "text": [
      "100%|██████████| 20/20 [00:00<00:00, 571.97it/s]\n"
     ]
    },
    {
     "name": "stdout",
     "output_type": "stream",
     "text": [
      "Epoch: 41. Loss: 0.692304790019989\n"
     ]
    },
    {
     "name": "stderr",
     "output_type": "stream",
     "text": [
      "100%|██████████| 20/20 [00:00<00:00, 570.41it/s]\n"
     ]
    },
    {
     "name": "stdout",
     "output_type": "stream",
     "text": [
      "Epoch: 42. Loss: 0.6923316121101379\n"
     ]
    },
    {
     "name": "stderr",
     "output_type": "stream",
     "text": [
      "100%|██████████| 20/20 [00:00<00:00, 572.90it/s]\n"
     ]
    },
    {
     "name": "stdout",
     "output_type": "stream",
     "text": [
      "Epoch: 43. Loss: 0.6923165321350098\n"
     ]
    },
    {
     "name": "stderr",
     "output_type": "stream",
     "text": [
      "100%|██████████| 20/20 [00:00<00:00, 573.29it/s]\n"
     ]
    },
    {
     "name": "stdout",
     "output_type": "stream",
     "text": [
      "Epoch: 44. Loss: 0.6923221945762634\n"
     ]
    },
    {
     "name": "stderr",
     "output_type": "stream",
     "text": [
      "100%|██████████| 20/20 [00:00<00:00, 573.09it/s]\n"
     ]
    },
    {
     "name": "stdout",
     "output_type": "stream",
     "text": [
      "Epoch: 45. Loss: 0.6923296451568604\n"
     ]
    },
    {
     "name": "stderr",
     "output_type": "stream",
     "text": [
      "100%|██████████| 20/20 [00:00<00:00, 573.35it/s]\n"
     ]
    },
    {
     "name": "stdout",
     "output_type": "stream",
     "text": [
      "Epoch: 46. Loss: 0.692302405834198\n"
     ]
    },
    {
     "name": "stderr",
     "output_type": "stream",
     "text": [
      "100%|██████████| 20/20 [00:00<00:00, 573.33it/s]\n"
     ]
    },
    {
     "name": "stdout",
     "output_type": "stream",
     "text": [
      "Epoch: 47. Loss: 0.6923177242279053\n"
     ]
    },
    {
     "name": "stderr",
     "output_type": "stream",
     "text": [
      "100%|██████████| 20/20 [00:00<00:00, 572.20it/s]\n"
     ]
    },
    {
     "name": "stdout",
     "output_type": "stream",
     "text": [
      "Epoch: 48. Loss: 0.6923306584358215\n"
     ]
    },
    {
     "name": "stderr",
     "output_type": "stream",
     "text": [
      "100%|██████████| 20/20 [00:00<00:00, 572.81it/s]\n"
     ]
    },
    {
     "name": "stdout",
     "output_type": "stream",
     "text": [
      "Epoch: 49. Loss: 0.6923183798789978\n"
     ]
    },
    {
     "name": "stderr",
     "output_type": "stream",
     "text": [
      "100%|██████████| 20/20 [00:00<00:00, 572.82it/s]\n"
     ]
    },
    {
     "name": "stdout",
     "output_type": "stream",
     "text": [
      "Epoch: 50. Loss: 0.6923372745513916\n"
     ]
    },
    {
     "name": "stderr",
     "output_type": "stream",
     "text": [
      "100%|██████████| 20/20 [00:00<00:00, 575.46it/s]\n"
     ]
    },
    {
     "name": "stdout",
     "output_type": "stream",
     "text": [
      "Epoch: 51. Loss: 0.6923526525497437\n"
     ]
    },
    {
     "name": "stderr",
     "output_type": "stream",
     "text": [
      "100%|██████████| 20/20 [00:00<00:00, 574.26it/s]\n"
     ]
    },
    {
     "name": "stdout",
     "output_type": "stream",
     "text": [
      "Epoch: 52. Loss: 0.6923385262489319\n"
     ]
    },
    {
     "name": "stderr",
     "output_type": "stream",
     "text": [
      "100%|██████████| 20/20 [00:00<00:00, 573.70it/s]\n"
     ]
    },
    {
     "name": "stdout",
     "output_type": "stream",
     "text": [
      "Epoch: 53. Loss: 0.6923322677612305\n"
     ]
    },
    {
     "name": "stderr",
     "output_type": "stream",
     "text": [
      "100%|██████████| 20/20 [00:00<00:00, 573.50it/s]\n"
     ]
    },
    {
     "name": "stdout",
     "output_type": "stream",
     "text": [
      "Epoch: 54. Loss: 0.6923235654830933\n"
     ]
    },
    {
     "name": "stderr",
     "output_type": "stream",
     "text": [
      "100%|██████████| 20/20 [00:00<00:00, 574.71it/s]\n"
     ]
    },
    {
     "name": "stdout",
     "output_type": "stream",
     "text": [
      "Epoch: 55. Loss: 0.692335307598114\n"
     ]
    },
    {
     "name": "stderr",
     "output_type": "stream",
     "text": [
      "100%|██████████| 20/20 [00:00<00:00, 573.28it/s]\n"
     ]
    },
    {
     "name": "stdout",
     "output_type": "stream",
     "text": [
      "Epoch: 56. Loss: 0.6923426389694214\n"
     ]
    },
    {
     "name": "stderr",
     "output_type": "stream",
     "text": [
      "100%|██████████| 20/20 [00:00<00:00, 574.06it/s]\n"
     ]
    },
    {
     "name": "stdout",
     "output_type": "stream",
     "text": [
      "Epoch: 57. Loss: 0.6923237442970276\n"
     ]
    },
    {
     "name": "stderr",
     "output_type": "stream",
     "text": [
      "100%|██████████| 20/20 [00:00<00:00, 575.18it/s]\n"
     ]
    },
    {
     "name": "stdout",
     "output_type": "stream",
     "text": [
      "Epoch: 58. Loss: 0.6923303604125977\n"
     ]
    },
    {
     "name": "stderr",
     "output_type": "stream",
     "text": [
      "100%|██████████| 20/20 [00:00<00:00, 573.67it/s]\n"
     ]
    },
    {
     "name": "stdout",
     "output_type": "stream",
     "text": [
      "Epoch: 59. Loss: 0.6923370957374573\n"
     ]
    },
    {
     "name": "stderr",
     "output_type": "stream",
     "text": [
      "100%|██████████| 20/20 [00:00<00:00, 573.66it/s]\n"
     ]
    },
    {
     "name": "stdout",
     "output_type": "stream",
     "text": [
      "Epoch: 60. Loss: 0.6923189163208008\n"
     ]
    },
    {
     "name": "stderr",
     "output_type": "stream",
     "text": [
      "100%|██████████| 20/20 [00:00<00:00, 575.59it/s]\n"
     ]
    },
    {
     "name": "stdout",
     "output_type": "stream",
     "text": [
      "Epoch: 61. Loss: 0.6923186779022217\n"
     ]
    },
    {
     "name": "stderr",
     "output_type": "stream",
     "text": [
      "100%|██████████| 20/20 [00:00<00:00, 575.23it/s]\n"
     ]
    },
    {
     "name": "stdout",
     "output_type": "stream",
     "text": [
      "Epoch: 62. Loss: 0.6923176050186157\n"
     ]
    },
    {
     "name": "stderr",
     "output_type": "stream",
     "text": [
      "100%|██████████| 20/20 [00:00<00:00, 573.30it/s]\n"
     ]
    },
    {
     "name": "stdout",
     "output_type": "stream",
     "text": [
      "Epoch: 63. Loss: 0.6923348903656006\n"
     ]
    },
    {
     "name": "stderr",
     "output_type": "stream",
     "text": [
      "100%|██████████| 20/20 [00:00<00:00, 572.65it/s]\n"
     ]
    },
    {
     "name": "stdout",
     "output_type": "stream",
     "text": [
      "Epoch: 64. Loss: 0.6923232078552246\n"
     ]
    },
    {
     "name": "stderr",
     "output_type": "stream",
     "text": [
      "100%|██████████| 20/20 [00:00<00:00, 573.28it/s]\n"
     ]
    },
    {
     "name": "stdout",
     "output_type": "stream",
     "text": [
      "Epoch: 65. Loss: 0.6923229098320007\n"
     ]
    },
    {
     "name": "stderr",
     "output_type": "stream",
     "text": [
      "100%|██████████| 20/20 [00:00<00:00, 573.53it/s]\n"
     ]
    },
    {
     "name": "stdout",
     "output_type": "stream",
     "text": [
      "Epoch: 66. Loss: 0.6923346519470215\n"
     ]
    },
    {
     "name": "stderr",
     "output_type": "stream",
     "text": [
      "100%|██████████| 20/20 [00:00<00:00, 574.94it/s]\n"
     ]
    },
    {
     "name": "stdout",
     "output_type": "stream",
     "text": [
      "Epoch: 67. Loss: 0.6923115253448486\n"
     ]
    },
    {
     "name": "stderr",
     "output_type": "stream",
     "text": [
      "100%|██████████| 20/20 [00:00<00:00, 574.05it/s]\n"
     ]
    },
    {
     "name": "stdout",
     "output_type": "stream",
     "text": [
      "Epoch: 68. Loss: 0.6923195719718933\n"
     ]
    },
    {
     "name": "stderr",
     "output_type": "stream",
     "text": [
      "100%|██████████| 20/20 [00:00<00:00, 574.07it/s]\n"
     ]
    },
    {
     "name": "stdout",
     "output_type": "stream",
     "text": [
      "Epoch: 69. Loss: 0.692330539226532\n"
     ]
    },
    {
     "name": "stderr",
     "output_type": "stream",
     "text": [
      "100%|██████████| 20/20 [00:00<00:00, 574.43it/s]\n"
     ]
    },
    {
     "name": "stdout",
     "output_type": "stream",
     "text": [
      "Epoch: 70. Loss: 0.6923317909240723\n"
     ]
    },
    {
     "name": "stderr",
     "output_type": "stream",
     "text": [
      "100%|██████████| 20/20 [00:00<00:00, 574.69it/s]\n"
     ]
    },
    {
     "name": "stdout",
     "output_type": "stream",
     "text": [
      "Epoch: 71. Loss: 0.6923061013221741\n"
     ]
    },
    {
     "name": "stderr",
     "output_type": "stream",
     "text": [
      "100%|██████████| 20/20 [00:00<00:00, 573.47it/s]\n"
     ]
    },
    {
     "name": "stdout",
     "output_type": "stream",
     "text": [
      "Epoch: 72. Loss: 0.6923363208770752\n"
     ]
    },
    {
     "name": "stderr",
     "output_type": "stream",
     "text": [
      "100%|██████████| 20/20 [00:00<00:00, 574.91it/s]\n"
     ]
    },
    {
     "name": "stdout",
     "output_type": "stream",
     "text": [
      "Epoch: 73. Loss: 0.6923332214355469\n"
     ]
    },
    {
     "name": "stderr",
     "output_type": "stream",
     "text": [
      "100%|██████████| 20/20 [00:00<00:00, 574.38it/s]\n"
     ]
    },
    {
     "name": "stdout",
     "output_type": "stream",
     "text": [
      "Epoch: 74. Loss: 0.6923413872718811\n"
     ]
    },
    {
     "name": "stderr",
     "output_type": "stream",
     "text": [
      "100%|██████████| 20/20 [00:00<00:00, 572.32it/s]\n"
     ]
    },
    {
     "name": "stdout",
     "output_type": "stream",
     "text": [
      "Epoch: 75. Loss: 0.6923308372497559\n"
     ]
    },
    {
     "name": "stderr",
     "output_type": "stream",
     "text": [
      "100%|██████████| 20/20 [00:00<00:00, 572.09it/s]\n"
     ]
    },
    {
     "name": "stdout",
     "output_type": "stream",
     "text": [
      "Epoch: 76. Loss: 0.6923072934150696\n"
     ]
    },
    {
     "name": "stderr",
     "output_type": "stream",
     "text": [
      "100%|██████████| 20/20 [00:00<00:00, 571.59it/s]\n"
     ]
    },
    {
     "name": "stdout",
     "output_type": "stream",
     "text": [
      "Epoch: 77. Loss: 0.692356288433075\n"
     ]
    },
    {
     "name": "stderr",
     "output_type": "stream",
     "text": [
      "100%|██████████| 20/20 [00:00<00:00, 571.82it/s]\n"
     ]
    },
    {
     "name": "stdout",
     "output_type": "stream",
     "text": [
      "Epoch: 78. Loss: 0.6923334002494812\n"
     ]
    },
    {
     "name": "stderr",
     "output_type": "stream",
     "text": [
      "100%|██████████| 20/20 [00:00<00:00, 572.21it/s]\n"
     ]
    },
    {
     "name": "stdout",
     "output_type": "stream",
     "text": [
      "Epoch: 79. Loss: 0.6923346519470215\n"
     ]
    },
    {
     "name": "stderr",
     "output_type": "stream",
     "text": [
      "100%|██████████| 20/20 [00:00<00:00, 571.85it/s]\n"
     ]
    },
    {
     "name": "stdout",
     "output_type": "stream",
     "text": [
      "Epoch: 80. Loss: 0.6923146843910217\n"
     ]
    },
    {
     "name": "stderr",
     "output_type": "stream",
     "text": [
      "100%|██████████| 20/20 [00:00<00:00, 572.54it/s]\n"
     ]
    },
    {
     "name": "stdout",
     "output_type": "stream",
     "text": [
      "Epoch: 81. Loss: 0.6923403739929199\n"
     ]
    },
    {
     "name": "stderr",
     "output_type": "stream",
     "text": [
      "100%|██████████| 20/20 [00:00<00:00, 570.43it/s]\n"
     ]
    },
    {
     "name": "stdout",
     "output_type": "stream",
     "text": [
      "Epoch: 82. Loss: 0.6923365592956543\n"
     ]
    },
    {
     "name": "stderr",
     "output_type": "stream",
     "text": [
      "100%|██████████| 20/20 [00:00<00:00, 572.39it/s]\n"
     ]
    },
    {
     "name": "stdout",
     "output_type": "stream",
     "text": [
      "Epoch: 83. Loss: 0.6923191547393799\n"
     ]
    },
    {
     "name": "stderr",
     "output_type": "stream",
     "text": [
      "100%|██████████| 20/20 [00:00<00:00, 571.18it/s]\n"
     ]
    },
    {
     "name": "stdout",
     "output_type": "stream",
     "text": [
      "Epoch: 84. Loss: 0.6923238635063171\n"
     ]
    },
    {
     "name": "stderr",
     "output_type": "stream",
     "text": [
      "100%|██████████| 20/20 [00:00<00:00, 574.63it/s]\n"
     ]
    },
    {
     "name": "stdout",
     "output_type": "stream",
     "text": [
      "Epoch: 85. Loss: 0.692334771156311\n"
     ]
    },
    {
     "name": "stderr",
     "output_type": "stream",
     "text": [
      "100%|██████████| 20/20 [00:00<00:00, 572.46it/s]\n"
     ]
    },
    {
     "name": "stdout",
     "output_type": "stream",
     "text": [
      "Epoch: 86. Loss: 0.6923162341117859\n"
     ]
    },
    {
     "name": "stderr",
     "output_type": "stream",
     "text": [
      "100%|██████████| 20/20 [00:00<00:00, 571.75it/s]\n"
     ]
    },
    {
     "name": "stdout",
     "output_type": "stream",
     "text": [
      "Epoch: 87. Loss: 0.6923326253890991\n"
     ]
    },
    {
     "name": "stderr",
     "output_type": "stream",
     "text": [
      "100%|██████████| 20/20 [00:00<00:00, 572.97it/s]\n"
     ]
    },
    {
     "name": "stdout",
     "output_type": "stream",
     "text": [
      "Epoch: 88. Loss: 0.6923163533210754\n"
     ]
    },
    {
     "name": "stderr",
     "output_type": "stream",
     "text": [
      "100%|██████████| 20/20 [00:00<00:00, 572.41it/s]\n"
     ]
    },
    {
     "name": "stdout",
     "output_type": "stream",
     "text": [
      "Epoch: 89. Loss: 0.6923502683639526\n"
     ]
    },
    {
     "name": "stderr",
     "output_type": "stream",
     "text": [
      "100%|██████████| 20/20 [00:00<00:00, 572.68it/s]\n"
     ]
    },
    {
     "name": "stdout",
     "output_type": "stream",
     "text": [
      "Epoch: 90. Loss: 0.6923337578773499\n"
     ]
    },
    {
     "name": "stderr",
     "output_type": "stream",
     "text": [
      "100%|██████████| 20/20 [00:00<00:00, 572.54it/s]\n"
     ]
    },
    {
     "name": "stdout",
     "output_type": "stream",
     "text": [
      "Epoch: 91. Loss: 0.6923301219940186\n"
     ]
    },
    {
     "name": "stderr",
     "output_type": "stream",
     "text": [
      "100%|██████████| 20/20 [00:00<00:00, 576.75it/s]\n"
     ]
    },
    {
     "name": "stdout",
     "output_type": "stream",
     "text": [
      "Epoch: 92. Loss: 0.6923338770866394\n"
     ]
    },
    {
     "name": "stderr",
     "output_type": "stream",
     "text": [
      "100%|██████████| 20/20 [00:00<00:00, 575.03it/s]\n"
     ]
    },
    {
     "name": "stdout",
     "output_type": "stream",
     "text": [
      "Epoch: 93. Loss: 0.6923151016235352\n"
     ]
    },
    {
     "name": "stderr",
     "output_type": "stream",
     "text": [
      "100%|██████████| 20/20 [00:00<00:00, 575.57it/s]\n"
     ]
    },
    {
     "name": "stdout",
     "output_type": "stream",
     "text": [
      "Epoch: 94. Loss: 0.6923325061798096\n"
     ]
    },
    {
     "name": "stderr",
     "output_type": "stream",
     "text": [
      "100%|██████████| 20/20 [00:00<00:00, 573.67it/s]\n"
     ]
    },
    {
     "name": "stdout",
     "output_type": "stream",
     "text": [
      "Epoch: 95. Loss: 0.6923370361328125\n"
     ]
    },
    {
     "name": "stderr",
     "output_type": "stream",
     "text": [
      "100%|██████████| 20/20 [00:00<00:00, 572.64it/s]\n"
     ]
    },
    {
     "name": "stdout",
     "output_type": "stream",
     "text": [
      "Epoch: 96. Loss: 0.6923083066940308\n"
     ]
    },
    {
     "name": "stderr",
     "output_type": "stream",
     "text": [
      "100%|██████████| 20/20 [00:00<00:00, 574.86it/s]\n"
     ]
    },
    {
     "name": "stdout",
     "output_type": "stream",
     "text": [
      "Epoch: 97. Loss: 0.6923229694366455\n"
     ]
    },
    {
     "name": "stderr",
     "output_type": "stream",
     "text": [
      "100%|██████████| 20/20 [00:00<00:00, 576.54it/s]\n"
     ]
    },
    {
     "name": "stdout",
     "output_type": "stream",
     "text": [
      "Epoch: 98. Loss: 0.6923334002494812\n"
     ]
    },
    {
     "name": "stderr",
     "output_type": "stream",
     "text": [
      "100%|██████████| 20/20 [00:00<00:00, 575.69it/s]"
     ]
    },
    {
     "name": "stdout",
     "output_type": "stream",
     "text": [
      "Epoch: 99. Loss: 0.6923168301582336\n"
     ]
    },
    {
     "name": "stderr",
     "output_type": "stream",
     "text": [
      "\n"
     ]
    }
   ],
   "source": [
    "loss_cnn_train = []\n",
    "EPOCHS = 100\n",
    "BATCH_SIZE = 120\n",
    "for epoch in range(EPOCHS):\n",
    "    for i in tqdm(range(0, len(X_train), BATCH_SIZE)):\n",
    "        batch_X = X_train[i:i+BATCH_SIZE].view(-1, 1, 23, 23)\n",
    "        batch_y = Y_train[i:i+BATCH_SIZE]\n",
    "        \n",
    "    \n",
    "        net.zero_grad()\n",
    "        outputs = net(batch_X.float())\n",
    "        #print(outputs)\n",
    "        loss = loss_function(outputs,  batch_y.float().reshape((-1,1)))\n",
    "        \n",
    "        loss.backward()\n",
    "        optimizer.step()\n",
    "    loss_cnn_train.append(loss)\n",
    "    if EPOCHS % 10 == 0:\n",
    "        print(f\"Epoch: {epoch}. Loss: {loss}\")"
   ]
  },
  {
   "cell_type": "code",
   "execution_count": 965,
   "id": "7aaee308",
   "metadata": {},
   "outputs": [
    {
     "data": {
      "image/png": "[encoded data removed]",
      "text/plain": [
       "<Figure size 432x288 with 1 Axes>"
      ]
     },
     "metadata": {
      "needs_background": "light"
     },
     "output_type": "display_data"
    }
   ],
   "source": [
    "plt.plot(loss_cnn_train)\n",
    "plt.show()"
   ]
  },
  {
   "cell_type": "code",
   "execution_count": 966,
   "id": "c4558008",
   "metadata": {},
   "outputs": [
    {
     "name": "stderr",
     "output_type": "stream",
     "text": [
      "100%|██████████| 288/288 [00:00<00:00, 2663.90it/s]"
     ]
    },
    {
     "name": "stdout",
     "output_type": "stream",
     "text": [
      "Accuracy:  0.556\n"
     ]
    },
    {
     "name": "stderr",
     "output_type": "stream",
     "text": [
      "\n"
     ]
    }
   ],
   "source": [
    "correct = 0\n",
    "total = 0\n",
    "sum_co=[]\n",
    "with torch.no_grad():\n",
    "    for i in tqdm(range(len(X_test))):\n",
    "        #real_class = torch.argmax(Y_test[i])\n",
    "        real_class = Y_test[i]\n",
    "        net_out = net(X_test[i].float().view(-1, 1, 23, 23))[0] # returns a list, \n",
    "        #print(net_out)\n",
    "        #predicted = y_pred.ge(.5).view(-1)\n",
    "        predicted_class = net_out.ge(.5).view(-1)\n",
    "        #print(predicted_class)\n",
    "         \n",
    "\n",
    "        if predicted_class == real_class:\n",
    "            sum_co.append(predicted_class ==1)\n",
    "            correct += 1\n",
    "        total += 1\n",
    "print(\"Accuracy: \", round(correct/total, 3))"
   ]
  },
  {
   "cell_type": "markdown",
   "id": "d07d977b",
   "metadata": {},
   "source": [
    " # experimenting with a dataset with 50/50 negative/positive samples LR =0.001"
   ]
  },
  {
   "cell_type": "code",
   "execution_count": 970,
   "id": "bd85905e",
   "metadata": {},
   "outputs": [
    {
     "name": "stderr",
     "output_type": "stream",
     "text": [
      "100%|██████████| 20/20 [00:00<00:00, 506.48it/s]\n"
     ]
    },
    {
     "name": "stdout",
     "output_type": "stream",
     "text": [
      "Epoch: 0. Loss: 0.6923124194145203\n"
     ]
    },
    {
     "name": "stderr",
     "output_type": "stream",
     "text": [
      "100%|██████████| 20/20 [00:00<00:00, 574.81it/s]\n"
     ]
    },
    {
     "name": "stdout",
     "output_type": "stream",
     "text": [
      "Epoch: 1. Loss: 0.6910194158554077\n"
     ]
    },
    {
     "name": "stderr",
     "output_type": "stream",
     "text": [
      "100%|██████████| 20/20 [00:00<00:00, 572.85it/s]\n"
     ]
    },
    {
     "name": "stdout",
     "output_type": "stream",
     "text": [
      "Epoch: 2. Loss: 0.6880052089691162\n"
     ]
    },
    {
     "name": "stderr",
     "output_type": "stream",
     "text": [
      "100%|██████████| 20/20 [00:00<00:00, 574.07it/s]\n"
     ]
    },
    {
     "name": "stdout",
     "output_type": "stream",
     "text": [
      "Epoch: 3. Loss: 0.6669464707374573\n"
     ]
    },
    {
     "name": "stderr",
     "output_type": "stream",
     "text": [
      "100%|██████████| 20/20 [00:00<00:00, 574.74it/s]\n"
     ]
    },
    {
     "name": "stdout",
     "output_type": "stream",
     "text": [
      "Epoch: 4. Loss: 0.4051553010940552\n"
     ]
    },
    {
     "name": "stderr",
     "output_type": "stream",
     "text": [
      "100%|██████████| 20/20 [00:00<00:00, 573.75it/s]\n"
     ]
    },
    {
     "name": "stdout",
     "output_type": "stream",
     "text": [
      "Epoch: 5. Loss: 0.14059892296791077\n"
     ]
    },
    {
     "name": "stderr",
     "output_type": "stream",
     "text": [
      "100%|██████████| 20/20 [00:00<00:00, 573.12it/s]\n"
     ]
    },
    {
     "name": "stdout",
     "output_type": "stream",
     "text": [
      "Epoch: 6. Loss: 0.09418408572673798\n"
     ]
    },
    {
     "name": "stderr",
     "output_type": "stream",
     "text": [
      "100%|██████████| 20/20 [00:00<00:00, 573.47it/s]\n"
     ]
    },
    {
     "name": "stdout",
     "output_type": "stream",
     "text": [
      "Epoch: 7. Loss: 0.07919937372207642\n"
     ]
    },
    {
     "name": "stderr",
     "output_type": "stream",
     "text": [
      "100%|██████████| 20/20 [00:00<00:00, 572.93it/s]\n"
     ]
    },
    {
     "name": "stdout",
     "output_type": "stream",
     "text": [
      "Epoch: 8. Loss: 0.06491606682538986\n"
     ]
    },
    {
     "name": "stderr",
     "output_type": "stream",
     "text": [
      "100%|██████████| 20/20 [00:00<00:00, 573.99it/s]\n"
     ]
    },
    {
     "name": "stdout",
     "output_type": "stream",
     "text": [
      "Epoch: 9. Loss: 0.05850929766893387\n"
     ]
    },
    {
     "name": "stderr",
     "output_type": "stream",
     "text": [
      "100%|██████████| 20/20 [00:00<00:00, 573.74it/s]\n"
     ]
    },
    {
     "name": "stdout",
     "output_type": "stream",
     "text": [
      "Epoch: 10. Loss: 0.030783556401729584\n"
     ]
    },
    {
     "name": "stderr",
     "output_type": "stream",
     "text": [
      "100%|██████████| 20/20 [00:00<00:00, 574.72it/s]\n"
     ]
    },
    {
     "name": "stdout",
     "output_type": "stream",
     "text": [
      "Epoch: 11. Loss: 0.013002465479075909\n"
     ]
    },
    {
     "name": "stderr",
     "output_type": "stream",
     "text": [
      "100%|██████████| 20/20 [00:00<00:00, 573.97it/s]\n"
     ]
    },
    {
     "name": "stdout",
     "output_type": "stream",
     "text": [
      "Epoch: 12. Loss: 0.009713002480566502\n"
     ]
    },
    {
     "name": "stderr",
     "output_type": "stream",
     "text": [
      "100%|██████████| 20/20 [00:00<00:00, 573.24it/s]\n"
     ]
    },
    {
     "name": "stdout",
     "output_type": "stream",
     "text": [
      "Epoch: 13. Loss: 0.0071041882038116455\n"
     ]
    },
    {
     "name": "stderr",
     "output_type": "stream",
     "text": [
      "100%|██████████| 20/20 [00:00<00:00, 573.14it/s]\n"
     ]
    },
    {
     "name": "stdout",
     "output_type": "stream",
     "text": [
      "Epoch: 14. Loss: 0.006240298505872488\n"
     ]
    },
    {
     "name": "stderr",
     "output_type": "stream",
     "text": [
      "100%|██████████| 20/20 [00:00<00:00, 573.83it/s]\n"
     ]
    },
    {
     "name": "stdout",
     "output_type": "stream",
     "text": [
      "Epoch: 15. Loss: 0.019640959799289703\n"
     ]
    },
    {
     "name": "stderr",
     "output_type": "stream",
     "text": [
      "100%|██████████| 20/20 [00:00<00:00, 573.34it/s]\n"
     ]
    },
    {
     "name": "stdout",
     "output_type": "stream",
     "text": [
      "Epoch: 16. Loss: 0.002272837795317173\n"
     ]
    },
    {
     "name": "stderr",
     "output_type": "stream",
     "text": [
      "100%|██████████| 20/20 [00:00<00:00, 573.31it/s]\n"
     ]
    },
    {
     "name": "stdout",
     "output_type": "stream",
     "text": [
      "Epoch: 17. Loss: 0.009043497033417225\n"
     ]
    },
    {
     "name": "stderr",
     "output_type": "stream",
     "text": [
      "100%|██████████| 20/20 [00:00<00:00, 574.16it/s]\n"
     ]
    },
    {
     "name": "stdout",
     "output_type": "stream",
     "text": [
      "Epoch: 18. Loss: 0.0032102291006594896\n"
     ]
    },
    {
     "name": "stderr",
     "output_type": "stream",
     "text": [
      "100%|██████████| 20/20 [00:00<00:00, 573.80it/s]\n"
     ]
    },
    {
     "name": "stdout",
     "output_type": "stream",
     "text": [
      "Epoch: 19. Loss: 0.010761911980807781\n"
     ]
    },
    {
     "name": "stderr",
     "output_type": "stream",
     "text": [
      "100%|██████████| 20/20 [00:00<00:00, 574.17it/s]\n"
     ]
    },
    {
     "name": "stdout",
     "output_type": "stream",
     "text": [
      "Epoch: 20. Loss: 0.007366305682808161\n"
     ]
    },
    {
     "name": "stderr",
     "output_type": "stream",
     "text": [
      "100%|██████████| 20/20 [00:00<00:00, 573.83it/s]\n"
     ]
    },
    {
     "name": "stdout",
     "output_type": "stream",
     "text": [
      "Epoch: 21. Loss: 0.015747275203466415\n"
     ]
    },
    {
     "name": "stderr",
     "output_type": "stream",
     "text": [
      "100%|██████████| 20/20 [00:00<00:00, 573.07it/s]\n"
     ]
    },
    {
     "name": "stdout",
     "output_type": "stream",
     "text": [
      "Epoch: 22. Loss: 0.012900721281766891\n"
     ]
    },
    {
     "name": "stderr",
     "output_type": "stream",
     "text": [
      "100%|██████████| 20/20 [00:00<00:00, 572.93it/s]\n"
     ]
    },
    {
     "name": "stdout",
     "output_type": "stream",
     "text": [
      "Epoch: 23. Loss: 0.02979191392660141\n"
     ]
    },
    {
     "name": "stderr",
     "output_type": "stream",
     "text": [
      "100%|██████████| 20/20 [00:00<00:00, 572.86it/s]\n"
     ]
    },
    {
     "name": "stdout",
     "output_type": "stream",
     "text": [
      "Epoch: 24. Loss: 0.07650205492973328\n"
     ]
    },
    {
     "name": "stderr",
     "output_type": "stream",
     "text": [
      "100%|██████████| 20/20 [00:00<00:00, 573.04it/s]\n"
     ]
    },
    {
     "name": "stdout",
     "output_type": "stream",
     "text": [
      "Epoch: 25. Loss: 0.015832167118787766\n"
     ]
    },
    {
     "name": "stderr",
     "output_type": "stream",
     "text": [
      "100%|██████████| 20/20 [00:00<00:00, 572.70it/s]\n"
     ]
    },
    {
     "name": "stdout",
     "output_type": "stream",
     "text": [
      "Epoch: 26. Loss: 0.0002557483094278723\n"
     ]
    },
    {
     "name": "stderr",
     "output_type": "stream",
     "text": [
      "100%|██████████| 20/20 [00:00<00:00, 573.46it/s]\n"
     ]
    },
    {
     "name": "stdout",
     "output_type": "stream",
     "text": [
      "Epoch: 27. Loss: 0.0002687991946004331\n"
     ]
    },
    {
     "name": "stderr",
     "output_type": "stream",
     "text": [
      "100%|██████████| 20/20 [00:00<00:00, 573.45it/s]\n"
     ]
    },
    {
     "name": "stdout",
     "output_type": "stream",
     "text": [
      "Epoch: 28. Loss: 0.0004958664067089558\n"
     ]
    },
    {
     "name": "stderr",
     "output_type": "stream",
     "text": [
      "100%|██████████| 20/20 [00:00<00:00, 571.63it/s]\n"
     ]
    },
    {
     "name": "stdout",
     "output_type": "stream",
     "text": [
      "Epoch: 29. Loss: 0.0002164817851735279\n"
     ]
    },
    {
     "name": "stderr",
     "output_type": "stream",
     "text": [
      "100%|██████████| 20/20 [00:00<00:00, 571.94it/s]\n"
     ]
    },
    {
     "name": "stdout",
     "output_type": "stream",
     "text": [
      "Epoch: 30. Loss: 0.00010161061800317839\n"
     ]
    },
    {
     "name": "stderr",
     "output_type": "stream",
     "text": [
      "100%|██████████| 20/20 [00:00<00:00, 575.02it/s]\n"
     ]
    },
    {
     "name": "stdout",
     "output_type": "stream",
     "text": [
      "Epoch: 31. Loss: 9.077305003302172e-05\n"
     ]
    },
    {
     "name": "stderr",
     "output_type": "stream",
     "text": [
      "100%|██████████| 20/20 [00:00<00:00, 574.27it/s]\n"
     ]
    },
    {
     "name": "stdout",
     "output_type": "stream",
     "text": [
      "Epoch: 32. Loss: 9.14001720957458e-05\n"
     ]
    },
    {
     "name": "stderr",
     "output_type": "stream",
     "text": [
      "100%|██████████| 20/20 [00:00<00:00, 575.50it/s]\n"
     ]
    },
    {
     "name": "stdout",
     "output_type": "stream",
     "text": [
      "Epoch: 33. Loss: 8.3087885286659e-05\n"
     ]
    },
    {
     "name": "stderr",
     "output_type": "stream",
     "text": [
      "100%|██████████| 20/20 [00:00<00:00, 575.06it/s]\n"
     ]
    },
    {
     "name": "stdout",
     "output_type": "stream",
     "text": [
      "Epoch: 34. Loss: 7.814089622115716e-05\n"
     ]
    },
    {
     "name": "stderr",
     "output_type": "stream",
     "text": [
      "100%|██████████| 20/20 [00:00<00:00, 575.43it/s]\n"
     ]
    },
    {
     "name": "stdout",
     "output_type": "stream",
     "text": [
      "Epoch: 35. Loss: 7.428341632476076e-05\n"
     ]
    },
    {
     "name": "stderr",
     "output_type": "stream",
     "text": [
      "100%|██████████| 20/20 [00:00<00:00, 574.72it/s]\n"
     ]
    },
    {
     "name": "stdout",
     "output_type": "stream",
     "text": [
      "Epoch: 36. Loss: 7.056711910990998e-05\n"
     ]
    },
    {
     "name": "stderr",
     "output_type": "stream",
     "text": [
      "100%|██████████| 20/20 [00:00<00:00, 576.54it/s]\n"
     ]
    },
    {
     "name": "stdout",
     "output_type": "stream",
     "text": [
      "Epoch: 37. Loss: 6.723415572196245e-05\n"
     ]
    },
    {
     "name": "stderr",
     "output_type": "stream",
     "text": [
      "100%|██████████| 20/20 [00:00<00:00, 577.62it/s]\n"
     ]
    },
    {
     "name": "stdout",
     "output_type": "stream",
     "text": [
      "Epoch: 38. Loss: 6.416269025066867e-05\n"
     ]
    },
    {
     "name": "stderr",
     "output_type": "stream",
     "text": [
      "100%|██████████| 20/20 [00:00<00:00, 577.05it/s]\n"
     ]
    },
    {
     "name": "stdout",
     "output_type": "stream",
     "text": [
      "Epoch: 39. Loss: 6.135024887043983e-05\n"
     ]
    },
    {
     "name": "stderr",
     "output_type": "stream",
     "text": [
      "100%|██████████| 20/20 [00:00<00:00, 576.66it/s]\n"
     ]
    },
    {
     "name": "stdout",
     "output_type": "stream",
     "text": [
      "Epoch: 40. Loss: 5.885396967642009e-05\n"
     ]
    },
    {
     "name": "stderr",
     "output_type": "stream",
     "text": [
      "100%|██████████| 20/20 [00:00<00:00, 576.52it/s]\n"
     ]
    },
    {
     "name": "stdout",
     "output_type": "stream",
     "text": [
      "Epoch: 41. Loss: 5.642233372782357e-05\n"
     ]
    },
    {
     "name": "stderr",
     "output_type": "stream",
     "text": [
      "100%|██████████| 20/20 [00:00<00:00, 574.02it/s]\n"
     ]
    },
    {
     "name": "stdout",
     "output_type": "stream",
     "text": [
      "Epoch: 42. Loss: 5.4231251851888373e-05\n"
     ]
    },
    {
     "name": "stderr",
     "output_type": "stream",
     "text": [
      "100%|██████████| 20/20 [00:00<00:00, 575.03it/s]\n"
     ]
    },
    {
     "name": "stdout",
     "output_type": "stream",
     "text": [
      "Epoch: 43. Loss: 5.215502096689306e-05\n"
     ]
    },
    {
     "name": "stderr",
     "output_type": "stream",
     "text": [
      "100%|██████████| 20/20 [00:00<00:00, 573.26it/s]\n"
     ]
    },
    {
     "name": "stdout",
     "output_type": "stream",
     "text": [
      "Epoch: 44. Loss: 5.020255412091501e-05\n"
     ]
    },
    {
     "name": "stderr",
     "output_type": "stream",
     "text": [
      "100%|██████████| 20/20 [00:00<00:00, 571.51it/s]\n"
     ]
    },
    {
     "name": "stdout",
     "output_type": "stream",
     "text": [
      "Epoch: 45. Loss: 4.8393732868134975e-05\n"
     ]
    },
    {
     "name": "stderr",
     "output_type": "stream",
     "text": [
      "100%|██████████| 20/20 [00:00<00:00, 576.47it/s]\n"
     ]
    },
    {
     "name": "stdout",
     "output_type": "stream",
     "text": [
      "Epoch: 46. Loss: 4.673399598686956e-05\n"
     ]
    },
    {
     "name": "stderr",
     "output_type": "stream",
     "text": [
      "100%|██████████| 20/20 [00:00<00:00, 577.04it/s]\n"
     ]
    },
    {
     "name": "stdout",
     "output_type": "stream",
     "text": [
      "Epoch: 47. Loss: 4.510956568992697e-05\n"
     ]
    },
    {
     "name": "stderr",
     "output_type": "stream",
     "text": [
      "100%|██████████| 20/20 [00:00<00:00, 576.10it/s]\n"
     ]
    },
    {
     "name": "stdout",
     "output_type": "stream",
     "text": [
      "Epoch: 48. Loss: 4.3605898099485785e-05\n"
     ]
    },
    {
     "name": "stderr",
     "output_type": "stream",
     "text": [
      "100%|██████████| 20/20 [00:00<00:00, 575.35it/s]\n"
     ]
    },
    {
     "name": "stdout",
     "output_type": "stream",
     "text": [
      "Epoch: 49. Loss: 4.221703056828119e-05\n"
     ]
    },
    {
     "name": "stderr",
     "output_type": "stream",
     "text": [
      "100%|██████████| 20/20 [00:00<00:00, 577.25it/s]\n"
     ]
    },
    {
     "name": "stdout",
     "output_type": "stream",
     "text": [
      "Epoch: 50. Loss: 4.085947512066923e-05\n"
     ]
    },
    {
     "name": "stderr",
     "output_type": "stream",
     "text": [
      "100%|██████████| 20/20 [00:00<00:00, 577.05it/s]\n"
     ]
    },
    {
     "name": "stdout",
     "output_type": "stream",
     "text": [
      "Epoch: 51. Loss: 3.962072150898166e-05\n"
     ]
    },
    {
     "name": "stderr",
     "output_type": "stream",
     "text": [
      "100%|██████████| 20/20 [00:00<00:00, 578.55it/s]\n"
     ]
    },
    {
     "name": "stdout",
     "output_type": "stream",
     "text": [
      "Epoch: 52. Loss: 3.839436612906866e-05\n"
     ]
    },
    {
     "name": "stderr",
     "output_type": "stream",
     "text": [
      "100%|██████████| 20/20 [00:00<00:00, 575.01it/s]\n"
     ]
    },
    {
     "name": "stdout",
     "output_type": "stream",
     "text": [
      "Epoch: 53. Loss: 3.7219710065983236e-05\n"
     ]
    },
    {
     "name": "stderr",
     "output_type": "stream",
     "text": [
      "100%|██████████| 20/20 [00:00<00:00, 577.76it/s]\n"
     ]
    },
    {
     "name": "stdout",
     "output_type": "stream",
     "text": [
      "Epoch: 54. Loss: 3.615985770011321e-05\n"
     ]
    },
    {
     "name": "stderr",
     "output_type": "stream",
     "text": [
      "100%|██████████| 20/20 [00:00<00:00, 578.11it/s]\n"
     ]
    },
    {
     "name": "stdout",
     "output_type": "stream",
     "text": [
      "Epoch: 55. Loss: 3.510794340400025e-05\n"
     ]
    },
    {
     "name": "stderr",
     "output_type": "stream",
     "text": [
      "100%|██████████| 20/20 [00:00<00:00, 575.76it/s]\n"
     ]
    },
    {
     "name": "stdout",
     "output_type": "stream",
     "text": [
      "Epoch: 56. Loss: 3.4057033190038055e-05\n"
     ]
    },
    {
     "name": "stderr",
     "output_type": "stream",
     "text": [
      "100%|██████████| 20/20 [00:00<00:00, 575.03it/s]\n"
     ]
    },
    {
     "name": "stdout",
     "output_type": "stream",
     "text": [
      "Epoch: 57. Loss: 3.313284832984209e-05\n"
     ]
    },
    {
     "name": "stderr",
     "output_type": "stream",
     "text": [
      "100%|██████████| 20/20 [00:00<00:00, 576.36it/s]\n"
     ]
    },
    {
     "name": "stdout",
     "output_type": "stream",
     "text": [
      "Epoch: 58. Loss: 3.217488119844347e-05\n"
     ]
    },
    {
     "name": "stderr",
     "output_type": "stream",
     "text": [
      "100%|██████████| 20/20 [00:00<00:00, 575.95it/s]\n"
     ]
    },
    {
     "name": "stdout",
     "output_type": "stream",
     "text": [
      "Epoch: 59. Loss: 3.127504896838218e-05\n"
     ]
    },
    {
     "name": "stderr",
     "output_type": "stream",
     "text": [
      "100%|██████████| 20/20 [00:00<00:00, 575.44it/s]\n"
     ]
    },
    {
     "name": "stdout",
     "output_type": "stream",
     "text": [
      "Epoch: 60. Loss: 3.042689604626503e-05\n"
     ]
    },
    {
     "name": "stderr",
     "output_type": "stream",
     "text": [
      "100%|██████████| 20/20 [00:00<00:00, 579.54it/s]\n"
     ]
    },
    {
     "name": "stdout",
     "output_type": "stream",
     "text": [
      "Epoch: 61. Loss: 2.963539918710012e-05\n"
     ]
    },
    {
     "name": "stderr",
     "output_type": "stream",
     "text": [
      "100%|██████████| 20/20 [00:00<00:00, 577.91it/s]\n"
     ]
    },
    {
     "name": "stdout",
     "output_type": "stream",
     "text": [
      "Epoch: 62. Loss: 2.879072962969076e-05\n"
     ]
    },
    {
     "name": "stderr",
     "output_type": "stream",
     "text": [
      "100%|██████████| 20/20 [00:00<00:00, 577.72it/s]\n"
     ]
    },
    {
     "name": "stdout",
     "output_type": "stream",
     "text": [
      "Epoch: 63. Loss: 2.8044452847098e-05\n"
     ]
    },
    {
     "name": "stderr",
     "output_type": "stream",
     "text": [
      "100%|██████████| 20/20 [00:00<00:00, 577.48it/s]\n"
     ]
    },
    {
     "name": "stdout",
     "output_type": "stream",
     "text": [
      "Epoch: 64. Loss: 2.7314070393913426e-05\n"
     ]
    },
    {
     "name": "stderr",
     "output_type": "stream",
     "text": [
      "100%|██████████| 20/20 [00:00<00:00, 577.54it/s]\n"
     ]
    },
    {
     "name": "stdout",
     "output_type": "stream",
     "text": [
      "Epoch: 65. Loss: 2.6617988623911515e-05\n"
     ]
    },
    {
     "name": "stderr",
     "output_type": "stream",
     "text": [
      "100%|██████████| 20/20 [00:00<00:00, 575.41it/s]\n"
     ]
    },
    {
     "name": "stdout",
     "output_type": "stream",
     "text": [
      "Epoch: 66. Loss: 2.5889605240081437e-05\n"
     ]
    },
    {
     "name": "stderr",
     "output_type": "stream",
     "text": [
      "100%|██████████| 20/20 [00:00<00:00, 574.68it/s]\n"
     ]
    },
    {
     "name": "stdout",
     "output_type": "stream",
     "text": [
      "Epoch: 67. Loss: 2.5215376808773726e-05\n"
     ]
    },
    {
     "name": "stderr",
     "output_type": "stream",
     "text": [
      "100%|██████████| 20/20 [00:00<00:00, 575.47it/s]\n"
     ]
    },
    {
     "name": "stdout",
     "output_type": "stream",
     "text": [
      "Epoch: 68. Loss: 2.458687777107116e-05\n"
     ]
    },
    {
     "name": "stderr",
     "output_type": "stream",
     "text": [
      "100%|██████████| 20/20 [00:00<00:00, 572.27it/s]\n"
     ]
    },
    {
     "name": "stdout",
     "output_type": "stream",
     "text": [
      "Epoch: 69. Loss: 2.3973776478669606e-05\n"
     ]
    },
    {
     "name": "stderr",
     "output_type": "stream",
     "text": [
      "100%|██████████| 20/20 [00:00<00:00, 571.48it/s]\n"
     ]
    },
    {
     "name": "stdout",
     "output_type": "stream",
     "text": [
      "Epoch: 70. Loss: 2.3387021428789012e-05\n"
     ]
    },
    {
     "name": "stderr",
     "output_type": "stream",
     "text": [
      "100%|██████████| 20/20 [00:00<00:00, 574.28it/s]\n"
     ]
    },
    {
     "name": "stdout",
     "output_type": "stream",
     "text": [
      "Epoch: 71. Loss: 2.2786833142163232e-05\n"
     ]
    },
    {
     "name": "stderr",
     "output_type": "stream",
     "text": [
      "100%|██████████| 20/20 [00:00<00:00, 574.73it/s]\n"
     ]
    },
    {
     "name": "stdout",
     "output_type": "stream",
     "text": [
      "Epoch: 72. Loss: 2.2283062207861803e-05\n"
     ]
    },
    {
     "name": "stderr",
     "output_type": "stream",
     "text": [
      "100%|██████████| 20/20 [00:00<00:00, 575.29it/s]\n"
     ]
    },
    {
     "name": "stdout",
     "output_type": "stream",
     "text": [
      "Epoch: 73. Loss: 2.1727104467572644e-05\n"
     ]
    },
    {
     "name": "stderr",
     "output_type": "stream",
     "text": [
      "100%|██████████| 20/20 [00:00<00:00, 574.87it/s]\n"
     ]
    },
    {
     "name": "stdout",
     "output_type": "stream",
     "text": [
      "Epoch: 74. Loss: 2.121885154338088e-05\n"
     ]
    },
    {
     "name": "stderr",
     "output_type": "stream",
     "text": [
      "100%|██████████| 20/20 [00:00<00:00, 575.69it/s]\n"
     ]
    },
    {
     "name": "stdout",
     "output_type": "stream",
     "text": [
      "Epoch: 75. Loss: 2.0717061488539912e-05\n"
     ]
    },
    {
     "name": "stderr",
     "output_type": "stream",
     "text": [
      "100%|██████████| 20/20 [00:00<00:00, 576.20it/s]\n"
     ]
    },
    {
     "name": "stdout",
     "output_type": "stream",
     "text": [
      "Epoch: 76. Loss: 2.025650792347733e-05\n"
     ]
    },
    {
     "name": "stderr",
     "output_type": "stream",
     "text": [
      "100%|██████████| 20/20 [00:00<00:00, 575.62it/s]\n"
     ]
    },
    {
     "name": "stdout",
     "output_type": "stream",
     "text": [
      "Epoch: 77. Loss: 1.9794972104136832e-05\n"
     ]
    },
    {
     "name": "stderr",
     "output_type": "stream",
     "text": [
      "100%|██████████| 20/20 [00:00<00:00, 575.24it/s]\n"
     ]
    },
    {
     "name": "stdout",
     "output_type": "stream",
     "text": [
      "Epoch: 78. Loss: 1.9342860468896106e-05\n"
     ]
    },
    {
     "name": "stderr",
     "output_type": "stream",
     "text": [
      "100%|██████████| 20/20 [00:00<00:00, 572.68it/s]\n"
     ]
    },
    {
     "name": "stdout",
     "output_type": "stream",
     "text": [
      "Epoch: 79. Loss: 1.8881319192587398e-05\n"
     ]
    },
    {
     "name": "stderr",
     "output_type": "stream",
     "text": [
      "100%|██████████| 20/20 [00:00<00:00, 573.59it/s]\n"
     ]
    },
    {
     "name": "stdout",
     "output_type": "stream",
     "text": [
      "Epoch: 80. Loss: 1.8455555618857034e-05\n"
     ]
    },
    {
     "name": "stderr",
     "output_type": "stream",
     "text": [
      "100%|██████████| 20/20 [00:00<00:00, 572.62it/s]\n"
     ]
    },
    {
     "name": "stdout",
     "output_type": "stream",
     "text": [
      "Epoch: 81. Loss: 1.800941572582815e-05\n"
     ]
    },
    {
     "name": "stderr",
     "output_type": "stream",
     "text": [
      "100%|██████████| 20/20 [00:00<00:00, 572.64it/s]\n"
     ]
    },
    {
     "name": "stdout",
     "output_type": "stream",
     "text": [
      "Epoch: 82. Loss: 1.7639793441048823e-05\n"
     ]
    },
    {
     "name": "stderr",
     "output_type": "stream",
     "text": [
      "100%|██████████| 20/20 [00:00<00:00, 570.58it/s]\n"
     ]
    },
    {
     "name": "stdout",
     "output_type": "stream",
     "text": [
      "Epoch: 83. Loss: 1.7266695067519322e-05\n"
     ]
    },
    {
     "name": "stderr",
     "output_type": "stream",
     "text": [
      "100%|██████████| 20/20 [00:00<00:00, 576.45it/s]\n"
     ]
    },
    {
     "name": "stdout",
     "output_type": "stream",
     "text": [
      "Epoch: 84. Loss: 1.6842919649207033e-05\n"
     ]
    },
    {
     "name": "stderr",
     "output_type": "stream",
     "text": [
      "100%|██████████| 20/20 [00:00<00:00, 574.61it/s]\n"
     ]
    },
    {
     "name": "stdout",
     "output_type": "stream",
     "text": [
      "Epoch: 85. Loss: 1.647677709115669e-05\n"
     ]
    },
    {
     "name": "stderr",
     "output_type": "stream",
     "text": [
      "100%|██████████| 20/20 [00:00<00:00, 575.16it/s]\n"
     ]
    },
    {
     "name": "stdout",
     "output_type": "stream",
     "text": [
      "Epoch: 86. Loss: 1.614690336282365e-05\n"
     ]
    },
    {
     "name": "stderr",
     "output_type": "stream",
     "text": [
      "100%|██████████| 20/20 [00:00<00:00, 574.10it/s]\n"
     ]
    },
    {
     "name": "stdout",
     "output_type": "stream",
     "text": [
      "Epoch: 87. Loss: 1.581951801199466e-05\n"
     ]
    },
    {
     "name": "stderr",
     "output_type": "stream",
     "text": [
      "100%|██████████| 20/20 [00:00<00:00, 574.27it/s]\n"
     ]
    },
    {
     "name": "stdout",
     "output_type": "stream",
     "text": [
      "Epoch: 88. Loss: 1.5471759979845956e-05\n"
     ]
    },
    {
     "name": "stderr",
     "output_type": "stream",
     "text": [
      "100%|██████████| 20/20 [00:00<00:00, 574.20it/s]\n"
     ]
    },
    {
     "name": "stdout",
     "output_type": "stream",
     "text": [
      "Epoch: 89. Loss: 1.516871816420462e-05\n"
     ]
    },
    {
     "name": "stderr",
     "output_type": "stream",
     "text": [
      "100%|██████████| 20/20 [00:00<00:00, 574.59it/s]\n"
     ]
    },
    {
     "name": "stdout",
     "output_type": "stream",
     "text": [
      "Epoch: 90. Loss: 1.4860707779007498e-05\n"
     ]
    },
    {
     "name": "stderr",
     "output_type": "stream",
     "text": [
      "100%|██████████| 20/20 [00:00<00:00, 572.80it/s]\n"
     ]
    },
    {
     "name": "stdout",
     "output_type": "stream",
     "text": [
      "Epoch: 91. Loss: 1.4543755241902545e-05\n"
     ]
    },
    {
     "name": "stderr",
     "output_type": "stream",
     "text": [
      "100%|██████████| 20/20 [00:00<00:00, 574.04it/s]\n"
     ]
    },
    {
     "name": "stdout",
     "output_type": "stream",
     "text": [
      "Epoch: 92. Loss: 1.4235743947210722e-05\n"
     ]
    },
    {
     "name": "stderr",
     "output_type": "stream",
     "text": [
      "100%|██████████| 20/20 [00:00<00:00, 575.89it/s]\n"
     ]
    },
    {
     "name": "stdout",
     "output_type": "stream",
     "text": [
      "Epoch: 93. Loss: 1.3972947272122838e-05\n"
     ]
    },
    {
     "name": "stderr",
     "output_type": "stream",
     "text": [
      "100%|██████████| 20/20 [00:00<00:00, 575.46it/s]\n"
     ]
    },
    {
     "name": "stdout",
     "output_type": "stream",
     "text": [
      "Epoch: 94. Loss: 1.3674380170414224e-05\n"
     ]
    },
    {
     "name": "stderr",
     "output_type": "stream",
     "text": [
      "100%|██████████| 20/20 [00:00<00:00, 574.31it/s]\n"
     ]
    },
    {
     "name": "stdout",
     "output_type": "stream",
     "text": [
      "Epoch: 95. Loss: 1.3415555258688983e-05\n"
     ]
    },
    {
     "name": "stderr",
     "output_type": "stream",
     "text": [
      "100%|██████████| 20/20 [00:00<00:00, 572.46it/s]\n"
     ]
    },
    {
     "name": "stdout",
     "output_type": "stream",
     "text": [
      "Epoch: 96. Loss: 1.3148288417141885e-05\n"
     ]
    },
    {
     "name": "stderr",
     "output_type": "stream",
     "text": [
      "100%|██████████| 20/20 [00:00<00:00, 576.36it/s]\n"
     ]
    },
    {
     "name": "stdout",
     "output_type": "stream",
     "text": [
      "Epoch: 97. Loss: 1.2888471246697009e-05\n"
     ]
    },
    {
     "name": "stderr",
     "output_type": "stream",
     "text": [
      "100%|██████████| 20/20 [00:00<00:00, 575.56it/s]\n"
     ]
    },
    {
     "name": "stdout",
     "output_type": "stream",
     "text": [
      "Epoch: 98. Loss: 1.2639087799470872e-05\n"
     ]
    },
    {
     "name": "stderr",
     "output_type": "stream",
     "text": [
      "100%|██████████| 20/20 [00:00<00:00, 575.07it/s]"
     ]
    },
    {
     "name": "stdout",
     "output_type": "stream",
     "text": [
      "Epoch: 99. Loss: 1.2383247849356849e-05\n"
     ]
    },
    {
     "name": "stderr",
     "output_type": "stream",
     "text": [
      "\n"
     ]
    }
   ],
   "source": [
    "loss_cnn_train = []\n",
    "EPOCHS = 100\n",
    "BATCH_SIZE = 120\n",
    "for epoch in range(EPOCHS):\n",
    "    for i in tqdm(range(0, len(X_train), BATCH_SIZE)):\n",
    "        batch_X = X_train[i:i+BATCH_SIZE].view(-1, 1, 23, 23)\n",
    "        batch_y = Y_train[i:i+BATCH_SIZE]\n",
    "        \n",
    "    \n",
    "        net.zero_grad()\n",
    "        outputs = net(batch_X.float())\n",
    "        #print(outputs)\n",
    "        loss = loss_function(outputs,  batch_y.float().reshape((-1,1)))\n",
    "        \n",
    "        loss.backward()\n",
    "        optimizer.step()\n",
    "    loss_cnn_train.append(loss)\n",
    "    if EPOCHS % 10 == 0:\n",
    "        print(f\"Epoch: {epoch}. Loss: {loss}\")"
   ]
  },
  {
   "cell_type": "code",
   "execution_count": 971,
   "id": "34eb760e",
   "metadata": {},
   "outputs": [
    {
     "data": {
      "image/png": "[encoded data removed]",
      "text/plain": [
       "<Figure size 432x288 with 1 Axes>"
      ]
     },
     "metadata": {
      "needs_background": "light"
     },
     "output_type": "display_data"
    }
   ],
   "source": [
    "plt.plot(loss_cnn_train)\n",
    "plt.show()"
   ]
  },
  {
   "cell_type": "code",
   "execution_count": 972,
   "id": "aff26331",
   "metadata": {},
   "outputs": [
    {
     "name": "stderr",
     "output_type": "stream",
     "text": [
      "100%|██████████| 288/288 [00:00<00:00, 2631.75it/s]"
     ]
    },
    {
     "name": "stdout",
     "output_type": "stream",
     "text": [
      "Accuracy:  0.972\n"
     ]
    },
    {
     "name": "stderr",
     "output_type": "stream",
     "text": [
      "\n"
     ]
    }
   ],
   "source": [
    "correct = 0\n",
    "total = 0\n",
    "sum_co=[]\n",
    "with torch.no_grad():\n",
    "    for i in tqdm(range(len(X_test))):\n",
    "        #real_class = torch.argmax(Y_test[i])\n",
    "        real_class = Y_test[i]\n",
    "        net_out = net(X_test[i].float().view(-1, 1, 23, 23))[0] # returns a list, \n",
    "        #print(net_out)\n",
    "        #predicted = y_pred.ge(.5).view(-1)\n",
    "        predicted_class = net_out.ge(.5).view(-1)\n",
    "        #print(predicted_class)\n",
    "         \n",
    "\n",
    "        if predicted_class == real_class:\n",
    "            sum_co.append(predicted_class ==1)\n",
    "            correct += 1\n",
    "        total += 1\n",
    "print(\"Accuracy: \", round(correct/total, 3))"
   ]
  },
  {
   "cell_type": "code",
   "execution_count": null,
   "id": "8c66946e",
   "metadata": {},
   "outputs": [],
   "source": []
  },
  {
   "cell_type": "code",
   "execution_count": null,
   "id": "64afa335",
   "metadata": {},
   "outputs": [],
   "source": []
  },
  {
   "cell_type": "code",
   "execution_count": null,
   "id": "100f768b",
   "metadata": {},
   "outputs": [],
   "source": []
  },
  {
   "cell_type": "code",
   "execution_count": null,
   "id": "f5baab38",
   "metadata": {},
   "outputs": [],
   "source": []
  },
  {
   "cell_type": "code",
   "execution_count": 592,
   "id": "466d1f68",
   "metadata": {},
   "outputs": [],
   "source": [
    "x_flat = torch.randn(100, 529)\n",
    "X_train_cnn = torch.tensor(X_train)"
   ]
  },
  {
   "cell_type": "code",
   "execution_count": null,
   "id": "9c1038c9",
   "metadata": {},
   "outputs": [],
   "source": []
  },
  {
   "cell_type": "code",
   "execution_count": null,
   "id": "ef159624",
   "metadata": {},
   "outputs": [],
   "source": []
  },
  {
   "cell_type": "code",
   "execution_count": 593,
   "id": "66f19813",
   "metadata": {},
   "outputs": [],
   "source": [
    "x_reshaped = X_train_cnn.view(-1, 1, 23, 23)"
   ]
  },
  {
   "cell_type": "code",
   "execution_count": 594,
   "id": "9b1b95a3",
   "metadata": {},
   "outputs": [
    {
     "data": {
      "text/plain": [
       "torch.Size([12000, 1, 23, 23])"
      ]
     },
     "execution_count": 594,
     "metadata": {},
     "output_type": "execute_result"
    }
   ],
   "source": [
    "x_reshaped.shape"
   ]
  },
  {
   "cell_type": "code",
   "execution_count": 587,
   "id": "75130dc4",
   "metadata": {},
   "outputs": [
    {
     "data": {
      "text/plain": [
       "torch.Size([528])"
      ]
     },
     "execution_count": 587,
     "metadata": {},
     "output_type": "execute_result"
    }
   ],
   "source": [
    "X_train[0, :].shape"
   ]
  },
  {
   "cell_type": "code",
   "execution_count": 632,
   "id": "567d1fc1",
   "metadata": {},
   "outputs": [
    {
     "data": {
      "text/plain": [
       "torch.Size([2784, 23, 23])"
      ]
     },
     "execution_count": 632,
     "metadata": {},
     "output_type": "execute_result"
    }
   ],
   "source": [
    "X_test.shape"
   ]
  },
  {
   "cell_type": "code",
   "execution_count": null,
   "id": "2dcd03b7",
   "metadata": {},
   "outputs": [],
   "source": []
  }
 ],
 "metadata": {
  "kernelspec": {
   "display_name": "Python 3 (ipykernel)",
   "language": "python",
   "name": "python3"
  },
  "language_info": {
   "codemirror_mode": {
    "name": "ipython",
    "version": 3
   },
   "file_extension": ".py",
   "mimetype": "text/x-python",
   "name": "python",
   "nbconvert_exporter": "python",
   "pygments_lexer": "ipython3",
   "version": "3.8.12"
  }
 },
 "nbformat": 4,
 "nbformat_minor": 5
}
