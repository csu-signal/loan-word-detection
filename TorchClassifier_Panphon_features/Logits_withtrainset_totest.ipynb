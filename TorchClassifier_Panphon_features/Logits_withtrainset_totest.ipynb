{
 "cells": [
  {
   "cell_type": "code",
   "execution_count": 1,
   "id": "091671b5",
   "metadata": {},
   "outputs": [],
   "source": [
    "import pandas as pd\n",
    "import numpy as np\n",
    "import matplotlib.pyplot as plt\n",
    "import seaborn as sns\n",
    "import json\n",
    "import panphon\n",
    "import panphon.distance\n",
    "import editdistance # levenshtein\n",
    "import epitran\n",
    "import eng_to_ipa as eng\n",
    "from epitran.backoff import Backoff\n",
    "from googletrans import Translator\n",
    "from sklearn.utils import shuffle\n",
    "from sklearn.linear_model import LogisticRegression\n",
    "epitran.download.cedict()"
   ]
  },
  {
   "cell_type": "code",
   "execution_count": 4,
   "id": "a4977c1f",
   "metadata": {},
   "outputs": [],
   "source": [
    "import torch\n",
    "import os\n",
    "import numpy as np\n",
    "import pandas as pd\n",
    "from tqdm import tqdm\n",
    "import seaborn as sns\n",
    "from pylab import rcParams\n",
    "import matplotlib.pyplot as plt\n",
    "from matplotlib import rc\n",
    "from sklearn.model_selection import train_test_split\n",
    "from sklearn.metrics import confusion_matrix, classification_report\n",
    "import os\n",
    "import torch\n",
    "from torch import nn\n",
    "from torch import nn, optim\n",
    "\n",
    "import torch.nn.functional as F\n",
    "\n",
    "%matplotlib inline"
   ]
  },
  {
   "cell_type": "code",
   "execution_count": 5,
   "id": "ed2ae9e8",
   "metadata": {},
   "outputs": [],
   "source": [
    "import sklearn as sk\n",
    "from sklearn.linear_model import LogisticRegression\n",
    "import pandas as pd \n",
    "import numpy as np \n",
    "import io\n",
    "import requests\n",
    "import csv"
   ]
  },
  {
   "cell_type": "code",
   "execution_count": 6,
   "id": "78b4fd0c",
   "metadata": {},
   "outputs": [
    {
     "name": "stdout",
     "output_type": "stream",
     "text": [
      "Using device: cpu\n",
      "\n"
     ]
    }
   ],
   "source": [
    "torch.cuda.empty_cache()\n",
    "device = torch.device('cuda' if torch.cuda.is_available() else 'cpu')\n",
    "print('Using device:', device)\n",
    "print()\n",
    "\n",
    "#Additional Info when using cuda\n",
    "if device.type == 'cuda':\n",
    "    print(torch.cuda.get_device_name(0))\n",
    "    print('Memory Usage:')\n",
    "    print('Allocated:', round(torch.cuda.memory_allocated(0)/1024**3,1), 'GB')\n",
    "    print('Cached:   ', round(torch.cuda.memory_reserved(0)/1024**3,1), 'GB')\n",
    "    \n",
    "#device = torch.device(\"cuda:0:3\" if torch.cuda.is_available() else \"cpu\") ## specify the GPU id's, GPU id's start from 0."
   ]
  },
  {
   "cell_type": "code",
   "execution_count": 8,
   "id": "80da282e",
   "metadata": {},
   "outputs": [],
   "source": [
    "if torch.cuda.is_available():\n",
    "    print(torch.cuda.get_device_name())"
   ]
  },
  {
   "cell_type": "code",
   "execution_count": 16,
   "id": "69bf578e",
   "metadata": {},
   "outputs": [],
   "source": [
    "train = pd.read_csv('train_final_production_alldata.csv')\n",
    "test = pd.read_csv('test_final_production_alldata.csv')"
   ]
  },
  {
   "cell_type": "code",
   "execution_count": 17,
   "id": "e6c1b176",
   "metadata": {},
   "outputs": [],
   "source": [
    "#get phonetic features using panPhon\n",
    "ft = panphon.FeatureTable()"
   ]
  },
  {
   "cell_type": "code",
   "execution_count": 51,
   "id": "8d5198b2",
   "metadata": {},
   "outputs": [],
   "source": [
    "train['features_loan'] = train.apply(lambda x:ft.word_to_vector_list(x[\"loan_word_epitran\"],numeric=True ), axis=1)\n",
    "train['features_orig'] = train.apply(lambda x:ft.word_to_vector_list(x[\"original_word_epitran\"],numeric=True ), axis=1)\n",
    "test['features_loan'] = test.apply(lambda x:ft.word_to_vector_list(x[\"loan_word_epitran\"],numeric=True ), axis=1)\n",
    "test['features_orig'] = test.apply(lambda x:ft.word_to_vector_list(x[\"original_word_epitran\"],numeric=True ), axis=1)\n",
    "train['features_loan'] = train['features_loan'].apply(lambda x:np.array(sum(x, [])))\n",
    "train['features_orig'] = train['features_orig'].apply(lambda x:np.array(sum(x, [])))\n",
    "test['features_orig'] = test['features_orig'].apply(lambda x:np.array(sum(x, [])))\n",
    "test['features_loan'] = test['features_loan'].apply(lambda x:np.array(sum(x, [])))"
   ]
  },
  {
   "cell_type": "code",
   "execution_count": 44,
   "id": "c294d585",
   "metadata": {},
   "outputs": [
    {
     "name": "stdout",
     "output_type": "stream",
     "text": [
      "no stored variable or alias x_test_alldata\n",
      "no stored variable or alias x_train_alldata\n",
      "no stored variable or alias x_test_realdist\n",
      "no stored variable or alias x_train_realdist\n",
      "no stored variable or alias x_test_balanced\n",
      "no stored variable or alias x_train_balanced\n"
     ]
    }
   ],
   "source": [
    "%store -r x_test_alldata\n",
    "%store -r x_train_alldata\n",
    "%store -r x_test_realdist\n",
    "%store -r x_train_realdist\n",
    "%store -r x_test_balanced\n",
    "%store -r x_train_balanced"
   ]
  },
  {
   "cell_type": "code",
   "execution_count": 45,
   "id": "b299b8ad",
   "metadata": {},
   "outputs": [
    {
     "data": {
      "text/plain": [
       "array([array([-1,  1,  1, -1, -1, -1,  1,  0,  1, -1, -1,  1, -1,  0,  1, -1, -1,\n",
       "              -1, -1, -1,  0, -1,  0,  0,  1,  1, -1,  1, -1, -1, -1,  0,  1, -1,\n",
       "              -1,  0, -1,  0, -1, -1, -1,  1, -1, -1, -1, -1,  0,  0, -1,  1,  1,\n",
       "               1,  0, -1, -1,  0,  1, -1, -1,  1,  1, -1, -1,  0,  0,  0, -1, -1,\n",
       "               0, -1,  0,  0, -1, -1,  1, -1, -1, -1, -1,  0,  1, -1, -1,  1,  1,\n",
       "              -1, -1, -1, -1, -1, -1, -1,  0, -1,  0,  0,  1,  1, -1,  1, -1, -1,\n",
       "              -1,  0,  1, -1, -1,  0, -1,  0, -1, -1,  1, -1, -1, -1,  1,  1,  0,\n",
       "               0, -1,  1,  1, -1, -1, -1,  1,  0,  1, -1, -1,  1,  1, -1, -1, -1,\n",
       "              -1, -1, -1, -1,  0, -1,  0,  0,  1,  1, -1,  1, -1, -1, -1,  0,  1,\n",
       "              -1, -1,  0, -1,  0, -1, -1,  1, -1, -1, -1,  1,  1,  0,  0])       ,\n",
       "       array([ 1,  1, -1,  1, -1, -1, -1,  0,  1, -1, -1,  0, -1,  0, -1, -1, -1,\n",
       "              -1, -1, -1,  1, -1,  0,  0, -1,  1,  1, -1, -1, -1,  1,  0,  1, -1,\n",
       "              -1,  1, -1,  0,  1, -1, -1, -1, -1, -1,  0, -1,  0,  0, -1, -1,  1,\n",
       "              -1, -1, -1, -1,  0,  1, -1, -1,  1, -1,  0,  1, -1, -1, -1, -1, -1,\n",
       "               0, -1,  0,  0,  1,  1, -1,  1, -1, -1, -1,  0,  1, -1, -1,  0, -1,\n",
       "               0, -1,  1, -1, -1, -1, -1,  1,  1,  0,  0, -1, -1,  1,  1, -1, -1,\n",
       "              -1,  1,  1, -1, -1,  1, -1,  0,  1, -1, -1, -1, -1, -1,  0, -1,  0,\n",
       "               0,  1,  1, -1,  1, -1, -1, -1,  0,  1, -1, -1,  0, -1,  0, -1, -1,\n",
       "              -1, -1, -1, -1,  1, -1,  0,  0, -1,  1,  1,  1, -1,  1, -1,  0,  1,\n",
       "              -1, -1,  1,  1, -1, -1, -1, -1, -1, -1, -1,  0, -1,  0,  0,  1,  1,\n",
       "              -1,  1, -1, -1, -1,  0,  1, -1, -1,  0, -1,  0, -1, -1, -1, -1, -1,\n",
       "              -1,  1, -1,  0,  0, -1,  1,  1, -1, -1, -1,  1,  0,  1, -1, -1,  1,\n",
       "               1, -1, -1, -1, -1, -1, -1, -1,  0, -1,  0,  0, -1, -1,  1, -1, -1,\n",
       "              -1, -1,  0, -1, -1, -1, -1,  1, -1, -1, -1, -1, -1, -1, -1,  0, -1,\n",
       "               0,  0,  1,  1, -1,  1, -1, -1, -1,  0,  1, -1, -1,  0, -1,  0, -1,\n",
       "              -1, -1,  1, -1, -1, -1, -1,  0,  0])                               ,\n",
       "       array([-1,  1,  1, -1, -1, -1,  1,  0,  1, -1, -1,  1, -1,  0,  1, -1, -1,\n",
       "              -1, -1, -1,  0, -1,  0,  0,  1,  1, -1,  1, -1, -1, -1,  0,  1, -1,\n",
       "              -1,  0, -1,  0, -1, -1, -1,  1,  1, -1, -1,  1,  0,  0, -1,  1,  1,\n",
       "               1, -1,  1, -1,  0,  1, -1, -1,  1,  1, -1, -1, -1, -1, -1, -1, -1,\n",
       "               0, -1,  0,  0,  1,  1, -1,  1, -1, -1, -1,  0,  1, -1, -1,  0, -1,\n",
       "               0, -1, -1,  1, -1, -1, -1,  1,  1,  0,  0, -1,  1,  1, -1, -1, -1,\n",
       "               1,  0,  1, -1, -1,  1,  1, -1, -1, -1, -1, -1, -1, -1,  0, -1,  0,\n",
       "               0,  1,  1, -1,  1, -1, -1, -1,  0,  1, -1, -1,  0, -1,  0, -1, -1,\n",
       "               1, -1, -1, -1,  1,  1,  0,  0])                                   ,\n",
       "       ...,\n",
       "       array([-1, -1,  1, -1, -1, -1, -1,  0, -1, -1, -1,  1,  1, -1, -1, -1, -1,\n",
       "              -1, -1, -1,  0, -1,  0,  0,  1,  1, -1,  1, -1, -1, -1,  0,  1, -1,\n",
       "              -1,  0, -1,  0, -1, -1,  1,  1,  1, -1,  1, -1,  0,  0, -1, -1,  1,\n",
       "               1, -1, -1, -1,  0,  1, -1, -1,  1,  1, -1, -1, -1, -1, -1, -1, -1,\n",
       "               0, -1,  0,  0, -1,  1,  1,  1, -1, -1, -1,  0, -1, -1, -1, -1, -1,\n",
       "               0, -1, -1, -1, -1, -1, -1,  0, -1,  0,  0, -1, -1,  1, -1, -1, -1,\n",
       "              -1,  0, -1, -1, -1,  1, -1,  0,  1, -1, -1, -1, -1, -1,  0, -1,  0,\n",
       "               0,  1,  1, -1,  1, -1, -1, -1,  0,  1, -1, -1,  0, -1,  0, -1, -1,\n",
       "               1,  1,  1, -1,  1, -1,  0,  0])                                   ,\n",
       "       array([-1, -1,  1,  1, -1, -1, -1,  0, -1, -1, -1, -1, -1,  0, -1,  1, -1,\n",
       "               1, -1, -1,  0, -1,  0,  0, -1,  1,  1, -1, -1, -1,  1,  0,  1, -1,\n",
       "              -1,  1, -1,  0,  1, -1, -1, -1, -1, -1,  0, -1,  0,  0, -1, -1,  1,\n",
       "               1, -1, -1, -1,  0, -1, -1, -1, -1,  1,  1, -1, -1, -1, -1, -1, -1,\n",
       "               0, -1,  0,  0])                                                   ,\n",
       "       array([-1, -1,  1,  1, -1, -1, -1,  0, -1, -1, -1, -1, -1,  0, -1,  1, -1,\n",
       "               1, -1, -1,  0, -1,  0,  0,  1,  1, -1,  1, -1, -1, -1,  0,  1, -1,\n",
       "              -1,  0, -1,  0, -1, -1,  1,  1,  1, -1,  1, -1,  0,  0, -1,  1,  1,\n",
       "               1, -1,  1, -1,  0,  1, -1, -1,  1,  1, -1, -1, -1, -1, -1, -1, -1,\n",
       "               0, -1,  0,  0, -1, -1,  1,  1, -1, -1, -1,  0, -1, -1, -1,  1,  1,\n",
       "              -1, -1, -1, -1, -1, -1, -1,  0, -1,  0,  0])                       ],\n",
       "      dtype=object)"
      ]
     },
     "execution_count": 45,
     "metadata": {},
     "output_type": "execute_result"
    }
   ],
   "source": [
    "x_train_alldata"
   ]
  },
  {
   "cell_type": "code",
   "execution_count": null,
   "id": "2ceaf31f",
   "metadata": {},
   "outputs": [],
   "source": []
  },
  {
   "cell_type": "code",
   "execution_count": null,
   "id": "fea96a40",
   "metadata": {},
   "outputs": [],
   "source": [
    "x_train_alldata.shape, x_test_alldata.shape"
   ]
  },
  {
   "cell_type": "code",
   "execution_count": 8,
   "id": "b28121cb",
   "metadata": {},
   "outputs": [],
   "source": [
    "X_train = x_train_alldata[:,0:1056]\n",
    "Y_train = x_train_alldata[:,1056] \n",
    " \n",
    "X_test =  x_test_alldata[:,0:960]\n",
    "Y_test =  x_test_alldata[:,960] \n",
    "\n",
    "\n"
   ]
  },
  {
   "cell_type": "code",
   "execution_count": 9,
   "id": "44851fe0",
   "metadata": {},
   "outputs": [],
   "source": [
    "#create train and validation splits keeping the composition of labels balanced between them using a random state '1 '\n",
    "\n",
    "X_train, X_val, Y_train, Y_val = train_test_split(X_train, Y_train, test_size=0.2, random_state=1, stratify=Y_train)"
   ]
  },
  {
   "cell_type": "code",
   "execution_count": null,
   "id": "689a4d09",
   "metadata": {},
   "outputs": [],
   "source": [
    "# n_samples, n_features, n_classes = 10, 2, 2\n",
    "# data = np.random.randn(n_samples, n_features)  # 10 training examples\n",
    "# labels = np.random.randint(n_classes, size=n_samples)  # 10 labels\n",
    "\n",
    "indices = np.arange(X_train.shape[0])\n",
    "(\n",
    "    data_train,\n",
    "    data_test,\n",
    "    labels_train,\n",
    "    labels_test,\n",
    "    indices_train,\n",
    "    indices_test,\n",
    ") = train_test_split(X_train, Y_train, indices, test_size=0.2, random_state=1, stratify=Y_train)"
   ]
  },
  {
   "cell_type": "code",
   "execution_count": null,
   "id": "0c5234d4",
   "metadata": {},
   "outputs": [],
   "source": [
    "indices_train"
   ]
  },
  {
   "cell_type": "code",
   "execution_count": 10,
   "id": "80ad7945",
   "metadata": {},
   "outputs": [],
   "source": [
    "X_train = torch.tensor(X_train).to(device)\n",
    "Y_train = torch.tensor(Y_train).to(device).reshape((-1,1))\n",
    "\n",
    "X_test= torch.tensor(X_test).to(device)\n",
    "Y_test = torch.tensor(Y_test).to(device).reshape((-1,1))\n",
    "\n",
    "X_val= torch.tensor(X_val).to(device)\n",
    "Y_val = torch.tensor(Y_val).to(device).reshape((-1,1))\n"
   ]
  },
  {
   "cell_type": "code",
   "execution_count": null,
   "id": "564f7558",
   "metadata": {},
   "outputs": [],
   "source": [
    "# pad the test set with zeroes towards the end to fit the dimensions of model during evaluation "
   ]
  },
  {
   "cell_type": "code",
   "execution_count": 11,
   "id": "df2a9b01",
   "metadata": {},
   "outputs": [],
   "source": [
    "X_test = F.pad(X_test,pad =(0, 1056-X_test.shape[1]), value=0) "
   ]
  },
  {
   "cell_type": "code",
   "execution_count": 12,
   "id": "d9e4fe2f",
   "metadata": {},
   "outputs": [
    {
     "data": {
      "text/plain": [
       "(torch.Size([9465, 1056]),\n",
       " torch.Size([9465, 1]),\n",
       " torch.Size([1329, 1056]),\n",
       " torch.Size([1329, 1]),\n",
       " torch.Size([2367, 1056]),\n",
       " torch.Size([2367, 1]))"
      ]
     },
     "execution_count": 12,
     "metadata": {},
     "output_type": "execute_result"
    }
   ],
   "source": [
    "X_train.shape, Y_train.shape, X_test.shape, Y_test.shape, X_val.shape, Y_val.shape\n",
    " "
   ]
  },
  {
   "cell_type": "code",
   "execution_count": null,
   "id": "597f3b86",
   "metadata": {},
   "outputs": [],
   "source": [
    "# X_train, X_val, Y_train, Y_val = train_test_split(X_train, Y_train, test_size=0.2, random_state=123, stratify=Y_train)\n",
    "    "
   ]
  },
  {
   "cell_type": "code",
   "execution_count": 13,
   "id": "0985d48c",
   "metadata": {},
   "outputs": [
    {
     "data": {
      "text/plain": [
       "tensor([240], device='cuda:0')"
      ]
     },
     "execution_count": 13,
     "metadata": {},
     "output_type": "execute_result"
    }
   ],
   "source": [
    "sum(Y_val==1)"
   ]
  },
  {
   "cell_type": "code",
   "execution_count": null,
   "id": "6fbdbdb7",
   "metadata": {},
   "outputs": [],
   "source": []
  },
  {
   "cell_type": "code",
   "execution_count": 14,
   "id": "e0bb588e",
   "metadata": {},
   "outputs": [
    {
     "name": "stdout",
     "output_type": "stream",
     "text": [
      "Using cuda device\n"
     ]
    }
   ],
   "source": [
    "device = \"cuda\" if torch.cuda.is_available() else \"cpu\"\n",
    "print(f\"Using {device} device\")"
   ]
  },
  {
   "cell_type": "code",
   "execution_count": 15,
   "id": "9e92610c",
   "metadata": {},
   "outputs": [],
   "source": [
    "class NeuralNetwork(nn.Module):\n",
    "    def __init__(self, n_features):\n",
    "        super(NeuralNetwork, self).__init__()\n",
    "        #self.flatten = nn.Flatten()\n",
    "        self.linear_relu_stack = nn.Sequential(\n",
    "            nn.Linear(n_features, 512),\n",
    "            nn.ReLU(),\n",
    "            nn.Linear(512, 512),\n",
    "            nn.ReLU(),\n",
    "            nn.Linear(512, 1),\n",
    "            \n",
    "        )\n",
    "        self.dropout = nn.Dropout(0.10) \n",
    "\n",
    "    def forward(self, x):\n",
    "        #x = self.flatten(x)\n",
    "        #logits = self.linear_relu_stack(x)\n",
    "        logits_new = self.linear_relu_stack(x)\n",
    "        logits  = self.dropout(logits_new)\n",
    "        \n",
    "        return torch.sigmoid(logits), logits_new\n",
    "        #return logits"
   ]
  },
  {
   "cell_type": "code",
   "execution_count": 16,
   "id": "640e6e64",
   "metadata": {},
   "outputs": [
    {
     "name": "stdout",
     "output_type": "stream",
     "text": [
      "NeuralNetwork(\n",
      "  (linear_relu_stack): Sequential(\n",
      "    (0): Linear(in_features=1056, out_features=512, bias=True)\n",
      "    (1): ReLU()\n",
      "    (2): Linear(in_features=512, out_features=512, bias=True)\n",
      "    (3): ReLU()\n",
      "    (4): Linear(in_features=512, out_features=1, bias=True)\n",
      "  )\n",
      "  (dropout): Dropout(p=0.1, inplace=False)\n",
      ")\n"
     ]
    }
   ],
   "source": [
    "model = NeuralNetwork(X_train.shape[1]).to(device)\n",
    "#model = NeuralNetwork(X_test.shape[1]).to(device)\n",
    "print(model)"
   ]
  },
  {
   "cell_type": "code",
   "execution_count": 17,
   "id": "619fe692",
   "metadata": {},
   "outputs": [],
   "source": [
    "# input = torch.randn(5, 5)\n",
    "# print(input)"
   ]
  },
  {
   "cell_type": "code",
   "execution_count": 18,
   "id": "cfdb4c76",
   "metadata": {},
   "outputs": [],
   "source": [
    "# m = nn.Dropout(p=0.5)\n",
    "# output = m(input)\n",
    "# print(output)\n",
    "\n",
    "# model = NeuralNetwork(input.shape[1]).to(device)\n"
   ]
  },
  {
   "cell_type": "code",
   "execution_count": 19,
   "id": "17100ab2",
   "metadata": {},
   "outputs": [
    {
     "data": {
      "text/plain": [
       "NeuralNetwork(\n",
       "  (linear_relu_stack): Sequential(\n",
       "    (0): Linear(in_features=1056, out_features=512, bias=True)\n",
       "    (1): ReLU()\n",
       "    (2): Linear(in_features=512, out_features=512, bias=True)\n",
       "    (3): ReLU()\n",
       "    (4): Linear(in_features=512, out_features=1, bias=True)\n",
       "  )\n",
       "  (dropout): Dropout(p=0.1, inplace=False)\n",
       ")"
      ]
     },
     "execution_count": 19,
     "metadata": {},
     "output_type": "execute_result"
    }
   ],
   "source": [
    "model"
   ]
  },
  {
   "cell_type": "code",
   "execution_count": 20,
   "id": "b448bef7",
   "metadata": {},
   "outputs": [],
   "source": [
    "criterion = nn.BCELoss().to(device)"
   ]
  },
  {
   "cell_type": "code",
   "execution_count": 21,
   "id": "94c5d5c8",
   "metadata": {},
   "outputs": [],
   "source": [
    "optimizer = optim.Adam(model.parameters(), lr=0.00001)"
   ]
  },
  {
   "cell_type": "code",
   "execution_count": 22,
   "id": "a607b005",
   "metadata": {},
   "outputs": [],
   "source": [
    "def calculate_accuracy(y_true, y_pred):\n",
    "    predicted = y_pred.ge(.5) \n",
    "    return ((y_true == predicted).sum().float() / len(y_true), (y_true == predicted).sum())"
   ]
  },
  {
   "cell_type": "code",
   "execution_count": 23,
   "id": "e66edd79",
   "metadata": {},
   "outputs": [],
   "source": [
    "def round_tensor(t, decimal_places=3):\n",
    "    return round(t.item(), decimal_places)"
   ]
  },
  {
   "cell_type": "code",
   "execution_count": 24,
   "id": "255fa7d6",
   "metadata": {},
   "outputs": [],
   "source": [
    "CUDA_LAUNCH_BLOCKING=1"
   ]
  },
  {
   "cell_type": "code",
   "execution_count": 25,
   "id": "ed6ce499",
   "metadata": {},
   "outputs": [
    {
     "name": "stdout",
     "output_type": "stream",
     "text": [
      "epoch 0Train set - loss: 0.721, accuracy: 0.103Val  set - loss: 0.72, Val accuracy: 0.104\n",
      "\n",
      "epoch 100Train set - loss: 0.489, accuracy: 0.826Val  set - loss: 0.488, Val accuracy: 0.831\n",
      "\n",
      "epoch 200Train set - loss: 0.359, accuracy: 0.82Val  set - loss: 0.359, Val accuracy: 0.819\n",
      "\n",
      "epoch 300Train set - loss: 0.348, accuracy: 0.819Val  set - loss: 0.353, Val accuracy: 0.809\n",
      "\n",
      "epoch 400Train set - loss: 0.343, accuracy: 0.82Val  set - loss: 0.339, Val accuracy: 0.826\n",
      "\n",
      "epoch 500Train set - loss: 0.337, accuracy: 0.819Val  set - loss: 0.337, Val accuracy: 0.82\n",
      "\n",
      "epoch 600Train set - loss: 0.333, accuracy: 0.817Val  set - loss: 0.335, Val accuracy: 0.815\n",
      "\n",
      "epoch 700Train set - loss: 0.329, accuracy: 0.815Val  set - loss: 0.331, Val accuracy: 0.818\n",
      "\n",
      "epoch 800Train set - loss: 0.321, accuracy: 0.819Val  set - loss: 0.324, Val accuracy: 0.819\n",
      "\n",
      "epoch 900Train set - loss: 0.315, accuracy: 0.818Val  set - loss: 0.324, Val accuracy: 0.815\n",
      "\n",
      "epoch 1000Train set - loss: 0.309, accuracy: 0.816Val  set - loss: 0.324, Val accuracy: 0.805\n",
      "\n",
      "epoch 1100Train set - loss: 0.298, accuracy: 0.82Val  set - loss: 0.305, Val accuracy: 0.823\n",
      "\n",
      "epoch 1200Train set - loss: 0.288, accuracy: 0.82Val  set - loss: 0.313, Val accuracy: 0.804\n",
      "\n",
      "epoch 1300Train set - loss: 0.275, accuracy: 0.821Val  set - loss: 0.289, Val accuracy: 0.822\n",
      "\n",
      "epoch 1400Train set - loss: 0.26, accuracy: 0.825Val  set - loss: 0.282, Val accuracy: 0.816\n",
      "\n",
      "epoch 1500Train set - loss: 0.25, accuracy: 0.825Val  set - loss: 0.274, Val accuracy: 0.816\n",
      "\n",
      "epoch 1600Train set - loss: 0.233, accuracy: 0.837Val  set - loss: 0.258, Val accuracy: 0.832\n",
      "\n",
      "epoch 1700Train set - loss: 0.218, accuracy: 0.849Val  set - loss: 0.252, Val accuracy: 0.828\n",
      "\n",
      "epoch 1800Train set - loss: 0.207, accuracy: 0.854Val  set - loss: 0.239, Val accuracy: 0.842\n",
      "\n",
      "epoch 1900Train set - loss: 0.191, accuracy: 0.868Val  set - loss: 0.223, Val accuracy: 0.853\n",
      "\n",
      "epoch 2000Train set - loss: 0.181, accuracy: 0.872Val  set - loss: 0.212, Val accuracy: 0.866\n",
      "\n",
      "epoch 2100Train set - loss: 0.168, accuracy: 0.882Val  set - loss: 0.215, Val accuracy: 0.853\n",
      "\n",
      "epoch 2200Train set - loss: 0.165, accuracy: 0.879Val  set - loss: 0.211, Val accuracy: 0.857\n",
      "\n",
      "epoch 2300Train set - loss: 0.151, accuracy: 0.89Val  set - loss: 0.202, Val accuracy: 0.864\n",
      "\n",
      "epoch 2400Train set - loss: 0.146, accuracy: 0.889Val  set - loss: 0.197, Val accuracy: 0.867\n",
      "\n",
      "epoch 2500Train set - loss: 0.139, accuracy: 0.892Val  set - loss: 0.198, Val accuracy: 0.862\n",
      "\n",
      "epoch 2600Train set - loss: 0.132, accuracy: 0.895Val  set - loss: 0.198, Val accuracy: 0.861\n",
      "\n",
      "epoch 2700Train set - loss: 0.125, accuracy: 0.898Val  set - loss: 0.201, Val accuracy: 0.851\n",
      "\n",
      "epoch 2800Train set - loss: 0.122, accuracy: 0.896Val  set - loss: 0.196, Val accuracy: 0.856\n",
      "\n",
      "epoch 2900Train set - loss: 0.116, accuracy: 0.902Val  set - loss: 0.189, Val accuracy: 0.863\n",
      "\n",
      "epoch 3000Train set - loss: 0.112, accuracy: 0.901Val  set - loss: 0.194, Val accuracy: 0.857\n",
      "\n",
      "epoch 3100Train set - loss: 0.11, accuracy: 0.9Val  set - loss: 0.194, Val accuracy: 0.858\n",
      "\n",
      "epoch 3200Train set - loss: 0.106, accuracy: 0.901Val  set - loss: 0.187, Val accuracy: 0.867\n",
      "\n",
      "epoch 3300Train set - loss: 0.102, accuracy: 0.905Val  set - loss: 0.184, Val accuracy: 0.874\n",
      "\n",
      "epoch 3400Train set - loss: 0.095, accuracy: 0.91Val  set - loss: 0.192, Val accuracy: 0.865\n",
      "\n"
     ]
    }
   ],
   "source": [
    "#train for 10000 epochs and get the logits \n",
    "val_losses = []\n",
    "train_losses = []\n",
    "val_accur = []\n",
    "train_accur = []\n",
    "logits = []\n",
    "for epoch in range(3500):\n",
    "\n",
    "    y_pred = model(X_train.float())[0]\n",
    "    logits = model(X_train.float())[1]\n",
    "    #getting logits for test set \n",
    "#     y_pred = model(X_test.float())[0]\n",
    "#     logits = model(X_test.float())[1]\n",
    "    #y_pred = model(X_train) \n",
    "    #print(y_pred)\n",
    "\n",
    "    #y_pred = torch.squeeze(y_pred)\n",
    "    train_loss = criterion(y_pred, Y_train.float())\n",
    "    \n",
    "    #test_loss = criterion(y_pred, Y_test.float())\n",
    "    #train_loss = criterion(y_pred, Y_train)\n",
    "\n",
    "    if epoch % 100 == 0:\n",
    "        train_acc,_ = calculate_accuracy(Y_train, y_pred)\n",
    "\n",
    "        y_val_pred = model(X_val.float())[0]\n",
    "        #y_test_pred = torch.squeeze(y_test_pred)\n",
    "         \n",
    "\n",
    "        val_loss = criterion(y_val_pred, Y_val.float())\n",
    "\n",
    "        val_acc, total_corr = calculate_accuracy(Y_val, y_val_pred)\n",
    "        #print(total_corr)\n",
    "        \n",
    "        print(f'''epoch {epoch}Train set - loss: {round_tensor(train_loss)}, accuracy: {round_tensor(train_acc)}Val  set - loss: {round_tensor(val_loss)}, Val accuracy: {round_tensor(val_acc)}\n",
    "''')\n",
    "        #print(f'''epoch {epoch}Train set - loss: {round_tensor(train_loss)} ''')\n",
    "        #print(f'''epoch {epoch}Test set - loss: {round_tensor(test_loss)} ''')\n",
    "        train_losses.append(train_loss)\n",
    "        val_losses.append(val_loss)\n",
    "        \n",
    "        val_accur.append(val_acc)\n",
    "        train_accur.append(train_acc)\n",
    "\n",
    "    optimizer.zero_grad()\n",
    "\n",
    "    train_loss.backward()\n",
    "    #test_loss.backward()\n",
    "\n",
    "    optimizer.step()"
   ]
  },
  {
   "cell_type": "code",
   "execution_count": 30,
   "id": "8cb71617",
   "metadata": {},
   "outputs": [
    {
     "data": {
      "image/png": "[encoded data removed]",
      "text/plain": [
       "<Figure size 432x288 with 1 Axes>"
      ]
     },
     "metadata": {
      "needs_background": "light"
     },
     "output_type": "display_data"
    },
    {
     "data": {
      "image/png": "[encoded data removed]",
      "text/plain": [
       "<Figure size 432x288 with 1 Axes>"
      ]
     },
     "metadata": {
      "needs_background": "light"
     },
     "output_type": "display_data"
    }
   ],
   "source": [
    "import matplotlib.pyplot as plt\n",
    "\n",
    "epochs = range(1, len(train_accur) + 1)\n",
    "\n",
    "plt.plot(epochs, train_accur, 'bo', label='Training acc')\n",
    "plt.plot(epochs, val_accur, 'b', label='vaidation acc')\n",
    "plt.title('Training and validation accuracy')\n",
    "plt.legend()\n",
    "\n",
    "plt.figure()\n",
    "\n",
    "plt.plot(epochs, train_losses, 'bo', label='Training loss every epoch multiple of 5')\n",
    "plt.plot(epochs, val_losses, 'b', label='validation loss')\n",
    "plt.title('Training and validation loss')\n",
    "plt.legend()\n",
    "\n",
    "plt.show()\n"
   ]
  },
  {
   "cell_type": "code",
   "execution_count": 38,
   "id": "5474bd22",
   "metadata": {},
   "outputs": [
    {
     "data": {
      "text/plain": [
       "((11832, 1057), (1329, 961), (4200, 865), (462, 769), (2407, 841), (287, 769))"
      ]
     },
     "execution_count": 38,
     "metadata": {},
     "output_type": "execute_result"
    }
   ],
   "source": [
    "x_train_alldata.shape, x_test_alldata.shape,x_train_realdist.shape, x_test_realdist.shape, x_train_balanced.shape,  x_test_balanced.shape"
   ]
  },
  {
   "cell_type": "code",
   "execution_count": 40,
   "id": "32554488",
   "metadata": {},
   "outputs": [],
   "source": [
    "#create the entire  train set for all three types of datasets to predict using the trained model now, pad the train test sets to fit the trained model dimensions \n",
    "\n",
    "# all data\n",
    "X_train_dnn_alldata = x_train_alldata[:,0:1056]\n",
    "X_train_dnn_alldata  = torch.tensor(X_train_dnn_alldata).to(device)\n",
    "X_test_dnn_alldata = torch.tensor(x_test_alldata[:,0:960])\n",
    "X_test_dnn_alldata = F.pad(X_test_dnn_alldata,pad =(0, 1056-X_test_dnn_alldata.shape[1]), value=0).to(device)\n",
    "#X_test_dnn_alldata  = torch.tensor(X_test_dnn_alldata).to(device)\n",
    "\n",
    "#real dist \n",
    "\n",
    "X_train_dnn_realdist = torch.tensor(x_train_realdist[:,0:864])\n",
    "X_train_dnn_realdist = F.pad(X_train_dnn_realdist,pad =(0, 1056-X_train_dnn_realdist.shape[1]), value=0).to(device) \n",
    "\n",
    "\n",
    "X_test_dnn_realdist = torch.tensor(x_test_realdist[:,0:768])\n",
    "X_test_dnn_realdist = F.pad(X_test_dnn_realdist,pad =(0, 1056-X_test_dnn_realdist.shape[1]), value=0).to(device) \n",
    "\n",
    "# balanced \n",
    "X_train_dnn_balanced = torch.tensor(x_train_balanced[:,0:840])\n",
    "X_train_dnn_balanced = F.pad(X_train_dnn_balanced,pad =(0, 1056-X_train_dnn_balanced.shape[1]), value=0).to(device) \n",
    "\n",
    "\n",
    "X_test_dnn_balanced = torch.tensor(x_test_balanced[:,0:768])\n",
    "X_test_dnn_balanced = F.pad(X_test_dnn_balanced,pad =(0, 1056-X_test_dnn_balanced.shape[1]), value=0).to(device) \n",
    "\n",
    "\n",
    "\n"
   ]
  },
  {
   "cell_type": "code",
   "execution_count": 41,
   "id": "d8c35372",
   "metadata": {},
   "outputs": [
    {
     "data": {
      "text/plain": [
       "(torch.Size([11832, 1056]),\n",
       " torch.Size([1329, 1056]),\n",
       " torch.Size([4200, 1056]),\n",
       " torch.Size([462, 1056]),\n",
       " torch.Size([2407, 1056]),\n",
       " torch.Size([287, 1056]))"
      ]
     },
     "execution_count": 41,
     "metadata": {},
     "output_type": "execute_result"
    }
   ],
   "source": [
    "X_train_dnn_alldata.shape, X_test_dnn_alldata.shape, X_train_dnn_realdist.shape, X_test_dnn_realdist.shape, X_train_dnn_balanced.shape,X_test_dnn_balanced.shape "
   ]
  },
  {
   "cell_type": "code",
   "execution_count": null,
   "id": "e0a6f45a",
   "metadata": {},
   "outputs": [],
   "source": []
  },
  {
   "cell_type": "code",
   "execution_count": 45,
   "id": "effe573c",
   "metadata": {},
   "outputs": [],
   "source": [
    "# evaluate model, that is get the logits for the test set:\n",
    "model.eval()\n",
    "\n",
    "with torch.no_grad():\n",
    "    train_logits_dnn_alldata = model(X_train_dnn_alldata.float())[1].detach().cpu().numpy()\n",
    "    test_logits_dnn_alldata = model(X_test_dnn_alldata.float())[1].detach().cpu().numpy()\n",
    "    train_logits_dnn_realdist = model(X_train_dnn_realdist.float())[1].detach().cpu().numpy()\n",
    "    test_logits_dnn_realdist = model(X_test_dnn_realdist.float())[1].detach().cpu().numpy()\n",
    "    train_logits_dnn_balanced = model( X_train_dnn_balanced.float())[1].detach().cpu().numpy()\n",
    "    test_logits_dnn_balanced = model( X_test_dnn_balanced.float())[1].detach().cpu().numpy()\n",
    "    \n",
    " \n",
    " "
   ]
  },
  {
   "cell_type": "code",
   "execution_count": 46,
   "id": "600d1c2d",
   "metadata": {},
   "outputs": [
    {
     "data": {
      "text/plain": [
       "((11832, 1), (1329, 1), (4200, 1), (462, 1), (2407, 1), (287, 1))"
      ]
     },
     "execution_count": 46,
     "metadata": {},
     "output_type": "execute_result"
    }
   ],
   "source": [
    "train_logits_dnn_alldata.shape, test_logits_dnn_alldata.shape, train_logits_dnn_realdist.shape, test_logits_dnn_realdist.shape,train_logits_dnn_balanced.shape,test_logits_dnn_balanced.shape  \n",
    " "
   ]
  },
  {
   "cell_type": "code",
   "execution_count": 54,
   "id": "66f29d95",
   "metadata": {},
   "outputs": [],
   "source": [
    "# train_acc = train_acc.detach().cpu().numpy()\n",
    "train_alldata = pd.read_csv('/s/chopin/d/proj/ramfis-aida/MachineTranslationIPA/modelpredictedlogits_trainCNN_alldata.csv')\n",
    "test_alldata = pd.read_csv('/s/chopin/d/proj/ramfis-aida/MachineTranslationIPA/modelpredictedlogits_testCNN_alldata.csv')\n",
    "\n",
    "train_realdist = pd.read_csv('/s/chopin/d/proj/ramfis-aida/MachineTranslationIPA/modelpredictedlogits_trainCNN_realdist.csv')\n",
    "test_realdist = pd.read_csv('/s/chopin/d/proj/ramfis-aida/MachineTranslationIPA/modelpredictedlogits_testCNN_realdist.csv')\n",
    "\n",
    "train_balanced = pd.read_csv('/s/chopin/d/proj/ramfis-aida/MachineTranslationIPA/modelpredictedlogits_trainCNN_balanced.csv')\n",
    "test_balanced = pd.read_csv('/s/chopin/d/proj/ramfis-aida/MachineTranslationIPA/modelpredictedlogits_testCNN_balanced.csv')"
   ]
  },
  {
   "cell_type": "code",
   "execution_count": 55,
   "id": "08a38e3b",
   "metadata": {},
   "outputs": [],
   "source": [
    "train_alldata['DNNlogits_modelpredicted'] = train_logits_dnn_alldata\n",
    "test_alldata['DNNlogits_modelpredicted'] = test_logits_dnn_alldata\n",
    "\n",
    "train_realdist['DNNlogits_modelpredicted'] = train_logits_dnn_realdist\n",
    "test_realdist['DNNlogits_modelpredicted'] = test_logits_dnn_realdist\n",
    "\n",
    "train_balanced['DNNlogits_modelpredicted'] = train_logits_dnn_balanced\n",
    "test_balanced['DNNlogits_modelpredicted'] = test_logits_dnn_balanced\n",
    "\n"
   ]
  },
  {
   "cell_type": "code",
   "execution_count": 58,
   "id": "11b87a4b",
   "metadata": {},
   "outputs": [],
   "source": [
    "train_alldata.to_csv('modelpredictedlogits_trainCNN_DNN_alldata.csv')\n",
    "test_alldata.to_csv('modelpredictedlogits_testCNN_DNN_alldata.csv')\n",
    "\n",
    "\n",
    "train_realdist.to_csv('modelpredictedlogits_trainCNN_DNN_realdist.csv')\n",
    "test_realdist.to_csv('modelpredictedlogits_testCNN_DNN_realdist.csv')\n",
    "\n",
    "train_balanced.to_csv('modelpredictedlogits_trainCNN_DNN_balanced.csv')\n",
    "test_balanced.to_csv('modelpredictedlogits_testCNN_DNN_balanced.csv')\n"
   ]
  },
  {
   "cell_type": "code",
   "execution_count": 34,
   "id": "95712e4b",
   "metadata": {},
   "outputs": [
    {
     "data": {
      "image/png": "[encoded data removed]",
      "text/plain": [
       "<Figure size 432x288 with 1 Axes>"
      ]
     },
     "metadata": {
      "needs_background": "light"
     },
     "output_type": "display_data"
    },
    {
     "data": {
      "image/png": "[encoded data removed]",
      "text/plain": [
       "<Figure size 432x288 with 1 Axes>"
      ]
     },
     "metadata": {
      "needs_background": "light"
     },
     "output_type": "display_data"
    }
   ],
   "source": [
    "import matplotlib.pyplot as plt\n",
    "\n",
    "epochs = range(1, len(train_accur) + 1)\n",
    "\n",
    "plt.plot(epochs, train_accur, 'bo', label='Training acc')\n",
    "plt.plot(epochs, val_accur, 'b', label='testing accuracy')\n",
    "plt.title('Training and validation accuracy')\n",
    "plt.legend()\n",
    "\n",
    "plt.figure()\n",
    "\n",
    "plt.plot(epochs, train_losses, 'bo', label='Training loss')\n",
    "plt.plot(epochs, val_losses, 'b', label='test loss')\n",
    "plt.title('Training and validation loss')\n",
    "plt.legend()\n",
    "\n",
    "plt.show()"
   ]
  },
  {
   "cell_type": "code",
   "execution_count": null,
   "id": "bc946096",
   "metadata": {},
   "outputs": [],
   "source": [
    "train_acc"
   ]
  },
  {
   "cell_type": "code",
   "execution_count": null,
   "id": "c1abd18f",
   "metadata": {},
   "outputs": [],
   "source": [
    "logits.shape"
   ]
  },
  {
   "cell_type": "code",
   "execution_count": 35,
   "id": "34a08344",
   "metadata": {},
   "outputs": [],
   "source": [
    "train_logits = train_logits.detach().cpu().numpy()\n",
    "test_logits = test_logits.detach().cpu().numpy()"
   ]
  },
  {
   "cell_type": "code",
   "execution_count": 36,
   "id": "39b2c32d",
   "metadata": {},
   "outputs": [
    {
     "data": {
      "image/png": "[encoded data removed]",
      "text/plain": [
       "<Figure size 432x288 with 1 Axes>"
      ]
     },
     "metadata": {
      "needs_background": "light"
     },
     "output_type": "display_data"
    }
   ],
   "source": [
    "plt.plot(test_logits)\n",
    "plt.show()"
   ]
  },
  {
   "cell_type": "code",
   "execution_count": null,
   "id": "bd0983ae",
   "metadata": {},
   "outputs": [],
   "source": [
    "# x_coordinate = [ 25 * i for i in range(len(logits_new)) ]\n",
    "# plt.plot(x_coordinate,logits_new)\n",
    "# plt.show()"
   ]
  },
  {
   "cell_type": "code",
   "execution_count": 37,
   "id": "3b188b7d",
   "metadata": {},
   "outputs": [
    {
     "data": {
      "text/plain": [
       "(-35.16361, 4.748599, -6.883185)"
      ]
     },
     "execution_count": 37,
     "metadata": {},
     "output_type": "execute_result"
    }
   ],
   "source": [
    "np.min(test_logits), np.max(test_logits),np.mean(test_logits)"
   ]
  },
  {
   "cell_type": "code",
   "execution_count": null,
   "id": "3374f08b",
   "metadata": {},
   "outputs": [],
   "source": [
    "#train_logits = train_logits.detach().cpu().numpy()\n",
    "plt.plot(train_logits[:1200])\n",
    "plt.show()"
   ]
  },
  {
   "cell_type": "code",
   "execution_count": null,
   "id": "bf11f041",
   "metadata": {},
   "outputs": [],
   "source": [
    "np.min(train_logits), np.max(train_logits),np.mean(train_logits)"
   ]
  },
  {
   "cell_type": "code",
   "execution_count": null,
   "id": "9b5705c4",
   "metadata": {},
   "outputs": [],
   "source": [
    "#url_train_logits = 'https://raw.githubusercontent.com/csu-signal/loan-word-detection/main/Datasets/production_train_test/real_distribution/train_withlogits_realdist.csv'\n",
    "url_train_logits = 'https://raw.githubusercontent.com/csu-signal/loan-word-detection/main/Datasets/production_train_test/alldata/train_withlogits_alldata.csv'\n",
    "#url_test_logits = 'https://raw.githubusercontent.com/csu-signal/loan-word-detection/main/Datasets/production_train_test/real_distribution/test_withlogits_realdist.csv'\n",
    "\n",
    "url_test_logits = 'https://raw.githubusercontent.com/csu-signal/loan-word-detection/main/Datasets/production_train_test/alldata/test_withlogits_alldata.csv'\n",
    "\n",
    "\n",
    "url_train_logits = requests.get(url_train_logits).content\n",
    "url_test_logits = requests.get(url_test_logits).content\n",
    "train=pd.read_csv(io.StringIO(url_train_logits.decode('utf-8')))\n",
    "test = pd.read_csv(io.StringIO(url_test_logits.decode('utf-8')))"
   ]
  },
  {
   "cell_type": "code",
   "execution_count": null,
   "id": "eb2a4928",
   "metadata": {},
   "outputs": [],
   "source": [
    "train.shape, test.shape"
   ]
  },
  {
   "cell_type": "code",
   "execution_count": null,
   "id": "72ca9fec",
   "metadata": {},
   "outputs": [],
   "source": [
    "train['predicted_DNN_logits'] = train_logits"
   ]
  },
  {
   "cell_type": "code",
   "execution_count": null,
   "id": "fba61c44",
   "metadata": {},
   "outputs": [],
   "source": [
    "test['predicted_DNN_logits'] = test_logits"
   ]
  },
  {
   "cell_type": "code",
   "execution_count": null,
   "id": "4a3abd52",
   "metadata": {},
   "outputs": [],
   "source": [
    "test.to_csv('modelpredictedlogits_test.csv')\n",
    "train.to_csv('modelpredictedlogits_train.csv')\n"
   ]
  },
  {
   "cell_type": "markdown",
   "id": "b6f6347a",
   "metadata": {},
   "source": [
    "# now get the predicted logits for train-test from CNNS"
   ]
  },
  {
   "cell_type": "code",
   "execution_count": null,
   "id": "012a9266",
   "metadata": {},
   "outputs": [],
   "source": [
    "X_train = x_train_alldata[:,0:1056]\n",
    "Y_train = x_train_alldata[:,1056] \n",
    " \n",
    "X_test =  x_test_alldata[:,0:960]\n",
    "Y_test =  x_test_alldata[:,960] "
   ]
  },
  {
   "cell_type": "code",
   "execution_count": null,
   "id": "f827ea24",
   "metadata": {},
   "outputs": [],
   "source": [
    "#create train and validation splits for proper model training while keeping the composition of labels balanced between them using a random state '1 '\n",
    "\n",
    "X_train, X_val, Y_train, Y_val = train_test_split(X_train, Y_train, test_size=0.2, random_state=1, stratify=Y_train)"
   ]
  },
  {
   "cell_type": "code",
   "execution_count": null,
   "id": "7427f4c6",
   "metadata": {},
   "outputs": [],
   "source": [
    "# convert them to torch tensors for padding\n",
    "X_train = torch.tensor(X_train).to(device)\n",
    "Y_train = torch.tensor(Y_train).to(device).reshape((-1,1))\n",
    "\n",
    "X_test= torch.tensor(X_test).to(device)\n",
    "Y_test = torch.tensor(Y_test).to(device).reshape((-1,1))\n",
    "\n",
    "X_val= torch.tensor(X_val).to(device)\n",
    "Y_val = torch.tensor(Y_val).to(device).reshape((-1,1))\n"
   ]
  },
  {
   "cell_type": "code",
   "execution_count": null,
   "id": "eed411f2",
   "metadata": {},
   "outputs": [],
   "source": [
    "\n",
    "X_train.shape, X_val.shape"
   ]
  },
  {
   "cell_type": "code",
   "execution_count": null,
   "id": "340c82b2",
   "metadata": {},
   "outputs": [],
   "source": [
    "#X_train_CNN = F.pad(X_train,pad =(0, 1089-X_train.shape[1]), value=0)\n",
    "#X_train_CNN = F.pad(X_train,pad =(0, 900-X_train.shape[1]), value=0)  # 900 is closest perfect square to 864 for real dist train set\n",
    "#X_train_CNN = F.pad(X_train,pad =(0, 841-X_train.shape[1]), value=0)  # 841 is closest perfect square to 840 for balanced train set\n",
    "X_train_CNN = F.pad(X_train,pad =(0, 1089-X_train.shape[1]), value=0) #for cnns and for predicting with trained model , perfect sq is 1089 closest to 1056\n",
    "Y_train_CNN = Y_train\n",
    "X_val_CNN = F.pad(X_val,pad =(0, 1089-X_val.shape[1]), value=0) #validatin set: for cnns and for predicting with trained model , perfect sq is 1089 closest to 1056\n",
    "Y_val_CNN = Y_val\n",
    "#X_test_CNN = F.pad(X_test,pad =(0, 900-X_test.shape[1]), value=0)\n",
    "#X_test_CNN = F.pad(X_test,pad =(0, 961-X_test.shape[1]), value=0) #for alldata test set, 961 because perfect square of 31 is 961 which is closest to 960 i.e our original concatenated panphon feature dimension \n",
    "#X_test_CNN = F.pad(X_test,pad =(0, 784-X_test.shape[1]), value=0) #for real dist test set and balanced test set, 784 because perfect square of 28 is 784 which is closest to 768 i.e our original concatenated panphon feature dimension\n",
    "\n",
    "X_test_CNN = F.pad(X_test,pad =(0, 1089-X_test.shape[1]), value=0) #for all data and with trained model prediction for logits, 1809 closes to 1056\n",
    "Y_test_CNN = Y_test"
   ]
  },
  {
   "cell_type": "code",
   "execution_count": null,
   "id": "dacd1050",
   "metadata": {},
   "outputs": [],
   "source": [
    "X_train.shape, Y_train.shape, X_test.shape, Y_test.shape"
   ]
  },
  {
   "cell_type": "code",
   "execution_count": null,
   "id": "54d9f58a",
   "metadata": {},
   "outputs": [],
   "source": [
    "X_train_CNN.shape, Y_train_CNN.shape, X_test_CNN.shape, Y_test_CNN.shape, X_val_CNN.shape, Y_val_CNN.shape"
   ]
  },
  {
   "cell_type": "code",
   "execution_count": null,
   "id": "266b4a74",
   "metadata": {},
   "outputs": [],
   "source": [
    "class CCN_Net(nn.Module):\n",
    "    def __init__(self):\n",
    "        super().__init__() # just run the init of parent class (nn.Module)\n",
    "        self.conv1 = nn.Conv2d(1, 32, 2) # input is 1 image, 32 output channels, 2X2 kernel / window\n",
    "        self.conv2 = nn.Conv2d(32, 64, 2) # input is 32, bc the first layer output 32. Then we say the output will be 64 channels, 5x5 kernel / window\n",
    "        self.conv3 = nn.Conv2d(64, 128,2)\n",
    "        \n",
    "\n",
    "        #x = torch.randn(23,23).view(-1,1,23,23)\n",
    "        #x = torch.randn(33,33).view(-1,1,33,33) #33 because its the square root of 1089\n",
    "        #x = torch.randn(30,30).view(-1,1,30,30) #30 because its the square root of 900 for real dist train set\n",
    "        #x = torch.randn(29,29).view(-1,1,29,29) #29 because its the square root of 841 for balanced train set\n",
    "        x = torch.randn(33,33).view(-1,1,33,33) # for trained model logit prediction, for all data, 1089 is sq of 33\n",
    "        self._to_linear = None\n",
    "        self.convs(x)\n",
    "\n",
    "        self.fc1 = nn.Linear(self._to_linear, 512) #flattening.\n",
    "        self.fc2 = nn.Linear(512, 1) # 512 in, 2 out bc we're doing 2 classes (dog vs cat).\n",
    "        self.dropout = nn.Dropout(0.2)\n",
    "\n",
    "    def convs(self, x):\n",
    "        # max pooling over 2x2\n",
    "        x = F.max_pool2d(F.tanh(self.conv1(x)), (2, 2))\n",
    "        x = F.max_pool2d(F.tanh(self.conv2(x)), (2, 2))\n",
    "        x = F.max_pool2d(F.tanh(self.conv3(x)), (2, 2))\n",
    "#         x = F.max_pool2d(F.relu(self.conv1(x)), (2, 2))\n",
    "#         x = F.max_pool2d(F.relu(self.conv2(x)), (2, 2))\n",
    "#         x = F.max_pool2d(F.relu(self.conv3(x)), (2, 2))\n",
    "        \n",
    "\n",
    "        if self._to_linear is None:\n",
    "            self._to_linear = x[0].shape[0]*x[0].shape[1]*x[0].shape[2]\n",
    "        return x\n",
    "\n",
    "    def forward(self, x):\n",
    "        x = self.convs(x)\n",
    "        x = x.view(-1, self._to_linear)  # .view is reshape ... this flattens X before \n",
    "        x = self.dropout(x)\n",
    "        x = F.tanh(self.fc1(x))\n",
    "        #x = F.relu(self.fc1(x))\n",
    "        x = self.dropout(x)\n",
    "        x = self.fc2(x) # bc this is our output layer. No activation here.\n",
    "        return F.sigmoid(x), x, #comment it out to get the logits in the return statement \n",
    "        #return x\n",
    "                         \n",
    "\n",
    "\n",
    "CNN_Net = CCN_Net() \n",
    "CNN_Net= nn.DataParallel(CNN_Net)\n",
    "CNN_Net.to(device)\n",
    "print(CNN_Net)"
   ]
  },
  {
   "cell_type": "code",
   "execution_count": null,
   "id": "b8767b13",
   "metadata": {},
   "outputs": [],
   "source": [
    "CNN_Net"
   ]
  },
  {
   "cell_type": "code",
   "execution_count": null,
   "id": "f9c4c15c",
   "metadata": {},
   "outputs": [],
   "source": [
    "#X_train = torch.tensor(X_train).view(-1,23,23).to(device)\n",
    "#X_train_CNN = torch.tensor(X_train_CNN).view(-1,33,33).to(device)\n",
    "#X_train_CNN = torch.tensor(X_train_CNN).view(-1,30,30).to(device) #30 for real dist train set w/o trained model predicting\n",
    "#X_train_CNN = torch.tensor(X_train_CNN).view(-1,29,29).to(device) #29 for balanced train set w/o trained model predicting\n",
    "\n",
    "X_train_CNN = torch.tensor(X_train_CNN).view(-1,33,33).to(device) #33 for all data trainset with trained model predicting\n",
    "X_val_CNN = torch.tensor(X_val_CNN).view(-1,33,33).to(device) # for model predict, val set as above\n",
    "X_test_CNN = torch.tensor(X_test_CNN).view(-1,33,33).to(device) # for model predict test set as above\n",
    "#X_train = torch.tensor(X_train).to(device)\n",
    "#Y_train = torch.tensor(Y_train).to(device)\n",
    "Y_train_CNN = torch.tensor(Y_train_CNN).to(device)\n",
    "Y_val_CNN = torch.tensor(Y_val_CNN).to(device)\n",
    "Y_test_CNN = torch.tensor(Y_test_CNN).to(device)\n",
    "\n",
    "#X_test = torch.tensor(X_test).view(-1,23,23).to(device)"
   ]
  },
  {
   "cell_type": "code",
   "execution_count": null,
   "id": "11b48324",
   "metadata": {},
   "outputs": [],
   "source": [
    "X_train_CNN.shape, Y_train_CNN.shape, X_test_CNN.shape, Y_test_CNN.shape, X_val_CNN.shape, Y_val_CNN.shape\n",
    "Y_train_CNN\n",
    "sum(Y_train_CNN ==1)"
   ]
  },
  {
   "cell_type": "code",
   "execution_count": null,
   "id": "3ead32bb",
   "metadata": {},
   "outputs": [],
   "source": [
    "#optimizer = optim.Adam(CNN_Net.parameters(), lr=0.01)\n",
    "optimizer = optim.SGD(CNN_Net.parameters(),lr=0.001, momentum=0.0,  weight_decay=0.0, nesterov=False)\n",
    "#optimizer = torch.optim.RMSprop(CNN_Net.parameters(), lr=0.00001, alpha=0.99, eps=1e-08, weight_decay=0, momentum=0, centered=False)\n",
    "#loss_function = nn.MSELoss()\n",
    "scheduler1 = optim.lr_scheduler.ExponentialLR(optimizer, gamma=0.9)\n",
    "loss_function = nn.BCELoss().to(device)"
   ]
  },
  {
   "cell_type": "code",
   "execution_count": null,
   "id": "f26bef86",
   "metadata": {},
   "outputs": [],
   "source": [
    "from tqdm import tqdm"
   ]
  },
  {
   "cell_type": "code",
   "execution_count": null,
   "id": "54d26b30",
   "metadata": {},
   "outputs": [],
   "source": [
    "torch.cuda.empty_cache()"
   ]
  },
  {
   "cell_type": "code",
   "execution_count": null,
   "id": "d727c412",
   "metadata": {},
   "outputs": [],
   "source": [
    "X_val_CNN= X_val_CNN.unsqueeze(1) #just do it once \n",
    "X_test_CNN = X_test_CNN .unsqueeze(1)"
   ]
  },
  {
   "cell_type": "code",
   "execution_count": null,
   "id": "d0cb8ef4",
   "metadata": {},
   "outputs": [],
   "source": [
    "# sets the seed manually to 42\n",
    "torch.manual_seed(42)\n",
    "# a = X_val_CNN[torch.randint(len(X_val_CNN), (120,))]  \n",
    "# # b = Y_val_CNN[torch.randint(len(X_val_CNN), (120,))]  \n",
    "# # a.shape\n",
    "# b\n",
    "\n",
    "# "
   ]
  },
  {
   "cell_type": "code",
   "execution_count": null,
   "id": "9538fad7",
   "metadata": {},
   "outputs": [],
   "source": [
    "torch.initial_seed()"
   ]
  },
  {
   "cell_type": "code",
   "execution_count": null,
   "id": "ea985a1b",
   "metadata": {},
   "outputs": [],
   "source": [
    "#train for 10000 epochs and get the logits \n",
    "val_losses = []\n",
    "train_losses = []\n",
    "val_accur = []\n",
    "train_accur = []\n",
    "train_losses_batch = []\n",
    "logits = []\n",
    "BATCH_SIZE = 512\n",
    "for epoch in range(50):\n",
    "    for i in tqdm(range(0, len(X_train_CNN), BATCH_SIZE)):\n",
    "        batch_X = X_train_CNN[i:i+BATCH_SIZE].view(-1, 1, 33,33)  \n",
    "        #batch_X = X_train_CNN.view(-1, 1, 29,29)  \n",
    "        batch_y = Y_train_CNN[i:i+BATCH_SIZE]\n",
    "        \n",
    "        \n",
    "\n",
    "        #X_train_CNN = X_train_CNN.view(-1, 1, 33,33) # for balanced train set\n",
    "        CNN_Net.zero_grad()\n",
    "        \n",
    "        y_pred = CNN_Net(batch_X .float())[0]\n",
    "        #print(y_pred)\n",
    "        logits = CNN_Net(batch_X.float())[1]\n",
    "        #getting logits for test set \n",
    "    #     y_pred = model(X_test.float())[0]\n",
    "    #     logits = model(X_test.float())[1]\n",
    "        #y_pred = model(X_train) \n",
    "        #print(y_pred)\n",
    "\n",
    "        #y_pred = torch.squeeze(y_pred)\n",
    "        train_loss = loss_function(y_pred, batch_y.float())\n",
    "\n",
    "        #test_loss = criterion(y_pred, Y_test.float())\n",
    "        #train_loss = criterion(y_pred, Y_train)\n",
    "        train_losses.append(train_loss)\n",
    "        if epoch % 5 == 0:\n",
    "            with torch.no_grad():\n",
    "                CNN_Net.eval()\n",
    "\n",
    "                val_batch_X = X_val_CNN[torch.randint(len(X_val_CNN), (BATCH_SIZE,))] \n",
    "                val_batch_Y = Y_val_CNN[torch.randint(len(X_val_CNN), (BATCH_SIZE,))] \n",
    "\n",
    "                train_acc,_ = calculate_accuracy(batch_y, y_pred)\n",
    "                #X_val_CNN= X_val_CNN.unsqueeze(1) don't do it here, it will keep adding a channel dimension every time the for loop operates\n",
    "                y_val_pred = CNN_Net(val_batch_X.float())[0]\n",
    "                #print(y_val_pred)\n",
    "                #y_test_pred = torch.squeeze(y_test_pred)\n",
    "\n",
    "\n",
    "                val_loss = loss_function(y_val_pred, val_batch_Y.float())\n",
    "\n",
    "                val_acc, total_corr = calculate_accuracy(val_batch_Y, y_val_pred)\n",
    "                #print(total_corr)\n",
    "\n",
    "                print(f'''epoch {epoch}Train set - loss: {round_tensor(train_loss)}, accuracy: {round_tensor(train_acc)}Val  set - loss: {round_tensor(val_loss)}, Val accuracy: {round_tensor(val_acc)}\n",
    "        ''')\n",
    "                #print(f'''epoch {epoch}Train set - loss: {round_tensor(train_loss)} ''')\n",
    "                #print(f'''epoch {epoch}Test set - loss: {round_tensor(test_loss)} ''')\n",
    "                train_losses_batch.append(train_loss)\n",
    "                val_losses.append(val_loss)\n",
    "\n",
    "                val_accur.append(val_acc)\n",
    "                train_accur.append(train_acc)\n",
    "\n",
    "        optimizer.zero_grad()\n",
    "\n",
    "        train_loss.backward()\n",
    "        #test_loss.backward()\n",
    "\n",
    "        optimizer.step()\n",
    "    scheduler1.step()"
   ]
  },
  {
   "cell_type": "code",
   "execution_count": null,
   "id": "0cb342ec",
   "metadata": {},
   "outputs": [],
   "source": [
    "len(train_accur)\n",
    "plt.plot(train_losses)\n",
    "\n",
    "plt.plot(train_losses)\n",
    "len(train_accur)"
   ]
  },
  {
   "cell_type": "code",
   "execution_count": null,
   "id": "d10738be",
   "metadata": {},
   "outputs": [],
   "source": [
    "import matplotlib.pyplot as plt\n",
    "\n",
    "epochs = range(1, len(train_accur) + 1)\n",
    "\n",
    "plt.plot(epochs, train_accur, 'bo', label='Training acc')\n",
    "plt.plot(epochs, val_accur, 'b', label='vaidation acc')\n",
    "plt.title('Training and validation accuracy')\n",
    "plt.legend()\n",
    "\n",
    "plt.figure()\n",
    "\n",
    "plt.plot(epochs, train_losses_batch, 'bo', label='Training loss every epoch multiple of 5')\n",
    "plt.plot(epochs, val_losses, 'b', label='validation loss')\n",
    "plt.title('Training and validation loss')\n",
    "plt.legend()\n",
    "\n",
    "plt.show()"
   ]
  },
  {
   "cell_type": "code",
   "execution_count": null,
   "id": "27d66069",
   "metadata": {},
   "outputs": [],
   "source": [
    "torch.save(CNN_Net, '/s/chopin/d/proj/ramfis-aida/MachineTranslationIPA/logits_CNNmodel/logits_cnn_model')"
   ]
  },
  {
   "cell_type": "code",
   "execution_count": null,
   "id": "9174dba6",
   "metadata": {},
   "outputs": [],
   "source": [
    "CNN_Net"
   ]
  },
  {
   "cell_type": "code",
   "execution_count": null,
   "id": "7018a14a",
   "metadata": {},
   "outputs": [],
   "source": [
    "cnn_model = torch.load('/s/chopin/d/proj/ramfis-aida/MachineTranslationIPA/logits_CNNmodel/logits_cnn_model')"
   ]
  },
  {
   "cell_type": "code",
   "execution_count": null,
   "id": "bb254828",
   "metadata": {},
   "outputs": [],
   "source": [
    "cnn_model.state_dict()"
   ]
  },
  {
   "cell_type": "code",
   "execution_count": null,
   "id": "1bafe47f",
   "metadata": {},
   "outputs": [],
   "source": [
    "X_train_CNN.view(-1, 1, 33,33)  \n",
    "\n"
   ]
  },
  {
   "cell_type": "markdown",
   "id": "6df5e012",
   "metadata": {},
   "source": [
    "# Inference phase for all three train-test splits using cnn model that was trained using the whole dataset, pad all three sets to suit the dimensions of the cnn trained model for inference and call model.eval"
   ]
  },
  {
   "cell_type": "code",
   "execution_count": null,
   "id": "cc76da28",
   "metadata": {},
   "outputs": [],
   "source": [
    "x_train_alldata.shape, x_test_alldata.shape,x_train_realdist.shape, x_test_realdist.shape, x_train_balanced.shape,  x_test_balanced.shape"
   ]
  },
  {
   "cell_type": "markdown",
   "id": "c8213733",
   "metadata": {},
   "source": [
    "# get base train and test sets for all three types of train test splits, one by one "
   ]
  },
  {
   "cell_type": "code",
   "execution_count": null,
   "id": "1e7437c7",
   "metadata": {},
   "outputs": [],
   "source": [
    "\n",
    "# get base train and test sets for all three types of train test splits, one by one \n",
    "\n",
    "#  1 - all data set\n",
    "X_train_alldata_cnn = x_train_alldata[:,0:1056]\n",
    " \n",
    "X_test_alldata_cnn = x_test_alldata[:,0:960]\n",
    " \n",
    "X_train_alldata_cnn = torch.tensor(X_train_alldata_cnn).to(device)\n",
    "X_test_alldata_cnn = torch.tensor(X_test_alldata_cnn).to(device)\n",
    "\n",
    "\n",
    "# 2- real distribution set\n",
    "X_train_realdist_cnn = x_train_realdist[:,0:864]\n",
    "X_test_realdist_cnn = x_test_realdist[:,0:768]\n",
    " \n",
    "X_train_realdist_cnn = torch.tensor(X_train_realdist_cnn).to(device)\n",
    "X_test_realdist_cnn = torch.tensor(X_test_realdist_cnn).to(device)\n",
    "\n",
    "\n",
    "# 3 - balanced dataset splits \n",
    "\n",
    "X_train_balanced_cnn = x_train_balanced[:,0:840]\n",
    "X_test_balanced_cnn = x_test_balanced[:,0:768]\n",
    " \n",
    "X_train_balanced_cnn = torch.tensor(X_train_balanced_cnn).to(device)\n",
    "X_test_balanced_cnn = torch.tensor(X_test_balanced_cnn).to(device)\n",
    "\n",
    "# pad for inference, for all three train and test splits \n",
    " \n",
    "    \n",
    "X_train_alldata_cnn = F.pad(X_train_alldata_cnn,pad =(0, 1089-X_train_alldata_cnn.shape[1]), value=0) #for cnns and for predicting with trained model , perfect sq is 1089 closest to 1056\n",
    "X_test_alldata_cnn = F.pad(X_test_alldata_cnn,pad =(0, 1089-X_test_alldata_cnn.shape[1]), value=0) #for all data and with trained model prediction for logits, 1809 closes to 1056\n",
    " \n",
    "X_train_realdist_cnn = F.pad(X_train_realdist_cnn,pad =(0, 1089-X_train_realdist_cnn.shape[1]), value=0)\n",
    "X_test_realdist_cnn = F.pad(X_test_realdist_cnn,pad =(0, 1089-X_test_realdist_cnn.shape[1]), value=0)\n",
    "\n",
    "X_train_balanced_cnn = F.pad(X_train_balanced_cnn,pad =(0, 1089-X_train_balanced_cnn.shape[1]), value=0)\n",
    "X_test_balanced_cnn = F.pad(X_test_balanced_cnn,pad =(0, 1089-X_test_balanced_cnn.shape[1]), value=0)\n",
    "\n",
    "\n",
    "\n",
    "\n"
   ]
  },
  {
   "cell_type": "code",
   "execution_count": null,
   "id": "148a5eaf",
   "metadata": {},
   "outputs": [],
   "source": [
    "# reshape these tensors into cnn dimensions for inference \n",
    "\n",
    "\n",
    "X_train_alldata_cnn = torch.tensor(X_train_alldata_cnn).view(-1,1,33,33).to(device) \n",
    " \n",
    "X_test_alldata_cnn = torch.tensor(X_test_alldata_cnn).view(-1,1, 33,33).to(device)  \n",
    "\n",
    "X_train_realdist_cnn = torch.tensor(X_train_realdist_cnn).view(-1,1, 33,33).to(device) \n",
    "\n",
    "X_test_realdist_cnn = torch.tensor(X_test_realdist_cnn).view(-1,1, 33,33).to(device) \n",
    "\n",
    "X_train_balanced_cnn = torch.tensor(X_train_balanced_cnn).view(-1,1, 33,33).to(device) \n",
    "\n",
    "X_test_balanced_cnn = torch.tensor(X_test_balanced_cnn).view(-1,1, 33,33).to(device) \n",
    "\n",
    "\n",
    "#X_train = torch.tensor(X_train).to(device)\n",
    "#Y_train = torch.tensor(Y_train).to(device)\n",
    "# Y_train_CNN = torch.tensor(Y_train_CNN).to(device)\n",
    "# Y_val_CNN = torch.tensor(Y_val_CNN).to(device)\n",
    "# Y_test_CNN = torch.tensor(Y_test_CNN).to(device)"
   ]
  },
  {
   "cell_type": "code",
   "execution_count": null,
   "id": "4e0e285a",
   "metadata": {},
   "outputs": [],
   "source": [
    "X_train_alldata_cnn.shape, X_test_alldata_cnn.shape, X_train_realdist_cnn.shape, X_test_realdist_cnn.shape, X_train_balanced_cnn.shape,X_test_balanced_cnn.shape\n",
    " \n",
    " "
   ]
  },
  {
   "cell_type": "code",
   "execution_count": null,
   "id": "0d893302",
   "metadata": {},
   "outputs": [],
   "source": []
  },
  {
   "cell_type": "code",
   "execution_count": null,
   "id": "a0f6a56f",
   "metadata": {},
   "outputs": [],
   "source": []
  },
  {
   "cell_type": "code",
   "execution_count": null,
   "id": "535d9b61",
   "metadata": {},
   "outputs": [],
   "source": []
  },
  {
   "cell_type": "code",
   "execution_count": null,
   "id": "ec1120da",
   "metadata": {},
   "outputs": [],
   "source": [
    "# use the trained CNN model to get logits for the three different splits\n",
    "\n",
    "cnn_model.eval()\n",
    "\n",
    "with torch.no_grad():\n",
    "    train_logits_cnn_alldata = cnn_model(X_train_alldata_cnn.float())[1]\n",
    "    test_logits_cnn_alldata = cnn_model( X_test_alldata_cnn.float())[1]\n",
    "    \n",
    "    train_logits_cnn_realdist = cnn_model(X_train_realdist_cnn.float())[1]\n",
    "    test_logits_cnn_realdist = cnn_model( X_test_realdist_cnn.float())[1]\n",
    "    \n",
    "    train_logits_cnn_balanced = cnn_model(X_train_balanced_cnn.float())[1]\n",
    "    test_logits_cnn_balanced = cnn_model( X_test_balanced_cnn.float())[1]\n",
    "    \n"
   ]
  },
  {
   "cell_type": "code",
   "execution_count": null,
   "id": "e86bb77a",
   "metadata": {},
   "outputs": [],
   "source": [
    "train_logits_cnn_alldata = train_logits_cnn_alldata.detach().cpu().numpy()\n",
    "test_logits_cnn_alldata = test_logits_cnn_alldata.detach().cpu().numpy()\n",
    "\n",
    "train_logits_cnn_realdist = train_logits_cnn_realdist.detach().cpu().numpy()\n",
    "test_logits_cnn_realdist = test_logits_cnn_realdist.detach().cpu().numpy()\n",
    "\n",
    "train_logits_cnn_balanced = train_logits_cnn_balanced.detach().cpu().numpy()\n",
    "test_logits_cnn_balanced = test_logits_cnn_balanced.detach().cpu().numpy()\n",
    "\n"
   ]
  },
  {
   "cell_type": "code",
   "execution_count": null,
   "id": "6d6af86f",
   "metadata": {},
   "outputs": [],
   "source": [
    "len(train_logits_cnn_alldata), len(test_logits_cnn_alldata), len(train_logits_cnn_realdist), len(test_logits_cnn_realdist),train_logits_cnn_balanced.shape, test_logits_cnn_balanced.shape"
   ]
  },
  {
   "cell_type": "code",
   "execution_count": null,
   "id": "49acf27c",
   "metadata": {},
   "outputs": [],
   "source": [
    "plt.plot(train_logits_cnn_balanced)\n",
    "plt.plot(test_logits_cnn_balanced)\n",
    "\n"
   ]
  },
  {
   "cell_type": "code",
   "execution_count": null,
   "id": "73fbed72",
   "metadata": {},
   "outputs": [],
   "source": [
    "#url_train_logits = 'https://raw.githubusercontent.com/csu-signal/loan-word-detection/main/Datasets/production_train_test/real_distribution/train_withlogits_realdist.csv'\n",
    "url_train_logits = 'https://raw.githubusercontent.com/csu-signal/loan-word-detection/main/Datasets/production_train_test/balanced_splits/train_withlogits_balanced.csv'\n",
    "#url_train_logits = 'https://raw.githubusercontent.com/csu-signal/loan-word-detection/main/Datasets/production_train_test/alldata/train_withlogits_alldata.csv'\n",
    "#url_test_logits = 'https://raw.githubusercontent.com/csu-signal/loan-word-detection/main/Datasets/production_train_test/real_distribution/test_withlogits_realdist.csv'\n",
    "url_test_logits = 'https://raw.githubusercontent.com/csu-signal/loan-word-detection/main/Datasets/production_train_test/balanced_splits/test_withlogits_balanced.csv'\n",
    "\n",
    "#url_test_logits = 'https://raw.githubusercontent.com/csu-signal/loan-word-detection/main/Datasets/production_train_test/alldata/test_withlogits_alldata.csv'\n",
    "\n",
    "\n",
    "url_train_logits = requests.get(url_train_logits).content\n",
    "url_test_logits = requests.get(url_test_logits).content\n",
    "# train_alldata=pd.read_csv(io.StringIO(url_train_logits.decode('utf-8')))\n",
    "# test_alldata = pd.read_csv(io.StringIO(url_test_logits.decode('utf-8')))\n",
    "\n",
    "# train_realdist=pd.read_csv(io.StringIO(url_train_logits.decode('utf-8')))\n",
    "# test_realdist = pd.read_csv(io.StringIO(url_test_logits.decode('utf-8')))\n",
    "\n",
    "train_balanced=pd.read_csv(io.StringIO(url_train_logits.decode('utf-8')))\n",
    "test_balanced = pd.read_csv(io.StringIO(url_test_logits.decode('utf-8')))"
   ]
  },
  {
   "cell_type": "code",
   "execution_count": null,
   "id": "617608c4",
   "metadata": {},
   "outputs": [],
   "source": [
    "test_balanced.shape"
   ]
  },
  {
   "cell_type": "code",
   "execution_count": null,
   "id": "482dedb7",
   "metadata": {},
   "outputs": [],
   "source": [
    "# train_alldata['CNNlogits_modelpredicted'] = train_logits_cnn_alldata\n",
    "# test_alldata['CNNlogits_modelpredicted'] =  test_logits_cnn_alldata\n",
    "\n",
    "# train_realdist['CNNlogits_modelpredicted'] = train_logits_cnn_realdist\n",
    "# test_realdist['CNNlogits_modelpredicted'] =  test_logits_cnn_realdist\n",
    "\n",
    "train_balanced['CNNlogits_modelpredicted'] = train_logits_cnn_balanced\n",
    "test_balanced['CNNlogits_modelpredicted'] =  test_logits_cnn_balanced\n",
    "\n",
    "\n"
   ]
  },
  {
   "cell_type": "code",
   "execution_count": 48,
   "id": "0dcadfd8",
   "metadata": {},
   "outputs": [
    {
     "ename": "NameError",
     "evalue": "name 'train_realdist' is not defined",
     "output_type": "error",
     "traceback": [
      "\u001b[0;31m---------------------------------------------------------------------------\u001b[0m",
      "\u001b[0;31mNameError\u001b[0m                                 Traceback (most recent call last)",
      "\u001b[0;32m<ipython-input-48-0712f25073f9>\u001b[0m in \u001b[0;36m<module>\u001b[0;34m\u001b[0m\n\u001b[0;32m----> 1\u001b[0;31m \u001b[0mtrain_realdist\u001b[0m\u001b[0;34m.\u001b[0m\u001b[0mshape\u001b[0m\u001b[0;34m\u001b[0m\u001b[0;34m\u001b[0m\u001b[0m\n\u001b[0m",
      "\u001b[0;31mNameError\u001b[0m: name 'train_realdist' is not defined"
     ]
    }
   ],
   "source": [
    "train_realdist.shape"
   ]
  },
  {
   "cell_type": "code",
   "execution_count": null,
   "id": "f574b110",
   "metadata": {},
   "outputs": [],
   "source": [
    "# train_alldata.to_csv('modelpredictedlogits_trainCNN.csv')\n",
    "# test_alldata.to_csv('modelpredictedlogits_testCNN.csv')\n",
    "\n",
    "\n",
    "# train_realdist.to_csv('modelpredictedlogits_trainCNN_realdist.csv')\n",
    "# test_realdist.to_csv('modelpredictedlogits_testCNN_realdist.csv')\n",
    "\n",
    "train_balanced.to_csv('modelpredictedlogits_trainCNN_balanced.csv')\n",
    "test_balanced.to_csv('modelpredictedlogits_testCNN_balanced.csv')\n"
   ]
  },
  {
   "cell_type": "code",
   "execution_count": null,
   "id": "057326e5",
   "metadata": {},
   "outputs": [],
   "source": []
  },
  {
   "cell_type": "code",
   "execution_count": null,
   "id": "873da73f",
   "metadata": {},
   "outputs": [],
   "source": []
  },
  {
   "cell_type": "code",
   "execution_count": null,
   "id": "52e0eeb0",
   "metadata": {},
   "outputs": [],
   "source": []
  },
  {
   "cell_type": "code",
   "execution_count": null,
   "id": "e44a0b8f",
   "metadata": {},
   "outputs": [],
   "source": []
  },
  {
   "cell_type": "code",
   "execution_count": null,
   "id": "64c51672",
   "metadata": {},
   "outputs": [],
   "source": []
  },
  {
   "cell_type": "code",
   "execution_count": null,
   "id": "811d4e31",
   "metadata": {},
   "outputs": [],
   "source": []
  },
  {
   "cell_type": "code",
   "execution_count": null,
   "id": "218b5793",
   "metadata": {},
   "outputs": [],
   "source": [
    "loss_cnn_train = []\n",
    "#EPOCHS = 3000  # for the specific case of CNN logits real dist train set, in order for the train loss to converge, rest all were trained to 1000 epochs \n",
    "EPOCHS = 1000\n",
    "BATCH_SIZE = 120\n",
    "cnn_logits_lst = []\n",
    " \n",
    "for epoch in range(EPOCHS):\n",
    "    #for i in tqdm(range(0, len(X_train_CNN), BATCH_SIZE)):\n",
    "    #batch_X = X_train_CNN.view(-1, 1, 30,30) #for real dist \n",
    "    batch_X = X_train_CNN.view(-1, 1, 29,29) # for balanced train set\n",
    "    batch_y = Y_train_CNN\n",
    "\n",
    "\n",
    "    net.zero_grad()\n",
    "    outputs = net(batch_X.float())[0]\n",
    "    cnn_logits = net(batch_X.float())[1]\n",
    "    #cnn_logits_lst.extend(cnn_logits)\n",
    "    #print(outputs)\n",
    "    loss = loss_function(outputs,  batch_y.float().reshape((-1,1)))\n",
    "\n",
    "    loss.backward()\n",
    "    optimizer.step()\n",
    "    loss_cnn_train.append(loss)\n",
    "    if EPOCHS % 100 == 0:\n",
    "        print(f\"Epoch: {epoch}. Loss: {loss}\")"
   ]
  }
 ],
 "metadata": {
  "kernelspec": {
   "display_name": "Python 3 (ipykernel)",
   "language": "python",
   "name": "python3"
  },
  "language_info": {
   "codemirror_mode": {
    "name": "ipython",
    "version": 3
   },
   "file_extension": ".py",
   "mimetype": "text/x-python",
   "name": "python",
   "nbconvert_exporter": "python",
   "pygments_lexer": "ipython3",
   "version": "3.9.7"
  }
 },
 "nbformat": 4,
 "nbformat_minor": 5
}
