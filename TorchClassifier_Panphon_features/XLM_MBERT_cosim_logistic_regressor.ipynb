{
 "cells": [
  {
   "cell_type": "code",
   "execution_count": 1,
   "id": "6fee0509",
   "metadata": {},
   "outputs": [],
   "source": [
    "import sys\n",
    "import json\n",
    "import torch\n",
    "from torch import nn\n",
    "from transformers import BertTokenizer, BertModel, AdamW, get_linear_schedule_with_warmup, BertForSequenceClassification\\\n",
    "    , BertForPreTraining, AutoModel\n",
    "from transformers import XLMTokenizer, XLMWithLMHeadModel\n",
    "\n",
    "\n",
    "from torch.utils.data import DataLoader\n",
    "import numpy as np\n",
    "import pandas as pd\n",
    "import random\n",
    "from sklearn.metrics import confusion_matrix, accuracy_score, classification_report, f1_score, mean_squared_error\n",
    "import time"
   ]
  },
  {
   "cell_type": "code",
   "execution_count": 2,
   "id": "a30c714c",
   "metadata": {},
   "outputs": [
    {
     "name": "stderr",
     "output_type": "stream",
     "text": [
      "Some weights of XLMWithLMHeadModel were not initialized from the model checkpoint at xlm-mlm-100-1280 and are newly initialized: ['transformer.position_ids']\n",
      "You should probably TRAIN this model on a down-stream task to be able to use it for predictions and inference.\n"
     ]
    }
   ],
   "source": [
    "from transformers import XLMTokenizer, XLMWithLMHeadModel\n",
    "tokenizer = XLMTokenizer.from_pretrained(\"xlm-mlm-100-1280\")\n",
    "model = XLMWithLMHeadModel.from_pretrained(\"xlm-mlm-100-1280\")"
   ]
  },
  {
   "cell_type": "code",
   "execution_count": 76,
   "id": "cda02a00",
   "metadata": {},
   "outputs": [],
   "source": [
    "torch.manual_seed(7)\n",
    "random.seed(7)\n",
    "np.random.seed(7)\n",
    "# Setting PyTorch's required configuration variables for reproducibility.\n",
    "torch.backends.cudnn.benchmark = False\n",
    "torch.backends.cudnn.deterministic = False\n",
    "torch.use_deterministic_algorithms(False)"
   ]
  },
  {
   "cell_type": "code",
   "execution_count": 77,
   "id": "c7b5593b",
   "metadata": {},
   "outputs": [],
   "source": [
    "PRE_TRAINED_MODEL = 'bert-base-multilingual-cased'\n",
    "#PRE_TRAINED_MODEL = 'xlm-mlm-100-1280'\n",
    "\n"
   ]
  },
  {
   "cell_type": "code",
   "execution_count": 78,
   "id": "2bb7194d",
   "metadata": {},
   "outputs": [],
   "source": [
    "MAXTOKENS = 5\n",
    "NUM_EPOCHS = 2000  # default maximum number of epochs\n",
    "BERT_EMB = 768  # set to either 768 or 1024 for BERT-Base and BERT-Large models respectively\n",
    "BS = 8  # batch size\n",
    "INITIAL_LR = 1e-5  # initial learning rate\n",
    "save_epochs = [1, 2, 3, 4, 5, 6, 7]  # these are the epoch numbers (starting from 1) to test the model on the test set\n",
    "# and save the model checkpoint.\n",
    "EARLY_STOP_PATIENCE = 30  # If model does not improve for this number of epochs, training stops.\n",
    "\n",
    "# Setting GPU cards to use for training the model. Make sure you read our paper to figure out if you have enough GPU\n",
    "# memory. If not, you can change all of them to 'cpu' to use CPU instead of GPU. By the way, two 24 GB GPU cards are\n",
    "# enough for current configuration, but in case of developing based on this you may need more (that's why there are\n",
    "# three cards declared here)\n",
    "# CUDA_0 = 'cuda:1'\n",
    "# CUDA_1 = 'cuda:1'\n",
    "# CUDA_2 = 'cuda:1'\n",
    "args = sys.argv\n",
    "epochs = NUM_EPOCHS"
   ]
  },
  {
   "cell_type": "code",
   "execution_count": 6,
   "id": "15abf1da",
   "metadata": {},
   "outputs": [
    {
     "data": {
      "text/html": [
       "<div>\n",
       "<style scoped>\n",
       "    .dataframe tbody tr th:only-of-type {\n",
       "        vertical-align: middle;\n",
       "    }\n",
       "\n",
       "    .dataframe tbody tr th {\n",
       "        vertical-align: top;\n",
       "    }\n",
       "\n",
       "    .dataframe thead th {\n",
       "        text-align: right;\n",
       "    }\n",
       "</style>\n",
       "<table border=\"1\" class=\"dataframe\">\n",
       "  <thead>\n",
       "    <tr style=\"text-align: right;\">\n",
       "      <th></th>\n",
       "      <th>Unnamed: 0</th>\n",
       "      <th>loan_word</th>\n",
       "      <th>original_word</th>\n",
       "      <th>loan_word_epitran</th>\n",
       "      <th>original_word_epitran</th>\n",
       "      <th>Fast Levenshtein</th>\n",
       "      <th>Dolgo Prime Distance</th>\n",
       "      <th>Feature Edit Distance</th>\n",
       "      <th>Hamming Feature Distance</th>\n",
       "      <th>Weighted Feature Distance</th>\n",
       "      <th>Fast Levenshtein Distance Div Maxlen</th>\n",
       "      <th>label</th>\n",
       "    </tr>\n",
       "  </thead>\n",
       "  <tbody>\n",
       "    <tr>\n",
       "      <th>0</th>\n",
       "      <td>189</td>\n",
       "      <td>काग़ज़</td>\n",
       "      <td>کاغذ</td>\n",
       "      <td>kaːɣəz</td>\n",
       "      <td>kɒɣz</td>\n",
       "      <td>0.500000</td>\n",
       "      <td>0.166667</td>\n",
       "      <td>0.170139</td>\n",
       "      <td>0.187500</td>\n",
       "      <td>1.458333</td>\n",
       "      <td>0.500000</td>\n",
       "      <td>1</td>\n",
       "    </tr>\n",
       "    <tr>\n",
       "      <th>1</th>\n",
       "      <td>6907</td>\n",
       "      <td>बहुत खूब</td>\n",
       "      <td>Refulgent</td>\n",
       "      <td>bəɦutə kʰuːb</td>\n",
       "      <td>refulgent</td>\n",
       "      <td>0.916667</td>\n",
       "      <td>0.500000</td>\n",
       "      <td>0.182292</td>\n",
       "      <td>0.204861</td>\n",
       "      <td>2.291667</td>\n",
       "      <td>0.916667</td>\n",
       "      <td>0</td>\n",
       "    </tr>\n",
       "    <tr>\n",
       "      <th>2</th>\n",
       "      <td>559</td>\n",
       "      <td>तेहरान</td>\n",
       "      <td>تیار</td>\n",
       "      <td>teɦraːn</td>\n",
       "      <td>tjɒr</td>\n",
       "      <td>0.714286</td>\n",
       "      <td>0.428571</td>\n",
       "      <td>0.300595</td>\n",
       "      <td>0.351190</td>\n",
       "      <td>3.000000</td>\n",
       "      <td>0.714286</td>\n",
       "      <td>0</td>\n",
       "    </tr>\n",
       "    <tr>\n",
       "      <th>3</th>\n",
       "      <td>7069</td>\n",
       "      <td>प्रायश्चित करना</td>\n",
       "      <td>توبه کردن</td>\n",
       "      <td>praːjʃt͡ʃitə kərnaː</td>\n",
       "      <td>tvbh krdn</td>\n",
       "      <td>0.789474</td>\n",
       "      <td>0.526316</td>\n",
       "      <td>0.338816</td>\n",
       "      <td>0.383772</td>\n",
       "      <td>3.322368</td>\n",
       "      <td>0.789474</td>\n",
       "      <td>0</td>\n",
       "    </tr>\n",
       "    <tr>\n",
       "      <th>4</th>\n",
       "      <td>6848</td>\n",
       "      <td>अटपटा</td>\n",
       "      <td>عجیب</td>\n",
       "      <td>aʈpəʈaː</td>\n",
       "      <td>ʔd͡ʒjb</td>\n",
       "      <td>1.000000</td>\n",
       "      <td>0.857143</td>\n",
       "      <td>0.360119</td>\n",
       "      <td>0.404762</td>\n",
       "      <td>3.589286</td>\n",
       "      <td>1.000000</td>\n",
       "      <td>0</td>\n",
       "    </tr>\n",
       "    <tr>\n",
       "      <th>...</th>\n",
       "      <td>...</td>\n",
       "      <td>...</td>\n",
       "      <td>...</td>\n",
       "      <td>...</td>\n",
       "      <td>...</td>\n",
       "      <td>...</td>\n",
       "      <td>...</td>\n",
       "      <td>...</td>\n",
       "      <td>...</td>\n",
       "      <td>...</td>\n",
       "      <td>...</td>\n",
       "      <td>...</td>\n",
       "    </tr>\n",
       "    <tr>\n",
       "      <th>4395</th>\n",
       "      <td>5996</td>\n",
       "      <td>दिलबर</td>\n",
       "      <td>دیوان</td>\n",
       "      <td>dilbər</td>\n",
       "      <td>djvɒn</td>\n",
       "      <td>0.833333</td>\n",
       "      <td>0.333333</td>\n",
       "      <td>0.225694</td>\n",
       "      <td>0.263889</td>\n",
       "      <td>2.416667</td>\n",
       "      <td>0.833333</td>\n",
       "      <td>0</td>\n",
       "    </tr>\n",
       "    <tr>\n",
       "      <th>4396</th>\n",
       "      <td>276</td>\n",
       "      <td>ख़ुशामद</td>\n",
       "      <td>خش‌آمد</td>\n",
       "      <td>xuʃaːməd</td>\n",
       "      <td>xʃ‌ɒmd</td>\n",
       "      <td>0.500000</td>\n",
       "      <td>0.250000</td>\n",
       "      <td>0.239583</td>\n",
       "      <td>0.265625</td>\n",
       "      <td>2.000000</td>\n",
       "      <td>0.500000</td>\n",
       "      <td>1</td>\n",
       "    </tr>\n",
       "    <tr>\n",
       "      <th>4397</th>\n",
       "      <td>6638</td>\n",
       "      <td>प्रसिद्ध</td>\n",
       "      <td>مشهور</td>\n",
       "      <td>prəsidd̤ə</td>\n",
       "      <td>mʃhvr</td>\n",
       "      <td>1.000000</td>\n",
       "      <td>0.777778</td>\n",
       "      <td>0.379630</td>\n",
       "      <td>0.439815</td>\n",
       "      <td>4.097222</td>\n",
       "      <td>1.000000</td>\n",
       "      <td>0</td>\n",
       "    </tr>\n",
       "    <tr>\n",
       "      <th>4398</th>\n",
       "      <td>7845</td>\n",
       "      <td>वर्ज़िश</td>\n",
       "      <td>واقعی</td>\n",
       "      <td>vərziʃ</td>\n",
       "      <td>vɒɣʔj</td>\n",
       "      <td>0.833333</td>\n",
       "      <td>0.666667</td>\n",
       "      <td>0.270833</td>\n",
       "      <td>0.312500</td>\n",
       "      <td>3.395833</td>\n",
       "      <td>0.833333</td>\n",
       "      <td>0</td>\n",
       "    </tr>\n",
       "    <tr>\n",
       "      <th>4399</th>\n",
       "      <td>125</td>\n",
       "      <td>उस्तरा</td>\n",
       "      <td>استره</td>\n",
       "      <td>ustəraː</td>\n",
       "      <td>ɒstrh</td>\n",
       "      <td>0.571429</td>\n",
       "      <td>0.285714</td>\n",
       "      <td>0.181548</td>\n",
       "      <td>0.202381</td>\n",
       "      <td>2.053571</td>\n",
       "      <td>0.571429</td>\n",
       "      <td>1</td>\n",
       "    </tr>\n",
       "  </tbody>\n",
       "</table>\n",
       "<p>4400 rows × 12 columns</p>\n",
       "</div>"
      ],
      "text/plain": [
       "      Unnamed: 0        loan_word original_word    loan_word_epitran  \\\n",
       "0            189           काग़ज़          کاغذ               kaːɣəz   \n",
       "1           6907         बहुत खूब     Refulgent         bəɦutə kʰuːb   \n",
       "2            559           तेहरान          تیار              teɦraːn   \n",
       "3           7069  प्रायश्चित करना     توبه کردن  praːjʃt͡ʃitə kərnaː   \n",
       "4           6848            अटपटा          عجیب              aʈpəʈaː   \n",
       "...          ...              ...           ...                  ...   \n",
       "4395        5996            दिलबर         دیوان               dilbər   \n",
       "4396         276          ख़ुशामद        خش‌آمد             xuʃaːməd   \n",
       "4397        6638         प्रसिद्ध         مشهور            prəsidd̤ə   \n",
       "4398        7845          वर्ज़िश         واقعی               vərziʃ   \n",
       "4399         125           उस्तरा         استره              ustəraː   \n",
       "\n",
       "     original_word_epitran  Fast Levenshtein  Dolgo Prime Distance  \\\n",
       "0                     kɒɣz          0.500000              0.166667   \n",
       "1                refulgent          0.916667              0.500000   \n",
       "2                     tjɒr          0.714286              0.428571   \n",
       "3                tvbh krdn          0.789474              0.526316   \n",
       "4                   ʔd͡ʒjb          1.000000              0.857143   \n",
       "...                    ...               ...                   ...   \n",
       "4395                 djvɒn          0.833333              0.333333   \n",
       "4396                xʃ‌ɒmd          0.500000              0.250000   \n",
       "4397                 mʃhvr          1.000000              0.777778   \n",
       "4398                 vɒɣʔj          0.833333              0.666667   \n",
       "4399                 ɒstrh          0.571429              0.285714   \n",
       "\n",
       "      Feature Edit Distance  Hamming Feature Distance  \\\n",
       "0                  0.170139                  0.187500   \n",
       "1                  0.182292                  0.204861   \n",
       "2                  0.300595                  0.351190   \n",
       "3                  0.338816                  0.383772   \n",
       "4                  0.360119                  0.404762   \n",
       "...                     ...                       ...   \n",
       "4395               0.225694                  0.263889   \n",
       "4396               0.239583                  0.265625   \n",
       "4397               0.379630                  0.439815   \n",
       "4398               0.270833                  0.312500   \n",
       "4399               0.181548                  0.202381   \n",
       "\n",
       "      Weighted Feature Distance  Fast Levenshtein Distance Div Maxlen  label  \n",
       "0                      1.458333                              0.500000      1  \n",
       "1                      2.291667                              0.916667      0  \n",
       "2                      3.000000                              0.714286      0  \n",
       "3                      3.322368                              0.789474      0  \n",
       "4                      3.589286                              1.000000      0  \n",
       "...                         ...                                   ...    ...  \n",
       "4395                   2.416667                              0.833333      0  \n",
       "4396                   2.000000                              0.500000      1  \n",
       "4397                   4.097222                              1.000000      0  \n",
       "4398                   3.395833                              0.833333      0  \n",
       "4399                   2.053571                              0.571429      1  \n",
       "\n",
       "[4400 rows x 12 columns]"
      ]
     },
     "execution_count": 6,
     "metadata": {},
     "output_type": "execute_result"
    }
   ],
   "source": [
    "original_df = pd.read_csv(\"/s/chopin/d/proj/ramfis-aida/MachineTranslationIPA/train_final.csv\")\n",
    "original_df"
   ]
  },
  {
   "cell_type": "code",
   "execution_count": 7,
   "id": "c509dc10",
   "metadata": {},
   "outputs": [],
   "source": [
    "l1 = list(original_df[\"loan_word\"])\n",
    "l2 = list(original_df[\"original_word\"])"
   ]
  },
  {
   "cell_type": "code",
   "execution_count": null,
   "id": "5eb9d7d0",
   "metadata": {},
   "outputs": [],
   "source": [
    "original_df = original_df.loc[original_df[\"original_word\"]!='Refulgent']\n"
   ]
  },
  {
   "cell_type": "code",
   "execution_count": null,
   "id": "d9bf0174",
   "metadata": {},
   "outputs": [],
   "source": [
    "original_df "
   ]
  },
  {
   "cell_type": "code",
   "execution_count": 79,
   "id": "af1381aa",
   "metadata": {},
   "outputs": [],
   "source": [
    "MAXTOKENS = 512\n",
    "BERT_EMB = 768  # set to either 768 or 1024 for BERT-Base and BERT-Large models respectively\n",
    "#CUDA_0 = 'cuda:1'\n",
    "#CUDA_1 = 'cuda:1'\n",
    "#CUDA_2 = 'cuda:1'\n",
    "CUDA_0 = torch.device(\"cuda:0\" if torch.cuda.is_available() else \"cpu\")\n",
    "#CUDA_1 = 'cuda:0'\n",
    "#CUDA_2 = 'cuda:0'\n",
    "\n",
    "# The function for printing in both console and a given log file.\n",
    "def myprint(mystr, logfile):\n",
    "    print(mystr)\n",
    "    print(mystr, file=logfile)\n",
    "\n",
    "\n",
    "# The function for loading datasets from parallel tsv files and returning texts in lists.\n",
    "def load_data(file_name):\n",
    "    try:\n",
    "        # f = open(file_name)\n",
    "        f = pd.read_csv(file_name, sep='\\t', names=['l1_text', 'l2_text'])#, 'extra'])\n",
    "    except:\n",
    "        print('my log: could not read file')\n",
    "        exit()\n",
    "    print(\"This many number of rows were removed from \" + file_name.split(\"/\")[-1] + \" due to having missing values: \",\n",
    "          f.shape[0] - f.dropna().shape[0])\n",
    "    f.dropna(inplace=True)\n",
    "    l1_texts = f['l1_text'].values.tolist()\n",
    "    l2_texts = f['l2_text'].values.tolist()\n",
    "    print(len(l1_texts), len(l2_texts))\n",
    "    print(l1_texts[500])\n",
    "    print(\"\\n\")\n",
    "    print(l2_texts[500])\n",
    "    return l1_texts, l2_texts\n",
    "\n",
    "\n",
    "# Overriding the Dataset class required for the use of PyTorch's data loader classes.\n",
    "class MyDataset(torch.utils.data.Dataset):\n",
    "    def __init__(self, l1_encodings, l2_encodings):\n",
    "        self.l1_encodings = l1_encodings\n",
    "        self.l2_encodings = l2_encodings\n",
    "\n",
    "    def __getitem__(self, idx):\n",
    "        item = {('l1_' + key): torch.tensor(val[idx]) for key, val in self.l1_encodings.items()}\n",
    "        item2 = {('l2_' + key): torch.tensor(val[idx]) for key, val in self.l2_encodings.items()}\n",
    "        item.update(item2)\n",
    "        # item['labels'] = torch.tensor(self.labels[idx])\n",
    "        return item\n",
    "\n",
    "    def __len__(self):\n",
    "        return len(self.l1_encodings['attention_mask'])\n",
    "\n",
    "\n",
    "class MyDataset1(torch.utils.data.Dataset):\n",
    "    def __init__(self, encodings):\n",
    "        self.encodings = encodings\n",
    "\n",
    "    def __getitem__(self, idx):\n",
    "        item = {key: torch.tensor(val[idx]) for key, val in self.encodings.items()}\n",
    "        return item\n",
    "\n",
    "    def __len__(self):\n",
    "        return len(self.l1_encodings['attention_mask'])\n",
    "\n",
    "\n",
    "class MyModel(nn.Module):\n",
    "    # Each component other than the Transformer, are in a sequential layer (it is not required obviously, but it is\n",
    "    # possible to stack them with other layers if desired)\n",
    "    def __init__(self, base_model, n_classes, dropout=0.05):\n",
    "        super().__init__()\n",
    "        # self.base_model = base_model.to(CUDA_0)\n",
    "        self.transformation_learner = nn.Sequential(\n",
    "            nn.Dropout(dropout),\n",
    "            nn.Linear(BERT_EMB, BERT_EMB),\n",
    "            nn.LeakyReLU(),\n",
    "            nn.Dropout(dropout),\n",
    "            nn.Linear(BERT_EMB, BERT_EMB),\n",
    "            nn.LeakyReLU(),\n",
    "            nn.Dropout(dropout),\n",
    "            nn.Linear(BERT_EMB, BERT_EMB),\n",
    "            nn.LeakyReLU()\n",
    "        ).to(CUDA_0)\n",
    "\n",
    "    def forward(self, input, **kwargs):\n",
    "        l1_pooler_output = input\n",
    "        # l2 = input2\n",
    "        # if 'l1_attention_mask' in kwargs:\n",
    "        #     l1_attention_mask = kwargs['l1_attention_mask']\n",
    "            # l2_attention_mask = kwargs['l2_attention_mask']\n",
    "        # else:\n",
    "        #     print(\"my err: attention mask is not set, error maybe\")\n",
    "        # here we use only the CLS token\n",
    "        # l1_pooler_output = self.base_model(l1.to(CUDA_0), attention_mask=l1_attention_mask.to(CUDA_0)).pooler_output\n",
    "        myoutput = self.transformation_learner(l1_pooler_output)\n",
    "        return myoutput\n",
    "\n",
    "\n",
    "# The function to compute and print the performance measure scores using sklearn implementations.\n",
    "def evaluate_model(labels, predictions, titlestr, logfile):\n",
    "    myprint(titlestr, logfile)\n",
    "    conf_matrix = confusion_matrix(labels, predictions)\n",
    "    myprint(\"Confusion matrix- \\n\" + str(conf_matrix), logfile)\n",
    "    acc_score = accuracy_score(labels, predictions)\n",
    "    myprint('  Accuracy Score: {0:.2f}'.format(acc_score), logfile)\n",
    "    myprint('Report', logfile)\n",
    "    cls_rep = classification_report(labels, predictions)\n",
    "    myprint(cls_rep, logfile)\n",
    "    return f1_score(labels, predictions)  # return f-1 for positive class (sarcasm) as the early stopping measure."
   ]
  },
  {
   "cell_type": "code",
   "execution_count": null,
   "id": "f75abce6",
   "metadata": {},
   "outputs": [],
   "source": [
    "print(\"key word pair number: \",len(l1))"
   ]
  },
  {
   "cell_type": "code",
   "execution_count": 82,
   "id": "063ef8de",
   "metadata": {},
   "outputs": [
    {
     "name": "stderr",
     "output_type": "stream",
     "text": [
      "/s/chopin/d/proj/ramfis-aida/venv/lib/python3.6/site-packages/transformers/tokenization_utils_base.py:2268: UserWarning: `max_length` is ignored when `padding`=`True` and there is no truncation strategy. To pad to max length, use `padding='max_length'`.\n",
      "  \"`max_length` is ignored when `padding`=`True` and there is no truncation strategy. \"\n",
      "Some weights of the model checkpoint at bert-base-multilingual-cased were not used when initializing BertModel: ['cls.seq_relationship.weight', 'cls.predictions.decoder.weight', 'cls.predictions.transform.LayerNorm.weight', 'cls.predictions.bias', 'cls.seq_relationship.bias', 'cls.predictions.transform.dense.weight', 'cls.predictions.transform.dense.bias', 'cls.predictions.transform.LayerNorm.bias']\n",
      "- This IS expected if you are initializing BertModel from the checkpoint of a model trained on another task or with another architecture (e.g. initializing a BertForSequenceClassification model from a BertForPreTraining model).\n",
      "- This IS NOT expected if you are initializing BertModel from the checkpoint of a model that you expect to be exactly identical (initializing a BertForSequenceClassification model from a BertForSequenceClassification model).\n"
     ]
    },
    {
     "name": "stdout",
     "output_type": "stream",
     "text": [
      "\n",
      "\n",
      "\n",
      "\n",
      "\n",
      "8450\n"
     ]
    }
   ],
   "source": [
    "with torch.no_grad():\n",
    "    tokenizer = BertTokenizer.from_pretrained(PRE_TRAINED_MODEL)\n",
    "    tokenizer.model_max_length = MAXTOKENS\n",
    "    l1_encodings = tokenizer(l5, truncation=False, padding=True, max_length=MAXTOKENS)\n",
    "    l2_encodings = tokenizer(l6, truncation=False, padding=True, max_length=MAXTOKENS)\n",
    "    dataset = MyDataset(l1_encodings, l2_encodings)\n",
    "    data_loader = DataLoader(dataset, batch_size=BS, shuffle=False)  # shuffle False for reproducibility\n",
    "    base_model = BertModel.from_pretrained(PRE_TRAINED_MODEL).to(CUDA_0)\n",
    "    base_model.eval()\n",
    "    cos_s = torch.nn.CosineSimilarity()\n",
    "    print(\"\\n\\n\\n\\n\")\n",
    "    sim_lst = []\n",
    "    for step, batch in enumerate(data_loader):\n",
    "        l1_vector = base_model(batch['l1_input_ids'].to(CUDA_0),\n",
    "                                      attention_mask=batch['l1_attention_mask'].to(CUDA_0),\n",
    "                                      return_dict=True).last_hidden_state[:, 1, :]\n",
    "        l2_vector = base_model(batch['l2_input_ids'].to(CUDA_0),\n",
    "                                      attention_mask=batch['l2_attention_mask'].to(CUDA_0),\n",
    "                                      return_dict=True).last_hidden_state[:, 1, :]\n",
    "        sims = cos_s(l1_vector, l2_vector).data.cpu().numpy()\n",
    "        sim_lst.extend(list(sims))\n",
    "print(len(sim_lst))\n",
    "      # print(\"Similarities: \")\n",
    "      # for i in range(len(sims)):\n",
    "      #   print(l1[i], ' and ', l2[i], ' : ', sims[i])"
   ]
  },
  {
   "cell_type": "code",
   "execution_count": 43,
   "id": "b3775719",
   "metadata": {},
   "outputs": [],
   "source": [
    "import pandas as pd\n",
    "equiv = pd.read_csv(\"/s/chopin/d/proj/ramfis-aida/MachineTranslationIPA/datasets/Hindi-Persian-Synonyms.csv\")\n",
    "rand = pd.read_csv(\"/s/chopin/d/proj/ramfis-aida/MachineTranslationIPA/datasets/Hindi-Persian-Randoms.csv\")"
   ]
  },
  {
   "cell_type": "code",
   "execution_count": 10,
   "id": "2c793717",
   "metadata": {},
   "outputs": [
    {
     "data": {
      "text/html": [
       "<div>\n",
       "<style scoped>\n",
       "    .dataframe tbody tr th:only-of-type {\n",
       "        vertical-align: middle;\n",
       "    }\n",
       "\n",
       "    .dataframe tbody tr th {\n",
       "        vertical-align: top;\n",
       "    }\n",
       "\n",
       "    .dataframe thead th {\n",
       "        text-align: right;\n",
       "    }\n",
       "</style>\n",
       "<table border=\"1\" class=\"dataframe\">\n",
       "  <thead>\n",
       "    <tr style=\"text-align: right;\">\n",
       "      <th></th>\n",
       "      <th>loan_word</th>\n",
       "      <th>original_word</th>\n",
       "      <th>loan_word_epitran</th>\n",
       "      <th>original_word_epitran</th>\n",
       "      <th>Fast Levenshtein</th>\n",
       "      <th>Dolgo Prime Distance</th>\n",
       "      <th>Feature Edit Distance</th>\n",
       "      <th>Hamming Feature Distance</th>\n",
       "      <th>Weighted Feature Distance</th>\n",
       "      <th>Fast Levenshtein Distance Div Maxlen</th>\n",
       "    </tr>\n",
       "  </thead>\n",
       "  <tbody>\n",
       "    <tr>\n",
       "      <th>0</th>\n",
       "      <td>छोड़ देना</td>\n",
       "      <td>دست برداشتن از</td>\n",
       "      <td>t͡ʃʰoɽə denaː</td>\n",
       "      <td>dst brdɒʃtn ɒz</td>\n",
       "      <td>0.928571</td>\n",
       "      <td>0.500000</td>\n",
       "      <td>0.352679</td>\n",
       "      <td>0.383929</td>\n",
       "      <td>3.750000</td>\n",
       "      <td>0.928571</td>\n",
       "    </tr>\n",
       "    <tr>\n",
       "      <th>1</th>\n",
       "      <td>छोड़ देना</td>\n",
       "      <td>رد کردن</td>\n",
       "      <td>t͡ʃʰoɽə denaː</td>\n",
       "      <td>rd krdn</td>\n",
       "      <td>0.846154</td>\n",
       "      <td>0.461538</td>\n",
       "      <td>0.232372</td>\n",
       "      <td>0.275641</td>\n",
       "      <td>3.048077</td>\n",
       "      <td>0.846154</td>\n",
       "    </tr>\n",
       "    <tr>\n",
       "      <th>2</th>\n",
       "      <td>छोड़ देना</td>\n",
       "      <td>دست بردارید</td>\n",
       "      <td>t͡ʃʰoɽə denaː</td>\n",
       "      <td>dst brdɒrjd</td>\n",
       "      <td>0.923077</td>\n",
       "      <td>0.615385</td>\n",
       "      <td>0.258013</td>\n",
       "      <td>0.301282</td>\n",
       "      <td>3.317308</td>\n",
       "      <td>0.923077</td>\n",
       "    </tr>\n",
       "    <tr>\n",
       "      <th>3</th>\n",
       "      <td>छोड़ देना</td>\n",
       "      <td>رها کردن</td>\n",
       "      <td>t͡ʃʰoɽə denaː</td>\n",
       "      <td>rhɒ krdn</td>\n",
       "      <td>0.846154</td>\n",
       "      <td>0.461538</td>\n",
       "      <td>0.190705</td>\n",
       "      <td>0.230769</td>\n",
       "      <td>2.615385</td>\n",
       "      <td>0.846154</td>\n",
       "    </tr>\n",
       "    <tr>\n",
       "      <th>4</th>\n",
       "      <td>छोड़ देना</td>\n",
       "      <td>کویر</td>\n",
       "      <td>t͡ʃʰoɽə denaː</td>\n",
       "      <td>kvjr</td>\n",
       "      <td>1.000000</td>\n",
       "      <td>0.461538</td>\n",
       "      <td>0.323718</td>\n",
       "      <td>0.375000</td>\n",
       "      <td>3.000000</td>\n",
       "      <td>1.000000</td>\n",
       "    </tr>\n",
       "    <tr>\n",
       "      <th>...</th>\n",
       "      <td>...</td>\n",
       "      <td>...</td>\n",
       "      <td>...</td>\n",
       "      <td>...</td>\n",
       "      <td>...</td>\n",
       "      <td>...</td>\n",
       "      <td>...</td>\n",
       "      <td>...</td>\n",
       "      <td>...</td>\n",
       "      <td>...</td>\n",
       "    </tr>\n",
       "    <tr>\n",
       "      <th>8445</th>\n",
       "      <td>उमंग</td>\n",
       "      <td>اشتیاق</td>\n",
       "      <td>uməŋɡə</td>\n",
       "      <td>ɒʃtjɒɣ</td>\n",
       "      <td>1.000000</td>\n",
       "      <td>0.833333</td>\n",
       "      <td>0.250000</td>\n",
       "      <td>0.277778</td>\n",
       "      <td>5.270833</td>\n",
       "      <td>1.000000</td>\n",
       "    </tr>\n",
       "    <tr>\n",
       "      <th>8446</th>\n",
       "      <td>परोक्ष</td>\n",
       "      <td>مورب</td>\n",
       "      <td>pərokʂə</td>\n",
       "      <td>mvrb</td>\n",
       "      <td>0.857143</td>\n",
       "      <td>0.857143</td>\n",
       "      <td>0.473214</td>\n",
       "      <td>0.523810</td>\n",
       "      <td>4.892857</td>\n",
       "      <td>0.857143</td>\n",
       "    </tr>\n",
       "    <tr>\n",
       "      <th>8447</th>\n",
       "      <td>परोक्ष</td>\n",
       "      <td>خودسر</td>\n",
       "      <td>pərokʂə</td>\n",
       "      <td>xvdsr</td>\n",
       "      <td>1.000000</td>\n",
       "      <td>0.857143</td>\n",
       "      <td>0.392857</td>\n",
       "      <td>0.464286</td>\n",
       "      <td>4.375000</td>\n",
       "      <td>1.000000</td>\n",
       "    </tr>\n",
       "    <tr>\n",
       "      <th>8448</th>\n",
       "      <td>स्वच्छंद</td>\n",
       "      <td>مورب</td>\n",
       "      <td>svət͡ʃt͡ʃʰəndə</td>\n",
       "      <td>mvrb</td>\n",
       "      <td>0.928571</td>\n",
       "      <td>0.571429</td>\n",
       "      <td>0.361607</td>\n",
       "      <td>0.404762</td>\n",
       "      <td>3.196429</td>\n",
       "      <td>0.928571</td>\n",
       "    </tr>\n",
       "    <tr>\n",
       "      <th>8449</th>\n",
       "      <td>स्वच्छंद</td>\n",
       "      <td>خودسر</td>\n",
       "      <td>svət͡ʃt͡ʃʰəndə</td>\n",
       "      <td>xvdsr</td>\n",
       "      <td>0.928571</td>\n",
       "      <td>0.500000</td>\n",
       "      <td>0.303571</td>\n",
       "      <td>0.342262</td>\n",
       "      <td>2.687500</td>\n",
       "      <td>0.928571</td>\n",
       "    </tr>\n",
       "  </tbody>\n",
       "</table>\n",
       "<p>8450 rows × 10 columns</p>\n",
       "</div>"
      ],
      "text/plain": [
       "      loan_word   original_word loan_word_epitran original_word_epitran  \\\n",
       "0     छोड़ देना  دست برداشتن از     t͡ʃʰoɽə denaː        dst brdɒʃtn ɒz   \n",
       "1     छोड़ देना         رد کردن     t͡ʃʰoɽə denaː               rd krdn   \n",
       "2     छोड़ देना     دست بردارید     t͡ʃʰoɽə denaː           dst brdɒrjd   \n",
       "3     छोड़ देना        رها کردن     t͡ʃʰoɽə denaː              rhɒ krdn   \n",
       "4     छोड़ देना            کویر     t͡ʃʰoɽə denaː                  kvjr   \n",
       "...         ...             ...               ...                   ...   \n",
       "8445       उमंग          اشتیاق            uməŋɡə                ɒʃtjɒɣ   \n",
       "8446     परोक्ष            مورب           pərokʂə                  mvrb   \n",
       "8447     परोक्ष           خودسر           pərokʂə                 xvdsr   \n",
       "8448   स्वच्छंद            مورب    svət͡ʃt͡ʃʰəndə                  mvrb   \n",
       "8449   स्वच्छंद           خودسر    svət͡ʃt͡ʃʰəndə                 xvdsr   \n",
       "\n",
       "      Fast Levenshtein  Dolgo Prime Distance  Feature Edit Distance  \\\n",
       "0             0.928571              0.500000               0.352679   \n",
       "1             0.846154              0.461538               0.232372   \n",
       "2             0.923077              0.615385               0.258013   \n",
       "3             0.846154              0.461538               0.190705   \n",
       "4             1.000000              0.461538               0.323718   \n",
       "...                ...                   ...                    ...   \n",
       "8445          1.000000              0.833333               0.250000   \n",
       "8446          0.857143              0.857143               0.473214   \n",
       "8447          1.000000              0.857143               0.392857   \n",
       "8448          0.928571              0.571429               0.361607   \n",
       "8449          0.928571              0.500000               0.303571   \n",
       "\n",
       "      Hamming Feature Distance  Weighted Feature Distance  \\\n",
       "0                     0.383929                   3.750000   \n",
       "1                     0.275641                   3.048077   \n",
       "2                     0.301282                   3.317308   \n",
       "3                     0.230769                   2.615385   \n",
       "4                     0.375000                   3.000000   \n",
       "...                        ...                        ...   \n",
       "8445                  0.277778                   5.270833   \n",
       "8446                  0.523810                   4.892857   \n",
       "8447                  0.464286                   4.375000   \n",
       "8448                  0.404762                   3.196429   \n",
       "8449                  0.342262                   2.687500   \n",
       "\n",
       "      Fast Levenshtein Distance Div Maxlen  \n",
       "0                                 0.928571  \n",
       "1                                 0.846154  \n",
       "2                                 0.923077  \n",
       "3                                 0.846154  \n",
       "4                                 1.000000  \n",
       "...                                    ...  \n",
       "8445                              1.000000  \n",
       "8446                              0.857143  \n",
       "8447                              1.000000  \n",
       "8448                              0.928571  \n",
       "8449                              0.928571  \n",
       "\n",
       "[8450 rows x 10 columns]"
      ]
     },
     "execution_count": 10,
     "metadata": {},
     "output_type": "execute_result"
    }
   ],
   "source": [
    "equiv"
   ]
  },
  {
   "cell_type": "code",
   "execution_count": 80,
   "id": "3e586f3a",
   "metadata": {},
   "outputs": [
    {
     "data": {
      "text/plain": [
       "8450"
      ]
     },
     "execution_count": 80,
     "metadata": {},
     "output_type": "execute_result"
    }
   ],
   "source": [
    "l5 = list(equiv['loan_word'])\n",
    "l6=list(equiv['original_word'])\n",
    "len(l5)"
   ]
  },
  {
   "cell_type": "code",
   "execution_count": 45,
   "id": "e6f6b8c7",
   "metadata": {},
   "outputs": [
    {
     "data": {
      "text/plain": [
       "(['हौसला', 'अंगूर', 'अंगूरी', 'अंजाम', 'अंदर', 'अंदरुनी', 'अंदाज़'],\n",
       " ['انگور', 'انگوری', 'انجام', 'اندر', 'اندرونی', 'اندازه', 'اندیشه'])"
      ]
     },
     "execution_count": 45,
     "metadata": {},
     "output_type": "execute_result"
    }
   ],
   "source": [
    "l7 = l5[0:7]\n",
    "l8=l6[0:7]\n",
    "l7,l8"
   ]
  },
  {
   "cell_type": "code",
   "execution_count": 46,
   "id": "cd4fbc64",
   "metadata": {},
   "outputs": [
    {
     "name": "stderr",
     "output_type": "stream",
     "text": [
      "Some weights of XLMWithLMHeadModel were not initialized from the model checkpoint at xlm-mlm-100-1280 and are newly initialized: ['transformer.position_ids']\n",
      "You should probably TRAIN this model on a down-stream task to be able to use it for predictions and inference.\n",
      "/s/chopin/d/proj/ramfis-aida/venv/lib/python3.6/site-packages/transformers/tokenization_utils_base.py:2268: UserWarning: `max_length` is ignored when `padding`=`True` and there is no truncation strategy. To pad to max length, use `padding='max_length'`.\n",
      "  \"`max_length` is ignored when `padding`=`True` and there is no truncation strategy. \"\n"
     ]
    },
    {
     "data": {
      "text/plain": [
       "{'input_ids': [[0, 47790, 7657, 1, 179243, 167068, 1, 2], [0, 47790, 28610, 1, 150306, 148216, 1, 2], [0, 31691, 1, 150306, 93491, 14629, 1, 2], [0, 155182, 1, 94209, 29165, 8174, 1, 2], [0, 4571, 42941, 14468, 1, 172708, 1, 2], [0, 86287, 1, 94209, 24720, 49562, 28366, 1], [0, 114099, 44805, 1, 178717, 25670, 3910, 1]], 'token_type_ids': [[0, 0, 0, 0, 1, 1, 1, 0], [0, 0, 0, 0, 1, 1, 1, 0], [0, 0, 0, 1, 1, 1, 1, 0], [0, 0, 0, 1, 1, 1, 1, 0], [0, 0, 0, 0, 0, 1, 1, 0], [0, 0, 0, 1, 1, 1, 1, 1], [0, 0, 0, 0, 1, 1, 1, 1]], 'attention_mask': [[1, 1, 1, 1, 1, 1, 1, 0], [1, 1, 1, 1, 1, 1, 1, 0], [1, 1, 1, 1, 1, 1, 1, 0], [1, 1, 1, 1, 1, 1, 1, 0], [1, 1, 1, 1, 1, 1, 1, 0], [1, 1, 1, 1, 1, 1, 1, 1], [1, 1, 1, 1, 1, 1, 1, 1]]}"
      ]
     },
     "execution_count": 46,
     "metadata": {},
     "output_type": "execute_result"
    }
   ],
   "source": [
    "base_model = XLMWithLMHeadModel.from_pretrained(PRE_TRAINED_MODEL).to(CUDA_0)\n",
    "l1_encodings = tokenizer(text =l7,text_pair = l8 , truncation=False, padding=True, max_length=MAXTOKENS)\n",
    "l2_encodings = tokenizer(text =l8,text_pair = l7, truncation=False, padding=True, max_length=MAXTOKENS)\n",
    "l2_encodings"
   ]
  },
  {
   "cell_type": "code",
   "execution_count": 47,
   "id": "419a1fa0",
   "metadata": {},
   "outputs": [
    {
     "data": {
      "text/plain": [
       "'<s>انگور </s>हौसला </s><pad>'"
      ]
     },
     "execution_count": 47,
     "metadata": {},
     "output_type": "execute_result"
    }
   ],
   "source": [
    "tokens=[0, 47790, 7657, 1, 179243, 167068, 1, 2]\n",
    "tokenizer.decode(tokens)\n"
   ]
  },
  {
   "cell_type": "code",
   "execution_count": 22,
   "id": "12ba0dad",
   "metadata": {},
   "outputs": [
    {
     "data": {
      "text/plain": [
       "(['छोड़ देना',\n",
       "  'छोड़ देना',\n",
       "  'छोड़ देना',\n",
       "  'छोड़ देना',\n",
       "  'छोड़ देना',\n",
       "  'छोड़ देना',\n",
       "  'छोड़ देना'],\n",
       " ['دست برداشتن از',\n",
       "  'رد کردن',\n",
       "  'دست بردارید',\n",
       "  'رها کردن',\n",
       "  'کویر',\n",
       "  'ترک',\n",
       "  'رها کردن'])"
      ]
     },
     "execution_count": 22,
     "metadata": {},
     "output_type": "execute_result"
    }
   ],
   "source": [
    "l7, l8"
   ]
  },
  {
   "cell_type": "code",
   "execution_count": 38,
   "id": "2ebc5711",
   "metadata": {},
   "outputs": [
    {
     "name": "stderr",
     "output_type": "stream",
     "text": [
      "/s/chopin/d/proj/ramfis-aida/venv/lib/python3.6/site-packages/transformers/tokenization_utils_base.py:2268: UserWarning: `max_length` is ignored when `padding`=`True` and there is no truncation strategy. To pad to max length, use `padding='max_length'`.\n",
      "  \"`max_length` is ignored when `padding`=`True` and there is no truncation strategy. \"\n",
      "Some weights of XLMWithLMHeadModel were not initialized from the model checkpoint at xlm-mlm-100-1280 and are newly initialized: ['transformer.position_ids']\n",
      "You should probably TRAIN this model on a down-stream task to be able to use it for predictions and inference.\n",
      "/s/chopin/d/proj/ramfis-aida/venv/lib/python3.6/site-packages/ipykernel_launcher.py:43: UserWarning: To copy construct from a tensor, it is recommended to use sourceTensor.clone().detach() or sourceTensor.clone().detach().requires_grad_(True), rather than torch.tensor(sourceTensor).\n",
      "/s/chopin/d/proj/ramfis-aida/venv/lib/python3.6/site-packages/ipykernel_launcher.py:44: UserWarning: To copy construct from a tensor, it is recommended to use sourceTensor.clone().detach() or sourceTensor.clone().detach().requires_grad_(True), rather than torch.tensor(sourceTensor).\n"
     ]
    },
    {
     "name": "stdout",
     "output_type": "stream",
     "text": [
      "\n",
      "\n",
      "\n",
      "\n",
      "\n",
      "7\n"
     ]
    }
   ],
   "source": [
    "with torch.no_grad():\n",
    "    #tokenizer = BertTokenizer.from_pretrained(PRE_TRAINED_MODEL)\n",
    "    tokenizer = XLMTokenizer.from_pretrained(PRE_TRAINED_MODEL)\n",
    "    #model = XLMWithLMHeadModel.from_pretrained(\"xlm-mlm-100-1280\")\n",
    "    \n",
    "    tokenizer.model_max_length = MAXTOKENS\n",
    "    #l1_encodings = tokenizer(l7, truncation=True, padding=True, max_length=MAXTOKENS, return_tensors=\"pt\")\n",
    "    #l2_encodings = tokenizer(l8, truncation=True, padding=True, max_length=MAXTOKENS, return_tensors=\"pt\")\n",
    "    l1_encodings = tokenizer(text =l7,text_pair = l8 , truncation=False, padding=True, max_length=MAXTOKENS, return_tensors=\"pt\", return_special_tokens_mask =True)\n",
    "    l2_encodings = tokenizer(text =l8,text_pair = l7, truncation=False, padding=True, max_length=MAXTOKENS, return_tensors=\"pt\", return_special_tokens_mask=True)\n",
    "    dataset = MyDataset(l1_encodings, l2_encodings)\n",
    "    data_loader = DataLoader(dataset, batch_size=BS, shuffle=False)  # shuffle False for reproducibility\n",
    "    base_model = XLMWithLMHeadModel.from_pretrained(PRE_TRAINED_MODEL).to(CUDA_0)\n",
    "    base_model.eval()\n",
    "    cos_s = torch.nn.CosineSimilarity()\n",
    "    print(\"\\n\\n\\n\\n\")\n",
    "    xlm_sim_lst_equi_exp = []\n",
    "    for step, batch in enumerate(data_loader):\n",
    "#         l1_vector = base_model(batch['l1_input_ids'].to(CUDA_0),\n",
    "#                                       attention_mask=batch['l1_attention_mask'].to(CUDA_0),\n",
    "#                                       return_dict=True, output_hidden_states =True) \n",
    "        l1_vector = base_model(batch['l1_input_ids'].to(CUDA_0), output_hidden_states =True)[0]\n",
    "        print(len(l1_vector))\n",
    "#         l2_vector = base_model(batch['l2_input_ids'].to(CUDA_0),\n",
    "#                                       attention_mask=batch['l2_attention_mask'].to(CUDA_0),\n",
    "#                                       return_dict=True, output_hidden_states=True) \n",
    "        l2_vector = base_model(batch['l2_input_ids'].to(CUDA_0), output_hidden_states =True)[0] \n",
    "        #print(l1_vector.hidden_states,l2_vector.hidden_states )\n",
    "        sims = cos_s(l1_vector[:,4,:],l2_vector[:,4,:]).data.cpu().numpy()\n",
    "        xlm_sim_lst_equi_exp.extend(list(sims))\n",
    "#print(len(sim_lst_equi))"
   ]
  },
  {
   "cell_type": "code",
   "execution_count": 39,
   "id": "c459fc93",
   "metadata": {},
   "outputs": [
    {
     "data": {
      "text/plain": [
       "torch.Size([7, 11, 200000])"
      ]
     },
     "execution_count": 39,
     "metadata": {},
     "output_type": "execute_result"
    }
   ],
   "source": [
    "l2_vector.shape"
   ]
  },
  {
   "cell_type": "code",
   "execution_count": null,
   "id": "3a5c35a4",
   "metadata": {},
   "outputs": [],
   "source": []
  },
  {
   "cell_type": "markdown",
   "id": "fc0e586c",
   "metadata": {},
   "source": [
    "# Cosine similarities using XLM layers, middle and last. "
   ]
  },
  {
   "cell_type": "code",
   "execution_count": 67,
   "id": "651eebaf",
   "metadata": {},
   "outputs": [
    {
     "name": "stderr",
     "output_type": "stream",
     "text": [
      "/s/chopin/d/proj/ramfis-aida/venv/lib/python3.6/site-packages/transformers/tokenization_utils_base.py:2268: UserWarning: `max_length` is ignored when `padding`=`True` and there is no truncation strategy. To pad to max length, use `padding='max_length'`.\n",
      "  \"`max_length` is ignored when `padding`=`True` and there is no truncation strategy. \"\n",
      "Some weights of XLMWithLMHeadModel were not initialized from the model checkpoint at xlm-mlm-100-1280 and are newly initialized: ['transformer.position_ids']\n",
      "You should probably TRAIN this model on a down-stream task to be able to use it for predictions and inference.\n"
     ]
    },
    {
     "name": "stdout",
     "output_type": "stream",
     "text": [
      "\n",
      "\n",
      "\n",
      "\n",
      "\n"
     ]
    },
    {
     "name": "stderr",
     "output_type": "stream",
     "text": [
      "/s/chopin/d/proj/ramfis-aida/venv/lib/python3.6/site-packages/ipykernel_launcher.py:43: UserWarning: To copy construct from a tensor, it is recommended to use sourceTensor.clone().detach() or sourceTensor.clone().detach().requires_grad_(True), rather than torch.tensor(sourceTensor).\n",
      "/s/chopin/d/proj/ramfis-aida/venv/lib/python3.6/site-packages/ipykernel_launcher.py:44: UserWarning: To copy construct from a tensor, it is recommended to use sourceTensor.clone().detach() or sourceTensor.clone().detach().requires_grad_(True), rather than torch.tensor(sourceTensor).\n"
     ]
    }
   ],
   "source": [
    "with torch.no_grad():\n",
    "    #tokenizer = BertTokenizer.from_pretrained(PRE_TRAINED_MODEL)\n",
    "    tokenizer = XLMTokenizer.from_pretrained(PRE_TRAINED_MODEL)\n",
    "    #model = XLMWithLMHeadModel.from_pretrained(\"xlm-mlm-100-1280\")\n",
    "    \n",
    "    tokenizer.model_max_length = MAXTOKENS\n",
    "    l1_encodings = tokenizer(l5, truncation=False, padding=True, max_length=MAXTOKENS, return_tensors=\"pt\", return_special_tokens_mask =True)\n",
    "    l2_encodings = tokenizer(l6, truncation=False, padding=True, max_length=MAXTOKENS, return_tensors=\"pt\", return_special_tokens_mask =True)\n",
    "    #l1_encodings = tokenizer(text =l5,text_pair = l6 , truncation=False, padding=True, max_length=MAXTOKENS, return_tensors=\"pt\", return_special_tokens_mask =True)\n",
    "    #l2_encodings = tokenizer(text =l6,text_pair = l5, truncation=False, padding=True, max_length=MAXTOKENS, return_tensors=\"pt\", return_special_tokens_mask=True)\n",
    "    \n",
    "    dataset = MyDataset(l1_encodings, l2_encodings)\n",
    "    data_loader = DataLoader(dataset, batch_size=BS, shuffle=False)  # shuffle False for reproducibility\n",
    "    base_model = XLMWithLMHeadModel.from_pretrained(PRE_TRAINED_MODEL).to(CUDA_0)\n",
    "    base_model.eval()\n",
    "    cos_s = torch.nn.CosineSimilarity()\n",
    "    print(\"\\n\\n\\n\\n\")\n",
    "    xlm_sim_lst_equi = []\n",
    "    for step, batch in enumerate(data_loader):\n",
    "#         l1_vector = base_model(batch['l1_input_ids'].to(CUDA_0),\n",
    "#                                       attention_mask=batch['l1_attention_mask'].to(CUDA_0),\n",
    "#                                       return_dict=True, output_hidden_states =True) \n",
    "        l1_vector = base_model(batch['l1_input_ids'].to(CUDA_0),output_hidden_states =True )[0] \n",
    "#         l2_vector = base_model(batch['l2_input_ids'].to(CUDA_0),\n",
    "#                                       attention_mask=batch['l2_attention_mask'].to(CUDA_0),\n",
    "#                                       return_dict=True, output_hidden_states=True) \n",
    "        l2_vector = base_model(batch['l2_input_ids'].to(CUDA_0), output_hidden_states =True) [0]\n",
    "        #print(l1_vector[0][0].shape,l2_vector[1].shape )\n",
    "        sims = cos_s(l1_vector[:,0,:],l2_vector[:,0,:]).data.cpu().numpy()\n",
    "        xlm_sim_lst_equi.extend(list(sims))\n",
    "#print(len(sim_lst_equi))\n",
    "      # print(\"Similarities: \")\n",
    "      # for i in range(len(sims)):\n",
    "      #   print(l1[i], ' and ', l2[i], ' : ', sims[i])"
   ]
  },
  {
   "cell_type": "code",
   "execution_count": 65,
   "id": "5c1c0514",
   "metadata": {},
   "outputs": [
    {
     "data": {
      "text/plain": [
       "torch.Size([2, 14, 200000])"
      ]
     },
     "execution_count": 65,
     "metadata": {},
     "output_type": "execute_result"
    }
   ],
   "source": [
    "l2_vector.shape"
   ]
  },
  {
   "cell_type": "markdown",
   "id": "84463009",
   "metadata": {},
   "source": [
    "# Random words Cosine sim using SOS token no clear threshold/separation between equivalent words, no truncation "
   ]
  },
  {
   "cell_type": "code",
   "execution_count": 53,
   "id": "03d8ec19",
   "metadata": {},
   "outputs": [
    {
     "name": "stderr",
     "output_type": "stream",
     "text": [
      "/s/chopin/d/proj/ramfis-aida/venv/lib/python3.6/site-packages/seaborn/distributions.py:2619: FutureWarning: `distplot` is a deprecated function and will be removed in a future version. Please adapt your code to use either `displot` (a figure-level function with similar flexibility) or `histplot` (an axes-level function for histograms).\n",
      "  warnings.warn(msg, FutureWarning)\n"
     ]
    },
    {
     "data": {
      "text/plain": [
       "<AxesSubplot:ylabel='Density'>"
      ]
     },
     "execution_count": 53,
     "metadata": {},
     "output_type": "execute_result"
    },
    {
     "data": {
      "image/png": "[encoded data removed]",
      "text/plain": [
       "<Figure size 432x288 with 1 Axes>"
      ]
     },
     "metadata": {},
     "output_type": "display_data"
    }
   ],
   "source": [
    "import seaborn as sns\n",
    "\n",
    "sns.set_style('darkgrid')\n",
    "sns.distplot(xlm_sim_lst_equi)"
   ]
  },
  {
   "cell_type": "markdown",
   "id": "95aa14ad",
   "metadata": {},
   "source": [
    "# Equivalent words Cosine sim using BOS/classification  token no clear threshold/separation between equivalent words, no truncation "
   ]
  },
  {
   "cell_type": "code",
   "execution_count": 68,
   "id": "362d47a3",
   "metadata": {},
   "outputs": [
    {
     "name": "stderr",
     "output_type": "stream",
     "text": [
      "/s/chopin/d/proj/ramfis-aida/venv/lib/python3.6/site-packages/seaborn/distributions.py:2619: FutureWarning: `distplot` is a deprecated function and will be removed in a future version. Please adapt your code to use either `displot` (a figure-level function with similar flexibility) or `histplot` (an axes-level function for histograms).\n",
      "  warnings.warn(msg, FutureWarning)\n"
     ]
    },
    {
     "data": {
      "text/plain": [
       "<AxesSubplot:ylabel='Density'>"
      ]
     },
     "execution_count": 68,
     "metadata": {},
     "output_type": "execute_result"
    },
    {
     "data": {
      "image/png": "[encoded data removed]",
      "text/plain": [
       "<Figure size 432x288 with 1 Axes>"
      ]
     },
     "metadata": {},
     "output_type": "display_data"
    }
   ],
   "source": [
    "import seaborn as sns\n",
    "\n",
    "sns.set_style('darkgrid')\n",
    "sns.distplot(xlm_sim_lst_equi)"
   ]
  },
  {
   "cell_type": "markdown",
   "id": "0b96f880",
   "metadata": {},
   "source": [
    "# Equivalent words Cosine sim using middle token, some threshold emerges between cosine sims , no truncation of words"
   ]
  },
  {
   "cell_type": "code",
   "execution_count": 66,
   "id": "4301aaf1",
   "metadata": {},
   "outputs": [
    {
     "name": "stderr",
     "output_type": "stream",
     "text": [
      "/s/chopin/d/proj/ramfis-aida/venv/lib/python3.6/site-packages/seaborn/distributions.py:2619: FutureWarning: `distplot` is a deprecated function and will be removed in a future version. Please adapt your code to use either `displot` (a figure-level function with similar flexibility) or `histplot` (an axes-level function for histograms).\n",
      "  warnings.warn(msg, FutureWarning)\n"
     ]
    },
    {
     "data": {
      "text/plain": [
       "<AxesSubplot:ylabel='Density'>"
      ]
     },
     "execution_count": 66,
     "metadata": {},
     "output_type": "execute_result"
    },
    {
     "data": {
      "image/png": "[encoded data removed]",
      "text/plain": [
       "<Figure size 432x288 with 1 Axes>"
      ]
     },
     "metadata": {},
     "output_type": "display_data"
    }
   ],
   "source": [
    "import seaborn as sns\n",
    "\n",
    "sns.set_style('darkgrid')\n",
    "sns.distplot(xlm_sim_lst_equi)"
   ]
  },
  {
   "cell_type": "markdown",
   "id": "e9974197",
   "metadata": {},
   "source": [
    "# Equivalent words Cosine sim using EOS token, huge peak with cos sim of 1 , no truncation of words"
   ]
  },
  {
   "cell_type": "code",
   "execution_count": 63,
   "id": "252b636b",
   "metadata": {},
   "outputs": [
    {
     "name": "stderr",
     "output_type": "stream",
     "text": [
      "/s/chopin/d/proj/ramfis-aida/venv/lib/python3.6/site-packages/seaborn/distributions.py:2619: FutureWarning: `distplot` is a deprecated function and will be removed in a future version. Please adapt your code to use either `displot` (a figure-level function with similar flexibility) or `histplot` (an axes-level function for histograms).\n",
      "  warnings.warn(msg, FutureWarning)\n"
     ]
    },
    {
     "data": {
      "text/plain": [
       "<AxesSubplot:ylabel='Density'>"
      ]
     },
     "execution_count": 63,
     "metadata": {},
     "output_type": "execute_result"
    },
    {
     "data": {
      "image/png": "[encoded data removed]",
      "text/plain": [
       "<Figure size 432x288 with 1 Axes>"
      ]
     },
     "metadata": {},
     "output_type": "display_data"
    }
   ],
   "source": [
    "import seaborn as sns\n",
    "\n",
    "sns.set_style('darkgrid')\n",
    "sns.distplot(xlm_sim_lst_equi)"
   ]
  },
  {
   "cell_type": "code",
   "execution_count": 83,
   "id": "101d3df5",
   "metadata": {},
   "outputs": [
    {
     "data": {
      "text/html": [
       "<div>\n",
       "<style scoped>\n",
       "    .dataframe tbody tr th:only-of-type {\n",
       "        vertical-align: middle;\n",
       "    }\n",
       "\n",
       "    .dataframe tbody tr th {\n",
       "        vertical-align: top;\n",
       "    }\n",
       "\n",
       "    .dataframe thead th {\n",
       "        text-align: right;\n",
       "    }\n",
       "</style>\n",
       "<table border=\"1\" class=\"dataframe\">\n",
       "  <thead>\n",
       "    <tr style=\"text-align: right;\">\n",
       "      <th></th>\n",
       "      <th>loan_word</th>\n",
       "      <th>original_word</th>\n",
       "      <th>loan_word_epitran</th>\n",
       "      <th>original_word_epitran</th>\n",
       "      <th>Fast Levenshtein</th>\n",
       "      <th>Dolgo Prime Distance</th>\n",
       "      <th>Feature Edit Distance</th>\n",
       "      <th>Hamming Feature Distance</th>\n",
       "      <th>Weighted Feature Distance</th>\n",
       "      <th>Fast Levenshtein Distance Div Maxlen</th>\n",
       "      <th>xlm_cos_similarity</th>\n",
       "      <th>mbert_cos_similarity</th>\n",
       "    </tr>\n",
       "  </thead>\n",
       "  <tbody>\n",
       "    <tr>\n",
       "      <th>0</th>\n",
       "      <td>छोड़ देना</td>\n",
       "      <td>دست برداشتن از</td>\n",
       "      <td>t͡ʃʰoɽə denaː</td>\n",
       "      <td>dst brdɒʃtn ɒz</td>\n",
       "      <td>0.928571</td>\n",
       "      <td>0.500000</td>\n",
       "      <td>0.352679</td>\n",
       "      <td>0.383929</td>\n",
       "      <td>3.750000</td>\n",
       "      <td>0.928571</td>\n",
       "      <td>0.485205</td>\n",
       "      <td>0.379804</td>\n",
       "    </tr>\n",
       "    <tr>\n",
       "      <th>1</th>\n",
       "      <td>छोड़ देना</td>\n",
       "      <td>رد کردن</td>\n",
       "      <td>t͡ʃʰoɽə denaː</td>\n",
       "      <td>rd krdn</td>\n",
       "      <td>0.846154</td>\n",
       "      <td>0.461538</td>\n",
       "      <td>0.232372</td>\n",
       "      <td>0.275641</td>\n",
       "      <td>3.048077</td>\n",
       "      <td>0.846154</td>\n",
       "      <td>0.340752</td>\n",
       "      <td>0.527307</td>\n",
       "    </tr>\n",
       "    <tr>\n",
       "      <th>2</th>\n",
       "      <td>छोड़ देना</td>\n",
       "      <td>دست بردارید</td>\n",
       "      <td>t͡ʃʰoɽə denaː</td>\n",
       "      <td>dst brdɒrjd</td>\n",
       "      <td>0.923077</td>\n",
       "      <td>0.615385</td>\n",
       "      <td>0.258013</td>\n",
       "      <td>0.301282</td>\n",
       "      <td>3.317308</td>\n",
       "      <td>0.923077</td>\n",
       "      <td>0.617882</td>\n",
       "      <td>0.498394</td>\n",
       "    </tr>\n",
       "    <tr>\n",
       "      <th>3</th>\n",
       "      <td>छोड़ देना</td>\n",
       "      <td>رها کردن</td>\n",
       "      <td>t͡ʃʰoɽə denaː</td>\n",
       "      <td>rhɒ krdn</td>\n",
       "      <td>0.846154</td>\n",
       "      <td>0.461538</td>\n",
       "      <td>0.190705</td>\n",
       "      <td>0.230769</td>\n",
       "      <td>2.615385</td>\n",
       "      <td>0.846154</td>\n",
       "      <td>0.407228</td>\n",
       "      <td>0.540521</td>\n",
       "    </tr>\n",
       "    <tr>\n",
       "      <th>4</th>\n",
       "      <td>छोड़ देना</td>\n",
       "      <td>کویر</td>\n",
       "      <td>t͡ʃʰoɽə denaː</td>\n",
       "      <td>kvjr</td>\n",
       "      <td>1.000000</td>\n",
       "      <td>0.461538</td>\n",
       "      <td>0.323718</td>\n",
       "      <td>0.375000</td>\n",
       "      <td>3.000000</td>\n",
       "      <td>1.000000</td>\n",
       "      <td>0.619039</td>\n",
       "      <td>0.476639</td>\n",
       "    </tr>\n",
       "    <tr>\n",
       "      <th>...</th>\n",
       "      <td>...</td>\n",
       "      <td>...</td>\n",
       "      <td>...</td>\n",
       "      <td>...</td>\n",
       "      <td>...</td>\n",
       "      <td>...</td>\n",
       "      <td>...</td>\n",
       "      <td>...</td>\n",
       "      <td>...</td>\n",
       "      <td>...</td>\n",
       "      <td>...</td>\n",
       "      <td>...</td>\n",
       "    </tr>\n",
       "    <tr>\n",
       "      <th>8445</th>\n",
       "      <td>उमंग</td>\n",
       "      <td>اشتیاق</td>\n",
       "      <td>uməŋɡə</td>\n",
       "      <td>ɒʃtjɒɣ</td>\n",
       "      <td>1.000000</td>\n",
       "      <td>0.833333</td>\n",
       "      <td>0.250000</td>\n",
       "      <td>0.277778</td>\n",
       "      <td>5.270833</td>\n",
       "      <td>1.000000</td>\n",
       "      <td>0.817665</td>\n",
       "      <td>0.377121</td>\n",
       "    </tr>\n",
       "    <tr>\n",
       "      <th>8446</th>\n",
       "      <td>परोक्ष</td>\n",
       "      <td>مورب</td>\n",
       "      <td>pərokʂə</td>\n",
       "      <td>mvrb</td>\n",
       "      <td>0.857143</td>\n",
       "      <td>0.857143</td>\n",
       "      <td>0.473214</td>\n",
       "      <td>0.523810</td>\n",
       "      <td>4.892857</td>\n",
       "      <td>0.857143</td>\n",
       "      <td>0.681220</td>\n",
       "      <td>0.496681</td>\n",
       "    </tr>\n",
       "    <tr>\n",
       "      <th>8447</th>\n",
       "      <td>परोक्ष</td>\n",
       "      <td>خودسر</td>\n",
       "      <td>pərokʂə</td>\n",
       "      <td>xvdsr</td>\n",
       "      <td>1.000000</td>\n",
       "      <td>0.857143</td>\n",
       "      <td>0.392857</td>\n",
       "      <td>0.464286</td>\n",
       "      <td>4.375000</td>\n",
       "      <td>1.000000</td>\n",
       "      <td>0.802228</td>\n",
       "      <td>0.564824</td>\n",
       "    </tr>\n",
       "    <tr>\n",
       "      <th>8448</th>\n",
       "      <td>स्वच्छंद</td>\n",
       "      <td>مورب</td>\n",
       "      <td>svət͡ʃt͡ʃʰəndə</td>\n",
       "      <td>mvrb</td>\n",
       "      <td>0.928571</td>\n",
       "      <td>0.571429</td>\n",
       "      <td>0.361607</td>\n",
       "      <td>0.404762</td>\n",
       "      <td>3.196429</td>\n",
       "      <td>0.928571</td>\n",
       "      <td>0.616180</td>\n",
       "      <td>0.521830</td>\n",
       "    </tr>\n",
       "    <tr>\n",
       "      <th>8449</th>\n",
       "      <td>स्वच्छंद</td>\n",
       "      <td>خودسر</td>\n",
       "      <td>svət͡ʃt͡ʃʰəndə</td>\n",
       "      <td>xvdsr</td>\n",
       "      <td>0.928571</td>\n",
       "      <td>0.500000</td>\n",
       "      <td>0.303571</td>\n",
       "      <td>0.342262</td>\n",
       "      <td>2.687500</td>\n",
       "      <td>0.928571</td>\n",
       "      <td>0.804649</td>\n",
       "      <td>0.519549</td>\n",
       "    </tr>\n",
       "  </tbody>\n",
       "</table>\n",
       "<p>8450 rows × 12 columns</p>\n",
       "</div>"
      ],
      "text/plain": [
       "      loan_word   original_word loan_word_epitran original_word_epitran  \\\n",
       "0     छोड़ देना  دست برداشتن از     t͡ʃʰoɽə denaː        dst brdɒʃtn ɒz   \n",
       "1     छोड़ देना         رد کردن     t͡ʃʰoɽə denaː               rd krdn   \n",
       "2     छोड़ देना     دست بردارید     t͡ʃʰoɽə denaː           dst brdɒrjd   \n",
       "3     छोड़ देना        رها کردن     t͡ʃʰoɽə denaː              rhɒ krdn   \n",
       "4     छोड़ देना            کویر     t͡ʃʰoɽə denaː                  kvjr   \n",
       "...         ...             ...               ...                   ...   \n",
       "8445       उमंग          اشتیاق            uməŋɡə                ɒʃtjɒɣ   \n",
       "8446     परोक्ष            مورب           pərokʂə                  mvrb   \n",
       "8447     परोक्ष           خودسر           pərokʂə                 xvdsr   \n",
       "8448   स्वच्छंद            مورب    svət͡ʃt͡ʃʰəndə                  mvrb   \n",
       "8449   स्वच्छंद           خودسر    svət͡ʃt͡ʃʰəndə                 xvdsr   \n",
       "\n",
       "      Fast Levenshtein  Dolgo Prime Distance  Feature Edit Distance  \\\n",
       "0             0.928571              0.500000               0.352679   \n",
       "1             0.846154              0.461538               0.232372   \n",
       "2             0.923077              0.615385               0.258013   \n",
       "3             0.846154              0.461538               0.190705   \n",
       "4             1.000000              0.461538               0.323718   \n",
       "...                ...                   ...                    ...   \n",
       "8445          1.000000              0.833333               0.250000   \n",
       "8446          0.857143              0.857143               0.473214   \n",
       "8447          1.000000              0.857143               0.392857   \n",
       "8448          0.928571              0.571429               0.361607   \n",
       "8449          0.928571              0.500000               0.303571   \n",
       "\n",
       "      Hamming Feature Distance  Weighted Feature Distance  \\\n",
       "0                     0.383929                   3.750000   \n",
       "1                     0.275641                   3.048077   \n",
       "2                     0.301282                   3.317308   \n",
       "3                     0.230769                   2.615385   \n",
       "4                     0.375000                   3.000000   \n",
       "...                        ...                        ...   \n",
       "8445                  0.277778                   5.270833   \n",
       "8446                  0.523810                   4.892857   \n",
       "8447                  0.464286                   4.375000   \n",
       "8448                  0.404762                   3.196429   \n",
       "8449                  0.342262                   2.687500   \n",
       "\n",
       "      Fast Levenshtein Distance Div Maxlen  xlm_cos_similarity  \\\n",
       "0                                 0.928571            0.485205   \n",
       "1                                 0.846154            0.340752   \n",
       "2                                 0.923077            0.617882   \n",
       "3                                 0.846154            0.407228   \n",
       "4                                 1.000000            0.619039   \n",
       "...                                    ...                 ...   \n",
       "8445                              1.000000            0.817665   \n",
       "8446                              0.857143            0.681220   \n",
       "8447                              1.000000            0.802228   \n",
       "8448                              0.928571            0.616180   \n",
       "8449                              0.928571            0.804649   \n",
       "\n",
       "      mbert_cos_similarity  \n",
       "0                 0.379804  \n",
       "1                 0.527307  \n",
       "2                 0.498394  \n",
       "3                 0.540521  \n",
       "4                 0.476639  \n",
       "...                    ...  \n",
       "8445              0.377121  \n",
       "8446              0.496681  \n",
       "8447              0.564824  \n",
       "8448              0.521830  \n",
       "8449              0.519549  \n",
       "\n",
       "[8450 rows x 12 columns]"
      ]
     },
     "execution_count": 83,
     "metadata": {},
     "output_type": "execute_result"
    }
   ],
   "source": [
    "equiv[\"xlm_cos_similarity\"] = xlm_sim_lst_equi\n",
    "equiv[\"mbert_cos_similarity\"] =sim_lst\n",
    "equiv "
   ]
  },
  {
   "cell_type": "markdown",
   "id": "d3637962",
   "metadata": {},
   "source": [
    "# Mean and Std for XLM cos sim"
   ]
  },
  {
   "cell_type": "code",
   "execution_count": 87,
   "id": "c95971af",
   "metadata": {},
   "outputs": [
    {
     "name": "stdout",
     "output_type": "stream",
     "text": [
      "ordered_mean:  0.58425415\n",
      "ordered_std:  0.15521835\n"
     ]
    }
   ],
   "source": [
    "ordered_mean = np.mean(xlm_sim_lst_equi)\n",
    " \n",
    "ordered_std = np.std(xlm_sim_lst_equi)\n",
    " \n",
    "print(\"ordered_mean: \", ordered_mean)\n",
    " \n",
    "print(\"ordered_std: \", ordered_std)"
   ]
  },
  {
   "cell_type": "markdown",
   "id": "5911f66b",
   "metadata": {},
   "source": [
    "# Mean and Std for mbert cos sim"
   ]
  },
  {
   "cell_type": "code",
   "execution_count": 85,
   "id": "a95b2a50",
   "metadata": {},
   "outputs": [
    {
     "name": "stdout",
     "output_type": "stream",
     "text": [
      "ordered_mean:  0.43527302\n",
      "ordered_std:  0.08650125\n"
     ]
    }
   ],
   "source": [
    "ordered_mean = np.mean(sim_lst)\n",
    " \n",
    "ordered_std = np.std(sim_lst)\n",
    " \n",
    "print(\"ordered_mean: \", ordered_mean)\n",
    " \n",
    "print(\"ordered_std: \", ordered_std)"
   ]
  },
  {
   "cell_type": "markdown",
   "id": "818b1974",
   "metadata": {},
   "source": [
    "# Outliers from Z score for XLM cos sim"
   ]
  },
  {
   "cell_type": "code",
   "execution_count": 88,
   "id": "189c0562",
   "metadata": {},
   "outputs": [
    {
     "name": "stdout",
     "output_type": "stream",
     "text": [
      "outlier indices are [9, 31, 44, 53, 75, 77, 86, 97, 100, 108, 183, 201, 215, 229, 230, 231, 233, 239, 327, 329, 333, 351, 357, 363, 485, 488, 499, 506, 513, 523, 533, 538, 588, 606, 624, 637, 645, 653, 661, 677, 693, 708, 821, 832, 837, 843, 854, 876, 971, 976, 979, 989, 995, 1001, 1007, 1014, 1021, 1028, 1042, 1049, 1057, 1123, 1243, 1262, 1274, 1300, 1318, 1324, 1353, 1357, 1368, 1372, 1373, 1377, 1435, 1444, 1445, 1467, 1469, 1538, 1613, 1670, 1710, 1712, 1741, 1878, 1882, 1883, 1884, 1885, 1908, 1912, 1913, 1914, 1915, 1970, 1974, 1992, 2019, 2244, 2245, 2248, 2253, 2254, 2255, 2257, 2297, 2298, 2300, 2304, 2306, 2325, 2327, 2328, 2346, 2348, 2349, 2377, 2412, 2461, 2463, 2468, 2469, 2487, 2493, 2499, 2519, 2528, 2621, 2628, 2633, 2715, 2732, 2735, 2736, 2739, 2844, 2847, 2897, 2988, 3020, 3090, 3092, 3121, 3123, 3125, 3130, 3132, 3134, 3288, 3289, 3319, 3320, 3321, 3351, 3359, 3367, 3389, 3453, 3615, 3664, 3667, 3674, 3681, 3688, 3695, 3709, 3799, 3951, 3976, 4065, 4183, 4200, 4214, 4221, 4237, 4325, 4329, 4330, 4331, 4341, 4346, 4351, 4355, 4356, 4447, 4449, 4476, 4487, 4489, 4500, 4509, 4547, 4549, 4589, 4591, 4593, 4597, 4643, 4711, 4746, 4748, 4981, 4988, 4992, 4995, 5017, 5019, 5029, 5071, 5103, 5151, 5158, 5163, 5168, 5292, 5353, 5357, 5413, 5628, 5669, 5670, 5678, 5685, 5692, 5714, 5716, 5723, 5753, 5802, 5803, 5813, 5814, 5835, 5891, 5949, 5996, 6000, 6062, 6118, 6120, 6122, 6209, 6213, 6221, 6245, 6246, 6247, 6249, 6250, 6259, 6260, 6261, 6263, 6264, 6273, 6274, 6275, 6277, 6278, 6280, 6281, 6282, 6284, 6285, 6287, 6288, 6289, 6291, 6292, 6365, 6370, 6394, 6400, 6461, 6493, 6496, 6497, 6526, 6547, 6549, 6567, 6578, 6600, 6622, 6633, 6644, 6650, 6651, 6655, 6666, 6771, 6779, 6891, 6896, 6898, 6970, 6972, 6990, 6992, 6993, 7014, 7044, 7046, 7048, 7050, 7105, 7114, 7213, 7323, 7324, 7325, 7326, 7369, 7370, 7414, 7415, 7513, 7518, 7525, 7667, 7721, 7758, 7764, 7776, 7784, 7787, 7801, 7808, 7829, 7836, 7840, 7843, 7847, 7850, 7851, 7861, 7868, 7875, 7997, 8221, 8223, 8240, 8245, 8284, 8308, 8316, 8332, 8418, 8426, 8428, 8430, 8432] 353\n"
     ]
    }
   ],
   "source": [
    "threshold = 2\n",
    "xlm_ordered_outlier_idx = []\n",
    "for i in range(len(xlm_sim_lst_equi)):\n",
    "    z = abs(xlm_sim_lst_equi[i]-ordered_mean)/ordered_std\n",
    "    if z > threshold:\n",
    "        xlm_ordered_outlier_idx.append(i)\n",
    "print('outlier indices are', xlm_ordered_outlier_idx, len(xlm_ordered_outlier_idx))"
   ]
  },
  {
   "cell_type": "code",
   "execution_count": 89,
   "id": "e4e3b3f8",
   "metadata": {},
   "outputs": [],
   "source": [
    "xlm_equiv_outlier = equiv.loc[xlm_ordered_outlier_idx]\n"
   ]
  },
  {
   "cell_type": "markdown",
   "id": "91e64d1f",
   "metadata": {},
   "source": [
    "# Outliers with low cos sim from XLM and Mbert"
   ]
  },
  {
   "cell_type": "code",
   "execution_count": 117,
   "id": "ba73e407",
   "metadata": {},
   "outputs": [],
   "source": [
    "equiv_outlier_lowcos = xlm_equiv_outlier.loc[(xlm_equiv_outlier['xlm_cos_similarity'] <0.35) & (xlm_equiv_outlier['mbert_cos_similarity']<0.35)]\n",
    "equiv_outlier_lowcos.to_csv('Outliers_XLM_Mbert_lowcosim.csv')"
   ]
  },
  {
   "cell_type": "code",
   "execution_count": 112,
   "id": "e39be1da",
   "metadata": {},
   "outputs": [
    {
     "data": {
      "image/png": "[encoded data removed]",
      "text/plain": [
       "<Figure size 1224x720 with 6 Axes>"
      ]
     },
     "metadata": {
      "needs_background": "light"
     },
     "output_type": "display_data"
    }
   ],
   "source": [
    "\n",
    "f, axs = plt.subplots(len(dist_arr), len(dist_arr[0]), figsize=(17,10))\n",
    "for i in range(len(dist_arr)):\n",
    "    for j in range(len(dist_arr[0])):\n",
    "        sns.kdeplot(data= equiv_outlier_lowcos, x=dist_arr[i,j], shade=1, ax=axs[i][j], legend=True)"
   ]
  },
  {
   "cell_type": "markdown",
   "id": "8f1bb825",
   "metadata": {},
   "source": [
    "# Outliers with high cos sim from XLM and Mbert"
   ]
  },
  {
   "cell_type": "code",
   "execution_count": null,
   "id": "02ae6b2b",
   "metadata": {},
   "outputs": [],
   "source": []
  },
  {
   "cell_type": "code",
   "execution_count": 118,
   "id": "b60c0ff4",
   "metadata": {},
   "outputs": [],
   "source": [
    "equiv_outlier_highcos = equiv.loc[(equiv['xlm_cos_similarity'] >0.68) & (equiv['mbert_cos_similarity']>0.6)]\n",
    "equiv_outlier_highcos.to_csv('Outliers_XLM_Mbert_highcosim.csv')"
   ]
  },
  {
   "cell_type": "code",
   "execution_count": 115,
   "id": "58911c48",
   "metadata": {},
   "outputs": [
    {
     "name": "stderr",
     "output_type": "stream",
     "text": [
      "/s/chopin/d/proj/ramfis-aida/venv/lib/python3.6/site-packages/seaborn/distributions.py:2619: FutureWarning: `distplot` is a deprecated function and will be removed in a future version. Please adapt your code to use either `displot` (a figure-level function with similar flexibility) or `histplot` (an axes-level function for histograms).\n",
      "  warnings.warn(msg, FutureWarning)\n"
     ]
    },
    {
     "data": {
      "text/plain": [
       "<AxesSubplot:xlabel='xlm_cos_similarity', ylabel='Density'>"
      ]
     },
     "execution_count": 115,
     "metadata": {},
     "output_type": "execute_result"
    },
    {
     "data": {
      "image/png": "[encoded data removed]",
      "text/plain": [
       "<Figure size 432x288 with 1 Axes>"
      ]
     },
     "metadata": {
      "needs_background": "light"
     },
     "output_type": "display_data"
    }
   ],
   "source": [
    "sns.distplot(equiv_outlier_highcos['xlm_cos_similarity'])"
   ]
  },
  {
   "cell_type": "code",
   "execution_count": 116,
   "id": "39a968aa",
   "metadata": {},
   "outputs": [
    {
     "data": {
      "image/png": "[encoded data removed]",
      "text/plain": [
       "<Figure size 1224x720 with 6 Axes>"
      ]
     },
     "metadata": {
      "needs_background": "light"
     },
     "output_type": "display_data"
    }
   ],
   "source": [
    "f, axs = plt.subplots(len(dist_arr), len(dist_arr[0]), figsize=(17,10))\n",
    "for i in range(len(dist_arr)):\n",
    "    for j in range(len(dist_arr[0])):\n",
    "        sns.kdeplot(data= equiv_outlier_highcos, x=dist_arr[i,j], shade=1, ax=axs[i][j], legend=True)"
   ]
  },
  {
   "cell_type": "code",
   "execution_count": null,
   "id": "52095ab2",
   "metadata": {},
   "outputs": [],
   "source": []
  },
  {
   "cell_type": "code",
   "execution_count": null,
   "id": "eec1b042",
   "metadata": {},
   "outputs": [],
   "source": []
  },
  {
   "cell_type": "code",
   "execution_count": null,
   "id": "58abac5e",
   "metadata": {},
   "outputs": [],
   "source": []
  },
  {
   "cell_type": "code",
   "execution_count": null,
   "id": "f8713296",
   "metadata": {},
   "outputs": [],
   "source": []
  },
  {
   "cell_type": "code",
   "execution_count": null,
   "id": "365b227b",
   "metadata": {},
   "outputs": [],
   "source": [
    "xlm_equiv_outlier_lowcos = equiv.loc[equiv['xlm_cos_similarity'] <0.23]\n",
    "xlm_equiv_outlier_lowcos"
   ]
  },
  {
   "cell_type": "code",
   "execution_count": null,
   "id": "5015052d",
   "metadata": {},
   "outputs": [],
   "source": [
    "xlm_equiv_outlier_highcos = equiv.loc[equiv['xlm_cos_similarity'] ==1]\n",
    "xlm_equiv_outlier_highcos "
   ]
  },
  {
   "cell_type": "code",
   "execution_count": null,
   "id": "851c7344",
   "metadata": {},
   "outputs": [],
   "source": []
  },
  {
   "cell_type": "code",
   "execution_count": null,
   "id": "bafaf9e9",
   "metadata": {},
   "outputs": [],
   "source": []
  },
  {
   "cell_type": "code",
   "execution_count": null,
   "id": "b7db506b",
   "metadata": {},
   "outputs": [],
   "source": []
  },
  {
   "cell_type": "code",
   "execution_count": null,
   "id": "c4c206bf",
   "metadata": {},
   "outputs": [],
   "source": [
    "equiv[\"xlm_cos_similarity\"] = xlm_sim_lst_equi"
   ]
  },
  {
   "cell_type": "code",
   "execution_count": null,
   "id": "77bc18d6",
   "metadata": {},
   "outputs": [],
   "source": [
    "equiv"
   ]
  },
  {
   "cell_type": "code",
   "execution_count": null,
   "id": "435a2e3f",
   "metadata": {},
   "outputs": [],
   "source": []
  },
  {
   "cell_type": "code",
   "execution_count": null,
   "id": "0bfb71d4",
   "metadata": {},
   "outputs": [],
   "source": []
  },
  {
   "cell_type": "markdown",
   "id": "955de00f",
   "metadata": {},
   "source": [
    "# Cosine similarity and Outliers using M-bert cased"
   ]
  },
  {
   "cell_type": "code",
   "execution_count": null,
   "id": "69cb742f",
   "metadata": {},
   "outputs": [],
   "source": [
    "import seaborn as sns\n",
    "\n",
    "sns.set_style('darkgrid')\n",
    "sns.distplot(sim_lst_equi)"
   ]
  },
  {
   "cell_type": "code",
   "execution_count": null,
   "id": "94dda76b",
   "metadata": {},
   "outputs": [],
   "source": [
    "equiv[\"cos_similarity\"] = sim_lst_equi"
   ]
  },
  {
   "cell_type": "code",
   "execution_count": null,
   "id": "ad837a17",
   "metadata": {},
   "outputs": [],
   "source": [
    "ordered_mean = np.mean(sim_lst_equi)\n",
    " \n",
    "ordered_std = np.std(sim_lst_equi)\n",
    " \n",
    "print(\"ordered_mean: \", ordered_mean)\n",
    " \n",
    "print(\"ordered_std: \", ordered_std)\n",
    " "
   ]
  },
  {
   "cell_type": "code",
   "execution_count": null,
   "id": "1ac8aa17",
   "metadata": {},
   "outputs": [],
   "source": [
    "threshold = 2\n",
    "ordered_outlier_idx = []\n",
    "for i in range(len(sim_lst_equi)):\n",
    "    z = abs(sim_lst_equi[i]-ordered_mean)/ordered_std\n",
    "    if z > threshold:\n",
    "        ordered_outlier_idx.append(i)\n",
    "print('outlier indice are', ordered_outlier_idx)"
   ]
  },
  {
   "cell_type": "code",
   "execution_count": null,
   "id": "445a42ac",
   "metadata": {},
   "outputs": [],
   "source": [
    "len(ordered_outlier_idx)"
   ]
  },
  {
   "cell_type": "code",
   "execution_count": null,
   "id": "1fa93b61",
   "metadata": {},
   "outputs": [],
   "source": [
    "equov_outlier = equiv.loc[ordered_outlier_idx]"
   ]
  },
  {
   "cell_type": "code",
   "execution_count": null,
   "id": "fd2afb38",
   "metadata": {},
   "outputs": [],
   "source": [
    "equov_outlier"
   ]
  },
  {
   "cell_type": "code",
   "execution_count": null,
   "id": "40c45ac5",
   "metadata": {},
   "outputs": [],
   "source": [
    "sns.distplot(equov_outlier['cos_similarity'])"
   ]
  },
  {
   "cell_type": "code",
   "execution_count": null,
   "id": "f275e215",
   "metadata": {},
   "outputs": [],
   "source": [
    "equiv_outlier_lowcos = equov_outlier.loc[equov_outlier['cos_similarity'] <0.23]\n",
    "equiv_outlier_lowcos.columns"
   ]
  },
  {
   "cell_type": "code",
   "execution_count": null,
   "id": "426b4931",
   "metadata": {},
   "outputs": [],
   "source": [
    "equiv_outlier_lowcos[[c for c in equiv_outlier_lowcos.columns if c in edit_dists_names]]\n",
    "equiv_outlier_lowcos = equiv_outlier_lowcos[[*edit_dists_names]]"
   ]
  },
  {
   "cell_type": "code",
   "execution_count": 105,
   "id": "8c95fd08",
   "metadata": {},
   "outputs": [
    {
     "data": {
      "text/plain": [
       "array([['Fast Levenshtein', 'Dolgo Prime Distance',\n",
       "        'Feature Edit Distance'],\n",
       "       ['Hamming Feature Distance', 'Weighted Feature Distance',\n",
       "        'Fast Levenshtein Distance Div Maxlen']], dtype='<U36')"
      ]
     },
     "execution_count": 105,
     "metadata": {},
     "output_type": "execute_result"
    }
   ],
   "source": [
    "edit_dists_names = ['Fast Levenshtein', 'Dolgo Prime Distance',\n",
    "       'Feature Edit Distance', 'Hamming Feature Distance',\n",
    "       'Weighted Feature Distance', 'Fast Levenshtein Distance Div Maxlen',\n",
    "        ]\n",
    "dist_arr = np.array(edit_dists_names).reshape(-1,3)\n",
    "dist_arr\n"
   ]
  },
  {
   "cell_type": "code",
   "execution_count": null,
   "id": "4da3d638",
   "metadata": {},
   "outputs": [],
   "source": [
    "f, axs = plt.subplots(len(dist_arr), len(dist_arr[0]), figsize=(17,10))\n",
    "for i in range(len(dist_arr)):\n",
    "    for j in range(len(dist_arr[0])):\n",
    "        sns.kdeplot(data= equiv_outlier_lowcos, x=dist_arr[i,j], shade=1, ax=axs[i][j], legend=True)"
   ]
  },
  {
   "cell_type": "code",
   "execution_count": null,
   "id": "e3c1d4cc",
   "metadata": {},
   "outputs": [],
   "source": []
  },
  {
   "cell_type": "code",
   "execution_count": null,
   "id": "3b62c8e8",
   "metadata": {},
   "outputs": [],
   "source": [
    "equiv_outlier_highcos = equov_outlier.loc[equov_outlier['cos_similarity'] >0.7]"
   ]
  },
  {
   "cell_type": "code",
   "execution_count": null,
   "id": "cbd35898",
   "metadata": {},
   "outputs": [],
   "source": [
    "equiv_outlier_highcos = equiv_outlier_highcos[[*edit_dists_names]]"
   ]
  },
  {
   "cell_type": "code",
   "execution_count": null,
   "id": "12217493",
   "metadata": {},
   "outputs": [],
   "source": [
    "f, axs = plt.subplots(len(dist_arr), len(dist_arr[0]), figsize=(17,10))\n",
    "for i in range(len(dist_arr)):\n",
    "    for j in range(len(dist_arr[0])):\n",
    "        sns.kdeplot(data= equiv_outlier_highcos, x=dist_arr[i,j], shade=1, ax=axs[i][j], legend=True)"
   ]
  },
  {
   "cell_type": "code",
   "execution_count": null,
   "id": "49cfe20d",
   "metadata": {},
   "outputs": [],
   "source": []
  },
  {
   "cell_type": "code",
   "execution_count": null,
   "id": "963481c8",
   "metadata": {},
   "outputs": [],
   "source": []
  },
  {
   "cell_type": "code",
   "execution_count": null,
   "id": "74ac30c7",
   "metadata": {},
   "outputs": [],
   "source": []
  },
  {
   "cell_type": "code",
   "execution_count": null,
   "id": "ced1249a",
   "metadata": {},
   "outputs": [],
   "source": [
    "tokenizer = BertTokenizer.from_pretrained(PRE_TRAINED_MODEL)"
   ]
  },
  {
   "cell_type": "markdown",
   "id": "41f1cc40",
   "metadata": {},
   "source": [
    "# Get the logits for the train from the cnn/dnn for training the logistic regressor after padding to max length and concatenating loan and original word\n"
   ]
  },
  {
   "cell_type": "code",
   "execution_count": 110,
   "id": "872a9eb5",
   "metadata": {},
   "outputs": [],
   "source": [
    "import pandas as pd\n",
    "import numpy as np\n",
    "import matplotlib.pyplot as plt\n",
    "import seaborn as sns\n",
    "import json\n",
    "import panphon\n",
    "import panphon.distance\n",
    "import editdistance # levenshtein\n",
    "import epitran\n",
    "import eng_to_ipa as eng\n",
    "from epitran.backoff import Backoff\n",
    "from googletrans import Translator\n",
    "from sklearn.utils import shuffle\n",
    "from sklearn.linear_model import LogisticRegression\n",
    "epitran.download.cedict()"
   ]
  },
  {
   "cell_type": "code",
   "execution_count": 109,
   "id": "df770af5",
   "metadata": {},
   "outputs": [],
   "source": [
    "import torch\n",
    "import os\n",
    "import numpy as np\n",
    "import pandas as pd\n",
    "from tqdm import tqdm\n",
    "import seaborn as sns\n",
    "from pylab import rcParams\n",
    "import matplotlib.pyplot as plt\n",
    "from matplotlib import rc\n",
    "from sklearn.model_selection import train_test_split\n",
    "from sklearn.metrics import confusion_matrix, classification_report\n",
    "import os\n",
    "import torch\n",
    "from torch import nn\n",
    "from torch import nn, optim\n",
    "\n",
    "import torch.nn.functional as F\n",
    "\n",
    "%matplotlib inline"
   ]
  },
  {
   "cell_type": "code",
   "execution_count": null,
   "id": "082a097d",
   "metadata": {},
   "outputs": [],
   "source": [
    "#get phonetic features using panPhon\n",
    "ft = panphon.FeatureTable()"
   ]
  },
  {
   "cell_type": "code",
   "execution_count": null,
   "id": "f3092ee5",
   "metadata": {},
   "outputs": [],
   "source": [
    "original_df['features_loan'] = original_df.apply(lambda x:ft.word_to_vector_list(x[\"loan_word_epitran\"],numeric=True ), axis=1)\n",
    "original_df['features_orig'] = original_df.apply(lambda x:ft.word_to_vector_list(x[\"original_word_epitran\"],numeric=True ), axis=1)"
   ]
  },
  {
   "cell_type": "code",
   "execution_count": null,
   "id": "be6ed3f8",
   "metadata": {},
   "outputs": [],
   "source": [
    "original_df"
   ]
  },
  {
   "cell_type": "code",
   "execution_count": null,
   "id": "ed85e8b3",
   "metadata": {},
   "outputs": [],
   "source": [
    "#make a flat list of the features for both orig and loan words\n",
    "#original_df['features_loan'] = original_df['features_loan'].apply(lambda x:sum(x, []))\n",
    "original_df['features_orig'] = original_df['features_orig'].apply(lambda x:sum(x, []))"
   ]
  },
  {
   "cell_type": "code",
   "execution_count": null,
   "id": "d207c9a9",
   "metadata": {},
   "outputs": [],
   "source": [
    "max_len_loan = original_df.loan_word_epitran.map(lambda x: len(ft.word_to_vector_list(x))).max()\n",
    "max_len_orig = original_df.original_word_epitran.map(lambda x: len(ft.word_to_vector_list(x))).max()"
   ]
  },
  {
   "cell_type": "code",
   "execution_count": null,
   "id": "bf449ba6",
   "metadata": {},
   "outputs": [],
   "source": [
    "max_len_loan, max_len_orig"
   ]
  },
  {
   "cell_type": "code",
   "execution_count": null,
   "id": "7f7ee456",
   "metadata": {},
   "outputs": [],
   "source": [
    "def padarray(A, size):\n",
    "    t = size - len(A)\n",
    "    return np.pad(A, pad_width=(0, t), mode='constant')"
   ]
  },
  {
   "cell_type": "code",
   "execution_count": null,
   "id": "2be5298e",
   "metadata": {},
   "outputs": [],
   "source": [
    "pad_idx_loan = original_df['features_loan'].apply(len)\n",
    "pad_idx_orig = original_df['features_orig'].apply(len)\n",
    "pad_idx_loan = np.array(pad_idx_loan)\n",
    "pad_idx_orig = np.array(pad_idx_orig)"
   ]
  },
  {
   "cell_type": "code",
   "execution_count": null,
   "id": "e25a74c3",
   "metadata": {},
   "outputs": [],
   "source": [
    "pad_idx_loan, pad_idx_orig"
   ]
  },
  {
   "cell_type": "code",
   "execution_count": null,
   "id": "dcba667d",
   "metadata": {},
   "outputs": [],
   "source": [
    "arr_loan = np.asarray(original_df['features_loan'])\n",
    "arr_orig = np.asarray(original_df['features_orig'])\n",
    " "
   ]
  },
  {
   "cell_type": "code",
   "execution_count": null,
   "id": "343491d5",
   "metadata": {},
   "outputs": [],
   "source": [
    "l_loan = []\n",
    "for i in range(len(arr_loan)):\n",
    "    a = padarray(arr_loan[i], max_len_loan*24)\n",
    "    l_loan.append(a)"
   ]
  },
  {
   "cell_type": "code",
   "execution_count": null,
   "id": "cc4e7821",
   "metadata": {},
   "outputs": [],
   "source": [
    "l_orig = []\n",
    "for i in range(len(arr_orig)):\n",
    "    a = padarray(arr_orig[i], max_len_orig*24)\n",
    "    l_orig.append(a)"
   ]
  },
  {
   "cell_type": "code",
   "execution_count": null,
   "id": "d019e912",
   "metadata": {},
   "outputs": [],
   "source": [
    "len(l_orig)"
   ]
  },
  {
   "cell_type": "code",
   "execution_count": null,
   "id": "faa07737",
   "metadata": {},
   "outputs": [],
   "source": [
    "l_comb = np.concatenate((l_loan, l_orig), axis=1)"
   ]
  },
  {
   "cell_type": "code",
   "execution_count": null,
   "id": "bf65308a",
   "metadata": {},
   "outputs": [],
   "source": [
    "l_comb[0:5]"
   ]
  },
  {
   "cell_type": "code",
   "execution_count": null,
   "id": "fc59ebdc",
   "metadata": {},
   "outputs": [],
   "source": [
    "lables = np.array(original_df['label']).reshape((-1,1))\n",
    "lables.shape"
   ]
  },
  {
   "cell_type": "code",
   "execution_count": null,
   "id": "6fa81f14",
   "metadata": {},
   "outputs": [],
   "source": [
    "x = np.append(l_comb, lables, axis=1) "
   ]
  },
  {
   "cell_type": "code",
   "execution_count": null,
   "id": "50c7f70c",
   "metadata": {},
   "outputs": [],
   "source": [
    "x.shape\n",
    "%store x"
   ]
  },
  {
   "cell_type": "code",
   "execution_count": null,
   "id": "28074127",
   "metadata": {},
   "outputs": [],
   "source": [
    "%store -r x"
   ]
  },
  {
   "cell_type": "code",
   "execution_count": null,
   "id": "ecd7db53",
   "metadata": {},
   "outputs": [],
   "source": [
    "device = \"cuda\" if torch.cuda.is_available() else \"cpu\"\n",
    "print(f\"Using {device} device\")"
   ]
  },
  {
   "cell_type": "code",
   "execution_count": null,
   "id": "111deb58",
   "metadata": {},
   "outputs": [],
   "source": [
    "device = 'cpu'"
   ]
  },
  {
   "cell_type": "code",
   "execution_count": null,
   "id": "dd59c873",
   "metadata": {},
   "outputs": [],
   "source": [
    "class NeuralNetwork(nn.Module):\n",
    "    def __init__(self, n_features):\n",
    "        super(NeuralNetwork, self).__init__()\n",
    "        #self.flatten = nn.Flatten()\n",
    "        self.linear_relu_stack = nn.Sequential(\n",
    "            nn.Linear(n_features, 512),\n",
    "            nn.ReLU(),\n",
    "            nn.Linear(512, 512),\n",
    "            nn.ReLU(),\n",
    "            nn.Linear(512, 1),\n",
    "        )\n",
    "\n",
    "    def forward(self, x):\n",
    "        #x = self.flatten(x)\n",
    "        logits = self.linear_relu_stack(x)\n",
    "        \n",
    "        return torch.sigmoid(logits), logits\n",
    "        #return logits"
   ]
  },
  {
   "cell_type": "code",
   "execution_count": null,
   "id": "ae1fd682",
   "metadata": {},
   "outputs": [],
   "source": [
    "X_train = x[:,0:1056]\n",
    "Y_train = x[:,1056].reshape((-1,1))"
   ]
  },
  {
   "cell_type": "code",
   "execution_count": null,
   "id": "7c6c9a6a",
   "metadata": {},
   "outputs": [],
   "source": [
    "X_train.shape, Y_train.shape\n",
    " "
   ]
  },
  {
   "cell_type": "code",
   "execution_count": null,
   "id": "7731dae0",
   "metadata": {},
   "outputs": [],
   "source": [
    "model = NeuralNetwork(X_train.shape[1]).to(device)\n",
    "print(model)"
   ]
  },
  {
   "cell_type": "code",
   "execution_count": null,
   "id": "f30f6172",
   "metadata": {},
   "outputs": [],
   "source": [
    "model"
   ]
  },
  {
   "cell_type": "code",
   "execution_count": null,
   "id": "4cef0e27",
   "metadata": {},
   "outputs": [],
   "source": [
    "criterion = nn.BCELoss().to(device)"
   ]
  },
  {
   "cell_type": "code",
   "execution_count": null,
   "id": "1fb33a0c",
   "metadata": {},
   "outputs": [],
   "source": [
    "optimizer = optim.Adam(model.parameters(), lr=0.001)"
   ]
  },
  {
   "cell_type": "code",
   "execution_count": null,
   "id": "86af15f4",
   "metadata": {},
   "outputs": [],
   "source": [
    "X_train = torch.tensor(X_train).to(device)\n",
    "Y_train = torch.tensor(Y_train).to(device)"
   ]
  },
  {
   "cell_type": "code",
   "execution_count": null,
   "id": "6fc1b179",
   "metadata": {},
   "outputs": [],
   "source": [
    "Y_train"
   ]
  },
  {
   "cell_type": "code",
   "execution_count": null,
   "id": "fee5b6ff",
   "metadata": {},
   "outputs": [],
   "source": [
    "def calculate_accuracy(y_true, y_pred):\n",
    "    predicted = y_pred.ge(.5).view(-1)\n",
    "    return ((y_true == predicted).sum().float() / len(y_true), (y_true == predicted).sum())"
   ]
  },
  {
   "cell_type": "code",
   "execution_count": null,
   "id": "0c38744d",
   "metadata": {},
   "outputs": [],
   "source": [
    "def round_tensor(t, decimal_places=3):\n",
    "    return round(t.item(), decimal_places)"
   ]
  },
  {
   "cell_type": "code",
   "execution_count": null,
   "id": "b8ab5de3",
   "metadata": {},
   "outputs": [],
   "source": [
    "CUDA_LAUNCH_BLOCKING=1"
   ]
  },
  {
   "cell_type": "code",
   "execution_count": null,
   "id": "5b78fd37",
   "metadata": {},
   "outputs": [],
   "source": [
    "#train for 10000 epochs and get the logits \n",
    "test_losses = []\n",
    "train_losses = []\n",
    "test_accur = []\n",
    "train_accur = []\n",
    "logits = []\n",
    "for epoch in range(100):\n",
    "\n",
    "    y_pred = model(X_train.float())[0]\n",
    "    logits = model(X_train.float())[1]\n",
    "    #y_pred = model(X_train) \n",
    "    #print(y_pred)\n",
    "\n",
    "    #y_pred = torch.squeeze(y_pred)\n",
    "    train_loss = criterion(y_pred, Y_train.float())\n",
    "    #train_loss = criterion(y_pred, Y_train)\n",
    "\n",
    "    if epoch % 100 == 0:\n",
    "        #train_acc,_ = calculate_accuracy(Y_train, y_pred)\n",
    "\n",
    "        #y_test_pred = model(X_test.float())\n",
    "        #y_test_pred = torch.squeeze(y_test_pred)\n",
    "         \n",
    "\n",
    "        #test_loss = criterion(y_test_pred, Y_test.float())\n",
    "\n",
    "        #test_acc, total_corr = calculate_accuracy(Y_test, y_test_pred)\n",
    "        #print(total_corr)\n",
    "        \n",
    "#         print(f'''epoch {epoch}Train set - loss: {round_tensor(train_loss)}, accuracy: {round_tensor(train_acc)}Test  set - loss: {round_tensor(test_loss)}, accuracy: {round_tensor(test_acc)}\n",
    "# ''')\n",
    "        print(f'''epoch {epoch}Train set - loss: {round_tensor(train_loss)} ''')\n",
    "        train_losses.append(train_loss)\n",
    "        #test_losses.append(test_loss)\n",
    "        \n",
    "        #test_accur.append(test_acc)\n",
    "        #train_accur.append(train_acc)\n",
    "\n",
    "    optimizer.zero_grad()\n",
    "\n",
    "    train_loss.backward()\n",
    "\n",
    "    optimizer.step()"
   ]
  },
  {
   "cell_type": "code",
   "execution_count": null,
   "id": "c2b93c1e",
   "metadata": {},
   "outputs": [],
   "source": [
    "logits "
   ]
  },
  {
   "cell_type": "code",
   "execution_count": null,
   "id": "7e05dd6b",
   "metadata": {},
   "outputs": [],
   "source": [
    "plt.plot(train_losses)\n",
    " "
   ]
  },
  {
   "cell_type": "code",
   "execution_count": null,
   "id": "833ec232",
   "metadata": {},
   "outputs": [],
   "source": []
  },
  {
   "cell_type": "code",
   "execution_count": null,
   "id": "68010a3b",
   "metadata": {},
   "outputs": [],
   "source": [
    "X = torch.rand(120, 1056, device=device)\n",
    "X"
   ]
  },
  {
   "cell_type": "code",
   "execution_count": null,
   "id": "67c0a9b1",
   "metadata": {},
   "outputs": [],
   "source": [
    "pred_probab = model(X.float())[1]"
   ]
  },
  {
   "cell_type": "code",
   "execution_count": null,
   "id": "f6d86046",
   "metadata": {},
   "outputs": [],
   "source": [
    "pred_probab"
   ]
  },
  {
   "cell_type": "code",
   "execution_count": null,
   "id": "7d81da66",
   "metadata": {},
   "outputs": [],
   "source": []
  }
 ],
 "metadata": {
  "kernelspec": {
   "display_name": "Python 3",
   "language": "python",
   "name": "python3"
  },
  "language_info": {
   "codemirror_mode": {
    "name": "ipython",
    "version": 3
   },
   "file_extension": ".py",
   "mimetype": "text/x-python",
   "name": "python",
   "nbconvert_exporter": "python",
   "pygments_lexer": "ipython3",
   "version": "3.6.8"
  }
 },
 "nbformat": 4,
 "nbformat_minor": 5
}
